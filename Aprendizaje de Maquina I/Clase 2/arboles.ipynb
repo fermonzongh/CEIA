{
 "cells": [
  {
   "cell_type": "markdown",
   "metadata": {},
   "source": [
    "# Modelo de Random Forest"
   ]
  },
  {
   "cell_type": "markdown",
   "metadata": {},
   "source": [
    "La idea de este notebook es presentar un caso de uso del algoritmo de random forest.\n",
    "\n",
    "El dataset fue tomado del National Centers For Eviromental Information https://www.ncdc.noaa.gov/cdo-web/ , y se tomo la idea general para esta notebook de Will Koehrsen [Github](https://github.com/WillKoehrsen/Data-Analysis/tree/master/random_forest_explained).\n",
    "\n",
    "El problema que abordaremos es la predicción de la temperatura máxima 'para mañana' en la ciudad de Seattle utilizando un año de datos meteorológicos.\n",
    "En el dataset contiene un año de temperaturas máximas históricas y las temperaturas de los dos días anteriores. \n",
    "\n",
    "Recordemos que este es un problema de aprendizaje supervisado ya que utilizaremos tanto las características (datos de la ciudad) como la variable target (temperatura) que queremos predecir. Durante el entrenamiento, le pasaremos al modelo de Random Forest tanto las características como los targets y éste debe aprender a asignar los datos a una predicción. Además, se trata de una tarea de regresión porque el valor del objetivo es continuo (a diferencia de las clases discretas de la clasificación). Esto es todo lo que necesitamos, así que empecemos."
   ]
  },
  {
   "cell_type": "markdown",
   "metadata": {},
   "source": [
    "Los siguientes pasos constituyen la base de cualquier flujo de trabajo de aprendizaje automático una vez que tenemos un problema y un modelo:\n",
    "\n",
    "* Plantear la pregunta y determinar los datos necesarios\n",
    "* Adquirir los datos en un formato accesible\n",
    "* Identificar y corregir los puntos de datos/anomalías que faltan, según sea necesario\n",
    "* Preparar los datos para que el modelo pueda ingestarlos\n",
    "* Establecer un modelo de referencia que se pretende superar\n",
    "* Entrenar el modelo con los datos de entrenamiento\n",
    "* Hacer predicciones con los datos de prueba\n",
    "* Compare las predicciones con los targets del conjunto de test conocido y calcular las métricas de rendimiento\n",
    "* Si el rendimiento no es satisfactorio, ajuste el modelo, adquiera más datos o pruebe una técnica de modelado diferente\n",
    "* Interprete el modelo y comunique los resultados de forma visual y numérica"
   ]
  },
  {
   "cell_type": "code",
   "execution_count": 1,
   "metadata": {},
   "outputs": [],
   "source": [
    "import pandas as pd"
   ]
  },
  {
   "cell_type": "code",
   "execution_count": 2,
   "metadata": {},
   "outputs": [
    {
     "data": {
      "text/html": [
       "<div>\n",
       "<style scoped>\n",
       "    .dataframe tbody tr th:only-of-type {\n",
       "        vertical-align: middle;\n",
       "    }\n",
       "\n",
       "    .dataframe tbody tr th {\n",
       "        vertical-align: top;\n",
       "    }\n",
       "\n",
       "    .dataframe thead th {\n",
       "        text-align: right;\n",
       "    }\n",
       "</style>\n",
       "<table border=\"1\" class=\"dataframe\">\n",
       "  <thead>\n",
       "    <tr style=\"text-align: right;\">\n",
       "      <th></th>\n",
       "      <th>year</th>\n",
       "      <th>month</th>\n",
       "      <th>day</th>\n",
       "      <th>week</th>\n",
       "      <th>temp_2</th>\n",
       "      <th>temp_1</th>\n",
       "      <th>average</th>\n",
       "      <th>actual</th>\n",
       "    </tr>\n",
       "  </thead>\n",
       "  <tbody>\n",
       "    <tr>\n",
       "      <th>0</th>\n",
       "      <td>2016</td>\n",
       "      <td>1</td>\n",
       "      <td>1</td>\n",
       "      <td>Fri</td>\n",
       "      <td>45</td>\n",
       "      <td>45</td>\n",
       "      <td>45.6</td>\n",
       "      <td>45</td>\n",
       "    </tr>\n",
       "    <tr>\n",
       "      <th>1</th>\n",
       "      <td>2016</td>\n",
       "      <td>1</td>\n",
       "      <td>2</td>\n",
       "      <td>Sat</td>\n",
       "      <td>44</td>\n",
       "      <td>45</td>\n",
       "      <td>45.7</td>\n",
       "      <td>44</td>\n",
       "    </tr>\n",
       "    <tr>\n",
       "      <th>2</th>\n",
       "      <td>2016</td>\n",
       "      <td>1</td>\n",
       "      <td>3</td>\n",
       "      <td>Sun</td>\n",
       "      <td>45</td>\n",
       "      <td>44</td>\n",
       "      <td>45.8</td>\n",
       "      <td>41</td>\n",
       "    </tr>\n",
       "    <tr>\n",
       "      <th>3</th>\n",
       "      <td>2016</td>\n",
       "      <td>1</td>\n",
       "      <td>4</td>\n",
       "      <td>Mon</td>\n",
       "      <td>44</td>\n",
       "      <td>41</td>\n",
       "      <td>45.9</td>\n",
       "      <td>40</td>\n",
       "    </tr>\n",
       "    <tr>\n",
       "      <th>4</th>\n",
       "      <td>2016</td>\n",
       "      <td>1</td>\n",
       "      <td>5</td>\n",
       "      <td>Tues</td>\n",
       "      <td>41</td>\n",
       "      <td>40</td>\n",
       "      <td>46.0</td>\n",
       "      <td>44</td>\n",
       "    </tr>\n",
       "  </tbody>\n",
       "</table>\n",
       "</div>"
      ],
      "text/plain": [
       "   year  month  day  week  temp_2  temp_1  average  actual\n",
       "0  2016      1    1   Fri      45      45     45.6      45\n",
       "1  2016      1    2   Sat      44      45     45.7      44\n",
       "2  2016      1    3   Sun      45      44     45.8      41\n",
       "3  2016      1    4   Mon      44      41     45.9      40\n",
       "4  2016      1    5  Tues      41      40     46.0      44"
      ]
     },
     "execution_count": 2,
     "metadata": {},
     "output_type": "execute_result"
    }
   ],
   "source": [
    "df = pd.read_csv('temps.csv')\n",
    "df.drop(columns=['forecast_noaa','forecast_acc'\t,'forecast_under','friend'], axis=1, inplace=True)\n",
    "df.head(5)"
   ]
  },
  {
   "cell_type": "code",
   "execution_count": 3,
   "metadata": {},
   "outputs": [
    {
     "data": {
      "text/plain": [
       "Index(['year', 'month', 'day', 'week', 'temp_2', 'temp_1', 'average',\n",
       "       'actual'],\n",
       "      dtype='object')"
      ]
     },
     "execution_count": 3,
     "metadata": {},
     "output_type": "execute_result"
    }
   ],
   "source": [
    "df.columns"
   ]
  },
  {
   "cell_type": "code",
   "execution_count": 4,
   "metadata": {},
   "outputs": [
    {
     "data": {
      "text/plain": [
       "year         int64\n",
       "month        int64\n",
       "day          int64\n",
       "week        object\n",
       "temp_2       int64\n",
       "temp_1       int64\n",
       "average    float64\n",
       "actual       int64\n",
       "dtype: object"
      ]
     },
     "execution_count": 4,
     "metadata": {},
     "output_type": "execute_result"
    }
   ],
   "source": [
    "df.dtypes"
   ]
  },
  {
   "cell_type": "markdown",
   "metadata": {},
   "source": [
    "Las columnas que utilizaremos son las siguientes: \n",
    "\n",
    "* year:  2016 para todos los puntos de datos\n",
    "\n",
    "* month: número para el mes del año\n",
    "\n",
    "* day: número para el día del año\n",
    "\n",
    "* week: día de la semana como cadena de caracteres\n",
    "\n",
    "* temp_2: temperatura máxima 2 días antes\n",
    "\n",
    "* temp_1: temperatura máxima de 1 día antes\n",
    "\n",
    "* average: temperatura máxima media histórica\n",
    "\n",
    "* actual: medición de la temperatura máxima"
   ]
  },
  {
   "cell_type": "markdown",
   "metadata": {},
   "source": [
    "Hagamos un describe para ver si tenemos algun valor anómalo en la data"
   ]
  },
  {
   "cell_type": "markdown",
   "metadata": {},
   "source": [
    "Cambiemos de unidades la temperatura de fahrenheit a celsius para esto creemos una función."
   ]
  },
  {
   "cell_type": "code",
   "execution_count": 5,
   "metadata": {},
   "outputs": [],
   "source": [
    "def f(x):\n",
    "    x = (x  - 32)/1.8\n",
    "    return round(float(x),2)"
   ]
  },
  {
   "cell_type": "code",
   "execution_count": 6,
   "metadata": {},
   "outputs": [],
   "source": [
    "df['temp_2'] = df['temp_2'].apply(f)\n",
    "df['temp_1'] = df['temp_1'].apply(f)\n",
    "df['average'] = df['average'].apply(f)\n",
    "df['actual'] = df['actual'].apply(f)"
   ]
  },
  {
   "cell_type": "code",
   "execution_count": 7,
   "metadata": {},
   "outputs": [
    {
     "data": {
      "text/html": [
       "<div>\n",
       "<style scoped>\n",
       "    .dataframe tbody tr th:only-of-type {\n",
       "        vertical-align: middle;\n",
       "    }\n",
       "\n",
       "    .dataframe tbody tr th {\n",
       "        vertical-align: top;\n",
       "    }\n",
       "\n",
       "    .dataframe thead th {\n",
       "        text-align: right;\n",
       "    }\n",
       "</style>\n",
       "<table border=\"1\" class=\"dataframe\">\n",
       "  <thead>\n",
       "    <tr style=\"text-align: right;\">\n",
       "      <th></th>\n",
       "      <th>year</th>\n",
       "      <th>month</th>\n",
       "      <th>day</th>\n",
       "      <th>temp_2</th>\n",
       "      <th>temp_1</th>\n",
       "      <th>average</th>\n",
       "      <th>actual</th>\n",
       "    </tr>\n",
       "  </thead>\n",
       "  <tbody>\n",
       "    <tr>\n",
       "      <th>count</th>\n",
       "      <td>348.0</td>\n",
       "      <td>348.000000</td>\n",
       "      <td>348.000000</td>\n",
       "      <td>348.000000</td>\n",
       "      <td>348.000000</td>\n",
       "      <td>348.000000</td>\n",
       "      <td>348.000000</td>\n",
       "    </tr>\n",
       "    <tr>\n",
       "      <th>mean</th>\n",
       "      <td>2016.0</td>\n",
       "      <td>6.477011</td>\n",
       "      <td>15.514368</td>\n",
       "      <td>17.029080</td>\n",
       "      <td>17.056207</td>\n",
       "      <td>15.422500</td>\n",
       "      <td>16.968420</td>\n",
       "    </tr>\n",
       "    <tr>\n",
       "      <th>std</th>\n",
       "      <td>0.0</td>\n",
       "      <td>3.498380</td>\n",
       "      <td>8.772982</td>\n",
       "      <td>6.758302</td>\n",
       "      <td>6.733401</td>\n",
       "      <td>5.848529</td>\n",
       "      <td>6.552096</td>\n",
       "    </tr>\n",
       "    <tr>\n",
       "      <th>min</th>\n",
       "      <td>2016.0</td>\n",
       "      <td>1.000000</td>\n",
       "      <td>1.000000</td>\n",
       "      <td>1.670000</td>\n",
       "      <td>1.670000</td>\n",
       "      <td>7.280000</td>\n",
       "      <td>1.670000</td>\n",
       "    </tr>\n",
       "    <tr>\n",
       "      <th>25%</th>\n",
       "      <td>2016.0</td>\n",
       "      <td>3.000000</td>\n",
       "      <td>8.000000</td>\n",
       "      <td>12.220000</td>\n",
       "      <td>12.220000</td>\n",
       "      <td>9.985000</td>\n",
       "      <td>12.220000</td>\n",
       "    </tr>\n",
       "    <tr>\n",
       "      <th>50%</th>\n",
       "      <td>2016.0</td>\n",
       "      <td>6.000000</td>\n",
       "      <td>15.000000</td>\n",
       "      <td>16.945000</td>\n",
       "      <td>16.945000</td>\n",
       "      <td>14.555000</td>\n",
       "      <td>16.945000</td>\n",
       "    </tr>\n",
       "    <tr>\n",
       "      <th>75%</th>\n",
       "      <td>2016.0</td>\n",
       "      <td>10.000000</td>\n",
       "      <td>23.000000</td>\n",
       "      <td>21.670000</td>\n",
       "      <td>21.670000</td>\n",
       "      <td>20.572500</td>\n",
       "      <td>21.670000</td>\n",
       "    </tr>\n",
       "    <tr>\n",
       "      <th>max</th>\n",
       "      <td>2016.0</td>\n",
       "      <td>12.000000</td>\n",
       "      <td>31.000000</td>\n",
       "      <td>47.220000</td>\n",
       "      <td>47.220000</td>\n",
       "      <td>25.220000</td>\n",
       "      <td>33.330000</td>\n",
       "    </tr>\n",
       "  </tbody>\n",
       "</table>\n",
       "</div>"
      ],
      "text/plain": [
       "         year       month         day      temp_2      temp_1     average  \\\n",
       "count   348.0  348.000000  348.000000  348.000000  348.000000  348.000000   \n",
       "mean   2016.0    6.477011   15.514368   17.029080   17.056207   15.422500   \n",
       "std       0.0    3.498380    8.772982    6.758302    6.733401    5.848529   \n",
       "min    2016.0    1.000000    1.000000    1.670000    1.670000    7.280000   \n",
       "25%    2016.0    3.000000    8.000000   12.220000   12.220000    9.985000   \n",
       "50%    2016.0    6.000000   15.000000   16.945000   16.945000   14.555000   \n",
       "75%    2016.0   10.000000   23.000000   21.670000   21.670000   20.572500   \n",
       "max    2016.0   12.000000   31.000000   47.220000   47.220000   25.220000   \n",
       "\n",
       "           actual  \n",
       "count  348.000000  \n",
       "mean    16.968420  \n",
       "std      6.552096  \n",
       "min      1.670000  \n",
       "25%     12.220000  \n",
       "50%     16.945000  \n",
       "75%     21.670000  \n",
       "max     33.330000  "
      ]
     },
     "execution_count": 7,
     "metadata": {},
     "output_type": "execute_result"
    }
   ],
   "source": [
    "df.describe()"
   ]
  },
  {
   "cell_type": "markdown",
   "metadata": {},
   "source": [
    "No hay puntos de datos que aparezcan inmediatamente como anómalos y no hay ceros en ninguna de las columnas de medición. Otro método para verificar la calidad de los datos es hacer gráficos básicos. A menudo es más fácil detectar anomalías utilizando gráficos."
   ]
  },
  {
   "cell_type": "code",
   "execution_count": 8,
   "metadata": {},
   "outputs": [
    {
     "data": {
      "text/plain": [
       "<AxesSubplot:>"
      ]
     },
     "execution_count": 8,
     "metadata": {},
     "output_type": "execute_result"
    },
    {
     "data": {
      "image/png": "[encoded data removed]",
      "text/plain": [
       "<Figure size 432x288 with 1 Axes>"
      ]
     },
     "metadata": {
      "needs_background": "light"
     },
     "output_type": "display_data"
    }
   ],
   "source": [
    "df.plot(kind='line', y='average')"
   ]
  },
  {
   "cell_type": "code",
   "execution_count": 9,
   "metadata": {},
   "outputs": [
    {
     "data": {
      "text/plain": [
       "<AxesSubplot:>"
      ]
     },
     "execution_count": 9,
     "metadata": {},
     "output_type": "execute_result"
    },
    {
     "data": {
      "image/png": "[encoded data removed]",
      "text/plain": [
       "<Figure size 432x288 with 1 Axes>"
      ]
     },
     "metadata": {
      "needs_background": "light"
     },
     "output_type": "display_data"
    }
   ],
   "source": [
    "df.plot(kind='line', y='actual')"
   ]
  },
  {
   "cell_type": "code",
   "execution_count": 10,
   "metadata": {},
   "outputs": [
    {
     "data": {
      "text/plain": [
       "<AxesSubplot:>"
      ]
     },
     "execution_count": 10,
     "metadata": {},
     "output_type": "execute_result"
    },
    {
     "data": {
      "image/png": "[encoded data removed]",
      "text/plain": [
       "<Figure size 432x288 with 1 Axes>"
      ]
     },
     "metadata": {
      "needs_background": "light"
     },
     "output_type": "display_data"
    }
   ],
   "source": [
    "df.plot(kind='line', y='temp_2')"
   ]
  },
  {
   "cell_type": "code",
   "execution_count": 11,
   "metadata": {},
   "outputs": [
    {
     "data": {
      "text/plain": [
       "<AxesSubplot:>"
      ]
     },
     "execution_count": 11,
     "metadata": {},
     "output_type": "execute_result"
    },
    {
     "data": {
      "image/png": "[encoded data removed]",
      "text/plain": [
       "<Figure size 432x288 with 1 Axes>"
      ]
     },
     "metadata": {
      "needs_background": "light"
     },
     "output_type": "display_data"
    }
   ],
   "source": [
    "df.plot(kind='line', y='temp_1')"
   ]
  },
  {
   "cell_type": "markdown",
   "metadata": {},
   "source": [
    "Al examinar las estadísticas cuantitativas y los gráficos, podemos confiar en la alta calidad de nuestros datos. No hay valores atípicos claros y, aunque faltan algunos puntos, no desvirtúan el análisis."
   ]
  },
  {
   "cell_type": "markdown",
   "metadata": {},
   "source": [
    "La idea ahora es utilizar one-hot encoding. Este proceso toma variables categóricas, como los días de la semana, y las convierte en una representación numérica. Podríamos simplemente asignar los días de la semana a los números del 1 al 7, pero esto podría llevar al algoritmo a dar más importancia al domingo porque tiene un valor numérico más alto. En su lugar, cambiamos la única columna de días de la semana por siete columnas de datos binarios."
   ]
  },
  {
   "cell_type": "code",
   "execution_count": 12,
   "metadata": {},
   "outputs": [
    {
     "data": {
      "text/html": [
       "<div>\n",
       "<style scoped>\n",
       "    .dataframe tbody tr th:only-of-type {\n",
       "        vertical-align: middle;\n",
       "    }\n",
       "\n",
       "    .dataframe tbody tr th {\n",
       "        vertical-align: top;\n",
       "    }\n",
       "\n",
       "    .dataframe thead th {\n",
       "        text-align: right;\n",
       "    }\n",
       "</style>\n",
       "<table border=\"1\" class=\"dataframe\">\n",
       "  <thead>\n",
       "    <tr style=\"text-align: right;\">\n",
       "      <th></th>\n",
       "      <th>average</th>\n",
       "      <th>actual</th>\n",
       "      <th>week_Fri</th>\n",
       "      <th>week_Mon</th>\n",
       "      <th>week_Sat</th>\n",
       "      <th>week_Sun</th>\n",
       "      <th>week_Thurs</th>\n",
       "      <th>week_Tues</th>\n",
       "      <th>week_Wed</th>\n",
       "    </tr>\n",
       "  </thead>\n",
       "  <tbody>\n",
       "    <tr>\n",
       "      <th>0</th>\n",
       "      <td>7.56</td>\n",
       "      <td>7.22</td>\n",
       "      <td>1</td>\n",
       "      <td>0</td>\n",
       "      <td>0</td>\n",
       "      <td>0</td>\n",
       "      <td>0</td>\n",
       "      <td>0</td>\n",
       "      <td>0</td>\n",
       "    </tr>\n",
       "    <tr>\n",
       "      <th>1</th>\n",
       "      <td>7.61</td>\n",
       "      <td>6.67</td>\n",
       "      <td>0</td>\n",
       "      <td>0</td>\n",
       "      <td>1</td>\n",
       "      <td>0</td>\n",
       "      <td>0</td>\n",
       "      <td>0</td>\n",
       "      <td>0</td>\n",
       "    </tr>\n",
       "    <tr>\n",
       "      <th>2</th>\n",
       "      <td>7.67</td>\n",
       "      <td>5.00</td>\n",
       "      <td>0</td>\n",
       "      <td>0</td>\n",
       "      <td>0</td>\n",
       "      <td>1</td>\n",
       "      <td>0</td>\n",
       "      <td>0</td>\n",
       "      <td>0</td>\n",
       "    </tr>\n",
       "    <tr>\n",
       "      <th>3</th>\n",
       "      <td>7.72</td>\n",
       "      <td>4.44</td>\n",
       "      <td>0</td>\n",
       "      <td>1</td>\n",
       "      <td>0</td>\n",
       "      <td>0</td>\n",
       "      <td>0</td>\n",
       "      <td>0</td>\n",
       "      <td>0</td>\n",
       "    </tr>\n",
       "    <tr>\n",
       "      <th>4</th>\n",
       "      <td>7.78</td>\n",
       "      <td>6.67</td>\n",
       "      <td>0</td>\n",
       "      <td>0</td>\n",
       "      <td>0</td>\n",
       "      <td>0</td>\n",
       "      <td>0</td>\n",
       "      <td>1</td>\n",
       "      <td>0</td>\n",
       "    </tr>\n",
       "  </tbody>\n",
       "</table>\n",
       "</div>"
      ],
      "text/plain": [
       "   average  actual  week_Fri  week_Mon  week_Sat  week_Sun  week_Thurs  \\\n",
       "0     7.56    7.22         1         0         0         0           0   \n",
       "1     7.61    6.67         0         0         1         0           0   \n",
       "2     7.67    5.00         0         0         0         1           0   \n",
       "3     7.72    4.44         0         1         0         0           0   \n",
       "4     7.78    6.67         0         0         0         0           0   \n",
       "\n",
       "   week_Tues  week_Wed  \n",
       "0          0         0  \n",
       "1          0         0  \n",
       "2          0         0  \n",
       "3          0         0  \n",
       "4          1         0  "
      ]
     },
     "execution_count": 12,
     "metadata": {},
     "output_type": "execute_result"
    }
   ],
   "source": [
    "# One-hot encode the data using pandas get_dummies\n",
    "df = pd.get_dummies(df)# Display the first 5 rows of the last 12 columns\n",
    "df.iloc[:,5:].head(5)"
   ]
  },
  {
   "cell_type": "code",
   "execution_count": 13,
   "metadata": {},
   "outputs": [
    {
     "data": {
      "text/html": [
       "<div>\n",
       "<style scoped>\n",
       "    .dataframe tbody tr th:only-of-type {\n",
       "        vertical-align: middle;\n",
       "    }\n",
       "\n",
       "    .dataframe tbody tr th {\n",
       "        vertical-align: top;\n",
       "    }\n",
       "\n",
       "    .dataframe thead th {\n",
       "        text-align: right;\n",
       "    }\n",
       "</style>\n",
       "<table border=\"1\" class=\"dataframe\">\n",
       "  <thead>\n",
       "    <tr style=\"text-align: right;\">\n",
       "      <th></th>\n",
       "      <th>year</th>\n",
       "      <th>month</th>\n",
       "      <th>day</th>\n",
       "      <th>temp_2</th>\n",
       "      <th>temp_1</th>\n",
       "      <th>average</th>\n",
       "      <th>actual</th>\n",
       "      <th>week_Fri</th>\n",
       "      <th>week_Mon</th>\n",
       "      <th>week_Sat</th>\n",
       "      <th>week_Sun</th>\n",
       "      <th>week_Thurs</th>\n",
       "      <th>week_Tues</th>\n",
       "      <th>week_Wed</th>\n",
       "    </tr>\n",
       "  </thead>\n",
       "  <tbody>\n",
       "    <tr>\n",
       "      <th>0</th>\n",
       "      <td>2016</td>\n",
       "      <td>1</td>\n",
       "      <td>1</td>\n",
       "      <td>7.22</td>\n",
       "      <td>7.22</td>\n",
       "      <td>7.56</td>\n",
       "      <td>7.22</td>\n",
       "      <td>1</td>\n",
       "      <td>0</td>\n",
       "      <td>0</td>\n",
       "      <td>0</td>\n",
       "      <td>0</td>\n",
       "      <td>0</td>\n",
       "      <td>0</td>\n",
       "    </tr>\n",
       "    <tr>\n",
       "      <th>1</th>\n",
       "      <td>2016</td>\n",
       "      <td>1</td>\n",
       "      <td>2</td>\n",
       "      <td>6.67</td>\n",
       "      <td>7.22</td>\n",
       "      <td>7.61</td>\n",
       "      <td>6.67</td>\n",
       "      <td>0</td>\n",
       "      <td>0</td>\n",
       "      <td>1</td>\n",
       "      <td>0</td>\n",
       "      <td>0</td>\n",
       "      <td>0</td>\n",
       "      <td>0</td>\n",
       "    </tr>\n",
       "    <tr>\n",
       "      <th>2</th>\n",
       "      <td>2016</td>\n",
       "      <td>1</td>\n",
       "      <td>3</td>\n",
       "      <td>7.22</td>\n",
       "      <td>6.67</td>\n",
       "      <td>7.67</td>\n",
       "      <td>5.00</td>\n",
       "      <td>0</td>\n",
       "      <td>0</td>\n",
       "      <td>0</td>\n",
       "      <td>1</td>\n",
       "      <td>0</td>\n",
       "      <td>0</td>\n",
       "      <td>0</td>\n",
       "    </tr>\n",
       "    <tr>\n",
       "      <th>3</th>\n",
       "      <td>2016</td>\n",
       "      <td>1</td>\n",
       "      <td>4</td>\n",
       "      <td>6.67</td>\n",
       "      <td>5.00</td>\n",
       "      <td>7.72</td>\n",
       "      <td>4.44</td>\n",
       "      <td>0</td>\n",
       "      <td>1</td>\n",
       "      <td>0</td>\n",
       "      <td>0</td>\n",
       "      <td>0</td>\n",
       "      <td>0</td>\n",
       "      <td>0</td>\n",
       "    </tr>\n",
       "    <tr>\n",
       "      <th>4</th>\n",
       "      <td>2016</td>\n",
       "      <td>1</td>\n",
       "      <td>5</td>\n",
       "      <td>5.00</td>\n",
       "      <td>4.44</td>\n",
       "      <td>7.78</td>\n",
       "      <td>6.67</td>\n",
       "      <td>0</td>\n",
       "      <td>0</td>\n",
       "      <td>0</td>\n",
       "      <td>0</td>\n",
       "      <td>0</td>\n",
       "      <td>1</td>\n",
       "      <td>0</td>\n",
       "    </tr>\n",
       "    <tr>\n",
       "      <th>...</th>\n",
       "      <td>...</td>\n",
       "      <td>...</td>\n",
       "      <td>...</td>\n",
       "      <td>...</td>\n",
       "      <td>...</td>\n",
       "      <td>...</td>\n",
       "      <td>...</td>\n",
       "      <td>...</td>\n",
       "      <td>...</td>\n",
       "      <td>...</td>\n",
       "      <td>...</td>\n",
       "      <td>...</td>\n",
       "      <td>...</td>\n",
       "      <td>...</td>\n",
       "    </tr>\n",
       "    <tr>\n",
       "      <th>343</th>\n",
       "      <td>2016</td>\n",
       "      <td>12</td>\n",
       "      <td>27</td>\n",
       "      <td>5.56</td>\n",
       "      <td>5.56</td>\n",
       "      <td>7.33</td>\n",
       "      <td>8.33</td>\n",
       "      <td>0</td>\n",
       "      <td>0</td>\n",
       "      <td>0</td>\n",
       "      <td>0</td>\n",
       "      <td>0</td>\n",
       "      <td>1</td>\n",
       "      <td>0</td>\n",
       "    </tr>\n",
       "    <tr>\n",
       "      <th>344</th>\n",
       "      <td>2016</td>\n",
       "      <td>12</td>\n",
       "      <td>28</td>\n",
       "      <td>5.56</td>\n",
       "      <td>8.33</td>\n",
       "      <td>7.39</td>\n",
       "      <td>8.89</td>\n",
       "      <td>0</td>\n",
       "      <td>0</td>\n",
       "      <td>0</td>\n",
       "      <td>0</td>\n",
       "      <td>0</td>\n",
       "      <td>0</td>\n",
       "      <td>1</td>\n",
       "    </tr>\n",
       "    <tr>\n",
       "      <th>345</th>\n",
       "      <td>2016</td>\n",
       "      <td>12</td>\n",
       "      <td>29</td>\n",
       "      <td>8.33</td>\n",
       "      <td>8.89</td>\n",
       "      <td>7.39</td>\n",
       "      <td>8.89</td>\n",
       "      <td>0</td>\n",
       "      <td>0</td>\n",
       "      <td>0</td>\n",
       "      <td>0</td>\n",
       "      <td>1</td>\n",
       "      <td>0</td>\n",
       "      <td>0</td>\n",
       "    </tr>\n",
       "    <tr>\n",
       "      <th>346</th>\n",
       "      <td>2016</td>\n",
       "      <td>12</td>\n",
       "      <td>30</td>\n",
       "      <td>8.89</td>\n",
       "      <td>8.89</td>\n",
       "      <td>7.44</td>\n",
       "      <td>13.89</td>\n",
       "      <td>1</td>\n",
       "      <td>0</td>\n",
       "      <td>0</td>\n",
       "      <td>0</td>\n",
       "      <td>0</td>\n",
       "      <td>0</td>\n",
       "      <td>0</td>\n",
       "    </tr>\n",
       "    <tr>\n",
       "      <th>347</th>\n",
       "      <td>2016</td>\n",
       "      <td>12</td>\n",
       "      <td>31</td>\n",
       "      <td>8.89</td>\n",
       "      <td>13.89</td>\n",
       "      <td>7.50</td>\n",
       "      <td>4.44</td>\n",
       "      <td>0</td>\n",
       "      <td>0</td>\n",
       "      <td>1</td>\n",
       "      <td>0</td>\n",
       "      <td>0</td>\n",
       "      <td>0</td>\n",
       "      <td>0</td>\n",
       "    </tr>\n",
       "  </tbody>\n",
       "</table>\n",
       "<p>348 rows × 14 columns</p>\n",
       "</div>"
      ],
      "text/plain": [
       "     year  month  day  temp_2  temp_1  average  actual  week_Fri  week_Mon  \\\n",
       "0    2016      1    1    7.22    7.22     7.56    7.22         1         0   \n",
       "1    2016      1    2    6.67    7.22     7.61    6.67         0         0   \n",
       "2    2016      1    3    7.22    6.67     7.67    5.00         0         0   \n",
       "3    2016      1    4    6.67    5.00     7.72    4.44         0         1   \n",
       "4    2016      1    5    5.00    4.44     7.78    6.67         0         0   \n",
       "..    ...    ...  ...     ...     ...      ...     ...       ...       ...   \n",
       "343  2016     12   27    5.56    5.56     7.33    8.33         0         0   \n",
       "344  2016     12   28    5.56    8.33     7.39    8.89         0         0   \n",
       "345  2016     12   29    8.33    8.89     7.39    8.89         0         0   \n",
       "346  2016     12   30    8.89    8.89     7.44   13.89         1         0   \n",
       "347  2016     12   31    8.89   13.89     7.50    4.44         0         0   \n",
       "\n",
       "     week_Sat  week_Sun  week_Thurs  week_Tues  week_Wed  \n",
       "0           0         0           0          0         0  \n",
       "1           1         0           0          0         0  \n",
       "2           0         1           0          0         0  \n",
       "3           0         0           0          0         0  \n",
       "4           0         0           0          1         0  \n",
       "..        ...       ...         ...        ...       ...  \n",
       "343         0         0           0          1         0  \n",
       "344         0         0           0          0         1  \n",
       "345         0         0           1          0         0  \n",
       "346         0         0           0          0         0  \n",
       "347         1         0           0          0         0  \n",
       "\n",
       "[348 rows x 14 columns]"
      ]
     },
     "execution_count": 13,
     "metadata": {},
     "output_type": "execute_result"
    }
   ],
   "source": [
    "df"
   ]
  },
  {
   "cell_type": "code",
   "execution_count": 14,
   "metadata": {},
   "outputs": [],
   "source": [
    "# Usar numpy para convertir en arrays\n",
    "import numpy as np"
   ]
  },
  {
   "cell_type": "code",
   "execution_count": 15,
   "metadata": {},
   "outputs": [],
   "source": [
    "labels = np.array(df['actual'])# Eliminar la variable objetivo de las features\n",
    "# el eje 1 se refiere a las columnas\n",
    "df= df.drop('actual', axis = 1)\n",
    "# Guardar los nombres de las características para su uso posterior\n",
    "df_list = list(df.columns)\n",
    "# Convertir a numpy\n",
    "df = np.array(df)"
   ]
  },
  {
   "cell_type": "code",
   "execution_count": 16,
   "metadata": {},
   "outputs": [],
   "source": [
    "# Usando Skicit-learn para dividir los datos en conjuntos de entrenamiento y de prueba\n",
    "from sklearn.model_selection import train_test_split"
   ]
  },
  {
   "cell_type": "code",
   "execution_count": 17,
   "metadata": {},
   "outputs": [],
   "source": [
    "# Dividir los datos en conjuntos de entrenamiento y de prueba\n",
    "train_features, test_features, train_labels, test_labels = train_test_split(df, labels, test_size = 0.25, random_state = 23)"
   ]
  },
  {
   "cell_type": "code",
   "execution_count": 18,
   "metadata": {},
   "outputs": [
    {
     "name": "stdout",
     "output_type": "stream",
     "text": [
      "Training Features Shape: (261, 13)\n",
      "Training Labels Shape: (261,)\n",
      "Testing Features Shape: (87, 13)\n",
      "Testing Labels Shape: (87,)\n"
     ]
    }
   ],
   "source": [
    "print('Training Features Shape:', train_features.shape)\n",
    "print('Training Labels Shape:', train_labels.shape)\n",
    "print('Testing Features Shape:', test_features.shape)\n",
    "print('Testing Labels Shape:', test_labels.shape)"
   ]
  },
  {
   "cell_type": "code",
   "execution_count": 19,
   "metadata": {},
   "outputs": [
    {
     "name": "stdout",
     "output_type": "stream",
     "text": [
      "Average baseline error:  2.65 grados.\n"
     ]
    }
   ],
   "source": [
    "# Las predicciones de referencia (baseline) son las medias históricas\n",
    "baseline_preds = test_features[:, df_list.index('average')]\n",
    "baseline_errors = abs(baseline_preds - test_labels)\n",
    "print('Average baseline error: ', round(np.mean(baseline_errors), 2), 'grados.')"
   ]
  },
  {
   "cell_type": "markdown",
   "metadata": {},
   "source": [
    "Ya tenemos nuestro objetivo. Si no podemos superar un error medio de 2.65 grados, tendremos que replantearnos nuestro enfoque."
   ]
  },
  {
   "cell_type": "code",
   "execution_count": 20,
   "metadata": {},
   "outputs": [],
   "source": [
    "from sklearn.ensemble import RandomForestRegressor"
   ]
  },
  {
   "cell_type": "code",
   "execution_count": 21,
   "metadata": {},
   "outputs": [],
   "source": [
    "# Instanciamos el modelo con 100 árboles de decisión\n",
    "rf = RandomForestRegressor(n_estimators = 100, random_state = 23)\n",
    "# Entrenamos el modelo con los datos de entrenamiento\n",
    "rf.fit(train_features, train_labels);"
   ]
  },
  {
   "cell_type": "code",
   "execution_count": 22,
   "metadata": {},
   "outputs": [
    {
     "name": "stdout",
     "output_type": "stream",
     "text": [
      "Error absoluto medio: 2.11 grados.\n"
     ]
    }
   ],
   "source": [
    "# Utilizamos el método de predicción en los datos de prueba\n",
    "predicciones = rf.predict(test_features)\n",
    "\n",
    "# Calcular los errores absolutos\n",
    "errores = abs(predicciones - test_labels)\n",
    "\n",
    "# Imprime el error absoluto medio (mae)\n",
    "print('Error absoluto medio:', round(np.mean(errores), 2), 'grados.')"
   ]
  },
  {
   "cell_type": "markdown",
   "metadata": {},
   "source": [
    "* Podrian modificar el rf de alguna manera para mejorar la performance del modelo ?"
   ]
  },
  {
   "cell_type": "code",
   "execution_count": 23,
   "metadata": {},
   "outputs": [
    {
     "data": {
      "text/plain": [
       "0.20377358490566044"
      ]
     },
     "execution_count": 23,
     "metadata": {},
     "output_type": "execute_result"
    }
   ],
   "source": [
    "1-2.11/2.65"
   ]
  },
  {
   "cell_type": "markdown",
   "metadata": {},
   "source": [
    " Aunque no parezca significativo, este modelo es casi un 20% mejor que , lo que, nuestro benchmark, y podría representar mucho dinero para una empresa."
   ]
  },
  {
   "cell_type": "code",
   "execution_count": 24,
   "metadata": {},
   "outputs": [
    {
     "name": "stdout",
     "output_type": "stream",
     "text": [
      "Precisión: 83.09 %.\n"
     ]
    }
   ],
   "source": [
    "# Calcular el error medio porcentual absoluto (MAPE)\n",
    "mape = 100 * (errores / test_labels)\n",
    "# Calcular y mostrar la precisión\n",
    "precisión = 100 - np.mean(mape)\n",
    "print('Precisión:', round(precisión, 2), '%.')"
   ]
  },
  {
   "cell_type": "markdown",
   "metadata": {},
   "source": [
    "¡Tiene muy buena pinta! El modelo ha aprendido a predecir la temperatura máxima del día siguiente en Seattle con un 83.09% de precisión. Todavia hay muchas cosas que se pueden hacer para mejorar se les ocurren ?"
   ]
  },
  {
   "cell_type": "markdown",
   "metadata": {},
   "source": [
    "## Interpretación el modelo y presentación de los resultados"
   ]
  },
  {
   "cell_type": "markdown",
   "metadata": {},
   "source": [
    "Una de las partes más interesantes de la implementación de random forest en Sklearn es que podemos examinar cualquiera de los árboles del bosque. Por ejemplo podemos seleccionar un árbol, y guardarlo como una imagen."
   ]
  },
  {
   "cell_type": "code",
   "execution_count": 25,
   "metadata": {},
   "outputs": [],
   "source": [
    "# Import tools needed for visualization\n",
    "from sklearn.tree import export_graphviz\n",
    "import pydot\n"
   ]
  },
  {
   "cell_type": "code",
   "execution_count": 27,
   "metadata": {},
   "outputs": [
    {
     "ename": "FileNotFoundError",
     "evalue": "[WinError 2] \"dot\" not found in path.",
     "output_type": "error",
     "traceback": [
      "\u001b[1;31m---------------------------------------------------------------------------\u001b[0m",
      "\u001b[1;31mFileNotFoundError\u001b[0m                         Traceback (most recent call last)",
      "File \u001b[1;32mc:\\Users\\ThoT\\anaconda3\\envs\\pycaret2\\lib\\site-packages\\pydot.py:1923\u001b[0m, in \u001b[0;36mDot.create\u001b[1;34m(self, prog, format, encoding)\u001b[0m\n\u001b[0;32m   1922\u001b[0m \u001b[39mtry\u001b[39;00m:\n\u001b[1;32m-> 1923\u001b[0m     stdout_data, stderr_data, process \u001b[39m=\u001b[39m call_graphviz(\n\u001b[0;32m   1924\u001b[0m         program\u001b[39m=\u001b[39;49mprog,\n\u001b[0;32m   1925\u001b[0m         arguments\u001b[39m=\u001b[39;49marguments,\n\u001b[0;32m   1926\u001b[0m         working_dir\u001b[39m=\u001b[39;49mtmp_dir,\n\u001b[0;32m   1927\u001b[0m     )\n\u001b[0;32m   1928\u001b[0m \u001b[39mexcept\u001b[39;00m \u001b[39mOSError\u001b[39;00m \u001b[39mas\u001b[39;00m e:\n",
      "File \u001b[1;32mc:\\Users\\ThoT\\anaconda3\\envs\\pycaret2\\lib\\site-packages\\pydot.py:132\u001b[0m, in \u001b[0;36mcall_graphviz\u001b[1;34m(program, arguments, working_dir, **kwargs)\u001b[0m\n\u001b[0;32m    130\u001b[0m program_with_args \u001b[39m=\u001b[39m [program, ] \u001b[39m+\u001b[39m arguments\n\u001b[1;32m--> 132\u001b[0m process \u001b[39m=\u001b[39m subprocess\u001b[39m.\u001b[39;49mPopen(\n\u001b[0;32m    133\u001b[0m     program_with_args,\n\u001b[0;32m    134\u001b[0m     env\u001b[39m=\u001b[39;49menv,\n\u001b[0;32m    135\u001b[0m     cwd\u001b[39m=\u001b[39;49mworking_dir,\n\u001b[0;32m    136\u001b[0m     shell\u001b[39m=\u001b[39;49m\u001b[39mFalse\u001b[39;49;00m,\n\u001b[0;32m    137\u001b[0m     stderr\u001b[39m=\u001b[39;49msubprocess\u001b[39m.\u001b[39;49mPIPE,\n\u001b[0;32m    138\u001b[0m     stdout\u001b[39m=\u001b[39;49msubprocess\u001b[39m.\u001b[39;49mPIPE,\n\u001b[0;32m    139\u001b[0m     \u001b[39m*\u001b[39;49m\u001b[39m*\u001b[39;49mkwargs\n\u001b[0;32m    140\u001b[0m )\n\u001b[0;32m    141\u001b[0m stdout_data, stderr_data \u001b[39m=\u001b[39m process\u001b[39m.\u001b[39mcommunicate()\n",
      "File \u001b[1;32mc:\\Users\\ThoT\\anaconda3\\envs\\pycaret2\\lib\\subprocess.py:858\u001b[0m, in \u001b[0;36mPopen.__init__\u001b[1;34m(self, args, bufsize, executable, stdin, stdout, stderr, preexec_fn, close_fds, shell, cwd, env, universal_newlines, startupinfo, creationflags, restore_signals, start_new_session, pass_fds, encoding, errors, text)\u001b[0m\n\u001b[0;32m    855\u001b[0m             \u001b[39mself\u001b[39m\u001b[39m.\u001b[39mstderr \u001b[39m=\u001b[39m io\u001b[39m.\u001b[39mTextIOWrapper(\u001b[39mself\u001b[39m\u001b[39m.\u001b[39mstderr,\n\u001b[0;32m    856\u001b[0m                     encoding\u001b[39m=\u001b[39mencoding, errors\u001b[39m=\u001b[39merrors)\n\u001b[1;32m--> 858\u001b[0m     \u001b[39mself\u001b[39;49m\u001b[39m.\u001b[39;49m_execute_child(args, executable, preexec_fn, close_fds,\n\u001b[0;32m    859\u001b[0m                         pass_fds, cwd, env,\n\u001b[0;32m    860\u001b[0m                         startupinfo, creationflags, shell,\n\u001b[0;32m    861\u001b[0m                         p2cread, p2cwrite,\n\u001b[0;32m    862\u001b[0m                         c2pread, c2pwrite,\n\u001b[0;32m    863\u001b[0m                         errread, errwrite,\n\u001b[0;32m    864\u001b[0m                         restore_signals, start_new_session)\n\u001b[0;32m    865\u001b[0m \u001b[39mexcept\u001b[39;00m:\n\u001b[0;32m    866\u001b[0m     \u001b[39m# Cleanup if the child failed starting.\u001b[39;00m\n",
      "File \u001b[1;32mc:\\Users\\ThoT\\anaconda3\\envs\\pycaret2\\lib\\subprocess.py:1311\u001b[0m, in \u001b[0;36mPopen._execute_child\u001b[1;34m(self, args, executable, preexec_fn, close_fds, pass_fds, cwd, env, startupinfo, creationflags, shell, p2cread, p2cwrite, c2pread, c2pwrite, errread, errwrite, unused_restore_signals, unused_start_new_session)\u001b[0m\n\u001b[0;32m   1310\u001b[0m \u001b[39mtry\u001b[39;00m:\n\u001b[1;32m-> 1311\u001b[0m     hp, ht, pid, tid \u001b[39m=\u001b[39m _winapi\u001b[39m.\u001b[39;49mCreateProcess(executable, args,\n\u001b[0;32m   1312\u001b[0m                              \u001b[39m# no special security\u001b[39;49;00m\n\u001b[0;32m   1313\u001b[0m                              \u001b[39mNone\u001b[39;49;00m, \u001b[39mNone\u001b[39;49;00m,\n\u001b[0;32m   1314\u001b[0m                              \u001b[39mint\u001b[39;49m(\u001b[39mnot\u001b[39;49;00m close_fds),\n\u001b[0;32m   1315\u001b[0m                              creationflags,\n\u001b[0;32m   1316\u001b[0m                              env,\n\u001b[0;32m   1317\u001b[0m                              cwd,\n\u001b[0;32m   1318\u001b[0m                              startupinfo)\n\u001b[0;32m   1319\u001b[0m \u001b[39mfinally\u001b[39;00m:\n\u001b[0;32m   1320\u001b[0m     \u001b[39m# Child is launched. Close the parent's copy of those pipe\u001b[39;00m\n\u001b[0;32m   1321\u001b[0m     \u001b[39m# handles that only the child should have open.  You need\u001b[39;00m\n\u001b[1;32m   (...)\u001b[0m\n\u001b[0;32m   1324\u001b[0m     \u001b[39m# pipe will not close when the child process exits and the\u001b[39;00m\n\u001b[0;32m   1325\u001b[0m     \u001b[39m# ReadFile will hang.\u001b[39;00m\n",
      "\u001b[1;31mFileNotFoundError\u001b[0m: [WinError 2] The system cannot find the file specified",
      "\nDuring handling of the above exception, another exception occurred:\n",
      "\u001b[1;31mFileNotFoundError\u001b[0m                         Traceback (most recent call last)",
      "\u001b[1;32md:\\aprendizaje_maquina_I\\Clase 2\\arboles.ipynb Cell 41'\u001b[0m in \u001b[0;36m<cell line: 11>\u001b[1;34m()\u001b[0m\n\u001b[0;32m      <a href='vscode-notebook-cell:/d%3A/aprendizaje_maquina_I/Clase%202/arboles.ipynb#ch0000040?line=7'>8</a>\u001b[0m (graph, ) \u001b[39m=\u001b[39m pydot\u001b[39m.\u001b[39mgraph_from_dot_file(\u001b[39m'\u001b[39m\u001b[39mtree.dot\u001b[39m\u001b[39m'\u001b[39m)\n\u001b[0;32m     <a href='vscode-notebook-cell:/d%3A/aprendizaje_maquina_I/Clase%202/arboles.ipynb#ch0000040?line=9'>10</a>\u001b[0m \u001b[39m# Escribir el gráfico en un archivo png\u001b[39;00m\n\u001b[1;32m---> <a href='vscode-notebook-cell:/d%3A/aprendizaje_maquina_I/Clase%202/arboles.ipynb#ch0000040?line=10'>11</a>\u001b[0m graph\u001b[39m.\u001b[39;49mwrite_png(\u001b[39m'\u001b[39;49m\u001b[39mtree.png\u001b[39;49m\u001b[39m'\u001b[39;49m)\n",
      "File \u001b[1;32mc:\\Users\\ThoT\\anaconda3\\envs\\pycaret2\\lib\\site-packages\\pydot.py:1743\u001b[0m, in \u001b[0;36mDot.__init__.<locals>.new_method\u001b[1;34m(path, f, prog, encoding)\u001b[0m\n\u001b[0;32m   1739\u001b[0m \u001b[39mdef\u001b[39;00m \u001b[39mnew_method\u001b[39m(\n\u001b[0;32m   1740\u001b[0m         path, f\u001b[39m=\u001b[39mfrmt, prog\u001b[39m=\u001b[39m\u001b[39mself\u001b[39m\u001b[39m.\u001b[39mprog,\n\u001b[0;32m   1741\u001b[0m         encoding\u001b[39m=\u001b[39m\u001b[39mNone\u001b[39;00m):\n\u001b[0;32m   1742\u001b[0m     \u001b[39m\"\"\"Refer to docstring of method `write.`\"\"\"\u001b[39;00m\n\u001b[1;32m-> 1743\u001b[0m     \u001b[39mself\u001b[39;49m\u001b[39m.\u001b[39;49mwrite(\n\u001b[0;32m   1744\u001b[0m         path, \u001b[39mformat\u001b[39;49m\u001b[39m=\u001b[39;49mf, prog\u001b[39m=\u001b[39;49mprog,\n\u001b[0;32m   1745\u001b[0m         encoding\u001b[39m=\u001b[39;49mencoding)\n",
      "File \u001b[1;32mc:\\Users\\ThoT\\anaconda3\\envs\\pycaret2\\lib\\site-packages\\pydot.py:1828\u001b[0m, in \u001b[0;36mDot.write\u001b[1;34m(self, path, prog, format, encoding)\u001b[0m\n\u001b[0;32m   1826\u001b[0m         f\u001b[39m.\u001b[39mwrite(s)\n\u001b[0;32m   1827\u001b[0m \u001b[39melse\u001b[39;00m:\n\u001b[1;32m-> 1828\u001b[0m     s \u001b[39m=\u001b[39m \u001b[39mself\u001b[39;49m\u001b[39m.\u001b[39;49mcreate(prog, \u001b[39mformat\u001b[39;49m, encoding\u001b[39m=\u001b[39;49mencoding)\n\u001b[0;32m   1829\u001b[0m     \u001b[39mwith\u001b[39;00m io\u001b[39m.\u001b[39mopen(path, mode\u001b[39m=\u001b[39m\u001b[39m'\u001b[39m\u001b[39mwb\u001b[39m\u001b[39m'\u001b[39m) \u001b[39mas\u001b[39;00m f:\n\u001b[0;32m   1830\u001b[0m         f\u001b[39m.\u001b[39mwrite(s)\n",
      "File \u001b[1;32mc:\\Users\\ThoT\\anaconda3\\envs\\pycaret2\\lib\\site-packages\\pydot.py:1933\u001b[0m, in \u001b[0;36mDot.create\u001b[1;34m(self, prog, format, encoding)\u001b[0m\n\u001b[0;32m   1930\u001b[0m     args \u001b[39m=\u001b[39m \u001b[39mlist\u001b[39m(e\u001b[39m.\u001b[39margs)\n\u001b[0;32m   1931\u001b[0m     args[\u001b[39m1\u001b[39m] \u001b[39m=\u001b[39m \u001b[39m'\u001b[39m\u001b[39m\"\u001b[39m\u001b[39m{prog}\u001b[39;00m\u001b[39m\"\u001b[39m\u001b[39m not found in path.\u001b[39m\u001b[39m'\u001b[39m\u001b[39m.\u001b[39mformat(\n\u001b[0;32m   1932\u001b[0m         prog\u001b[39m=\u001b[39mprog)\n\u001b[1;32m-> 1933\u001b[0m     \u001b[39mraise\u001b[39;00m \u001b[39mOSError\u001b[39;00m(\u001b[39m*\u001b[39margs)\n\u001b[0;32m   1934\u001b[0m \u001b[39melse\u001b[39;00m:\n\u001b[0;32m   1935\u001b[0m     \u001b[39mraise\u001b[39;00m\n",
      "\u001b[1;31mFileNotFoundError\u001b[0m: [WinError 2] \"dot\" not found in path."
     ]
    }
   ],
   "source": [
    "# Saca un árbol del bosque\n",
    "tree = rf.estimators_[5]\n",
    "\n",
    "# Exportar la imagen a un archivo de puntos\n",
    "export_graphviz(tree, out_file = 'tree.dot', feature_names = df_list, rounded = True, precision = 1)\n",
    "\n",
    "# Usamos dot file para crear el grafo\n",
    "(graph, ) = pydot.graph_from_dot_file('tree.dot')\n",
    "\n",
    "# Escribir el gráfico en un archivo png\n",
    "graph.write_png('tree.png'); "
   ]
  },
  {
   "cell_type": "code",
   "execution_count": 52,
   "metadata": {},
   "outputs": [
    {
     "name": "stdout",
     "output_type": "stream",
     "text": [
      "La profundidad de este árbol es: 16\n"
     ]
    }
   ],
   "source": [
    "print('La profundidad de este árbol es:', tree.tree_.max_depth)"
   ]
  },
  {
   "cell_type": "code",
   "execution_count": 30,
   "metadata": {},
   "outputs": [],
   "source": [
    "# Limitar la profundidad del árbol a 3 niveles\n",
    "rf_small = RandomForestRegressor(n_estimators=10, max_depth = 3, random_state=42)\n",
    "rf_small.fit(train_features, train_labels)\n",
    "\n",
    "# Extraer el árbol pequeño\n",
    "tree_small = rf_small.estimators_[5]\n",
    "\n",
    "# Guardar el árbol como una imagen png\n",
    "export_graphviz(tree_small, out_file = 'small_tree.dot', feature_names = df_list, rounded = True, precision = 1)\n",
    "\n",
    "(graph, ) = pydot.graph_from_dot_file('small_tree.dot')\n",
    "\n",
    "graph.write_png('small_tree.png');"
   ]
  },
  {
   "cell_type": "markdown",
   "metadata": {},
   "source": [
    "* Si temp_1=18 y average=20, ¿Cuál es el valor predicho?"
   ]
  },
  {
   "cell_type": "code",
   "execution_count": null,
   "metadata": {},
   "outputs": [],
   "source": []
  },
  {
   "cell_type": "markdown",
   "metadata": {},
   "source": [
    "## Variable importance"
   ]
  },
  {
   "cell_type": "code",
   "execution_count": 26,
   "metadata": {},
   "outputs": [
    {
     "name": "stdout",
     "output_type": "stream",
     "text": [
      "Variable: average              Importance: 0.49\n",
      "Variable: temp_1               Importance: 0.41\n",
      "Variable: temp_2               Importance: 0.03\n",
      "Variable: month                Importance: 0.02\n",
      "Variable: day                  Importance: 0.02\n",
      "Variable: week_Sun             Importance: 0.01\n",
      "Variable: year                 Importance: 0.0\n",
      "Variable: week_Fri             Importance: 0.0\n",
      "Variable: week_Mon             Importance: 0.0\n",
      "Variable: week_Sat             Importance: 0.0\n",
      "Variable: week_Thurs           Importance: 0.0\n",
      "Variable: week_Tues            Importance: 0.0\n",
      "Variable: week_Wed             Importance: 0.0\n"
     ]
    }
   ],
   "source": [
    "# Get numerical feature importances\n",
    "importances = list(rf.feature_importances_)# List of tuples with variable and importance\n",
    "feature_importances = [(feature, round(importance, 2)) for feature, importance in zip(df_list, importances)]# Sort the feature importances by most important first\n",
    "feature_importances = sorted(feature_importances, key = lambda x: x[1], reverse = True)# Print out the feature and importances \n",
    "[print('Variable: {:20} Importance: {}'.format(*pair)) for pair in feature_importances];"
   ]
  },
  {
   "cell_type": "markdown",
   "metadata": {},
   "source": [
    "El primer factor más importante es la temperatura máxima media histórica, lo que tampoco es sorprendente. En el segundo lugar de la lista está temp_1, la temperatura máxima del día anterior. Esto nos dice que el mejor predictor de la temperatura máxima de un día es la temperatura máxima media historia junto a la temperatura del dia anterior, un hallazgo bastante intuitivo. "
   ]
  },
  {
   "cell_type": "markdown",
   "metadata": {},
   "source": [
    "## Modelemos con las dos más importantes"
   ]
  },
  {
   "cell_type": "code",
   "execution_count": 27,
   "metadata": {},
   "outputs": [
    {
     "name": "stdout",
     "output_type": "stream",
     "text": [
      "Mean Absolute Error: 2.15 degrees.\n",
      "Accuracy: 80.89 %.\n"
     ]
    }
   ],
   "source": [
    "# Nuevo bosque aleatorio con sólo las dos variables más importantes\n",
    "rf_most_important = RandomForestRegressor(n_estimators= 100, random_state=42)\n",
    "\n",
    "\n",
    "important_indices = [df_list.index('temp_1'), df_list.index('average')]\n",
    "train_important = train_features[:, important_indices]\n",
    "test_important = test_features[:, important_indices]\n",
    "\n",
    "# Extraer las dos características más importantes\n",
    "rf_most_important.fit(train_important, train_labels)\n",
    "\n",
    "# Hacer predicciones y determinar el error\n",
    "predictions = rf_most_important.predict(test_important)\n",
    "\n",
    "errors = abs(predictions - test_labels)\n",
    "\n",
    "# Mostrar las métricas de rendimiento\n",
    "print('Mean Absolute Error:', round(np.mean(errors), 2), 'degrees.')\n",
    "\n",
    "mape = np.mean(100 * (errors / test_labels))\n",
    "accuracy = 100 - mape\n",
    "\n",
    "print('Accuracy:', round(accuracy, 2), '%.')"
   ]
  },
  {
   "cell_type": "code",
   "execution_count": 28,
   "metadata": {},
   "outputs": [],
   "source": [
    "import matplotlib.pyplot as plt\n",
    "import datetime"
   ]
  },
  {
   "cell_type": "code",
   "execution_count": 29,
   "metadata": {},
   "outputs": [
    {
     "data": {
      "text/plain": [
       "Text(0.5, 1.0, ' Importancia de las variables')"
      ]
     },
     "execution_count": 29,
     "metadata": {},
     "output_type": "execute_result"
    },
    {
     "data": {
      "image/png": "[encoded data removed]",
      "text/plain": [
       "<Figure size 432x288 with 1 Axes>"
      ]
     },
     "metadata": {
      "needs_background": "light"
     },
     "output_type": "display_data"
    }
   ],
   "source": [
    "# lista de ubicaciones x para el gráfico\n",
    "x_values = list(range(len(importances)))\n",
    "\n",
    "# Hacer un gráfico de barras\n",
    "plt.bar(x_values, importances, orientation = 'vertical')\n",
    "\n",
    "# Etiquetas para el eje x\n",
    "plt.xticks(x_values, df_list, rotation='vertical')\n",
    "\n",
    "# Etiquetas y título de los ejes\n",
    "plt.ylabel('Importancia'); plt.xlabel('Variable'); plt.title(' Importancia de las variables') "
   ]
  },
  {
   "cell_type": "code",
   "execution_count": 30,
   "metadata": {},
   "outputs": [],
   "source": [
    "# Fechas de los valores de formación\n",
    "months = df[:, df_list.index('month')]\n",
    "days = df[:, df_list.index('day')]\n",
    "years = df[:, df_list.index('year')]\n",
    "\n",
    "# Listar y luego convertir a objeto datetime\n",
    "dates = [str(int(year)) + '-' + str(int(month)) + '-' + str(int(day)) for year, month, day in zip(years, months, days)]\n",
    "dates = [datetime.datetime.strptime(date, '%Y-%m-%d') for date in dates]\n",
    "\n",
    "# Dataframe con valores reales y fechas\n",
    "true_data = pd.DataFrame(data = {'date': dates, 'actual': labels})\n",
    "\n",
    "# Fechas de las predicciones\n",
    "months = test_features[:, df_list.index('month')]\n",
    "days = test_features[:, df_list.index('day')]\n",
    "years = test_features[:, df_list.index('year')]\n",
    "\n",
    "# Columna de fechas\n",
    "test_dates = [str(int(year)) + '-' + str(int(month)) + '-' + str(int(day)) for year, month, day in zip(years, months, days)]\n",
    "\n",
    "# Convertir a objetos datetime\n",
    "test_dates = [datetime.datetime.strptime(date, '%Y-%m-%d') for date in test_dates]\n",
    "\n",
    "# Dataframe con predicciones y fechas\n",
    "predictions_data = pd.DataFrame(data = {'date': test_dates, 'prediction': predictions}) \n",
    "\n"
   ]
  },
  {
   "cell_type": "code",
   "execution_count": 31,
   "metadata": {},
   "outputs": [
    {
     "data": {
      "image/png": "[encoded data removed]",
      "text/plain": [
       "<Figure size 432x288 with 1 Axes>"
      ]
     },
     "metadata": {
      "needs_background": "light"
     },
     "output_type": "display_data"
    }
   ],
   "source": [
    "# Plot de los valores reales\n",
    "plt.plot(true_data['date'], true_data['actual'], 'b-', label = 'actual')\n",
    "\n",
    "# Representar los valores predichos\n",
    "plt.plot(predictions_data['date'], predictions_data['prediction'], 'ro', label = 'prediction')\n",
    "plt.xticks(rotation = '60'); \n",
    "plt.legend()\n",
    "\n",
    "# Etiquetas del gráfico\n",
    "plt.xlabel('Date'); plt.ylabel('Maxima Temperatura (C)'); plt.title('Actual y Valores Predichos');\n",
    "\n"
   ]
  },
  {
   "cell_type": "markdown",
   "metadata": {},
   "source": [
    "¡Hemos completado todo un ejemplo de aprendizaje automático de principio a fin! Llegados a este punto, si queremos mejorar nuestro modelo, podríamos probar diferentes hiperparámetros (ajustes), probar un algoritmo diferente, o otro enfoque importante seria recopilar más datos. El rendimiento de cualquier modelo es directamente proporcional a la cantidad de datos válidos de los que puede aprender, y estábamos utilizando una cantidad muy limitada de información para el entrenamiento."
   ]
  },
  {
   "cell_type": "markdown",
   "metadata": {},
   "source": [
    "* Podemos transformar esto en un problema de clasificacion ??? Mejoraria o empeoraria la performance ?"
   ]
  },
  {
   "cell_type": "markdown",
   "metadata": {},
   "source": [
    "<a id=\"docs\"></a>\n",
    "### Documentación\n",
    "- [Random Forest Regressor con Scikit-Learn](https://scikit-learn.org/stable/modules/generated/sklearn.ensemble.RandomForestRegressor.html)\n",
    "- [Random Forest Berkeley](https://www.stat.berkeley.edu/~breiman/RandomForests/cc_home.htm)\n"
   ]
  },
  {
   "cell_type": "markdown",
   "metadata": {},
   "source": []
  }
 ],
 "metadata": {
  "kernelspec": {
   "display_name": "Python 3.8.13 ('pycaret2')",
   "language": "python",
   "name": "python3"
  },
  "language_info": {
   "codemirror_mode": {
    "name": "ipython",
    "version": 3
   },
   "file_extension": ".py",
   "mimetype": "text/x-python",
   "name": "python",
   "nbconvert_exporter": "python",
   "pygments_lexer": "ipython3",
   "version": "3.8.13"
  },
  "orig_nbformat": 4,
  "vscode": {
   "interpreter": {
    "hash": "33b7e6f42d5c92d6b814a1f6cf038b869e4ed5abed6f4d7226a210bd44c06fed"
   }
  }
 },
 "nbformat": 4,
 "nbformat_minor": 2
}
