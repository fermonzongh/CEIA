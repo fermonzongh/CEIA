{
 "cells": [
  {
   "cell_type": "markdown",
   "metadata": {},
   "source": [
    "# Entrenamiento 2: Pauta Publicitaria\n",
    "\n",
    "<b>Contexto</b>\n",
    "\n",
    "La idea de este notebook es plantearles un problema con datos tomados del Gobierno de la Ciudad de Buenos Aires [BA Data](https://data.buenosaires.gob.ar/dataset/pauta-publicitaria).\n",
    "\n",
    "<b>Contenido</b>\n",
    "\n",
    "Este dataset contiene la información respecto a gasto en pauta publicitaria realizada por el Gobierno de la Ciudad de Buenos Aires en el año 2020. Es facil de tratar ya que el mismo solo contiene tres columnas:\n",
    "\n",
    "* Fecha\n",
    "* Medio\n",
    "* Importe\n",
    "\n",
    "<b>El objetivo</b> este entrenamiento tiene solo una restricción que es usar algún algoritmo de aprendizaje no supervisado para sacar alguna información interesante del mismo. ¿Es esto posible? \n",
    "\n"
   ]
  },
  {
   "cell_type": "code",
   "execution_count": 40,
   "metadata": {},
   "outputs": [],
   "source": [
    "import pandas as pd"
   ]
  },
  {
   "cell_type": "code",
   "execution_count": 41,
   "metadata": {},
   "outputs": [],
   "source": [
    "df = pd.read_csv('BA_DATA_2020 _PAUTA_PUBLICITARIA_EN_RADIO.csv')"
   ]
  },
  {
   "cell_type": "code",
   "execution_count": 42,
   "metadata": {},
   "outputs": [
    {
     "data": {
      "text/html": [
       "<div>\n",
       "<style scoped>\n",
       "    .dataframe tbody tr th:only-of-type {\n",
       "        vertical-align: middle;\n",
       "    }\n",
       "\n",
       "    .dataframe tbody tr th {\n",
       "        vertical-align: top;\n",
       "    }\n",
       "\n",
       "    .dataframe thead th {\n",
       "        text-align: right;\n",
       "    }\n",
       "</style>\n",
       "<table border=\"1\" class=\"dataframe\">\n",
       "  <thead>\n",
       "    <tr style=\"text-align: right;\">\n",
       "      <th></th>\n",
       "      <th>Fecha</th>\n",
       "      <th>Medio</th>\n",
       "      <th>Importe</th>\n",
       "    </tr>\n",
       "  </thead>\n",
       "  <tbody>\n",
       "    <tr>\n",
       "      <th>0</th>\n",
       "      <td>20/01/2020</td>\n",
       "      <td>FM 95.1 METRO</td>\n",
       "      <td>$ 512.435,00</td>\n",
       "    </tr>\n",
       "    <tr>\n",
       "      <th>1</th>\n",
       "      <td>20/01/2020</td>\n",
       "      <td>AM 790 RADIO MITRE</td>\n",
       "      <td>$ 480.000,00</td>\n",
       "    </tr>\n",
       "    <tr>\n",
       "      <th>2</th>\n",
       "      <td>20/01/2020</td>\n",
       "      <td>FM 99.9 LA 100</td>\n",
       "      <td>$ 406.560,00</td>\n",
       "    </tr>\n",
       "    <tr>\n",
       "      <th>3</th>\n",
       "      <td>20/01/2020</td>\n",
       "      <td>AM 990 LA 990</td>\n",
       "      <td>$ 310.495,68</td>\n",
       "    </tr>\n",
       "    <tr>\n",
       "      <th>4</th>\n",
       "      <td>20/01/2020</td>\n",
       "      <td>AM 790 RADIO MITRE</td>\n",
       "      <td>$ 258.456,00</td>\n",
       "    </tr>\n",
       "    <tr>\n",
       "      <th>...</th>\n",
       "      <td>...</td>\n",
       "      <td>...</td>\n",
       "      <td>...</td>\n",
       "    </tr>\n",
       "    <tr>\n",
       "      <th>2558</th>\n",
       "      <td>23/12/2020</td>\n",
       "      <td>FM 92.1 VORTERIX</td>\n",
       "      <td>$ 202.211,33</td>\n",
       "    </tr>\n",
       "    <tr>\n",
       "      <th>2559</th>\n",
       "      <td>23/12/2020</td>\n",
       "      <td>FM 102.3 ASPEN</td>\n",
       "      <td>$ 169.884,00</td>\n",
       "    </tr>\n",
       "    <tr>\n",
       "      <th>2560</th>\n",
       "      <td>23/12/2020</td>\n",
       "      <td>AM 910 LA RED</td>\n",
       "      <td>$ 162.624,00</td>\n",
       "    </tr>\n",
       "    <tr>\n",
       "      <th>2561</th>\n",
       "      <td>23/12/2020</td>\n",
       "      <td>AM 950 CNN</td>\n",
       "      <td>$ 151.250,00</td>\n",
       "    </tr>\n",
       "    <tr>\n",
       "      <th>2562</th>\n",
       "      <td>28/12/2020</td>\n",
       "      <td>FM 95.1 METRO</td>\n",
       "      <td>$ 100.000,00</td>\n",
       "    </tr>\n",
       "  </tbody>\n",
       "</table>\n",
       "<p>2563 rows × 3 columns</p>\n",
       "</div>"
      ],
      "text/plain": [
       "           Fecha               Medio         Importe\n",
       "0     20/01/2020       FM 95.1 METRO   $ 512.435,00 \n",
       "1     20/01/2020  AM 790 RADIO MITRE   $ 480.000,00 \n",
       "2     20/01/2020      FM 99.9 LA 100   $ 406.560,00 \n",
       "3     20/01/2020       AM 990 LA 990   $ 310.495,68 \n",
       "4     20/01/2020  AM 790 RADIO MITRE   $ 258.456,00 \n",
       "...          ...                 ...             ...\n",
       "2558  23/12/2020    FM 92.1 VORTERIX   $ 202.211,33 \n",
       "2559  23/12/2020      FM 102.3 ASPEN   $ 169.884,00 \n",
       "2560  23/12/2020       AM 910 LA RED   $ 162.624,00 \n",
       "2561  23/12/2020          AM 950 CNN   $ 151.250,00 \n",
       "2562  28/12/2020       FM 95.1 METRO   $ 100.000,00 \n",
       "\n",
       "[2563 rows x 3 columns]"
      ]
     },
     "execution_count": 42,
     "metadata": {},
     "output_type": "execute_result"
    }
   ],
   "source": [
    "df"
   ]
  }
 ],
 "metadata": {
  "kernelspec": {
   "display_name": "Python 3.8.13 ('pycaret2')",
   "language": "python",
   "name": "python3"
  },
  "language_info": {
   "codemirror_mode": {
    "name": "ipython",
    "version": 3
   },
   "file_extension": ".py",
   "mimetype": "text/x-python",
   "name": "python",
   "nbconvert_exporter": "python",
   "pygments_lexer": "ipython3",
   "version": "3.8.13"
  },
  "orig_nbformat": 4,
  "vscode": {
   "interpreter": {
    "hash": "33b7e6f42d5c92d6b814a1f6cf038b869e4ed5abed6f4d7226a210bd44c06fed"
   }
  }
 },
 "nbformat": 4,
 "nbformat_minor": 2
}
