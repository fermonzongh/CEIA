{
 "cells": [
  {
   "cell_type": "markdown",
   "metadata": {},
   "source": [
    "# Un poco sobre series temporales"
   ]
  },
  {
   "cell_type": "markdown",
   "metadata": {},
   "source": [
    "#### ¿Qué es una serie de tiempo?\n",
    "\n",
    "Podemos definir una **serie de tiempo** como un conjunto de observaciones tomadas en **intervalos regulares** que se encuentran **ordenadas** por el momento en que se produjeron.\n",
    "\n",
    "El análisis de series de tiempo se suele utilizar para proyectar o pronosticar la evolución de una variable a lo largo del tiempo, a partir de información previa sobre esa misma variable. Es decir, tenemos que proyectar una variable determinada (eje y) en función del tiempo (eje x). \n",
    "\n",
    "Un ejemplo de serie de tiempo puede ser la evolución del precio de un determinado activo a lo largo del tiempo.\n",
    "\n",
    "\n",
    "\n"
   ]
  },
  {
   "cell_type": "markdown",
   "metadata": {},
   "source": [
    "\n",
    "### Descomposición de una serie de tiempo\n",
    "\n",
    "\n",
    "Existen distintos tipos de modelos para tratar las series de tiempo. \n",
    "Una opción es modelar una serie de tiempo como compuesta por **cuatro componentes**:\n",
    "- **Tendencia**: componente “permanente”, el efecto persiste en el largo plazo. Se puede interpretar como lo que motiva el cambio a largo plazo de la media.\n",
    "\n",
    "- **Estacionalidad**: esta componente aporta movimientos periódicos a la serie.\n",
    "\n",
    "- **Ciclos**: se entiende por cualquier tipo de dinámica no capturada por la tendencia o la estacionalidad. Estamos ante la presencia de ciclos cuando observamos algún tipo de dinámica mediante la cual el presente está vinculado al pasado.\n",
    " \n",
    "- **Componente aleatoria**: son particularidades que no presentan un efecto duradero, ya que las asumimos con media 0 y varianza constante.\n",
    "\n",
    "De manera aditiva, podemos decir entonces que: \n",
    "\n",
    "$$ y_t = T_t + S_t + C_t + \\varepsilon_t. $$\n",
    "\n",
    "donde T es la tendencia, S es el efecto estacional C es el ciclo y $ \\varepsilon $ es el error aleatorio."
   ]
  },
  {
   "cell_type": "markdown",
   "metadata": {},
   "source": [
    "#### Tendencia\n",
    "\n",
    "La **tendencia** corresponde a la **evolución de largo plazo** de la variable que estamos analizando. Puede ser generada por la lenta evolución y cambios en las preferencias, la tecnología, las instituciones o en la demografía.\n",
    "\n",
    "\n",
    "\n",
    "Podemos modelar la tendencia de diferentes maneras, dependiendo de la dinámica de la tendencia. \n",
    "\n",
    "##### Tendencia lineal:\n",
    "\n",
    "$$ T_t = \\beta_0 + \\beta_1 TIEMPO_t + \\varepsilon_t. $$\n",
    "\n",
    "Donde la variable *TIME* es una variable que construimos artificialmente, llamada “dummy de tiempo”.\n",
    "\n",
    "Si la tendencia que estamos buscando modelar presenta una dinámica no lineal, podemos incluir un **término cuadrático** al modelo. Lo obtenemos simplemente elevando al cuadrado a la dummy de tiempo:\n",
    "\n",
    "$$ T_t = \\beta_0 + \\beta_1 TIEMPO_t + \\beta_2 TIEMPO ^{2}_t +\\varepsilon_t. $$\n",
    "\n",
    "\n",
    "\n"
   ]
  },
  {
   "cell_type": "markdown",
   "metadata": {},
   "source": [
    "#### Estacionalidad\n",
    "\n",
    "Un **patrón estacional** se repite con regularidad. \n",
    "\n",
    "Podemos modelar la estacionalidad utilizando variables dummy. \n",
    "\n",
    "Podemos agregar otro tipo de dummies, por ejemplo por días de vacaciones/feriados o ajustes por cantidad de días de comercio, etc."
   ]
  },
  {
   "cell_type": "markdown",
   "metadata": {},
   "source": [
    "\n",
    "### Modelos básicos para pronósticos\n",
    "\n",
    "Pasemos al código para poner estos conceptos en práctica. \n",
    "\n",
    "Para esta práctica vamos a usar series de tiempo para predecir las ventas de medicamentos para diabetes en Australia.\n"
   ]
  },
  {
   "cell_type": "code",
   "execution_count": 1,
   "metadata": {},
   "outputs": [],
   "source": [
    "import pandas as pd\n",
    "import numpy as np\n",
    "\n",
    "import matplotlib.pyplot as plt\n",
    "import matplotlib as mpl\n",
    "import seaborn as sns\n",
    "%matplotlib inline\n",
    "\n",
    "import statsmodels.api as sm\n",
    "import statsmodels.formula.api as smf\n",
    "import statsmodels.tsa.api as smt\n",
    "\n",
    "from scipy import stats\n",
    "from statistics import mode\n",
    "\n",
    "import warnings\n",
    "warnings.filterwarnings('ignore')"
   ]
  },
  {
   "cell_type": "markdown",
   "metadata": {},
   "source": [
    "\n",
    "#### Análisis exploratorio y preprocesamiento de los datos:\n",
    "\n",
    "\n",
    "Creamos nuestro DataFrame y realizamos un ploteo inicial:"
   ]
  },
  {
   "cell_type": "code",
   "execution_count": 2,
   "metadata": {},
   "outputs": [],
   "source": [
    "df = pd.read_csv('a10.csv', parse_dates=['date'], index_col='date')"
   ]
  },
  {
   "cell_type": "code",
   "execution_count": 3,
   "metadata": {},
   "outputs": [
    {
     "data": {
      "text/html": [
       "<div>\n",
       "<style scoped>\n",
       "    .dataframe tbody tr th:only-of-type {\n",
       "        vertical-align: middle;\n",
       "    }\n",
       "\n",
       "    .dataframe tbody tr th {\n",
       "        vertical-align: top;\n",
       "    }\n",
       "\n",
       "    .dataframe thead th {\n",
       "        text-align: right;\n",
       "    }\n",
       "</style>\n",
       "<table border=\"1\" class=\"dataframe\">\n",
       "  <thead>\n",
       "    <tr style=\"text-align: right;\">\n",
       "      <th></th>\n",
       "      <th>value</th>\n",
       "    </tr>\n",
       "    <tr>\n",
       "      <th>date</th>\n",
       "      <th></th>\n",
       "    </tr>\n",
       "  </thead>\n",
       "  <tbody>\n",
       "    <tr>\n",
       "      <th>1991-07-01</th>\n",
       "      <td>3.526591</td>\n",
       "    </tr>\n",
       "    <tr>\n",
       "      <th>1991-08-01</th>\n",
       "      <td>3.180891</td>\n",
       "    </tr>\n",
       "    <tr>\n",
       "      <th>1991-09-01</th>\n",
       "      <td>3.252221</td>\n",
       "    </tr>\n",
       "    <tr>\n",
       "      <th>1991-10-01</th>\n",
       "      <td>3.611003</td>\n",
       "    </tr>\n",
       "    <tr>\n",
       "      <th>1991-11-01</th>\n",
       "      <td>3.565869</td>\n",
       "    </tr>\n",
       "    <tr>\n",
       "      <th>...</th>\n",
       "      <td>...</td>\n",
       "    </tr>\n",
       "    <tr>\n",
       "      <th>2008-02-01</th>\n",
       "      <td>21.654285</td>\n",
       "    </tr>\n",
       "    <tr>\n",
       "      <th>2008-03-01</th>\n",
       "      <td>18.264945</td>\n",
       "    </tr>\n",
       "    <tr>\n",
       "      <th>2008-04-01</th>\n",
       "      <td>23.107677</td>\n",
       "    </tr>\n",
       "    <tr>\n",
       "      <th>2008-05-01</th>\n",
       "      <td>22.912510</td>\n",
       "    </tr>\n",
       "    <tr>\n",
       "      <th>2008-06-01</th>\n",
       "      <td>19.431740</td>\n",
       "    </tr>\n",
       "  </tbody>\n",
       "</table>\n",
       "<p>204 rows × 1 columns</p>\n",
       "</div>"
      ],
      "text/plain": [
       "                value\n",
       "date                 \n",
       "1991-07-01   3.526591\n",
       "1991-08-01   3.180891\n",
       "1991-09-01   3.252221\n",
       "1991-10-01   3.611003\n",
       "1991-11-01   3.565869\n",
       "...               ...\n",
       "2008-02-01  21.654285\n",
       "2008-03-01  18.264945\n",
       "2008-04-01  23.107677\n",
       "2008-05-01  22.912510\n",
       "2008-06-01  19.431740\n",
       "\n",
       "[204 rows x 1 columns]"
      ]
     },
     "execution_count": 3,
     "metadata": {},
     "output_type": "execute_result"
    }
   ],
   "source": [
    "df"
   ]
  },
  {
   "cell_type": "code",
   "execution_count": 5,
   "metadata": {},
   "outputs": [],
   "source": [
    "# Función que plotea la serie:\n",
    "def plot_df(df, x, y, title=\"\", xlabel='Fecha', ylabel='Valor', dpi=110):\n",
    "    plt.figure(figsize=(16,5), dpi=dpi)\n",
    "    plt.plot(x, y, color='tab:red')\n",
    "    plt.gca().set(title=title, xlabel=xlabel, ylabel=ylabel)\n",
    "    plt.show()"
   ]
  },
  {
   "cell_type": "code",
   "execution_count": 29,
   "metadata": {},
   "outputs": [
    {
     "data": {
      "image/png": "[encoded data removed]",
      "text/plain": [
       "<Figure size 1760x550 with 1 Axes>"
      ]
     },
     "metadata": {
      "needs_background": "light"
     },
     "output_type": "display_data"
    }
   ],
   "source": [
    "plot_df(df, x=df.index, y=df['value'],\\\n",
    "        title='Ventas mensuales de medicamentos para diabetes en Australia, 1992 a 2008')"
   ]
  },
  {
   "cell_type": "markdown",
   "metadata": {},
   "source": [
    "Exploramos las primeras 5 observaciones de nuestro df:"
   ]
  },
  {
   "cell_type": "code",
   "execution_count": 31,
   "metadata": {},
   "outputs": [
    {
     "data": {
      "text/html": [
       "<div>\n",
       "<style scoped>\n",
       "    .dataframe tbody tr th:only-of-type {\n",
       "        vertical-align: middle;\n",
       "    }\n",
       "\n",
       "    .dataframe tbody tr th {\n",
       "        vertical-align: top;\n",
       "    }\n",
       "\n",
       "    .dataframe thead th {\n",
       "        text-align: right;\n",
       "    }\n",
       "</style>\n",
       "<table border=\"1\" class=\"dataframe\">\n",
       "  <thead>\n",
       "    <tr style=\"text-align: right;\">\n",
       "      <th></th>\n",
       "      <th>value</th>\n",
       "    </tr>\n",
       "    <tr>\n",
       "      <th>date</th>\n",
       "      <th></th>\n",
       "    </tr>\n",
       "  </thead>\n",
       "  <tbody>\n",
       "    <tr>\n",
       "      <th>1991-07-01</th>\n",
       "      <td>3.526591</td>\n",
       "    </tr>\n",
       "  </tbody>\n",
       "</table>\n",
       "</div>"
      ],
      "text/plain": [
       "               value\n",
       "date                \n",
       "1991-07-01  3.526591"
      ]
     },
     "execution_count": 31,
     "metadata": {},
     "output_type": "execute_result"
    }
   ],
   "source": [
    "df.head(1)"
   ]
  },
  {
   "cell_type": "markdown",
   "metadata": {},
   "source": [
    "Ploteamos la estacionalidad, la tendencia y el residual como vimos en la teoría."
   ]
  },
  {
   "cell_type": "code",
   "execution_count": 32,
   "metadata": {},
   "outputs": [
    {
     "data": {
      "text/plain": [
       "<Figure size 1440x1152 with 0 Axes>"
      ]
     },
     "metadata": {},
     "output_type": "display_data"
    },
    {
     "data": {
      "image/png": "[encoded data removed]",
      "text/plain": [
       "<Figure size 432x288 with 4 Axes>"
      ]
     },
     "metadata": {
      "needs_background": "light"
     },
     "output_type": "display_data"
    }
   ],
   "source": [
    "import statsmodels.api as sm\n",
    "plt.figure(figsize=(20,16))\n",
    "decomposition = sm.tsa.seasonal_decompose(df['value'], model='additive')\n",
    "decomposition.plot()\n",
    "plt.show()"
   ]
  },
  {
   "cell_type": "markdown",
   "metadata": {},
   "source": [
    "Veamos el shape de nuestro df:"
   ]
  },
  {
   "cell_type": "code",
   "execution_count": 33,
   "metadata": {},
   "outputs": [],
   "source": [
    "# Preparamos los datos:\n",
    "df['year'] = [d.year for d in df.index]\n",
    "df['month'] = [d.strftime('%b') for d in df.index]\n",
    "years = df['year'].unique()"
   ]
  },
  {
   "cell_type": "code",
   "execution_count": 34,
   "metadata": {},
   "outputs": [
    {
     "data": {
      "text/html": [
       "<div>\n",
       "<style scoped>\n",
       "    .dataframe tbody tr th:only-of-type {\n",
       "        vertical-align: middle;\n",
       "    }\n",
       "\n",
       "    .dataframe tbody tr th {\n",
       "        vertical-align: top;\n",
       "    }\n",
       "\n",
       "    .dataframe thead th {\n",
       "        text-align: right;\n",
       "    }\n",
       "</style>\n",
       "<table border=\"1\" class=\"dataframe\">\n",
       "  <thead>\n",
       "    <tr style=\"text-align: right;\">\n",
       "      <th></th>\n",
       "      <th>value</th>\n",
       "      <th>year</th>\n",
       "      <th>month</th>\n",
       "    </tr>\n",
       "    <tr>\n",
       "      <th>date</th>\n",
       "      <th></th>\n",
       "      <th></th>\n",
       "      <th></th>\n",
       "    </tr>\n",
       "  </thead>\n",
       "  <tbody>\n",
       "    <tr>\n",
       "      <th>1991-07-01</th>\n",
       "      <td>3.526591</td>\n",
       "      <td>1991</td>\n",
       "      <td>Jul</td>\n",
       "    </tr>\n",
       "    <tr>\n",
       "      <th>1991-08-01</th>\n",
       "      <td>3.180891</td>\n",
       "      <td>1991</td>\n",
       "      <td>Aug</td>\n",
       "    </tr>\n",
       "    <tr>\n",
       "      <th>1991-09-01</th>\n",
       "      <td>3.252221</td>\n",
       "      <td>1991</td>\n",
       "      <td>Sep</td>\n",
       "    </tr>\n",
       "    <tr>\n",
       "      <th>1991-10-01</th>\n",
       "      <td>3.611003</td>\n",
       "      <td>1991</td>\n",
       "      <td>Oct</td>\n",
       "    </tr>\n",
       "    <tr>\n",
       "      <th>1991-11-01</th>\n",
       "      <td>3.565869</td>\n",
       "      <td>1991</td>\n",
       "      <td>Nov</td>\n",
       "    </tr>\n",
       "    <tr>\n",
       "      <th>...</th>\n",
       "      <td>...</td>\n",
       "      <td>...</td>\n",
       "      <td>...</td>\n",
       "    </tr>\n",
       "    <tr>\n",
       "      <th>2008-02-01</th>\n",
       "      <td>21.654285</td>\n",
       "      <td>2008</td>\n",
       "      <td>Feb</td>\n",
       "    </tr>\n",
       "    <tr>\n",
       "      <th>2008-03-01</th>\n",
       "      <td>18.264945</td>\n",
       "      <td>2008</td>\n",
       "      <td>Mar</td>\n",
       "    </tr>\n",
       "    <tr>\n",
       "      <th>2008-04-01</th>\n",
       "      <td>23.107677</td>\n",
       "      <td>2008</td>\n",
       "      <td>Apr</td>\n",
       "    </tr>\n",
       "    <tr>\n",
       "      <th>2008-05-01</th>\n",
       "      <td>22.912510</td>\n",
       "      <td>2008</td>\n",
       "      <td>May</td>\n",
       "    </tr>\n",
       "    <tr>\n",
       "      <th>2008-06-01</th>\n",
       "      <td>19.431740</td>\n",
       "      <td>2008</td>\n",
       "      <td>Jun</td>\n",
       "    </tr>\n",
       "  </tbody>\n",
       "</table>\n",
       "<p>204 rows × 3 columns</p>\n",
       "</div>"
      ],
      "text/plain": [
       "                value  year month\n",
       "date                             \n",
       "1991-07-01   3.526591  1991   Jul\n",
       "1991-08-01   3.180891  1991   Aug\n",
       "1991-09-01   3.252221  1991   Sep\n",
       "1991-10-01   3.611003  1991   Oct\n",
       "1991-11-01   3.565869  1991   Nov\n",
       "...               ...   ...   ...\n",
       "2008-02-01  21.654285  2008   Feb\n",
       "2008-03-01  18.264945  2008   Mar\n",
       "2008-04-01  23.107677  2008   Apr\n",
       "2008-05-01  22.912510  2008   May\n",
       "2008-06-01  19.431740  2008   Jun\n",
       "\n",
       "[204 rows x 3 columns]"
      ]
     },
     "execution_count": 34,
     "metadata": {},
     "output_type": "execute_result"
    }
   ],
   "source": [
    "df"
   ]
  },
  {
   "cell_type": "code",
   "execution_count": 10,
   "metadata": {},
   "outputs": [
    {
     "data": {
      "image/png": "[encoded data removed]",
      "text/plain": [
       "<Figure size 1600x560 with 2 Axes>"
      ]
     },
     "metadata": {
      "needs_background": "light"
     },
     "output_type": "display_data"
    }
   ],
   "source": [
    "# Definimos los plots:\n",
    "fig, axes = plt.subplots(1, 2, figsize=(20,7), dpi= 80)\n",
    "sns.boxplot(x='year', y='value', data=df, ax=axes[0])\n",
    "sns.boxplot(x='month', y='value', data=df.loc[~df.year.isin([1991, 2008]), :])\n",
    "\n",
    "# Seteamos los títulos:\n",
    "axes[0].set_title('Box Plot Anual\\n(Tendencia)', fontsize=18); \n",
    "axes[1].set_title('Box Plot Mensual\\n(Estacionalidad)', fontsize=18);"
   ]
  },
  {
   "cell_type": "code",
   "execution_count": 11,
   "metadata": {},
   "outputs": [
    {
     "data": {
      "text/plain": [
       "(204, 3)"
      ]
     },
     "execution_count": 11,
     "metadata": {},
     "output_type": "execute_result"
    }
   ],
   "source": [
    "df.shape"
   ]
  },
  {
   "cell_type": "markdown",
   "metadata": {},
   "source": [
    "Vamos a crear una **dummy de tiempo**, es decir indicador numérico para el período de tiempo,  para poder modelar la tendencia lineal.\n",
    "\n",
    "También vamos a crear una variable que sea la dummy de tiempo elevada al cuadrado para modelar la tendencia cuadrática:"
   ]
  },
  {
   "cell_type": "code",
   "execution_count": 35,
   "metadata": {},
   "outputs": [],
   "source": [
    "df[\"timeIndex\"] = pd.Series(np.arange(len(df['value'])), index=df.index)\n",
    "df[\"timeIndex_sq\"] = df[\"timeIndex\"]**2"
   ]
  },
  {
   "cell_type": "code",
   "execution_count": 36,
   "metadata": {},
   "outputs": [
    {
     "data": {
      "text/html": [
       "<div>\n",
       "<style scoped>\n",
       "    .dataframe tbody tr th:only-of-type {\n",
       "        vertical-align: middle;\n",
       "    }\n",
       "\n",
       "    .dataframe tbody tr th {\n",
       "        vertical-align: top;\n",
       "    }\n",
       "\n",
       "    .dataframe thead th {\n",
       "        text-align: right;\n",
       "    }\n",
       "</style>\n",
       "<table border=\"1\" class=\"dataframe\">\n",
       "  <thead>\n",
       "    <tr style=\"text-align: right;\">\n",
       "      <th></th>\n",
       "      <th>value</th>\n",
       "      <th>year</th>\n",
       "      <th>month</th>\n",
       "      <th>timeIndex</th>\n",
       "      <th>timeIndex_sq</th>\n",
       "    </tr>\n",
       "    <tr>\n",
       "      <th>date</th>\n",
       "      <th></th>\n",
       "      <th></th>\n",
       "      <th></th>\n",
       "      <th></th>\n",
       "      <th></th>\n",
       "    </tr>\n",
       "  </thead>\n",
       "  <tbody>\n",
       "    <tr>\n",
       "      <th>1991-07-01</th>\n",
       "      <td>3.526591</td>\n",
       "      <td>1991</td>\n",
       "      <td>Jul</td>\n",
       "      <td>0</td>\n",
       "      <td>0</td>\n",
       "    </tr>\n",
       "    <tr>\n",
       "      <th>1991-08-01</th>\n",
       "      <td>3.180891</td>\n",
       "      <td>1991</td>\n",
       "      <td>Aug</td>\n",
       "      <td>1</td>\n",
       "      <td>1</td>\n",
       "    </tr>\n",
       "    <tr>\n",
       "      <th>1991-09-01</th>\n",
       "      <td>3.252221</td>\n",
       "      <td>1991</td>\n",
       "      <td>Sep</td>\n",
       "      <td>2</td>\n",
       "      <td>4</td>\n",
       "    </tr>\n",
       "    <tr>\n",
       "      <th>1991-10-01</th>\n",
       "      <td>3.611003</td>\n",
       "      <td>1991</td>\n",
       "      <td>Oct</td>\n",
       "      <td>3</td>\n",
       "      <td>9</td>\n",
       "    </tr>\n",
       "    <tr>\n",
       "      <th>1991-11-01</th>\n",
       "      <td>3.565869</td>\n",
       "      <td>1991</td>\n",
       "      <td>Nov</td>\n",
       "      <td>4</td>\n",
       "      <td>16</td>\n",
       "    </tr>\n",
       "    <tr>\n",
       "      <th>...</th>\n",
       "      <td>...</td>\n",
       "      <td>...</td>\n",
       "      <td>...</td>\n",
       "      <td>...</td>\n",
       "      <td>...</td>\n",
       "    </tr>\n",
       "    <tr>\n",
       "      <th>2008-02-01</th>\n",
       "      <td>21.654285</td>\n",
       "      <td>2008</td>\n",
       "      <td>Feb</td>\n",
       "      <td>199</td>\n",
       "      <td>39601</td>\n",
       "    </tr>\n",
       "    <tr>\n",
       "      <th>2008-03-01</th>\n",
       "      <td>18.264945</td>\n",
       "      <td>2008</td>\n",
       "      <td>Mar</td>\n",
       "      <td>200</td>\n",
       "      <td>40000</td>\n",
       "    </tr>\n",
       "    <tr>\n",
       "      <th>2008-04-01</th>\n",
       "      <td>23.107677</td>\n",
       "      <td>2008</td>\n",
       "      <td>Apr</td>\n",
       "      <td>201</td>\n",
       "      <td>40401</td>\n",
       "    </tr>\n",
       "    <tr>\n",
       "      <th>2008-05-01</th>\n",
       "      <td>22.912510</td>\n",
       "      <td>2008</td>\n",
       "      <td>May</td>\n",
       "      <td>202</td>\n",
       "      <td>40804</td>\n",
       "    </tr>\n",
       "    <tr>\n",
       "      <th>2008-06-01</th>\n",
       "      <td>19.431740</td>\n",
       "      <td>2008</td>\n",
       "      <td>Jun</td>\n",
       "      <td>203</td>\n",
       "      <td>41209</td>\n",
       "    </tr>\n",
       "  </tbody>\n",
       "</table>\n",
       "<p>204 rows × 5 columns</p>\n",
       "</div>"
      ],
      "text/plain": [
       "                value  year month  timeIndex  timeIndex_sq\n",
       "date                                                      \n",
       "1991-07-01   3.526591  1991   Jul          0             0\n",
       "1991-08-01   3.180891  1991   Aug          1             1\n",
       "1991-09-01   3.252221  1991   Sep          2             4\n",
       "1991-10-01   3.611003  1991   Oct          3             9\n",
       "1991-11-01   3.565869  1991   Nov          4            16\n",
       "...               ...   ...   ...        ...           ...\n",
       "2008-02-01  21.654285  2008   Feb        199         39601\n",
       "2008-03-01  18.264945  2008   Mar        200         40000\n",
       "2008-04-01  23.107677  2008   Apr        201         40401\n",
       "2008-05-01  22.912510  2008   May        202         40804\n",
       "2008-06-01  19.431740  2008   Jun        203         41209\n",
       "\n",
       "[204 rows x 5 columns]"
      ]
     },
     "execution_count": 36,
     "metadata": {},
     "output_type": "execute_result"
    }
   ],
   "source": [
    "df"
   ]
  },
  {
   "cell_type": "code",
   "execution_count": 37,
   "metadata": {},
   "outputs": [
    {
     "data": {
      "text/html": [
       "<div>\n",
       "<style scoped>\n",
       "    .dataframe tbody tr th:only-of-type {\n",
       "        vertical-align: middle;\n",
       "    }\n",
       "\n",
       "    .dataframe tbody tr th {\n",
       "        vertical-align: top;\n",
       "    }\n",
       "\n",
       "    .dataframe thead th {\n",
       "        text-align: right;\n",
       "    }\n",
       "</style>\n",
       "<table border=\"1\" class=\"dataframe\">\n",
       "  <thead>\n",
       "    <tr style=\"text-align: right;\">\n",
       "      <th></th>\n",
       "      <th>Aug</th>\n",
       "      <th>Dec</th>\n",
       "      <th>Feb</th>\n",
       "      <th>Jan</th>\n",
       "      <th>Jul</th>\n",
       "      <th>Jun</th>\n",
       "      <th>Mar</th>\n",
       "      <th>May</th>\n",
       "      <th>Nov</th>\n",
       "      <th>Oct</th>\n",
       "      <th>Sep</th>\n",
       "    </tr>\n",
       "    <tr>\n",
       "      <th>date</th>\n",
       "      <th></th>\n",
       "      <th></th>\n",
       "      <th></th>\n",
       "      <th></th>\n",
       "      <th></th>\n",
       "      <th></th>\n",
       "      <th></th>\n",
       "      <th></th>\n",
       "      <th></th>\n",
       "      <th></th>\n",
       "      <th></th>\n",
       "    </tr>\n",
       "  </thead>\n",
       "  <tbody>\n",
       "    <tr>\n",
       "      <th>1991-07-01</th>\n",
       "      <td>0</td>\n",
       "      <td>0</td>\n",
       "      <td>0</td>\n",
       "      <td>0</td>\n",
       "      <td>1</td>\n",
       "      <td>0</td>\n",
       "      <td>0</td>\n",
       "      <td>0</td>\n",
       "      <td>0</td>\n",
       "      <td>0</td>\n",
       "      <td>0</td>\n",
       "    </tr>\n",
       "    <tr>\n",
       "      <th>1991-08-01</th>\n",
       "      <td>1</td>\n",
       "      <td>0</td>\n",
       "      <td>0</td>\n",
       "      <td>0</td>\n",
       "      <td>0</td>\n",
       "      <td>0</td>\n",
       "      <td>0</td>\n",
       "      <td>0</td>\n",
       "      <td>0</td>\n",
       "      <td>0</td>\n",
       "      <td>0</td>\n",
       "    </tr>\n",
       "    <tr>\n",
       "      <th>1991-09-01</th>\n",
       "      <td>0</td>\n",
       "      <td>0</td>\n",
       "      <td>0</td>\n",
       "      <td>0</td>\n",
       "      <td>0</td>\n",
       "      <td>0</td>\n",
       "      <td>0</td>\n",
       "      <td>0</td>\n",
       "      <td>0</td>\n",
       "      <td>0</td>\n",
       "      <td>1</td>\n",
       "    </tr>\n",
       "    <tr>\n",
       "      <th>1991-10-01</th>\n",
       "      <td>0</td>\n",
       "      <td>0</td>\n",
       "      <td>0</td>\n",
       "      <td>0</td>\n",
       "      <td>0</td>\n",
       "      <td>0</td>\n",
       "      <td>0</td>\n",
       "      <td>0</td>\n",
       "      <td>0</td>\n",
       "      <td>1</td>\n",
       "      <td>0</td>\n",
       "    </tr>\n",
       "    <tr>\n",
       "      <th>1991-11-01</th>\n",
       "      <td>0</td>\n",
       "      <td>0</td>\n",
       "      <td>0</td>\n",
       "      <td>0</td>\n",
       "      <td>0</td>\n",
       "      <td>0</td>\n",
       "      <td>0</td>\n",
       "      <td>0</td>\n",
       "      <td>1</td>\n",
       "      <td>0</td>\n",
       "      <td>0</td>\n",
       "    </tr>\n",
       "  </tbody>\n",
       "</table>\n",
       "</div>"
      ],
      "text/plain": [
       "            Aug  Dec  Feb  Jan  Jul  Jun  Mar  May  Nov  Oct  Sep\n",
       "date                                                             \n",
       "1991-07-01    0    0    0    0    1    0    0    0    0    0    0\n",
       "1991-08-01    1    0    0    0    0    0    0    0    0    0    0\n",
       "1991-09-01    0    0    0    0    0    0    0    0    0    0    1\n",
       "1991-10-01    0    0    0    0    0    0    0    0    0    1    0\n",
       "1991-11-01    0    0    0    0    0    0    0    0    1    0    0"
      ]
     },
     "execution_count": 37,
     "metadata": {},
     "output_type": "execute_result"
    }
   ],
   "source": [
    "# Creamos variables dummy para los meses:\n",
    "dummies_mes = pd.get_dummies(df['month'], drop_first=True)\n",
    "dummies_mes.head()"
   ]
  },
  {
   "cell_type": "code",
   "execution_count": 38,
   "metadata": {},
   "outputs": [
    {
     "data": {
      "text/html": [
       "<div>\n",
       "<style scoped>\n",
       "    .dataframe tbody tr th:only-of-type {\n",
       "        vertical-align: middle;\n",
       "    }\n",
       "\n",
       "    .dataframe tbody tr th {\n",
       "        vertical-align: top;\n",
       "    }\n",
       "\n",
       "    .dataframe thead th {\n",
       "        text-align: right;\n",
       "    }\n",
       "</style>\n",
       "<table border=\"1\" class=\"dataframe\">\n",
       "  <thead>\n",
       "    <tr style=\"text-align: right;\">\n",
       "      <th></th>\n",
       "      <th>value</th>\n",
       "      <th>year</th>\n",
       "      <th>month</th>\n",
       "      <th>timeIndex</th>\n",
       "      <th>timeIndex_sq</th>\n",
       "      <th>Aug</th>\n",
       "      <th>Dec</th>\n",
       "      <th>Feb</th>\n",
       "      <th>Jan</th>\n",
       "      <th>Jul</th>\n",
       "      <th>Jun</th>\n",
       "      <th>Mar</th>\n",
       "      <th>May</th>\n",
       "      <th>Nov</th>\n",
       "      <th>Oct</th>\n",
       "      <th>Sep</th>\n",
       "    </tr>\n",
       "    <tr>\n",
       "      <th>date</th>\n",
       "      <th></th>\n",
       "      <th></th>\n",
       "      <th></th>\n",
       "      <th></th>\n",
       "      <th></th>\n",
       "      <th></th>\n",
       "      <th></th>\n",
       "      <th></th>\n",
       "      <th></th>\n",
       "      <th></th>\n",
       "      <th></th>\n",
       "      <th></th>\n",
       "      <th></th>\n",
       "      <th></th>\n",
       "      <th></th>\n",
       "      <th></th>\n",
       "    </tr>\n",
       "  </thead>\n",
       "  <tbody>\n",
       "    <tr>\n",
       "      <th>1992-04-01</th>\n",
       "      <td>3.204780</td>\n",
       "      <td>1992</td>\n",
       "      <td>Apr</td>\n",
       "      <td>9</td>\n",
       "      <td>81</td>\n",
       "      <td>0</td>\n",
       "      <td>0</td>\n",
       "      <td>0</td>\n",
       "      <td>0</td>\n",
       "      <td>0</td>\n",
       "      <td>0</td>\n",
       "      <td>0</td>\n",
       "      <td>0</td>\n",
       "      <td>0</td>\n",
       "      <td>0</td>\n",
       "      <td>0</td>\n",
       "    </tr>\n",
       "    <tr>\n",
       "      <th>1998-02-01</th>\n",
       "      <td>5.918261</td>\n",
       "      <td>1998</td>\n",
       "      <td>Feb</td>\n",
       "      <td>79</td>\n",
       "      <td>6241</td>\n",
       "      <td>0</td>\n",
       "      <td>0</td>\n",
       "      <td>1</td>\n",
       "      <td>0</td>\n",
       "      <td>0</td>\n",
       "      <td>0</td>\n",
       "      <td>0</td>\n",
       "      <td>0</td>\n",
       "      <td>0</td>\n",
       "      <td>0</td>\n",
       "      <td>0</td>\n",
       "    </tr>\n",
       "    <tr>\n",
       "      <th>1993-01-01</th>\n",
       "      <td>6.192068</td>\n",
       "      <td>1993</td>\n",
       "      <td>Jan</td>\n",
       "      <td>18</td>\n",
       "      <td>324</td>\n",
       "      <td>0</td>\n",
       "      <td>0</td>\n",
       "      <td>0</td>\n",
       "      <td>1</td>\n",
       "      <td>0</td>\n",
       "      <td>0</td>\n",
       "      <td>0</td>\n",
       "      <td>0</td>\n",
       "      <td>0</td>\n",
       "      <td>0</td>\n",
       "      <td>0</td>\n",
       "    </tr>\n",
       "    <tr>\n",
       "      <th>1995-09-01</th>\n",
       "      <td>5.490729</td>\n",
       "      <td>1995</td>\n",
       "      <td>Sep</td>\n",
       "      <td>50</td>\n",
       "      <td>2500</td>\n",
       "      <td>0</td>\n",
       "      <td>0</td>\n",
       "      <td>0</td>\n",
       "      <td>0</td>\n",
       "      <td>0</td>\n",
       "      <td>0</td>\n",
       "      <td>0</td>\n",
       "      <td>0</td>\n",
       "      <td>0</td>\n",
       "      <td>0</td>\n",
       "      <td>1</td>\n",
       "    </tr>\n",
       "    <tr>\n",
       "      <th>2008-02-01</th>\n",
       "      <td>21.654285</td>\n",
       "      <td>2008</td>\n",
       "      <td>Feb</td>\n",
       "      <td>199</td>\n",
       "      <td>39601</td>\n",
       "      <td>0</td>\n",
       "      <td>0</td>\n",
       "      <td>1</td>\n",
       "      <td>0</td>\n",
       "      <td>0</td>\n",
       "      <td>0</td>\n",
       "      <td>0</td>\n",
       "      <td>0</td>\n",
       "      <td>0</td>\n",
       "      <td>0</td>\n",
       "      <td>0</td>\n",
       "    </tr>\n",
       "  </tbody>\n",
       "</table>\n",
       "</div>"
      ],
      "text/plain": [
       "                value  year month  timeIndex  timeIndex_sq  Aug  Dec  Feb  \\\n",
       "date                                                                        \n",
       "1992-04-01   3.204780  1992   Apr          9            81    0    0    0   \n",
       "1998-02-01   5.918261  1998   Feb         79          6241    0    0    1   \n",
       "1993-01-01   6.192068  1993   Jan         18           324    0    0    0   \n",
       "1995-09-01   5.490729  1995   Sep         50          2500    0    0    0   \n",
       "2008-02-01  21.654285  2008   Feb        199         39601    0    0    1   \n",
       "\n",
       "            Jan  Jul  Jun  Mar  May  Nov  Oct  Sep  \n",
       "date                                                \n",
       "1992-04-01    0    0    0    0    0    0    0    0  \n",
       "1998-02-01    0    0    0    0    0    0    0    0  \n",
       "1993-01-01    1    0    0    0    0    0    0    0  \n",
       "1995-09-01    0    0    0    0    0    0    0    1  \n",
       "2008-02-01    0    0    0    0    0    0    0    0  "
      ]
     },
     "execution_count": 38,
     "metadata": {},
     "output_type": "execute_result"
    }
   ],
   "source": [
    "# Hacemos el join entre el DataFrame con la serie de tiempo y las dummies:\n",
    "df = df.join(dummies_mes)\n",
    "df.sample(5)"
   ]
  },
  {
   "cell_type": "markdown",
   "metadata": {},
   "source": [
    "Vamos a hacer un split entre train y test, teniendo en cuenta que, al tratarse de una serie de tiempo, tenemos que poner *shuffle=False*."
   ]
  },
  {
   "cell_type": "code",
   "execution_count": 43,
   "metadata": {},
   "outputs": [],
   "source": [
    "from sklearn.model_selection import train_test_split\n",
    "\n",
    "df_train, df_test = train_test_split(df, test_size=12, random_state=42, shuffle=False)"
   ]
  },
  {
   "cell_type": "markdown",
   "metadata": {},
   "source": [
    "¿Qué problema generaría hacer el split con shuffle=True?"
   ]
  },
  {
   "cell_type": "markdown",
   "metadata": {},
   "source": []
  },
  {
   "cell_type": "markdown",
   "metadata": {},
   "source": [
    "Verificamos la continuidad entre los sets de entrenamiento y de testeo:"
   ]
  },
  {
   "cell_type": "code",
   "execution_count": 44,
   "metadata": {},
   "outputs": [
    {
     "data": {
      "text/html": [
       "<div>\n",
       "<style scoped>\n",
       "    .dataframe tbody tr th:only-of-type {\n",
       "        vertical-align: middle;\n",
       "    }\n",
       "\n",
       "    .dataframe tbody tr th {\n",
       "        vertical-align: top;\n",
       "    }\n",
       "\n",
       "    .dataframe thead th {\n",
       "        text-align: right;\n",
       "    }\n",
       "</style>\n",
       "<table border=\"1\" class=\"dataframe\">\n",
       "  <thead>\n",
       "    <tr style=\"text-align: right;\">\n",
       "      <th></th>\n",
       "      <th>value</th>\n",
       "      <th>year</th>\n",
       "      <th>month</th>\n",
       "      <th>timeIndex</th>\n",
       "      <th>timeIndex_sq</th>\n",
       "      <th>Aug</th>\n",
       "      <th>Dec</th>\n",
       "      <th>Feb</th>\n",
       "      <th>Jan</th>\n",
       "      <th>Jul</th>\n",
       "      <th>Jun</th>\n",
       "      <th>Mar</th>\n",
       "      <th>May</th>\n",
       "      <th>Nov</th>\n",
       "      <th>Oct</th>\n",
       "      <th>Sep</th>\n",
       "    </tr>\n",
       "    <tr>\n",
       "      <th>date</th>\n",
       "      <th></th>\n",
       "      <th></th>\n",
       "      <th></th>\n",
       "      <th></th>\n",
       "      <th></th>\n",
       "      <th></th>\n",
       "      <th></th>\n",
       "      <th></th>\n",
       "      <th></th>\n",
       "      <th></th>\n",
       "      <th></th>\n",
       "      <th></th>\n",
       "      <th></th>\n",
       "      <th></th>\n",
       "      <th></th>\n",
       "      <th></th>\n",
       "    </tr>\n",
       "  </thead>\n",
       "  <tbody>\n",
       "    <tr>\n",
       "      <th>2007-02-01</th>\n",
       "      <td>16.763869</td>\n",
       "      <td>2007</td>\n",
       "      <td>Feb</td>\n",
       "      <td>187</td>\n",
       "      <td>34969</td>\n",
       "      <td>0</td>\n",
       "      <td>0</td>\n",
       "      <td>1</td>\n",
       "      <td>0</td>\n",
       "      <td>0</td>\n",
       "      <td>0</td>\n",
       "      <td>0</td>\n",
       "      <td>0</td>\n",
       "      <td>0</td>\n",
       "      <td>0</td>\n",
       "      <td>0</td>\n",
       "    </tr>\n",
       "    <tr>\n",
       "      <th>2007-03-01</th>\n",
       "      <td>19.792754</td>\n",
       "      <td>2007</td>\n",
       "      <td>Mar</td>\n",
       "      <td>188</td>\n",
       "      <td>35344</td>\n",
       "      <td>0</td>\n",
       "      <td>0</td>\n",
       "      <td>0</td>\n",
       "      <td>0</td>\n",
       "      <td>0</td>\n",
       "      <td>0</td>\n",
       "      <td>1</td>\n",
       "      <td>0</td>\n",
       "      <td>0</td>\n",
       "      <td>0</td>\n",
       "      <td>0</td>\n",
       "    </tr>\n",
       "    <tr>\n",
       "      <th>2007-04-01</th>\n",
       "      <td>16.427305</td>\n",
       "      <td>2007</td>\n",
       "      <td>Apr</td>\n",
       "      <td>189</td>\n",
       "      <td>35721</td>\n",
       "      <td>0</td>\n",
       "      <td>0</td>\n",
       "      <td>0</td>\n",
       "      <td>0</td>\n",
       "      <td>0</td>\n",
       "      <td>0</td>\n",
       "      <td>0</td>\n",
       "      <td>0</td>\n",
       "      <td>0</td>\n",
       "      <td>0</td>\n",
       "      <td>0</td>\n",
       "    </tr>\n",
       "    <tr>\n",
       "      <th>2007-05-01</th>\n",
       "      <td>21.000742</td>\n",
       "      <td>2007</td>\n",
       "      <td>May</td>\n",
       "      <td>190</td>\n",
       "      <td>36100</td>\n",
       "      <td>0</td>\n",
       "      <td>0</td>\n",
       "      <td>0</td>\n",
       "      <td>0</td>\n",
       "      <td>0</td>\n",
       "      <td>0</td>\n",
       "      <td>0</td>\n",
       "      <td>1</td>\n",
       "      <td>0</td>\n",
       "      <td>0</td>\n",
       "      <td>0</td>\n",
       "    </tr>\n",
       "    <tr>\n",
       "      <th>2007-06-01</th>\n",
       "      <td>20.681002</td>\n",
       "      <td>2007</td>\n",
       "      <td>Jun</td>\n",
       "      <td>191</td>\n",
       "      <td>36481</td>\n",
       "      <td>0</td>\n",
       "      <td>0</td>\n",
       "      <td>0</td>\n",
       "      <td>0</td>\n",
       "      <td>0</td>\n",
       "      <td>1</td>\n",
       "      <td>0</td>\n",
       "      <td>0</td>\n",
       "      <td>0</td>\n",
       "      <td>0</td>\n",
       "      <td>0</td>\n",
       "    </tr>\n",
       "  </tbody>\n",
       "</table>\n",
       "</div>"
      ],
      "text/plain": [
       "                value  year month  timeIndex  timeIndex_sq  Aug  Dec  Feb  \\\n",
       "date                                                                        \n",
       "2007-02-01  16.763869  2007   Feb        187         34969    0    0    1   \n",
       "2007-03-01  19.792754  2007   Mar        188         35344    0    0    0   \n",
       "2007-04-01  16.427305  2007   Apr        189         35721    0    0    0   \n",
       "2007-05-01  21.000742  2007   May        190         36100    0    0    0   \n",
       "2007-06-01  20.681002  2007   Jun        191         36481    0    0    0   \n",
       "\n",
       "            Jan  Jul  Jun  Mar  May  Nov  Oct  Sep  \n",
       "date                                                \n",
       "2007-02-01    0    0    0    0    0    0    0    0  \n",
       "2007-03-01    0    0    0    1    0    0    0    0  \n",
       "2007-04-01    0    0    0    0    0    0    0    0  \n",
       "2007-05-01    0    0    0    0    1    0    0    0  \n",
       "2007-06-01    0    0    1    0    0    0    0    0  "
      ]
     },
     "execution_count": 44,
     "metadata": {},
     "output_type": "execute_result"
    }
   ],
   "source": [
    "# Vemos los últimos datos del set de entrenamiento:\n",
    "df_train.tail()"
   ]
  },
  {
   "cell_type": "code",
   "execution_count": 45,
   "metadata": {},
   "outputs": [
    {
     "data": {
      "text/html": [
       "<div>\n",
       "<style scoped>\n",
       "    .dataframe tbody tr th:only-of-type {\n",
       "        vertical-align: middle;\n",
       "    }\n",
       "\n",
       "    .dataframe tbody tr th {\n",
       "        vertical-align: top;\n",
       "    }\n",
       "\n",
       "    .dataframe thead th {\n",
       "        text-align: right;\n",
       "    }\n",
       "</style>\n",
       "<table border=\"1\" class=\"dataframe\">\n",
       "  <thead>\n",
       "    <tr style=\"text-align: right;\">\n",
       "      <th></th>\n",
       "      <th>value</th>\n",
       "      <th>year</th>\n",
       "      <th>month</th>\n",
       "      <th>timeIndex</th>\n",
       "      <th>timeIndex_sq</th>\n",
       "      <th>Aug</th>\n",
       "      <th>Dec</th>\n",
       "      <th>Feb</th>\n",
       "      <th>Jan</th>\n",
       "      <th>Jul</th>\n",
       "      <th>Jun</th>\n",
       "      <th>Mar</th>\n",
       "      <th>May</th>\n",
       "      <th>Nov</th>\n",
       "      <th>Oct</th>\n",
       "      <th>Sep</th>\n",
       "    </tr>\n",
       "    <tr>\n",
       "      <th>date</th>\n",
       "      <th></th>\n",
       "      <th></th>\n",
       "      <th></th>\n",
       "      <th></th>\n",
       "      <th></th>\n",
       "      <th></th>\n",
       "      <th></th>\n",
       "      <th></th>\n",
       "      <th></th>\n",
       "      <th></th>\n",
       "      <th></th>\n",
       "      <th></th>\n",
       "      <th></th>\n",
       "      <th></th>\n",
       "      <th></th>\n",
       "      <th></th>\n",
       "    </tr>\n",
       "  </thead>\n",
       "  <tbody>\n",
       "    <tr>\n",
       "      <th>2007-07-01</th>\n",
       "      <td>21.834890</td>\n",
       "      <td>2007</td>\n",
       "      <td>Jul</td>\n",
       "      <td>192</td>\n",
       "      <td>36864</td>\n",
       "      <td>0</td>\n",
       "      <td>0</td>\n",
       "      <td>0</td>\n",
       "      <td>0</td>\n",
       "      <td>1</td>\n",
       "      <td>0</td>\n",
       "      <td>0</td>\n",
       "      <td>0</td>\n",
       "      <td>0</td>\n",
       "      <td>0</td>\n",
       "      <td>0</td>\n",
       "    </tr>\n",
       "    <tr>\n",
       "      <th>2007-08-01</th>\n",
       "      <td>23.930204</td>\n",
       "      <td>2007</td>\n",
       "      <td>Aug</td>\n",
       "      <td>193</td>\n",
       "      <td>37249</td>\n",
       "      <td>1</td>\n",
       "      <td>0</td>\n",
       "      <td>0</td>\n",
       "      <td>0</td>\n",
       "      <td>0</td>\n",
       "      <td>0</td>\n",
       "      <td>0</td>\n",
       "      <td>0</td>\n",
       "      <td>0</td>\n",
       "      <td>0</td>\n",
       "      <td>0</td>\n",
       "    </tr>\n",
       "    <tr>\n",
       "      <th>2007-09-01</th>\n",
       "      <td>22.930357</td>\n",
       "      <td>2007</td>\n",
       "      <td>Sep</td>\n",
       "      <td>194</td>\n",
       "      <td>37636</td>\n",
       "      <td>0</td>\n",
       "      <td>0</td>\n",
       "      <td>0</td>\n",
       "      <td>0</td>\n",
       "      <td>0</td>\n",
       "      <td>0</td>\n",
       "      <td>0</td>\n",
       "      <td>0</td>\n",
       "      <td>0</td>\n",
       "      <td>0</td>\n",
       "      <td>1</td>\n",
       "    </tr>\n",
       "    <tr>\n",
       "      <th>2007-10-01</th>\n",
       "      <td>23.263340</td>\n",
       "      <td>2007</td>\n",
       "      <td>Oct</td>\n",
       "      <td>195</td>\n",
       "      <td>38025</td>\n",
       "      <td>0</td>\n",
       "      <td>0</td>\n",
       "      <td>0</td>\n",
       "      <td>0</td>\n",
       "      <td>0</td>\n",
       "      <td>0</td>\n",
       "      <td>0</td>\n",
       "      <td>0</td>\n",
       "      <td>0</td>\n",
       "      <td>1</td>\n",
       "      <td>0</td>\n",
       "    </tr>\n",
       "    <tr>\n",
       "      <th>2007-11-01</th>\n",
       "      <td>25.250030</td>\n",
       "      <td>2007</td>\n",
       "      <td>Nov</td>\n",
       "      <td>196</td>\n",
       "      <td>38416</td>\n",
       "      <td>0</td>\n",
       "      <td>0</td>\n",
       "      <td>0</td>\n",
       "      <td>0</td>\n",
       "      <td>0</td>\n",
       "      <td>0</td>\n",
       "      <td>0</td>\n",
       "      <td>0</td>\n",
       "      <td>1</td>\n",
       "      <td>0</td>\n",
       "      <td>0</td>\n",
       "    </tr>\n",
       "  </tbody>\n",
       "</table>\n",
       "</div>"
      ],
      "text/plain": [
       "                value  year month  timeIndex  timeIndex_sq  Aug  Dec  Feb  \\\n",
       "date                                                                        \n",
       "2007-07-01  21.834890  2007   Jul        192         36864    0    0    0   \n",
       "2007-08-01  23.930204  2007   Aug        193         37249    1    0    0   \n",
       "2007-09-01  22.930357  2007   Sep        194         37636    0    0    0   \n",
       "2007-10-01  23.263340  2007   Oct        195         38025    0    0    0   \n",
       "2007-11-01  25.250030  2007   Nov        196         38416    0    0    0   \n",
       "\n",
       "            Jan  Jul  Jun  Mar  May  Nov  Oct  Sep  \n",
       "date                                                \n",
       "2007-07-01    0    1    0    0    0    0    0    0  \n",
       "2007-08-01    0    0    0    0    0    0    0    0  \n",
       "2007-09-01    0    0    0    0    0    0    0    1  \n",
       "2007-10-01    0    0    0    0    0    0    1    0  \n",
       "2007-11-01    0    0    0    0    0    1    0    0  "
      ]
     },
     "execution_count": 45,
     "metadata": {},
     "output_type": "execute_result"
    }
   ],
   "source": [
    "# Vemos los primeros datos del set de testeo:\n",
    "\n",
    "df_test.head()"
   ]
  },
  {
   "cell_type": "markdown",
   "metadata": {},
   "source": [
    "Vemos que hay continuidad entre el set de entrenamiento y el de testeo. Podemos entrenar los modelos con datos hasta septiembre de 2006 y testear con datos desde octubre en adelante."
   ]
  },
  {
   "cell_type": "markdown",
   "metadata": {},
   "source": [
    "#### Media Constante:\n",
    "\n",
    "La **media constante** es el modelo más básico e ingenuo de todos. Consiste simplemente en tomar la media del set de entrenamiento y utilizar ese valor para realizar predicciones. Puede usarse como benchmark para comparar otros modelos."
   ]
  },
  {
   "cell_type": "code",
   "execution_count": 46,
   "metadata": {},
   "outputs": [],
   "source": [
    "# Calculamos el promedio:\n",
    "model_mean_pred = df_train['value'].mean()\n",
    "\n",
    "# La predicción es fija y es la misma para el set de testeo y de entrenamiento:\n",
    "df_train[\"Mean\"] = model_mean_pred\n",
    "df_test[\"Mean\"] = model_mean_pred"
   ]
  },
  {
   "cell_type": "code",
   "execution_count": 47,
   "metadata": {},
   "outputs": [
    {
     "data": {
      "image/png": "[encoded data removed]",
      "text/plain": [
       "<Figure size 432x288 with 1 Axes>"
      ]
     },
     "metadata": {
      "needs_background": "light"
     },
     "output_type": "display_data"
    }
   ],
   "source": [
    "# Ploteamos los valores del set de entrenamiento y el modelo:\n",
    "df_train.plot(kind=\"line\", y = [\"value\", \"Mean\"]);"
   ]
  },
  {
   "cell_type": "code",
   "execution_count": 48,
   "metadata": {},
   "outputs": [
    {
     "data": {
      "image/png": "[encoded data removed]",
      "text/plain": [
       "<Figure size 432x288 with 1 Axes>"
      ]
     },
     "metadata": {
      "needs_background": "light"
     },
     "output_type": "display_data"
    }
   ],
   "source": [
    "# Ploteamos los valores del set de testeo y el modelo\n",
    "\n",
    "df_test.plot(kind=\"line\", y = [\"value\", \"Mean\"]);"
   ]
  },
  {
   "cell_type": "markdown",
   "metadata": {},
   "source": [
    "* ¿Cuán bien ajusta esta estimación?\n",
    "\n",
    "Primero definimos una función que calcula el **RMSE**. "
   ]
  },
  {
   "cell_type": "code",
   "execution_count": 49,
   "metadata": {},
   "outputs": [],
   "source": [
    "def RMSE(predicted, actual):\n",
    "    mse = (predicted - actual) ** 2\n",
    "    rmse = np.sqrt(mse.sum() / mse.count())\n",
    "    return rmse"
   ]
  },
  {
   "cell_type": "code",
   "execution_count": 51,
   "metadata": {},
   "outputs": [
    {
     "data": {
      "text/plain": [
       "13.555592055616877"
      ]
     },
     "execution_count": 51,
     "metadata": {},
     "output_type": "execute_result"
    }
   ],
   "source": [
    "model_mean_RMSE = RMSE(df_test[\"Mean\"], df_test[\"value\"])\t\n",
    "model_mean_RMSE"
   ]
  },
  {
   "cell_type": "code",
   "execution_count": 52,
   "metadata": {},
   "outputs": [
    {
     "data": {
      "text/html": [
       "<div>\n",
       "<style scoped>\n",
       "    .dataframe tbody tr th:only-of-type {\n",
       "        vertical-align: middle;\n",
       "    }\n",
       "\n",
       "    .dataframe tbody tr th {\n",
       "        vertical-align: top;\n",
       "    }\n",
       "\n",
       "    .dataframe thead th {\n",
       "        text-align: right;\n",
       "    }\n",
       "</style>\n",
       "<table border=\"1\" class=\"dataframe\">\n",
       "  <thead>\n",
       "    <tr style=\"text-align: right;\">\n",
       "      <th></th>\n",
       "      <th>Model</th>\n",
       "      <th>RMSE</th>\n",
       "    </tr>\n",
       "  </thead>\n",
       "  <tbody>\n",
       "    <tr>\n",
       "      <th>0</th>\n",
       "      <td>Mean</td>\n",
       "      <td>13.555592</td>\n",
       "    </tr>\n",
       "  </tbody>\n",
       "</table>\n",
       "</div>"
      ],
      "text/plain": [
       "  Model       RMSE\n",
       "0  Mean  13.555592"
      ]
     },
     "execution_count": 52,
     "metadata": {},
     "output_type": "execute_result"
    }
   ],
   "source": [
    "# Guardamos el resultado en un DataFrame:\n",
    "df_Results = pd.DataFrame(columns = [\"Model\", \"RMSE\"])\n",
    "df_Results.loc[0, \"Model\"] = \"Mean\"\n",
    "df_Results.loc[0, \"RMSE\"] = model_mean_RMSE\n",
    "df_Results.head()"
   ]
  },
  {
   "cell_type": "markdown",
   "metadata": {},
   "source": [
    "#### Tendencia Lineal:\n",
    "\n",
    "Continuaremos trabajando con la tendencia lineal entre value y time, fiteando nuestro modelo de regresión lineal entre \"Value\" y \"timeIndex\". En esta práctica vamos a usar la API formula de statsmodels, pero podríamos usar cualquier otra librería para realizar la regresión por ejemplo Sklearn que ya la venimos usando."
   ]
  },
  {
   "cell_type": "code",
   "execution_count": 53,
   "metadata": {},
   "outputs": [],
   "source": [
    "model_linear = smf.ols('value ~ timeIndex', data = df_train).fit()"
   ]
  },
  {
   "cell_type": "markdown",
   "metadata": {},
   "source": [
    "El primer argumento corresponde a la forma funcional de nuestra estimación. [Más detalles](http://www.statsmodels.org/dev/examples/notebooks/generated/formulas.html)."
   ]
  },
  {
   "cell_type": "code",
   "execution_count": 54,
   "metadata": {},
   "outputs": [
    {
     "data": {
      "text/html": [
       "<table class=\"simpletable\">\n",
       "<caption>OLS Regression Results</caption>\n",
       "<tr>\n",
       "  <th>Dep. Variable:</th>          <td>value</td>      <th>  R-squared:         </th> <td>   0.853</td>\n",
       "</tr>\n",
       "<tr>\n",
       "  <th>Model:</th>                   <td>OLS</td>       <th>  Adj. R-squared:    </th> <td>   0.852</td>\n",
       "</tr>\n",
       "<tr>\n",
       "  <th>Method:</th>             <td>Least Squares</td>  <th>  F-statistic:       </th> <td>   1104.</td>\n",
       "</tr>\n",
       "<tr>\n",
       "  <th>Date:</th>             <td>Sat, 04 Jun 2022</td> <th>  Prob (F-statistic):</th> <td>4.48e-81</td>\n",
       "</tr>\n",
       "<tr>\n",
       "  <th>Time:</th>                 <td>11:34:38</td>     <th>  Log-Likelihood:    </th> <td> -403.54</td>\n",
       "</tr>\n",
       "<tr>\n",
       "  <th>No. Observations:</th>      <td>   192</td>      <th>  AIC:               </th> <td>   811.1</td>\n",
       "</tr>\n",
       "<tr>\n",
       "  <th>Df Residuals:</th>          <td>   190</td>      <th>  BIC:               </th> <td>   817.6</td>\n",
       "</tr>\n",
       "<tr>\n",
       "  <th>Df Model:</th>              <td>     1</td>      <th>                     </th>     <td> </td>   \n",
       "</tr>\n",
       "<tr>\n",
       "  <th>Covariance Type:</th>      <td>nonrobust</td>    <th>                     </th>     <td> </td>   \n",
       "</tr>\n",
       "</table>\n",
       "<table class=\"simpletable\">\n",
       "<tr>\n",
       "      <td></td>         <th>coef</th>     <th>std err</th>      <th>t</th>      <th>P>|t|</th>  <th>[0.025</th>    <th>0.975]</th>  \n",
       "</tr>\n",
       "<tr>\n",
       "  <th>Intercept</th> <td>    1.6940</td> <td>    0.286</td> <td>    5.921</td> <td> 0.000</td> <td>    1.130</td> <td>    2.258</td>\n",
       "</tr>\n",
       "<tr>\n",
       "  <th>timeIndex</th> <td>    0.0861</td> <td>    0.003</td> <td>   33.223</td> <td> 0.000</td> <td>    0.081</td> <td>    0.091</td>\n",
       "</tr>\n",
       "</table>\n",
       "<table class=\"simpletable\">\n",
       "<tr>\n",
       "  <th>Omnibus:</th>       <td>58.489</td> <th>  Durbin-Watson:     </th> <td>   1.167</td>\n",
       "</tr>\n",
       "<tr>\n",
       "  <th>Prob(Omnibus):</th> <td> 0.000</td> <th>  Jarque-Bera (JB):  </th> <td> 172.940</td>\n",
       "</tr>\n",
       "<tr>\n",
       "  <th>Skew:</th>          <td> 1.250</td> <th>  Prob(JB):          </th> <td>2.80e-38</td>\n",
       "</tr>\n",
       "<tr>\n",
       "  <th>Kurtosis:</th>      <td> 6.920</td> <th>  Cond. No.          </th> <td>    220.</td>\n",
       "</tr>\n",
       "</table><br/><br/>Notes:<br/>[1] Standard Errors assume that the covariance matrix of the errors is correctly specified."
      ],
      "text/plain": [
       "<class 'statsmodels.iolib.summary.Summary'>\n",
       "\"\"\"\n",
       "                            OLS Regression Results                            \n",
       "==============================================================================\n",
       "Dep. Variable:                  value   R-squared:                       0.853\n",
       "Model:                            OLS   Adj. R-squared:                  0.852\n",
       "Method:                 Least Squares   F-statistic:                     1104.\n",
       "Date:                Sat, 04 Jun 2022   Prob (F-statistic):           4.48e-81\n",
       "Time:                        11:34:38   Log-Likelihood:                -403.54\n",
       "No. Observations:                 192   AIC:                             811.1\n",
       "Df Residuals:                     190   BIC:                             817.6\n",
       "Df Model:                           1                                         \n",
       "Covariance Type:            nonrobust                                         \n",
       "==============================================================================\n",
       "                 coef    std err          t      P>|t|      [0.025      0.975]\n",
       "------------------------------------------------------------------------------\n",
       "Intercept      1.6940      0.286      5.921      0.000       1.130       2.258\n",
       "timeIndex      0.0861      0.003     33.223      0.000       0.081       0.091\n",
       "==============================================================================\n",
       "Omnibus:                       58.489   Durbin-Watson:                   1.167\n",
       "Prob(Omnibus):                  0.000   Jarque-Bera (JB):              172.940\n",
       "Skew:                           1.250   Prob(JB):                     2.80e-38\n",
       "Kurtosis:                       6.920   Cond. No.                         220.\n",
       "==============================================================================\n",
       "\n",
       "Notes:\n",
       "[1] Standard Errors assume that the covariance matrix of the errors is correctly specified.\n",
       "\"\"\""
      ]
     },
     "execution_count": 54,
     "metadata": {},
     "output_type": "execute_result"
    }
   ],
   "source": [
    "model_linear.summary()"
   ]
  },
  {
   "cell_type": "markdown",
   "metadata": {},
   "source": [
    "Observamos los resultados de la estimación del modelo. Vemos que la tendencia lineal es una variable significativa y que el R2 es igual a 0,853.\n",
    "\n",
    "\n",
    "Veamos las predicciones del modelo sobre el set de entrenamiento:"
   ]
  },
  {
   "cell_type": "code",
   "execution_count": 55,
   "metadata": {},
   "outputs": [],
   "source": [
    "df_train[\"LinearTrend\"] = model_linear.predict(df_train['timeIndex'])"
   ]
  },
  {
   "cell_type": "markdown",
   "metadata": {},
   "source": [
    "Ploteamos los resultados de la predicción:"
   ]
  },
  {
   "cell_type": "code",
   "execution_count": 56,
   "metadata": {},
   "outputs": [
    {
     "data": {
      "image/png": "[encoded data removed]",
      "text/plain": [
       "<Figure size 432x288 with 1 Axes>"
      ]
     },
     "metadata": {
      "needs_background": "light"
     },
     "output_type": "display_data"
    }
   ],
   "source": [
    "df_train.plot(kind = \"line\", y = [\"value\",\"LinearTrend\"]);"
   ]
  },
  {
   "cell_type": "markdown",
   "metadata": {},
   "source": [
    "Veamos las predicciones del modelo sobre el set de testeo:"
   ]
  },
  {
   "cell_type": "code",
   "execution_count": 57,
   "metadata": {},
   "outputs": [],
   "source": [
    "df_test[\"LinearTrend\"] = model_linear.predict(df_test.timeIndex)"
   ]
  },
  {
   "cell_type": "markdown",
   "metadata": {},
   "source": [
    "Ploteamos los resultados de test:"
   ]
  },
  {
   "cell_type": "code",
   "execution_count": 58,
   "metadata": {},
   "outputs": [
    {
     "data": {
      "image/png": "[encoded data removed]",
      "text/plain": [
       "<Figure size 432x288 with 1 Axes>"
      ]
     },
     "metadata": {
      "needs_background": "light"
     },
     "output_type": "display_data"
    }
   ],
   "source": [
    "df_test.plot(kind = \"line\", y = [\"value\",\"LinearTrend\"]);"
   ]
  },
  {
   "cell_type": "markdown",
   "metadata": {},
   "source": [
    "Calculamos el error y añadimos estos datos a nuestro DF de resultados para comparar con el modelo anterior:"
   ]
  },
  {
   "cell_type": "code",
   "execution_count": 59,
   "metadata": {},
   "outputs": [
    {
     "data": {
      "text/html": [
       "<div>\n",
       "<style scoped>\n",
       "    .dataframe tbody tr th:only-of-type {\n",
       "        vertical-align: middle;\n",
       "    }\n",
       "\n",
       "    .dataframe tbody tr th {\n",
       "        vertical-align: top;\n",
       "    }\n",
       "\n",
       "    .dataframe thead th {\n",
       "        text-align: right;\n",
       "    }\n",
       "</style>\n",
       "<table border=\"1\" class=\"dataframe\">\n",
       "  <thead>\n",
       "    <tr style=\"text-align: right;\">\n",
       "      <th></th>\n",
       "      <th>Model</th>\n",
       "      <th>RMSE</th>\n",
       "    </tr>\n",
       "  </thead>\n",
       "  <tbody>\n",
       "    <tr>\n",
       "      <th>0</th>\n",
       "      <td>Mean</td>\n",
       "      <td>13.555592</td>\n",
       "    </tr>\n",
       "    <tr>\n",
       "      <th>2</th>\n",
       "      <td>LinearTrend</td>\n",
       "      <td>5.350154</td>\n",
       "    </tr>\n",
       "  </tbody>\n",
       "</table>\n",
       "</div>"
      ],
      "text/plain": [
       "         Model       RMSE\n",
       "0         Mean  13.555592\n",
       "2  LinearTrend   5.350154"
      ]
     },
     "execution_count": 59,
     "metadata": {},
     "output_type": "execute_result"
    }
   ],
   "source": [
    "df_Results.loc[2, \"Model\"] = \"LinearTrend\"\n",
    "df_Results.loc[2, \"RMSE\"] = RMSE(df_test['LinearTrend'], df_test['value'])\n",
    "df_Results"
   ]
  },
  {
   "cell_type": "markdown",
   "metadata": {},
   "source": [
    "#### Tendencia Cuadrática:\n",
    "\n",
    "Continuaremos trabajando con la tendencia cuadrática entre value y time:"
   ]
  },
  {
   "cell_type": "code",
   "execution_count": 60,
   "metadata": {},
   "outputs": [],
   "source": [
    "# Ahora fiteamos nuestro modelo de regresión lineal entre value y timeIndex + timeIndex_sq\n",
    "\n",
    "model_quadratic = smf.ols('value ~ timeIndex + timeIndex_sq', data = df_train).fit()"
   ]
  },
  {
   "cell_type": "code",
   "execution_count": 61,
   "metadata": {},
   "outputs": [
    {
     "data": {
      "text/html": [
       "<table class=\"simpletable\">\n",
       "<caption>OLS Regression Results</caption>\n",
       "<tr>\n",
       "  <th>Dep. Variable:</th>          <td>value</td>      <th>  R-squared:         </th> <td>   0.886</td>\n",
       "</tr>\n",
       "<tr>\n",
       "  <th>Model:</th>                   <td>OLS</td>       <th>  Adj. R-squared:    </th> <td>   0.884</td>\n",
       "</tr>\n",
       "<tr>\n",
       "  <th>Method:</th>             <td>Least Squares</td>  <th>  F-statistic:       </th> <td>   731.3</td>\n",
       "</tr>\n",
       "<tr>\n",
       "  <th>Date:</th>             <td>Sat, 04 Jun 2022</td> <th>  Prob (F-statistic):</th> <td>1.08e-89</td>\n",
       "</tr>\n",
       "<tr>\n",
       "  <th>Time:</th>                 <td>11:38:08</td>     <th>  Log-Likelihood:    </th> <td> -379.59</td>\n",
       "</tr>\n",
       "<tr>\n",
       "  <th>No. Observations:</th>      <td>   192</td>      <th>  AIC:               </th> <td>   765.2</td>\n",
       "</tr>\n",
       "<tr>\n",
       "  <th>Df Residuals:</th>          <td>   189</td>      <th>  BIC:               </th> <td>   774.9</td>\n",
       "</tr>\n",
       "<tr>\n",
       "  <th>Df Model:</th>              <td>     2</td>      <th>                     </th>     <td> </td>   \n",
       "</tr>\n",
       "<tr>\n",
       "  <th>Covariance Type:</th>      <td>nonrobust</td>    <th>                     </th>     <td> </td>   \n",
       "</tr>\n",
       "</table>\n",
       "<table class=\"simpletable\">\n",
       "<tr>\n",
       "        <td></td>          <th>coef</th>     <th>std err</th>      <th>t</th>      <th>P>|t|</th>  <th>[0.025</th>    <th>0.975]</th>  \n",
       "</tr>\n",
       "<tr>\n",
       "  <th>Intercept</th>    <td>    3.7416</td> <td>    0.377</td> <td>    9.915</td> <td> 0.000</td> <td>    2.997</td> <td>    4.486</td>\n",
       "</tr>\n",
       "<tr>\n",
       "  <th>timeIndex</th>    <td>    0.0214</td> <td>    0.009</td> <td>    2.347</td> <td> 0.020</td> <td>    0.003</td> <td>    0.039</td>\n",
       "</tr>\n",
       "<tr>\n",
       "  <th>timeIndex_sq</th> <td>    0.0003</td> <td> 4.63e-05</td> <td>    7.318</td> <td> 0.000</td> <td>    0.000</td> <td>    0.000</td>\n",
       "</tr>\n",
       "</table>\n",
       "<table class=\"simpletable\">\n",
       "<tr>\n",
       "  <th>Omnibus:</th>       <td>42.894</td> <th>  Durbin-Watson:     </th> <td>   1.497</td>\n",
       "</tr>\n",
       "<tr>\n",
       "  <th>Prob(Omnibus):</th> <td> 0.000</td> <th>  Jarque-Bera (JB):  </th> <td> 122.412</td>\n",
       "</tr>\n",
       "<tr>\n",
       "  <th>Skew:</th>          <td> 0.910</td> <th>  Prob(JB):          </th> <td>2.62e-27</td>\n",
       "</tr>\n",
       "<tr>\n",
       "  <th>Kurtosis:</th>      <td> 6.463</td> <th>  Cond. No.          </th> <td>4.86e+04</td>\n",
       "</tr>\n",
       "</table><br/><br/>Notes:<br/>[1] Standard Errors assume that the covariance matrix of the errors is correctly specified.<br/>[2] The condition number is large, 4.86e+04. This might indicate that there are<br/>strong multicollinearity or other numerical problems."
      ],
      "text/plain": [
       "<class 'statsmodels.iolib.summary.Summary'>\n",
       "\"\"\"\n",
       "                            OLS Regression Results                            \n",
       "==============================================================================\n",
       "Dep. Variable:                  value   R-squared:                       0.886\n",
       "Model:                            OLS   Adj. R-squared:                  0.884\n",
       "Method:                 Least Squares   F-statistic:                     731.3\n",
       "Date:                Sat, 04 Jun 2022   Prob (F-statistic):           1.08e-89\n",
       "Time:                        11:38:08   Log-Likelihood:                -379.59\n",
       "No. Observations:                 192   AIC:                             765.2\n",
       "Df Residuals:                     189   BIC:                             774.9\n",
       "Df Model:                           2                                         \n",
       "Covariance Type:            nonrobust                                         \n",
       "================================================================================\n",
       "                   coef    std err          t      P>|t|      [0.025      0.975]\n",
       "--------------------------------------------------------------------------------\n",
       "Intercept        3.7416      0.377      9.915      0.000       2.997       4.486\n",
       "timeIndex        0.0214      0.009      2.347      0.020       0.003       0.039\n",
       "timeIndex_sq     0.0003   4.63e-05      7.318      0.000       0.000       0.000\n",
       "==============================================================================\n",
       "Omnibus:                       42.894   Durbin-Watson:                   1.497\n",
       "Prob(Omnibus):                  0.000   Jarque-Bera (JB):              122.412\n",
       "Skew:                           0.910   Prob(JB):                     2.62e-27\n",
       "Kurtosis:                       6.463   Cond. No.                     4.86e+04\n",
       "==============================================================================\n",
       "\n",
       "Notes:\n",
       "[1] Standard Errors assume that the covariance matrix of the errors is correctly specified.\n",
       "[2] The condition number is large, 4.86e+04. This might indicate that there are\n",
       "strong multicollinearity or other numerical problems.\n",
       "\"\"\""
      ]
     },
     "execution_count": 61,
     "metadata": {},
     "output_type": "execute_result"
    }
   ],
   "source": [
    "# Observamos el summary del modelo:\n",
    "\n",
    "model_quadratic.summary()"
   ]
  },
  {
   "cell_type": "markdown",
   "metadata": {},
   "source": [
    "Vemos que la componente cuadrática es significativa, ya que también tiene un p-valor cercano a cero y el R2 mejora a 0,886.\n",
    "Veamos las predicciones del modelo sobre el set de entrenamiento:"
   ]
  },
  {
   "cell_type": "code",
   "execution_count": 62,
   "metadata": {},
   "outputs": [],
   "source": [
    "df_train[\"QuadraticTrend\"] = model_quadratic.predict(df_train[[\"timeIndex\",\\\n",
    "                                                      \"timeIndex_sq\"]])"
   ]
  },
  {
   "cell_type": "markdown",
   "metadata": {},
   "source": [
    "Ploteamos los resultados de la predicción:"
   ]
  },
  {
   "cell_type": "code",
   "execution_count": 63,
   "metadata": {},
   "outputs": [
    {
     "data": {
      "image/png": "[encoded data removed]",
      "text/plain": [
       "<Figure size 432x288 with 1 Axes>"
      ]
     },
     "metadata": {
      "needs_background": "light"
     },
     "output_type": "display_data"
    }
   ],
   "source": [
    "df_train.plot(kind = \"line\", y = [\"value\",\"QuadraticTrend\"]);"
   ]
  },
  {
   "cell_type": "markdown",
   "metadata": {},
   "source": [
    "Veamos las predicciones del modelo sobre el set de testeo:"
   ]
  },
  {
   "cell_type": "code",
   "execution_count": 64,
   "metadata": {},
   "outputs": [],
   "source": [
    "df_test[\"QuadraticTrend\"] = model_quadratic.predict(df_test[[\"timeIndex\",\\\n",
    "                                                      \"timeIndex_sq\"]])"
   ]
  },
  {
   "cell_type": "markdown",
   "metadata": {},
   "source": [
    "Ploteamos los resultados de la predicción:"
   ]
  },
  {
   "cell_type": "code",
   "execution_count": 65,
   "metadata": {},
   "outputs": [
    {
     "data": {
      "image/png": "[encoded data removed]",
      "text/plain": [
       "<Figure size 432x288 with 1 Axes>"
      ]
     },
     "metadata": {
      "needs_background": "light"
     },
     "output_type": "display_data"
    }
   ],
   "source": [
    "# POR FAVOR COMPLETÁ CON TU CÓDIGO:\n",
    "df_test.plot(kind = \"line\", y = [\"value\", \"QuadraticTrend\"]);"
   ]
  },
  {
   "cell_type": "markdown",
   "metadata": {},
   "source": [
    "Agregamos las predicciones al DataFrame de testeo:"
   ]
  },
  {
   "cell_type": "code",
   "execution_count": 66,
   "metadata": {},
   "outputs": [
    {
     "data": {
      "text/html": [
       "<div>\n",
       "<style scoped>\n",
       "    .dataframe tbody tr th:only-of-type {\n",
       "        vertical-align: middle;\n",
       "    }\n",
       "\n",
       "    .dataframe tbody tr th {\n",
       "        vertical-align: top;\n",
       "    }\n",
       "\n",
       "    .dataframe thead th {\n",
       "        text-align: right;\n",
       "    }\n",
       "</style>\n",
       "<table border=\"1\" class=\"dataframe\">\n",
       "  <thead>\n",
       "    <tr style=\"text-align: right;\">\n",
       "      <th></th>\n",
       "      <th>Model</th>\n",
       "      <th>RMSE</th>\n",
       "    </tr>\n",
       "  </thead>\n",
       "  <tbody>\n",
       "    <tr>\n",
       "      <th>0</th>\n",
       "      <td>Mean</td>\n",
       "      <td>13.555592</td>\n",
       "    </tr>\n",
       "    <tr>\n",
       "      <th>2</th>\n",
       "      <td>LinearTrend</td>\n",
       "      <td>5.350154</td>\n",
       "    </tr>\n",
       "    <tr>\n",
       "      <th>3</th>\n",
       "      <td>QuadraticTrend</td>\n",
       "      <td>3.624616</td>\n",
       "    </tr>\n",
       "  </tbody>\n",
       "</table>\n",
       "</div>"
      ],
      "text/plain": [
       "            Model       RMSE\n",
       "0            Mean  13.555592\n",
       "2     LinearTrend   5.350154\n",
       "3  QuadraticTrend   3.624616"
      ]
     },
     "execution_count": 66,
     "metadata": {},
     "output_type": "execute_result"
    }
   ],
   "source": [
    "# Añadimos estos datos a nuestro DF de resultados para comparar con el modelo anterior\n",
    "df_Results.loc[3, \"Model\"] = \"QuadraticTrend\"\n",
    "df_Results.loc[3, \"RMSE\"] = RMSE(df_test.QuadraticTrend, df_test.value)\n",
    "df_Results"
   ]
  },
  {
   "cell_type": "markdown",
   "metadata": {},
   "source": [
    "Vemos que trabajar con un trend cuadrático mejora el RMSE, llevándolo a 3,62."
   ]
  },
  {
   "cell_type": "markdown",
   "metadata": {},
   "source": [
    "#### Tendencia con transformación logarítmica:\n",
    "\n",
    "Analizando los datos, vemos que la varianza de la serie aumenta con el paso del tiempo. \n",
    "\n",
    "Veamos si una transformación logarítimica con ayuda a estabilizar la varianza:"
   ]
  },
  {
   "cell_type": "code",
   "execution_count": 67,
   "metadata": {},
   "outputs": [],
   "source": [
    "df_train['log_value'] = np.log(df_train['value'])\n",
    "df_test['log_value'] = np.log(df_test['value'])"
   ]
  },
  {
   "cell_type": "code",
   "execution_count": 68,
   "metadata": {},
   "outputs": [
    {
     "data": {
      "image/png": "[encoded data removed]",
      "text/plain": [
       "<Figure size 1760x550 with 1 Axes>"
      ]
     },
     "metadata": {
      "needs_background": "light"
     },
     "output_type": "display_data"
    }
   ],
   "source": [
    "plot_df(df_train, x=df_train.index, y=df_train['log_value'],\\\n",
    "    title='Log de ventas mensuales de medicamentos para diabetes en Australia, 1992 a 2008')"
   ]
  },
  {
   "cell_type": "markdown",
   "metadata": {},
   "source": [
    "Ahora fiteamos nuestro modelo de regresión lineal entre log_value y timeIndex:"
   ]
  },
  {
   "cell_type": "code",
   "execution_count": 69,
   "metadata": {},
   "outputs": [],
   "source": [
    "model_log = smf.ols('log_value ~ timeIndex ', data = df_train).fit()"
   ]
  },
  {
   "cell_type": "markdown",
   "metadata": {},
   "source": [
    "Veamos el summary del modelo:"
   ]
  },
  {
   "cell_type": "code",
   "execution_count": 70,
   "metadata": {},
   "outputs": [
    {
     "data": {
      "text/html": [
       "<table class=\"simpletable\">\n",
       "<caption>OLS Regression Results</caption>\n",
       "<tr>\n",
       "  <th>Dep. Variable:</th>        <td>log_value</td>    <th>  R-squared:         </th> <td>   0.917</td> \n",
       "</tr>\n",
       "<tr>\n",
       "  <th>Model:</th>                   <td>OLS</td>       <th>  Adj. R-squared:    </th> <td>   0.917</td> \n",
       "</tr>\n",
       "<tr>\n",
       "  <th>Method:</th>             <td>Least Squares</td>  <th>  F-statistic:       </th> <td>   2101.</td> \n",
       "</tr>\n",
       "<tr>\n",
       "  <th>Date:</th>             <td>Sat, 04 Jun 2022</td> <th>  Prob (F-statistic):</th> <td>1.15e-104</td>\n",
       "</tr>\n",
       "<tr>\n",
       "  <th>Time:</th>                 <td>11:40:39</td>     <th>  Log-Likelihood:    </th> <td>  86.148</td> \n",
       "</tr>\n",
       "<tr>\n",
       "  <th>No. Observations:</th>      <td>   192</td>      <th>  AIC:               </th> <td>  -168.3</td> \n",
       "</tr>\n",
       "<tr>\n",
       "  <th>Df Residuals:</th>          <td>   190</td>      <th>  BIC:               </th> <td>  -161.8</td> \n",
       "</tr>\n",
       "<tr>\n",
       "  <th>Df Model:</th>              <td>     1</td>      <th>                     </th>     <td> </td>    \n",
       "</tr>\n",
       "<tr>\n",
       "  <th>Covariance Type:</th>      <td>nonrobust</td>    <th>                     </th>     <td> </td>    \n",
       "</tr>\n",
       "</table>\n",
       "<table class=\"simpletable\">\n",
       "<tr>\n",
       "      <td></td>         <th>coef</th>     <th>std err</th>      <th>t</th>      <th>P>|t|</th>  <th>[0.025</th>    <th>0.975]</th>  \n",
       "</tr>\n",
       "<tr>\n",
       "  <th>Intercept</th> <td>    1.2703</td> <td>    0.022</td> <td>   56.892</td> <td> 0.000</td> <td>    1.226</td> <td>    1.314</td>\n",
       "</tr>\n",
       "<tr>\n",
       "  <th>timeIndex</th> <td>    0.0093</td> <td>    0.000</td> <td>   45.835</td> <td> 0.000</td> <td>    0.009</td> <td>    0.010</td>\n",
       "</tr>\n",
       "</table>\n",
       "<table class=\"simpletable\">\n",
       "<tr>\n",
       "  <th>Omnibus:</th>       <td> 7.239</td> <th>  Durbin-Watson:     </th> <td>   1.405</td>\n",
       "</tr>\n",
       "<tr>\n",
       "  <th>Prob(Omnibus):</th> <td> 0.027</td> <th>  Jarque-Bera (JB):  </th> <td>   7.331</td>\n",
       "</tr>\n",
       "<tr>\n",
       "  <th>Skew:</th>          <td> 0.479</td> <th>  Prob(JB):          </th> <td>  0.0256</td>\n",
       "</tr>\n",
       "<tr>\n",
       "  <th>Kurtosis:</th>      <td> 3.005</td> <th>  Cond. No.          </th> <td>    220.</td>\n",
       "</tr>\n",
       "</table><br/><br/>Notes:<br/>[1] Standard Errors assume that the covariance matrix of the errors is correctly specified."
      ],
      "text/plain": [
       "<class 'statsmodels.iolib.summary.Summary'>\n",
       "\"\"\"\n",
       "                            OLS Regression Results                            \n",
       "==============================================================================\n",
       "Dep. Variable:              log_value   R-squared:                       0.917\n",
       "Model:                            OLS   Adj. R-squared:                  0.917\n",
       "Method:                 Least Squares   F-statistic:                     2101.\n",
       "Date:                Sat, 04 Jun 2022   Prob (F-statistic):          1.15e-104\n",
       "Time:                        11:40:39   Log-Likelihood:                 86.148\n",
       "No. Observations:                 192   AIC:                            -168.3\n",
       "Df Residuals:                     190   BIC:                            -161.8\n",
       "Df Model:                           1                                         \n",
       "Covariance Type:            nonrobust                                         \n",
       "==============================================================================\n",
       "                 coef    std err          t      P>|t|      [0.025      0.975]\n",
       "------------------------------------------------------------------------------\n",
       "Intercept      1.2703      0.022     56.892      0.000       1.226       1.314\n",
       "timeIndex      0.0093      0.000     45.835      0.000       0.009       0.010\n",
       "==============================================================================\n",
       "Omnibus:                        7.239   Durbin-Watson:                   1.405\n",
       "Prob(Omnibus):                  0.027   Jarque-Bera (JB):                7.331\n",
       "Skew:                           0.479   Prob(JB):                       0.0256\n",
       "Kurtosis:                       3.005   Cond. No.                         220.\n",
       "==============================================================================\n",
       "\n",
       "Notes:\n",
       "[1] Standard Errors assume that the covariance matrix of the errors is correctly specified.\n",
       "\"\"\""
      ]
     },
     "execution_count": 70,
     "metadata": {},
     "output_type": "execute_result"
    }
   ],
   "source": [
    "model_log.summary()"
   ]
  },
  {
   "cell_type": "markdown",
   "metadata": {},
   "source": [
    "Vemos que trabajar con la transformación logarítmica mejora la bondad de ajuste del modelo ya que el R2 ajustado es de 0,917.  \n",
    "\n",
    "Veamos las predicciones:"
   ]
  },
  {
   "cell_type": "code",
   "execution_count": 71,
   "metadata": {},
   "outputs": [],
   "source": [
    "df_train['model_log'] = model_log.predict(df_train[[\"timeIndex\"]])\n",
    "df_test['model_log'] = model_log.predict(df_test[[\"timeIndex\"]])"
   ]
  },
  {
   "cell_type": "markdown",
   "metadata": {},
   "source": [
    "Almacenamos las predicciones del modelo en el set de entrenamiento y testeo luego de haber realizado back-transformation:"
   ]
  },
  {
   "cell_type": "code",
   "execution_count": 72,
   "metadata": {},
   "outputs": [],
   "source": [
    "df_train['back_model_log'] = np.exp(df_train['model_log'])\n",
    "df_test['back_model_log'] = np.exp(df_test['model_log'])"
   ]
  },
  {
   "cell_type": "code",
   "execution_count": 73,
   "metadata": {},
   "outputs": [
    {
     "data": {
      "text/html": [
       "<div>\n",
       "<style scoped>\n",
       "    .dataframe tbody tr th:only-of-type {\n",
       "        vertical-align: middle;\n",
       "    }\n",
       "\n",
       "    .dataframe tbody tr th {\n",
       "        vertical-align: top;\n",
       "    }\n",
       "\n",
       "    .dataframe thead th {\n",
       "        text-align: right;\n",
       "    }\n",
       "</style>\n",
       "<table border=\"1\" class=\"dataframe\">\n",
       "  <thead>\n",
       "    <tr style=\"text-align: right;\">\n",
       "      <th></th>\n",
       "      <th>value</th>\n",
       "      <th>year</th>\n",
       "      <th>month</th>\n",
       "      <th>timeIndex</th>\n",
       "      <th>timeIndex_sq</th>\n",
       "      <th>Aug</th>\n",
       "      <th>Dec</th>\n",
       "      <th>Feb</th>\n",
       "      <th>Jan</th>\n",
       "      <th>Jul</th>\n",
       "      <th>...</th>\n",
       "      <th>May</th>\n",
       "      <th>Nov</th>\n",
       "      <th>Oct</th>\n",
       "      <th>Sep</th>\n",
       "      <th>Mean</th>\n",
       "      <th>LinearTrend</th>\n",
       "      <th>QuadraticTrend</th>\n",
       "      <th>log_value</th>\n",
       "      <th>model_log</th>\n",
       "      <th>back_model_log</th>\n",
       "    </tr>\n",
       "    <tr>\n",
       "      <th>date</th>\n",
       "      <th></th>\n",
       "      <th></th>\n",
       "      <th></th>\n",
       "      <th></th>\n",
       "      <th></th>\n",
       "      <th></th>\n",
       "      <th></th>\n",
       "      <th></th>\n",
       "      <th></th>\n",
       "      <th></th>\n",
       "      <th></th>\n",
       "      <th></th>\n",
       "      <th></th>\n",
       "      <th></th>\n",
       "      <th></th>\n",
       "      <th></th>\n",
       "      <th></th>\n",
       "      <th></th>\n",
       "      <th></th>\n",
       "      <th></th>\n",
       "      <th></th>\n",
       "    </tr>\n",
       "  </thead>\n",
       "  <tbody>\n",
       "    <tr>\n",
       "      <th>2007-07-01</th>\n",
       "      <td>21.834890</td>\n",
       "      <td>2007</td>\n",
       "      <td>Jul</td>\n",
       "      <td>192</td>\n",
       "      <td>36864</td>\n",
       "      <td>0</td>\n",
       "      <td>0</td>\n",
       "      <td>0</td>\n",
       "      <td>0</td>\n",
       "      <td>1</td>\n",
       "      <td>...</td>\n",
       "      <td>0</td>\n",
       "      <td>0</td>\n",
       "      <td>0</td>\n",
       "      <td>0</td>\n",
       "      <td>9.914647</td>\n",
       "      <td>18.221353</td>\n",
       "      <td>20.333919</td>\n",
       "      <td>3.083509</td>\n",
       "      <td>3.049907</td>\n",
       "      <td>21.113388</td>\n",
       "    </tr>\n",
       "    <tr>\n",
       "      <th>2007-08-01</th>\n",
       "      <td>23.930204</td>\n",
       "      <td>2007</td>\n",
       "      <td>Aug</td>\n",
       "      <td>193</td>\n",
       "      <td>37249</td>\n",
       "      <td>1</td>\n",
       "      <td>0</td>\n",
       "      <td>0</td>\n",
       "      <td>0</td>\n",
       "      <td>0</td>\n",
       "      <td>...</td>\n",
       "      <td>0</td>\n",
       "      <td>0</td>\n",
       "      <td>0</td>\n",
       "      <td>0</td>\n",
       "      <td>9.914647</td>\n",
       "      <td>18.307433</td>\n",
       "      <td>20.485675</td>\n",
       "      <td>3.175141</td>\n",
       "      <td>3.059176</td>\n",
       "      <td>21.309993</td>\n",
       "    </tr>\n",
       "    <tr>\n",
       "      <th>2007-09-01</th>\n",
       "      <td>22.930357</td>\n",
       "      <td>2007</td>\n",
       "      <td>Sep</td>\n",
       "      <td>194</td>\n",
       "      <td>37636</td>\n",
       "      <td>0</td>\n",
       "      <td>0</td>\n",
       "      <td>0</td>\n",
       "      <td>0</td>\n",
       "      <td>0</td>\n",
       "      <td>...</td>\n",
       "      <td>0</td>\n",
       "      <td>0</td>\n",
       "      <td>0</td>\n",
       "      <td>1</td>\n",
       "      <td>9.914647</td>\n",
       "      <td>18.393513</td>\n",
       "      <td>20.638107</td>\n",
       "      <td>3.132462</td>\n",
       "      <td>3.068445</td>\n",
       "      <td>21.508428</td>\n",
       "    </tr>\n",
       "    <tr>\n",
       "      <th>2007-10-01</th>\n",
       "      <td>23.263340</td>\n",
       "      <td>2007</td>\n",
       "      <td>Oct</td>\n",
       "      <td>195</td>\n",
       "      <td>38025</td>\n",
       "      <td>0</td>\n",
       "      <td>0</td>\n",
       "      <td>0</td>\n",
       "      <td>0</td>\n",
       "      <td>0</td>\n",
       "      <td>...</td>\n",
       "      <td>0</td>\n",
       "      <td>0</td>\n",
       "      <td>1</td>\n",
       "      <td>0</td>\n",
       "      <td>9.914647</td>\n",
       "      <td>18.479593</td>\n",
       "      <td>20.791217</td>\n",
       "      <td>3.146879</td>\n",
       "      <td>3.077714</td>\n",
       "      <td>21.708711</td>\n",
       "    </tr>\n",
       "    <tr>\n",
       "      <th>2007-11-01</th>\n",
       "      <td>25.250030</td>\n",
       "      <td>2007</td>\n",
       "      <td>Nov</td>\n",
       "      <td>196</td>\n",
       "      <td>38416</td>\n",
       "      <td>0</td>\n",
       "      <td>0</td>\n",
       "      <td>0</td>\n",
       "      <td>0</td>\n",
       "      <td>0</td>\n",
       "      <td>...</td>\n",
       "      <td>0</td>\n",
       "      <td>1</td>\n",
       "      <td>0</td>\n",
       "      <td>0</td>\n",
       "      <td>9.914647</td>\n",
       "      <td>18.565673</td>\n",
       "      <td>20.945004</td>\n",
       "      <td>3.228827</td>\n",
       "      <td>3.086982</td>\n",
       "      <td>21.910859</td>\n",
       "    </tr>\n",
       "  </tbody>\n",
       "</table>\n",
       "<p>5 rows × 22 columns</p>\n",
       "</div>"
      ],
      "text/plain": [
       "                value  year month  timeIndex  timeIndex_sq  Aug  Dec  Feb  \\\n",
       "date                                                                        \n",
       "2007-07-01  21.834890  2007   Jul        192         36864    0    0    0   \n",
       "2007-08-01  23.930204  2007   Aug        193         37249    1    0    0   \n",
       "2007-09-01  22.930357  2007   Sep        194         37636    0    0    0   \n",
       "2007-10-01  23.263340  2007   Oct        195         38025    0    0    0   \n",
       "2007-11-01  25.250030  2007   Nov        196         38416    0    0    0   \n",
       "\n",
       "            Jan  Jul  ...  May  Nov  Oct  Sep      Mean  LinearTrend  \\\n",
       "date                  ...                                              \n",
       "2007-07-01    0    1  ...    0    0    0    0  9.914647    18.221353   \n",
       "2007-08-01    0    0  ...    0    0    0    0  9.914647    18.307433   \n",
       "2007-09-01    0    0  ...    0    0    0    1  9.914647    18.393513   \n",
       "2007-10-01    0    0  ...    0    0    1    0  9.914647    18.479593   \n",
       "2007-11-01    0    0  ...    0    1    0    0  9.914647    18.565673   \n",
       "\n",
       "            QuadraticTrend  log_value  model_log  back_model_log  \n",
       "date                                                              \n",
       "2007-07-01       20.333919   3.083509   3.049907       21.113388  \n",
       "2007-08-01       20.485675   3.175141   3.059176       21.309993  \n",
       "2007-09-01       20.638107   3.132462   3.068445       21.508428  \n",
       "2007-10-01       20.791217   3.146879   3.077714       21.708711  \n",
       "2007-11-01       20.945004   3.228827   3.086982       21.910859  \n",
       "\n",
       "[5 rows x 22 columns]"
      ]
     },
     "execution_count": 73,
     "metadata": {},
     "output_type": "execute_result"
    }
   ],
   "source": [
    "df_test.head()"
   ]
  },
  {
   "cell_type": "code",
   "execution_count": null,
   "metadata": {},
   "outputs": [],
   "source": []
  },
  {
   "cell_type": "markdown",
   "metadata": {},
   "source": [
    "Ploteamos los resultados de la predicción en el set de entrenamiento **sin** back-transformation:\n"
   ]
  },
  {
   "cell_type": "code",
   "execution_count": 74,
   "metadata": {},
   "outputs": [
    {
     "data": {
      "image/png": "[encoded data removed]",
      "text/plain": [
       "<Figure size 432x288 with 1 Axes>"
      ]
     },
     "metadata": {
      "needs_background": "light"
     },
     "output_type": "display_data"
    }
   ],
   "source": [
    "df_train.plot(kind = \"line\", y = ['log_value', 'model_log']);"
   ]
  },
  {
   "cell_type": "markdown",
   "metadata": {},
   "source": [
    "Ploteamos los resultados de la predicción en el set de entrenamiento **con** back-transformation:"
   ]
  },
  {
   "cell_type": "code",
   "execution_count": 75,
   "metadata": {},
   "outputs": [
    {
     "data": {
      "image/png": "[encoded data removed]",
      "text/plain": [
       "<Figure size 432x288 with 1 Axes>"
      ]
     },
     "metadata": {
      "needs_background": "light"
     },
     "output_type": "display_data"
    }
   ],
   "source": [
    "df_train.plot(kind = \"line\", y = ['value', 'back_model_log']);"
   ]
  },
  {
   "cell_type": "markdown",
   "metadata": {},
   "source": [
    "Ploteamos los resultados de la predicción en el set de testeo **sin** back-transformation:"
   ]
  },
  {
   "cell_type": "code",
   "execution_count": 76,
   "metadata": {},
   "outputs": [
    {
     "data": {
      "image/png": "[encoded data removed]",
      "text/plain": [
       "<Figure size 432x288 with 1 Axes>"
      ]
     },
     "metadata": {
      "needs_background": "light"
     },
     "output_type": "display_data"
    }
   ],
   "source": [
    "df_test.plot(kind = \"line\", y = ['log_value', 'model_log']);"
   ]
  },
  {
   "cell_type": "markdown",
   "metadata": {},
   "source": [
    "Ploteamos los resultados de la predicción en el set de testeo **con** back-transformation:"
   ]
  },
  {
   "cell_type": "code",
   "execution_count": 77,
   "metadata": {},
   "outputs": [
    {
     "data": {
      "image/png": "[encoded data removed]",
      "text/plain": [
       "<Figure size 432x288 with 1 Axes>"
      ]
     },
     "metadata": {
      "needs_background": "light"
     },
     "output_type": "display_data"
    }
   ],
   "source": [
    "df_test.plot(kind = \"line\", y = ['value', 'back_model_log']);"
   ]
  },
  {
   "cell_type": "code",
   "execution_count": 78,
   "metadata": {},
   "outputs": [
    {
     "data": {
      "text/html": [
       "<div>\n",
       "<style scoped>\n",
       "    .dataframe tbody tr th:only-of-type {\n",
       "        vertical-align: middle;\n",
       "    }\n",
       "\n",
       "    .dataframe tbody tr th {\n",
       "        vertical-align: top;\n",
       "    }\n",
       "\n",
       "    .dataframe thead th {\n",
       "        text-align: right;\n",
       "    }\n",
       "</style>\n",
       "<table border=\"1\" class=\"dataframe\">\n",
       "  <thead>\n",
       "    <tr style=\"text-align: right;\">\n",
       "      <th></th>\n",
       "      <th>Model</th>\n",
       "      <th>RMSE</th>\n",
       "    </tr>\n",
       "  </thead>\n",
       "  <tbody>\n",
       "    <tr>\n",
       "      <th>0</th>\n",
       "      <td>Mean</td>\n",
       "      <td>13.555592</td>\n",
       "    </tr>\n",
       "    <tr>\n",
       "      <th>2</th>\n",
       "      <td>LinearTrend</td>\n",
       "      <td>5.350154</td>\n",
       "    </tr>\n",
       "    <tr>\n",
       "      <th>3</th>\n",
       "      <td>QuadraticTrend</td>\n",
       "      <td>3.624616</td>\n",
       "    </tr>\n",
       "    <tr>\n",
       "      <th>4</th>\n",
       "      <td>Transf Log</td>\n",
       "      <td>3.253106</td>\n",
       "    </tr>\n",
       "  </tbody>\n",
       "</table>\n",
       "</div>"
      ],
      "text/plain": [
       "            Model       RMSE\n",
       "0            Mean  13.555592\n",
       "2     LinearTrend   5.350154\n",
       "3  QuadraticTrend   3.624616\n",
       "4      Transf Log   3.253106"
      ]
     },
     "execution_count": 78,
     "metadata": {},
     "output_type": "execute_result"
    }
   ],
   "source": [
    "# Añadimos estos datos a nuestro DF de resultados para comparar con el modelo anterior:\n",
    "df_Results.loc[4, \"Model\"] = \"Transf Log\"\n",
    "df_Results.loc[4, \"RMSE\"] = RMSE(df_test['back_model_log'], df_test['value'])\n",
    "df_Results"
   ]
  },
  {
   "cell_type": "markdown",
   "metadata": {},
   "source": [
    "Vemos una mejoría en el RMSE con el modelo logarítmico. "
   ]
  },
  {
   "cell_type": "markdown",
   "metadata": {},
   "source": [
    "#### Tendencia con transformación logarítmica + estacionalidad mensual:\n",
    "\n",
    "Ahora fiteamos nuestro modelo de regresión lineal entre log_value y timeIndex más las dummies de mes:"
   ]
  },
  {
   "cell_type": "code",
   "execution_count": 79,
   "metadata": {},
   "outputs": [],
   "source": [
    "model_log_est = smf.ols('log_value ~ timeIndex  + Dec +Aug + Feb + Jan + Jul + Jun + Mar + May + Nov + Oct + Sep',\\\n",
    "                          data = df_train).fit()"
   ]
  },
  {
   "cell_type": "code",
   "execution_count": 80,
   "metadata": {},
   "outputs": [
    {
     "data": {
      "text/html": [
       "<table class=\"simpletable\">\n",
       "<caption>OLS Regression Results</caption>\n",
       "<tr>\n",
       "  <th>Dep. Variable:</th>        <td>log_value</td>    <th>  R-squared:         </th> <td>   0.988</td> \n",
       "</tr>\n",
       "<tr>\n",
       "  <th>Model:</th>                   <td>OLS</td>       <th>  Adj. R-squared:    </th> <td>   0.987</td> \n",
       "</tr>\n",
       "<tr>\n",
       "  <th>Method:</th>             <td>Least Squares</td>  <th>  F-statistic:       </th> <td>   1235.</td> \n",
       "</tr>\n",
       "<tr>\n",
       "  <th>Date:</th>             <td>Sat, 04 Jun 2022</td> <th>  Prob (F-statistic):</th> <td>3.89e-165</td>\n",
       "</tr>\n",
       "<tr>\n",
       "  <th>Time:</th>                 <td>11:44:59</td>     <th>  Log-Likelihood:    </th> <td>  272.28</td> \n",
       "</tr>\n",
       "<tr>\n",
       "  <th>No. Observations:</th>      <td>   192</td>      <th>  AIC:               </th> <td>  -518.6</td> \n",
       "</tr>\n",
       "<tr>\n",
       "  <th>Df Residuals:</th>          <td>   179</td>      <th>  BIC:               </th> <td>  -476.2</td> \n",
       "</tr>\n",
       "<tr>\n",
       "  <th>Df Model:</th>              <td>    12</td>      <th>                     </th>     <td> </td>    \n",
       "</tr>\n",
       "<tr>\n",
       "  <th>Covariance Type:</th>      <td>nonrobust</td>    <th>                     </th>     <td> </td>    \n",
       "</tr>\n",
       "</table>\n",
       "<table class=\"simpletable\">\n",
       "<tr>\n",
       "      <td></td>         <th>coef</th>     <th>std err</th>      <th>t</th>      <th>P>|t|</th>  <th>[0.025</th>    <th>0.975]</th>  \n",
       "</tr>\n",
       "<tr>\n",
       "  <th>Intercept</th> <td>    1.1232</td> <td>    0.017</td> <td>   65.773</td> <td> 0.000</td> <td>    1.090</td> <td>    1.157</td>\n",
       "</tr>\n",
       "<tr>\n",
       "  <th>timeIndex</th> <td>    0.0093</td> <td> 7.92e-05</td> <td>  117.731</td> <td> 0.000</td> <td>    0.009</td> <td>    0.009</td>\n",
       "</tr>\n",
       "<tr>\n",
       "  <th>Dec</th>       <td>    0.3629</td> <td>    0.021</td> <td>   16.911</td> <td> 0.000</td> <td>    0.321</td> <td>    0.405</td>\n",
       "</tr>\n",
       "<tr>\n",
       "  <th>Aug</th>       <td>    0.1357</td> <td>    0.021</td> <td>    6.320</td> <td> 0.000</td> <td>    0.093</td> <td>    0.178</td>\n",
       "</tr>\n",
       "<tr>\n",
       "  <th>Feb</th>       <td>   -0.0969</td> <td>    0.021</td> <td>   -4.515</td> <td> 0.000</td> <td>   -0.139</td> <td>   -0.055</td>\n",
       "</tr>\n",
       "<tr>\n",
       "  <th>Jan</th>       <td>    0.4366</td> <td>    0.021</td> <td>   20.345</td> <td> 0.000</td> <td>    0.394</td> <td>    0.479</td>\n",
       "</tr>\n",
       "<tr>\n",
       "  <th>Jul</th>       <td>    0.1357</td> <td>    0.021</td> <td>    6.321</td> <td> 0.000</td> <td>    0.093</td> <td>    0.178</td>\n",
       "</tr>\n",
       "<tr>\n",
       "  <th>Jun</th>       <td>    0.0702</td> <td>    0.021</td> <td>    3.271</td> <td> 0.001</td> <td>    0.028</td> <td>    0.113</td>\n",
       "</tr>\n",
       "<tr>\n",
       "  <th>Mar</th>       <td>    0.0209</td> <td>    0.021</td> <td>    0.973</td> <td> 0.332</td> <td>   -0.021</td> <td>    0.063</td>\n",
       "</tr>\n",
       "<tr>\n",
       "  <th>May</th>       <td>    0.0855</td> <td>    0.021</td> <td>    3.986</td> <td> 0.000</td> <td>    0.043</td> <td>    0.128</td>\n",
       "</tr>\n",
       "<tr>\n",
       "  <th>Nov</th>       <td>    0.2205</td> <td>    0.021</td> <td>   10.276</td> <td> 0.000</td> <td>    0.178</td> <td>    0.263</td>\n",
       "</tr>\n",
       "<tr>\n",
       "  <th>Oct</th>       <td>    0.1987</td> <td>    0.021</td> <td>    9.257</td> <td> 0.000</td> <td>    0.156</td> <td>    0.241</td>\n",
       "</tr>\n",
       "<tr>\n",
       "  <th>Sep</th>       <td>    0.1350</td> <td>    0.021</td> <td>    6.290</td> <td> 0.000</td> <td>    0.093</td> <td>    0.177</td>\n",
       "</tr>\n",
       "</table>\n",
       "<table class=\"simpletable\">\n",
       "<tr>\n",
       "  <th>Omnibus:</th>       <td> 1.506</td> <th>  Durbin-Watson:     </th> <td>   1.489</td>\n",
       "</tr>\n",
       "<tr>\n",
       "  <th>Prob(Omnibus):</th> <td> 0.471</td> <th>  Jarque-Bera (JB):  </th> <td>   1.170</td>\n",
       "</tr>\n",
       "<tr>\n",
       "  <th>Skew:</th>          <td>-0.071</td> <th>  Prob(JB):          </th> <td>   0.557</td>\n",
       "</tr>\n",
       "<tr>\n",
       "  <th>Kurtosis:</th>      <td> 3.355</td> <th>  Cond. No.          </th> <td>1.38e+03</td>\n",
       "</tr>\n",
       "</table><br/><br/>Notes:<br/>[1] Standard Errors assume that the covariance matrix of the errors is correctly specified.<br/>[2] The condition number is large, 1.38e+03. This might indicate that there are<br/>strong multicollinearity or other numerical problems."
      ],
      "text/plain": [
       "<class 'statsmodels.iolib.summary.Summary'>\n",
       "\"\"\"\n",
       "                            OLS Regression Results                            \n",
       "==============================================================================\n",
       "Dep. Variable:              log_value   R-squared:                       0.988\n",
       "Model:                            OLS   Adj. R-squared:                  0.987\n",
       "Method:                 Least Squares   F-statistic:                     1235.\n",
       "Date:                Sat, 04 Jun 2022   Prob (F-statistic):          3.89e-165\n",
       "Time:                        11:44:59   Log-Likelihood:                 272.28\n",
       "No. Observations:                 192   AIC:                            -518.6\n",
       "Df Residuals:                     179   BIC:                            -476.2\n",
       "Df Model:                          12                                         \n",
       "Covariance Type:            nonrobust                                         \n",
       "==============================================================================\n",
       "                 coef    std err          t      P>|t|      [0.025      0.975]\n",
       "------------------------------------------------------------------------------\n",
       "Intercept      1.1232      0.017     65.773      0.000       1.090       1.157\n",
       "timeIndex      0.0093   7.92e-05    117.731      0.000       0.009       0.009\n",
       "Dec            0.3629      0.021     16.911      0.000       0.321       0.405\n",
       "Aug            0.1357      0.021      6.320      0.000       0.093       0.178\n",
       "Feb           -0.0969      0.021     -4.515      0.000      -0.139      -0.055\n",
       "Jan            0.4366      0.021     20.345      0.000       0.394       0.479\n",
       "Jul            0.1357      0.021      6.321      0.000       0.093       0.178\n",
       "Jun            0.0702      0.021      3.271      0.001       0.028       0.113\n",
       "Mar            0.0209      0.021      0.973      0.332      -0.021       0.063\n",
       "May            0.0855      0.021      3.986      0.000       0.043       0.128\n",
       "Nov            0.2205      0.021     10.276      0.000       0.178       0.263\n",
       "Oct            0.1987      0.021      9.257      0.000       0.156       0.241\n",
       "Sep            0.1350      0.021      6.290      0.000       0.093       0.177\n",
       "==============================================================================\n",
       "Omnibus:                        1.506   Durbin-Watson:                   1.489\n",
       "Prob(Omnibus):                  0.471   Jarque-Bera (JB):                1.170\n",
       "Skew:                          -0.071   Prob(JB):                        0.557\n",
       "Kurtosis:                       3.355   Cond. No.                     1.38e+03\n",
       "==============================================================================\n",
       "\n",
       "Notes:\n",
       "[1] Standard Errors assume that the covariance matrix of the errors is correctly specified.\n",
       "[2] The condition number is large, 1.38e+03. This might indicate that there are\n",
       "strong multicollinearity or other numerical problems.\n",
       "\"\"\""
      ]
     },
     "execution_count": 80,
     "metadata": {},
     "output_type": "execute_result"
    }
   ],
   "source": [
    "model_log_est.summary()"
   ]
  },
  {
   "cell_type": "markdown",
   "metadata": {},
   "source": [
    "Vemos que al agregar las dummies mensuales, la bondad del modelo mejora sustancialmente. El R2 es 0.988. Por otro lado, vemos que los coeficientes de todos los meses son significativos, con excepción del mes de marzo, cuyo p-valor es de 0,332. Podríamos volver a entrenar el modelo sin el mes de marzo para ver si mejora. "
   ]
  },
  {
   "cell_type": "code",
   "execution_count": 81,
   "metadata": {},
   "outputs": [],
   "source": [
    "model_log_est = smf.ols('log_value ~ timeIndex  + Dec +Aug + Feb + Jan + Jul + Jun  + May + Nov + Oct + Sep',\\\n",
    "                          data = df_train).fit()"
   ]
  },
  {
   "cell_type": "code",
   "execution_count": 82,
   "metadata": {},
   "outputs": [
    {
     "data": {
      "text/html": [
       "<table class=\"simpletable\">\n",
       "<caption>OLS Regression Results</caption>\n",
       "<tr>\n",
       "  <th>Dep. Variable:</th>        <td>log_value</td>    <th>  R-squared:         </th> <td>   0.988</td> \n",
       "</tr>\n",
       "<tr>\n",
       "  <th>Model:</th>                   <td>OLS</td>       <th>  Adj. R-squared:    </th> <td>   0.987</td> \n",
       "</tr>\n",
       "<tr>\n",
       "  <th>Method:</th>             <td>Least Squares</td>  <th>  F-statistic:       </th> <td>   1348.</td> \n",
       "</tr>\n",
       "<tr>\n",
       "  <th>Date:</th>             <td>Sat, 04 Jun 2022</td> <th>  Prob (F-statistic):</th> <td>1.66e-166</td>\n",
       "</tr>\n",
       "<tr>\n",
       "  <th>Time:</th>                 <td>11:45:34</td>     <th>  Log-Likelihood:    </th> <td>  271.77</td> \n",
       "</tr>\n",
       "<tr>\n",
       "  <th>No. Observations:</th>      <td>   192</td>      <th>  AIC:               </th> <td>  -519.5</td> \n",
       "</tr>\n",
       "<tr>\n",
       "  <th>Df Residuals:</th>          <td>   180</td>      <th>  BIC:               </th> <td>  -480.5</td> \n",
       "</tr>\n",
       "<tr>\n",
       "  <th>Df Model:</th>              <td>    11</td>      <th>                     </th>     <td> </td>    \n",
       "</tr>\n",
       "<tr>\n",
       "  <th>Covariance Type:</th>      <td>nonrobust</td>    <th>                     </th>     <td> </td>    \n",
       "</tr>\n",
       "</table>\n",
       "<table class=\"simpletable\">\n",
       "<tr>\n",
       "      <td></td>         <th>coef</th>     <th>std err</th>      <th>t</th>      <th>P>|t|</th>  <th>[0.025</th>    <th>0.975]</th>  \n",
       "</tr>\n",
       "<tr>\n",
       "  <th>Intercept</th> <td>    1.1337</td> <td>    0.013</td> <td>   85.488</td> <td> 0.000</td> <td>    1.108</td> <td>    1.160</td>\n",
       "</tr>\n",
       "<tr>\n",
       "  <th>timeIndex</th> <td>    0.0093</td> <td> 7.92e-05</td> <td>  117.746</td> <td> 0.000</td> <td>    0.009</td> <td>    0.009</td>\n",
       "</tr>\n",
       "<tr>\n",
       "  <th>Dec</th>       <td>    0.3524</td> <td>    0.019</td> <td>   18.968</td> <td> 0.000</td> <td>    0.316</td> <td>    0.389</td>\n",
       "</tr>\n",
       "<tr>\n",
       "  <th>Aug</th>       <td>    0.1252</td> <td>    0.019</td> <td>    6.737</td> <td> 0.000</td> <td>    0.089</td> <td>    0.162</td>\n",
       "</tr>\n",
       "<tr>\n",
       "  <th>Feb</th>       <td>   -0.1073</td> <td>    0.019</td> <td>   -5.776</td> <td> 0.000</td> <td>   -0.144</td> <td>   -0.071</td>\n",
       "</tr>\n",
       "<tr>\n",
       "  <th>Jan</th>       <td>    0.4261</td> <td>    0.019</td> <td>   22.935</td> <td> 0.000</td> <td>    0.389</td> <td>    0.463</td>\n",
       "</tr>\n",
       "<tr>\n",
       "  <th>Jul</th>       <td>    0.1253</td> <td>    0.019</td> <td>    6.738</td> <td> 0.000</td> <td>    0.089</td> <td>    0.162</td>\n",
       "</tr>\n",
       "<tr>\n",
       "  <th>Jun</th>       <td>    0.0598</td> <td>    0.019</td> <td>    3.217</td> <td> 0.002</td> <td>    0.023</td> <td>    0.096</td>\n",
       "</tr>\n",
       "<tr>\n",
       "  <th>May</th>       <td>    0.0751</td> <td>    0.019</td> <td>    4.042</td> <td> 0.000</td> <td>    0.038</td> <td>    0.112</td>\n",
       "</tr>\n",
       "<tr>\n",
       "  <th>Nov</th>       <td>    0.2101</td> <td>    0.019</td> <td>   11.306</td> <td> 0.000</td> <td>    0.173</td> <td>    0.247</td>\n",
       "</tr>\n",
       "<tr>\n",
       "  <th>Oct</th>       <td>    0.1882</td> <td>    0.019</td> <td>   10.129</td> <td> 0.000</td> <td>    0.152</td> <td>    0.225</td>\n",
       "</tr>\n",
       "<tr>\n",
       "  <th>Sep</th>       <td>    0.1246</td> <td>    0.019</td> <td>    6.702</td> <td> 0.000</td> <td>    0.088</td> <td>    0.161</td>\n",
       "</tr>\n",
       "</table>\n",
       "<table class=\"simpletable\">\n",
       "<tr>\n",
       "  <th>Omnibus:</th>       <td> 1.577</td> <th>  Durbin-Watson:     </th> <td>   1.497</td>\n",
       "</tr>\n",
       "<tr>\n",
       "  <th>Prob(Omnibus):</th> <td> 0.455</td> <th>  Jarque-Bera (JB):  </th> <td>   1.261</td>\n",
       "</tr>\n",
       "<tr>\n",
       "  <th>Skew:</th>          <td>-0.058</td> <th>  Prob(JB):          </th> <td>   0.532</td>\n",
       "</tr>\n",
       "<tr>\n",
       "  <th>Kurtosis:</th>      <td> 3.380</td> <th>  Cond. No.          </th> <td>    972.</td>\n",
       "</tr>\n",
       "</table><br/><br/>Notes:<br/>[1] Standard Errors assume that the covariance matrix of the errors is correctly specified."
      ],
      "text/plain": [
       "<class 'statsmodels.iolib.summary.Summary'>\n",
       "\"\"\"\n",
       "                            OLS Regression Results                            \n",
       "==============================================================================\n",
       "Dep. Variable:              log_value   R-squared:                       0.988\n",
       "Model:                            OLS   Adj. R-squared:                  0.987\n",
       "Method:                 Least Squares   F-statistic:                     1348.\n",
       "Date:                Sat, 04 Jun 2022   Prob (F-statistic):          1.66e-166\n",
       "Time:                        11:45:34   Log-Likelihood:                 271.77\n",
       "No. Observations:                 192   AIC:                            -519.5\n",
       "Df Residuals:                     180   BIC:                            -480.5\n",
       "Df Model:                          11                                         \n",
       "Covariance Type:            nonrobust                                         \n",
       "==============================================================================\n",
       "                 coef    std err          t      P>|t|      [0.025      0.975]\n",
       "------------------------------------------------------------------------------\n",
       "Intercept      1.1337      0.013     85.488      0.000       1.108       1.160\n",
       "timeIndex      0.0093   7.92e-05    117.746      0.000       0.009       0.009\n",
       "Dec            0.3524      0.019     18.968      0.000       0.316       0.389\n",
       "Aug            0.1252      0.019      6.737      0.000       0.089       0.162\n",
       "Feb           -0.1073      0.019     -5.776      0.000      -0.144      -0.071\n",
       "Jan            0.4261      0.019     22.935      0.000       0.389       0.463\n",
       "Jul            0.1253      0.019      6.738      0.000       0.089       0.162\n",
       "Jun            0.0598      0.019      3.217      0.002       0.023       0.096\n",
       "May            0.0751      0.019      4.042      0.000       0.038       0.112\n",
       "Nov            0.2101      0.019     11.306      0.000       0.173       0.247\n",
       "Oct            0.1882      0.019     10.129      0.000       0.152       0.225\n",
       "Sep            0.1246      0.019      6.702      0.000       0.088       0.161\n",
       "==============================================================================\n",
       "Omnibus:                        1.577   Durbin-Watson:                   1.497\n",
       "Prob(Omnibus):                  0.455   Jarque-Bera (JB):                1.261\n",
       "Skew:                          -0.058   Prob(JB):                        0.532\n",
       "Kurtosis:                       3.380   Cond. No.                         972.\n",
       "==============================================================================\n",
       "\n",
       "Notes:\n",
       "[1] Standard Errors assume that the covariance matrix of the errors is correctly specified.\n",
       "\"\"\""
      ]
     },
     "execution_count": 82,
     "metadata": {},
     "output_type": "execute_result"
    }
   ],
   "source": [
    "model_log_est.summary()"
   ]
  },
  {
   "cell_type": "markdown",
   "metadata": {},
   "source": [
    "Calculamos las predicciones:"
   ]
  },
  {
   "cell_type": "code",
   "execution_count": 83,
   "metadata": {},
   "outputs": [],
   "source": [
    "df_train['model_log_est'] = model_log_est.predict(df_train[[\"timeIndex\", \\\n",
    "                                              \"Aug\", \"Dec\", \"Feb\", \"Jan\",\\\n",
    "                                               \"Jul\", \"Jun\", \"Mar\", \"May\",\\\n",
    "                                                \"Nov\", \"Oct\", \"Sep\"]])\n",
    "\n",
    "\n",
    "df_test['model_log_est'] = model_log_est.predict(df_test[[\"timeIndex\", \\\n",
    "                                              \"Aug\", \"Dec\", \"Feb\", \"Jan\",\\\n",
    "                                               \"Jul\", \"Jun\", \"Mar\", \"May\",\\\n",
    "                                                \"Nov\", \"Oct\", \"Sep\"]])"
   ]
  },
  {
   "cell_type": "markdown",
   "metadata": {},
   "source": [
    "Almacenamos las predicciones del modelo en el set de entrenamiento y testeo luego de haber realizado back-transformation:"
   ]
  },
  {
   "cell_type": "code",
   "execution_count": 84,
   "metadata": {},
   "outputs": [],
   "source": [
    "df_train['back_model_log_est'] = np.exp(df_train['model_log_est'])\n",
    "df_test['back_model_log_est'] = np.exp(df_test['model_log_est'])"
   ]
  },
  {
   "cell_type": "code",
   "execution_count": 85,
   "metadata": {},
   "outputs": [
    {
     "data": {
      "text/html": [
       "<div>\n",
       "<style scoped>\n",
       "    .dataframe tbody tr th:only-of-type {\n",
       "        vertical-align: middle;\n",
       "    }\n",
       "\n",
       "    .dataframe tbody tr th {\n",
       "        vertical-align: top;\n",
       "    }\n",
       "\n",
       "    .dataframe thead th {\n",
       "        text-align: right;\n",
       "    }\n",
       "</style>\n",
       "<table border=\"1\" class=\"dataframe\">\n",
       "  <thead>\n",
       "    <tr style=\"text-align: right;\">\n",
       "      <th></th>\n",
       "      <th>value</th>\n",
       "      <th>year</th>\n",
       "      <th>month</th>\n",
       "      <th>timeIndex</th>\n",
       "      <th>timeIndex_sq</th>\n",
       "      <th>Aug</th>\n",
       "      <th>Dec</th>\n",
       "      <th>Feb</th>\n",
       "      <th>Jan</th>\n",
       "      <th>Jul</th>\n",
       "      <th>...</th>\n",
       "      <th>Oct</th>\n",
       "      <th>Sep</th>\n",
       "      <th>Mean</th>\n",
       "      <th>LinearTrend</th>\n",
       "      <th>QuadraticTrend</th>\n",
       "      <th>log_value</th>\n",
       "      <th>model_log</th>\n",
       "      <th>back_model_log</th>\n",
       "      <th>model_log_est</th>\n",
       "      <th>back_model_log_est</th>\n",
       "    </tr>\n",
       "    <tr>\n",
       "      <th>date</th>\n",
       "      <th></th>\n",
       "      <th></th>\n",
       "      <th></th>\n",
       "      <th></th>\n",
       "      <th></th>\n",
       "      <th></th>\n",
       "      <th></th>\n",
       "      <th></th>\n",
       "      <th></th>\n",
       "      <th></th>\n",
       "      <th></th>\n",
       "      <th></th>\n",
       "      <th></th>\n",
       "      <th></th>\n",
       "      <th></th>\n",
       "      <th></th>\n",
       "      <th></th>\n",
       "      <th></th>\n",
       "      <th></th>\n",
       "      <th></th>\n",
       "      <th></th>\n",
       "    </tr>\n",
       "  </thead>\n",
       "  <tbody>\n",
       "    <tr>\n",
       "      <th>2007-07-01</th>\n",
       "      <td>21.834890</td>\n",
       "      <td>2007</td>\n",
       "      <td>Jul</td>\n",
       "      <td>192</td>\n",
       "      <td>36864</td>\n",
       "      <td>0</td>\n",
       "      <td>0</td>\n",
       "      <td>0</td>\n",
       "      <td>0</td>\n",
       "      <td>1</td>\n",
       "      <td>...</td>\n",
       "      <td>0</td>\n",
       "      <td>0</td>\n",
       "      <td>9.914647</td>\n",
       "      <td>18.221353</td>\n",
       "      <td>20.333919</td>\n",
       "      <td>3.083509</td>\n",
       "      <td>3.049907</td>\n",
       "      <td>21.113388</td>\n",
       "      <td>3.048607</td>\n",
       "      <td>21.085945</td>\n",
       "    </tr>\n",
       "    <tr>\n",
       "      <th>2007-08-01</th>\n",
       "      <td>23.930204</td>\n",
       "      <td>2007</td>\n",
       "      <td>Aug</td>\n",
       "      <td>193</td>\n",
       "      <td>37249</td>\n",
       "      <td>1</td>\n",
       "      <td>0</td>\n",
       "      <td>0</td>\n",
       "      <td>0</td>\n",
       "      <td>0</td>\n",
       "      <td>...</td>\n",
       "      <td>0</td>\n",
       "      <td>0</td>\n",
       "      <td>9.914647</td>\n",
       "      <td>18.307433</td>\n",
       "      <td>20.485675</td>\n",
       "      <td>3.175141</td>\n",
       "      <td>3.059176</td>\n",
       "      <td>21.309993</td>\n",
       "      <td>3.057896</td>\n",
       "      <td>21.282736</td>\n",
       "    </tr>\n",
       "    <tr>\n",
       "      <th>2007-09-01</th>\n",
       "      <td>22.930357</td>\n",
       "      <td>2007</td>\n",
       "      <td>Sep</td>\n",
       "      <td>194</td>\n",
       "      <td>37636</td>\n",
       "      <td>0</td>\n",
       "      <td>0</td>\n",
       "      <td>0</td>\n",
       "      <td>0</td>\n",
       "      <td>0</td>\n",
       "      <td>...</td>\n",
       "      <td>0</td>\n",
       "      <td>1</td>\n",
       "      <td>9.914647</td>\n",
       "      <td>18.393513</td>\n",
       "      <td>20.638107</td>\n",
       "      <td>3.132462</td>\n",
       "      <td>3.068445</td>\n",
       "      <td>21.508428</td>\n",
       "      <td>3.066551</td>\n",
       "      <td>21.467722</td>\n",
       "    </tr>\n",
       "    <tr>\n",
       "      <th>2007-10-01</th>\n",
       "      <td>23.263340</td>\n",
       "      <td>2007</td>\n",
       "      <td>Oct</td>\n",
       "      <td>195</td>\n",
       "      <td>38025</td>\n",
       "      <td>0</td>\n",
       "      <td>0</td>\n",
       "      <td>0</td>\n",
       "      <td>0</td>\n",
       "      <td>0</td>\n",
       "      <td>...</td>\n",
       "      <td>1</td>\n",
       "      <td>0</td>\n",
       "      <td>9.914647</td>\n",
       "      <td>18.479593</td>\n",
       "      <td>20.791217</td>\n",
       "      <td>3.146879</td>\n",
       "      <td>3.077714</td>\n",
       "      <td>21.708711</td>\n",
       "      <td>3.139532</td>\n",
       "      <td>23.093057</td>\n",
       "    </tr>\n",
       "    <tr>\n",
       "      <th>2007-11-01</th>\n",
       "      <td>25.250030</td>\n",
       "      <td>2007</td>\n",
       "      <td>Nov</td>\n",
       "      <td>196</td>\n",
       "      <td>38416</td>\n",
       "      <td>0</td>\n",
       "      <td>0</td>\n",
       "      <td>0</td>\n",
       "      <td>0</td>\n",
       "      <td>0</td>\n",
       "      <td>...</td>\n",
       "      <td>0</td>\n",
       "      <td>0</td>\n",
       "      <td>9.914647</td>\n",
       "      <td>18.565673</td>\n",
       "      <td>20.945004</td>\n",
       "      <td>3.228827</td>\n",
       "      <td>3.086982</td>\n",
       "      <td>21.910859</td>\n",
       "      <td>3.170708</td>\n",
       "      <td>23.824358</td>\n",
       "    </tr>\n",
       "  </tbody>\n",
       "</table>\n",
       "<p>5 rows × 24 columns</p>\n",
       "</div>"
      ],
      "text/plain": [
       "                value  year month  timeIndex  timeIndex_sq  Aug  Dec  Feb  \\\n",
       "date                                                                        \n",
       "2007-07-01  21.834890  2007   Jul        192         36864    0    0    0   \n",
       "2007-08-01  23.930204  2007   Aug        193         37249    1    0    0   \n",
       "2007-09-01  22.930357  2007   Sep        194         37636    0    0    0   \n",
       "2007-10-01  23.263340  2007   Oct        195         38025    0    0    0   \n",
       "2007-11-01  25.250030  2007   Nov        196         38416    0    0    0   \n",
       "\n",
       "            Jan  Jul  ...  Oct  Sep      Mean  LinearTrend  QuadraticTrend  \\\n",
       "date                  ...                                                    \n",
       "2007-07-01    0    1  ...    0    0  9.914647    18.221353       20.333919   \n",
       "2007-08-01    0    0  ...    0    0  9.914647    18.307433       20.485675   \n",
       "2007-09-01    0    0  ...    0    1  9.914647    18.393513       20.638107   \n",
       "2007-10-01    0    0  ...    1    0  9.914647    18.479593       20.791217   \n",
       "2007-11-01    0    0  ...    0    0  9.914647    18.565673       20.945004   \n",
       "\n",
       "            log_value  model_log  back_model_log  model_log_est  \\\n",
       "date                                                              \n",
       "2007-07-01   3.083509   3.049907       21.113388       3.048607   \n",
       "2007-08-01   3.175141   3.059176       21.309993       3.057896   \n",
       "2007-09-01   3.132462   3.068445       21.508428       3.066551   \n",
       "2007-10-01   3.146879   3.077714       21.708711       3.139532   \n",
       "2007-11-01   3.228827   3.086982       21.910859       3.170708   \n",
       "\n",
       "            back_model_log_est  \n",
       "date                            \n",
       "2007-07-01           21.085945  \n",
       "2007-08-01           21.282736  \n",
       "2007-09-01           21.467722  \n",
       "2007-10-01           23.093057  \n",
       "2007-11-01           23.824358  \n",
       "\n",
       "[5 rows x 24 columns]"
      ]
     },
     "execution_count": 85,
     "metadata": {},
     "output_type": "execute_result"
    }
   ],
   "source": [
    "df_test.head()"
   ]
  },
  {
   "cell_type": "markdown",
   "metadata": {},
   "source": [
    "Ploteamos los resultados de la predicción en el set de entrenamiento **sin** back-transformation:"
   ]
  },
  {
   "cell_type": "code",
   "execution_count": 86,
   "metadata": {},
   "outputs": [
    {
     "data": {
      "image/png": "[encoded data removed]",
      "text/plain": [
       "<Figure size 432x288 with 1 Axes>"
      ]
     },
     "metadata": {
      "needs_background": "light"
     },
     "output_type": "display_data"
    }
   ],
   "source": [
    "df_train.plot(kind = \"line\", y = ['log_value', 'model_log_est']);"
   ]
  },
  {
   "cell_type": "markdown",
   "metadata": {},
   "source": [
    "Ploteamos los resultados de la predicción en el set de entrenamiento **con** back-transformation:"
   ]
  },
  {
   "cell_type": "code",
   "execution_count": 87,
   "metadata": {},
   "outputs": [
    {
     "data": {
      "image/png": "[encoded data removed]",
      "text/plain": [
       "<Figure size 432x288 with 1 Axes>"
      ]
     },
     "metadata": {
      "needs_background": "light"
     },
     "output_type": "display_data"
    }
   ],
   "source": [
    "df_train.plot(kind = \"line\", y = ['value', 'back_model_log_est']);"
   ]
  },
  {
   "cell_type": "markdown",
   "metadata": {},
   "source": [
    "Ploteamos los resultados de la predicción en el set de testeo **sin** back-transformation:"
   ]
  },
  {
   "cell_type": "code",
   "execution_count": 88,
   "metadata": {
    "scrolled": true
   },
   "outputs": [
    {
     "data": {
      "image/png": "[encoded data removed]",
      "text/plain": [
       "<Figure size 432x288 with 1 Axes>"
      ]
     },
     "metadata": {
      "needs_background": "light"
     },
     "output_type": "display_data"
    }
   ],
   "source": [
    "df_test.plot(kind = \"line\", y = ['log_value', 'model_log_est']);"
   ]
  },
  {
   "cell_type": "markdown",
   "metadata": {},
   "source": [
    "Ploteamos los resultados de la predicción en el set de testeo **con** back-transformation:"
   ]
  },
  {
   "cell_type": "code",
   "execution_count": 89,
   "metadata": {},
   "outputs": [
    {
     "data": {
      "image/png": "[encoded data removed]",
      "text/plain": [
       "<Figure size 432x288 with 1 Axes>"
      ]
     },
     "metadata": {
      "needs_background": "light"
     },
     "output_type": "display_data"
    }
   ],
   "source": [
    "df_test.plot(kind = \"line\", y = ['value', 'back_model_log_est']);"
   ]
  },
  {
   "cell_type": "code",
   "execution_count": 90,
   "metadata": {},
   "outputs": [
    {
     "data": {
      "text/html": [
       "<div>\n",
       "<style scoped>\n",
       "    .dataframe tbody tr th:only-of-type {\n",
       "        vertical-align: middle;\n",
       "    }\n",
       "\n",
       "    .dataframe tbody tr th {\n",
       "        vertical-align: top;\n",
       "    }\n",
       "\n",
       "    .dataframe thead th {\n",
       "        text-align: right;\n",
       "    }\n",
       "</style>\n",
       "<table border=\"1\" class=\"dataframe\">\n",
       "  <thead>\n",
       "    <tr style=\"text-align: right;\">\n",
       "      <th></th>\n",
       "      <th>Model</th>\n",
       "      <th>RMSE</th>\n",
       "    </tr>\n",
       "  </thead>\n",
       "  <tbody>\n",
       "    <tr>\n",
       "      <th>0</th>\n",
       "      <td>Mean</td>\n",
       "      <td>13.555592</td>\n",
       "    </tr>\n",
       "    <tr>\n",
       "      <th>2</th>\n",
       "      <td>LinearTrend</td>\n",
       "      <td>5.350154</td>\n",
       "    </tr>\n",
       "    <tr>\n",
       "      <th>3</th>\n",
       "      <td>QuadraticTrend</td>\n",
       "      <td>3.624616</td>\n",
       "    </tr>\n",
       "    <tr>\n",
       "      <th>4</th>\n",
       "      <td>Transf Log</td>\n",
       "      <td>3.253106</td>\n",
       "    </tr>\n",
       "    <tr>\n",
       "      <th>5</th>\n",
       "      <td>Transf Log + est</td>\n",
       "      <td>2.01017</td>\n",
       "    </tr>\n",
       "  </tbody>\n",
       "</table>\n",
       "</div>"
      ],
      "text/plain": [
       "              Model       RMSE\n",
       "0              Mean  13.555592\n",
       "2       LinearTrend   5.350154\n",
       "3    QuadraticTrend   3.624616\n",
       "4        Transf Log   3.253106\n",
       "5  Transf Log + est    2.01017"
      ]
     },
     "execution_count": 90,
     "metadata": {},
     "output_type": "execute_result"
    }
   ],
   "source": [
    "df_Results.loc[5, \"Model\"] = \"Transf Log + est\"\n",
    "df_Results.loc[5, \"RMSE\"] = RMSE(df_test['back_model_log_est'], df_test['value'])\n",
    "df_Results"
   ]
  },
  {
   "cell_type": "markdown",
   "metadata": {},
   "source": [
    "Vemos que al modelar la estacionalidad mensual agregando las variables dummy, nuestro modelos mejora sustancialmente, reduciéndose el RMSE de 3,25 a 2,01."
   ]
  },
  {
   "cell_type": "markdown",
   "metadata": {},
   "source": [
    "#### Single Exponential Smoothing:\n",
    "\n",
    "\n",
    "El **suavizamiento exponencial simple** otorga más importancia a la información reciente y menos a la pasada. En su forma más simple podemos expresarlo como:\n",
    "\n",
    "$$ \\hat{Y_t} =\\alpha  Y_{t-1}  + (1 - \\alpha )  \\hat{Y}_{t -1} $$\n",
    "\n",
    "Aquí el modelo es un promedio ponderado entre el valor actual y el valor anterior del modelo.\n",
    "$\\alpha$  se conoce como smoothing factor."
   ]
  },
  {
   "cell_type": "code",
   "execution_count": 95,
   "metadata": {},
   "outputs": [],
   "source": [
    "from statsmodels.tsa.holtwinters import SimpleExpSmoothing\n",
    "\n",
    "model_exp_smoothing = SimpleExpSmoothing(df_train['value']).fit(smoothing_level=0.3,\\\n",
    "                                                            optimized=False)"
   ]
  },
  {
   "cell_type": "code",
   "execution_count": 96,
   "metadata": {},
   "outputs": [
    {
     "data": {
      "image/png": "[encoded data removed]",
      "text/plain": [
       "<Figure size 432x288 with 1 Axes>"
      ]
     },
     "metadata": {
      "needs_background": "light"
     },
     "output_type": "display_data"
    }
   ],
   "source": [
    "df_train.plot(kind = \"line\", y = \"value\")\n",
    "model_exp_smoothing.fittedvalues.plot();"
   ]
  },
  {
   "cell_type": "markdown",
   "metadata": {},
   "source": [
    "## Time Series Cross Validation \n",
    "\n",
    "Antes de comenzar a construir un modelo, veamos primero cómo optimizar los hiperparámetros del modelo automáticamente.\n",
    "\n",
    "¿Cómo podemos hacer para realizar validación cruzada con series de tiempo? \n",
    "\n",
    "Las series de tiempo tienen una estructura temporal y no se pueden mezclar los valores aleatoriamente en una partición mientras se conserva esta estructura. Con la aleatorización, se perderán todas las dependencias temporales entre las observaciones. Es por esto que tendremos que usar un enfoque más complicado para optimizar los parámetros del modelo. Utilizaremos es \"cross validation on a rolling basis\".\n",
    "\n",
    "La idea es bastante simple: entrenamos nuestro modelo en un pequeño segmento de la serie de tiempo desde el principio hasta algunas t, hacemos predicciones para los siguientes t + n pasos y calculamos un error. Luego, expandimos nuestra muestra de entrenamiento a valor t + n, hacemos predicciones desde t + n hasta t + 2 ∗ n, y continuamos moviendo nuestro segmento de prueba de la serie de tiempo hasta que alcanzamos la última observación disponible.\n",
    "\n",
    "\n",
    "Aplicamos un split entre train y test para series de tiempo:"
   ]
  },
  {
   "cell_type": "code",
   "execution_count": 97,
   "metadata": {},
   "outputs": [],
   "source": [
    "from sklearn.model_selection import TimeSeriesSplit \n",
    "\n",
    "tscv = TimeSeriesSplit(n_splits=5)"
   ]
  },
  {
   "cell_type": "markdown",
   "metadata": {},
   "source": [
    "Con fines ilustrativos, vamos a hacer un print de los elementos del set de entrenamiento y validación para cada fold:"
   ]
  },
  {
   "cell_type": "code",
   "execution_count": 98,
   "metadata": {},
   "outputs": [
    {
     "name": "stdout",
     "output_type": "stream",
     "text": [
      "Entrenamiento: [ 0  1  2  3  4  5  6  7  8  9 10 11 12 13 14 15 16 17 18 19 20 21 22 23\n",
      " 24 25 26 27 28 29 30 31] Validacion: [32 33 34 35 36 37 38 39 40 41 42 43 44 45 46 47 48 49 50 51 52 53 54 55\n",
      " 56 57 58 59 60 61 62 63]\n",
      "Entrenamiento: [ 0  1  2  3  4  5  6  7  8  9 10 11 12 13 14 15 16 17 18 19 20 21 22 23\n",
      " 24 25 26 27 28 29 30 31 32 33 34 35 36 37 38 39 40 41 42 43 44 45 46 47\n",
      " 48 49 50 51 52 53 54 55 56 57 58 59 60 61 62 63] Validacion: [64 65 66 67 68 69 70 71 72 73 74 75 76 77 78 79 80 81 82 83 84 85 86 87\n",
      " 88 89 90 91 92 93 94 95]\n",
      "Entrenamiento: [ 0  1  2  3  4  5  6  7  8  9 10 11 12 13 14 15 16 17 18 19 20 21 22 23\n",
      " 24 25 26 27 28 29 30 31 32 33 34 35 36 37 38 39 40 41 42 43 44 45 46 47\n",
      " 48 49 50 51 52 53 54 55 56 57 58 59 60 61 62 63 64 65 66 67 68 69 70 71\n",
      " 72 73 74 75 76 77 78 79 80 81 82 83 84 85 86 87 88 89 90 91 92 93 94 95] Validacion: [ 96  97  98  99 100 101 102 103 104 105 106 107 108 109 110 111 112 113\n",
      " 114 115 116 117 118 119 120 121 122 123 124 125 126 127]\n",
      "Entrenamiento: [  0   1   2   3   4   5   6   7   8   9  10  11  12  13  14  15  16  17\n",
      "  18  19  20  21  22  23  24  25  26  27  28  29  30  31  32  33  34  35\n",
      "  36  37  38  39  40  41  42  43  44  45  46  47  48  49  50  51  52  53\n",
      "  54  55  56  57  58  59  60  61  62  63  64  65  66  67  68  69  70  71\n",
      "  72  73  74  75  76  77  78  79  80  81  82  83  84  85  86  87  88  89\n",
      "  90  91  92  93  94  95  96  97  98  99 100 101 102 103 104 105 106 107\n",
      " 108 109 110 111 112 113 114 115 116 117 118 119 120 121 122 123 124 125\n",
      " 126 127] Validacion: [128 129 130 131 132 133 134 135 136 137 138 139 140 141 142 143 144 145\n",
      " 146 147 148 149 150 151 152 153 154 155 156 157 158 159]\n",
      "Entrenamiento: [  0   1   2   3   4   5   6   7   8   9  10  11  12  13  14  15  16  17\n",
      "  18  19  20  21  22  23  24  25  26  27  28  29  30  31  32  33  34  35\n",
      "  36  37  38  39  40  41  42  43  44  45  46  47  48  49  50  51  52  53\n",
      "  54  55  56  57  58  59  60  61  62  63  64  65  66  67  68  69  70  71\n",
      "  72  73  74  75  76  77  78  79  80  81  82  83  84  85  86  87  88  89\n",
      "  90  91  92  93  94  95  96  97  98  99 100 101 102 103 104 105 106 107\n",
      " 108 109 110 111 112 113 114 115 116 117 118 119 120 121 122 123 124 125\n",
      " 126 127 128 129 130 131 132 133 134 135 136 137 138 139 140 141 142 143\n",
      " 144 145 146 147 148 149 150 151 152 153 154 155 156 157 158 159] Validacion: [160 161 162 163 164 165 166 167 168 169 170 171 172 173 174 175 176 177\n",
      " 178 179 180 181 182 183 184 185 186 187 188 189 190 191]\n"
     ]
    }
   ],
   "source": [
    "for train_index, val_index in tscv.split(df_train):\n",
    "    print(\"Entrenamiento:\", train_index, \"Validacion:\", val_index)"
   ]
  },
  {
   "cell_type": "markdown",
   "metadata": {},
   "source": [
    "Definimos una función que aplica time series cross validation para el modelo single exponential smoothing:"
   ]
  },
  {
   "cell_type": "code",
   "execution_count": 100,
   "metadata": {},
   "outputs": [],
   "source": [
    "from sklearn.metrics import mean_squared_error\n",
    "\n",
    "def timeseriesCVscore_exp_smoot(alpha, series):\n",
    "    \"\"\"\n",
    "        Returns error on CV  \n",
    "        \n",
    "        params - vector of parameters for optimization\n",
    "        series - dataset with timeseries\n",
    "        slen - season length for Holt-Winters model\n",
    "    \"\"\"\n",
    "    # creamos un array de errores:\n",
    "    errors = []\n",
    "    \n",
    "    values = series.values\n",
    "    \n",
    "    # instanciamos el objeto que realiza el tscv:\n",
    "    tscv = TimeSeriesSplit(n_splits=5) \n",
    "    \n",
    "    # Aplicamos cross validation:\n",
    "\n",
    "    for train, test in tscv.split(values):\n",
    "    \n",
    "        model = SimpleExpSmoothing(values[train]).fit(smoothing_level=alpha,\\\n",
    "                                                             optimized=False)\n",
    "        \n",
    "        predictions = model.forecast(len(test))\n",
    "        actual = values[test]\n",
    "    \n",
    "        error = mean_squared_error(predictions, actual)\n",
    "        errors.append(error)\n",
    "        \n",
    "    return np.mean(np.array(errors))"
   ]
  },
  {
   "cell_type": "code",
   "execution_count": 101,
   "metadata": {},
   "outputs": [
    {
     "name": "stdout",
     "output_type": "stream",
     "text": [
      "Alpha óptimo: 0.5\n"
     ]
    }
   ],
   "source": [
    "alphas = [0.001, 0.01, 0.1, 0.2, 0.3, 0.35, 0.4, 0.5, 0.75]\n",
    "errors = []\n",
    "\n",
    "for alpha in alphas:\n",
    "    error = timeseriesCVscore_exp_smoot(alpha, df_train.value)\n",
    "    errors.append(error)\n",
    "\n",
    "print('Alpha óptimo:', alphas[np.argmin(errors)])"
   ]
  },
  {
   "cell_type": "code",
   "execution_count": 102,
   "metadata": {},
   "outputs": [],
   "source": [
    "# Entrenamos el modelo optimizado:\n",
    "\n",
    "model_exp_smoothing = SimpleExpSmoothing(df_train.value).fit(smoothing_level=alphas[np.argmin(errors)],\\\n",
    "                                                             optimized=False)"
   ]
  },
  {
   "cell_type": "code",
   "execution_count": 103,
   "metadata": {},
   "outputs": [
    {
     "data": {
      "text/html": [
       "<div>\n",
       "<style scoped>\n",
       "    .dataframe tbody tr th:only-of-type {\n",
       "        vertical-align: middle;\n",
       "    }\n",
       "\n",
       "    .dataframe tbody tr th {\n",
       "        vertical-align: top;\n",
       "    }\n",
       "\n",
       "    .dataframe thead th {\n",
       "        text-align: right;\n",
       "    }\n",
       "</style>\n",
       "<table border=\"1\" class=\"dataframe\">\n",
       "  <thead>\n",
       "    <tr style=\"text-align: right;\">\n",
       "      <th></th>\n",
       "      <th>value</th>\n",
       "      <th>year</th>\n",
       "      <th>month</th>\n",
       "      <th>timeIndex</th>\n",
       "      <th>timeIndex_sq</th>\n",
       "      <th>Aug</th>\n",
       "      <th>Dec</th>\n",
       "      <th>Feb</th>\n",
       "      <th>Jan</th>\n",
       "      <th>Jul</th>\n",
       "      <th>...</th>\n",
       "      <th>Sep</th>\n",
       "      <th>Mean</th>\n",
       "      <th>LinearTrend</th>\n",
       "      <th>QuadraticTrend</th>\n",
       "      <th>log_value</th>\n",
       "      <th>model_log</th>\n",
       "      <th>back_model_log</th>\n",
       "      <th>model_log_est</th>\n",
       "      <th>back_model_log_est</th>\n",
       "      <th>Simple_Smoothing</th>\n",
       "    </tr>\n",
       "    <tr>\n",
       "      <th>date</th>\n",
       "      <th></th>\n",
       "      <th></th>\n",
       "      <th></th>\n",
       "      <th></th>\n",
       "      <th></th>\n",
       "      <th></th>\n",
       "      <th></th>\n",
       "      <th></th>\n",
       "      <th></th>\n",
       "      <th></th>\n",
       "      <th></th>\n",
       "      <th></th>\n",
       "      <th></th>\n",
       "      <th></th>\n",
       "      <th></th>\n",
       "      <th></th>\n",
       "      <th></th>\n",
       "      <th></th>\n",
       "      <th></th>\n",
       "      <th></th>\n",
       "      <th></th>\n",
       "    </tr>\n",
       "  </thead>\n",
       "  <tbody>\n",
       "    <tr>\n",
       "      <th>2007-07-01</th>\n",
       "      <td>21.834890</td>\n",
       "      <td>2007</td>\n",
       "      <td>Jul</td>\n",
       "      <td>192</td>\n",
       "      <td>36864</td>\n",
       "      <td>0</td>\n",
       "      <td>0</td>\n",
       "      <td>0</td>\n",
       "      <td>0</td>\n",
       "      <td>1</td>\n",
       "      <td>...</td>\n",
       "      <td>0</td>\n",
       "      <td>9.914647</td>\n",
       "      <td>18.221353</td>\n",
       "      <td>20.333919</td>\n",
       "      <td>3.083509</td>\n",
       "      <td>3.049907</td>\n",
       "      <td>21.113388</td>\n",
       "      <td>3.048607</td>\n",
       "      <td>21.085945</td>\n",
       "      <td>20.192834</td>\n",
       "    </tr>\n",
       "    <tr>\n",
       "      <th>2007-08-01</th>\n",
       "      <td>23.930204</td>\n",
       "      <td>2007</td>\n",
       "      <td>Aug</td>\n",
       "      <td>193</td>\n",
       "      <td>37249</td>\n",
       "      <td>1</td>\n",
       "      <td>0</td>\n",
       "      <td>0</td>\n",
       "      <td>0</td>\n",
       "      <td>0</td>\n",
       "      <td>...</td>\n",
       "      <td>0</td>\n",
       "      <td>9.914647</td>\n",
       "      <td>18.307433</td>\n",
       "      <td>20.485675</td>\n",
       "      <td>3.175141</td>\n",
       "      <td>3.059176</td>\n",
       "      <td>21.309993</td>\n",
       "      <td>3.057896</td>\n",
       "      <td>21.282736</td>\n",
       "      <td>20.192834</td>\n",
       "    </tr>\n",
       "    <tr>\n",
       "      <th>2007-09-01</th>\n",
       "      <td>22.930357</td>\n",
       "      <td>2007</td>\n",
       "      <td>Sep</td>\n",
       "      <td>194</td>\n",
       "      <td>37636</td>\n",
       "      <td>0</td>\n",
       "      <td>0</td>\n",
       "      <td>0</td>\n",
       "      <td>0</td>\n",
       "      <td>0</td>\n",
       "      <td>...</td>\n",
       "      <td>1</td>\n",
       "      <td>9.914647</td>\n",
       "      <td>18.393513</td>\n",
       "      <td>20.638107</td>\n",
       "      <td>3.132462</td>\n",
       "      <td>3.068445</td>\n",
       "      <td>21.508428</td>\n",
       "      <td>3.066551</td>\n",
       "      <td>21.467722</td>\n",
       "      <td>20.192834</td>\n",
       "    </tr>\n",
       "    <tr>\n",
       "      <th>2007-10-01</th>\n",
       "      <td>23.263340</td>\n",
       "      <td>2007</td>\n",
       "      <td>Oct</td>\n",
       "      <td>195</td>\n",
       "      <td>38025</td>\n",
       "      <td>0</td>\n",
       "      <td>0</td>\n",
       "      <td>0</td>\n",
       "      <td>0</td>\n",
       "      <td>0</td>\n",
       "      <td>...</td>\n",
       "      <td>0</td>\n",
       "      <td>9.914647</td>\n",
       "      <td>18.479593</td>\n",
       "      <td>20.791217</td>\n",
       "      <td>3.146879</td>\n",
       "      <td>3.077714</td>\n",
       "      <td>21.708711</td>\n",
       "      <td>3.139532</td>\n",
       "      <td>23.093057</td>\n",
       "      <td>20.192834</td>\n",
       "    </tr>\n",
       "    <tr>\n",
       "      <th>2007-11-01</th>\n",
       "      <td>25.250030</td>\n",
       "      <td>2007</td>\n",
       "      <td>Nov</td>\n",
       "      <td>196</td>\n",
       "      <td>38416</td>\n",
       "      <td>0</td>\n",
       "      <td>0</td>\n",
       "      <td>0</td>\n",
       "      <td>0</td>\n",
       "      <td>0</td>\n",
       "      <td>...</td>\n",
       "      <td>0</td>\n",
       "      <td>9.914647</td>\n",
       "      <td>18.565673</td>\n",
       "      <td>20.945004</td>\n",
       "      <td>3.228827</td>\n",
       "      <td>3.086982</td>\n",
       "      <td>21.910859</td>\n",
       "      <td>3.170708</td>\n",
       "      <td>23.824358</td>\n",
       "      <td>20.192834</td>\n",
       "    </tr>\n",
       "  </tbody>\n",
       "</table>\n",
       "<p>5 rows × 25 columns</p>\n",
       "</div>"
      ],
      "text/plain": [
       "                value  year month  timeIndex  timeIndex_sq  Aug  Dec  Feb  \\\n",
       "date                                                                        \n",
       "2007-07-01  21.834890  2007   Jul        192         36864    0    0    0   \n",
       "2007-08-01  23.930204  2007   Aug        193         37249    1    0    0   \n",
       "2007-09-01  22.930357  2007   Sep        194         37636    0    0    0   \n",
       "2007-10-01  23.263340  2007   Oct        195         38025    0    0    0   \n",
       "2007-11-01  25.250030  2007   Nov        196         38416    0    0    0   \n",
       "\n",
       "            Jan  Jul  ...  Sep      Mean  LinearTrend  QuadraticTrend  \\\n",
       "date                  ...                                               \n",
       "2007-07-01    0    1  ...    0  9.914647    18.221353       20.333919   \n",
       "2007-08-01    0    0  ...    0  9.914647    18.307433       20.485675   \n",
       "2007-09-01    0    0  ...    1  9.914647    18.393513       20.638107   \n",
       "2007-10-01    0    0  ...    0  9.914647    18.479593       20.791217   \n",
       "2007-11-01    0    0  ...    0  9.914647    18.565673       20.945004   \n",
       "\n",
       "            log_value  model_log  back_model_log  model_log_est  \\\n",
       "date                                                              \n",
       "2007-07-01   3.083509   3.049907       21.113388       3.048607   \n",
       "2007-08-01   3.175141   3.059176       21.309993       3.057896   \n",
       "2007-09-01   3.132462   3.068445       21.508428       3.066551   \n",
       "2007-10-01   3.146879   3.077714       21.708711       3.139532   \n",
       "2007-11-01   3.228827   3.086982       21.910859       3.170708   \n",
       "\n",
       "            back_model_log_est  Simple_Smoothing  \n",
       "date                                              \n",
       "2007-07-01           21.085945         20.192834  \n",
       "2007-08-01           21.282736         20.192834  \n",
       "2007-09-01           21.467722         20.192834  \n",
       "2007-10-01           23.093057         20.192834  \n",
       "2007-11-01           23.824358         20.192834  \n",
       "\n",
       "[5 rows x 25 columns]"
      ]
     },
     "execution_count": 103,
     "metadata": {},
     "output_type": "execute_result"
    }
   ],
   "source": [
    "df_test[\"Simple_Smoothing\"] = model_exp_smoothing.forecast(12)\n",
    "df_test.head()"
   ]
  },
  {
   "cell_type": "code",
   "execution_count": 105,
   "metadata": {},
   "outputs": [
    {
     "data": {
      "text/plain": [
       "4.110187300262552"
      ]
     },
     "execution_count": 105,
     "metadata": {},
     "output_type": "execute_result"
    }
   ],
   "source": [
    "model_simp_smo_RMSE = RMSE(df_test[\"Simple_Smoothing\"], df_test['value'])\n",
    "model_simp_smo_RMSE"
   ]
  },
  {
   "cell_type": "code",
   "execution_count": 106,
   "metadata": {},
   "outputs": [
    {
     "data": {
      "image/png": "[encoded data removed]",
      "text/plain": [
       "<Figure size 432x288 with 1 Axes>"
      ]
     },
     "metadata": {
      "needs_background": "light"
     },
     "output_type": "display_data"
    }
   ],
   "source": [
    "df_test.plot(kind=\"line\", y = [\"value\", \"Simple_Smoothing\"]);"
   ]
  },
  {
   "cell_type": "code",
   "execution_count": 107,
   "metadata": {},
   "outputs": [
    {
     "data": {
      "text/html": [
       "<div>\n",
       "<style scoped>\n",
       "    .dataframe tbody tr th:only-of-type {\n",
       "        vertical-align: middle;\n",
       "    }\n",
       "\n",
       "    .dataframe tbody tr th {\n",
       "        vertical-align: top;\n",
       "    }\n",
       "\n",
       "    .dataframe thead th {\n",
       "        text-align: right;\n",
       "    }\n",
       "</style>\n",
       "<table border=\"1\" class=\"dataframe\">\n",
       "  <thead>\n",
       "    <tr style=\"text-align: right;\">\n",
       "      <th></th>\n",
       "      <th>Model</th>\n",
       "      <th>RMSE</th>\n",
       "    </tr>\n",
       "  </thead>\n",
       "  <tbody>\n",
       "    <tr>\n",
       "      <th>0</th>\n",
       "      <td>Mean</td>\n",
       "      <td>13.555592</td>\n",
       "    </tr>\n",
       "    <tr>\n",
       "      <th>2</th>\n",
       "      <td>LinearTrend</td>\n",
       "      <td>5.350154</td>\n",
       "    </tr>\n",
       "    <tr>\n",
       "      <th>3</th>\n",
       "      <td>QuadraticTrend</td>\n",
       "      <td>3.624616</td>\n",
       "    </tr>\n",
       "    <tr>\n",
       "      <th>4</th>\n",
       "      <td>Transf Log</td>\n",
       "      <td>3.253106</td>\n",
       "    </tr>\n",
       "    <tr>\n",
       "      <th>5</th>\n",
       "      <td>Transf Log + est</td>\n",
       "      <td>2.01017</td>\n",
       "    </tr>\n",
       "    <tr>\n",
       "      <th>6</th>\n",
       "      <td>Simple Smoothing</td>\n",
       "      <td>4.110187</td>\n",
       "    </tr>\n",
       "  </tbody>\n",
       "</table>\n",
       "</div>"
      ],
      "text/plain": [
       "              Model       RMSE\n",
       "0              Mean  13.555592\n",
       "2       LinearTrend   5.350154\n",
       "3    QuadraticTrend   3.624616\n",
       "4        Transf Log   3.253106\n",
       "5  Transf Log + est    2.01017\n",
       "6  Simple Smoothing   4.110187"
      ]
     },
     "execution_count": 107,
     "metadata": {},
     "output_type": "execute_result"
    }
   ],
   "source": [
    "# Calculamos el RMSE y almacenamos los resultados\n",
    "df_Results.loc[6, \"Model\"] = \"Simple Smoothing\"\n",
    "df_Results.loc[6, \"RMSE\"] = RMSE(df_test[\"Simple_Smoothing\"], df_test.value)\n",
    "df_Results"
   ]
  },
  {
   "cell_type": "code",
   "execution_count": 73,
   "metadata": {},
   "outputs": [
    {
     "data": {
      "image/png": "[encoded data removed]",
      "text/plain": [
       "<Figure size 432x288 with 1 Axes>"
      ]
     },
     "metadata": {
      "needs_background": "light"
     },
     "output_type": "display_data"
    }
   ],
   "source": [
    "# Ploteamos las mejores estimaciones \n",
    "df_test.plot(kind = \"line\", y = [\"value\", \"back_model_log_est\",\\\n",
    "                                                 \"back_model_log\"]);"
   ]
  },
  {
   "cell_type": "markdown",
   "metadata": {},
   "source": [
    "Conclusiones :\n",
    "\n",
    "Podemos descomponer una serie de tiempo en:\n",
    "\n",
    "- **Tendencia**\n",
    "- **Estacionalidad**\n",
    "- **Ciclos**\n",
    "- **Componente aleatoria**\n",
    "\n",
    "De manera aditiva, podemos decir entonces que: \n",
    "\n",
    "$$ y_t = T_t + S_t + C_t + \\varepsilon_t. $$\n",
    "\n",
    "- Para modelar la tendencia y la estacionalidad podemos usar dummies. \n",
    "\n",
    "- También podemos utilizar modelos que no sean necesariamente de series temporales pero esto nos lleva a desarrollar un poco más nuestra metodología porque no podemos utilizarlos directamente.\n",
    "\n",
    "- Por otro lado también se pueden utilizar modelos del tipo caja negra que nos sirvan para poder hacer nuestro forecasting, un conocido ejemplo de esto es [Prophet](https://facebook.github.io/prophet/), que es una de las librerias de Meta(Facebook) \"Funciona mejor con series temporales que tienen fuertes efectos estacionales y varias temporadas de datos históricos\".\n",
    "\n",
    "Si quieren probarla pueden instalarla de la siguiente manera:\n",
    "\n",
    "\n",
    "> pip install pystan==2.19.1.1\n",
    ">\n",
    "> pip install prophet\n",
    "\n",
    "[Paper sobre el modelo](https://peerj.com/preprints/3190/)\n"
   ]
  },
  {
   "cell_type": "markdown",
   "metadata": {},
   "source": []
  }
 ],
 "metadata": {
  "interpreter": {
   "hash": "33b7e6f42d5c92d6b814a1f6cf038b869e4ed5abed6f4d7226a210bd44c06fed"
  },
  "kernelspec": {
   "display_name": "Python 3.8.13 ('pycaret2')",
   "language": "python",
   "name": "python3"
  },
  "language_info": {
   "codemirror_mode": {
    "name": "ipython",
    "version": 3
   },
   "file_extension": ".py",
   "mimetype": "text/x-python",
   "name": "python",
   "nbconvert_exporter": "python",
   "pygments_lexer": "ipython3",
   "version": "3.8.13"
  }
 },
 "nbformat": 4,
 "nbformat_minor": 4
}
