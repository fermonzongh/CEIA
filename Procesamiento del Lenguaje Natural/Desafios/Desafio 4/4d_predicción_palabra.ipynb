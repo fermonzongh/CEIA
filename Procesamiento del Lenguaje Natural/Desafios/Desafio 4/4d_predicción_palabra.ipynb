{
  "cells": [
    {
      "cell_type": "markdown",
      "metadata": {
        "id": "g3yeJGnCYxuF"
      },
      "source": [
        "<img src=\"https://github.com/hernancontigiani/ceia_memorias_especializacion/raw/master/Figures/logoFIUBA.jpg\" width=\"500\" align=\"center\">\n",
        "\n",
        "\n",
        "# Procesamiento de lenguaje natural\n",
        "## Predicción de próxima palabra"
      ]
    },
    {
      "cell_type": "markdown",
      "metadata": {
        "id": "Iv5PEwGzZA9-"
      },
      "source": [
        "### Objetivo\n",
        "El objetivo es utilizar documentos / corpus para crear embeddings de palabras basado en ese contexto utilizando la layer Embedding de Keras. Se utilizará esos embeddings junto con layers LSTM para predeccir la próxima posible palabra."
      ]
    },
    {
      "cell_type": "code",
      "execution_count": 1,
      "metadata": {
        "id": "Y-QdFbHZYj7C"
      },
      "outputs": [],
      "source": [
        "import random\n",
        "import io\n",
        "import pickle\n",
        "\n",
        "import numpy as np\n",
        "import pandas as pd\n",
        "\n",
        "from tensorflow import keras\n",
        "from tensorflow.keras import layers\n",
        "from keras.utils.np_utils import to_categorical\n",
        "from keras.models import Sequential\n",
        "from keras.layers import Dense, LSTM, Embedding, Dropout"
      ]
    },
    {
      "cell_type": "markdown",
      "metadata": {
        "id": "xTvXlEKQZdqx"
      },
      "source": [
        "### Datos\n",
        "Utilizaremos como dataset canciones de bandas de habla inglés."
      ]
    },
    {
      "cell_type": "code",
      "execution_count": 2,
      "metadata": {
        "id": "IkdPfrQJZdB5",
        "colab": {
          "base_uri": "https://localhost:8080/"
        },
        "outputId": "43c0d7e5-1345-44f9-e766-831f4434ce7b"
      },
      "outputs": [
        {
          "output_type": "stream",
          "name": "stdout",
          "text": [
            "--2023-04-25 02:14:25--  http://songs_dataset.zip/\n",
            "Resolving songs_dataset.zip (songs_dataset.zip)... failed: Name or service not known.\n",
            "wget: unable to resolve host address ‘songs_dataset.zip’\n",
            "--2023-04-25 02:14:25--  https://github.com/FIUBA-Posgrado-Inteligencia-Artificial/procesamiento_lenguaje_natural/raw/main/datasets/songs_dataset.zip\n",
            "Resolving github.com (github.com)... 140.82.114.3\n",
            "Connecting to github.com (github.com)|140.82.114.3|:443... connected.\n",
            "HTTP request sent, awaiting response... 302 Found\n",
            "Location: https://raw.githubusercontent.com/FIUBA-Posgrado-Inteligencia-Artificial/procesamiento_lenguaje_natural/main/datasets/songs_dataset.zip [following]\n",
            "--2023-04-25 02:14:26--  https://raw.githubusercontent.com/FIUBA-Posgrado-Inteligencia-Artificial/procesamiento_lenguaje_natural/main/datasets/songs_dataset.zip\n",
            "Resolving raw.githubusercontent.com (raw.githubusercontent.com)... 185.199.108.133, 185.199.109.133, 185.199.110.133, ...\n",
            "Connecting to raw.githubusercontent.com (raw.githubusercontent.com)|185.199.108.133|:443... connected.\n",
            "HTTP request sent, awaiting response... 200 OK\n",
            "Length: 2075036 (2.0M) [application/zip]\n",
            "Saving to: ‘songs_dataset.zip’\n",
            "\n",
            "songs_dataset.zip   100%[===================>]   1.98M  --.-KB/s    in 0.06s   \n",
            "\n",
            "2023-04-25 02:14:26 (32.0 MB/s) - ‘songs_dataset.zip’ saved [2075036/2075036]\n",
            "\n",
            "FINISHED --2023-04-25 02:14:26--\n",
            "Total wall clock time: 0.7s\n",
            "Downloaded: 1 files, 2.0M in 0.06s (32.0 MB/s)\n"
          ]
        }
      ],
      "source": [
        "# Descargar la carpeta de dataset\n",
        "import os\n",
        "import platform\n",
        "if os.access('./songs_dataset', os.F_OK) is False:\n",
        "    if os.access('songs_dataset.zip', os.F_OK) is False:\n",
        "        if platform.system() == 'Windows':\n",
        "            !curl https://raw.githubusercontent.com/FIUBA-Posgrado-Inteligencia-Artificial/procesamiento_lenguaje_natural/main/datasets/songs_dataset.zip -o songs_dataset.zip\n",
        "        else:\n",
        "            !wget songs_dataset.zip https://github.com/FIUBA-Posgrado-Inteligencia-Artificial/procesamiento_lenguaje_natural/raw/main/datasets/songs_dataset.zip\n",
        "    !unzip -q songs_dataset.zip   \n",
        "else:\n",
        "    print(\"El dataset ya se encuentra descargado\")"
      ]
    },
    {
      "cell_type": "code",
      "execution_count": 3,
      "metadata": {
        "id": "6j-3nQ4lZjfb",
        "colab": {
          "base_uri": "https://localhost:8080/"
        },
        "outputId": "ceaf8b05-fbfe-49b6-841d-d2a165ce5611"
      },
      "outputs": [
        {
          "output_type": "execute_result",
          "data": {
            "text/plain": [
              "['notorious_big.txt',\n",
              " 'kanye-west.txt',\n",
              " 'adele.txt',\n",
              " 'janisjoplin.txt',\n",
              " 'leonard-cohen.txt',\n",
              " 'missy-elliott.txt',\n",
              " 'bjork.txt',\n",
              " 'al-green.txt',\n",
              " 'nirvana.txt',\n",
              " 'amy-winehouse.txt',\n",
              " 'paul-simon.txt',\n",
              " 'dj-khaled.txt',\n",
              " 'britney-spears.txt',\n",
              " 'rihanna.txt',\n",
              " 'joni-mitchell.txt',\n",
              " 'Kanye_West.txt',\n",
              " 'bob-marley.txt',\n",
              " 'lady-gaga.txt',\n",
              " 'beatles.txt',\n",
              " 'lin-manuel-miranda.txt',\n",
              " 'johnny-cash.txt',\n",
              " 'patti-smith.txt',\n",
              " 'bruce-springsteen.txt',\n",
              " 'kanye.txt',\n",
              " 'ludacris.txt',\n",
              " 'dolly-parton.txt',\n",
              " 'disney.txt',\n",
              " 'lil-wayne.txt',\n",
              " 'jimi-hendrix.txt',\n",
              " 'lorde.txt',\n",
              " 'bieber.txt',\n",
              " 'bob-dylan.txt',\n",
              " 'dr-seuss.txt',\n",
              " 'drake.txt',\n",
              " 'dickinson.txt',\n",
              " 'nickelback.txt',\n",
              " 'eminem.txt',\n",
              " 'radiohead.txt',\n",
              " 'alicia-keys.txt',\n",
              " 'r-kelly.txt',\n",
              " 'notorious-big.txt',\n",
              " 'nicki-minaj.txt',\n",
              " 'prince.txt',\n",
              " 'cake.txt',\n",
              " 'bruno-mars.txt',\n",
              " 'Lil_Wayne.txt',\n",
              " 'nursery_rhymes.txt',\n",
              " 'michael-jackson.txt',\n",
              " 'blink-182.txt']"
            ]
          },
          "metadata": {},
          "execution_count": 3
        }
      ],
      "source": [
        "# Posibles bandas\n",
        "os.listdir(\"./songs_dataset/\")"
      ]
    },
    {
      "cell_type": "code",
      "execution_count": 4,
      "metadata": {
        "id": "Gb39v3PaZmRH",
        "colab": {
          "base_uri": "https://localhost:8080/",
          "height": 261
        },
        "outputId": "3710dce3-efc9-4663-ff99-cd93de4c4fd3"
      },
      "outputs": [
        {
          "output_type": "stream",
          "name": "stderr",
          "text": [
            "<ipython-input-4-250d9583aaef>:2: ParserWarning: Falling back to the 'python' engine because the 'c' engine does not support regex separators (separators > 1 char and different from '\\s+' are interpreted as regex); you can avoid this warning by specifying engine='python'.\n",
            "  df = pd.read_csv('songs_dataset/eminem.txt', sep='/n', header=None)\n"
          ]
        },
        {
          "output_type": "execute_result",
          "data": {
            "text/plain": [
              "                                                   0\n",
              "0  Look, I was gonna go easy on you and not to hu...\n",
              "1          But I'm only going to get this one chance\n",
              "2  Something's wrong, I can feel it (Six minutes,...\n",
              "3  Just a feeling I've got, like something's abou...\n",
              "4  If that means, what I think it means, we're in..."
            ],
            "text/html": [
              "\n",
              "  <div id=\"df-c54a5017-342c-4bf3-8e88-f902c5695e63\">\n",
              "    <div class=\"colab-df-container\">\n",
              "      <div>\n",
              "<style scoped>\n",
              "    .dataframe tbody tr th:only-of-type {\n",
              "        vertical-align: middle;\n",
              "    }\n",
              "\n",
              "    .dataframe tbody tr th {\n",
              "        vertical-align: top;\n",
              "    }\n",
              "\n",
              "    .dataframe thead th {\n",
              "        text-align: right;\n",
              "    }\n",
              "</style>\n",
              "<table border=\"1\" class=\"dataframe\">\n",
              "  <thead>\n",
              "    <tr style=\"text-align: right;\">\n",
              "      <th></th>\n",
              "      <th>0</th>\n",
              "    </tr>\n",
              "  </thead>\n",
              "  <tbody>\n",
              "    <tr>\n",
              "      <th>0</th>\n",
              "      <td>Look, I was gonna go easy on you and not to hu...</td>\n",
              "    </tr>\n",
              "    <tr>\n",
              "      <th>1</th>\n",
              "      <td>But I'm only going to get this one chance</td>\n",
              "    </tr>\n",
              "    <tr>\n",
              "      <th>2</th>\n",
              "      <td>Something's wrong, I can feel it (Six minutes,...</td>\n",
              "    </tr>\n",
              "    <tr>\n",
              "      <th>3</th>\n",
              "      <td>Just a feeling I've got, like something's abou...</td>\n",
              "    </tr>\n",
              "    <tr>\n",
              "      <th>4</th>\n",
              "      <td>If that means, what I think it means, we're in...</td>\n",
              "    </tr>\n",
              "  </tbody>\n",
              "</table>\n",
              "</div>\n",
              "      <button class=\"colab-df-convert\" onclick=\"convertToInteractive('df-c54a5017-342c-4bf3-8e88-f902c5695e63')\"\n",
              "              title=\"Convert this dataframe to an interactive table.\"\n",
              "              style=\"display:none;\">\n",
              "        \n",
              "  <svg xmlns=\"http://www.w3.org/2000/svg\" height=\"24px\"viewBox=\"0 0 24 24\"\n",
              "       width=\"24px\">\n",
              "    <path d=\"M0 0h24v24H0V0z\" fill=\"none\"/>\n",
              "    <path d=\"M18.56 5.44l.94 2.06.94-2.06 2.06-.94-2.06-.94-.94-2.06-.94 2.06-2.06.94zm-11 1L8.5 8.5l.94-2.06 2.06-.94-2.06-.94L8.5 2.5l-.94 2.06-2.06.94zm10 10l.94 2.06.94-2.06 2.06-.94-2.06-.94-.94-2.06-.94 2.06-2.06.94z\"/><path d=\"M17.41 7.96l-1.37-1.37c-.4-.4-.92-.59-1.43-.59-.52 0-1.04.2-1.43.59L10.3 9.45l-7.72 7.72c-.78.78-.78 2.05 0 2.83L4 21.41c.39.39.9.59 1.41.59.51 0 1.02-.2 1.41-.59l7.78-7.78 2.81-2.81c.8-.78.8-2.07 0-2.86zM5.41 20L4 18.59l7.72-7.72 1.47 1.35L5.41 20z\"/>\n",
              "  </svg>\n",
              "      </button>\n",
              "      \n",
              "  <style>\n",
              "    .colab-df-container {\n",
              "      display:flex;\n",
              "      flex-wrap:wrap;\n",
              "      gap: 12px;\n",
              "    }\n",
              "\n",
              "    .colab-df-convert {\n",
              "      background-color: #E8F0FE;\n",
              "      border: none;\n",
              "      border-radius: 50%;\n",
              "      cursor: pointer;\n",
              "      display: none;\n",
              "      fill: #1967D2;\n",
              "      height: 32px;\n",
              "      padding: 0 0 0 0;\n",
              "      width: 32px;\n",
              "    }\n",
              "\n",
              "    .colab-df-convert:hover {\n",
              "      background-color: #E2EBFA;\n",
              "      box-shadow: 0px 1px 2px rgba(60, 64, 67, 0.3), 0px 1px 3px 1px rgba(60, 64, 67, 0.15);\n",
              "      fill: #174EA6;\n",
              "    }\n",
              "\n",
              "    [theme=dark] .colab-df-convert {\n",
              "      background-color: #3B4455;\n",
              "      fill: #D2E3FC;\n",
              "    }\n",
              "\n",
              "    [theme=dark] .colab-df-convert:hover {\n",
              "      background-color: #434B5C;\n",
              "      box-shadow: 0px 1px 3px 1px rgba(0, 0, 0, 0.15);\n",
              "      filter: drop-shadow(0px 1px 2px rgba(0, 0, 0, 0.3));\n",
              "      fill: #FFFFFF;\n",
              "    }\n",
              "  </style>\n",
              "\n",
              "      <script>\n",
              "        const buttonEl =\n",
              "          document.querySelector('#df-c54a5017-342c-4bf3-8e88-f902c5695e63 button.colab-df-convert');\n",
              "        buttonEl.style.display =\n",
              "          google.colab.kernel.accessAllowed ? 'block' : 'none';\n",
              "\n",
              "        async function convertToInteractive(key) {\n",
              "          const element = document.querySelector('#df-c54a5017-342c-4bf3-8e88-f902c5695e63');\n",
              "          const dataTable =\n",
              "            await google.colab.kernel.invokeFunction('convertToInteractive',\n",
              "                                                     [key], {});\n",
              "          if (!dataTable) return;\n",
              "\n",
              "          const docLinkHtml = 'Like what you see? Visit the ' +\n",
              "            '<a target=\"_blank\" href=https://colab.research.google.com/notebooks/data_table.ipynb>data table notebook</a>'\n",
              "            + ' to learn more about interactive tables.';\n",
              "          element.innerHTML = '';\n",
              "          dataTable['output_type'] = 'display_data';\n",
              "          await google.colab.output.renderOutput(dataTable, element);\n",
              "          const docLink = document.createElement('div');\n",
              "          docLink.innerHTML = docLinkHtml;\n",
              "          element.appendChild(docLink);\n",
              "        }\n",
              "      </script>\n",
              "    </div>\n",
              "  </div>\n",
              "  "
            ]
          },
          "metadata": {},
          "execution_count": 4
        }
      ],
      "source": [
        "# Armar el dataset utilizando salto de línea para separar las oraciones/docs\n",
        "df = pd.read_csv('songs_dataset/eminem.txt', sep='/n', header=None)\n",
        "df.head()"
      ]
    },
    {
      "cell_type": "code",
      "execution_count": 5,
      "metadata": {
        "id": "riT898QlZnmF",
        "colab": {
          "base_uri": "https://localhost:8080/"
        },
        "outputId": "f303ef7f-5f7e-48d9-f478-cf3c0cf07513"
      },
      "outputs": [
        {
          "output_type": "stream",
          "name": "stdout",
          "text": [
            "Cantidad de documentos: 6812\n"
          ]
        }
      ],
      "source": [
        "print(\"Cantidad de documentos:\", df.shape[0])"
      ]
    },
    {
      "cell_type": "markdown",
      "metadata": {
        "id": "RDoouHp7Zp6D"
      },
      "source": [
        "### 1 - Ejemplo de Preprocesamiento\n",
        "- Hay que transformar las oraciones en tokens.\n",
        "- Dichas oraciones hay que ajustarlas al tamaño fijo de nuestra sentencia de entrada al modelo.\n",
        "- Hay que separar las palabras objetivos (target) que el modelo debe predecir en cada sentencia armada."
      ]
    },
    {
      "cell_type": "code",
      "execution_count": 6,
      "metadata": {
        "id": "m5FeTaGvbDbw"
      },
      "outputs": [],
      "source": [
        "from keras.preprocessing.text import Tokenizer # equivalente a ltokenizer de nltk\n",
        "from keras.preprocessing.text import text_to_word_sequence # equivalente a word_teokenize de nltk\n",
        "from keras.utils import pad_sequences # se utilizará para padding\n",
        "\n",
        "# largo de la secuencia, incluye seq input + word output\n",
        "train_len = 4"
      ]
    },
    {
      "cell_type": "code",
      "execution_count": 7,
      "metadata": {
        "id": "Zf3O7eK6ZpP8",
        "colab": {
          "base_uri": "https://localhost:8080/",
          "height": 35
        },
        "outputId": "9773fd8f-e260-4047-ca59-bc50e9c8a9d4"
      },
      "outputs": [
        {
          "output_type": "execute_result",
          "data": {
            "text/plain": [
              "'Look, I was gonna go easy on you and not to hurt your feelings'"
            ],
            "application/vnd.google.colaboratory.intrinsic+json": {
              "type": "string"
            }
          },
          "metadata": {},
          "execution_count": 7
        }
      ],
      "source": [
        "# Ejemplo de como transformar una oración a tokens usando keras\n",
        "text = df.loc[0,0]\n",
        "text"
      ]
    },
    {
      "cell_type": "code",
      "execution_count": 8,
      "metadata": {
        "id": "AOv67Sj7aeFH",
        "colab": {
          "base_uri": "https://localhost:8080/"
        },
        "outputId": "fcc1da5e-7800-4ba9-a07b-7f0c8ce32908"
      },
      "outputs": [
        {
          "output_type": "execute_result",
          "data": {
            "text/plain": [
              "['look',\n",
              " 'i',\n",
              " 'was',\n",
              " 'gonna',\n",
              " 'go',\n",
              " 'easy',\n",
              " 'on',\n",
              " 'you',\n",
              " 'and',\n",
              " 'not',\n",
              " 'to',\n",
              " 'hurt',\n",
              " 'your',\n",
              " 'feelings']"
            ]
          },
          "metadata": {},
          "execution_count": 8
        }
      ],
      "source": [
        "tokens = text_to_word_sequence(text) # entran oraciones -> salen vectores de N posiciones (tokens)\n",
        "tokens"
      ]
    },
    {
      "cell_type": "markdown",
      "metadata": {
        "id": "ZrlyqkoiaymK"
      },
      "source": [
        "1.1 - Transformar las oraciones en secuencias (tokens) de palabras"
      ]
    },
    {
      "cell_type": "code",
      "execution_count": 9,
      "metadata": {
        "id": "XH_L14Wjaowe"
      },
      "outputs": [],
      "source": [
        "# Recorrer todas las filas y transformar las oraciones\n",
        "# en secuencias de palabras\n",
        "sentence_tokens = []\n",
        "for _, row in df[:None].iterrows():\n",
        "    sentence_tokens.append(text_to_word_sequence(row[0]))"
      ]
    },
    {
      "cell_type": "code",
      "execution_count": 10,
      "metadata": {
        "id": "KASzU4CdaxbZ",
        "colab": {
          "base_uri": "https://localhost:8080/"
        },
        "outputId": "b972452b-a2f5-42d1-c5fd-ef8e5256000b"
      },
      "outputs": [
        {
          "output_type": "execute_result",
          "data": {
            "text/plain": [
              "[['look',\n",
              "  'i',\n",
              "  'was',\n",
              "  'gonna',\n",
              "  'go',\n",
              "  'easy',\n",
              "  'on',\n",
              "  'you',\n",
              "  'and',\n",
              "  'not',\n",
              "  'to',\n",
              "  'hurt',\n",
              "  'your',\n",
              "  'feelings'],\n",
              " ['but', \"i'm\", 'only', 'going', 'to', 'get', 'this', 'one', 'chance']]"
            ]
          },
          "metadata": {},
          "execution_count": 10
        }
      ],
      "source": [
        "# Demos un vistazo\n",
        "sentence_tokens[:2]"
      ]
    },
    {
      "cell_type": "code",
      "execution_count": 11,
      "metadata": {
        "id": "A659lswTbIIB"
      },
      "outputs": [],
      "source": [
        "# Código para hacer el desfazaje de las palabras\n",
        "# según el train_len\n",
        "text_sequences = []\n",
        "\n",
        "for i in range(train_len, len(tokens)):\n",
        "  seq = tokens[i-train_len:i]\n",
        "  text_sequences.append(seq)"
      ]
    },
    {
      "cell_type": "code",
      "execution_count": 12,
      "metadata": {
        "id": "01JEoPPnbgRF",
        "colab": {
          "base_uri": "https://localhost:8080/"
        },
        "outputId": "f4a4b888-27f1-4ae1-b4ee-6ce3bf010557"
      },
      "outputs": [
        {
          "output_type": "execute_result",
          "data": {
            "text/plain": [
              "[['look', 'i', 'was', 'gonna'],\n",
              " ['i', 'was', 'gonna', 'go'],\n",
              " ['was', 'gonna', 'go', 'easy'],\n",
              " ['gonna', 'go', 'easy', 'on'],\n",
              " ['go', 'easy', 'on', 'you'],\n",
              " ['easy', 'on', 'you', 'and'],\n",
              " ['on', 'you', 'and', 'not'],\n",
              " ['you', 'and', 'not', 'to'],\n",
              " ['and', 'not', 'to', 'hurt'],\n",
              " ['not', 'to', 'hurt', 'your']]"
            ]
          },
          "metadata": {},
          "execution_count": 12
        }
      ],
      "source": [
        "# Demos un vistazo a nuestros vectores para entrenar el modelo\n",
        "text_sequences "
      ]
    },
    {
      "cell_type": "markdown",
      "metadata": {
        "id": "4B0gHnKVa4W_"
      },
      "source": [
        "1.2 - Crear los vectores de palabras (word2vec)\n",
        "\n",
        "Ahora necesitamos pasarlos a números para que lo entienda la red y separar input de output.\n",
        "- El Input seran integers (word2vec)\n",
        "- Mientras que el output será one hot encodeado (labels) del tamaño del vocabulario"
      ]
    },
    {
      "cell_type": "code",
      "execution_count": 13,
      "metadata": {
        "id": "fkPNvXeQcS0U"
      },
      "outputs": [],
      "source": [
        "tok = Tokenizer() \n",
        "\n",
        "# El tokeinzer \"aprende\" las palabras que se usaran\n",
        "# Se construye (fit) una vez por proyecto, se aplica N veces (tal cual un encoder)\n",
        "# El token 0 es reservado y no es asignado, esta sutileza nos dará un pequeño\n",
        "# problema al momento de hacer la codificación OHE, pero es sencillo de resolver\n",
        "tok.fit_on_texts(text_sequences) \n",
        "\n",
        "# Convertimos las palabras a números\n",
        "# entran palabras -> salen números\n",
        "sequences = tok.texts_to_sequences(text_sequences)"
      ]
    },
    {
      "cell_type": "code",
      "execution_count": 14,
      "metadata": {
        "id": "4SIc44IocyQb",
        "colab": {
          "base_uri": "https://localhost:8080/"
        },
        "outputId": "ce2a3357-82cc-4883-9e56-7d79196788fc"
      },
      "outputs": [
        {
          "output_type": "execute_result",
          "data": {
            "text/plain": [
              "[[12, 10, 8, 1],\n",
              " [10, 8, 1, 2],\n",
              " [8, 1, 2, 3],\n",
              " [1, 2, 3, 4],\n",
              " [2, 3, 4, 5],\n",
              " [3, 4, 5, 6],\n",
              " [4, 5, 6, 7],\n",
              " [5, 6, 7, 9],\n",
              " [6, 7, 9, 11],\n",
              " [7, 9, 11, 13]]"
            ]
          },
          "metadata": {},
          "execution_count": 14
        }
      ],
      "source": [
        "# Ahora sequences tiene los números \"ID\", largo 4\n",
        "sequences"
      ]
    },
    {
      "cell_type": "code",
      "execution_count": 15,
      "metadata": {
        "id": "3ro81yCQc1oX",
        "colab": {
          "base_uri": "https://localhost:8080/"
        },
        "outputId": "3780a106-a9e1-4517-94d7-663d4b46ef95"
      },
      "outputs": [
        {
          "output_type": "stream",
          "name": "stdout",
          "text": [
            "10\n"
          ]
        }
      ],
      "source": [
        "# Cantidad de casos (doc) de entrada\n",
        "print(tok.document_count)"
      ]
    },
    {
      "cell_type": "code",
      "execution_count": 16,
      "metadata": {
        "id": "nzAWNfroc4u1",
        "colab": {
          "base_uri": "https://localhost:8080/"
        },
        "outputId": "f4f64072-86c7-4598-e83e-f74bfc04da5d"
      },
      "outputs": [
        {
          "output_type": "stream",
          "name": "stdout",
          "text": [
            "13\n"
          ]
        }
      ],
      "source": [
        "# Cantidad de veces que aparece cada palabra\n",
        "print(len(tok.word_counts))"
      ]
    },
    {
      "cell_type": "code",
      "execution_count": 17,
      "metadata": {
        "id": "spTBxmFQc6h8",
        "colab": {
          "base_uri": "https://localhost:8080/"
        },
        "outputId": "3f794026-399c-4c92-e25e-57939e8a9c40"
      },
      "outputs": [
        {
          "output_type": "stream",
          "name": "stdout",
          "text": [
            "{'gonna': 1, 'go': 2, 'easy': 3, 'on': 4, 'you': 5, 'and': 6, 'not': 7, 'was': 8, 'to': 9, 'i': 10, 'hurt': 11, 'look': 12, 'your': 13}\n"
          ]
        }
      ],
      "source": [
        "# El índice para cada palabra\n",
        "# El sistema las ordena de las más populares a las menos populares\n",
        "print(tok.word_index)"
      ]
    },
    {
      "cell_type": "code",
      "execution_count": 18,
      "metadata": {
        "id": "nUDkjy80c77h",
        "colab": {
          "base_uri": "https://localhost:8080/"
        },
        "outputId": "501ea99d-6669-46c5-828b-0f4f0c068d7b"
      },
      "outputs": [
        {
          "output_type": "stream",
          "name": "stdout",
          "text": [
            "defaultdict(<class 'int'>, {'i': 2, 'look': 1, 'was': 3, 'gonna': 4, 'go': 4, 'easy': 4, 'on': 4, 'you': 4, 'and': 4, 'not': 4, 'to': 3, 'hurt': 2, 'your': 1})\n"
          ]
        }
      ],
      "source": [
        "# Cantidad de veces quea aparece cada palabra en cada \"documento\"\n",
        "# (1 documento = 1 caso de entrada)\n",
        "print(tok.word_docs)"
      ]
    },
    {
      "cell_type": "markdown",
      "metadata": {
        "id": "ohS5Tao1d2KB"
      },
      "source": [
        "### 2 - Preprocesamiento completo\n",
        "Debemos realizar los mismos pasos que en el ejemplo anterior, pero antes de eso debemos transformar ese dataset de filas de oraciones en un texto completo continuo para poder extraer el vocabulario."
      ]
    },
    {
      "cell_type": "code",
      "execution_count": 19,
      "metadata": {
        "id": "63Z2-Se2t27r",
        "colab": {
          "base_uri": "https://localhost:8080/"
        },
        "outputId": "66f8e8c2-d54d-4141-a02c-c17679b54e9b"
      },
      "outputs": [
        {
          "output_type": "execute_result",
          "data": {
            "text/plain": [
              "0     Look, I was gonna go easy on you and not to hu...\n",
              "1             But I'm only going to get this one chance\n",
              "2     Something's wrong, I can feel it (Six minutes,...\n",
              "3     Just a feeling I've got, like something's abou...\n",
              "4     If that means, what I think it means, we're in...\n",
              "5     And if he is as bananas as you say, I'm not ta...\n",
              "6     You were just what the doctor ordered I'm begi...\n",
              "7     All my people from the front to the back nod, ...\n",
              "8     Now who thinks their arms are long enough to s...\n",
              "9     They said I rap like a robot, so call me Rapbo...\n",
              "10                     I got a laptop in my back pocket\n",
              "11                 My pen'll go off when I half-cock it\n",
              "12                  Got a fat knot from that rap profit\n",
              "13                   Made a living and a killing off it\n",
              "14          Ever since Bill Clinton was still in office\n",
              "15         With Monica Lewinsky feeling on his nut-sack\n",
              "Name: 0, dtype: object"
            ]
          },
          "metadata": {},
          "execution_count": 19
        }
      ],
      "source": [
        "# Vistazo a las primeras filas\n",
        "df.loc[:15,0]"
      ]
    },
    {
      "cell_type": "code",
      "execution_count": 20,
      "metadata": {
        "id": "kILsSoxTuHEr",
        "colab": {
          "base_uri": "https://localhost:8080/",
          "height": 105
        },
        "outputId": "5bf9768b-a17d-4007-cb0c-e8f4a0b7e2ce"
      },
      "outputs": [
        {
          "output_type": "execute_result",
          "data": {
            "text/plain": [
              "'Look, I was gonna go easy on you and not to hurt your feelings But I\\'m only going to get this one chance Something\\'s wrong, I can feel it (Six minutes, Slim Shady, you\\'re on) Just a feeling I\\'ve got, like something\\'s about to happen, but I don\\'t know what If that means, what I think it means, we\\'re in trouble, big trouble, And if he is as bananas as you say, I\\'m not taking any chances You were just what the doctor ordered I\\'m beginning to feel like a Rap God, Rap God All my people from the front to the back nod, back nod Now who thinks their arms are long enough to slap box, slap box? They said I rap like a robot, so call me Rapbot But for me to rap like a computer must be in my genes I got a laptop in my back pocket My pen\\'ll go off when I half-cock it Got a fat knot from that rap profit Made a living and a killing off it Ever since Bill Clinton was still in office With Monica Lewinsky feeling on his nut-sack I\\'m an MC still as honest But as rude and indecent as all hell syllables, killaholic (Kill \\'em all with) This slickety, gibbedy, hibbedy hip hop You don\\'t really wanna get into a pissing match with this rappidy rap Packing a Mac in the back of the Ac, pack backpack rap, yep, yackidy-yac The exact same time I attempt these lyrical acrobat stunts while I\\'m practicing That I\\'ll still be able to break a motherfuckin\\' table Over the back of a couple of faggots and crack it in half Only realized it was ironic I was signed to Aftermath after the fact How could I not blow? All I do is drop F-bombs, feel my wrath of attack Rappers are having a rough time period, here\\'s a Maxipad It\\'s actually disastrously bad For the wack while I\\'m masterfully constructing this masterpiece as I\\'m beginning to feel like a Rap God, Rap God All my people from the front to the back nod, back nod Now who thinks their arms are long enough to slap box, slap box? Let me show you maintaining this shit ain\\'t that hard, that hard Everybody want the key and the secret to rap immortality like I have got Well, to be truthful the blueprint\\'s simply rage and youthful exuberance Everybody loves to root for a nuisance Hit the earth like an asteroid, did nothing but shoot for the moon since MC\\'s get taken to school with this music \\'Cause I use it as a vehicle to bust a rhyme Now I lead a new school full of students Me? I\\'m a product of Rakim, Lakim Shabazz, 2Pac N- -W.A, Cube, hey, Doc, Ren, Yella, Eazy, thank you, they got Slim Inspired enough to one day grow up, blow up and be in a position To meet Run DMC and induct them into the motherfuckin\\' Rock n\\' Roll Hall of Fame Even though I walk in the church and burst in a ball of flames Only Hall of Fame I be inducted in is the alcohol of fame On the wall of shame You fags think it\\'s all a game \\'til I walk a flock of flames Off of planking, tell me what in the fuck are you thinking? Little gay looking boy So gay I can barely say it with a straight face looking boy You witnessing a massacre Like you watching a church gathering take place looking boy Oy vey, that boy\\'s gay, that\\'s all they say looking boy You get a thumbs up, pat on the back And a way to go from your label everyday looking boy Hey, looking boy, what you say looking boy? I got a \"hell yeah\" from Dre looking boy I\\'mma work for everything I have Never ask nobody for shit, get outta my face looking boy Basically boy you\\'re never gonna be capable To keep up with the same pace looking boy \\'Cause I\\'m beginning to feel like a Rap God, Rap God All my people from the front to the back nod, back nod The way I\\'m racing around the track, call me Nascar, Nascar Dale Earnhardt of the trailer park, the White Trash God Kneel before General Zod this planet\\'s Krypton, no Asgard, Asgard So you be Thor and I\\'ll be Odin, you rodent, I\\'m omnipotent Let off then I\\'m reloading immediately with these bombs I\\'m totin\\' And I should not be woken I\\'m the walking dead, but I\\'m just a talking head, a zombie floating But I got your mom deep throating I\\'m out my ramen noodle, we have nothing in common, poodle I\\'m a doberman, pinch yourself in the arm and pay homage, pupil It\\'s me, my honesty\\'s brutal But it\\'s honestly futile if I don\\'t utilize what I do though For good at least once in a while So I wanna make sure somewhere in this chicken scratch I scribble and doodle Enough rhymes to maybe to try and help get some people through tough times But I gotta keep a few punchlines just in case cause even you unsigned Rappers are hungry looking at me like it\\'s lunchtime I know there was a time where once I Was king of the underground, but I still rap like I\\'m on my Pharoahe Monch grind So I crunch rhymes, but sometimes when you combine Appeal with the skin color of mine You get too big and here they come trying to, Censor you like that one line I said on \"I\\'m Back\" from the Marshall Mathers LP One where I tried to say I take seven kids from Columbine Put \\'em all in a line, add an AK-47, a revolver and a nine See if I get away with it now that I ain\\'t as big as I was, but I\\'ve Morphed into an immortal coming through the portal You\\'re stuck in a time warp from 2004 though And I don\\'t know what the fuck that you rhyme for You\\'re pointless as Rapunzel with fucking cornrows You\\'re like normal, fuck being normal And I just bought a new Raygun from the future To just come and shoot ya like when Fabolous made Ray J mad \\'Cause Fab said he looked like a fag at Maywhether\\'s pad Singin\\' to a man while they played piano Man, oh man, that was a 24/7 special on the cable channel So Ray J went straight to the radio station the very next day \"Hey, Fab, I\\'mma kill you\" Lyrics coming at you at supersonic speed, (JJ Fad) Uh, sama lamaa duma lamaa you assuming I\\'m a human What I gotta do to get it through to you I\\'m superhuman Innovative and I\\'m made of rubber So that anything you saying ricocheting off of me and it\\'ll glue to you I\\'m never stating, more than never demonstrating How to give a motherfuckin\\' audience a feeling like it\\'s levitating Never fading, and I know that the haters are forever waiting For the day that they can say I fell off, they\\'d be celebrating Cause I know the way to get \\'em motivated I make elevating music, you make elevator music Oh, he\\'s too mainstream Well, that\\'s what they do when they get jealous, they confuse it It\\'s not hip hop, it\\'s pop, cause I found a hella way to fuse it With rock, shock rap with Doc Throw on Lose Yourself and make \\'em lose it I don\\'t know how to make songs like that I don\\'t know what words to use Let me know when it occurs to you While I\\'m ripping any one of these verses diverse as you It\\'s curtains, I\\'m inadvertently hurtin\\' you How many verses I gotta murder to, Prove that if you\\'re half as nice at songs you can sacrifice virgins too uh! School flunkie, pill junky But look at the accolades the skills brung me Full of myself, but still hungry I bully myself cause I make me do what I put my mind to And I\\'m a million leagues above you, ill when I speak in tongues But it\\'s still tongue in cheek, fuck you I\\'m drunk so Satan take the fucking wheel, I\\'m asleep in the front seat Bumping Heavy D and the Boys, still chunky, but funky But in my head there\\'s something I can feel tugging and struggling Angels fight with devils, here\\'s what they want from me They asking me to eliminate some of the women hate But if you take into consideration the bitter hatred that I had Then you may be a little patient and more sympathetic to the situation And understand the discrimination But fuck it, life\\'s handing you lemons, make lemonade then But if I can\\'t batter the women how the fuck am I supposed to bake them a cake then? Don\\'t mistake it for Satan It\\'s a fatal mistake if you think I need to be overseas And take a vacation to trip a broad And make her fall on her face and don\\'t be a retard Be a king? Think not, why be a king when you can be a God? Look If you had One shot Or one opportunity To seize everything you ever wanted In one moment Would you capture it Or just let it slip? Yo His palms are sweaty, knees weak, arms are heavy There\\'s vomit on his sweater already, mom\\'s spaghetti He\\'s nervous, but on the surface he looks calm and ready To drop bombs, but he keeps on forgettin\\' What he wrote down, the whole crowd goes so loud He opens his mouth, but the words won\\'t come out He\\'s chokin\\', how, everybody\\'s jokin\\' now The clocks run out, times up, over, blaow! Snap back to reality, oh there goes gravity Oh, there goes Rabbit, he choked He\\'s so mad, but he won\\'t give up that easy? No He won\\'t have it, he knows his whole back city\\'s ropes It don\\'t matter, he\\'s dope, he knows that, but he\\'s broke He\\'s so stacked that he knows, when he goes back to his mobile home, that\\'s when its Back to the lab again yo, this whole rhapsody He better go capture this moment and hope it don\\'t pass him You better lose yourself in the music, the moment You own it, you better never let it go You only get one shot, do not miss your chance to blow This opportunity comes once in a lifetime you better You better lose yourself in the music, the moment You own it, you better never let it go You only get one shot, do not miss your chance to blow This opportunity comes once in a lifetime you better The souls escaping, through this hole that its gaping This world is mine for the taking Make me king, as we move toward a, new world order A normal life is borin\\', but super stardom\\'s close to post mortem It only grows harder, only grows hotter He blows us all over these hoes is all on him Coast to coast shows, he\\'s known as the globetrotter Lonely roads, God only knows, he\\'s grown farther from home, he\\'s no father He goes home and barely knows his own daughter But hold your nose \\'cause here goes the cold water His hoes don\\'t want him no mo, he\\'s cold product They moved on to the next schmo who flows, he nose dove and sold nada So the soap opera is told and unfolds, I suppose it\\'s old partna, but the beat goes on Da da dumb da dumb da da You better lose yourself in the music, the moment You own it, you better never let it go You only get one shot, do not miss your chance to blow This opportunity comes once in a lifetime you better You better lose yourself in the music, the moment You own it, you better never let it go You only get one shot, do not miss your chance to blow This opportunity comes once in a lifetime you better No more games, I\\'m a change what you call rage Tear this motherfuckin\\' roof off like two dogs caged I was playin\\' in the beginnin\\', the mood all changed I been chewed up and spit out and booed off stage But I kept rhymin\\' and stepwritin\\' the next cipher Best believe somebody\\'s payin\\' the pied piper All the pain inside amplified by the Fact that I can\\'t get by with my nine to Five and I can\\'t provide the right type of Life for my family \\'cause man, these God damn food stamps don\\'t buy diapers And its no movie, there\\'s no Mekhi Phifer This is my life and these times are so hard And it\\'s getting even harder tryin\\' to feed and water my seed, plus See dishonor caught up between bein\\' a father and a prima-donna Baby mama drama screamin\\' on and too much For me to want to say in one spot, another jam or not Has gotten me to the point, I\\'m like a snail I\\'ve got To formulate a plot fore I end up in jail or shot Success is my only motherfuckin\\' option, failures not Mom, I love you, but this trail has got to go, I cannot grow old in Salem\\'s lot So here I go is my shot Feet fail me not \\'cause maybe the only opportunity that I got You better lose yourself in the music, the moment You own it, you better never let it go You only get one shot, do not miss your chance to blow This opportunity comes once in a lifetime you better You better lose yourself in the music, the moment You own it, you better never let it go You only get one shot, do not miss your chance to blow This opportunity comes once in a lifetime you better You can do anything you set your mind to, man [Chorus - Rihanna] I\\'m friends with the monster That\\'s under my bed Get along with the voices inside of my head You\\'re trying to save me Stop holding your breath And you think I\\'m crazy Yeah, you think I\\'m crazy (crazy) [Eminem - Verse 1] I wanted the fame, but not the cover of Newsweek Oh well, guess beggers can\\'t be choosey Wanted to receive attention for my music Wanted to be left alone in public excuse me Been wanting my cake, And eat it too And wanting it both ways Fame made me a balloon cause my ego inflated When I blew seep and it was confusing Cause all I wanted to do is be the Bruce Lee of loose leaf Abused ink, used it as a tool when I blew steam Hit the lottery (oh wee) With what I gave up to get was bittersweet It was like winning a huge meet Ironic \\'cause I think I\\'m getting so huge I need a shrink I\\'m beginning to lose sleep: one sheep, two sheep Going cuckoo and cookey as Kool Keith But I\\'m actually weirder than you think Cause I\\'m... [Chorus] I\\'m friends with the monster That\\'s under my bed Get along with the voices inside of my head You\\'re trying to save me Stop holding your breath And you think I\\'m crazy Yeah, you think I\\'m crazy Well, that\\'s nothing oh oh oh oh Well, that\\'s nothing oh oh oh oh [Eminem - Verse 2] Now I ain\\'t much of a poet But I know somebody once told me to seize the moment And don\\'t squander it Cause you never know when it could all be over Tomorrow so I keep conjuring Sometimes I wonder where these thoughts spawn from (Yeah, ponder it, do you want this? there\\'s no wonder you\\'re losing your mind the way you\\'re wandering?) I think you\\'ve been wandering off down yonder and stumbled onto Jeff VanVonderen Cause I needed an interventionist to intervene between me and this monster And save me from myself and all this conflict Cause the very thing that I love is killing me and I can\\'t conquer it My OCD is conking me in the head Keep knocking, nobody\\'s home, I\\'m sleepwalking I\\'m just relaying what the voice in my head saying Don\\'t shoot the messenger, I\\'m just friends with the... [Chorus] I\\'m friends with the monster That\\'s under my bed Get along with the voices inside of my head You\\'re trying to save me Stop holding your breath And you think I\\'m crazy Yeah, you think I\\'m crazy Well, that\\'s nothing oh oh oh oh Well, that\\'s nothing oh oh oh oh [Eminem - Verse 3] Call me crazy, but I had this vision One day that, I\\'d walk amongst you a regular civilian But, until then, drums get killed and I\\'m Coming straight at Emcees, blood get spilled and I Take it back to the days that, I get on a Dre track Give every kid who got played at Pumped the feeling and shit to say back To the kids who played \\'em I ain\\'t here to save the fucking children But if one kid out of a hundred million Who are going through a struggle feels and it relates that\\'s great It\\'s payback, Russell Wilson falling way back In the draft, turn nothing into something still, can make that Straw in the gold chump I will spend Rumpelstiltskin in a hay stack Maybe I need a straightjacket, face facts I am nuts for real, but I\\'m okay with that It\\'s nothing, I\\'m still friends with the... [Bridge] I\\'m friends with the monster That\\'s under my bed Get along with the voices inside of my head You\\'re trying to save me Stop holding your breath And you think I\\'m crazy Yeah, you think I\\'m crazy I\\'m friends with the monster That\\'s under my bed (Get along with) Get along with the voices inside of my head (You\\'re tryna) You\\'re trying to save me Stop holding your breath And you think I\\'m crazy Yeah, you think I\\'m crazy Well, that\\'s nothing I\\'m not afraid, I\\'m not afraid (yeah) To take a stand, it\\'s been a ride Everybody, I guess I had to Go to that place To get to this one Now some of you Might still be in that place If you\\'re tryin\\' to get out Just follow me I\\'ll get you there You can try and read my lyrics off of this paper before I lay \\'em But you won\\'t take the sting out these words before I say \\'em \\'Cause ain\\'t no way I\\'m a let you stop me from causin\\' mayhem When I say I\\'m a do somethin\\' I do it I don\\'t give a damn what you think I\\'m doin\\' this for me, so fuck the world, feed it beans It\\'s gassed up, if it thinks it\\'s stoppin\\' me I\\'mma be what I set out to be, without a doubt undoubtedly And all those who look down on me, I\\'m tearin\\' down your balcony No if, ands or buts, don\\'t try to ask him why or how can he From \"Infinite\" down to the last \"Relapse\" album he\\'s still shittin\\' Whether he\\'s on salary, paid hourly, until he bows out or he shits his bowels out of him Whichever comes first, for better or worse He\\'s married to the game, like a fuck you for Christmas His gift is a curse, forget the Earth, he\\'s got the urge to pull his dick from the dirt And fuck the whole universe I\\'m not afraid (I\\'m not afraid) To take a stand (to take a stand) Everybody (everybody) Come take my hand come (come take my hand) We\\'ll walk this road together, through the storm Whatever weather, cold or warm Just letting you know that, you\\'re not alone Holla if you feel like you\\'ve been down the same road Okay quit playin\\' with the scissors and shit, and cut the crap I shouldn\\'t have to rhyme these words in the rhythm for you to know it\\'s a rap You said you was king You lied through your teeth, for that fuck your feelings Instead of gettin\\' crowned you\\'re gettin\\' capped, and to the fans I\\'ll never let you down again, I\\'m back I promise to never go back on that promise In fact, let\\'s be honest, that last \"Relapse\" CD was eh Perhaps I ran them accents into the ground Relax, I ain\\'t goin\\' back to that now All I\\'m tryin\\' to say is get back, click-clack, blow \\'cause I ain\\'t playin\\' around It\\'s a game called circle and I don\\'t know how I\\'m way too up to back down But I think I\\'m still tryin\\' to figure this crap out Thought I had it mapped out but I guess I didn\\'t, this fuckin\\' black cloud Still follows me around but it\\'s time to exercise these demons These muh\\'fuckers are doin\\' jumpin\\' jacks now I\\'m not afraid (I\\'m not afraid) To take a stand (to take a stand) Everybody (everybody) Come take my hand come (come take my hand) We\\'ll walk this road together, through the storm Whatever weather, cold or warm Just letting you know that, you\\'re not alone Holla if you feel like you\\'ve been down the same road And I just can\\'t keep living this way So starting today I\\'m breaking out of this cage I\\'m standing up, I\\'mma face my demons I\\'m manning up, I\\'mma hold my ground I\\'ve had enough, now I\\'m so fed up Time to put my life back together right now (now) It was my decision to get clean, I did it for me Admittedly, I probably did it subliminally For you, so I could come back a brand new me, you helped see me through And don\\'t realize what you did, believe me you I been through the ringer, but they could do little to the middle finger I think I got a tear in my eye, I feel like the king of My world, haters can make like bees with no stingers and drop dead No more bee flingers, no more drama from now on I promise to focus solely on handlin\\' my responsibilities as a father So I solemnly swear to always treat this roof, like my daughters and raise it You couldn\\'t lift a single shingle on it, \\'cause the way I feel I\\'m strong enough to go to the club or the corner pub And lift the whole liquor counter up \\'cause I\\'m raising the bar I\\'d shoot for the moon but I\\'m too busy gazin\\' at stars, I feel amazing and I\\'m not I\\'m not afraid (I\\'m not afraid) To take a stand (to take a stand) Everybody (Everybody) Come take my hand come (Come take my hand) We\\'ll walk this road together, through the storm Whatever weather, cold or warm Just letting you know that, you\\'re not alone Holla if you feel like you\\'ve been down the same road Look, I was gonna go easy on you and not to hurt your feelings But I\\'m only going to get this one chance Something\\'s wrong, I can feel it (Six minutes, Slim Shady, you\\'re on) Just a feeling I\\'ve got, like something\\'s about to happen, but I don\\'t know what If that means, what I think it means, we\\'re in trouble, big trouble, And if he is as bananas as you say, I\\'m not taking any chances You were just what the doctor ordered I\\'m beginning to feel like a Rap God, Rap God All my people from the front to the back nod, back nod Now who thinks their arms are long enough to slap box, slap box? They said I rap like a robot, so call me Rapbot But for me to rap like a computer must be in my genes I got a laptop in my back pocket My pen\\'ll go off when I half-cock it Got a fat knot from that rap profit Made a living and a killing off it Ever since Bill Clinton was still in office With Monica Lewinsky feeling on his nut-sack I\\'m an MC still as honest But as rude and indecent as all hell syllables, killaholic (Kill \\'em all with) This slickety, gibbedy, hibbedy hip hop You don\\'t really wanna get into a pissing match with this rappidy rap Packing a Mac in the back of the Ac, pack backpack rap, yep, yackidy-yac The exact same time I attempt these lyrical acrobat stunts while I\\'m practicing That I\\'ll still be able to break a motherfuckin\\' table Over the back of a couple of faggots and crack it in half Only realized it was ironic I was signed to Aftermath after the fact How could I not blow? All I do is drop F-bombs, feel my wrath of attack Rappers are having a rough time period, here\\'s a Maxipad It\\'s actually disastrously bad For the wack while I\\'m masterfully constructing this masterpiece as I\\'m beginning to feel like a Rap God, Rap God All my people from the front to the back nod, back nod Now who thinks their arms are long enough to slap box, slap box? Let me show you maintaining this shit ain\\'t that hard, that hard Everybody want the key and the secret to rap immortality like I have got Well, to be truthful the blueprint\\'s simply rage and youthful exuberance Everybody loves to root for a nuisance Hit the earth like an asteroid, did nothing but shoot for the moon since MC\\'s get taken to school with this music \\'Cause I use it as a vehicle to bust a rhyme Now I lead a new school full of students Me? I\\'m a product of Rakim, Lakim Shabazz, 2Pac N- -W.A, Cube, hey, Doc, Ren, Yella, Eazy, thank you, they got Slim Inspired enough to one day grow up, blow up and be in a position To meet Run DMC and induct them into the motherfuckin\\' Rock n\\' Roll Hall of Fame Even though I walk in the church and burst in a ball of flames Only Hall of Fame I be inducted in is the alcohol of fame On the wall of shame You fags think it\\'s all a game \\'til I walk a flock of flames Off of planking, tell me what in the fuck are you thinking? Little gay looking boy So gay I can barely say it with a straight face looking boy You witnessing a massacre Like you watching a church gathering take place looking boy Oy vey, that boy\\'s gay, that\\'s all they say looking boy You get a thumbs up, pat on the back And a way to go from your label everyday looking boy Hey, looking boy, what you say looking boy? I got a \"hell yeah\" from Dre looking boy I\\'mma work for everything I have Never ask nobody for shit, get outta my face looking boy Basically boy you\\'re never gonna be capable To keep up with the same pace looking boy \\'Cause I\\'m beginning to feel like a Rap God, Rap God All my people from the front to the back nod, back nod The way I\\'m racing around the track, call me Nascar, Nascar Dale Earnhardt of the trailer park, the White Trash God Kneel before General Zod this planet\\'s Krypton, no Asgard, Asgard So you be Thor and I\\'ll be Odin, you rodent, I\\'m omnipotent Let off then I\\'m reloading immediately with these bombs I\\'m totin\\' And I should not be woken I\\'m the walking dead, but I\\'m just a talking head, a zombie floating But I got your mom deep throating I\\'m out my ramen noodle, we have nothing in common, poodle I\\'m a doberman, pinch yourself in the arm and pay homage, pupil It\\'s me, my honesty\\'s brutal But it\\'s honestly futile if I don\\'t utilize what I do though For good at least once in a while So I wanna make sure somewhere in this chicken scratch I scribble and doodle Enough rhymes to maybe to try and help get some people through tough times But I gotta keep a few punchlines just in case cause even you unsigned Rappers are hungry looking at me like it\\'s lunchtime I know there was a time where once I Was king of the underground, but I still rap like I\\'m on my Pharoahe Monch grind So I crunch rhymes, but sometimes when you combine Appeal with the skin color of mine You get too big and here they come trying to, Censor you like that one line I said on \"I\\'m Back\" from the Marshall Mathers LP One where I tried to say I take seven kids from Columbine Put \\'em all in a line, add an AK-47, a revolver and a nine See if I get away with it now that I ain\\'t as big as I was, but I\\'ve Morphed into an immortal coming through the portal You\\'re stuck in a time warp from 2004 though And I don\\'t know what the fuck that you rhyme for You\\'re pointless as Rapunzel with fucking cornrows You\\'re like normal, fuck being normal And I just bought a new Raygun from the future To just come and shoot ya like when Fabolous made Ray J mad \\'Cause Fab said he looked like a fag at Maywhether\\'s pad Singin\\' to a man while they played piano Man, oh man, that was a 24/7 special on the cable channel So Ray J went straight to the radio station the very next day \"Hey, Fab, I\\'mma kill you\" Lyrics coming at you at supersonic speed, (JJ Fad) Uh, sama lamaa duma lamaa you assuming I\\'m a human What I gotta do to get it through to you I\\'m superhuman Innovative and I\\'m made of rubber So that anything you saying ricocheting off of me and it\\'ll glue to you I\\'m never stating, more than never demonstrating How to give a motherfuckin\\' audience a feeling like it\\'s levitating Never fading, and I know that the haters are forever waiting For the day that they can say I fell off, they\\'d be celebrating Cause I know the way to get \\'em motivated I make elevating music, you make elevator music Oh, he\\'s too mainstream Well, that\\'s what they do when they get jealous, they confuse it It\\'s not hip hop, it\\'s pop, cause I found a hella way to fuse it With rock, shock rap with Doc Throw on Lose Yourself and make \\'em lose it I don\\'t know how to make songs like that I don\\'t know what words to use Let me know when it occurs to you While I\\'m ripping any one of these verses diverse as you It\\'s curtains, I\\'m inadvertently hurtin\\' you How many verses I gotta murder to, Prove that if you\\'re half as nice at songs you can sacrifice virgins too uh! School flunkie, pill junky But look at the accolades the skills brung me Full of myself, but still hungry I bully myself cause I make me do what I put my mind to And I\\'m a million leagues above you, ill when I speak in tongues But it\\'s still tongue in cheek, fuck you I\\'m drunk so Satan take the fucking wheel, I\\'m asleep in the front seat Bumping Heavy D and the Boys, still chunky, but funky But in my head there\\'s something I can feel tugging and struggling Angels fight with devils, here\\'s what they want from me They asking me to eliminate some of the women hate But if you take into consideration the bitter hatred that I had Then you may be a little patient and more sympathetic to the situation And understand the discrimination But fuck it, life\\'s handing you lemons, make lemonade then But if I can\\'t batter the women how the fuck am I supposed to bake them a cake then? Don\\'t mistake it for Satan It\\'s a fatal mistake if you think I need to be overseas And take a vacation to trip a broad And make her fall on her face and don\\'t be a retard Be a king? Think not, why be a king when you can be a God? Look If you had One shot Or one opportunity To seize everything you ever wanted In one moment Would you capture it Or just let it slip? Yo His palms are sweaty, knees weak, arms are heavy There\\'s vomit on his sweater already, mom\\'s spaghetti He\\'s nervous, but on the surface he looks calm and ready To drop bombs, but he keeps on forgettin\\' What he wrote down, the whole crowd goes so loud He opens his mouth, but the words won\\'t come out He\\'s chokin\\', how, everybody\\'s jokin\\' now The clocks run out, times up, over, blaow! Snap back to reality, oh there goes gravity Oh, there goes Rabbit, he choked He\\'s so mad, but he won\\'t give up that easy? No He won\\'t have it, he knows his whole back city\\'s ropes It don\\'t matter, he\\'s dope, he knows that, but he\\'s broke He\\'s so stacked that he knows, when he goes back to his mobile home, that\\'s when its Back to the lab again yo, this whole rhapsody He better go capture this moment and hope it don\\'t pass him You better lose yourself in the music, the moment You own it, you better never let it go You only get one shot, do not miss your chance to blow This opportunity comes once in a lifetime you better You better lose yourself in the music, the moment You own it, you better never let it go You only get one shot, do not miss your chance to blow This opportunity comes once in a lifetime you better The souls escaping, through this hole that its gaping This world is mine for the taking Make me king, as we move toward a, new world order A normal life is borin\\', but super stardom\\'s close to post mortem It only grows harder, only grows hotter He blows us all over these hoes is all on him Coast to coast shows, he\\'s known as the globetrotter Lonely roads, God only knows, he\\'s grown farther from home, he\\'s no father He goes home and barely knows his own daughter But hold your nose \\'cause here goes the cold water His hoes don\\'t want him no mo, he\\'s cold product They moved on to the next schmo who flows, he nose dove and sold nada So the soap opera is told and unfolds, I suppose it\\'s old partna, but the beat goes on Da da dumb da dumb da da You better lose yourself in the music, the moment You own it, you better never let it go You only get one shot, do not miss your chance to blow This opportunity comes once in a lifetime you better You better lose yourself in the music, the moment You own it, you better never let it go You only get one shot, do not miss your chance to blow This opportunity comes once in a lifetime you better No more games, I\\'m a change what you call rage Tear this motherfuckin\\' roof off like two dogs caged I was playin\\' in the beginnin\\', the mood all changed I been chewed up and spit out and booed off stage But I kept rhymin\\' and stepwritin\\' the next cipher Best believe somebody\\'s payin\\' the pied piper All the pain inside amplified by the Fact that I can\\'t get by with my nine to Five and I can\\'t provide the right type of Life for my family \\'cause man, these God damn food stamps don\\'t buy diapers And its no movie, there\\'s no Mekhi Phifer This is my life and these times are so hard And it\\'s getting even harder tryin\\' to feed and water my seed, plus See dishonor caught up between bein\\' a father and a prima-donna Baby mama drama screamin\\' on and too much For me to want to say in one spot, another jam or not Has gotten me to the point, I\\'m like a snail I\\'ve got To formulate a plot fore I end up in jail or shot Success is my only motherfuckin\\' option, failures not Mom, I love you, but this trail has got to go, I cannot grow old in Salem\\'s lot So here I go is my shot Feet fail me not \\'cause maybe the only opportunity that I got You better lose yourself in the music, the moment You own it, you better never let it go You only get one shot, do not miss your chance to blow This opportunity comes once in a lifetime you better You better lose yourself in the music, the moment You own it, you better never let it go You only get one shot, do not miss your chance to blow This opportunity comes once in a lifetime you better You can do anything you set your mind to, man [Chorus - Rihanna] I\\'m friends with the monster That\\'s under my bed Get along with the voices inside of my head You\\'re trying to save me Stop holding your breath And you think I\\'m crazy Yeah, you think I\\'m crazy (crazy) [Eminem - Verse 1] I wanted the fame, but not the cover of Newsweek Oh well, guess beggers can\\'t be choosey Wanted to receive attention for my music Wanted to be left alone in public excuse me Been wanting my cake, And eat it too And wanting it both ways Fame made me a balloon cause my ego inflated When I blew seep and it was confusing Cause all I wanted to do is be the Bruce Lee of loose leaf Abused ink, used it as a tool when I blew steam Hit the lottery (oh wee) With what I gave up to get was bittersweet It was like winning a huge meet Ironic \\'cause I think I\\'m getting so huge I need a shrink I\\'m beginning to lose sleep: one sheep, two sheep Going cuckoo and cookey as Kool Keith But I\\'m actually weirder than you think Cause I\\'m... [Chorus] I\\'m friends with the monster That\\'s under my bed Get along with the voices inside of my head You\\'re trying to save me Stop holding your breath And you think I\\'m crazy Yeah, you think I\\'m crazy Well, that\\'s nothing oh oh oh oh Well, that\\'s nothing oh oh oh oh [Eminem - Verse 2] Now I ain\\'t much of a poet But I know somebody once told me to seize the moment And don\\'t squander it Cause you never know when it could all be over Tomorrow so I keep conjuring Sometimes I wonder where these thoughts spawn from (Yeah, ponder it, do you want this? there\\'s no wonder you\\'re losing your mind the way you\\'re wandering?) I think you\\'ve been wandering off down yonder and stumbled onto Jeff VanVonderen Cause I needed an interventionist to intervene between me and this monster And save me from myself and all this conflict Cause the very thing that I love is killing me and I can\\'t conquer it My OCD is conking me in the head Keep knocking, nobody\\'s home, I\\'m sleepwalking I\\'m just relaying what the voice in my head saying Don\\'t shoot the messenger, I\\'m just friends with the... [Chorus] I\\'m friends with the monster That\\'s under my bed Get along with the voices inside of my head You\\'re trying to save me Stop holding your breath And you think I\\'m crazy Yeah, you think I\\'m crazy Well, that\\'s nothing oh oh oh oh Well, that\\'s nothing oh oh oh oh [Eminem - Verse 3] Call me crazy, but I had this vision One day that, I\\'d walk amongst you a regular civilian But, until then, drums get killed and I\\'m Coming straight at Emcees, blood get spilled and I Take it back to the days that, I get on a Dre track Give every kid who got played at Pumped the feeling and shit to say back To the kids who played \\'em I ain\\'t here to save the fucking children But if one kid out of a hundred million Who are going through a struggle feels and it relates that\\'s great It\\'s payback, Russell Wilson falling way back In the draft, turn nothing into something still, can make that Straw in the gold chump I will spend Rumpelstiltskin in a hay stack Maybe I need a straightjacket, face facts I am nuts for real, but I\\'m okay with that It\\'s nothing, I\\'m still friends with the... [Bridge] I\\'m friends with the monster That\\'s under my bed Get along with the voices inside of my head You\\'re trying to save me Stop holding your breath And you think I\\'m crazy Yeah, you think I\\'m crazy I\\'m friends with the monster That\\'s under my bed (Get along with) Get along with the voices inside of my head (You\\'re tryna) You\\'re trying to save me Stop holding your breath And you think I\\'m crazy Yeah, you think I\\'m crazy Well, that\\'s nothing I\\'m not afraid, I\\'m not afraid (yeah) To take a stand, it\\'s been a ride Everybody, I guess I had to Go to that place To get to this one Now some of you Might still be in that place If you\\'re tryin\\' to get out Just follow me I\\'ll get you there You can try and read my lyrics off of this paper before I lay \\'em But you won\\'t take the sting out these words before I say \\'em \\'Cause ain\\'t no way I\\'m a let you stop me from causin\\' mayhem When I say I\\'m a do somethin\\' I do it I don\\'t give a damn what you think I\\'m doin\\' this for me, so fuck the world, feed it beans It\\'s gassed up, if it thinks it\\'s stoppin\\' me I\\'mma be what I set out to be, without a doubt undoubtedly And all those who look down on me, I\\'m tearin\\' down your balcony No if, ands or buts, don\\'t try to ask him why or how can he From \"Infinite\" down to the last \"Relapse\" album he\\'s still shittin\\' Whether he\\'s on salary, paid hourly, until he bows out or he shits his bowels out of him Whichever comes first, for better or worse He\\'s married to the game, like a fuck you for Christmas His gift is a curse, forget the Earth, he\\'s got the urge to pull his dick from the dirt And fuck the whole universe I\\'m not afraid (I\\'m not afraid) To take a stand (to take a stand) Everybody (everybody) Come take my hand come (come take my hand) We\\'ll walk this road together, through the storm Whatever weather, cold or warm Just letting you know that, you\\'re not alone Holla if you feel like you\\'ve been down the same road Okay quit playin\\' with the scissors and shit, and cut the crap I shouldn\\'t have to rhyme these words in the rhythm for you to know it\\'s a rap You said you was king You lied through your teeth, for that fuck your feelings Instead of gettin\\' crowned you\\'re gettin\\' capped, and to the fans I\\'ll never let you down again, I\\'m back I promise to never go back on that promise In fact, let\\'s be honest, that last \"Relapse\" CD was eh Perhaps I ran them accents into the ground Relax, I ain\\'t goin\\' back to that now All I\\'m tryin\\' to say is get back, click-clack, blow \\'cause I ain\\'t playin\\' around It\\'s a game called circle and I don\\'t know how I\\'m way too up to back down But I think I\\'m still tryin\\' to figure this crap out Thought I had it mapped out but I guess I didn\\'t, this fuckin\\' black cloud Still follows me around but it\\'s time to exercise these demons These muh\\'fuckers are doin\\' jumpin\\' jacks now I\\'m not afraid (I\\'m not afraid) To take a stand (to take a stand) Everybody (everybody) Come take my hand come (come take my hand) We\\'ll walk this road together, through the storm Whatever weather, cold or warm Just letting you know that, you\\'re not alone Holla if you feel like you\\'ve been down the same road And I just can\\'t keep living this way So starting today I\\'m breaking out of this cage I\\'m standing up, I\\'mma face my demons I\\'m manning up, I\\'mma hold my ground I\\'ve had enough, now I\\'m so fed up Time to put my life back together right now (now) It was my decision to get clean, I did it for me Admittedly, I probably did it subliminally For you, so I could come back a brand new me, you helped see me through And don\\'t realize what you did, believe me you I been through the ringer, but they could do little to the middle finger I think I got a tear in my eye, I feel like the king of My world, haters can make like bees with no stingers and drop dead No more bee flingers, no more drama from now on I promise to focus solely on handlin\\' my responsibilities as a father So I solemnly swear to always treat this roof, like my daughters and raise it You couldn\\'t lift a single shingle on it, \\'cause the way I feel I\\'m strong enough to go to the club or the corner pub And lift the whole liquor counter up \\'cause I\\'m raising the bar I\\'d shoot for the moon but I\\'m too busy gazin\\' at stars, I feel amazing and I\\'m not I\\'m not afraid (I\\'m not afraid) To take a stand (to take a stand) Everybody (Everybody) Come take my hand come (Come take my hand) We\\'ll walk this road together, through the storm Whatever weather, cold or warm Just letting you know that, you\\'re not alone Holla if you feel like you\\'ve been down the same road Just gonna stand there and watch me burn But that\\'s alright, because I like the way it hurts Just gonna stand there and hear me cry But that\\'s alright, because I love the way you lie I love the way you lie I can\\'t tell you what it really is I can only tell you what it feels like And right now there\\'s a steel knife, in my windpipe I can\\'t breathe, but I still fight, while I can fight As long as the wrong feels right, it\\'s like I\\'m in flight High off of love drunk from my hate It\\'s like I\\'m huffing paint and I love it the more that I suffer I suffocate and right before I\\'m about to drown She resuscitates me, she fucking hates me, And I love it, wait Where you going, I\\'m leaving you No you ain\\'t, come back We\\'re running right back, here we go again It\\'s so insane \\'cause when it\\'s going good, it\\'s going great I\\'m Superman, with the wind at his back, she\\'s Lois Lane But when it\\'s bad, it\\'s awful I feel so ashamed, I snapped, who\\'s that dude I don\\'t even know his name, I laid hands on her I\\'ll never stoop so low again, I guess I don\\'t know my own strength Just gonna stand there and watch me burn But that\\'s alright, because I like the way it hurts Just gonna stand there and hear me cry But that\\'s alright, because I love the way you lie I love the way you lie I love the way you lie You ever love somebody so much You can barely breathe, when you\\'re with them, you meet And neither one of you, even know what hit \\'em, Got that warm fuzzy feeling, yeah them chills, used to get \\'em Now you\\'re getting fucking sick, of looking at \\'em You swore you\\'ve never hit \\'em, never do nothing to hurt \\'em, Now you\\'re in each others face, Spewing venom, and these words, when you spit \\'em You push, pull each other\\'s hair, scratch, claw, bit \\'em, Throw \\'em down, pin \\'em, so lost in the moments, when you\\'re in \\'em It\\'s the rage that\\'s the culprit, it controls you both So they say it\\'s best, to go your separate ways, Guess that they don\\'t know ya \\'cause today, that was yesterday Yesterday is over, it\\'s a different day Sound like broken records, playin\\' over, but you promised her Next time you\\'ll show restraint You don\\'t get another chance, Life is no Nintendo game, but you lied again Now you get to watch her leave, Out the window, guess that\\'s why they call it window pane Just gonna stand there and watch me burn But that\\'s alright, because I like the way it hurts Just gonna stand there and hear me cry But that\\'s alright, because I love the way you lie I love the way you lie I love the way you lie Now I know we said things, did things That we didn\\'t mean and we fall back into the same patterns Same routine, but your temper\\'s just as bad, as mine is You\\'re the same as me, but when it comes to love, you\\'re just as blinded Baby please come back, it wasn\\'t you, Baby it was me, maybe our relationship isn\\'t as crazy as it seems Maybe that\\'s what happens When a tornado meets a volcano All I know is I love you too much, to walk away now Come inside, pick up your bags off the sidewalk Don\\'t you hear sincerity, in my voice when I talk, Told you this is my fault, look me in the eyeball Next time I\\'m pissed, I\\'ll aim my fist at the dry wall Next time, there will be no next time I apologize even though I know it\\'s lies I\\'m tired of the games, I just want her back, I know I\\'m a liar If she ever tries to fucking leave again I\\'m a tie her to the bed and set this house on fire Just gonna stand there and watch me burn But that\\'s alright, because I like the way it hurts Just gonna stand there and hear me cry But that\\'s alright, because I love the way you lie I love the way you lie I love the way you lie [Bruno Mars] This one\\'s for you and me, living out our dreams We\\'re all right where we should be With my arms out wide I open my eyes And now all I wanna see Is a sky full of lighters A sky full of lighters [Eminem] By the time you hear this I will have already spiralled up I would never do nothing to let you cowards fuck my world up If I was you, I would duck, or get struck like lightening, Fighters keep fighting, put your lighters up, point \\'em skyward uh Had a dream I was king, I woke up, still king... This rap game\\'s nipple is mine for the milking, Till nobody else even fucking feels me, till\\' it kills me I swear to god I\\'ll be the fucking illest in this music There is or there ever will be, disagree? Feel free, but from now on I\\'m refusing to ever give up The only thing I ever gave up is using. No more excuses. Excuse me if my head is too big for this building And pardon me if I\\'m a cocky prick but you cocks are slick Poppin\\' shit on how you flipped ya life around, crock-of-shit Who you dicks try to kid, flipped dick, you did the opposite You stayed the same, cause cock backwards is still cock you pricks I love it when I tell \\'em shove it Cause it wasn\\'t that long ago when Marshall sat, luster lacked, flustered Cuz he couldn\\'t cut mustard, muster up nothing Brain fuzzy, cause he\\'s buzzin\\', woke up from that buzz Now you wonder why he does it, how he does it Wasn\\'t cause he had buzzards circle around his head Waiting for him to drop dead, was it? Or was it, cause them bitches wrote him off Little hussy ass fusses, \\'cause fuck it, guess it doesn\\'t matter now, does it What difference it make? What it take to get it through your thick skulls As if this ain\\'t some bullshit People don\\'t usually come back this way From a place that was dark as I was in Just to get to this place Now let these words be like a switch blade to a haters rib cage And let it be known from this day forward I wanna just say thanks cause your hate is what gave me the strength So let \\'em bic\\'s raise \\'cause I came with 5\\'9′ but I feel like I\\'m 6\\'8″ [Bruno Mars] This one\\'s for you and me, living out our dreams We\\'re all right where we should be With my arms out wide I open my eyes And now all I wanna see Is a sky full of lighters A sky full of lighters [Royce Da 5\\'9\"] By the time you hear this I\\'ll probably already be outtie I advance like going from toting iron to going and buying 4 or 5 of the homies the iron man Audi My daddy told me slow down, boy, you goin\\' to blow it And I ain\\'t gotta stop the beat a minute To tell Shady I love him the same way that he did Dr Dre on the Chronic Tell him how real he is or how high I am Or how I would kill for him for him to know it I cried plenty tears, my daddy got a bad back So it\\'s only right that I right till he can march right into that post office and tell \\'em to hang it up Now his career\\'s Lebron\\'s jersey in 20 years I\\'ll stop when I\\'m at the very top You shitted on me on your way up It\\'s \\'bout to be a scary drop Cause what goes up must come down You going down on something you don\\'t wanna see like a hairy box Every hour, happy hour now Life is wacky now Used to have to eat the cat to get the pussy Now I\\'m just the cats meoww, ow Classic now, always down for the catch weight like Pacquiao Ya\\'ll are doomed I remember when T-Pain ain\\'t wanna work with me My car starts itself, parks itself and autotunes Cause now I\\'m in the Aston I went from having my city locked up To getting treated like Kwame Kilpatrick And now I\\'m fantastic Compared to a weed high And y\\'all niggas just gossipin\\' like bitches on a radio and TV See me, we fly Y\\'all buggin\\' out like Wendy Williams staring at a bee-hive And how real is that I remember signing my first deal and now I\\'m the second best I can deal with that Now Bruno can show his ass, without the MTV awards gag [Bruno Mars] You and I Know what it\\'s like To be kicked down Forced to fight But tonight, we\\'re alright So hold up your lights Let it shi-i-i-i-ine Because... This one\\'s for you and me, living out our dreams We\\'re all right where we should be With my arms out wide I open my eyes And now all I wanna see Is a sky full of lighters A sky full of lighters Obie Trice Real name no gimmicks Two trailer park girls go \\'round the outside, \\'Round the outside, \\'round the outside Two trailer park girls go \\'round the outside, \\'Round the outside, \\'round the outside Guess who\\'s back, back again Shady\\'s back, tell a friend Guess who\\'s back, guess who\\'s back? Guess who\\'s back, guess who\\'s back? Guess who\\'s back, guess who\\'s back? Guess who\\'s back? I\\'ve created a monster, \\'cause nobody wants to see Marshall no more They want Shady, I\\'m chopped liver Well if you want Shady, then this is what I\\'ll give ya A little bit of weed mixed with some hard liquor Some vodka that will jump start my heart quicker Then a shock when I get shocked at the hospital By the doctor when I\\'m not cooperating When I\\'m rocking the table while he\\'s operating (hey) You waited this long to stop debating \\'Cause I\\'m back, I\\'m on the rag and ovulating I know you got a job, Ms. Cheney But your husband\\'s heart problem is complicating So the F-C-C won\\'t let me be or let me be me so let me see They tried to shut me down on M-T-V But it feels so empty without me So come on and dip, bum on your lips Fuck that, cum on your lips and some on your tits And get ready \\'cause this shit\\'s about to get heavy I just settled all my lawsuits, \"Fuck you, Debbie!\" Now this looks like a job for me So everybody just follow me \\'Cause we need a little controversy \\'Cause it feels so empty without me I said, this looks like a job for me So everybody just follow me \\'Cause we need a little controversy \\'Cause it feels so empty without me Little hellions kids feeling rebellious Embarrassed, their parents still listen to Elvis They start feeling like prisoners helpless \\'Til someone comes along on a mission and yells \"Bitch!\" A visionary, vision is scary, Could start a revolution, pollutin\\' the air waves, a rebel So let me just revel and bask In the fact that I got everyone kissing my ass And it\\'s a disaster, such a catastrophe For you to see so damn much of my ass you ask for me Well I\\'m back, nana-na na na nana-na na na kshh Fix your bent antenna, tune it in and then I\\'m gonna enter in endin\\' up Under your skin like a splinter The center of attention back for the winter I\\'m interesting, the best thing since wrestling Infesting in your kids ears and nesting \"Testing attention please\" Feel the tension soon as someone mentions me Here\\'s my ten cents, my two cents is free A nuisance, who sent, you sent for me? Now this looks like a job for me So everybody just follow me \\'Cause we need a little controversy \\'Cause it feels so empty without me I said, this looks like a job for me So everybody just follow me \\'Cause we need a little controversy \\'Cause it feels so empty without me A-tiskit a-taskit, I go tit for tat with anybody who\\'s talking this shit, that shit Chris Kirkpatrick, you can get your ass kicked Worse than them little Limp Bizkit bastards And Moby, you can get stomped by Obie You thirty six year old bald headed fag, blow me You don\\'t know me, you\\'re too old, let it go its over, Nobody listens to techno Now let\\'s go, just give me the signal I\\'ll be there with a whole list full of new insults I\\'ve been dope, suspenseful with a pencil Ever since Prince turned himself into a symbol But sometimes this shit just seems Everybody only wants to discuss me So this must mean I\\'m disgusting But it\\'s just me I\\'m just obscene Though I\\'m not the first king of controversy I am the worst thing since Elvis Presley To do black music so selfishly (hey!) And use it to get myself wealthy Hey, there\\'s a concept that works Twenty million other white rappers emerged But no matter how many fish in the sea It will be so empty without me Now this looks like a job for me So everybody just follow me \\'Cause we need a little controversy \\'Cause it feels so empty without me I said, this looks like a job for me So everybody just follow me \\'Cause we need a little controversy \\'Cause it feels so empty without me Kids! Lately I\\'ve been hard to reach I\\'ve been too long on my own Everybody has a private world Where they can be alone Are you calling me, are you trying to get through Are you reaching out for me, and I\\'m reaching out for you I\\'m just so fuckin\\' depressed I just can\\'t seem to get out this slump If I could just get over this hump But I need something to pull me out this dump I took my bruises, took my lumps Fell down and I got right back up But I need that spark to get psyched back up In order for me to pick that mic back up I don\\'t know how or why or when And I ended up in this position I\\'m in I starting to feel distant again So I decided just to pick this pen Up and tried to make an attempt to vent, but I just can\\'t admit Or come to grips, with the fact that I may be done with rap, I need a new outlet I know some shits so hard to swallow And I just can\\'t sit back and wallow In my own sorrow, but I know one fact I\\'ll be one tough act to follow One tough act to follow, copy, one tough act to follow Here today, gone tomorrow But you have to walk a thousand miles In my shoes, just to see What it\\'d be like, to be me I\\'ll be you, let\\'s trade shoes Just to see what I\\'d be like to Feel your pain, you feel mine Go inside each other\\'s mind Just to see what we find Look at shit through each other\\'s eyes But don\\'t let \\'em say you ain\\'t beautiful oh They can all get fucked. Just stay true to you so Don\\'t let \\'em say you ain\\'t beautiful oh They can all get fucked. Just stay true to you so I think I\\'m starting to lose my sense of humor Everything is so tense and gloom I almost feel like I gotta check the temperature in the room Just as soon as I walk in It\\'s like all eyes on me, so I try to avoid any eye contact Cause if I do that then it opens a door to conversation, like I want that I\\'m not looking for extra attention I just want to be just like you Blend in with the rest of the room Maybe just point me to the closest restroom I don\\'t need no fucking manservant Follow me around, and wiping my ass Laugh at every single joke I crack And half of \\'em ain\\'t even funny like Haha Marshall, you\\'re so funny man, you should be a comedian, god damn Unfortunately I am, but I just hide behind the tears of a clown So why don\\'t you all sit down Listen to the tale I\\'m about to tell Hell, we don\\'t have to trade our shoes And you don\\'t have to walk no thousand miles In my shoes, just to see What it\\'d be like, to be me I\\'ll be you, let\\'s trade shoes Just to see what I\\'d be like to Feel your pain, you feel mine Go inside each other\\'s mind Just to see what we find Look at shit through each other\\'s eyes But don\\'t let \\'em say you ain\\'t beautiful oh They can all get fucked. Just stay true to you so so Don\\'t let \\'em say you ain\\'t beautiful oh They can all get fucked. Just stay true to you Nobody asked for life to deal us With these bullshit hands we\\'re dealt We gotta take these cards ourselves Flip them, don\\'t expect no help, now I could have either just Sat on my ass and pissed and moaned But take this situation in which I\\'m placed in And get up and get my own, I was never the type of kid To wait but I know to unpack his bags Never sat on the porch and hoped and prayed For a dad to show up who never did I just wanted to fit in, every single place, every school I went I dreamed of being that cool kid Even if it meant acting stupid, Aunt Edna always told me Keep making that face till it gets stuck like that Meanwhile I\\'m just standing there Holding my tongue up trying to talk like this Till I stuck my tongue on the frozen stop sign pole at eight years old I learned my lesson and cause I wasn\\'t tryin to impress my friends no more But I already told you my whole life story Not just based on my description Cause where you see it from where you\\'re sitting Is probably a hundred and ten percent different I guess we would have to walk a mile In each other\\'s shoes, at least What size you where? I wear tens Let\\'s see if you can fit your feet In my shoes, just to see What it\\'d be like, to be me I\\'ll be you, let\\'s trade shoes Just to see what I\\'d be like to Feel your pain, you feel mine Go inside each other\\'s mind Just to see what we find Look at shit through each other\\'s eyes But don\\'t let \\'em say you ain\\'t beautiful oh They can all get fucked, just stay true to you so Don\\'t let \\'em say you ain\\'t beautiful oh They can all get fucked, just stay true to you so Lately I\\'ve been hard to reach I\\'ve been too long on my own Everybody has a private world Where they can be alone Are you calling me, are you trying to get through Are you reaching out for me, and I\\'m reaching out for you Yea, to my babies. Stay strong. Daddy will be home soon And to the rest of the world, God gave you the shoes That fit you, so put em on and wear \\'em And be yourself man, be proud of who you are Even if it sounds corny, Don\\'t ever let no one tell you, you ain\\'t beautiful Yeah I know sometimes things may not Always make sense to you right now But hey, What daddy always tell you? Straighten up little soldier Stiffen up that upper lip What you crying about? You got me Hailie I know you miss your mom and I know you miss your dad Well I\\'m gone but I\\'m trying to give you the life that I never had I can see you\\'re sad, even when you smile, even when you laugh I can see it in your eyes, deep inside you want to cry Cause you\\'re scared, I ain\\'t there? Daddy\\'s with you in your prayers No more crying, wipe them tears Daddy\\'s here, no more nightmares We gon\\' pull together through it, we gon\\' do it Laney uncles crazy, ain\\'t he? Yeah but he loves you girl and you better know it We\\'re all we got in this world When it spins, when it swirls When it whirls, when it twirls Two little beautiful girls Lookin\\' puzzled, in a daze I know it\\'s confusing you Daddy\\'s always on the move, mama\\'s always on the news I try to keep you sheltered from it but somehow it seems The harder that I try to do that, the more it backfires on me All the things growing up his daddy that he had to see Daddy don\\'t want you to see but you see just as much as he did We did not plan it to be this way, your mother and me But things have gotten so bad between us I don\\'t see us ever being together ever again Like we used to be when we were teenagers But then of course everything always happens for a reason I guess it was never meant to be But it\\'s just something we have no control over and that\\'s what destiny is But no more worries, rest your head and go to sleep Maybe one day we\\'ll wake up and this will all just be a dream Now hush little baby, don\\'t you cry Everything\\'s gonna be alright Stiffen that upper lip up little lady, I told ya Daddy\\'s here to hold ya through the night I know mommy\\'s not here right now and we don\\'t know why We fear how we feel inside It may seem a little crazy, pretty baby But I promise momma\\'s gon\\' be alright It\\'s funny I remember back one year when daddy had no money Mommy wrapped the Christmas presents up And stuck \\'em under the tree and said some of \\'em were from me Cause daddy couldn\\'t buy \\'em I\\'ll never forget that Christmas I sat up the whole night crying Cause daddy felt like a bum, see daddy had a job But his job was to keep the food on the table for you and mom And at the time every house that we lived in Either kept getting broken into and robbed Or shot up on the block and your mom was saving money for you in a jar Tryna start a piggy bank for you so you could go to college Almost had a thousand dollars till someone broke in and stole it And I know it hurt so bad it broke your momma\\'s heart And it seemed like everything was just startin\\' to fall apart Mom and dad was arguin\\' a lot so momma moved back On the Chalmers in the flat one bedroom apartment And dad moved back to the other side of 8 Mile on Novara And that\\'s when daddy went to California with his CD and met Dr. Dre And flew you and momma out to see me But daddy had to work, you and momma had to leave me Then you started seeing daddy on the T.V. and momma didn\\'t like it And you and Laney were to young to understand it Papa was a rollin\\' stone, momma developed a habit And it all happened too fast for either one of us to grab it I\\'m just sorry you were there and had to witness it first hand Cause all I ever wanted to do was just make you proud Now I\\'m sitting in this empty house, just reminiscing Lookin\\' at your baby pictures, it just trips me out To see how much you both have grown, it\\'s almost like you\\'re sisters now Wow, guess you pretty much are and daddy\\'s still here Laney I\\'m talkin\\' to you too, daddy\\'s still here I like the sound of that, yeah It\\'s got a ring to it don\\'t it? Shh, momma\\'s only gone for the moment Now hush little baby, don\\'t you cry Everything\\'s gonna be alright Stiffen that upper lip up little lady, I told ya Daddy\\'s here to hold ya through the night I know mommy\\'s not here right now and we don\\'t know why We fear how we feel inside It may seem a little crazy, pretty baby But I promise momma\\'s gon\\' be alright And if you ask me too Daddy\\'s gonna buy you a mockingbird I\\'mma give you the world I\\'mma buy a diamond ring for you I\\'mma sing for you I\\'ll do anything for you to see you smile And if that mockingbird don\\'t sing and that ring don\\'t shine I\\'mma break that birdies neck I\\'ll go back to the jeweler who sold it to ya And make him eat every carat don\\'t fuck with dad (ha ha) Yo, it\\'s my life, my own words I guess Have you ever loved someone so much You\\'d give an arm for Not the expression, no Literally give an arm for When they know they\\'re your heart And you know you are their armor And you will destroy anyone who would try to harm her But what happens when karma Turns right around and bites you And everything you stand for turns on you to spite you What happens when you become the main source of her pain \"Daddy look what I made\" \"Dad\\'s gotta go catch a plane\" \"Daddy where\\'s mommy? I can\\'t find mommy, where is she?\" \"I don\\'t know, go play, Hailie baby, your daddy\\'s busy Daddy\\'s writing a song, this song ain\\'t gon write itself\" I give you one underdog, and you gotta swing by yourself Then turn right around in that song and tell her you love her And put hands on her mother who\\'s the spittin\\' image of her That\\'s Slim Shady, yeah baby Slim Shady\\'s crazy Shady made me But tonight, Shady\\'s rock-a-bye baby And when I\\'m gone just carry on don\\'t mourn, Rejoice every time you hear the sound of my voice, just know that, I\\'m lookin\\' down on you smilin\\' And I didn\\'t feel a thing so baby, don\\'t feel no pain, just smile back And when I\\'m gone just carry on don\\'t mourn, Rejoice every time you hear the sound of my voice, just know that, I\\'m lookin\\' down on you smilin\\' And I didn\\'t feel a thing so baby, don\\'t feel no pain, just smile back I keep havin\\' this dream, I\\'m pushin\\' Hailie on a swing, she keeps screamin\\', she don\\'t want me to sing \"You\\'re makin\\' mommy cry, why, why is mommy cryin\\'\" \"Baby, daddy ain\\'t leavin\\' no more, Daddy you\\'re lyin\\' You always say that, you always say this is the last time But you ain\\'t leavin\\' no more daddy, you\\'re mine\" She\\'s pilin\\' boxes in front of the door tryin\\' to block it \"Daddy please, daddy, don\\'t leave, daddy, no, stop it\" Goes in her pocket, pulls out a tiny necklace locket It\\'s got a picture, \"This will keep you safe daddy, take it with ya\" I look up, it\\'s just me standin\\' in the mirror These fuckin\\' walls must be talkin\\', \\'cause man I can hear \\'em They\\'re sayin\\', \"you got one more chance to do right And it\\'s tonight, now go out and show em that you love \\'em before it\\'s too late\" And just as I go to walk out of my bedroom door It turns to a stage, they\\'re gone and the spotlight is on and I\\'m singin\\' And when I\\'m gone just carry on don\\'t mourn, Rejoice every time you hear the sound of my voice, just know that, I\\'m lookin\\' down on you smilin\\' And I didn\\'t feel a thing so baby, don\\'t feel no pain, just smile back And when I\\'m gone just carry on don\\'t mourn, Rejoice every time you hear the sound of my voice, just know that, I\\'m lookin\\' down on you smilin\\' And I didn\\'t feel a thing so baby, don\\'t feel no pain, just smile back Sixty thousand people all jumpin\\' out their seat The curtain closes, they\\'re throwin\\' roses at my feet I take a bow, and thank you all for comin out They\\'re screamin\\' so loud, I take one last look at the crowd I glance down, I don\\'t believe what I\\'m seein\\' \"Daddy, its me, help mommy, her wrists are bleedin\\'\" But baby we\\'re in Sweden How did you get to Sweden? \"I followed you daddy You told me that you weren\\'t leavin\\' You lied to me dad, and now you made mommy sad And I bought you this coin, it says number one dad That\\'s all I wanted, I just want to give you this coin\" \"I get the point, fine, me and mommy are goin\\'\" \"But baby wait, it\\'s too late dad, you made your choice Now go out there and show em that you love em more than us That\\'s what they want They want you, Marshall They keep screamin\\' your name It\\'s no wonder you can\\'t go to sleep Just take another pill, yeah I bet you you will! You rap about it, yeah word, kid keep it real\" I hear a applause, all this time I couldn\\'t see How could it be, that the curtain is closin\\' on me I turn around, find a gun on the ground Cock it, put it to my brain, scream Die Shady! And pop it The sky darkens, my life flashes The plane that I was supposed to be on, crashes, and burns to ashes That\\'s when I wake up Alarm clock\\'s ringing, there\\'s birds singin\\' It\\'s spring and Hailie\\'s outside swingin\\' I walk right up to Kim and kiss her tell her I miss her Hailie just smiles and winks at her little sister almost as if to say And when I\\'m gone just carry on don\\'t mourn, Rejoice every time you hear the sound of my voice, just know that, I\\'m lookin\\' down on you smilin\\' And I didn\\'t feel a thing so baby, don\\'t feel no pain, just smile back And when I\\'m gone just carry on don\\'t mourn, Rejoice every time you hear the sound of my voice, just know that, I\\'m lookin\\' down on you smilin\\' And I didn\\'t feel a thing so baby, don\\'t feel no pain, just smile back I\\'m about to lose my mind You\\'ve been gone for so long, I\\'m runnin\\' outta time I need a doctor, call me a doctor I need a doctor, doctor to bring me back to life I told the world one day I would pay it back Say it on tape, and lay it, record it so that one day I could play it back But I don\\'t even know if I believe it when I\\'m sayin\\' that Doubts startin\\' to creep in, everyday it\\'s just so grey and black Hope, I just need a ray of that, cause no one sees my vision When I play it for \\'em, they just say it\\'s wack, they don\\'t know what dope is And I don\\'t know if I was awake or asleep when I wrote this All I know is you came to me when I was at my lowest You picked me up, breathed new life in me, I owe my life to you But for the life of me, I don\\'t see why you don\\'t see like I do But it just dawned on me you lost a son, demons fighting you, it\\'s dark Let me turn on the lights and brighten me and enlighten you I don\\'t think you realise what you mean to me, not the slightest clue Cause me and you were like a crew, I was like your sidekick You gon either wanna fight me when I get off this fuckin\\' mic Or you gon\\' hug me, but I\\'m outta options, there\\'s nothin\\' else I can do cause I\\'m about to lose my mind You\\'ve been gone for so long, I\\'m runnin\\' outta time I need a doctor, call me a doctor I need a doctor, doctor to bring me back to life It hurts when I see you struggle, you come to me with ideas You say they\\'re just pieces, so I\\'m puzzled, cause the shit I hear is crazy But you\\'re either gettin\\' lazy or you don\\'t believe in you no more Seems like your own opinions, not one you can form Can\\'t make a decision you keep questionin\\' yourself Second guessin\\' and it\\'s almost like your beggin\\' for my help Like I\\'m your leader, you\\'re supposed to fuckin\\' be my mentor I can endure no more I demand you remember who you are It was YOU, who believed in me when everyone was tellin\\' You don\\'t sign me, everyone at the fuckin\\' label, let\\'s tell the truth You risked your career for me, I know it as well as you Nobody wanted to fuck with the white boy, Dre, I\\'m cryin\\' in this booth You saved my life, now maybe it\\'s my turn to save yours But I can never repay you, what you did for me is way more But I ain\\'t givin\\' up faith and you ain\\'t givin\\' up on me Get up Dre I\\'m dyin\\', I need you, come back for fuck\\'s sake I\\'m about to lose my mind You\\'ve been gone for so long, I\\'m runnin\\' outta time I need a doctor, call me a doctor I need a doctor, doctor to bring me back to life bring me back to life, bring me back to life, I need (a doctor, doctor to bring me back to life) It literally feels like a lifetime ago But I still remember the shit like it was just yesterday, though You walked in, yellow jump suit, whole room, cracked jokes Once you got inside the booth, told you, mic smoke Went through friends, some of them I put on, but they just left They said they was ridin\\' to the death, but where the fuck are they now? Now that I need them, I don\\'t see none of them All I see is Slim, fuck all you fair-weather friends, all I need is him Fuckin\\' backstabbers, when the chips were down you just laughed at us Now you bout to feel the fuckin\\' wrath of Aftermath, faggots You gon\\' see us in our lab jackets and ask us where the fuck we been? You can kiss my indecisive ass crack, maggots And the crackers\\' ass, little crack a jack beat Makin\\' wack math, backwards producers, I\\'m back bastards One more CD and then I\\'m packin\\' up my bags and as I\\'m leavin\\' I\\'ll guarantee they scream, \"Dre, don\\'t leave us like that man!\" cause I\\'m about to lose my mind You\\'ve been gone for so long, I\\'m runnin\\' outta time I need a doctor, call me a doctor I need a doctor, doctor to bring me back to life May I have your attention please? May I have your attention please? Will the real Slim Shady please stand up? I repeat will the real Slim Shady please stand up? We\\'re going to have a problem here Y\\'all act like you never seen a white person before Jaws all on the floor like Pam and Tommy just burst in the door Started whoopin\\' her ass worse than before, they first get divorced Throwing her over furniture It\\'s the return of the \"Oh wait, no way, your kidding, He didn\\'t just say what I think he did, did he?\" And Dr Dre said Nothing you idiots Dr Dre\\'s dead, he\\'s locked in my basement (ha ha) Feminist women love Eminem, chicka chicka chicka Slim Shady I\\'m sick of him Look at him, walking around grabbing his you know what Flippin\\' the you know who \"yeah, but he\\'s so cute though\" Yea I probably got a couple of screws up in my head loose But no worse than what\\'s going on in your parent\\'s bedrooms Sometimes I want to get on TV and just let loose, but can\\'t, But it\\'s cool for Tom Green to hump a dead moose My bum is on your lips, my bum is on your lips And if I\\'m lucky you might just give it a little kiss And that\\'s the message that we deliver to little kids And expect them not to know what a women\\'s clitoris is. Of course they gonna know what intercourse is, by the time they hit 4th grade, They got the discovery channel don\\'t they? We ain\\'t nothing but mammals, Well some of us cannibals, who cut other people open like cantaloupes. But if we can hump dead animals and antelopes Then there\\'s no reason that a man and another man can\\'t elope But if you feel like I feel I got the antidote. Women wave your pantyhose, sing the chorus and it goes I\\'m Slim Shady, yes I\\'m the real Shady All you other Slim Shadys are just imitating So won\\'t the real Slim Shady, please stand up, Please stand up, Please stand up \\'Cause I\\'m Slim Shady, yes I\\'m the real Shady All you other Slim Shadys are just imitating So won\\'t the real Slim Shady, please stand up, Please stand up, Please stand up Will Smith don\\'t gotta cuss in his raps to sell records Well I do, so fuck him and fuck you too. You think I give a damn about a Grammy? Half of you critics can\\'t even stomach me, let alone stand me. \"But Slim what if you win wouldn\\'t it be weird?\" Why? So you guys can just lie to get me here? So you can sit me here next to Britney Spears. Shit, Christina Aguilera better switch me chairs So I can sit next to Carson Daly and Fred Durst And hear \\'em argue over who she gave head to first. Little bitch put me on blast on M-T-V \"Yeah he\\'s cute but I think he\\'s married to Kim, he he\" I should download her audio on mp3 And show the whole world how you gave Eminem V.D. I\\'m sick of you little girl and boy groups all you do is annoy me So I\\'ve been sent here to destroy you And there\\'s a million of us just like me Who cuss like me, who just don\\'t give a fuck like me, who dress like me Walk, talk and act like me, it just might be the next best thing, But not quite me \\'Cause I\\'m Slim Shady, yes I\\'m the real Shady All you other Slim Shadys are just imitating So won\\'t the real Slim Shady, please stand up, Please stand up, Please stand up \\'Cause I\\'m Slim Shady, yes I\\'m the real Shady All you other Slim Shadys are just imitating So won\\'t the real Slim Shady, please stand up, Please stand up, Please stand up I\\'m like a head trip to listen to \\'Cause I\\'m only giving you, things you joke about with your friends Inside your living room The only difference is I got the balls to say it in front of y\\'all And I don\\'t gotta be false or sugar coat it at all I just get on the mic and spit it, and whether you like to admit it (rip) I just shit it better than 90 percent of you rappers out there Then you wonder how can kids eat up these albums like Valiums, it\\'s funny \\'Cause at the rate I\\'m going when I\\'m thirty I\\'ll be the only person in the nursing home flirting. Pinching nurses asses when I\\'m jackin\\' off with Jergens And I\\'m jerking, but this whole bag of Viagra isn\\'t working And every single person is a Slim Shady lurkin\\' he could be workin\\' at Burger King Spitten on your onion rings Or in the parking lot circling, Screaming I don\\'t give a fuck with his windows down and system up So will the real Shady, please stand up And put one of those fingers on each hand up And to be proud to be outta your mind and outta control And one more time, loud as you can, how does it go? I\\'m Slim Shady, yes I\\'m the real Shady All you other Slim Shadys are just imitating So won\\'t the real Slim Shady, please stand up, Please stand up, Please stand up \\'Cause I\\'m Slim Shady, yes I\\'m the real Shady All you other Slim Shadys are just imitating So won\\'t the real Slim Shady, please stand up, Please stand up, Please stand up \\'Cause I\\'m Slim Shady, yes I\\'m the real Shady All you other Slim Shadys are just imitating So won\\'t the real Slim Shady, please stand up, Please stand up, Please stand up \\'Cause I\\'m Slim Shady, yes I\\'m the real Shady All you other Slim Shadys are just imitating So won\\'t the real Slim Shady, please stand up, Please stand up, Please stand up Haha, I guess there\\'s a Slim Shady in all of us, Fuck it, Let\\'s all stand up My tea\\'s gone cold I\\'m wondering why I Got out of bed at all The morning rain clouds up my window And I can\\'t see at all And even if I could it\\'ll all be gray Put your picture on my wall It reminds me, that it\\'s not so bad It\\'s not so bad My tea\\'s gone cold I\\'m wondering why I Got out of bed at all The morning rain clouds up my window And I can\\'t see at all And even if I could it\\'ll all be gray Put your picture on my wall It reminds me, that it\\'s not so bad It\\'s not so bad Dear Slim, I wrote you but still ain\\'t callin\\' I left my cell, my pager, and my home phone at the bottom I sent two letters back in autumn, you must not-a got \\'em There probably was a problem at the post office or somethin\\' Sometimes I scribble addresses too sloppy when I jot \\'em But anyways, fuck it, what\\'s been up? Man how\\'s your daughter? My girlfriend\\'s pregnant too, I\\'m bout to be a father If I have a daughter, guess what I\\'m a call her? I\\'m a name her Bonnie I read about your Uncle Ronnie too I\\'m sorry I had a friend kill himself over some bitch who didn\\'t want him I know you probably hear this everyday, but I\\'m your biggest fan I even got the underground shit that you did with Skam I got a room full of your posters and your pictures man I like the shit you did with Rawkus too, that shit was fat Anyways, I hope you get this man, hit me back, Just to chat, truly yours, your biggest fan This is Stan My tea\\'s gone cold I\\'m wondering why I Got out of bed at all The morning rain clouds up my window And I can\\'t see at all And even if I could it\\'ll all be gray Put your picture on my wall It reminds me, that it\\'s not so bad It\\'s not so bad Dear Slim, you still ain\\'t called or wrote, I hope you have a chance I ain\\'t mad, I just think it\\'s fucked up you don\\'t answer fans If you didn\\'t wanna talk to me outside your concert You didn\\'t have to, but you coulda signed an autograph for Matthew That\\'s my little brother man, he\\'s only six years old We waited in the blistering cold for you, For four hours and you just said, \"No.\" That\\'s pretty shitty man, you\\'re like his fuckin\\' idol He wants to be just like you man, he likes you more than I do I ain\\'t that mad though, I just don\\'t like bein\\' lied to Remember when we met in Denver, you said if I\\'d write you you would write back See I\\'m just like you in a way I never knew my father neither He used to always cheat on my mom and beat her I can relate to what you\\'re saying in your songs So when I have a shitty day, I drift away and put \\'em on \\'Cause I don\\'t really got shit else so that shit helps when I\\'m depressed I even got a tattoo of your name across the chest Sometimes I even cut myself to see how much it bleeds It\\'s like adrenaline, the pain is such a sudden rush for me See everything you say is real, and I respect you cause you tell it My girlfriend\\'s jealous \\'cause I talk about you 24/7 But she don\\'t know you like I know you Slim, no one does She don\\'t know what it was like for people like us growin\\' up, you gotta call me man I\\'ll be the biggest fan you\\'ll ever lose Sincerely yours, Stan, P.S. we should be together too My tea\\'s gone cold I\\'m wondering why I Got out of bed at all The morning rain clouds up my window And I can\\'t see at all And even if I could it\\'ll all be gray Put your picture on my wall It reminds me, that it\\'s not so bad It\\'s not so bad Dear Mister \"I\\'m Too Good To Call Or Write My Fans\" This will be the last package I ever send your ass It\\'s been six months and still no word, I don\\'t deserve it? I know you got my last two letters, I wrote the addresses on \\'em perfect So this is my cassette I\\'m sending you, I hope you hear it I\\'m in the car right now, I\\'m doing 90 on the freeway Hey Slim, I drank a fifth of vodka You dare me to drive? You know the song by Phil Collins, \"In the Air of the Night\" About that guy who could a saved that other guy from drowning But didn\\'t, then Phil saw it all, then at a a show he found him? That\\'s kinda how this is, you could a rescued me from drowning Now it\\'s too late, I\\'m on a thousand downers now, I\\'m drowsy And all I wanted was a lousy letter or a call I hope you know I ripped all of your pictures off the wall I love you Slim, we coulda been together, think about it You ruined it now, I hope you can\\'t sleep and you dream about it And when you dream I hope you can\\'t sleep and you scream about it I hope your conscience eats at you and you can\\'t breathe without me See Slim, shut up bitch! I\\'m tryin\\' to talk! Hey Slim, that\\'s my girlfriend screamin\\' in the trunk But I didn\\'t slit her throat, I just tied her up, see I ain\\'t like you \\'Cause if she suffocates she\\'ll suffer more, and then she\\'ll die too Well, gotta go, I\\'m almost at the bridge now Oh shit, I forgot, how am I supposed to send this shit out? My tea\\'s gone cold I\\'m wondering why I Got out of bed at all The morning rain clouds up my window And I can\\'t see at all And even if I could it\\'ll all be gray Put your picture on my wall It reminds me, that it\\'s not so bad It\\'s not so bad Dear Stan, I meant to write you sooner but I just been busy You said your girlfriend\\'s pregnant now, how far along is she? Look, I\\'m really flattered you would call your daughter that And here\\'s an autograph for your brother I wrote it on the Starter cap I\\'m sorry I didn\\'t see you at the show, I must of missed you Don\\'t think I did that shit intentionally just to diss you But what\\'s this shit you said about you like to cut your wrists too? I say that shit just clownin\\' dog, come on, how fucked up is you? You got some issues Stan, I think you need some counseling To help your ass from bouncing off the walls when you get down some And what\\'s this shit about us meant to be together? That type of shit will make me not want us to meet each other I really think you and your girlfriend need each other Or maybe you just need to treat her better I hope you get to read this letter, I just hope it reaches you in time Before you hurt yourself, I think that you\\'ll be doin\\' just fine If you relax a little, I\\'m glad I inspire you but Stan Why are you so mad? Try to understand, that I do want you as a fan I just don\\'t want you to do some crazy shit I seen this one shit on the news a couple weeks ago that made me sick Some dude was drunk and drove his car over a bridge And had his girlfriend in the trunk, and she was pregnant with his kid And in the car they found a tape, but they didn\\'t say who it was to Come to think about, his name was, it was you Damn! Where\\'s my snare? I have no snare on my headphones There you go Yeah, yo, yo Have you ever been hated or discriminated against? I have, I\\'ve been protested and demonstrated against Picket signs for my wicked rhymes, look at the times Sick as the mind of the motherfuckin\\' kid that\\'s behind All this commotion emotions run deep as oceans explodin\\' Tempers flarin\\' from parents just blow \\'em off and keep goin\\' Not takin\\' nothin\\' from no one give \\'em hell long as I\\'m breathin\\' Keep kickin\\' ass in the mornin\\' and takin\\' names in the evenin\\' Leave \\'em with a taste as sour as vinegar in they mouth See they can trigger me, but they\\'ll never figure me out Look at me now, I bet ya probably sick of me now, ain\\'t you momma? I\\'ma make you look so ridiculous now I\\'m sorry momma I never meant to hurt you I never meant to make you cry, but tonight I\\'m cleanin\\' out my closet, one more time I said, I\\'m sorry momma I never meant to hurt you I never meant to make you cry, but tonight I\\'m cleanin\\' out my closet Ha, I got some skeletons in my closet And I don\\'t know if no one knows it So before they throw me inside my coffin and close it I\\'ma expose it, I\\'ll take you back to \\'73 Before I ever had a multi-platinum sellin\\' CD I was a baby, maybe I was just a couple of months My faggot father must have had his panties up in a bunch \\'Cause, he split, I wonder if he even kissed me goodbye? No I don\\'t on second thought I just fuckin\\' wished he would die I look at Hailie and I couldn\\'t picture leavin\\' her side Even if I hated Kim, I\\'d grit my teeth and I\\'d try To make it work with her at least for Hailie\\'s sake I maybe made some mistakes but I\\'m only human But I\\'m man enough to face them today What I did was stupid, no doubt it was dumb But the smartest shit I did was take the bullets outta that gun \\'Cause, I\\'da killed him; shit I woulda shot Kim and him, both It\\'s my life, I\\'d like to welcome y\\'all to \\'The Eminem Show\\' I\\'m sorry momma I never meant to hurt you I never meant to make you cry, but tonight I\\'m cleanin\\' out my closet, one more time I said, I\\'m sorry momma I never meant to hurt you I never meant to make you cry, but tonight I\\'m cleanin\\' out my closet Now, I would never diss my own momma just to get recognition Take a second to listen for who you think this record is dissin\\' But put yourself in my position, just try to envision Witnessin\\' your momma poppin\\' prescription pills in the kitchen Bitchin\\' that someone\\'s always goin\\' throuh her purse and shit\\'s missin\\' Goin\\' through public housin\\' systems, victim of Munchausen\\'s Syndrome My whole life I was made to believe I was sick when I wasn\\'t Till I grew up, now I blew up, it makes you sick to ya stomach Doesn\\'t it? Wasn\\'t it the reason you made that CD for me Ma? So you could try to justify the way you treated me Ma? But guess what? You\\'re gettin\\' older now and it\\'s cold when your lonely And Nathan\\'s growin\\' up so quick he\\'s gonna know that you\\'re phony And Hailie\\'s gettin\\' so big now, you should see her, she\\'s beautiful But you\\'ll never see her, she won\\'t even be at your funeral See what hurts me the most is you won\\'t admit you was wrong Bitch do your song, keep tellin\\' yourself that you was a mom But how dare you try to take what you didn\\'t help me to get You selfish bitch, I hope you fuckin\\' burn in hell for this shit Remember when Ronnie died and you said you wished it was me? Well guess what, I am dead, dead to you as can be I\\'m sorry momma I never meant to hurt you I never meant to make you cry, but tonight I\\'m cleanin\\' out my closet, one more time I said, I\\'m sorry momma I never meant to hurt you I never meant to make you cry, but tonight I\\'m cleanin\\' out my closet Love, love Love, love, Don\\'t hurt me, don\\'t hurt me, no more Young Money yeah uh Ah, throw dirt on me and grow a wildflower But it\\'s \"fuck the world\", get a child out her Yeah, my life a bitch, but you know nothing about her Been to hell and back, I can show you vouchers I\\'m rolling sweets, I\\'m smoking sour Married to the game but she broke her vows That\\'s why my bars are full of broken bottles And my night stands are full of open Bibles uh I think about more than I forget But I don\\'t go around fire expecting not to sweat And these niggas know I lay them down, make them beg Bitches try to kick me while I\\'m down, I\\'ll break your leg Money outweighing problems on a triple beam I\\'m sticking to the script, you niggas skipping scenes, uh Be good or be good at it Fucking right I\\'ve got my gun, semi-Cartermatic Yeah, put a dick in their mouth, so I guess it\\'s fuck what they say I\\'m high as a bitch up, up and away, man, I come down in a couple of days OK, you want me up in a cage, then I\\'ll come out in beast mode I got this world stuck in the safe, combination is the G-code It\\'s Weezy motherfucker, blood gang and I\\'m in bleed mode All about my dough but I don\\'t even check the peephole So you can keep knocking but won\\'t knock me down No love lost, No love found It\\'s a little too late to say that you\\'re sorry now (Yeah) You kicked me when I was down, but what you say, just (Don\\'t hurt me) That\\'s right (It don\\'t hurt me) I don need you (No more) Don\\'t wanna see you (No more) Ha bitch you get (No love) You showed me nothing but hate You ran me into the ground, but what comes around goes around (Yeah) (And you don\\'t hurt me) That\\'s right (You don\\'t hurt me) and I don\\'t need you (No more) Don\\'t want to see you, (No more) Ha bitch you get no love No love No love No love, ha Bitch you get no love No love No love, and I don\\'t need you (No more) Get \\'em I\\'m alive again More alive than I have been in my whole entire life I can See these people\\'s ears perk up as I begin to spaz with the pen, I\\'m a little bit sicker than most, Shit\\'s gonna get thick again, they say the Competition is stiff, but I get a hard dick from this shit, now stick it in I ain\\'t never giving in again Caution to the wind, complete freedom, Look at these rappers, how I treat them so why the fuck would I join \\'em when I beat \\'em yeah They call me a freak \\'cause I like to spit on these pussies \\'fore I eat them Man get these whack cocksuckers off stage, where the fuck is Kanye when you need him? Snatch the mic from him, bitch I\\'mma let you finish in a minute, Yeah that rap was tight, but I\\'m \\'bout to spit the greatest verse of all time So you might want to go back to the lab tonight and um Scribble out them rhymes you were gonna spit and start over from scratch and write new ones But I\\'m afraid that it ain\\'t gonna make no difference When I rip this stage and tear it in half tonight It\\'s an adrenaline rush to feel the bass thump in the place All the way to the parking lot, fellow Set fire to the mic and ignite the crowd You can see the sparks from hot metal Cold-hearted from the day I Bogarted the game I so started To rock fellow, when I\\'m not even in my harshest You can still get roasted \\'cause Marsh is not mellow \\'Til I\\'m toppling from the top I\\'m not going to stop, I\\'m standing on my Monopoly board That means I\\'m on top of my game and it don\\'t stop, \\'til my hip don\\'t hop anymore When you\\'re so good that you can\\'t say it \\'cause it ain\\'t even cool for you to sound cocky anymore People just get sick \\'cause you spit, these fools can\\'t drool or dribble a drop anymore And you can never break my stride, You never slow the momentum at any moment I\\'m about to blow You\\'ll never take my pride, killing the flow, slow venom and the opponent is getting no Mercy, mark my words, ain\\'t letting up, relentless I smell blood, I don\\'t give a fuck, keep giving them hell Where was you when I fell and needed help up? You get no love It\\'s a little too late to say that you\\'re sorry now (Oh) You kicked me when I was down, but what you say, just (Don\\'t hurt me) Yeah that\\'s right (It don\\'t hurt me) And I don need you (No more) Don\\'t wanna see you (No more) Ha bitch you get (No love) You showed me nothing but hate (Yeah) You ran me into the ground, but what comes around goes around (And you don\\'t hurt me) That\\'s right (You don\\'t hurt me) and I don\\'t need you (No more) Don\\'t want to see you, (No more) Ha bitch you get no love No love No love No love, ha Bitch you get no love No love No love, and I don\\'t need you (No more) Ha, bitch you get no (Love) \\'Cause sometimes you just feel tired, you feel weak And when you feel weak you feel like you want to just give up But you gotta search within you, you gotta find that inner strength And just pull that shit out of you and get that motivation to not give up And not be a quitter, no matter how bad you want to just fall flat on your face and collapse \\'Til I collapse I\\'m spilling these raps long as you feel \\'em \\'Til the day that I drop you\\'ll never say that I\\'m not killing \\'em \\'Cause when I am not then I\\'m a stop pinning them And I am not hip-hop and I\\'m just not Eminem Subliminal thoughts when I\\'m stop sending them Women are caught in webs spin and hock venom Adrenaline shots of penicillin could not get the illin\\' to stop Amoxicillin is just not real enough The criminal cop killing hip-hop filling a Minimal swap to cop millions of Pac listeners You\\'re coming with me, feel it or not You\\'re gonna fear it like I showed you the spirit of god lives in us You hear it a lot, lyrics that shock, is it a miracle Or am I just a product of pop fizzing up For shizzle my whizzle this is the plot listen up You Bizzles forgot Slizzle does not give a fuck \\'Til the roof comes off, till the lights go out \\'Til my legs give out, can\\'t shut my mouth. \\'Til the smoke clears out and my high perhaps I\\'m a rip this shit till my bone collapse. \\'Til the roof comes off, till the lights go out \\'Til my legs give out, can\\'t shut my mouth. \\'Til the smoke clears out and my high perhaps I\\'m a rip this shit till my bone collapse. Music is like magic there\\'s a certain feeling you get When you\\'re real and you spit and people are feeling your shit This is your moment and every single minute you spittin\\' Trying to hold onto it \\'cause you may never get it again So while you\\'re in it try to get as much shit as you can And when your run is over just admit when it\\'s at its end \\'Cause I\\'m at the end of my wits with half the shit that gets in I got a list, here\\'s the order of my list that it\\'s in; It goes, Reggie, Jay-Z, Tupac and Biggie Andre from Outkast, Jada, Kurupt, Nas and then me But in this industry I\\'m the cause of a lot of envy So when I\\'m not put on this list the shit does not offend me That\\'s why you see me walk around like nothing\\'s bothering me Even though half you people got a fuckin\\' problem with me You hate it but you know respect you\\'ve got to give me The press\\'s wet dream like Bobby and Whitney, Nate hit me \\'Til the roof comes off, till the lights go out \\'Til my legs give out, can\\'t shut my mouth. \\'Til the smoke clears out and my high perhaps I\\'m a rip this shit till my bone collapse. \\'Til the roof comes off, till the lights go out \\'Til my legs give out, can\\'t shut my mouth. \\'Til the smoke clears out and my high perhaps I\\'m a rip this shit till my bone collapse. Soon as a verse starts I eat at an MC\\'s heart What is he thinking? Enough to not go against me, smart And its absurd how people hang on every word I\\'ll probably never get the props I feel I ever deserve But I\\'ll never be served my spot is forever reserved If I ever leave earth that would be the death of me first \\'Cause in my heart of hearts I know nothing could ever be worse That\\'s why I\\'m clever when I put together every verse My thoughts are sporadic, I act like I\\'m an addict I rap like I\\'m addicted to smack like I\\'m Kim Mathers But I don\\'t want to go forth and back in constant battles The fact is I would rather sit back and bomb some rappers\\' So this is like a full blown attack I\\'m launching at \\'em The track is on some battling raps who want some static \\'Cause I don\\'t really think that the fact that I\\'m Slim matters A plaque of platinum status is whack if I\\'m not the baddest \\'Til the roof comes off, till the lights go out \\'Til my legs give out, can\\'t shut my mouth. \\'Til the smoke clears out and my high perhaps I\\'m a rip this shit till my bone collapse. \\'Til the roof comes off, till the lights go out \\'Til my legs give out, can\\'t shut my mouth. \\'Til the smoke clears out and my high perhaps I\\'m a rip this shit till my bone collapse. Until the roof (Until the roof) The roof comes off (The roof comes off) Until my legs (Until my legs) Give out from underneath me (Underneath me, I) I will not fall I will stand tall Feels like no one can beat me Now everybody from the 313 put your motha fuckin\\' hands up and follow me Now everybody from the 313 put your motha fuckin\\' hands up Look look Now while he stands tough Notice that this man did not have his hands up The Free World\\'s got you gassed up Now who\\'s afraid of the Big Bad Wolf 1, 2, 3 and to the 4 1 pac 2 pac 3 pac 4 4 pac 3 pac 2 pac 1 You\\'re pac he\\'s pac You\\'re pac none This guy ain\\'t no motha fuckin MC I know everything he\\'s got to say against me I am white I am a fuckin\\' bum I do live in a trailer with my mom My boy future is an Uncle Tom I do got a dumb friend named Cheddar Bob Who shoots himself in his leg with his own gun I did get jumped by all six of you chumps And Wink did fuck my girl I\\'m still standing here screamin\\' fuck the Free World Don\\'t ever try to judge me dude You don\\'t know what the fuck I\\'ve been through But I know something about you You went to Cranbrook Thats a private school What\\'s the matter dog? You embarrassed? This guy\\'s a gangster? His real names\\' Clarence And Clarence lives at home with both parents And Clarence\\'s parents have a real good marriage This guy dont wanna battle hes shook \\'Cause there ain\\'t no such thing as halfway crooks He\\'s scared to death He\\'s scared to look at his fuckin year book Fuck Cranbrooke Fuck a beat I\\'ll go a capella Fuck a Papa Doc Fuck a clock Fuck a trailer Fuck everybody Fuck ya\\'ll if you doubt me I\\'m a piece of fuckin\\' white trash I say it proudly And fuck this battle I don\\'t wanna win, I\\'m outtie Here, tell these people somethin\\' they don\\'t know about me Mm You high baby? Yeah Yeah? Ha ha ha Talk to me You want me to tell you somethin\\' Uh huh I know what you wanna hear \\'Cause I know you want me baby I think I want you too I think I love you baby I think I love you too I\\'m here to save you girl Come be in Shady\\'s world I wanna grow together Let\\'s let our love unfurl You know you want me baby You know I want you too They call me Superman I\\'m here to rescue you I wanna save you girl Come be in Shady\\'s world Oh boy you drive me crazy Bitch you make me hurl They call me Superman Leap tall hoes in a single bound I\\'m single now Got no ring on this finger now I\\'ll never let another chick bring me down In a relationship, save it bitch, babysit? You make me sick Superman ain\\'t savin\\' shit, girl you can jump on Shady\\'s dick Straight from the hip, cut to the chase I\\'ll tell the motherfucking slut to her face Play new games, say new names, ever since I broke up with what\\'s her face I\\'m a different man, kiss my ass, kiss my lips, bitch why ask? Kiss my dick, hit my cash, I\\'d rather have you whip my ass Don\\'t put out? I\\'ll put you out Won\\'t get out? I\\'ll push you out Puss blew out, poppin\\' shit Wouldn\\'t piss on fire to put you out Am I too nice? Buy you ice Bitch if you died, wouldn\\'t buy you life What you tryin\\' to be, my new wife? What you Mariah? Fly through twice But I do know one thing though Bitches they come, they go Saturday through Sunday Monday Monday through Sunday yo Maybe I\\'ll love you one day Maybe we\\'ll someday grow \\'Til then just sit your drunk ass on that fuckin\\' runway hoe \\'Cause I can\\'t be your superman Can\\'t be your superman Can\\'t be your superman Can\\'t be your superman I can\\'t be your superman Can\\'t be your superman Can\\'t be your superman Your superman, your superman Don\\'t get me wrong I love these hoes It\\'s no secret Everybody knows Yeah we fucked Bitch so what? That\\'s about as far as your buddy goes We\\'ll be friends I\\'ll call you again, I\\'ll chase you around every bar you attend Never know what kind of car I\\'ll be in We\\'ll see how much you\\'ll be partying then You don\\'t want that Neither do I I don\\'t wanna flip when I see you with guys Too much pride Between you and I Not a jealous man, but females lie But I guess that\\'s just what sluts do How could it ever be just us two? Never loved you enough to trust you We just met and I just fucked you But I do know one thing though Bitches they come they go Saturday through Sunday Monday Monday through Sunday yo Maybe I\\'ll love you one day Maybe we\\'ll someday grow \\'Till then just sit your drunk ass on that fuckin\\' runway hoe I know you want me baby I think I want you too I think I love you baby I think I love you too I\\'m here to save you girl Come be in Shady\\'s world I wanna grow together Lets let our love unfurl You know you want me baby You know I want you too They call me Superman I\\'m here to rescue you I wanna save you girl Come be in Shady\\'s world Oh boy you drive me crazy Bitch you make me hurl First thing you said I\\'m not phased, I hang around big stars all day, I don\\'t see what the big deal is anyway, You\\'re just plain ol\\' Marshall to me Ooh yeah girl run that game Hailie Jade I love that name, Love that tattoo, what\\'s that say? Rot in pieces\\' aw that\\'s great First off you don\\'t know Marshall At all so don\\'t grow partial That\\'s ammo for my arsenal I\\'ll slap you off that bar stool There goes another lawsuit Leave hand prints all across you Good lordy-wody you must be gone off that water bottle You want what you can\\'t have Ooh girl that\\'s too damn bad Don\\'t touch what you can\\'t grab End up with two back hands Put Anthrax on a Tampax and slap you till you can\\'t stand Girl you just blew your chance Don\\'t mean to ruin your plans But I do know one thing though Bitches they come they go Saturday through Sunday Monday Monday through Sunday yo Maybe I\\'ll love you one day Maybe we\\'ll someday grow \\'Til then just sit your drunk ass on that fuckin\\' runway hoe I know you want me baby I think I want you too I think I love you baby I think I love you too I\\'m here to save you girl Come be in Shady\\'s world I wanna grow together Let\\'s let our love unfurl You know you want me baby You know I want you too They call me Superman I\\'m here to rescue you I wanna save you girl Come be in Shady\\'s world Oh boy you drive me crazy Bitch you make me hurl \\'Cause I can\\'t be your superman Can\\'t be your superman Can\\'t be your superman Can\\'t be your superman I can\\'t be your superman Can\\'t be your superman Can\\'t be your superman Your superman, your superman \\'Cause I can\\'t be your superman Can\\'t be your superman Can\\'t be your superman Can\\'t be your superman I can\\'t be your superman Can\\'t be your superman Can\\'t be your superman Your superman, your superman We touch I feel a rush We clutch It isn\\'t much but its enough to make me wonder what\\'s in store for us It\\'s lust its torturous, You must be a sorceress \\'cause you just did the impossible Gained my trust don\\'t play games it\\'ll be dangerous, if you fuck me over \\'Cause if I get burnt I\\'ma show you what it\\'s like to hurt \\'Cause I\\'ve been treated like dirt before you and love is \"evol\" Spell it backwards I\\'ll show ya Nobody knows me I\\'m cold, walk down this road all alone It\\'s no ones fault but my own, it\\'s the path I\\'ve chosen to go Frozen as snow I show no emotion whatsoever so Don\\'t ask me why I have no love for these mofuckin\\' hos Bloodsucking succubuses, what the fuck is up with this, I\\'ve tried in this department but I ain\\'t had no luck with this, It sucks but it\\'s exactly what I thought it would be like tryin\\' to start over I gotta hole in my heart for some kind of emotional rollercoaster Something I wont go until you toy with my emotion so it\\'s over It\\'s like an explosion every time I hold ya, I wasn\\'t jokin\\' when I told ya You take my breathe away Your a supernova, and I\\'m a I\\'m a space bound rocket ship and your heart\\'s the moon And I\\'m aiming right at you Right at you Two hundred fifty thousand miles on a clear night in June And I\\'m aiming right at you Right at you Right at you I\\'ll do whatever it takes, when I\\'m with you I get the shakes My body aches when I ain\\'t With you I have zero strength There\\'s no limit on how far I would go No boundaries no lengths Why do we say that until we get that person that we think is Gonna be that one and then once we get \\'em it\\'s never the same You want them when they don\\'t want you, soon as they do, feelings change It\\'s not a contest and I ain\\'t on no conquest for no mate I wasn\\'t looking when I stumbled onto you, must\\'ve been fate But so much is at stake what the fuck does it take, Let\\'s cut to the chase, \\'fore a door shuts in your face Promise me if I cave in and break and leave myself open, that I wont be makin\\' a mistake (\\'Cause I\\'m a) I\\'m a space bound rocket ship and your heart\\'s the moon And I\\'m aiming right at you Right at you Two hundred fifty thousand miles on a clear night in June And I\\'m aiming right at you Right at you Right at you So after a year and six months, no longer me that you want But I love you so much it hurts, Never mistreated you once I poured my heart out to you, Let down my guards swear to God I\\'ll blow my brains in your lap, lay here and die in your arms Drop to my knees and I\\'m pleadin\\' I\\'m tryin\\' to stop you from leavin\\' You won\\'t even listen so fuck it, I\\'m tryin\\' to stop you from breathin\\' I put both hands on your throat I sit on top of you squeezin\\' til I snap ya neck like a popsicle stick Ain\\'t no possible reason , I could think of to let you walk up out this house and let you live Tears stream down both of my cheeks Then I let you just go and just give Before I put that gun to my temple, I told you this And I would\\'ve done anything for you To show you how much I adored you But it\\'s over now, It\\'s too late to save our love Just promise me you\\'ll think of me Every time you look up in the sky and see a star \\'cause I\\'m a I\\'m a space bound rocket ship and your heart\\'s the moon And I\\'m aiming right at you Right at you Two hundred fifty thousand miles on a clear night in June And I\\'m so lost without you Without you Without you Hi! My name is (what?) My name is (who?) My name is Slim Shady Hi! My name is (huh?) My name is (what?) My name is Slim Shady Hi! My name is (what?) Excuse me, (my name is) (who? My name is) Slim Shady Can I get the attention of the class (huh my name is, what my name is) For one second My name is (My name is Slim Shady) Hi kids! Do you like violence? (Yeah yeah yeah!) Wanna see me stick Nine inch Nails, through each one of my eyelids? (Uh-huh!) Wanna copy me and do exactly like I did? (Yeah yeah!) Try \\'cid and get fucked up worse that my life is? (Huh?) My brain\\'s dead weight, I\\'m tryin\\' to get my head straight But I can\\'t figure out which Spice Girl I want to impregnate (Oh) And Dr. Dre said, \"Slim Shady you a base-head!\" Uh-uh! \"So why\\'s your face red? Man you wasted!\" Well since age twelve, I\\'ve felt like I\\'m someone else \\'Cause I hung my original self from the top bunk with a belt Got pissed off and ripped Pamela Lee\\'s tits off And smacked her so hard I knocked her clothes backwards like Kris Kross I smoke a fat pound of grass and fall on my ass, faster than a fat bitch Who sat down too fast C\\'mere slut! (Shady, wait a minute, that\\'s my girl dog!) I don\\'t give a fuck, God sent me to piss the world off! Hi! My name is (what?) My name is (who?) My name is Slim Shady Hi! My name is (huh?) My name is (what?) My name is Slim Shady Hi! My name is (what?) My name is (who?) My name is Slim Shady Hi! My name is (huh?) My name is (what?) My name is Slim Shady My English teacher wanted to flunk me in Junior High Thanks a lot next semester I\\'ll be thirty five I smacked him in his face with an eraser, Chased him with a stapler Stapled his nuts to a stack of papers (Ow!) Walked in the strip club, had my jacket zipped up Flashed the bartender, then stuck my dick in the tip cup Extraterrestrial, running over pedestrians in a space ship While they screamin\\' at me \"Let\\'s just be friends!\" Ninety-nine percent of my life I was lied to I just found out my mom does more dope than I do (Damn!) I told her I\\'d grow up to be a famous rapper Make a record about doin\\' drugs and name it after her (Oh thank you!) You know you blew up when the women rush your stands Try to touch your hands like some screamin\\' Usher fans (Ahh!) This guy at White Castle asked for my autograph (Dude, can I get your autograph?) So I signed it, \"Dear Dave, thanks for the support, asshole!\" Hi! My name is (huh?) My name is (who?) My name is Slim Shady Hi! My name is (what?) My name is (who?) My name is Slim Shady Hi! My name is (huh?) My name is (who?) My name is Slim Shady Hi! My name is (what?) My name is (who?) My name is Slim Shady Stop the tape! This kid needs to be locked away! (Get him!) Dr. Dre, don\\'t just stand there, operate! I\\'m not ready to leave, it\\'s too scary to die (Fuck that!) I\\'ll have to be carried inside the cemetery and buried alive (Huh yup!) Am I comin\\' or goin\\'? I can barely decide I just drank a fifth of vodka, Dare me to drive? (Go ahead) all my life I was very deprived I ain\\'t had a woman in years, and my palms are too hairy to hide (Whoops!) Clothes ripped like the Incredible Hulk I spit when I talk, I\\'ll fuck anything that walks (C\\'mere) When I was little I used to get so hungry I would throw fits How you gonna breast feed me Mom? You ain\\'t got not tits! I lay awake and strap myself in the bed Put a bulletproof vest on and shoot myself in the head (Bang!) I\\'m steamin\\' mad (Argh!) And by the way when you see my dad? (Yeah?) Tell him that I slit his throat, in this dream I had Hi! My name is (what?) My name is (who?) My name is Slim Shady Hi! My name is (huh?) My name is (what?) My name is Slim Shady Hi! My name is (who?) My name is (huh?) My name is Slim Shady Hi! My name is (huh?) My name is (who?) My name is Slim Shady The way you shake it, I can\\'t believe it I ain\\'t never seen an ass like that The way you move it, you make my pee-pee go Doing, doing, doing I don\\'t believe it, it\\'s almost to good to be true I ain\\'t never seen a ass like that The way you move it, you make my pee-pee go Doing doing doing The way she moves, she\\'s like a belly-dancer She\\'s shaking that ass to the new Nelly jams I think someone\\'s at the door but I don\\'t think I\\'mma answer Police saying \\'freeze!\\': doing, doing, doing What do you mean, \\'freeze\\'? Please, I\\'m a human being! I have needs! I\\'m NOT done, not \\'til I\\'m finished peeing I am not resisting arrest, I am agreeing Mr. Officer! I\\'m already on my knees I can\\'t get on the ground any further, it\\'s impossible for me And do not treat me like a murderer, I just like to pee Pee, pee, yes, I make R&B;, I sing song It go Ring-a-Chong, a-Ching-Chong-Chong-Chong-Ching Psych! I joke, I joke! I keed, I keed! If I offend, I\\'m sorry! Please, please, forgive! For I am Triumph the Puppet Dog, I am a mere puppet I can get away anything I say and you will love it! The way you shake it, I can\\'t believe it I ain\\'t never seen an - ass like that The way you move it, you make my pee-pee go Doing doing doing Jessica Simpson looks oh so tempting Nick, I ain\\'t never seen a ass like that Everytime I see that show on MTV, my pee-pee goes Doing doing doing Mary-Kate and Ashley used to be so wholesome Now they getting older, they\\'re starting to grow bum-bums I go to the movies and sit down with my popcorn Police saying \\'freeze!\\': doing, doing, doing What do you mean, \\'freeze\\'? Geez, I just got my seat! I have ticket, look, I put it away, my zipper\\'s zipped! Please do not remove me from this movie theatre, please I did not even get to see Mary Kate\\'s shower scene I didn\\'t mean to be obscene or make a great big scene And don\\'t treat me like I\\'m Pee Wee Herman, this movie\\'s PG Mr. Officer, I demand to see my attorney I will simple plead innocent, cop a plea, and be free Free, yes free, right back on the streets What you mean my lawyer\\'s with Michael, he\\'s too busy? I am Triumph, Britney Spears has shoulders like a man And I can say that and you\\'ll laugh Cause there\\'s a puppet on my hand The way you shake it, I can\\'t believe it I ain\\'t never seen an - ass like that The way you move it, you make my pee-pee go Doing, doing, doing Hilary Duff is not quite old enough, so I ain\\'t never seen her butt like that Maybe next year, I\\'ll say ass and she\\'ll make my pee-pee go Doing, doing, doing The way she moves, she dances like a go-go In that video, she sings, \"Get out, you bozo I need a new boyfriend!\" Hi, my name is JoJo Police saying \\'freeze!\\': doing, doing, doing What do you mean, \\'freeze\\'? My computers will be seized And my keys, to my ranch, I just bake cookies Mr. Officer, lookie, take a whiff of this Here, I make Jesus juice, take a sip of this Nobody is safe from me! No, not even me I don\\'t even know if I can say the word \\'pee-pee\\' Pee, on the radio but I think I did Janet, is that a breast? I think I just saw a tit! Psych! I joke, I joke, I keed, I keed I don\\'t think my joke is working, I must flee quick! Get to the chopper, everybody get out I am not Triumph, I am Ah-nuld, get dowwwn! The way you shake it, I can\\'t believe it I ain\\'t never seen an - ass like that The way you move it, you make my pee-pee go Doing, doing, doing So Gwen Stefani, will you pee-pee on me please I ain\\'t never seen a - ass like that Cause the way you move it, you make my pee-pee go Doing, doing, doing The fuck is wrong with you? Ha! Ah ah ah ahhh (Oh god damn)(Ooh) I\\'m gonna fackin cum (Oh shit)(oh yeah) Fack fack faack, (Fuck I am) (Ooh) I am, I\\'m going to cum I\\'m cumming (oh yeah) I never seen no shit like this, This bitch can twist like a damn contortionist Condom on my dick of course it is, This bitch don\\'t know what abortion is So I can\\'t cum in her, fucks like a porn star, looks like Jenna, Fack I\\'m gonna, Cum I think my rubbers comin\\' off, But oh its so fuckin\\' wet and soft, Fuck, I\\'m gonna start lettin\\' off I\\'m squirting and she\\'s not gettin\\' off, And she\\'s on top, I\\'m gonna fackin\\', oh god, Oh don\\'t do that, don\\'t, stop Stop, don\\'t, I don\\'t mean don\\'t stop! Ow wait a minute, ow ow fuck I, I\\'m gonna fuckin\\' cam! Ah ah ah ahhh (Oh god damn)(Ooh) I\\'m gonna fackin cum (Oh shit)(oh yeah) Fack fack faack, (Fuck I am) (Ooh) I am, I\\'m going to cum I\\'m cumming (oh yeah) Oh wow, boo that pow, ooh ow I need a cigarette now! Oh I\\'m so fucking hot, and you\\'re so fucking hot, Oh my god, I wanna fackin\\' fack No not fuck, I said fack , F-A-C-K, F-A-C-K, fack, fack fack fackin\\' freak me! Oh yeah girl see baby they call me Mr freaky, Let\\'s call your sister 3-way, have some threesome, me so horny And you\\'re such a fuckin\\' babe I wanna go down on you, fuck you shave! Ohh god damn, here I go again, I\\'m gonna cum I am! Ah ah ah ahhh (Oh god damn)(Ooh) I\\'m gonna fackin cum (Oh shit)(oh yeah) Fack fack faack, (Fuck I am) (Ooh) I am, I\\'m going to cum I\\'m cumming (oh yeah) OK I\\'m done, I already came twice, You ain\\'t gonna make me cam, I\\'m all outta gas, not so fast! uh your finger just went in my ass! Ow that hurts! take it out now Oh wait a minute oww put it back in, in in in This don\\'t mean I\\'m gay, I don\\'t like men I like boobs, boobs, boobs, now see that gerbil, grab that tube, Shove it up my butt, Let that little rascal nibble on my asshole, uhh, Yeah, right there, right there, Ah I\\'m coming ah yeah, Fack, I just came again, okay pull it out now, Oh fuck yeah, wait he\\'s not out he\\'s still crawling around up there, Ow fuck I think it\\'s stuck Oh but it feels so fackin\\' good! Ah ah ah ahhh (Oh god damn)(Ooh) I\\'m gonna fackin cum (Oh shit)(oh yeah) Fack fack faack, (Fuck I am) (Ooh) I am, I\\'m going to cum I\\'m cumming (oh yeah) Shove a gerbil in your ass through a tube Shove a gerbil in your ass through a tube Shove a gerbil in your ass through a tube Shove a gerbil in your ass through a tube Ew ew ew ew Look, if you had one shot, one opportunity To seize everything you ever wanted One moment Would you capture it or just let it slip? Yo His palms are sweaty, knees weak, arms are heavy There\\'s vomit on his sweater already, mom\\'s spaghetti He\\'s nervous, but on the surface he looks calm and ready To drop bombs, but he keeps on forgettin\\' What he wrote down, the whole crowd goes so loud He opens his mouth, but the words won\\'t come out He\\'s chokin\\', how, everybody\\'s jokin\\' now The clocks run out, times up, over, blaow! Snap back to reality, oh there goes gravity Oh, there goes Rabbit, he choked He\\'s so mad, but he won\\'t give up that easy? No He won\\'t have it, he knows his whole back city\\'s ropes It don\\'t matter, He\\'s dope, he knows that, but he\\'s broke He\\'s so stacked that he knows When he goes back to his mobile home, that\\'s when it\\'s Back to the lab again yo, this whole rhapsody He better go capture this moment and hope it don\\'t pass him You better lose yourself in the music, the moment You own it, you better never let it go You only get one shot, do not miss your chance to blow This opportunity comes once in a lifetime You better lose yourself in the music, the moment You own it, you better never let it go You only get one shot, do not miss your chance to blow This opportunity comes once in a lifetime you better The souls escaping, through this hole that it\\'s gaping This world is mine for the taking Make me king, as we move toward a, new world order A normal life is boring, but super stardom\\'s close to post-mortem It only grows harder, only grows hotter He blows us all over, these hoes is all on him Coast to coast shows, he\\'s known as the globetrotter Lonely roads, God only knows He\\'s grown farther from home, he\\'s no father He goes home and barely knows his own daughter But hold your nose \\'cause here goes the cold water His hoes don\\'t want him no mo, he\\'s cold product They moved on to the next schmo who flows He nose dove and sold nada So the soap opera is told and unfolds I suppose it\\'s old partna, but the beat goes on Da da dumb da dumb da da You better lose yourself in the music, the moment You own it, you better never let it go You only get one shot, do not miss your chance to blow This opportunity comes once in a lifetime You better lose yourself in the music, the moment You own it, you better never let it go You only get one shot, do not miss your chance to blow This opportunity comes once in a lifetime you better No more games, I\\'m a change what you call rage Tear this motherfuckin\\' roof off like two dogs caged I was playin\\' in the beginnin\\', the mood all changed I been chewed up and spit out and booed off stage But I kept rhymin\\' and stepwritin\\' the next cipher Best believe somebody\\'s payin\\' the pied piper All the pain inside amplified by the fact That I can\\'t get by with my nine to five And I can\\'t provide the right type of life for my family \\'Cause man, these God damn food stamps don\\'t buy diapers And it\\'s no movie, there\\'s no Mekhi Phifer, this is my life And these times are so hard and it\\'s getting even harder Tryin\\' to feed and water my seed, plus See dishonor caught up between bein\\' a father and a prima donna Baby mama drama screamin\\' on and Too much for me to want to Stay in one spot, another day of monotony Has gotten me to the point, I\\'m like a snail I\\'ve got to formulate a plot fore I end up in jail or shot Success is my only motherfuckin\\' option, failures not Mom, I love you, but this trail has got to go I cannot grow old in Salem\\'s lot So here I go is my shot. Feet fail me not \\'cause maybe the only opportunity that I got You better lose yourself in the music, the moment You own it, you better never let it go You only get one shot, do not miss your chance to blow This opportunity comes once in a lifetime You better lose yourself in the music, the moment You own it, you better never let it go You only get one shot, do not miss your chance to blow This opportunity comes once in a lifetime you better You can do anything you set your mind to, man Whatever Dre just let it run Ey yo turn the beat up a little bit Ey yo this song is for anyone Fuck it just shut up and listen Ey yo I sit back, with this pack, of zigzags And this bag, of this weed It gives me, the shit needed to be, the most meanest MC on this On this earth \\'cause since birth I\\'ve been cursed with this curse to just curse And just blurt this berserk and bizarre shit that works And it sells and it helps in its self to relieve All this tension dispensing me, sentence is getting it The stress has been eating me, recently Off of this chest and I rest to get peacefully But at least have the decency in you to leave me alone When you freaks see me out in the streets When I\\'m eating or feeding my daughter to not come and speak to me I don\\'t know you and no I don\\'t owe you a motherfuckin\\' thing I\\'m not Mr.\\'N Sync and I\\'m not what your friends think I\\'m not Mr.Friendly, I can be a prick, if you tempt me my tank is on empty No patience is in me and if you offend me I\\'m lifting you ten feet In the air, I don\\'t care who was there and who saw me just jaw you Go call you a lawyer File you a lawsuit, I\\'ll smile in the courtroom and buy you a wardrobe I\\'m tired of all you I don\\'t mean to be mean but it\\'s all I can be, it\\'s just me And I am, whatever you say I am If I wasn\\'t, then why would I say I am? In the papers, the news, everyday I am Radio won\\'t even play my jam \\'Cause I am, whatever you say I am If I wasn\\'t, then why would I say I am? In the papers, the news, everyday I am I don\\'t know it\\'s just the way I am Sometimes I just feel like my father, I hate to be bothered With all of this nonsense it\\'s constant, and \"oh it\\'s his lyrical content!\" The song \"Guilty Conscience\" has gotten such rotten responses And all of this controversy circles me and it seems Like the media immediately points a finger at me So I point one back at \\'em, but not the index or the pinky Or the ring or the thumb, it\\'s the one you put up when you don\\'t give a fuck When you won\\'t just put up with the bullshit they pull \\'Cause they full of shit too When a dude\\'s gettin\\' bullied and shoots up his school And they blame it on Marilyn And the heroin, where were the parents at? And look at where it\\'s at Middle America, now it\\'s a tragedy, now it\\'s so sad to see An upper class city having this happening Then attack Eminem \\'cause I rap this way But I\\'m glad \\'cause they feed me the fuel That I need for the fire to burn and it\\'s burnin\\' and I have returned And I am, whatever you say I am If I wasn\\'t, then why would I say I am? In the papers, the news, everyday I am Radio won\\'t even play my jam \\'Cause I am, whatever you say I am If I wasn\\'t, then why would I say I am? In the papers, the news, everyday I am I don\\'t know it\\'s just the way I am I\\'m so sick and tired of being admired That I wish that I would just die or get fired And drop from my label and stop with the fables I\\'m not gonna be able to top on \"My name is\" And pigeon holdin\\' to some poppy sensations They cop me rotation at rock \\'n\\' roll stations And I just do not got the patience To deal with these cocky Caucasians Who think I\\'m some wigga who just tries to be black \\'Cause I talk with an accent and grab on my balls So they always keep asking the same fucking questions What school did I go to, what hood I grew up in, the why, the who, what When and where and the how, \\'til I\\'m grabbing my hair and I\\'m tearing it out You\\'ve been driving me crazy I can\\'t take it, I\\'m racing, I\\'m pacing, I stand and I sit And I\\'m thankful for every fan that I get, but I can\\'t take a shit In the bathroom without someone standing by it No I won\\'t sign your autograph, you can call me an asshole, I\\'m glad \\'Cause I am, whatever you say I am If I wasn\\'t, then why would I say I am? In the papers, the news, everyday I am Radio won\\'t even play my jam \\'Cause I am, whatever you say I am If I wasn\\'t, then why would I say I am? In the papers, the news, everyday I am I don\\'t know it\\'s just the way I am Shady, aftermath There she goes shaking that ass on the floor Bumpin\\' and grindin\\' that pole The way she\\'s grindin\\' that pole, I think I\\'m losing control Get buzzed, get drunk, get crunked, get fucked up Hit the strip club don\\'t forget once get your dick rubbed Get fucked, get sucked, get wasted, shit faceted Pasted, blasted, puke drink up, get a new drink Hit the bathroom sink, throw up Wipe your shoe clean, got a routine Knowin\\' still got a few chunks on your shoestring Knowin\\' I was dehydrated till the beat vibrated I was revibed as soon as this bitch is gyrated And hips and licked them lips and that was it I had to get Nate Dogg and his sing some shit Two to the one from the one to the three I like good pussy and I like good trees Smoke so much weed you wouldn\\'t believe And I get more ass than a toilet seat Three to the one from the one to the three I met a bad bitch last night in the D Let me tell you how I made her leave with me Conversation and Hennessey I\\'ve been to the muthafuckin\\' mountain top Heard muthafuckers talk, seen and dropped If I ain\\'t got a weapon I\\'m a pick up a rock And when I bust yo ass I\\'m a continue to rock Getcha ass of the wall with your two left feet It\\'s real easy just follow the beat Don\\'t let that fine girl pass you by Look real close cause strobe lights lie We \\'bout to have a party (turn the music up) Let\\'s get it started (Go head shake your butt) I\\'m lookin\\' for a girl with a body and a sexy strut Wanna get it poppin\\' baby step right up Some girls they act retarded Some girls are bout it bout it I\\'m lookin\\' for a girl that will do whatever the fuck I say everyday she be givin\\' it up Shake that ass for me, shake that ass for me Come on girl, shake that ass for me, shake that ass for me Oh girl, shake that ass for me, shake that ass for me Come on girl, shake that ass for me, shake that ass for me I\\'m a menace, a dentist, an oral hygienist Open your mouth for about four or five minutes Take a little bit of this fluoride with it Swish but don\\'t spit it, swallow and I\\'ll finish Yeah me and Nate d-o double g Looking for a couple bitches with some double d\\'s Pop a little champagne and a couple E\\'s Slip it in her bubbuly, we finna finna have a party We \\'bout to have a party (turn the music up) Let\\'s get it started (Go head shake your butt) I\\'m lookin\\' for a girl I can fuck in my hummer truck Apple Bottom jeans and a big ol\\' slut Some girls they act retarded Some girls are bout it \\'bout it I want a bitch that sit at the crib with no panties on Knows that she can say no but she won\\'t say no Now look at this lady all in front of me, sexy as can be Tonight I want a slut, will you be mine? I heard you was freaky from a friend of mine Now I hope you don\\'t get mad at me But I told Nate you was a freak He said he wants a slut, hope you don\\'t mind I told him that you like it from behind Now, shake that ass for me, shake that ass for me C\\'mon girl, shake that ass for me, shake that ass for me Oh girl, shake that ass for me, shake that ass for me C\\'mon girl, shake that ass for me, shake that ass for me We bout\\' to have a party (turn the music up) Let\\'s get it started (go ahead shake that butt) I\\'m lookin\\' for a girl with a body and a sexy strut Wanna get it poppin\\' baby step right up Some girls they act retarded Some girls are bout it bout it I\\'m lookin\\' for a girl that will do whatever the fuck I say everyday she be givin\\' it up There she goes, shaking that ass on the floor Bumpin\\' and grindin\\' that pole The way she\\'s grindin\\' that pole I think I\\'m losing control God, come one, I ain\\'t leavin\\' without you bitch You\\'re coming home with me And my boy, And his boy, And his boy, And his girl Ha ha, Nate Dogg My mom loves Valium and lots of drugs That\\'s why I am like I am \\'cause I\\'m like her Because my mom loved Valium and lots of drugs That\\'s why I\\'m on what I\\'m on \\'cause I\\'m my mom My mom, my mom, I know you\\'re probably tired of hearing \\'bout my mom Oho whoa-ho, But this is just a story of when I was just a shorty And how I became hooked on val-i-um. Valium was in everything, food that I ate The water that I drank Fucking peas in my plate She sprinkled just enough of it to season my steak So everyday I have at least three stomach aches Now tell me what kind of mother would want to see her Son grow up to be an under-a-fucking-chiever My teacher didn\\'t think I was going to be nothing either What the fuck you stickin\\' gum up under the fuckin\\' seat for? Misses Mathers your son has been huffin\\' ether Either that or the mother fucker\\'s been puffin\\' reefer But all this huffin\\' and puffin\\' wasn\\'t what it was either It was neither, I was buzzin\\' but it wasn\\'t what she thought Pee in a tea-cup? Bitch you ain\\'t my keeper I\\'m sleepin\\' What the fuck you keep on fuckin\\' with me for? Slut you need to leave me the fuck alone I ain\\'t playin\\' go find you a white crayon And color a fuckin\\' zebra My mom loved Valium and lots of drugs That\\'s why I am like I am \\'cause I\\'m like her Because my mom loved Valium and lots of drugs That\\'s why I\\'m on what I\\'m on \\'cause I\\'m my mom Wait a minute, this ain\\'t dinner, this is paint thinner You ate it yesterday I ain\\'t hear no complaints did I? Now here\\'s a plate full of painkillers Now just wait til I crush the Valium and put it in your potatoes Ya little mother fucker, I\\'ll make ya sit there And make that retarded fuckin\\' face without even tastin\\' it You better lick the fuckin\\' plate, you ain\\'t wastin\\' it Put ya face in it before I throw you in the basement again And I ain\\'t givin\\' in you\\'re gonna Just sit there in one fuckin\\' place spinnin\\' in Until next Thanksgiving\\' And if you still ain\\'t finished it I\\'ll use the same shit again Then when I make spinach dip it\\'ll be placed in the shit You little shit you want to sit there and play innocent A rack fell and hit me at K-Mart and they witnessed it Child support, your father he ain\\'t sent the shit And so what if he did? it\\'s none of your dang business kid. My mom, there\\'s no one else quite like my mom I know I should let bygones be bygones But she\\'s the reason why I am high on what I\\'m high on My mom loved Valium and lots of drugs That\\'s why I am like I am \\'cause I\\'m like her Because my mom loved Valium and lots of drugs That\\'s why I\\'m on what I\\'m on \\'cause I\\'m my mom My mom loved Valium now all I am is a party-animal I am what I am but I\\'m strong to be finished with me Valium spinach But my buzz only lasts about two minutes But I don\\'t want to swallow it without chewing it I can\\'t even write a rhyme without doin\\' it My Valium, my Valium Man I never thought that I could ever be a drug addict Nah fuck that, I can\\'t have it happen to me But that\\'s actually what has ended up happenin\\' A tragedy from fucking passin it up got to me And it\\'s probably were I got acquainted with the taste ain\\'t it Pharmaceuticals are the bomb mom beautiful She killed the fucking dog with the medicine she done fed it Feed it a fucking Aspirin and say that it has a headache Here, want a snack? You hungry you fucking brat? Look at that, it\\'s a Xanax. Take it and take a nap, eat it, But I don\\'t need it. Then fuck it then break it up Take a little piece and beat it before you wake Nathan up Alright ma, you win I don\\'t feel like arguin\\' I\\'ll do it, pop it gobble it and start wobblin\\' Stumble hobble tumble slip drip Then I fall in bed with a bottle of meds And a Heath Ledger bobblehead My mom loved Valium and lots of drugs That\\'s why I am like I am \\'cause I\\'m like her Because my mom loved Valium and lots of drugs That\\'s why I\\'m on what I\\'m on \\'cause I\\'m my mom [Rabbit] Now everybody from the 313 Put your mother fucking hands up and follow me Everybody from the 313 Put your mother fucking hands uplook, look Now while he stands tough Notice that this man did not have his hands up This free world\\'s got you gassed up Now who\\'s afraid of the big bad wolf 1, 2, 3 and to the 4 1Pac, 2Pac, 3Pac, 4 4Pac, 3Pac, 2Pacs, 1 You\\'re Pac, he\\'s Pac, Yo Pac; none This guy aint no mother-fuckin MC, I know everything he\\'s bout to say against me, I am white, I am a fucking bum I do live in a trailer with my mom My boy Future is an Uncle Tom. I do got a dumb friend named Cheddar Bob Who shoots himself in his leg with his own gun, I did get jumped, by all six of you chumps And Wink did fuck my girl I\\'m still standin here screamin \"FUCK THE FREE WORLD!\" Don\\'t never try to judge me dude You don\\'t know what the fuck I\\'ve been through But I know something about you You went to Cranbrook, that\\'s a private school What\\'s the matter dawg, you embarrassed? This guy\\'s a gangster; his real name\\'s Clarence And Clarence lives at home with both parents And Clarence\\'s parents have a real good marriage This guy don\\'t wanna battle, he\\'s shook \\'Cause ain\\'t no such things as half-way crooks\\' He\\'s scared to death, he\\'s scared to look at his fucking yearbook, fuck Cranbrook Fuck a beat, I go a cappella Fuck a Papa Doc, fuck a clock, fuck a trailer, fuck everybody Fuck y\\'all if you doubt me I\\'m a piece of fucking white trash, I say it proudly And fuck this battle, I don\\'t wanna win, I\\'m outtie, Here, tell these people something they don\\'t know about me. These ideas are nightmares to white parents Whose worst fear is a child with dyed hair and who likes earrings Like whatever they say has no bearing It\\'s so scary in a house that allows no swearing To see him walking around with his headphones blaring Alone in his own zone, cold and he don\\'t care He\\'s a problem child, what bothers him all comes out When he talks about his fuckin\\' dad walkin\\' out Cause he hates him so bad that he blocks him out If he ever saw him again, he\\'d probably knock him out His thoughts are whacked, he\\'s mad so he\\'s talkin\\' back Talkin\\' black, brainwashed from rock and rap He sags his pants, do rags and a stocking cap His stepfather hit him so he socked him back And broke his nose, this house is a broken home There\\'s no control, he just let\\'s his emotions go (Come on) Sing with me, (Sing), sing for the years (Sing it) Sing for the laughter, sing for the tears (Come on) Sing it with me, just for today, Maybe tomorrow the good Lord will take you away Entertainment is changing, intertwining\\' with gangsters In the land of the killers, a sinner\\'s mind is a sanctum Holy or unholy, only have one homie Only this gun, lonely, \\'cause don\\'t anyone know me But everybody just feels like they can relate I guess words are a motherfucker, they can be great Or they can degrade, or even worse, they can teach hate It\\'s like these kids hang on every single statement we make Like they worship us, plus all the stores ship us platinum Now how the fuck did this metamorphosis happen? From standin\\' on corners and porches just rappin\\' To havin\\' a fortune, no more kissin\\' ass But then these critics crucify you, journalists try to burn you Fans turn on you, attorneys all want a turn at you To get their hands on every dime you have They want you to lose your mind every time you mad So they can try to make you out to look like a loose canon Any dispute, won\\'t hesitate to produce handguns That\\'s why these prosecutors wanna convict me Strictly just to get me off of these streets quickly But all their kids been listenin\\' to me religiously So I\\'m signing CD\\'s while police fingerprint me They\\'re for the judges daughter, but his grudge is against me If I\\'m such a fuckin\\' menace, this shit doesn\\'t make sense b It\\'s all political, if my music is literal then I\\'m a criminal How the fuck can I raise a little girl? I couldn\\'t, I wouldn\\'t be fit to You\\'re full of shit too, Guerrera, that was a fist that hit you (Come on) Sing with me, (Sing), sing for the years (Sing it) Sing for the laughter, sing for the tears (Come on) Sing it with me, just for today, Maybe tomorrow the good Lord will take you away They say music can alter moods and talk to you Well can it load a gun up for you and cock it too? Well if it can, then the next time you assault a dude Just tell the judge it was my fault, and I\\'ll get sued See what these kids do, is hear about us totin\\' pistols And they want to get one, \\'cus they think the shit\\'s cool Not knowin\\' we\\'re really just protectin\\' ourselves We entertainers, of course the shit\\'s affecting ourselves You ignoramus but music is reflection of self We just explain it, and then we get our checks in the mail It\\'s fucked up ain\\'t it, how we can come from practically nothin\\' To bein\\' able to have any fuckin\\' thing that we wanted That\\'s why we sing for these kids that don\\'t have a thing Except for a dream and a fuckin\\' rap magazine Who post pinup pictures on their walls all day long Idolize they favorite rappers and know all they songs Or for anyone who\\'s ever been through shit in they lives \\'Til they sit and they cry at night, wishing they die \\'Til they throw on a rap record, and they sit and they vibe We\\'re nothing to you, but we\\'re the fuckin\\' shit in their eyes That\\'s why we seize the moment, and try to freeze it and own it Squeeze it and hold it, \\'cause we consider these minutes golden And maybe they\\'ll admit it when we\\'re gone Just let our spirits live on, through our lyrics that you hear in our songs And we can (Come on) Sing with me, (Sing), sing for the years (Sing it) Sing for the laughter, sing for the tears (Come on) Sing it with me, just for today, Maybe tomorrow the good Lord will take you away (Come on) Sing with me, (Sing), sing for the years (Sing it) Sing for the laughter, sing for the tears (Come on) Sing it with me, just for today, Maybe tomorrow the good Lord will take you away {lotto} I\\'ll spit a racial slur honky sew me this shit is a Horror flick but a black guy doesn\\'t die in this movie. fucking with lotto dawg you gotta be kiddin\\' that makes me believe you really don\\'t have an interest in livin\\'. you think these bitches gonna feel the shit you say i got a better chance joining the kkk on some real shit though i like you thats why i didn\\'t wanna have to be the one you commit suicide to fuck lotto call me your leader i feel bad that i gotta murder that dude from leave it to beaver i used to like that show now you got me in fight back mode but oh well if you gotta go then you gotta go i hate to do this i would love for this shit to last so i\\'ll take pictures of my rear end so you wont forget my ass and all\\'s well that ends okay so i\\'ll end this shit with a fuck you and have a nice day {B Rabbit} Ward, I Think you were a little hard on the beaver so was Eddie Hasko, Wally, and Ms. Cleaver This Guy keeps screaming he\\'s paranoid quick someone get his ass another steroid blah badi boo blah bah badi bloo blah I ain\\'t hear a word you said Hipidi hoo bla Is that a tank top or a new bra look snoop dogg just got a fuckin\\' boob job didn\\'t you listen to the last round meat head pay attention, you\\'re sayin the same shit that he said matter fact dogg heres a pencil go home write some shit make it suspensful and don\\'t come back until something dope hits you fuck it you can take the mic home with you looking like a cyclone hit you tank top screaming lotto i dont fit you you see how far these white jokes get you Boy\\'s like how vanilla ice gonna diss you my motto fuck lotto i\\'ll get the seven digits from your mother for a dollar tomorrow(ohhhhhhhhh) Meet Eddie, twenty-three years old Fed up with life and the way things are going, He decides to rob a liquor store (I can\\'t take this no more, I can\\'t take it no more homes) But on his way in, he has a sudden change of heart And suddenly, his conscience comes into play (Shit is mine, I gotta do this, gotta do this) Alright, stop! (Huh?) Now before you walk in the door of this liquor store And try to get money out the drawer You better think of the consequence (But who are you?) I\\'m your motherfuckin\\' conscience That\\'s nonsense! Go in and gaffle the money and run to one of your aunt\\'s cribs And borrow a damn dress, and one of her blonde wigs Tell her you need a place to stay You\\'ll be safe for days if you shave your legs with Renee\\'s razor blade Yeah but if it all goes through like it\\'s supposed to The whole neighborhood knows you and they\\'ll expose you Think about it before you walk in the door first Look at the store clerk, she\\'s older than George Burns Fuck that! Do that shit! Shoot that bitch! Can you afford to blow this shit? Are you that rich? Why you give a fuck if she dies? Are you that bitch? Do you really think she gives a fuck if you have kids? Man, don\\'t do it, it\\'s not worth it to risk it! (You\\'re right!) Not over this shit (Stop!) Drop the biscuit (I will!) Don\\'t even listen to Slim yo, he\\'s bad for you (You know what Dre? I don\\'t like your attitude) (It\\'s alright c\\'mon, just come in here for a minute) (Mm, I don\\'t know!) (Look baby) (Damn!) (Yo, it\\'s gonna be alright, right?) (Well OK) Meet Stan, twenty-one years old. (Give me a kiss!) After meeting a young girl at a rave party, Things start getting hot and heavy in an upstairs bedroom. Once again, his conscience comes into play (Shit!) Now listen to me, while you\\'re kissin\\' her cheek And smearin\\' her lipstick, I slipped this in her drink Now all you gotta do is nibble on this little bitch\\'s earlobe (Yo! This girl\\'s only fifteen years old You shouldn\\'t take advantage of her, that\\'s not fair) Yo, look at her bush, does it got hair? (Uh huh!) Fuck this bitch right here on the spot bare \\'Til she passes out and she forgot how she got there (Man, ain\\'t you ever seen that one movie \"Kid\") No, but I seen the porno with SunDoobiest! (Shit, you wanna get hauled off to jail?) Man fuck that, hit that shit raw dog and bail Meet Grady, a twenty-nine year old construction worker. After coming home from a hard day\\'s work, He walks in the door of his trailer park home To find his wife in bed with another man. (What the fuck!) (Grady!) Alright calm down, relax, start breathin\\' Fuck that shit, you just caught this bitch cheatin\\' While you at work she\\'s with some dude tryin\\' to get off? Fuck slittin\\' her throat, cut this bitches head off! Wait! What if there\\'s an explanation for this shit? (What? She tripped? Fell? Landed on his dick?) Alright Shady, maybe he\\'s right Grady But think about the baby before you get all crazy Okay! Thought about it, still wanna stab her? Grab her by the throat, get your daughter and kidnap her? That\\'s what I did, be smart, don\\'t be a retard You gonna take advice from somebody who slapped Dee Barnes? What you say? (What\\'s wrong? Didn\\'t think I\\'d remember?) I\\'m a kill you motherfucker! Uh-ah! Temper temper! Mr. Dre? Mr. N.W.A.? Mr. AK comin\\' straight outta Compton y\\'all better make way? How in the fuck you gonna tell this man not to be violent? \\'Cause he don\\'t need to go the same route that I went Been there, done that, aw fuck it What am I sayin\\'? Shoot \\'em both Grady, where\\'s your gun at? OK Guess who\\'s back Back again Shady\\'s back Tell a friend Now everyone report to the dance floor To the dance floor, to the dance floor Now everyone report to the dance floor Alright stop Pajama time Come here little kiddies, on my lap Guess who\\'s back with a brand new rap And I don\\'t mean rap As in a new case of child molestation accusation Aah aah aah aah aah No worries, pappa\\'s got a brand new bag of toys What else could I possibly do to make noise I done touched on everything, but little boys And that\\'s not a stab at Micheal That\\'s just a metaphor, I\\'m just psycho I go a little bit crazy sometimes I get a little bit out of control with my rhymes Good god, dip, do a little slide Bend down, touch your toes and just glide Up the center of the dance floor Like T-P for my bung hole and it\\'s cool if you let one go Nobody\\'s gonna know who\\'d hear it Give a little \"poot poot\", it\\'s OK (Fart Sound) Oops my C-D just skipped And everyone just heard you let one rip Now I\\'m gonna make you dance It\\'s your chance Yeah boy shake that ass, Oops I mean girl girl girl girl Now you know you\\'re my world Alright now lose it Aah aah aah aah aah Just lose it Aah aah aah aah aah Go crazy Aah aah aah aah aah Oh baby Aah aah Oh baby baby aah aah It\\'s Friday and it\\'s my day Chance to party all the way to Sunday Maybe till Monday, I dunno what day Everyday\\'s just a holiday Crusin\\' on the freeway Feelin\\' kinda breezy Get the top down, let my hair blow I dunno where I\\'m goin\\' All I know is when I get there Someones gonna touch my body Excuse me miss, I don\\'t mean to sound like a jerk But I\\'m feelin\\' just a little stressed out from work Could you punch me in the stomach and pull my hair Spit on me, maybe gouge my eyes out, yeah Now what\\'s your name girl What\\'s your sign Man, you must be up out your mind Dre aah aah Beer goggles, blind I\\'m just trying to unwind Now I\\'m Now I\\'m gonna make you dance It\\'s your chance Yeah boy shake that ass, Oops I mean girl girl girl girl Now you know you\\'re my world Alright now lose it Aah aah aah aah aah Just lose it Aah aah aah aah aah Go crazy Aah aah aah aah aah Oh baby Aah aah Oh baby baby aah aah It\\'s Tuesday and I\\'m locked up I\\'m in jail and I don\\'t know what happened They say I was running butt naked Down the street screaming Aah aah aah aah aah Your honor I\\'m sorry, I don\\'t remember All I know is this much I\\'m not guilty They said save it boy We got you on tape Telling an old lady to \"touch my body\" Now this is the part where the rap breaks down It gets real intense, no one makes a sound Everything looks like it\\'s 8 Mile now The beat comes back and everybody lose themselves Now step back to reality Look it\\'s B.Rabbit You signed me up to battle? I\\'m a grown man Chuba chuba chuba chuba chuba chuba I don\\'t have any lines to go right here so Duba duba teletubie fella\\'s what? fella\\'s yeah? Grab you left (nut), make right one jealous what? Black girls White girls Skinny girls Fat girls Tall girls Small girls I\\'m calling all girls Everyone report to the dance floor It\\'s your chance for a little romance or Butt squeezing it\\'s the season Just go aah aah aah aah It\\'s so appeasin\\' Now I\\'m gonna make you dance It\\'s your chance Yeah boy shake that ass, Oops I mean girl girl girl girl Now you know you\\'re my world Alright now lose it Aah aah aah aah aah Just lose it Aah aah aah aah aah Go crazy Aah aah aah aah aah Oh baby Aah aah Oh baby baby aah aah Um num num touch my body Um num num touch my body Ooh boy just touch my body I mean girl just touch my body Where\\'s my snare? I have no snare in my headphones there you go Yeah yo, yo Have you ever been hated or discriminated against? I have, I\\'ve been protested and demonstrated against Picket signs for my wicked rhymes, look at the times Sick as the mind of the motherfucking kid that\\'s behind All this commotion emotions run deep as ocean\\'s exploding Tempers flaring from parents just blow \\'em off and keep going Not taking nothing from no one give \\'em hell long as I\\'m breathing Keep kicking ass in the morning and taking names in the evening Leave \\'em with a taste as sour as vinegar in they mouth See they can trigger me, but they\\'ll never figure me out Look at me now, I bet ya probably sick of me now ain\\'t you momma? I\\'mma make you look so ridiculous now I\\'m sorry momma! I never meant to hurt you! I never meant to make you cry, but tonight I\\'m cleaning out my closet (one more time) I said I\\'m sorry momma! I never meant to hurt you! I never meant to make you cry, but tonight I\\'m cleaning out my closet Ha! I got some skeletons in my closet And I don\\'t know if no one knows it So before they thrown me inside my coffin and close it I\\'mma expose it, I\\'ll take you back to \\'73 Before I ever had a multi-platinum selling CD I was a baby, maybe I was just a couple of months My faggot father must have had his panties up in a bunch \\'Cause he split, I wonder if he even kissed me goodbye No I don\\'t. On second thought I just fucking wished he would die I look at Hailie, and I couldn\\'t picture leaving her side Even if I hated Kim, I grit my teeth and I\\'d try To make it work with her at least for Hailie\\'s sake I maybe made some mistakes, but I\\'m only human but I\\'m man enough to face them today What I did was stupid, no doubt it was dumb But the smartest shit I did was take the bullets outta that gun \\'Cause I\\'da killed him, shit I would\\'ve shot Kim and him both It\\'s my life, I\\'d like to welcome y\\'all to \"The Eminem Show\" I\\'m sorry momma! I never meant to hurt you! I never meant to make you cry, but tonight I\\'m cleaning out my closet (one more time) I said I\\'m sorry momma! I never meant to hurt you! I never meant to make you cry, but tonight I\\'m cleaning out my closet Now I would never diss my own momma just to get recognition Take a second to listen for who you think this record is dissing But put yourself in my position, just try to envision Witnessing your momma popping prescription pills in the kitchen Bitching that someone\\'s always going through her purse and shit\\'s missing Going through public housing systems, victim of Munchhausen\\'s Syndrome My whole life I was made to believe I was sick when I wasn\\'t \\'Til I grew up, now I blew up, it makes you sick to ya stomach Doesn\\'t it? Wasn\\'t it the reason you made that CD for me Ma? So you could try to justify the way you treated me Ma? But guess what? You\\'re getting older now and it\\'s cold when you\\'re lonely And Nathan\\'s growing up so quick he\\'s gonna know that you\\'re phony And Hailie\\'s getting so big now, you should see her, she\\'s beautiful But you\\'ll never see her, she won\\'t even be at your funeral! See what hurts me the most is you won\\'t admit you was wrong Bitch do your song, keep telling yourself that you was a mom! But how dare you try to take what you didn\\'t help me to get You selfish bitch, I hope you fucking burn in hell for this shit Remember when Ronnie died and you said you wished it was me? Well guess what, I am dead, dead to you as can be! I\\'m sorry momma! I never meant to hurt you! I never meant to make you cry, but tonight I\\'m cleaning out my closet (one more time) I said I\\'m sorry momma! I never meant to hurt you! I never meant to make you cry, but tonight I\\'m cleaning out my closet Can we pretend that airplanes In the night sky Is like shooting stars I could really use a wish right now (wish right now, wish right now) Can we pretend that airplanes In the night sky Are like shooting stars I could really use a wish right now (wish right now, wish right now) (Dreamin\\', of fallin, dreamin\\', of fallin\\') Let\\'s pretend like its \\'98 Like I\\'m eating lunch off of Styrofoam trays Trying to be the next rapper coming out the A Hoping for a record deal, to re-know my pain Now let\\'s pretend like I\\'m on the stage And when my beat drops everybody goes insane (ok) And everybody know my name (B.o.B) And everywhere I go people wanna hear me sang Oh yea and I just dropped my new album On the first week I did five hundred thousand Gold in the spring and diamond in the fall And then a world tour just to top it all off And let\\'s pretend like they call me the greatest Selling out arenas with big ass stages And everybody loved me and no one ever hated Let\\'s try to use imagination Can we pretend that airplanes In the night sky Is like shooting stars I could really use a wish right now (wish right now, wish right now) Can we pretend that airplanes In the night sky Are like shooting stars I could really use a wish right now (wish right now, wish right now) Okay, let\\'s pretend like this never happened Like I never had dreams of being a rapper Like I didn\\'t write raps in all of my classes Like I never used to runaway into the blackness Now let\\'s pretend like it was all-good Like I didn\\'t live starring in a notebook Like I did the things I probably knew I should But I didn\\'t have neighbors that\\'s why they call it hood Now let\\'s pretend like I ain\\'t got a name Before they ever called me B.o.B or a.k.a Bobby Ray I\\'m talking back before the mixtapes Before the videos and the deals and the fame Before they ever once compared me to Andre Before I ever got Myspace Before they ever noticed my face So let\\'s just pretend and make wishes out of airplanes Can we pretend that airplanes In the night sky Is like shooting stars I could really use a wish right now (wish right now, wish right now) Can we pretend that airplanes In the night sky Are like shooting stars I could really use a wish right now (wish right now, wish right now) (And it seems like yesterday it was just a dream But those days are gone, they\\'re just memories And it seems yesterday it was just a dream But those days are gone) Let\\'s pretend Marshall Mathers never picked up a pen Let\\'s pretend things would\\'ve been no different Pretend he procrastinated, had no motivation Pretend he just made excuses that Was so paper thin they could blow away wit the wind Marshall you never gone make it, Makes no sense to play the game it ain\\'t no way that\\'ll you win Pretend he just stand out side all day and play with his friends Pretend he even had a friend to say was his friend And it wasn\\'t time to move in school no changing again He wasn\\'t socially awkward and just strange as a kid He had a father and his mother wasn\\'t crazy as shit And he never dreamed he can ripped stadiums he just lazy as shit Fuck a talent show in the gymnasium bitch You won\\'t amount to shit quit day dreaming kid You need to get ya cranium check you thinking like an alien It just ain\\'t realistic Now pretend they ain\\'t just make him angry with this shit And there was no one he could even aim when he\\'s pissed with And his alarm went off to wake him but he didn\\'t make it to the rap Olympics He slept through his plane and he missed it He\\'s gonna have a hard time explaining to Haley and Laney these food stamps and W-I-C shit \\'Cause he never risked shit, he hoped and he wished it But it didn\\'t fall in his lap so he ain\\'t even hear it he pretends that Airplanes In the night sky Is like shooting stars I could really use a wish right now (wish right now, wish right now) Can we pretend that airplanes In the night sky Are like shooting stars I could really use a wish right now (wish right now, wish right now) Guess who? You miss me? Jessica Simpson sing the chorus, Jessica Simpson When you walked through the door It was clear to me (clear to me) You\\'re the one they adore, who they came to see (who they came to see) You\\'re a, rock star (baby) Everybody wants you (everybody wants you) Player, who can really blame you (who can really blame you) We\\'re the ones who (chicka) made you Back by popular demand Now pop a little Zantac or ant\\'-acid if you can You\\'re ready to tackle any task that is at hand How does it feel, is it fantastic, is it grand? Well look at all the massive masses in the stands Shady man no don\\'t massacre the fans Damn, I think Kim Kardashians a man She stomped him just cause he asked to put his hands On her massive Gluteus maximus again Squeeze it, then Squish it, then pass it to her friend Can he come back as nasty as he can Yes he can, can, don\\'t ask me this again He does not mean to lesbian offend But Lindsay please come back to seeing men Samantha\\'s a two, you\\'re practically a ten I know you want me girl, in fact I see your grin (Now come in girl) When you walked through the door It was clear to me (clear to me) You\\'re the one they adore, who they came to see (who they came to see) You\\'re a, rock star (baby) Everybody wants you (everybody wants you) Player, who can really blame you (who can really blame you) We\\'re the ones who (chicka) made you The enforcer, looking for more women to torture Walk up to the cutest girl and Charlie Horse her Sorry Portia, but what\\'s Ellen DeGeneres Have that I don\\'t, are you telling me tenderness? Well I can be as gentle and as smooth as a gentleman Give me my Ventolin inhaler and two Excedrin And I\\'ll invite Sarah Palin out to dinner then Nail her, \\'Baby say hello to my little friend\\' Brit forget K-Fed let\\'s cut off the middle man Forget him or your gonna end up in the hospital again And this time it won\\'t be for the Ritalin binge Forget them other men, girl pay them little attention A little did I mention, that Jennifer\\'s in Love with me John Mayer so sit on the bench Man I swear them other guys you give \\'em an inch They take a mile, they got style, but it isn\\'t Slim When you walked through the door It was clear to me (clear to me) You\\'re the one they adore, who they came to see (who they came to see) You\\'re a, rock star (baby) Everybody wants you (everybody wants you) Player, who can really blame you (who can really blame you) We\\'re the ones who made you And that\\'s why, my love, you\\'ll never live without, I know you want me girl cause I can see you checking me out And baby, you know, you know you want me too Don\\'t try to deny it baby, I\\'m the only one for you Damn girl I\\'m beginning to sprout an Alfalfa Why should I wash my filthy mouth out You think that\\'s bad you should hear the rest of my album Never has there been such finesse and nostalgia Man Cash, I don\\'t mean to mess up your gal but Jessica Alba put a breast in my mouth Wowzers, I just made a mess of my trousers And they wonder why I keep dressing like Elvis Lord help us he\\'s back in his pink Alf shirt Looking like someone shrinked his outfit I think he\\'s about to flip Jessica rest assure, Superman\\'s here to rescue ya Can you blame me? You\\'re my Amy, I\\'m your Blake Matter fact bake me a birthday cake With a saw blade in it to make my jail break Baby, I think you just met your soul mate (Now break it down girl) When you walked through the door It was clear to me (clear to me) You\\'re the one they adore, who they came to see (who they came to see) You\\'re a, rock star (baby) Everybody wants you (everybody wants you) Player, who can really blame you (who can really blame you) We\\'re the ones who made you So baby, baby, get down, down, down Baby, get down, down down Baby, get down, down down Baby, get down, get down Baby, get down, down down Baby, get down, down down Baby, get down, down down Baby, get down, get down Oh Amy, Rehab never looked so good, I can\\'t wait, I\\'m going back! Ha ha woo! Dr. Dre, 2020, yeah Ladies and gentlemen The moment you\\'ve all been waiting fo In this corner, weighing a hundred and seventy five pounds With a record of seventeen rapes, four hundred assaults, and four murders The undisputed, most diabolic villain in the world Slim Shady! So crack a bottle, let your body waddle Don\\'t act like a snobby model you just hit the lotto O-oh o-oh, bitches hopping in my Tahoe Got one riding shotgun and no not one of them got clothes Now where\\'s the rubbers? Who\\'s got the rubbers? I noticed there\\'s so many of them And there\\'s really not that many of us Ladies love us, my posse\\'s kicking up dust It\\'s on till the break of dawn And we\\'re starting this party from dusk OK, let\\'s go Back with Andre, the giant, mister elephant tusk Picture us, you\\'ll just be another one bit the dust Just one of my mothers sons who got thrown under the bus Kiss my butt. Lick the wonder cheese from under my nuts It disgusts me to see the game the way that it looks It\\'s a must I redeem my name and haters get mushed Bitches lust. Man they love me when I lay in the cut Fist the cup. The lady gave her eighty some paper cut Now picture us. It\\'s ridiculous you curse at the thought \\'Cause when I spit the verse the shit Gets worse then Worcestershire sauce If I could fit the words as picture perfect, works every time Every verse, every line, as simple as nursery rhymes It\\'s elementary. The elephants have entered the room I venture to say we\\'re the center of attention it\\'s true Not to mention back with a vengeance so here\\'s the signal Of the bat symbol. The platinum trio\\'s back on you hoes So crack a bottle, let your body waddle Don\\'t act like a snobby model you just hit the lotto O-oh o-oh, bitches hopping in my Tahoe Got one riding shotgun and no not one of them got clothes Now where\\'s the rubbers? Who\\'s got the rubbers? I noticed there\\'s so many of them And there\\'s really not that many of us Ladies love us, my posse\\'s kicking up dust It\\'s on till the break of dawn And we\\'re starting this party from dusk Ladies and gentlemen, Dr. Dre They see that low rider go by they\\'re, like Oh my! You ain\\'t got to tell me why you\\'re sick cuz I know why I dip through in that six trey like sick \\'em Dre I\\'m an itch that they can\\'t scratch, they sick of me But hey, what else can I say? I love LA Cause over and above all, it\\'s just another day And this one begins where the last one ends Pick up where we left off and get smashed again I\\'ll be dammed, just fucked around and crashed my Benz Driving around with a smashed front end Let\\'s cash that one in Grab another one from out the stable The Monte Carlo, El Camino or the El Dorado The hell if I know Do I want leather seats or vinyl? Decisions, decisions Garage looks like Precision Collision Or Maaco beats quake like Waco Just keep the bass low speakers away from your face though So crack a bottle, let your body waddle Don\\'t act like a snobby model you just hit the lotto O-oh o-oh, bitches hopping in my Tahoe Got one riding shotgun and no not one of them got clothes Now where\\'s the rubbers? Who\\'s got the rubbers? I noticed there\\'s so many of them And there\\'s really not that many of us Ladies love us, my posse\\'s kicking up dust It\\'s on till the break of dawn And we\\'re starting this party from dusk And I take great pleasure in introducing, 50 Cent! It\\'s bottle after bottle The money ain\\'t a thing when you party with me It\\'s what we into it\\'s simple We ball out of control like you wouldn\\'t believe I\\'m the napalm the bomb the don I\\'m King Kong Get rolled on wrapped up and reigned on I\\'m so calm through Vietnam ring the alarm Bring the Shaun Dawn burn marijuana do what you want Nigga on and on till the break of what Get the paper man I\\'m caking you know I don\\'t give a fuck I spend it like it don\\'t mean nothing Blow it like its supposed to be blown Motherfucker I\\'m grown I stunt I style I flash the shit I gets what the fuck I want so what I trick Fat ass burgundy bags classy shit Jimmy Choo shoes I say move a bitch move So crack a bottle, let your body waddle Don\\'t act like a snobby model you just hit the lotto O-oh o-oh, bitches hopping in my Tahoe Got one riding shotgun and no not one of them got clothes Now where\\'s the rubbers? Who\\'s got the rubbers? I noticed there\\'s so many of them And there\\'s really not that many of us Ladies love us, my posse\\'s kicking up dust It\\'s on till the break of dawn And we\\'re starting this party from dusk Now everybody from the 313 Put your motherfucking hands up and follow me Everybody from the 313 Put your mothefucking hands up Look Look Now while he stands tough Notice that this man did not have his hands up This free worlds got you gassed up Now who\\'s afraid of the big bad wolf 1, 2, 3 and to the 4 1 pac , 2 pac, 3 pac, 4 4 pac, 3 pac, 2 pac, 1 You\\'re pac, he\\'s pac, no pac , none This guy aint no mother-fuckin MC, I know everything he\\'s got to say against me, I am white, I am a fuckin bum, I do live in a trailer with my mom, My boy Future is an Uncle Tom. I do got a dumb friend named Cheddar Bomb who shoots himself in his leg with his own gun, I did get jumped by all 6 of you chumps And Wink did fuck my girl, I\\'m still standin here screamin \"FUCK THE FREE WORLD!\" Don\\'t ever try to judge me dude You don\\'t know what the fuck i\\'ve been through But i know something about you You went to Cranbrook, that\\'s a private school What\\'s the matter dawg? You embarrassed? This guy\\'s a gangster, his real name\\'s Clarence And Clarence lives at home with both parents And Clarence\\'s parents have a real good marriage This guy don\\'t wanna battle, He\\'s shook \\'Cause there no such thing as half-way crooks He\\'s scared to death He\\'s scared to look in his fuckin yearbook, fuck Cranbrook Fuck a beat, i go acapella Fuck a papa doc, fuck a clock, fuck a trailer, fuck everybody Fuck y\\'all if you doubt me I\\'m a piece of fucking white trash, i say it proudly And fuck this battle, I don\\'t wanna win, I\\'m outty, Here, tell this people something they dont know about me. Too late for the other side Caught in a chase Twenty five to life Too late for the other side Caught in a chase Twenty five to life Yeah Too late I cant keep chasing \\'em I\\'m taking my life back Caught in a change Twenty five to life I don\\'t think she understands the sacrifices that I\\'ve made Maybe if this bitch had acted right I would\\'ve stayed But I\\'ve already wasted over half of my life I would\\'ve laid Down and died for you I no longer cried for you No more pain bitch you Took me for granted took my heart and ran it straight into the planet Into the dirt I can no longer stand it Now my respect I demand it I\\'m a take control of this relationship Command it, and I\\'m a be the boss of you now goddammit And what I mean is that I will no longer let you control me So you better hear me out this much you owe me I gave up my life for you, totally devoted to you while I\\'ve stayed Faithful all the way this is how I fucking get repaid Look at how I dress fucking baggy sweats, go to work a mess Always in a rush to get back to you I ain\\'t heard you yet Not even once say you appreciate me I deserve respect I\\'ve done my best to give you nothing less than perfectness And I know that if I end this I\\'ll no longer have nothing left But you keep treating me like a staircase its time to fucking step And I wont be coming back so don\\'t hold your fucking breath You know what you\\'ve done no need to go in depth I told you, you\\'d be sorry if I fucking left I\\'d laugh while you wept Hows it feel now, yeah, funny ain\\'t it, you neglected me Did me a favor although my spirit free you\\'ve said But a special place for you in my heart I have kept Its unfortunate but its Too late for the other side Caught in a chase Twenty five to life Too late for the other side Caught in a chase Twenty five to life I feel like when I bend over backwards for you all you do is laugh Cause that ain\\'t good enough you expect me to fold myself in half Til I snap Don\\'t think I\\'m loyal All I do is rap I can not moonlight on the side I have no life outside of that Don\\'t I give you enough of my time You don\\'t think so do you Jealous when I spend time with the girls Why I\\'m married to you still man I don\\'t know But tonight I\\'m serving you with papers I\\'m divorcing you Go marry someone else and make \\'em famous And take away there freedom like you did to me Treat \\'em like you don\\'t need them and they ain\\'t worthy of you Feed \\'em the same shit you made me eat I\\'m moving on forget you oh, Now I\\'m special? Oh, I didn\\'t feel special when I was with you All I ever felt was this Helplessness Imprisoned by a selfish bitch Chew me up and spit me out I fell for this so many times Its ridiculous And still I stick with this I\\'m sick of this but in my sickness and addiction Your as addictive as they get Evil as they come vindictive as they make \\'em My friends keep asking why I cant just walk away I\\'m addicted To the pain, the stress, the drama I\\'m drown in so I guess I\\'m a mess Cursed and blessed But this time I\\'m a Ain\\'t changing my mind I\\'m climbing out this abyss You screaming as I walk out that I\\'ll be missed But when you spoke to people who meant the most to you You left me off your list Fuck you hip-hop I\\'m leaving you, my life sentence is served bitch And its just Too late for the other side Caught in a chase Twenty five to life Too late for the other side Caught in a chase Twenty five to life Too late Caught in a change Twenty five to life Feels like a close, it\\'s coming to Fuck am I gonna do? It\\'s too late to start over This is the only thing I, thing I know Sometimes I feel like all I ever do is Find different ways to word the same, old song Ever since I came along From the day the song called \\'\\'Hi! My Name Is\\'\\' dropped Started thinking my name was fault \\'Cause anytime things went wrong I was the one who they would blame it on The media made me the equivalent of a modern-day Genghis Khan Tried to argue it was only entertainment, dawg Gangsta? Naw, courageous balls Had to change my style, they said I\\'m way too soft And I sound like AZ and Nas, out came the claws And the fangs been out since then But up until the instant that I\\'ve been against it It was ingrained in me that I wouldn\\'t amount to a shitstain I thought No wonder I had to unlearn everything my brain was taught Do I really belong in this game? I pondered I just wanna play my part, should I make waves or not? So back and forth in my brain the tug of war wages on And I don\\'t wanna seem ungrateful or disrespect the artform I was raised upon But sometimes you gotta take a loss And have people rub it in your face before you get made pissed off And keep pluggin\\', it\\'s your only outlet And your only outfit so you know they gonna talk about it Better find a way to counter it quick and make it, ah Feel like I\\'ve already said this a kabillion eighty times How many times can I say the same thing different ways that rhyme? What I really wanna say is, is there anyone else that can relate to my story? Bet you feel the same way I felt when I was in the same place you are I was afraid to Make a single sound Afraid I will never find a way out, out, out Afraid I never before I didn\\'t wanna go another round An angry man\\'s power will shut you up Trip wires fill this house with tip-toe love Run out of excuses with every word So here I am and I will not run Guts over fear, (The time is here) Guts over fear, (I shall not tear) For all the times I let you push me around And let you keep me down (Now I got) Guts over fear, guts over fear Feels like a close, it\\'s coming to Fuck am I gonna do? It\\'s too late to start over This is the only thing I, thing I know I know what it was like, I was there once, single parents Hate your appearance, did you struggle to find your place in this world? And the pain spawns all the anger on But it wasn\\'t until I put the pain in songs learned who to aim it on That I made a spark, started to spit hard as shit Learned how to harness it while the reins were off And there was a lot of bizarre shit, but the crazy part Was soon as I stopped saying \"I gave a fuck\" Haters started to appreciate my art And it just breaks my heart to look at all the pain I\\'ve caused But what am I gonna do when the rage is gone? And the lights go out in the trailer park? And the window that was closing and there\\'s nowhere else I can go with flows in And I\\'m frozen cause there\\'s no more emotion for me to pull from Just a bunch of playful songs that I made for fun So to the break of dawn here I go recycling the same, old song But I\\'d rather make \"Not Afraid 2\" than making another mothafuckin\\' \"We Made You\" uh Now I don\\'t wanna seem indulgent when I discuss my lows and my highs My demise and my uprise, pray to God I just opened enough eyes later on Gave you the supplies and the tools to hopefully use it to make you strong And enough to lift yourself up when you feel like I felt \\'Cause I can\\'t explain to y\\'all how dang exhausted my legs felt Just having to balance my damn self But on eggshells I was made to walk But thank you, ma, \\'cause that gave me the Strength to cause Shady-mania, so many empty that stadium At least I made it out of that house and a found a place in this world when the day was done So this is for every kid who all\\'s they ever did was dreamt that one day just getting accepted I represent him or her, anyone similar, you are the reason that I made this song Everything you\\'re scared to say don\\'t be afraid to say no more From this day on forward, just let them a-holes talk Take it with a grain of salt and eat their fucking faces off The legend of the angry blonde lives on through you when I\\'m gone And to think I was gone I was afraid to Make a single sound Afraid I will never find a way out, out, out Afraid I never before I didn\\'t wanna go another round An angry man\\'s power will shut you up Trip wires fill this house with tip-toe love Run out of excuses with every word So here I am and I will not run Guts over fear, (The time is here) Guts over fear, (I shall not tear) For all the times I let you push me around And let you keep me down (Now I got) Guts over fear, guts over fear A shimmy shimmy go go motherfuckin\\' pop It\\'s the K-K-Kid Rock with the K-K-Kid Rock shit I\\'m on top bitch and rock for tricks Hella whips and nips and flip trips for whips I get all the money, pussy falls like rain Been gettin\\' laid and paid, that\\'s why I never complain If I ain\\'t in it for the money, I\\'m in it for the P It\\'s 1998 yo and you still can\\'t fuck with me You don\\'t be fuckin\\' with the blue eye Fuckin\\' with my 2-5 up your fuckin\\' ass like my shoe size I got a new vibe, kinda like voodoo You do what we say and we\\'ll do what we wanna do We\\'re fuckin\\' up your city and we\\'re fuckin\\' up your program Fuckin\\' all your bitches, we can fuckin\\' give a goddamn Twisted Brown gets down with no assistance We won\\'t quit until we\\'re banned from existence Persistence pays if that holds true Then I\\'m gonna buy this fuckin\\' planet before the time I\\'m through I was praised and raised on the thoughts of no fakin\\' So I\\'m gonna get what I got coming and the rest I\\'m takin\\' I\\'m shakin\\' like Jerry Lee Lewis and shit You act like a motherfucker\\'s brand new at this shit But I\\'ve been true to this shit givin\\' my heart and soul Been shinin\\' like a diamond but gettin\\' passed as coal So fuck off Shit With my pants half hangin\\' off my ass and shit Bowl filled with hash, pockets stuffed with cash I be the mushroom trippin\\' sippin\\' shots of Jack \\'Cause the kids don\\'t listen gettin\\' lots of flack I be the do wa diddy up and down you block And the 10 Karat Kid with my triggers cockin\\' The K, the I the D R O C K, motherfucker And you still don\\'t know me So blow me bitch, I don\\'t rock for cancer I rock for the cash and the topless dancers Don\\'t have no answers so pass the joint I\\'m just paid in full and made in Detroit I ride like Senna in the Indy 5 And get live with that which gets me high Strive for perfection, this much is true We do what we say, you say what we do Kid Rock, I couldn\\'t be no Bozo And I get to much P to ever be no homo Rock from Soho to Arizona I\\'m an easy rider dreamin\\' of Wynonna I roam the country like a Greyhound bus Put faith in lust, it ain\\'t God I trust I\\'m not Peter Pan, I don\\'t fuck with fairies But I bust more rhymes than virgin cherries And Harry Carey couldn\\'t call my game Fucked so many hoes I\\'m in the hall of fame And I show no shame from coast to coast I don\\'t mean to brag, but I like to boast Fuck off Yeah, right in your motherfuckin\\' ass bitch With that Detroit city shit ain\\'t shit switched we\\'re on the same script Nothing new since \\'76, Kid Rock Yo Slim Shady, come break these motherfuckers off Yo tell the world to hold their breath, they\\'re breathing the wrong air This planet belongs to me and this hippy with long hair Two white boys who spike punch and light joints Hang around drugs, loud music and like noise Slim Shady and Brown Trucker, another bunch of mother fuckers Who hate the world as much as each other And I ain\\'t leaving this party tonight Till I see some naked bitches dancin\\' around, drunk, touchin\\' each other Rum and Pepsi got your perception of me sketchy \\'Cause when I stage dive people are scared to catch me \\'Cause all I do is curse and fuck So when I do \\'shrooms you all better give me two rooms \\'Cause I\\'m fuckin\\' the first one up So when you see me on your block you better lock your cars \\'Cause you know I\\'m losin\\' it when I\\'m rappin\\' to rock guitars This is for children who break rules, people that straight fool And ever single teenager that hates school Fuck off My tea\\'s gone cold I\\'m wondering why I Got out of bed at all The morning rain clouds up my window And I can\\'t see at all And even if I could it\\'ll all be gray Put your picture on my wall It reminds me, that it\\'s not so bad It\\'s not so bad My tea\\'s gone cold I\\'m wondering why I Got out of bed at all The morning rain clouds up my window And I can\\'t see at all And even if I could it\\'ll all be gray Put your picture on my wall It reminds me, that it\\'s not so bad It\\'s not so bad Dear Slim, I wrote you but still ain\\'t callin\\' I left my cell, my pager, and my home phone at the bottom I sent two letters back in autumn, you must not-a got \\'em There probably was a problem at the post office or somethin\\' Sometimes I scribble addresses too sloppy when I jot \\'em But anyways, fuck it, what\\'s been up? Man how\\'s your daughter? My girlfriend\\'s pregnant too, I\\'m bout to be a father If I have a daughter, guess what I\\'m a call her? I\\'m a name her Bonnie I read about your Uncle Ronnie too I\\'m sorry I had a friend kill himself over some bitch who didn\\'t want him I know you probably hear this everyday, but I\\'m your biggest fan I even got the underground shit that you did with Skam I got a room full of your posters and your pictures man I like the shit you did with Rawkus too, that shit was fat Anyways, I hope you get this man, hit me back, Just to chat, truly yours, your biggest fan This is Stan My tea\\'s gone cold I\\'m wondering why I Got out of bed at all The morning rain clouds up my window And I can\\'t see at all And even if I could it\\'ll all be gray Put your picture on my wall It reminds me, that it\\'s not so bad It\\'s not so bad Dear Slim, you still ain\\'t called or wrote, I hope you have a chance I ain\\'t mad, I just think it\\'s fucked up you don\\'t answer fans If you didn\\'t wanna talk to me outside your concert You didn\\'t have to, but you coulda signed an autograph for Matthew That\\'s my little brother man, he\\'s only six years old We waited in the blistering cold for you, For four hours and you just said, \"No.\" That\\'s pretty shitty man, you\\'re like his fuckin\\' idol He wants to be just like you man, he likes you more than I do I ain\\'t that mad though, I just don\\'t like bein\\' lied to Remember when we met in Denver, you said if I\\'d write you you would write back See I\\'m just like you in a way I never knew my father neither He used to always cheat on my mom and beat her I can relate to what you\\'re saying in your songs So when I have a shitty day, I drift away and put \\'em on \\'Cause I don\\'t really got shit else so that shit helps when I\\'m depressed I even got a tattoo of your name across the chest Sometimes I even cut myself to see how much it bleeds It\\'s like adrenaline, the pain is such a sudden rush for me See everything you say is real, and I respect you cause you tell it My girlfriend\\'s jealous \\'cause I talk about you 24/7 But she don\\'t know you like I know you Slim, no one does She don\\'t know what it was like for people like us growin\\' up, you gotta call me man I\\'ll be the biggest fan you\\'ll ever lose Sincerely yours, Stan, P.S. we should be together too My tea\\'s gone cold I\\'m wondering why I Got out of bed at all The morning rain clouds up my window And I can\\'t see at all And even if I could it\\'ll all be gray Put your picture on my wall It reminds me, that it\\'s not so bad It\\'s not so bad Dear Mister \"I\\'m Too Good To Call Or Write My Fans\" This will be the last package I ever send your ass It\\'s been six months and still no word, I don\\'t deserve it? I know you got my last two letters, I wrote the addresses on \\'em perfect So this is my cassette I\\'m sending you, I hope you hear it I\\'m in the car right now, I\\'m doing 90 on the freeway Hey Slim, I drank a fifth of vodka You dare me to drive? You know the song by Phil Collins, \"In the Air of the Night\" About that guy who could a saved that other guy from drowning But didn\\'t, then Phil saw it all, then at a a show he found him? That\\'s kinda how this is, you could a rescued me from drowning Now it\\'s too late, I\\'m on a thousand downers now, I\\'m drowsy And all I wanted was a lousy letter or a call I hope you know I ripped all of your pictures off the wall I love you Slim, we coulda been together, think about it You ruined it now, I hope you can\\'t sleep and you dream about it And when you dream I hope you can\\'t sleep and you scream about it I hope your conscience eats at you and you can\\'t breathe without me See Slim, shut up bitch! I\\'m tryin\\' to talk! Hey Slim, that\\'s my girlfriend screamin\\' in the trunk But I didn\\'t slit her throat, I just tied her up, see I ain\\'t like you \\'Cause if she suffocates she\\'ll suffer more, and then she\\'ll die too Well, gotta go, I\\'m almost at the bridge now Oh shit, I forgot, how am I supposed to send this shit out? My tea\\'s gone cold I\\'m wondering why I Got out of bed at all The morning rain clouds up my window And I can\\'t see at all And even if I could it\\'ll all be gray Put your picture on my wall It reminds me, that it\\'s not so bad It\\'s not so bad Dear Stan, I meant to write you sooner but I just been busy You said your girlfriend\\'s pregnant now, how far along is she? Look, I\\'m really flattered you would call your daughter that And here\\'s an autograph for your brother I wrote it on the Starter cap I\\'m sorry I didn\\'t see you at the show, I must of missed you Don\\'t think I did that shit intentionally just to diss you But what\\'s this shit you said about you like to cut your wrists too? I say that shit just clownin\\' dog, come on, how fucked up is you? You got some issues Stan, I think you need some counseling To help your ass from bouncing off the walls when you get down some And what\\'s this shit about us meant to be together? That type of shit will make me not want us to meet each other I really think you and your girlfriend need each other Or maybe you just need to treat her better I hope you get to read this letter, I just hope it reaches you in time Before you hurt yourself, I think that you\\'ll be doin\\' just fine If you relax a little, I\\'m glad I inspire you but Stan Why are you so mad? Try to understand, that I do want you as a fan I just don\\'t want you to do some crazy shit I seen this one shit on the news a couple weeks ago that made me sick Some dude was drunk and drove his car over a bridge And had his girlfriend in the trunk, and she was pregnant with his kid And in the car they found a tape, but they didn\\'t say who it was to Come to think about, his name was, it was you Damn! Mom I know I let you down And though you say the days are happy Why is the power off, and I\\'m fucked up? And mom, I know he\\'s not around But don\\'t you place the blame on me As you pour yourself another drink and I guess we are who we are Headlights shining in the dark night, I drive on Maybe we took this too far I went in headfirst Never thinking about who what I said hurt, in what verse My mom probably got it the worst The brunt of it, but as stubborn as we are Did I take it too far? Cleaning out my closet and all them other songs But regardless I don\\'t hate you \\'cause ma! You\\'re still beautiful to me, cause you\\'re my mom Though far be it for you to be calling, my house was Vietnam Desert Storm and both of us put together Can form an atomic bomb equivalent to chemical warfare And forever we can drag this on and on But, agree to disagree That gift from me up under the Christmas tree don\\'t mean shit to me You\\'re kicking me out? It\\'s fifteen degrees and it\\'s Christmas Eve (little prick just leave) Ma, let me grab my fucking coat, anything to have each other\\'s goats Why we always at each others throats? Especially when dad, he fucked us both We\\'re in the same fucking boat, you\\'d think that it\\'d make us close (nope) Further away that drove us, but together headlights shine, a car full of belongings Still got a ways to go, back to grandma\\'s house it\\'s straight up the road And I was the man of the house, the oldest, so my shoulders carried the weight of the load Then Nate got taken away by the state at eight years old, and That\\'s when I realized you were sick and it wasn\\'t fixable or changeable And to this day we remained estranged and I hate it though, but I guess we are who we are Headlights shining in the dark night I drive on Maybe we took this too far \\'Cause to this day we remain estranged and I hate it though \\'Cause you ain\\'t even get to witness your grand baby\\'s growth But I\\'m sorry mama for \\'Cleaning Out My Closet\\', at the time I was angry Rightfully maybe so, never meant that far to take it though, \\'cause Now I know it\\'s not your fault, and I\\'m not making jokes That song I no longer play at shows and I cringe every time it\\'s on the radio And I think of Nathan being placed in a home And all the medicine you fed us And how I just wanted you to taste your own, but Now the medications taken over and your mental states deteriorating slow And I\\'m way too old to cry, that shit\\'s painful though But ma, I forgive you, so does Nathan yo All you did, all you said, you did your best to raise us both Foster care, that cross you bare, few may be as heavy as yours But I love you Debbie Mathers, oh what a tangled web we have, \\'cause One thing I never asked was where the fuck my deadbeat dad was Fuck it I guess he had trouble keeping up with every address But I\\'d have flipped every mattress, every rock and desert cactus Own a collection of maps and followed my kids to the edge of the atlas Someone ever moved them from me? That you could bet your ass\\'s If I had to come down the chimney dressed as Santa, kidnap them And although one has met their grandma Once you pulled up in our drive one night as we were leaving to get some hamburgers Me, her and Nate, we introduced you, hugged you And as you left I had this overwhelming sadness come over me As we pulled off to go our separate paths, and I saw your headlights as I looked back And I\\'m mad I didn\\'t get the chance to thank you for being my Mom and my Dad So Mom, please accept this as a tribute I wrote this on the jet I guess I had to get this off my chest, I hope I get the chance to lay it before I\\'m dead The stewardess said to fasten my seat belt, I guess we\\'re crashing So if I\\'m not dreaming, I hope you get this message that I\\'ll always love you from afar \\'Cause you\\'re my mama I guess we are who we are Headlights shining in the dark night I drive on Maybe we took this too far I want a new life One without a cause So I\\'m coming home tonight Well no matter what the cost And if the plane goes down Or if the crew can\\'t wake me up Just know that I was alright And I was not afraid to die Oh even if there\\'s songs to sing My children will carry me Just know that I\\'m alright I was not afraid to die Because I put my faith in my new girl So I never say goodbye cruel world Just know that I\\'m alright I am not afraid to die I guess we are who we are Headlights shining in the dark night I drive on Maybe we took this too far, I want a new life Hi! My name is (what?) My name is (who?) My name is Slim Shady Hi! My name is (huh?) My name is (what?) My name is Slim Shady Hi! My name is (what?) Excuse me, (my name is) (who? My name is) Slim Shady Can I get the attention of the class (huh my name is, what my name is) For one second My name is (My name is Slim Shady) Hi kids! Do you like violence? (Yeah yeah yeah!) Wanna see me stick Nine inch Nails, through each one of my eyelids? (Uh-huh!) Wanna copy me and do exactly like I did? (Yeah yeah!) Try \\'cid and get fucked up worse that my life is? (Huh?) My brain\\'s dead weight, I\\'m tryin\\' to get my head straight But I can\\'t figure out which Spice Girl I want to impregnate (Oh) And Dr. Dre said, \"Slim Shady you a base-head!\" Uh-uh! \"So why\\'s your face red? Man you wasted!\" Well since age twelve, I\\'ve felt like I\\'m someone else \\'Cause I hung my original self from the top bunk with a belt Got pissed off and ripped Pamela Lee\\'s tits off And smacked her so hard I knocked her clothes backwards like Kris Kross I smoke a fat pound of grass and fall on my ass, faster than a fat bitch Who sat down too fast C\\'mere slut! (Shady, wait a minute, that\\'s my girl dog!) I don\\'t give a fuck, God sent me to piss the world off! Hi! My name is (what?) My name is (who?) My name is Slim Shady Hi! My name is (huh?) My name is (what?) My name is Slim Shady Hi! My name is (what?) My name is (who?) My name is Slim Shady Hi! My name is (huh?) My name is (what?) My name is Slim Shady My English teacher wanted to flunk me in Junior High Thanks a lot next semester I\\'ll be thirty five I smacked him in his face with an eraser, Chased him with a stapler Stapled his nuts to a stack of papers (Ow!) Walked in the strip club, had my jacket zipped up Flashed the bartender, then stuck my dick in the tip cup Extraterrestrial, running over pedestrians in a space ship While they screamin\\' at me \"Let\\'s just be friends!\" Ninety-nine percent of my life I was lied to I just found out my mom does more dope than I do (Damn!) I told her I\\'d grow up to be a famous rapper Make a record about doin\\' drugs and name it after her (Oh thank you!) You know you blew up when the women rush your stands Try to touch your hands like some screamin\\' Usher fans (Ahh!) This guy at White Castle asked for my autograph (Dude, can I get your autograph?) So I signed it, \"Dear Dave, thanks for the support, asshole!\" Hi! My name is (huh?) My name is (who?) My name is Slim Shady Hi! My name is (what?) My name is (who?) My name is Slim Shady Hi! My name is (huh?) My name is (who?) My name is Slim Shady Hi! My name is (what?) My name is (who?) My name is Slim Shady Stop the tape! This kid needs to be locked away! (Get him!) Dr. Dre, don\\'t just stand there, operate! I\\'m not ready to leave, it\\'s too scary to die (Fuck that!) I\\'ll have to be carried inside the cemetery and buried alive (Huh yup!) Am I comin\\' or goin\\'? I can barely decide I just drank a fifth of vodka, Dare me to drive? (Go ahead) all my life I was very deprived I ain\\'t had a woman in years, and my palms are too hairy to hide (Whoops!) Clothes ripped like the Incredible Hulk I spit when I talk, I\\'ll fuck anything that walks (C\\'mere) When I was little I used to get so hungry I would throw fits How you gonna breast feed me Mom? You ain\\'t got not tits! I lay awake and strap myself in the bed Put a bulletproof vest on and shoot myself in the head (Bang!) I\\'m steamin\\' mad (Argh!) And by the way when you see my dad? (Yeah?) Tell him that I slit his throat, in this dream I had Hi! My name is (what?) My name is (who?) My name is Slim Shady Hi! My name is (huh?) My name is (what?) My name is Slim Shady Hi! My name is (who?) My name is (huh?) My name is Slim Shady Hi! My name is (huh?) My name is (who?) My name is Slim Shady Tell me where to go, tell me what to do I\\'ll be right there for you Tell me what to say, no matter if it\\'s true I\\'ll say it all for you I used to be the type of kid that would always think the sky is falling Why am I so differently wired? Am I a martian? What kind of twisted experiment am I involved in Because I don\\'t belong in this world That\\'s why I\\'m scoffing at authority, defying often Flying off at the handle with my mom, no dad So I\\'m non complying at home, at school I\\'m just shy and awkward And no I don\\'t need no goddamn psychologist Trynna diagnose why I have all these underlying problems Thinking he can try and solve them I\\'m outside chalking up drawings on the sidewalk And in the front drive talking to myself Either that or inside hiding often to going somewhere quiet Trying not to be noticed because I\\'m crying and sobbing I had a bad day at school so I ain\\'t talking Some cocksucker shoved me into a fucking locker And he said that I eyeballed him And if you fall, I\\'ll get you there I\\'ll be your savior from All the wars that are fought Inside your world Please have faith in my words \\'Cause this is my legacy, legacy, here This is my legacy, legacy, here There\\'s no guarantee, it\\'s not up to me, you can only see This is my legacy, legacy Legacy, legacy I used to be the type of kid that would always think the sky is falling Why am I so differently wired in my nogging? \\'Cause sporadic as my thoughts come, it\\'s mind boggling \\'Cause I obsess on everything and my mind is small shit Bothers me but now my father, he said sayonara and then split But I don\\'t give a shit I\\'m fine as long as There\\'s batteries in my Walkman nothing is the matter with me Shit look at the bright side at least I ain\\'t walking I bike ride through the neighborhood of my apartment Complex on a ten speed which I\\'ve acquired parts that I Found in the garbage, a frame and put tires on it Headphones on, straight ahead and kids tryin to start shit But if this is all there is for me life offers Why bother even try and put up a fight, it\\'s nonsense But I think a light bulb just lit up in my conscience What about those rhymes I\\'ve been jottin\\' They are kinda giving me confidence Instead of tryina escape through my comics, Why don\\'t I just blast a little something like Onyx To put me in the mood to wanna fight and write songs that Say what I wanna say to the kid that said that I eyeballed him Grab hold of my balls like that\\'s right fight\\'s on bitch Who would\\'ve knew from the moment I turned the mic on I could be iconic, and my conquest is Is word to Phife Dawg from a Tribe Called Quest This is my legacy, legacy, here This is my legacy, legacy, here There\\'s no guarantee, it\\'s not up to me, you can only see This is my legacy, legacy Legacy, legacy I used to be the type of kid that would always think the sky is falling Now I think the fact that I\\'m differently wired\\'s awesome \\'Cause if I wasn\\'t I wouldn\\'t be able to work Words like this and connect lines like crosswords And use my enemy\\'s words as strength To try and draw from, and get inspired off em \\'Cause all my life I was told and taught I am not shit By you wack fucking giant sacks of lying dog shit Now you shut up bitch, I am talking Thought I was full of horseshit and now You fucking worship the ground in which I am walking Me against the world so what? I\\'m Brian Dawkins Versus the whole 0 and 16 Lions offense So bring on the Giants Falcons and Miami Dolphins It\\'s the body bag game bitch I\\'m supplying coffins \\'Cause you dicks, butt kiss, a bunch of Brian Baldingers You gon die a ball licker I\\'ve been diabolical With this dialogue since 99 Rawkus You don\\'t respect the legacy I leave behind y\\'all can Suck a dick, the day you beat me pigs\\'ll fly out my ass And a flying saucer full of Italian sausage The most high exalting and I ain\\'t halting Till I die of exhaustion inhale my exhaust fumes The best part about me is I am not you I am me, I\\'m a fire marshall and this is my Legacy, legacy, here This is my legacy, legacy, here There\\'s no guarantee, it\\'s not up to me, you can only see This is my legacy, legacy Legacy, legacy First verse, uh, I\\'m on \\'til I\\'m on a island My life\\'s ridin\\' on the Autobahn on autopilot Before I touch dirt, I\\'ll kill you all with kindness I kill ya, my natural persona\\'s much worse You\\'ve been warned if you\\'ve been born or if you can form Slap up a cop and then snatch him out of his uniform Leave him with his socks, hard bottoms and bloomers on And hang him by his balls from the horn of a unicorn Y\\'all niggers intellect mad slow, y\\'all fags know Claimin\\' you bangin\\', you flamin\\' Bet you could light your own cigarette with ya asshole Me and Shady deaded the past So that basically resurrected my cash flow I might rap tight as the snatch of a fat dyke Though I ain\\'t wrapped tight My blood type\\'s the \\'80s My \\'90s was like the Navy, you was like the Bradys You still fly kites daily Catch me in my Mercedes Bumpin\\' \\'Ice, Ice, Baby\\', screamin\\' Shady \\'til I die Like a half a pair of dice, life\\'s crazy So I live it to the fullest \\'til I\\'m Swayze And you only live it once So I\\'m thinkin\\' \\'bout this nice, nice lady Wait, no, stop me now \\'fore I get on a roll (Damn) Let me tell you What this pretty little dame\\'s name is \\'Cause she\\'s kinda famous And I hope that I don\\'t sound too heinous when I say this Nicki Minaj but I wanna stick (My penis in your anus) You morons think that I\\'m a genius Really I belong inside a dang insane asylum cleanin\\' Try them trailer parks Crazy, I am back and I am razor-sharp, baby And that\\'s back with a capital B with an exclamation mark Maybe you should listen when I flip the linguistics \\'Cause I\\'m on a rip this mystical slick shit You don\\'t wanna become another victim Or statistic of this shit \\'Cause after I spit the bullets I\\'ma treat these shell casin\\'s like a soccer ball I\\'ma kick the ballistics So get this dick, I\\'ma live this I\\'m livin\\' life in the fast lane Movin\\' at the speed of life and I can\\'t slow down Only got a gallon in the gas tank But I\\'m almost at the finish line, so I can\\'t stop now I don\\'t really know where I\\'m headed Just enjoyin\\' the ride Just gon\\' roll \\'til I drop and ride \\'til I die I\\'m livin\\' life in the fast lane (Pedal to the metal) I\\'m livin\\' life in the fast lane (Pedal to the metal) Yeah, my whole goal as a poet\\'s to be relaxed in orbit At war with a bottle, this Captain Morgan attacks my organs (C\\'mon) My slow flow is euphoric, it\\'s like I rap endorphins (Woo) I made a pact with the Devil that says, \"I\\'ll let you take me You let me take this shovel, dig up the corpses Jack Kevorkian\" (C\\'mon) Go \\'back and forth in more beef that you can pack a fork in I\\'m livin\\' the life of the infinite enemy down My tenement, too many now To send my serenity powers Spin \\'em around, enterin\\' in the vicinity Now was called Eminem but he threw away the candy And ate the rapper, chewed him up and spitted him out Girl, giddy-up, now get, get down He\\'s lookin\\' around this club And it looks like people are havin\\' a shit fit now Here, little t-t-trailer trash, take a look who\\'s back in t-t-town Did I s-st-stutter, motherfucker? Fuck the mall He shuts a whole motherfuckin\\' Walmart D-d-down every time he comes a-r-r-round And he came to the club tonight With 5\\'9 [unverified] to hold this bitch down Like a motherfuckin\\' chick underwater He\\'s tryna d-dr-drown Shawty, when you dance You got me captivated Just by the way that you keep lickin\\' \\'em dicks Like her lips I\\'m agitated, aggravated To the point you don\\'t suck my dick Then you\\'re gonna get decapitated Other words, you don\\'t fuckin\\' give me head Then I\\'m have to take it And then after takin\\' that I\\'ma catch a case, it\\'s gon\\' be fascinatin\\' It\\'s gon\\' say \\'The whole rap game passed away\\' On top of the affidavit Graduated from master debater Slash massive masturbator To Michael Jackson activator (Woo) Meanin\\' I\\'m on fire off the top Might wanna back up the data Runnin\\' over hip-hop in a verbal tractor-trailer Homie, this sick, you can normally ask a hater Don\\'t it make sense These shell casin\\'s is just like a bag of paper Drop in the lap of a tax evader (Homie, they spent) Now make that ass drop like a sack of potatoes What, girl, I\\'m the crack-a-lator Brung ya lay to this party, be my penis ejaculator later Tell ya boyfriend That you just struck pay dirt You rollin\\' wit\\' a player You won\\'t be exaggeratin\\' when you sayin\\' I\\'m livin\\' life in the fast lane Movin\\' at the speed of life and I can\\'t slow down Only got a gallon in the gas tank But I\\'m almost at the finish line, so I can\\'t stop now I don\\'t really know where I\\'m headed Just enjoyin\\' the ride Just gon\\' roll \\'til I drop and ride \\'til I die I\\'m livin\\' life in the fast lane (Pedal to the metal) I\\'m livin\\' life in the fast lane (Pedal to the metal) I take a couple uppers I down a couple downers But nothing compares To these blue and yellow purple pills I\\'ve been to mushroom mountain Once or twice but who\\'s countin\\' But nothing compares To these blue and yellow purple pills Cool, calm, just like my mom With a couple of Valium inside her palm It\\'s Mr. Mischief with a trick up his sleeve Crawl up on you like Christopher Reeves I can\\'t describe the vibe I get When I drive by six people And five I hit, ah, shit I started a moshpit, squashed a bitch And stomped the foster kids These shrooms make me hallucinate Then I sweat till I start losing weight Till I see dumb shit start happenin\\' Dumber than Vanilla Ice tryin\\' to rap again So bounce, bounce, c\\'mon, bounce, I said, c\\'mon, bounce Everybody in the house with a half an ounce Not weed, I meant coke, dumbass, sit down We don\\'t bullshit, better ask around D12 throws the bomb to gas your town Bizarre, your mom is passing out Get her ass on the couch before she passes out Fuck that, someone help Denaun He\\'s upstairs naked with a weapon drawn Hey Von, you see me steppin\\' on these leprechauns? It gotta be acid, \\'cos the X is gone Yeah, I took \\'em all down with some parmesian And I think my arm is gone, it\\'s probably numb Young, dumb and fulla cum And I think he \\'bout to swallow his tongue You scary ass it was false alarm You think I\\'m \\'bout to die when I just got on? So stop acting stupid, you so high That you might wake up with a guy On some new shit, I think I did too much This substance equals cuffs Red pills, blue pills and green Big pills, mescaline (That\\'s ill) I take a couple uppers I down a couple downers But nothing compares To these blue and yellow purple pills I\\'ve been to mushroom mountain Once or twice but who\\'s countin\\' But nothing compares To these blue and yellow purple pills Dirty Dozen, eighty of us Shady brothers, ladies love us That\\'s why our baby mothers Love us but they hate each other They probably wanna take each other out And date each other Some, something, something, something Something, something, something, something, I dunno Pop pills, pills I pop Pop two pills, on stilts I walk Snort two lines that were filled with chalk Thought I was incredible and killed the hulk I wanna, roll away like a Rollerblade Until my eyes roll back in my skull for days And when I\\'m old and gray Look for coke to smoke No, oki dok I pack up my nose with coke Am I supposed to choke? Had an accident when the Trojan broke Ah, poor baby Born by whore lady Now I gotta straight born infant (You\\'re crazy) I pop four E\\'s at one time And I don\\'t need water when I\\'m swallowing mine You got any shrooms? Does Bizarre smoke crack? We can\\'t get jobs \\'Cos our arms show tracks Why the hell you niggas think I rap? I do it just to get your company hijacked If you like smack then I might too (Swift, chill) I just wanna get high like you And I don\\'t give a damn if they\\'re white or blue Speed, shrooms, down the Valium Even smoke weed outta vacuums I just got some and I\\'m going back soon I take a couple uppers I down a couple downers But nothing compares To these blue and yellow purple pills I\\'ve been to mushroom mountain Once or twice but who\\'s countin\\' But nothing compares To these blue and yellow purple pills I\\'m at a rave, looking like a slave High off chronic Gin and tonic demonic Body smelt like vomit Pussy poppin\\', acid droppin\\', dope headed guy Heroine mescaline, pencil legs wanna try? Blue pills, golden seals, got Bizarre actin\\' ill Drugs kill, bitch I\\'m for real (Yeah, right) Shut your mouth, you dirty slut You know you want it in your butt I\\'ll put it in your cunt Let Bizarre nut I take a couple uppers I down a couple downers But nothing compares To these blue and yellow purple pills I\\'ve been to mushroom mountain Once or twice but who\\'s countin\\' But nothing compares To these blue and yellow purple pills Dirty Dozen, eighty of us Shady brothers, ladies love us That\\'s why our baby mothers Love us but they hate each other They probably wanna take each other out And date each other Some, something, something, something Something, something, something, something, I dunno Fuck it I can feel the heat rising Everything is on fire Today is a painful reminder of why We can only get brighter The further you put it behind ya But right now I\\'m on the inside Lookin out, cause I\\'m standing in the flames It\\'s a beautiful kind of pain Setting fire to yesterday Find the light, find the light, find the light I\\'m standing in the flames It\\'s a beautiful kind of pain Setting fire to yesterday Find the light, find the light, find the light Yesterday was the tornado warning, today is like the morning after Your world is torn in half, you wake and let\\'s wait to start the morning process Rebuilding and you\\'re still a work in progress Today is a whole new chapter, it\\'s like an enormous ass The thunderstorm has passed ya Your weather didn\\'t poke his eyes out with the thorn bush that you Used to smell the roses, stopped to inhale can\\'t even tell your nose is stuffed So focused on the brightside, then you floor the gas pedal And hit the corner fast, the more asserted Never looking back, may hit the curb But everyday is a new learning curve, as you, steer through life Sometimes you might not wanna swerve But you have to to avert a disaster, lucky, no permanent damage Cause they hurt you so bad, it\\'s like they murdered your ass And threw dirt on your casket, but you returned from the ashes And that hurt that you have, you just converted to gasoline And while you\\'re burning the past, standing at inferno and chant I\\'m standing in the flames It\\'s a beautiful kind of pain Setting fire to yesterday Find the light, find the light, find the light I\\'m standing in the flames It\\'s a beautiful kind of pain Setting fire to yesterday Find the light, find the light, find the light So familiarize with what having to swallow this pill is like It happens all the time, they take your heart and steal your life And it\\'s as though you feel you\\'ve died because you\\'ve been killed inside But yet you\\'re still alive which means you must survive Although today you may weep because you\\'re weak and Everything seems so bleak and hopeless The light that you\\'re seeking, it begins to seep in That\\'s the only thing keepin\\' you from leapin\\' off the motherfreaking deep in And I\\'m pulling for you to push through this feeling And with a little time that should do the healin\\' And by tomorrow you may even feel so good that you\\'re willing To forgive them even after all that shit you been put through This feeling of resilience is building and the flames are burning Quick as fire would through this building, you\\'re sealed in But you\\'re fireproof and retardant you withstood it And as you climb up to the roof you\\'re just chillin\\' and you look down Cause you\\'re so over them you could put the heel of your foot through the ceilin\\' As time passes, things change everyday But wounds, wounds heal But scars still remaining the same But tomorrow today\\'s goin\\' down in flames Throw the match at the passed up place So feel the fire beneath your feet As you barely even perspire from the heat Exhale deep and breathe a sigh of relief And as you say goodbye to the grief It\\'s like watching the walls melt in your prison cell But you\\'ve extinguished this living hell Still a little piece of you dies, you scream I\\'m standing in the flames It\\'s a beautiful kind of pain Setting fire to yesterday Find the light, find the light, find the light I\\'m standing in the flames It\\'s a beautiful kind of pain Setting fire to yesterday Find the light, find the light, find the light Feel the burn, watch the smoke as I turn Rising, a phoenix from the flames With wings I will fly I\\'m standing in the flames It\\'s a beautiful kind of pain Setting fire to yesterday Find the light, find the light, find the light I\\'m standing in the flames It\\'s a beautiful kind of pain Setting fire to yesterday Find the light, find the light, find the light Y\\'all know me, still the same O.G. but I been low-key Hated on by most these niggas with no cheese, no deals and no G\\'s No wheels and no keys, no boats, no snowmobiles, and no skis Mad at me cause I can finally afford to provide my family with groceries Got a crib with a studio and it\\'s all full of tracks to add to the wall Full of plaques, hanging up in the office in back of my house like trophies Did y\\'all think I\\'mma let my dough freeze, ho please You better bow down on both knees, who you think taught you to smoke trees Who you think brought you the oldies Eazy-E\\'s, Ice Cubes, and D.O.C\\'s The Snoop D-O-double-G\\'s And the group that said motherfuck the police Gave you a tape full of dope beats To bump when you stroll through in your hood And when your album sales wasn\\'t doing too good Who\\'s the Doctor they told you to go see Y\\'all better listen up closely, all you niggas that said that I turned pop Or The Firm flopped, y\\'all are the reason that Dre ain\\'t been getting no sleep So fuck y\\'all, all of y\\'all, if y\\'all don\\'t like me, blow me Y\\'all are gonna keep fucking around with me and turn me back to the old me Nowadays everybody wanna talk like they got something to say But nothing comes out when they move their lips Just a bunch of gibberish And motherfuckers act like they forgot about Dre Nowadays everybody wanna talk like they got something to say But nothing comes out when they move their lips Just a bunch of gibberish And motherfuckers act like they forgot about Dre So what do you say to somebody you hate Or anyone tryna bring trouble your way Wanna resolve things in a bloodier way Then just study a tape of N.W.A One day I was walking by With a Walkman on When I caught a guy Give me an awkward eye And I strangled him up in the parking lot With his Karl Kani I don\\'t give a fuck if it\\'s dark or not I\\'m harder than me tryna park a Dodge When I\\'m drunk as fuck Right next to a humongous truck in a two-car garage Hopping out with two broken legs Trying to walk it off Fuck you too bitch, call the cops I\\'mma kill you and them loud-ass motherfucking barking dogs And when the cops came through Me and Dre stood next to a burnt down house With a can full of gas and a hand full of matches And still weren\\'t found out From here on out it\\'s the Chronic II Starting today and tomorrow\\'s anew And I\\'m still loco enough to choke you to death with a Charleston Chew Slim Shady, hotter then a set of twin babies In a Mercedes Benz with the windows up When the temp goes up to the mid-80s Calling men ladies, sorry, Doc, but I been crazy There\\'s no way that you can save me, it\\'s okay, go with him Hailie Nowadays everybody wanna talk like they got something to say But nothing comes out when they move their lips Just a bunch of gibberish And motherfuckers act like they forgot about Dre Nowadays everybody wanna talk like they got something to say But nothing comes out when they move their lips Just a bunch of gibberish And motherfuckers act like they forgot about Dre If it was up to me, you motherfuckers would stop coming up to me With your hands out looking up to me, like you want something free When my last CD was out, you wasn\\'t bumping me But now that I got this little company Everybody wanna come to me like it was some disease But you won\\'t get a crumb from me Cause I\\'m from the streets of Compton I told \\'em all, all them little gangstas Who you think helped mold \\'em all Now you wanna run around talking bout guns like I ain\\'t got none What you think I sold \\'em all, cause I stay well off Now all I get is hate mail all day saying Dre fell off What cause I been in the lab with a pen and a pad Tryin\\' to get this damn label off I ain\\'t havin\\' that, this is the millennium of Aftermath It ain\\'t gonna be nothin\\' after that So give me one more platinum plaque and fuck rap, you can have it back So where\\'s all the Mad Rappers at It\\'s like a jungle in this habitat But all you savage cats Know that I was strapped with gats While you were cuddling a Cabbage Patch Nowadays everybody wanna talk like they got something to say But nothing comes out when they move their lips Just a bunch of gibberish And motherfuckers act like they forgot about Dre Nowadays everybody wanna talk like they got something to say But nothing comes out when they move their lips Just a bunch of gibberish And motherfuckers act like they forgot about Dre Nowadays everybody wanna talk like they got something to say But nothing comes out when they move their lips Just a bunch of gibberish And motherfuckers act like they forgot about Dre Step by step, heart to heart, left right left We all fall down, Step by step, heart to heart, left right left We all fall down like toy soldiers Bit by bit, torn apart We never win but the battle wages on for toy soldiers I\\'m suppose to be the soldier, who never blows his composure Even though I hold the weight of the whole world on my shoulders I ain\\'t never suppose to show it, my crew ain\\'t suppose to know it Even if it means going toe to toe with the Benzino, it don\\'t matter I never drag \\'em in battles that I can handle less I absolutely have to I\\'m suppose to set an example, I need to be the leader My crew looks for me to guide \\'em If some shit ever just pop off I\\'m suppose to be beside \\'em That Ja shit, I tried to squashed it, it was too late to stop it There\\'s a certain line, you just don\\'t cross it, and he crossed it I heard him say Hailie\\'s name on a song and I just lost it It was crazy, this shit went way beyond some Jay Z and Nas shit And even though the battle was won, I feel like we lost it I spent so much energy on it, honestly I\\'m exhausted I\\'m so caught it I almost feel like I\\'m the one who caused it This ain\\'t what I\\'m in Hip Hop for, it\\'s not why I got in it That was never my object for someone to get killed Why would I want to destroy something I helped build It wasn\\'t my intentions, my intentions were good I went through my whole career with out ever mentioning And that\\'s just outta respect, for not running my mouth And talking about something that I knew nothing about Plus Dre told me stay out, just wasn\\'t my beef, So I did I just fell back, watched and gritted my teeth while he\\'s all over TV Now I\\'m talking a man who literally saved my life, like fuck it I understand, this is business and this shit just isn\\'t none of my business But still knowing this shit could pop off at any minute cause Step by step, heart to heart, left right left We all fall down, like toy soldiers Bit by bit, torn apart We never win but the battle wages on for toy soldiers It used to be a time when you could just say a rhyme And wouldn\\'t have to worry about one of your people dying But now it\\'s elevated cause once you put someone\\'s kids in it Shit gets escalated, it ain\\'t just words no more, is it It\\'s a different ball game, call names and you ain\\'t just rapping We actually tried to stop the 50 and Ja beef from happening Me and Dre had sat with him, kicked it and had a chat with him And asked him not to start it, he wasn\\'t gonna go after him Until Ja\\' start yappin\\' in magazines how he stabbed him Fuck \\'em 50, smash him, mash him, and let him have it Meanwhile my intentions pulled me in other directions Some receptionist said the source who answers phones at his desk Has an erection for me and thinks That I\\'ll be his resurrection Tries to blow the dust of his mic and make a new record But now he\\'s fucked the game up cause one of the ways I came up Was through that publication, the same one that made me famous Now the owner of it got a grudge against me for nothing but fuck it That motherfucker can get it too, fuck \\'em then But I\\'m so busy being pissed off, I don\\'t stop to think That we just inherited 50\\'s beef with Murder Inc And he\\'s inherited mine, which is fine, ain\\'t like either of us mind We still have soldiers that\\'s on the front line that\\'s willing to die for us As soon as we give the orders, never to extort us Strictly to show they support us Maybe shout \\'em out in a rap or up in a chorus to show we love \\'em back And to let \\'em know how important it is to have Runyon Avenue soldiers up in our corners Their loyalty to us is worth more then any award is But I ain\\'t trying to have none of my people hurt or murdered It ain\\'t worth it, I can\\'t think of a perfecter way to word it Then to just say that I love y\\'all too much to see the verdict I\\'ll walk away from it all before I\\'ll let it go any further But don\\'t get it twisted, it\\'s not a plea that I\\'m coping I\\'m just willing to be the bigger man If y\\'all can quit popping off at the jaws with the knocking \\'Cause frankly I\\'m sick of talking I\\'m not gonna let someone else\\'s coffin rest on my conscience \\'cause Step by step, heart to heart, left right left We all fall down, like toy soldiers Bit by bit, torn apart We never win but the battle wages on for toy soldiers Lickilty Split freestyle: Check this out, Check this out, yo This guy\\'s a choke artist You catch the bad one Your better off shooting yourself with Papa Doc\\'s handgun Climbin up this mountain your weak I leave you lost without a paddle floatin shits creek You ain\\'t Detroit, I\\'m the D, u the new kid on the block bout to get smacked back to the boon docks Fuckin Nazi this squad ain\\'t your type take sum real advice and form a group with Vanilla Ice And what i tell ya you better use it This guys a hillbilly this ain\\'t Willie Nelson music Trailer trash i choke u to your last breath and have you lookin foolish like Chedder Bob when he shot himself Silly rabbit i know why they call you dat like you follow future Like he got carrots up his ass-crack And when you acted up thats when u got jacked up Acting stupid like Tina Turner when she got smacked up I crack your shoulder-blades You\\'ll get dropped so hard that Elvis will start turnin in his grave I don\\'t know why they let you out in the dark You need to take your white ass back across 8 mile to the trailer park (crowd cheers)--- WOOOO Eminem (rabbit) freestlyes: This guy raps like his parents jerked him He sounds like Eric Sermon, the generic version This whole crowd looks suspicious its all dudes in here Except for these bitches So i\\'m a german eh? Thats ok you look like a fucking worm with braids These leaders of the free world rookies lookie how can six dicks be pussies? talkin about shit\\'s creek bitch you can be up piss creek with paddles this deep your still gonna sink Your a disgrace yeah they call me rabbit this is the turtle race He can\\'t get with me spitting this shit wickitly lickity shot a spick-a-spickety splyt lickety So i\\'m gonna turn with a great smile And walk my white ass back across 8 Mile My heart is telling me to be different its about time for me to move on swallow everything, that i learned i\\'m at a point of no return no return no return no return no return no return no return no return I\\'m at a point of no return. Man, it feels like these walls are closin\\' in This roof is cavin\\' in Uh, it\\'s time to raise it, then Your tasin\\' them with like pages in My book of rhymes got \\'em cookin\\' Boy, this crooked mind of mine got \\'em all shook And scared to look in my eyes I stole that fuckin\\' clock, I took the time and I Came up from behind and pretty much snuck up And butt fucked this game up Better be careful when you bring my name up Fuck this fame, that ain\\'t what I came to claim but the game ain\\'t Gonna be the same on the day that I leave it But I swear one way or another I\\'ma make these fuckin\\' haters believe that I swear to God, won\\'t spare the rod I\\'m a man of my word so your fuckin\\' heads better nod Or I\\'ma fuck around in this bitch and roast everybody Sleep on me, that pillow is where your head\\'ll lie Permanently, bitch, it\\'s beddy bye This world is my Easter egg, yeah, prepare to die My head is swollen, my confidence is up This stage is my pedestal, I\\'m unstoppable, incredible Hope you\\'re trapped in my medicine ball I could run circles around you so fast Your fuckin\\' head\\'ll spin, dog I split your cabbage and your lettuce and olives, I\\'ll fuckin\\' My heart is telling me to be different its about time for me to move on swallow everything, that i learned i\\'m at a point of no return no return no return no return no return no return no return no return i\\'m at a point of no return. One thing bout music when it hits you feel no pain and i swear i got this shit that makes these bitches go insane so they tell me that they love me i know better than that it\\'s just game it\\'s just what comes from fame and i\\'m ready for that i\\'m just saying i really can\\'t complain, everything is kosher two thumbs up, ebert and roeper i really can\\'t see the end getting any closer but i\\'ll probably still be the man when everything is over so i\\'m riding through the city with my high beams on can you see me can you see me get your visine on y\\'all just do not fit the picture turn your wide screen on if you thinking i\\'m gonna quit before i die dream on man they treat me like a legend am i really this cold i\\'m really too young to be feeling this old it\\'s about time you admit it who you kidding man nobody\\'s ever done it like i did it my heart is telling me to be different its about time for me to move on swallow everything, that i learned i\\'m at a point of no return no return no return no return no return no return no return no return i\\'m at a point of no return. I\\'m hot motherfucker, get a plate bitch don\\'t say shit, get your face lift rozay bitch let the champagne drip niggas swag jack, but this l.a. shit get it back, give it back ain\\'t \\'bout shit snap back them ain\\'t even rare where the tag a what wack ass all up in my ear bitch bag back i bag bad bitches motherfucker kat stacks yellow nigga, no cabs got the phantom out, no mats get your camera out uh, one flash hot beams steady shot clap your ass aw, t. raw i\\'m so uh loc\\'s on, chucks low, black beanie dog patron top wash straight from the liquor store i\\'m turned up i can\\'t feel my face so My heart is telling me to be different its about time for me to move on swallow everything, that i learned i\\'m at a point of no return no return no return no return no return no return no return no return i\\'m at a point of no return. Yea, (oh, oh), yea yea, oh I feel like dancing I feel like dancing I smell something in the air that\\'s making me (high) I said I smell something in the air that\\'s making me high Ok here we go, do-re-mi-fa-so, I\\'m so la-di-da so Lyrical rise flow, give back the tobasco You motherfuckers mustsanot know the tic tac songs Time to show you the mo kick ass flow in the cosmos Picasso with a pick axe a sick asshole She tac toe frozen six pack with exacto Knives, strangling wives with pig lasso Few bags of the the grass, zig zags, I\\'m with the doc so You know how that go, skull and the crossbones This is poison, the boys and girls who do not know You do not want to try this at home my novato (novice) This is niether the time or the place to get macho So crack a six pack, sit back with some nachos Maybe some popcorn, and watch the show and just rock slow It\\'s not what you expected, tho what you thought though Bout time to you wake the fuck up smell the pot smoke It must be the ganja It\\'s the marijuana That\\'s creeping upon me while I\\'m so high Maybe it\\'s the hindi that has gotten in me Whatever\\'s gotten into me I don\\'t mind It must be the ganja It\\'s the marijuana That\\'s creeping upon me while I\\'m so high Maybe it\\'s the hindi that has gotten in me Whatever\\'s got into me I don\\'t mind Your dreams of getting the pill, you are literally getting the chills Spitting at will, me and Dre have just finished splitting a pill You\\'re submitting to skill, sitting still, I\\'m admitting, I\\'m beginning to feel Like I don\\'t think anyone\\'s real, Faced with a dilemma, I can be Dali Llama and become a bin gramma a step beyond a Jeffrey Dahmer Please don\\'t upset me mama, you lookin sexy mama, Don\\'t know if this the lala or the rum and pepsi mama Don\\'t want to end up inside my refrigerator freezer, Be used as extra topping the next time I make a pizza How many people you know can name every serial killer who ever existed in a row, Put em in chronological order beginning with Jack the Ripper, Name the time and place from the body the bag the zipper, Location of the woods where the body was dragged and then dumped, The trunk that they were stuffed in, the model the make the plate And which motel which lake they found her in, And how they attacked the victim, Say which murder weapon was used to do what and which one, Which night it was done, what kid would write there was none, So sloppy like this it\\'s fun, the fuckin ecstasy goes It must be the ganja It\\'s the marijuana That\\'s creeping upon me while I\\'m so high Maybe it\\'s the hindi that has gotten in me Whatever\\'s gotten into me I don\\'t mind When I\\'m behind a mic dynamite is what it\\'s kinda like Get stuck with that same stick that you\\'re trying to light Behind the boards is Dre, legends are made this way Isn\\'t it safe to say, this is the way it should be? Maybe you need some lyric syrup sign for your symptoms Heres a dosage of the antidote now you give him some, He can give her some, she can give him some Get behind a lynn drum, make up a beat and kill the sucka syndrome You\\'re spitting drama when it comes to lyrics and penance I\\'m Starting from scratch and then ending up at the end ending up Capable of bringing a bullets a stillunbelievable bullets a Titanium brain that\\'s full of, surprises When the smoke rises right before your very own eyes You stare into your stereos eyes Good evening, this ain\\'t even a weed thing, I ain\\'t even smoke anything, I ain\\'t even drink anything It must be the ganja It\\'s the marijuana That\\'s creeping upon me while I\\'m so high Maybe it\\'s the hindi that has gotten in me Whatever\\'s gotten into me I don\\'t mind Now this shit\\'s about to kick off, this party looks wack Let\\'s take it back to straight hip-hop and start it from scratch I\\'m \\'bout to bloody this track up, everybody get back That\\'s why my pen needs a pad cause my rhymes on the ra-hag Just like I did with addiction I\\'m \\'bout to kick it Like a magician, critics I turn to crickets Got \\'em still on the fence ready to pick it But quick get impaled when I tell \\'em stick it So sick I\\'m looking pale, well that\\'s my pigment \\'Bout to go ham, ya bish, shout out to Kendrick Let\\'s bring it back to that vintage Slim, bitch! The art of the MCing mixed with da Vinci and MC Ren And I don\\'t mean Stimpy\\'s friend, bitch Been public enemy since you thought PE was gym, bitch Take your shoes off, let your hair down and (Go berzerk) all night long Grow your beard out, just weird out and (Go berzerk) all night long We\\'re gonna rock this house until we knock it down So turn the volume loud, cause it\\'s mayhem \\'til the a.m. So baby make just like K-Fed and let yourself go, let yourself go Say fuck it before we kick the bucket Life\\'s too short to not go for broke So everybody, everybody (Go berzerk) shake your body Guess it\\'s just the way that I\\'m dressed, ain\\'t it? Khakis pressed, Nike shoes crispy and fresh laced So I guess it ain\\'t That aftershave or cologne that made them just faint Plus I just showed up with a coat fresher than wet paint So if love is a chess game, check mate But girl your body\\'s banging, jump me in, gang bang bang Yessiree Bob I was thinking the same thing So come get on this Kid\\'s rock, baw-wit-da-baw dang-dang P-p-p pow-pow chicka-chicka wow-wow Catch a cab, I wanna go down b-b-bow, bow Slow it down, throw in the towel, t-t-towel tow Dumb it down, I don\\'t know how (Huh-huh) how-how At least I know that I don\\'t know Question is are you bozos smart enough to feel stupid Hope so, now ho Take your shoes off, let your hair down and (Go berserk) all night long Grow your beard out, just weird out and (Go berserk) all night long We\\'re gonna rock this house until we knock it down So turn the volume loud, cause it\\'s mayhem \\'til the a.m. So crank the bass up like crazy and let yourself go, let yourself go Say fuck it before we kick the bucket Life\\'s too short to not go for broke So everybody, everybody (Go berzerk) get your vials They say that love is powerful as cough syrup and Styrofoam All I know is I fell asleep and woke up in that Monte Carlo With the ugly Kardashian Lamar, oh sorry yo, we done both set the bar low Bars hard, drugs hard thought that\\'s the past But I done did enough codeine to knock Future into tomorrow And girl I ain\\'t got no money to borrow But I am tryin\\' to find a way to get you alone, car note! Oh, Marshall Mathers shouldn\\'t everybody know Get the bar soap lathered, kangols and Carhartt, these Cargos Girl you\\'re fixin\\' to get your heart broke, don\\'t be absurd man You bird brained baby I ain\\'t called anybody baby since Birdman Unless you\\'re a swallow Word, w-word man you heard, but don\\'t be discouraged girl This is your jam, unless you got toe jam Take your shoes off, let your hair down and (Go berzerk) all night long Grow your beard out, just weird out and (Go berzerk) all night long We\\'re gonna rock this house until we knock it down So turn the volume loud, cause it\\'s mayhem \\'til the a.m. So baby make just like K-Fed and let yourself go, let yourself go Say fuck it before we kick the bucket Life\\'s too short to not go for broke So everybody, everybody (Go berzerk) get your vials We\\'re gonna rock this house until we knock it down So turn the volume loud, cause it\\'s mayhem \\'til the a.m. So crank the bass up like crazy and let yourself go, let yourself go Say fuck it before we kick the bucket Life\\'s too short to not go for broke So everybody, everybody (Go berzerk) get your vials Hey Em, you know you my favorite white boy right? I owe you for this one I\\'ve been patiently waiting for a track to explode on You can stun if you want and your ass will get rolled on It feels like my flows been hot for so long If you thinking I\\'m fucking fall off your so wrong Innocent in my head, like a baby born dead Destination heaven, sit and politic with passengers from nine eleven The lords blessings leave me lyrically inclined Shit I ain\\'t even gotta try to shine God\\'s the seamstress that tailor fitted my pain I got scriptures in my brain I could spit at your dame Straight out the good book, look, niggas is shook 50 fears no man, warrior swing swords like Conan Picture me pen in hand write lines knowing the source\\'ll quote it When I die, they\\'ll read this and say a genius wrote it I grew up without my pops should that make me bitter? I caught cases I copped out does that make me a quitter? In this white man\\'s world I\\'m similar to a squirrel Lookin for a slut with a nice butt to get a nut If I get shot today my phone will stop ringing again These industry niggaz ain\\'t friends, they know how to pretend Patiently waiting to make it through all the hating Debating whether or not you could even weather the storm. Just lay on the table they operating to save you Its like an angel came to you sent from the heavens above They think they\\'re crazy but they ain\\'t crazy lets face it, shit basically They just playing sick, they ain\\'t shit They ain\\'t saying shit, spray \\'em Fifty A to the K, get in the way I\\'ll bring Dre and them wit me And turn this day into fucking mayhem you staying with me? Don\\'t let me lose you, I\\'m not trying to confuse you When I let loose with this Uzi and just shoot through your Isuzu You get the message am I getting through to you? You know whats coming you motherfuckers don\\'t even know do you? Take some Big and some Pac and you mix them up in a pot Sprinkle a little Big L on top, and what the fuck do you got? You got the realest and illest killers tied up in a knot The Juggernauts of this rap shit like it or not Its like a fight to the top just to see who died for the spot You put your life in this, nothing like surviving the shot Y\\'all know what time it is as soon as Fifty signs on this dot Shit what you know about death threats, \\'cause I get a lot Shady Records was eighty seconds away from the towers Some cowards fucked with the wrong building they meant to hit ours Better evacuate all children - nuclear shower There\\'s nothing spookier, you\\'re now about to witness the power of fuckin Fifty I\\'ve been patiently waiting for a track to explode on You can stun if you want and your ass will get rolled on It feels like my flows been hot for so long If you thinking I\\'m fucking fall off your so wrong I\\'ve been patiently waiting for a track to explode on You can stun if you want and your ass will get rolled on It feels like my flows been hot for so long If you thinking I\\'m fucking fall off your so wrong The guns spark when the shots go off Its fifty, they say its Fifty See a nigga laid out with his fucking top blown off Its fifty, man that wasn\\'t Fifty, they don\\'t holla my name You shouldn\\'t throw stones if you live in a glass house And if you got a glass jaw, you should watch your mouth Cause I\\'ll break your face, have your ass running Mumbling to the Jake, you going against me dog you making a mistake Ill split you have you looking like the Michael Jackson\\'s jackets with all them zippers I\\'m the boss on this boat, you can call me skipper The way I turn the money over you should call me flipper Your bitch, a regular bitch, you calling her wifey I fucked her, I feed her fast food, you keeping her icy I\\'m down to sell records but not my soul Snoop said this in 94\\' \"We don\\'t love them hoes\" I got pennies for my thoughts, now I\\'m rich See the twenty\\'s spinning looking mean on the six Niggas wearing flags, \\'cause the colors match they clothes They get caught in the wrong hood and get filled up with holes (motherfucker). I\\'ve been patiently waiting for a track to explode on You can stun if you want and your ass will get rolled on It feels like my flows been hot for so long If you thinking I\\'m fucking fall off your so wrong I\\'ve been patiently waiting for a track to explode on You can stun if you want and your ass will get rolled on It feels like my flows been hot for so long If you thinking I\\'m fucking fall off your so wrong Its fifty Shady! Yeah Who run it? You know, you actin\\' like you don\\'t know We run it, you do know but you actin\\' like you don\\'t know Who run it? You know, you actin\\' like you don\\'t know We run it, you do know but you actin\\' like you don\\'t know You know, you actin\\' like you don\\'t know I tear the club up fo\\' sho This flow is gon\\' bring more dough You do know but actin\\' like you don\\'t know Now homie I say I run (it run) it \\'cause I\\'m in control Hypnotic, Hennessey, a couple shots of Patron I have you feelin\\' aight, I get you high as a kite Party poppin\\' shorty said she\\'s comin\\' with me tonight I ain\\'t shoulder leanin\\', I ain\\'t snappin\\' and poppin\\' Either I\\'m bobbin\\' my head or I\\'m just standin\\' there watchin\\' I\\'m a hustler, I hustle, you can tell that I\\'m paid And I protect what I got, I\\'m in the house with my blade Nigga you front you gon\\' get it, ok now maybe I said it \\'cause I want you triddip, yeah I be on that shiddit You should see when I\\'m stuntin\\' I flash the stones that be wantin\\' Push the whip see me rollin\\', you can tell that I\\'m holdin\\' I\\'m just doin\\' my thang, you know The Units the game I got my grimy Shady with me You front you\\'ll have to get me off your ass I pay the lawsuit and laugh, it\\'s not a big deal It\\'s nuttin\\' but some cash You know, you actin\\' like you don\\'t know I tear the club up fo\\' sho This flow is gon\\' bring more dough You do know but actin\\' like you don\\'t know You know, you actin\\' like you don\\'t know I tear the club up fo\\' sho This flow is gon\\' bring more dough You do know but actin\\' like you don\\'t know When me and Fif\\' got together to do this music then move it We became enveloped we just developed a fellowship through it It\\'s no pretend shit, it\\'s friendship, me nemisis is su nemisis The same for him, it\\'s just media, see to them it\\'s just images But this shit is no gimmicks, this is blood in and blood out When it\\'s beef you just gotta know when to butt in and butt out If there\\'s a problem we solve it, if we don\\'t resolve it It usually just evolves into one big brawl and we all get involved in it We should all get a merit, this much beef we inherit And wear it like a badge with honour, pass it around and share it And let it go to whoevers holdin\\' the most current beef on their shoulders And their soldiers got their backs till it\\'s over But tonight, we ain\\'t comin\\' here to beef with nobody We came to party, Banks, Cashis and Mr. Ferrari So it\\'s Shady After-mizz-ath back in that ass, you izz-ass Come hizzon what kinda fizz-uckin\\' position is that You know, you actin\\' like you don\\'t know I tear the club up fo\\' sho This flow is gon\\' bring more dough You do know but actin\\' like you don\\'t know You know, you actin\\' like you don\\'t know I tear the club up fo\\' sho This flow is gon\\' bring more dough You do know but actin\\' like you don\\'t know Pistol play, ricochet, see where the victim lay Slumped over bleedin\\', JFK HK to your chest plate Cave out and ride till the death, do you rep that way? Forever I\\'m a be a Shady 7-4 Gangster Plus I survived everything you got in that chamber I thrived off of danger, jumpin\\' in all beef You keep talkin\\' shit, now the squad called me Enough holdin\\' back the steam, Em let off a magazine Dappadon Cappa-queens, mixed in with Cashis creams Started off with half a dream, developed into what you see Tellin\\' ain\\'t my cup of tea, can\\'t tell I\\'m a fuckin\\'\\' G I\\'m a hold a \\'matic, when I\\'m at it, start static and you splattered Shit shattered, I\\'m a walkin\\' bitch magnet Spit it how I live it, live it all the way to the limit And I\\'m always on my pivot for my digits, you dig it You know, you actin\\' like you don\\'t know I tear the club up fo\\' sho This flow is gon\\' bring more dough You do know but actin\\' like you don\\'t know You know, you actin\\' like you don\\'t know I tear the club up fo\\' sho This flow is gon\\' bring more dough You do know but actin\\' like you don\\'t know You know what this is Shady, G-Unit, Aftermath, Lloyd Banks, Cashis, Marshall Mathers, Ferrari F-50, It\\'s a movement, you can\\'t stop it Talk of Tony Yayo, go [Chorus] can we pretend that airplanes in the night sky are like shooting stars i could really use a wish right now, wish right now, wish right now can we pretend that airplanes in the night sky are like shooting stars i could really use a wish right now, wish right now, wish right now and it seems like yesterday it was just a dream but those days are gone they\\'re just memories and it seems like yesterday it was just a dream but those days are gone [EMINEM] Alright, lets pretend, marshall mathers never picked up a pen lets pretend, things woulda been no different pretend he procrastinated and had no motivation pretend he just made excuses that were so paper thin they could blow away with the wind marshall youre never gonna make it makes no sense to play the game there aint no way that you\\'ll win pretend he\\'d just stay outside all day and play with his friends pretend he even had a friend to say was his friend and it wasnt time to move and schools werent changing again he wasnt socially akward and just strange as a kid he had a father and his mother wasnt crazy as shit and he never dreamed he could rip stadiums and just lazy as shit fuck a talent show in the gymnasium, bitch you wont amount to shit, quit day dreaming, kid you need to get your cranium checked you\\'re thinking like an alien, it just aint realistic now pretend things just make him angry with this shit and there was no one he could even aim when he\\'s pissed and his alarm went off to wake him but he didnt make it to the rap olympics left to his plane and he missed it he\\'s gonna have a hard time explaining to hailey and lainey these food stamps and this weak shit cause he never risked shit, he hoped and he wished it but it didnt fall on his lap so he aint even here he pretends that .. [Chorus] can we pretend that airplanes in the night sky are like shooting stars i could really use a wish right now, wish right now, wish right now can we pretend that airplanes in the night sky are like shooting stars i could really use a wish right now, wish right now, wish right now Aw look at daddy\\'s baby girl That\\'s daddy baby Little sleepy head Yesterday I changed your diaper Wiped you and powdered you. How did you get so big? Can\\'t believe it now you\\'re two Baby you\\'re so precious Daddy\\'s so proud of you Sit down bitch If you move again I\\'ll beat the shit out of you (Okay) Don\\'t make me wake this baby She don\\'t need to see what I\\'m about to do Quit crying bitch, why do you always make me shout at you? How could you? Just leave me and love him out the blue Oh, what\\'s a matter Kim? Am I too loud for you? Too bad bitch, your gonna finally hear me out this time At first, I\\'m like all right You want to throw me out? that\\'s fine! But not for him to take my place, are you out you\\'re mind? This couch, this T-V, this whole house is mine! How could you let him sleep in our bed? Look at Kim Look at your husband now! (No!) I said look at him! He ain\\'t so hot now is he? Little punk! (Why are you doing this?) Shut the fuck up! (You\\'re drunk! you\\'re never going to get away at this!) You think I give a fuck! Come on we\\'re going for a ride bitch (No!) Sit up front (Well I can\\'t just leave \\'ey alone, what if she wakes up?) We\\'ll be right back Well I will you\\'ll be in the trunk So long, bitch you did me so wrong I don\\'t want to go on Living in this world without you So long, bitch you did me so wrong I don\\'t want to go on Living in this world without you You really fucked me Kim You really did a number on me Never knew me cheating on you would come back to haunt me But we was kids then Kim, I was only eighteen That was years ago I thought we wiped the slate clean That\\'s fucked up! (I love you!) Oh God my brain is racing (I love you!) What are you doing? Change the station I hate this song! Does this look like a big joke? (No!) There\\'s a four year old boy lyin\\' dead with a slit throat In your living room, ha-ha What you think I\\'m kiddin\\' you? You loved him didn\\'t you? (No!) Bullshit you bitch don\\'t fucking lie to me What the fuck\\'s this guy\\'s problem on the side of me? Fuck you asshole, yeah bite me Kim, Kim! Why don\\'t you like me? You think I\\'m ugly don\\'t you (It\\'s not that!) No you think I\\'m ugly (Baby) Get the fuck away from me, don\\'t touch me I hate you! I hate you! I swear to god I hate you Oh my God I love you How the fuck could you do this to me? (Sorry!) How the fuck could you do this to me? So long, bitch you did me so wrong I don\\'t want to go on Living in this world without you So long, bitch you did me so wrong I don\\'t want to go on Living in this world without you Come on get out (I can\\'t I\\'m scared) I said get out bitch! (Let go of my hair, please don\\'t do this baby) (Please I love you, look we can just take Hallie and leave) Fuck you, you did this to us You did it, it\\'s your fault Oh my God I\\'m crackin\\' up Get a grip Marshall Hey remember the time we went to Brian\\'s party? And you were like so drunk that you threw up all over Archie That was funny wasn\\'t it? (Yes!) That was funny wasn\\'t it? (Yes!) See it all makes sense, doesn\\'t it? You and your husband have a fight One of you tries to grab a knife And during the struggle he accidentally gets his Adams apple sliced (No!) And while this is goin\\' on His son just woke up and he just walks in She panics and he gets his throat cut (Oh my God!) So now they both dead and you slash your own throat So now it\\'s double homicide and suicide with no note I should have known better when you started to act weird We could\\'ve, hey! where you going? get back here! You can\\'t run from me Kim It\\'s just us, nobody else! You\\'re only making this harder on yourself Ha! ha! got you! (Ah!) Ha! go ahead yell! Here I\\'ll scream with you! Ah somebody help! Don\\'t you get it bitch, no one can hear you? Now shut the fuck up and get what\\'s comin\\' to you You were supposed to love me Now bleed! bitch bleed! Bleed! bitch bleed! bleed! So long, bitch you did me so wrong I don\\'t want to go on Living in this world without you On the first page of our story The future seemed so bright Then this thing turned out so evil I don\\'t know why I\\'m still surprised Even angels have their wicked schemes And you take that to new extremes But you\\'ll always be my hero Even though you\\'ve lost your mind Just gonna stand there and watch me burn But that\\'s all right because I like the way it hurts Just gonna stand there and hear me cry But that\\'s all right because I love the way you lie I love the way you lie Oh, I love the way you lie Now there\\'s gravel in our voices Glass is shattered from the fight In this tug of war you\\'ll always win Even when I\\'m right \\'Cause you feed me fables from your hand With violent words and empty threats And it\\'s sick that all these battles Are what keeps me satisfied Just gonna stand there and watch me burn But that\\'s all right because I like the way it hurts Just gonna stand there and hear me cry But that\\'s all right because I love the way you lie I love the way you lie Oh, I love the way you lie So maybe I\\'m a masochist I try to run but I don\\'t wanna ever leave \\'Til the walls are going up In smoke with all our memories This morning, you wake, a sun ray hits your face Smeared makeup as we lay in the wake of destruction Hush baby, speak softly, tell me you\\'re awfully sorry That you pushed me into the coffee table last night so I can push you off me Try and touch me so I can scream at you not to touch me Run out the room and I\\'ll follow you like a lost puppy Baby, without you, I\\'m nothing, I\\'m so lost, hug me Then tell me how ugly I am, but that you\\'ll always love me Then after that, shove me, in the aftermath of the Destructive path that we\\'re on, two psychopaths but we Know that no matter how many knives we put in each other\\'s backs That we\\'ll have each other\\'s backs, \\'cause we\\'re that lucky Together, we move mountains, let\\'s not make mountains out of molehills You hit me twice, yeah, but who\\'s counting? I may have hit you three times, I\\'m starting to lose count But together, we\\'ll live forever, we found the youth fountain Our love is crazy, we\\'re nuts, but I refused counseling This house is too huge, if you move out I\\'ll burn all two thousand Square feet of it to the ground, ain\\'t shit you can do about it \\'Cause with you I\\'m in my fucking mind, without you, I\\'m out it Just gonna stand there and watch me burn But that\\'s all right because I like the way it hurts Just gonna stand there and hear me cry But that\\'s all right because I love the way you lie I love the way you lie Oh, I love the way you lie Love the way you lie I never would\\'ve dreamed in a million years I\\'d see So many motherfuckin\\' people who feel like me Who share the same views and the same exact beliefs It\\'s like a fuckin\\' army marchin\\' in back of me So many lives I touch, so much anger aimed In no particular direction Just sprays and sprays And straight through your radio waves it plays and plays \\'Til it stays stuck in your head for days and days Who woulda thought Standing in this mirror bleachin\\' my hair, with some peroxide Reachin\\' for a t-shirt to wear That I would catapult to the forefront of rap like this? How could I predict my words would have an impact like this I must\\'ve struck a chord, with somebody up in the office Cause Congress keeps telling me I ain\\'t causin\\' nothin\\' but problems And now they\\'re sayin\\' I\\'m in trouble with the government I\\'m lovin\\' it, I shoveled shit all my life, and now I\\'m dumping it on White America! I could be one of your kids White America! Little Eric looks just like this White America! Erica loves my shit I go to T-R-L, look how many hugs I get White America! I Could be one of your kids White America! Little Eric looks just like this White America! Erica loves my shit I go to T-R-L, look how many hugs I get Look at these eyes baby blue baby just like yourself If they were brown Shady lose Shady sits on the shelf But Shady\\'s cute Shady knew Shady\\'s dimples would help Make ladies swoon baby (ooh baby) Look at myself! Let\\'s do the math If I was black I woulda sold half I ain\\'t have to graduate from Lincoln High School to know that But I can rap so fuck school I\\'m too cool to go back Gimme the mic Show me where the fuckin\\' studios at When I was underground No one gave a fuck I was white No labels wanted to sign me Almost gave up, I was like \"Fuck it\" Until I met Dre The only one who looked past Gave me a chance And I lit a fire up under his ass Helped him get back to the top Every fan black that I got Was probably his in exchange for every white fan that hes got Like damn we just swapped Sittin\\' back look at this shit wow I\\'m like \"My skin, is it startin\\' to work to my benefit now?\" White America! I could be one of your kids White America! Little Eric looks just like this White America! Erica loves my shit I go to T-R-L, look how many hugs I get White America! I Could be one of your kids White America! Little Eric looks just like this White America! Erica loves my shit I go to T-R-L, look how many hugs I get See the problem is I speak to suburban kids Who otherwise woulda never knew these words exist Whose mom\\'s probably woulda never gave two squirts of piss \\'Til I created so much muthafuckin\\' turbulence Straight out the tube right into ya livin\\' rooms I came And kids flipped When they knew I was produced by Dre That\\'s all it took And they were instantly hooked right in And they connected wit\\' me too because I looked like them That\\'s why they put my lyrics up under this microscope Searchin\\' wit\\' a fine toothed comb It\\'s like this rope waitin\\' to choke Tightenin\\' around my throat Watchin\\' me while I write this like \"I dont like this, no!\" All I hear is Lyrics lyrics constant controversy Sponsors workin\\' round the clock To try to stop my concerts early Surely hip hop is never a problem In Harlem only in Boston After it bothered ya fathers Of daughters startin\\' to blossom Now I\\'m catchin\\' the flack from these activists When they raggin\\' Actin\\' like I\\'m the first rapper to smack a bitch and say fagot Shit, Just look at me like I\\'m ya closest pal A poster child The muthafuckin\\' spokesman now for White America! I could be one of your kids White America! Little Eric looks just like this White America! Erica loves my shit I go to T-R-L, look how many hugs I get White America! I Could be one of your kids White America! Little Eric looks just like this White America! Erica loves my shit I go to T-R-L, look how many hugs I get So to the parents of America I am the derringer aimed at little Erica To attack her character The ring leader of the circus of worthless pawns Sent to lead the march right up to the steps of Congress And piss on the lawns of the White House To burn the casket and replace it with a parental advisory sticker To spit liquor in the faces of this democracy of hypocrisy Fuck you Ms. Cheney Fuck you tipper Gore Fuck you with the free-ness of speech this Divided states of embarrassment will allow me to have Fuck you! Ha ha ha! I\\'m just playin\\' America, you know I love you A lot of people ask me Am I afraid of death Hell yeah I\\'m afraid of death I don\\'t want to die yet A lot of people think that I worship the devil That I do all types of retarded shit Look, I can\\'t change the way I think And I can\\'t change the way I am But if I offended you? Good \\'Cause I still don\\'t give a fuck Zoning off one joint Stop in a limo, hop in the window Shopping the demo with gun point A lyricist without a clue What year is this? Fuck a needle here\\'s a sword body pierce with this Live in the muck, never giving a fuck Give me the keys I\\'m drunk, and I never driven a truck But I smoke dope in a cab I\\'ll stab you with the sharpest knife I can grab Come back the next week and re-open your scab A killer instinct runs in the blood Emptying full clips and bury your guns in the mud I\\'ve calmed down now I was heavy once into drugs I could walk around straight for two months with a buzz My brains gone, my souls warm, my spirit is torn The rest of my body is still being operated on I\\'m ducked the fuck down while I\\'m writing this rhyme \\'Cause I\\'m probably gonna get struck by lightning this time To all the weed that I\\'ve smoked Yo! this blunt\\'s for you To all the people I\\'ve offended Yeah fuck you to To all the friends I used to have Yo! I miss my past But the rest of you assholes can kiss my ass To all the drugs that I\\'ve done Yo, I\\'m still goin\\' do To all the people I\\'ve offended Yeah fuck you to To every time I reminisce Yo! I miss my past But I still don\\'t give a fuck y\\'all can kiss my ass! I walked into a gunfight with a knife to kill you And cut you so fast when your blood spilled it was still blue I\\'ll hang you till you dangle and chain you with both ankles And pull you apart from both angles I want to crush your skull till your brains leaks out of your veins And bust open like broken water mains So tell Saddam not to bother with making another bomb \\'Cause I\\'m crushing the whole world in my palm I got your girl in my arm And I\\'m armed with a firearm So big my entire arm is a giant fire bomb Buy your mom a shirt with a Slim Shady iron on And the pants to match (Here mommer try \\'em on) I get a master chick with a mouth full of adjectives A brain full of adverbs and a box full of laxatives (Shittin\\' on rappers) \\'Causing hospital accidents God help me before I commit some irresponsible acts again To all the weed that I\\'ve smoked Yo! this blunt\\'s for you To all the people I\\'ve offended Yeah fuck you to To all the friends I used to have Yo! I miss my past But the rest of you assholes can kiss my ass To all the drugs that I\\'ve done Yo, I\\'m still goin\\' do To all the people I\\'ve offended Yeah fuck you to To every time I reminisce Yo! I miss my past But I still don\\'t give a fuck y\\'all can kiss my ass! I wanted a album so rugged nobody could touch it Spend a million a track and went over my budget (Oh shit!) Now how in the fuck am I supposed to get out of debt I can\\'t rap anymore I just murdered the alphabet Drug sickness got me doing some bug switches I\\'m withdrawn from crack so bad my blood itches I don\\'t rap to get the woman fuck bitches Give me a fat slut that cooks and does dishes Never ran with a click, I\\'m a posse Kamikaze strapping a mother fucking bomb across me From the second I was born my momma lost me And I\\'m a cross between Manson, Esham and Ozzy I don\\'t know why the fuck I\\'m here in the first place My worst day on this earth was my first birthday Retarded? What did that nurse say? Brain damage? Fuck I was born during a earthquake To all the weed that I\\'ve smoked Yo! this blunt\\'s for you To all the people I\\'ve offended Yeah fuck you to To all the friends I used to have Yo! I miss my past But the rest of you assholes can kiss my ass To all the drugs that I\\'ve done Yo, I\\'m still goin\\' do To all the people I\\'ve offended Yeah fuck you to To every time I reminisce I miss my past But I still don\\'t give a fuck y\\'all can kiss my ass! Sometimes I just feel like, quittin\\' I still might Why do I put up this fight, why do I still write Sometimes it\\'s hard enough just dealin\\' with real life Sometimes I wanna jump on stage and just kill mics And show these people what my level of skill\\'s like But I\\'m still white, sometimes I just hate life Somethin ain\\'t right, hit the brake lights Case of the stage fright, drawin a blank like Da-duh-duh-da-da, it ain\\'t my fault Great big eyeballs, my insides crawl And I clam up {*wham*} I just slam shut I just can\\'t do it, my whole manhood\\'s Just been stripped, I have just been vicked So I must then get, off the bus then split Man fuck this shit; yo, I\\'m goin\\' the fuck home World on my shoulders as I run back to this 8 Mile Road I\\'m a man, I\\'mma make a new plan Time for me to just stand up, and travel new land Time to really just take matters into my own hands Once I\\'m over these tracks man I\\'mma never look back (8 Mile Road) And I\\'m gone, I know right where I\\'m goin Sorry momma I\\'m grown, I must travel alone Ain\\'t gon\\' follow the footsteps I\\'m makin\\' my own Only way that I know how to escape from this 8 Mile Road I\\'m walkin\\' these train tracks, tryin\\' to regain back The spirit I had \\'fore I go back to the same crap To the same plant, and the same pants Tryin\\' to chase rap, gotta move ASAP And get a new plan, momma\\'s got a new man Poor little baby sister, she don\\'t understand Sits in front of the TV, buries her nose in the pad And just colors until the crayon gets dull in her hand While she colors her big brother and mother and dad Ain\\'t no tellin\\' what really goes on in her little head Wish I could be the daddy that neither one of us had But I keep runnin\\' from somethin\\' I never wanted so bad! Sometimes I get upset, cause I ain\\'t blew up yet It\\'s like I grew up, but I ain\\'t grow me two nuts yet Don\\'t gotta rep my step, don\\'t got enough pep The pressure\\'s too much man, I\\'m just tryin\\' to do what\\'s best And I try, sit alone and I cry Yo I won\\'t tell no lie, not a moment goes by That I don\\'t pray to the sky, please I\\'m beggin\\' you God Please don\\'t let me be pigeonholed in no regular job Yo I hope you can hear me homey wherever you are Yo I\\'m tellin\\' you dawg I\\'m bailin\\' this trailer tomorrow Tell my mother I love her, kiss baby sister goodbye Say whenever you need me baby, I\\'m never too far But yo I gotta get out there, the only way I know And I\\'mma be back for you, the second that I blow On everything I own, I\\'ll make it on my own Off to work I go, back to this 8 Mile Road I\\'m a man, I\\'mma make a new plan Time for me to just stand up, and travel new land Time to really just take matters into my own hands Once I\\'m over these tracks man I\\'mma never look back (8 Mile Road) And I\\'m gone, I know right where I\\'m goin Sorry momma I\\'m grown, I must travel alone Ain\\'t gon\\' follow the footsteps I\\'m makin\\' my own Only way that I know how to escape from this 8 Mile Road You gotta live it to feel it, you didn\\'t you wouldn\\'t get it Or see what the big deal is, why it was and it still is To be walkin this borderline of Detroit city limits It\\'s different, it\\'s a certain significance, a certificate Of authenticity, you\\'d never even see But it\\'s everything to me, it\\'s my credibility You never seen heard smelled or met a real MC Who\\'s incredible upon the same pedestal as me But yet I\\'m still unsigned, havin\\' a rough time Sit on the porch with all my friends and kick dumb rhymes Go to work and serve MCs in the lunchline But when it comes crunch time, where do my punchlines go Who must I show, to bust my flow Where must I go, who must I know Or am I just another crab in the bucket Cause I ain\\'t havin\\' no luck with this little Rabbit foot so fuck it Maybe I need a new outlet, I\\'m startin to doubt shit I\\'m feelin\\' a little skeptical who I hang out with I look like a bum, yo my clothes ain\\'t about shit At the Salvation Army tryin to salvage an outfit And it\\'s cold, tryin\\' to travel this road Plus I feel like I\\'m on stuck in this battlin mode My defenses are so up, but one thing I don\\'t want Is pity from no one, the city is no fun There is no sun, and it\\'s so dark Sometimes I feel like I\\'m just bein\\' pulled apart From each one of my limbs, by each one of my friends It\\'s enough to just make me wanna jump out of my skin Sometimes I feel like a robot, sometimes I just know not What I\\'m doin I just blow, my head is a stove top I just explode, the kettle gets so hot Sometimes my mouth just overloads the ass that I don\\'t got But I\\'ve learned, it\\'s time for me to U-turn Yo it only takes one time for me to get burned Ain\\'t no fallin\\' no next time I meet a new girl I can no longer play stupid or be immature I got every ingredient, all I need is the courage Like I already got the beat, all I need is the words Got the urge, suddenly it\\'s a surge Suddenly a new burst of energy has occurred Time to show these free world leaders the 3 and a third I am no longer scared now, I\\'m free as a bird Then I turn and cross over the median curb Hit the \\'burbs and all you see is a blur from 8 Mile Road I\\'m a man, I\\'mma make a new plan Time for me to just stand up, and travel new land Time to really just take matters into my own hands Once I\\'m over these tracks man I\\'mma never look back (8 Mile Road) And I\\'m gone, I know right where I\\'m goin Sorry momma I\\'m grown, I must travel alone Ain\\'t gon\\' follow the footsteps I\\'m makin\\' my own Only way that I know how to escape from this 8 Mile Road [Intro- talking] {Eminem] Shady, Aftermath (BTOV) {nate dogg] aye bitch, hey! There she goes shaking that ass on the floor Bumpin and grindin that pole The way she\\'s grindin that pole I think I\\'m losing control hey hey Bobby, Bobby, Bobby Creek [Bobby Creek] I\\'m on the patron In the end I\\'m gone My eyes ain\\'t clear I\\'m gone So she hear me wrong I\\'m kinda in the zone Cause the DJ playin\\' my song Just another opportunity for sayin\\' I\\'m known I\\'m from Atlanta So southern ain\\'t just part of my grammar I can up and cock the hammer For any nigga wid Hammer But I came here to get on goose and tropicana Get loose put some more of my juice In your caboose Sippin everything from white grain To deuce juice With nothin\\' to gain But my grace and loose tooths Eminem came Obie stat and proof too Bobby creek is in the place The name is snoop too But they might been around My drinks is 10 around I can make her spin around If she keep her dinner down Simmer down We can hit the telly when the fun stops And I\\'ll let you in ya work Come sip on my gum drops yeah [Nate Dogg] Three to the one from the one to the three I met a bad bitch last night in the D Let me tell you how I made her leave with me Conversation and Hennessey I\\'ve been to the muthafuckin mountain top Heard muthafuckers talk, seen \\'em drop If I ain\\'t got a weapon I\\'ma pick up a rock And when I bust yo ass I\\'m gonna continue to rock Getcha ass of the wall with your two left feet It\\'s real easy just follow the beat Don\\'t let that fine girl pass you by Look real close cause strobe lights lie We bout to have a party (turn the music up) Let\\'s get it started (Go head shake your butt) I\\'m lookin for a girl with a body and a sexy strut Wanna get it poppin baby step right up Some girls they act retarded Some girls are bout it bout it I\\'m lookin for a girl That will do whatever the fuck I say everyday she be givin it up [Nate Dogg- Chorus] Shake that ass for me, Shake that ass for me Come on girl, shake that ass for me, Shake that ass for me Ohh girl, shake that ass for me, Shake that ass for me Come on girl, shake that ass for me, Shake that ass for me [Eminem] O\\' Trice! [Obie Trice] One slug Couldn\\'t snuff young \\'cause Goodness gracious Haters stay on his nuts One just like a hood rat chick who was curious Serious Full breast, ready to touch Who\\'s that in the cool blue back With a blue new rag Givin\\' head while he poppin\\' the clutch Its true that I had a few Obie rollin\\' with brews aint that annual annually knockin\\' the boots It\\'s on manual The way I knock em outta they shoes Talk a little shit Then they anus\\'ll ooze Talk a little spit on my ding-a-lang Who It\\'s shady You know the name of the crew You know the aim is to bang you In the mansion With a magnum With a night came to the matinee mad as ?? Obie Came to party You better ask somebody [Nate Dogg- Chorus] Shake that ass for me, shake that ass for me Come on girl, shake that ass for me, Shake that ass for me Ohh girl, shake that ass for me, Shake that ass for me Come on girl, shake that ass for me, Shaddy I was born with a dick in my brain, yeah fucked in the head My stepfather said that I sucked in the bed \\'Til one night he snuck in and said We\\'re going out back, I want my dick sucked in the shed Can\\'t we just play with Teddy Ruxpin instead? After I fuck you in the butt, get some head Bust a nut, get some rest The next day my mother said \"I don\\'t know what the fuck\\'s up with this kid! The bastard won\\'t even eat nothing he\\'s fed He just hung himself in the bedroom he\\'s dead\" \"Debbie don\\'t let that fucker get you upset Go in there, stick a fuckin\\' cigarette to his neck I bet you he\\'s fakin\\' it, I bet you I bet he probably just want\\'s to see how upset you would get I\\'ll go handle this of course, unless you object\" \"Ahh go fuck his brains out, if any\\'s left in his head\" If you could count the skeletons in my closet Under my bed and up under my faucet Then you would know I\\'ve completely lost it Is he nuts? No! He\\'s insane! If you could count the skeletons in my closet Under my bed and up under my faucet Then you would know I\\'ve completely lost it Is he nuts? No! He\\'s insane! \"Did you get him?\" Naaw, fucker tried to bite my face off I just got fuckin\\' chased off with a chainsaw Then he took the chainsaw, bit the fuckin\\' blades off Ate the blades, stuck a baseball in a slingshot Then he aimed at his own face, let the thing pop Took his eye out, picked it up and played ping pong Then he played ping pong with his own ding dong That motherfucker\\'s got nuts like King Kong Then he set the lawn mower out on the dang lawn And he laid all up underneath it with the thing on Then he took his pants, he took every fuckin\\' thing off Everything, except his tank top and his training bra Ain\\'t he raw? Yeah mainiac, that\\'s Shady dog Man that motherfucker\\'s gangsta, ain\\'t he dog Shady dog, what be going through that fuckin\\' brain of yours Say no more, what the fuck you waitin\\' for, sing along If you could count the skeletons in my closet Under my bed and up under my faucet Then you would know I\\'ve completely lost it Is he nuts? No! He\\'s insane! Don\\'t you know what felch means? Yeah, well then tell me Would you rather get felched or do the felching Fuck him in the ass, suck the cum out while you\\'re belching Burp, belch, then go back for a second helping Can you dig what I\\'m sayin\\' man, can you smell me? I want you to feel me like my step father felt me Fuck a little puppy, kick the puppy while he\\'s yelping \"Shady what the fuck you saying?\" I don\\'t know help me! What the fuck\\'s happening, I think I\\'m fucking melting \"Marshall I just love you boy, I care about your well being\" No Dad, I said no, I don\\'t need no help peeing I\\'m a big boy, I can do it by myself see I only get naked when the baby sitter tells me She showed me a movie like \"Nightmare on Elm Street\" But it was X, and they called it \"Pubic Hair on Chelsea\" \"Well this is called ass rape, and we\\'re shooting the jail scene\" If you could count the skeletons in my closet Under my bed and up under my faucet Then you would know I\\'ve completely lost it Is he nuts? No! He\\'s insane! Got a shit-eatin\\' grin Bitch, show me them itty-bitty titties again We\\'re in Sin City Since when did we begin to get \\'dicted to dope Diggity, bitch, you need to run and go get your frigity-friends I\\'m looking at your bum-stickity-bum, hun The mickity mack\\'s bickity back, don\\'t act wickity-wack And you can get the fickity-finger, the middle You little dizzy bitch, eatin\\' spaghetti again Got a 6 o\\'clock craving, stop, get Ciroc It\\'s \\'bout to be an unbelievable night I called it surreal, Sir Mix-a-Lot tape in Hit the spot, spot my next victim I\\'m picky like I missed a spot shavin\\' Came to sip vodka, shit Yeah, that little chick is hot but if she got rabies I wouldn\\'t give the bitch a shot, I\\'d poke her in the rear But I bet if I licked her, she\\'d try to chase me (Ha-ha) What are you, pit, rott, mixed? Or you just got fixed, well, shit, then, let\\'s lip-lock If not then, chicks, piss off, you snobby little pig snot nose You think you\\'re hot shit cause you\\'re in heat Well, bitch, if you\\'re solar, then I\\'m your polar opposite, dog Cause I\\'m colder than popsicle sticks, poppin\\' shit Talkin\\' it, walkin\\' it, spit boxin\\' My sick thoughts are \\'bout to lick shots, like this shit\\'s hoppin\\' And drip-droppin\\' in chocolatey whip-toppin\\' So whether you\\'re hip-hop, Slipknot, B.I.G., Pac Kid Rock, Kris Kross, Rick Ross, you\\'ll dig this If not then kick rocks in flip flops And I produced the track So you don\\'t have to ask who it is when this shit knocks (Turn up!) So bring clairvoyance to this bangin and I\\'mma keep on saying All the shit I should be hung for, and probably killed for saying And I probably will, but not until the day I pop a pill again Like chopping \\'til I\\'m dropping, still if that don\\'t Do the job of killing Shady, then the karma will They saying I must bring it as Mohammad Until the Parkinson\\'s done eat away my brain And made me Robin Williams crazy Or I end up with dementia, but you rocking with a sadist Hate to say this, but if the thought is entertaining I ain\\'t stopping till be sprayed it Oh my god, for real man, not again I\\'m shaking But before I tie a rope around this nob If they don\\'t like it, got a knob that they can slob on until Wait I just forgot what I was thinking What\\'s it called again? I\\'m blanking The thing above the balls between my legs and I think I can feel it dangling, it\\'s throbbing and it\\'s veiny Wait I think I got it, okay bitch I got you, Robin Williams hanging Go hang in the lobby unless you came to slob me Come on kemosabe It\\'s past time, like your favorite hobby Cause if the way that I spit shit remains on my dick then she grab me by the nuts and tried to take my sausage as a hostage Ain\\'t it obvious? Pretty much a no brainer, or should I say Cobainer? That she\\'s plain addicted to my dick like Lorena Bobbit Got a wean her off it, weiner off it like she took my fucking penis chopped it, and stuck it up between her armpits And she begun to swing a crumpet knife and paint the carpet at least that\\'s what her train of thought is Cause I came, saw, conquered, hit it quit it, and made up a plane of bonkers And I always end up giving these bitches some complex And I don\\'t mean apartment So spread your feet apart And let me see you do some yoga stretches, splits Now grab this Cuisinart And make me breakfast, bitch, that\\'s a prerequisite And that\\'s just to get in this bedroom, bitch Walked up to that Ke$ha chick (what up?) Said my name is Booger, wanna catch a flick? I\\'ll even let you pick, make her fetch a stick Bet you if you get this old dog these new tricks To get familiar with I\\'ll learn extra quick Kick a pregnant bitch, oops, I guess the shit Took an unexpected twist like the neck of the freaking exorcist Bitch, I said that this mask ain\\'t for hockey Hate Versace, Versace, I got Münchhausen by proxy I\\'m making you sick, don\\'t pretend you can\\'t hear me You deaf, girl, I said you was foxy I\\'ll tell a bitch like Bizarre Bitch, shut the fuck up and get in my car And suck my fucking dick while I take a shit And I think with my dick so come blow my mind And it tastes like humble pie So swallow my pride, you\\'re lucky just to follow my ride If I let you run alongside the Humvee Unless you\\'re Nicki, grab you by the wrist, let\\'s ski So what\\'s it gon\\' be? Put that shit away Iggy You gon\\' blow that rape whistle on me (Squee!) I love it \\'Fore I get lost with the gettin\\' off Like this is our exit, now lets hit the highway and try not to get lost \\'Till we get to Las Vegas (Party, do it \\'till tomorrow) Vegas \\'Till we get to Las Vegas (Party, do it \\'till tomorrow) Vegas \\'Till we get to Las Vegas (Party, do it \\'till tomorrow) Vegas \\'Till we get to Las Vegas (Party, do it \\'till tomorrow) Vegas Whatever happens here, stays here So let\\'s go all the way dear Til we get to Las Vegas Whatever happens in my room, it stays in my room like movie night like cable Treat every women in my stable like flavors Looking like she kryptonite and I get weak after like 7 days In 7 nights in the days and it\\'s our Vegas We rolling circles and packs, we the lifesavers She got a boyfriend, I got a toy then I\\'ll bring her with me when I show up to her crib waving And I ain\\'t tryna be the nice neighbor I\\'m so Jay Electronic, I\\'m cut like I\\'m all out of razors And all I got is a gun left with a bayonet on it Next ho froze and it look like I walked in to a jewelry store With a about a million dollars with your mama And sat down did an ALS challenge, huh I stole that adlib from French, Bad & Evil back at it again About to get my back tatted again About to get a pic of a backstabber with an axe in his hand Sitting on a bike in the sand If you ain\\'t been through nothing Then that shouldn\\'t mean nothing to you like likes on the Gram If she current I keep her pussy purring like the pipes on a lamp Weed got her so chinky eyed Look like she been getting high on a flight to Japan I keep my jewelry on while I\\'m fucking Sound like I\\'m shaking up dice in a can Listen, though this ain\\'t Christmas I make you my ex miss If this is my passion I learn to give those who don\\'t appreciate my presence The gift of my absence I don\\'t know who you been listening to Got me fucked up like Pookie in the chicken coop Bitch, I don\\'t give a two shits Bitch, get the fuck out of my face To make a long story short, I don\\'t really gotta stand there And listen to you while you throw a silly tantrum Even though I have an affinity for witty banter Starting to feel like foulplay like Billy Laimbeer Hold up, she misunderstood me I said saint, por favor Thought I said to wait, had four doors I knock a nigga face off Give him the bottom of the nine like a baseball scoreboard (whatever) I leave the club with my tab still open Won\\'t even get a cab for you and your friend The only fear I have is of loathing And I won\\'t even kick in \\'till we get to Las Vegas (Party, do it \\'till tomorrow) Vegas \\'Till we get to Las Vegas (Party, do it \\'till tomorrow) Vegas \\'Till we get to Las Vegas (Party, do it \\'till tomorrow) Vegas \\'Till we get to Las Vegas (Party, do it \\'till tomorrow) Vegas Whatever happens here, stays here So let\\'s go all the way dear Til we get to Las Vegas Yo, I can\\'t sing good I feel like singin\\' I wanna fuckin\\' sing \\'Cause I\\'m happy Yeah, I\\'m happy Ha Ha I got my baby back Yo, check it out Some days I sit, starin\\' out the window Watchin\\' this world pass me by Sometimes I think there\\'s nothin\\' to live for I almost break down and cry Sometimes I think I\\'m crazy I\\'m crazy, oh so crazy Why am I here, am I just wastin\\' my time? But then I see my baby Suddenly I\\'m not crazy It all makes sense when I look into her eyes (Oh no) Sometimes it feels like the world\\'s on my shoulders Everyone\\'s leanin\\' on me \\'Cause sometimes it feels like the world\\'s almost over But then she comes back to me My baby girl keeps gettin\\' older I watch her grow up with pride People make jokes, \\'cuz they don\\'t understand me They just don\\'t see my real side I act like shit don\\'t phase me Inside it drives me crazy My insecurities could eat me alive But then I see my baby Suddenly I\\'m not crazy It all makes sense when I look into her eyes (oh no) Sometimes it feels like the world\\'s on my shoulders Everyone\\'s leanin\\' on me \\'Cause sometimes it feels like the world\\'s almost over But then she comes back to me Man, if I could sing, I\\'d keep singin\\' this song to my daughter If I could hit the notes, I\\'d blow somethin\\' as long as my father To show her how I feel about her, how proud I am that I got \\'er God, I\\'m a daddy, I\\'m so glad that her mom didn\\'t abort Now you probably get this picture from my public persona That I\\'m a pistol-packin\\' drug-addict who bags on his mama But I wanna just take this time out to be perfectly honest \\'Cause there\\'s a lot of shit I keep bottled that hurts deep inside o\\' ma soul And just know that I grow cold of the older I grow This boulder on my shoulder gets heavy and harda to hold And this load is like the weight of the world And I think my neck is breakin\\' Should I just give up Or try to live up to these expectations? Now look I love my daughter more than life n\\' itself But I got a wife that\\'s determined to make my life livin\\' hell But I handle it well, given the circumstances I\\'m dealt So many chances, man, it\\'s too bad, coulda had someone else But the years that I\\'ve wasted is nothin\\' to the tears that I\\'ve tasted So here\\'s what I\\'m facin\\', 3 felonies, 6 years of probation I\\'ve went to jail for this woman, I\\'ve been to bat for this woman I\\'ve taken bats to people\\'s backs, bent over backwards for this woman Man, I should of seen it comin\\', what\\'d I stick my penis up in? Would of ripped the pre-nup up if I\\'d seen what she was fuckin\\' But fuck it, it\\'s over, there\\'s no more reason to cry no more I got my baby, maybe the only lady that I adore, Hailie So sayonara, try tomorra, nice to know ya Our baby\\'s traveled back to the arms of her rightful owner And suddenly it seems like my shoulder blades have just shifted It\\'s like the greatest gift you can get The weight has been lifted And now it don\\'t feel like the world\\'s on my shoulders Everyone\\'s leanin\\' on me \\'Cause my baby knows that her daddy\\'s her soldier Nothin\\' can take her from me Woo! I told you I can\\'t sing Oh well, I tried Hailie, remember when I said If you ever need anything, daddy will be right there? Well guess what, daddy\\'s here And I ain\\'t goin\\' nowhere baby I love you I\\'m getting by with my wicked ways I\\'m loading up and I\\'m taking names I want to dig my way to hell I want to dig my way to hell I\\'m getting by with my wicked ways I\\'m loading up and I\\'m taking names I want to dig my way to hell I want to dig my way to hell Guess I got a way with words I could get away with murder Ever heard of Aspergers? It\\'s a rare condition It\\'s what you\\'re suffering from when you simply don\\'t care if its an Eighty degree day and there\\'s no fricken air conditioning And you can\\'t see, the b****\\'s hair is frizzin\\' \\'Cause you got the windows up blaring the system in your Chevrolet Prism The devil ain\\'t on the level same as him Just someone who rebels in straight masochism And imagine him giving him an adjective an a** whooping So bad they should put his a** in prison I word bully I verbally abuse verbs like he did something to me personally Used forgetfully so I cut class and ditch it now I fully rap Cadillac from a K Car, my a** from a hole in the ground, still can\\'t tell em apart Came straight out the trailer park screaming I\\'m proud To shop at K-mart and it became art And I\\'m still fed up and as pissed off as they are To this day I still get in fights with the same broad At the same Walmart arguing over the same cart In the middle of the aisle whilin I don\\'t give a f*** I don\\'t play! You think you saw this basket first? Yeah backwards like motherf***ing Bob and Silent Jay Illest s*** you could think I would say Mind\\'s like a pile of clay When\\'s the last time you saw a villain with a cape? With a gaping hole in it Whip out, whip down Tied him around my neck went down the fire escape of the Empire State Straight fell straight down to the ground splattered all over the entire state And straight to hell got an impaled by the gates So Satan stuck his face in an ashtray But I sacheted around flames with a match and I gave him the gas face And this ain\\'t got nothing to do with a scalar Being gay little faggot but by the way Plus it\\'s getting darker by the day I\\'m a combination of Skylar Grey, Tyler the Creator, and Violent Jay It\\'s a f***ing miracle to be this lyrical Paint my face with clown make up and a smiley face, I\\'m insane Every rhyme I say, a**aults you like an ultra violet ray I\\'m sellin\\' hatred buffet style all the s*** you can eat $11.99 so come on and pile a plate I\\'m throwin\\' down the gauntlet to see what hell I can raise With the rhyme I\\'m spittin\\' while I\\'m s***tin\\' on the competition In the meantime it\\'s always mean time I\\'m getting by with my wicked ways I\\'m loading up and I\\'m taking names I want to dig my way to hell I want to dig my way to hell I\\'m getting by with my wicked ways I\\'m loading up and I\\'m taking names I want to dig my way to hell I want to dig my way to hell I\\'ve been a career a**hole I don\\'t see why these people always got my back I done said so much f***ed up s***, I was born a mistake But I was put here not by accident I had a purpose and that purpose was to beat a beat purplish Slaughter tracks, I done put my two dimes and a nickel in this s*** And I\\'m coming to get that quarter back Like Ndamukong the drama can build Your mama can ask me for my autograph That cougars a MILF, she\\'s the oldest trick in the book But I sure would fall for that You done brought a bat to a rocket launcher fight When I get on the mic I\\'m a snap Make you wish the ambulance that took me to the hospital When I overdosed would have caught a flat If it makes you sick to your stomach pass it Indigestion my suggestions\\'s Kaopectate If it feels like I\\'m running away with the game Its \\'cause I am don\\'t speculate spectate All I got is dick for days and insults for decades But I get by my wicked ways, lady you can suck a dick till your neck aches Cry till you get puffy eyes red face But I\\'m leaving on this jet plane You ain\\'t fly, you\\'re an airhead I\\'m sick of pounding a square peg in a round hole, sorry another catchphrase But your baggage ain\\'t gonna fit in my storage over headspace \\'Cause you just ain\\'t big enough to fit your damaged goods Other words don\\'t try to put the heart in a headcase \\'Cause baby stable mentally I ain\\'t I need my meds, I peed my bed I\\'m going blind, I don\\'t see my legs, I keep on falling down No wonder you can\\'t stand me, I need my cane Someone help me I think my face is melting If you felt these migrains, see these maggots eat my brain This G-I-A-empty hole in my empty head If you read my mind you can see my pain And you could see why I\\'d be this way Ever since I was knee high playin\\' with G.I. Joes Or shut the P-I-E hoes that peep my game \\'Cause I\\'m about, like a f***in\\' echo Psycho on a cycle If I hear Iko I\\'m out of control like no Other mike-o, stab you to the nightpost Nothing but a hole inside your skull where you eye close \\'Cause I\\'m gonna sock it to you, dyko, you don\\'t like it Get on your Harley Davidson menstrual cycle and ride it, like a motorbike I\\'m gonna blow the mike the whole night so strike up the f***in\\' maestro, I\\'m like nitro And heigh-ho, hand me my shovel I\\'m libel to dig my hole deeper It\\'s off to H-E double hockey sticks I go I\\'m getting by with my wicked ways I\\'m loading up and I\\'m taking names I want to dig my way to hell I want to dig my way to hell I\\'m getting by with my wicked ways I\\'m loading up and I\\'m taking names I want to dig my way to hell I want to dig my way to hell Oh please be empty, please be empty, please be empty Thank you, God S***. It\\'s a girl I\\'m gonna rock this blouse and put a c*** in mouth and get my balls blew out And gay into the A.M And lay with eighteen guys naked and let myself show, let myself show But f*** it, suck from the tucket Life\\'s too short to not stroke your bone So everybody, everybody Circle jerk, touch my body Who is that? Where are you going? Mm come back Why does everyone always leave me? Hello? F*** you then Blow it out your a** As I fall deeper into a manic state I\\'m a prime candidate for the gene to receive the drug addict traits Blood pressure climbs at a dramatic rate I seem to gravitate to the bottle of Nighquil then I salivate Start off with the Nighquil like I think I\\'ll just have a taste Couple sips of that then I gradually graduate Too a harder prescription drug called Valium like ya that\\'s great I go to take just one and I end up like having eight Now I need something in my stomach cause I haven\\'t ate Maybe I\\'ll grab a plate of nachos and I\\'ll have a steak And you\\'d think with all I have at stake Look at my daughters face Mommy somethings is wrong with dad I think He\\'s acting weird again he\\'s really beginning to scare me Won\\'t shave his beard again and he pretends he doesn\\'t hear me And all he does is eat Dorritos and Cheetos And he just fell asleep in his car eating Three Musketeers in the rear seat Sometimes I feel so alone, I just don\\'t know, feels like I been down this road before, So lonely and cold, It\\'s like something takes over me, Soon as I go home and close the door, Kinda feels like deja vu, I wanna get away from this place I do, But I can\\'t and I won\\'t say I tried but I know that\\'s a lie cause I don\\'t And why I just don\\'t know Maybe just a nice cold brew what\\'s a beer That\\'s the devil in my ear I been sober a f***in\\' year And that f***er still talks to me he is all I can f***in\\' hear Marshall come on we\\'ll watch the game it\\'s the Cowboys and Buccaneers And maybe if I just drink half I\\'ll be halfed buzzed for half of the time Who\\'s that mastermind behind that little line With that kind of rational man I got half a mind Too have another half of gla** of wine sound asinine Ya I know But I never had no problem with alcohol Ouch look out for the wall aim for the couch I\\'m about to fall I missed the couch and down I go looking like a bouncing ball S*** must have knocked me out cause I ain\\'t feel the ground at all Wow what the f*** happened last night where am I Man f*** am I hungover and god damn I got a head ache S*** half a Vicodin why can\\'t I? \"All systems ready for take off please stand by\" Sometimes I feel so alone, I just don\\'t know, feels like I been down this road before, So lonely and cold, It\\'s like something takes over me, Soon as I go home and close the door, Kinda feels like deja vu, I wanna get away from this place I do, But I can\\'t and I won\\'t say I tried but I know that\\'s a lie cause I don\\'t And why I just don\\'t know So I take a Vicodin splash it hits my stomach and ahh A couple weeks go by it ain\\'t even like I\\'m getting high Now I need it just not to feel sick ya I\\'m getting by Wouldn\\'t even be taking this s*** if Deshaun didn\\'t die Oh ya there\\'s an excuse you lose proof so you use There\\'s new rules it\\'s cool if it\\'s helpin\\' you to get through It\\'s twelve noon ain\\'t no harm in self inducing a snooze What else is new f*** it what would Elvis do in your shoes Now here I am three months later full blown relapse Just get high until the kids get home from two homes relax And since I\\'m convinced that I\\'m insomniac I need these pills to be able to sleep so I take three naps Just to be able to function throughout the day let\\'s see That\\'s an Ambian each nap how many Valium, three And that will average out to about one good hours sleep Ok so now you see the reason how come he Has taken four years just too put out an album B See me and you we almost had the same outcome Heath Cause that Christmas you know the Nomonia thing It was bologna was it the Methadone ya think Or the Hydrocodone you hide inside your pornos Your vcr tape cases with you Ambian CR great places to hide ain\\'t it So you can lie to Hailie I\\'m going beddy bye Whitney baby good night Elaina Go in the room and shut the bedroom door and wake up in ambulance They said they found me on the bathroom floor Sometimes I feel so alone, I just don\\'t know, feels like I been down this road before, So lonely and cold, It\\'s like something takes over me, Soon as I go home and close the door, Kinda feels like deja vu, I wanna get away from this place I do, But I can\\'t and I won\\'t say I tried but I know that\\'s a lie cause I don\\'t And why I just don\\'t know Yeah, Ha ha, you feel that baby? Yeah, I feel it too. Damn. You know, I\\'m so glad we could spend this time together See, I\\'m not as crazy as you thought I was am I? Ha ha I\\'m the American dream! I\\'m the definition of white trash balling, I\\'m right back on \\'em, with the I can\\'t call it Same shit, different toilet, oh you got a nice ass darlin\\'! Can\\'t wait to get you into my Benz, take you for a spin What you mean we ain\\'t fuckin\\', you take me for a friend? Let me tell you the whole story of Shady\\'s origin You\\'ll be sorry if you slam my Mercedes door again! Now, it all started with my father I must have got my pimping genes from him, the way he left my mama I\\'m a rolling stone just like him, word to Johnny Drama Keep my entourage with me, baby I\\'ll make a promise There ain\\'t nobody as bomb as me I\\'m as calm as the breeze, I\\'m the bees knees, his legs and his arms I\\'m a S-superstar, girl, I\\'m ready for you mama! Why you think the only thing I got on is my pajamas? I\\'m so bad I\\'m so good that I\\'m so bad I guarantee I\\'ll be the greatest thing you ever had Cause you ain\\'t never met nobody like me And you ain\\'t gonna wanna fuck nobody else again I\\'m so bad I\\'m so good that I\\'m so bad I guarantee I\\'ll be the greatest thing you ever had Cause you ain\\'t never met nobody like me And you ain\\'t gonna wanna fuck nobody else again I\\'m equivalent to a shot of Cuevo, first I kiss your navel Work my way down, baby you can lay down on the table But you may wanna find something more stable I told you I ain\\'t fooling from the gate, this ain\\'t the first day of April! But thank you for staying April, I\\'m a make you learn To appreciate me, differentiate me From these phoney, little fishy and sissy fake G\\'s Skip over the huggy-bear and all the kissy face, please Initiate phase three! Missy now service me Take another shot of Jagger, shake it so nervously Take your time baby, ooh you\\'re the bomb baby! Ooh you\\'re doing that even better than your mom lady! I told you I\\'m Shady, you didn\\'t listen now, did you? Relax woman, you know that I\\'m only kidding with you Got a twisted sense of humor, it\\'s warped, but I didn\\'t hit you I think you\\'re finally starting to get the picture, I\\'m I\\'m so bad I\\'m so good that I\\'m so bad I guarantee I\\'ll be the greatest thing you ever had Cause you ain\\'t never met nobody like me And you ain\\'t gonna wanna fuck nobody else again I\\'m so bad I\\'m so good that I\\'m so bad I guarantee I\\'ll be the greatest thing you ever had Cause you ain\\'t never met nobody like me And you ain\\'t gonna wanna fuck nobody else again Dynamite, dynamite, dynamite, so! Dynamite, dynamite, dynamite, so! I can hold you in the morning But in the evening I gotta go, Cause I\\'m on to the next girl, And the next girl I kinda like, oh, oh, oh! I got you caught up in the rapture Make you recapture the feelings you had for your last boyfriend before he slapped ya You never wanted someone so bad ya sweating But if I\\'m what you wanted, why\\'d you panic when I grabbed ya? Girl don\\'t be so frantic I\\'m just a hopeless romantic Don\\'t try to fight the feeling of something that\\'s organic You can\\'t ignore it, so don\\'t just stand before it Just drop them panties to the floor, let\\'s get to camcordin\\' Damn shorty, I told you this was bound to happen Soon as you wrote your number on a napkin I was bound to work a number on your back and Throw your spine out of alignment My love has got you so blinded you couldn\\'t pick Amy Winehouse out of a lineup So stop with the snoring, pick your pint up Let\\'s get the pineapple schnapps going, no one\\'ll knock cause I\\'m a hang a sign up Saying \"Don\\'t Disturb\", shorty I\\'m so superb I say the right things, don\\'t I spit the dopest words? I\\'m so bad I\\'m so good that I\\'m so bad I guarantee I\\'ll be the greatest thing you ever had Cause you ain\\'t never met nobody like me And you ain\\'t gonna wanna fuck nobody else again I\\'m so bad I\\'m so good that I\\'m so bad I guarantee I\\'ll be the greatest thing you ever had Cause you ain\\'t never met nobody like me And you ain\\'t gonna wanna fuck nobody else again Dynamite, dynamite, dynamite, so! Dynamite, dynamite, dynamite, so! I can hold you in the morning But in the evening I gotta go, Cause I\\'m on to the next girl, And the next girl I kinda like, oh, oh, oh! I\\'m so bad I\\'m so good that I\\'m so bad I guarantee I\\'ll be the greatest thing you ever had Cause you ain\\'t never met nobody like me And you ain\\'t gonna wanna fuck nobody else again I told y\\'all mothafuckas I was comin\\' back What now nigga what now what You\\'s the projects nigga [Chorus] One shot two shot three shot four shots All I hear is gunshots this is where the fun stops Bodies drop hit the floor music\\'s off Parties stop, everybody hit the door someone\\'s lickin\\' shots off You bitches is gone I\\'m dropped in the club And I\\'m tryna run and get my motherfuckin\\' gun (Nigga what about your wife) Nigga fuck my wife I\\'m tryna run and save my motherfuckin\\' life Oh shit the shoot is comin\\' Bitches, hoes niggas is runnin\\' People shot all over the floor And I\\'m tryna make it to the St. Andrew\\'s door That\\'s the sound of the glock Even D-J House fucked around and go shot I done messed around and forgot my tec I don\\'t see nobody but Fab Five and Hex (Kuniva you aight) These niggas is trippin\\' (Where\\'s Bizarre at?) I\\'m tryna slip through the exit and get to where my car is at Bitches screamin\\' everywhere and niggas is wildin\\' Two minutes ago we was all jokin\\' and smilin\\' This chick is clingin\\' onto me sobbin\\' and sighin\\' Sayin\\' she didn\\'t mean to diss me earlier and she cryin\\' But its real and cats is gettin\\' killed So I hugged her and used her body as a human shield And she got hit now she yellin\\' (Don\\'t leave me!) I told her I\\'d be right back and the dumb bitch believed me I squeezed through the back door and made my escape I ran and got my 38 I hope its not to late [Chorus] (Nigga I been tryna call you all day motherfucker where you at?) I\\'m on seven mile what the fuck was that Damn somebody hit me from the back (With they car?) With a gat nigga and my tire is flat And I just hit a pole, them niggas some hoes (Is you hit?) I don\\'t know but I can tell you what they drove It was a black Mitsubishi (Shit that\\'s the clique we beefin\\' wit I swear) Man and I was on my way there Believe me I\\'m leavin\\' a carcus today I\\'m a park my car and walk the rest of the way I\\'m in the mood to strut, my A-K ain\\'t even tuck I\\'m a meet you at the club we goin\\' fuck these hoes up [Chorus] I never seen no shit like this is my life before People will still camp out from the night before Sleepin\\' outside the door waitin\\' in line Still tryna get inside the club to see D12 perform The fire marshals no, the venue\\'s too small People are wall to wall three thousand and some odd vans And some come walk from out the parkin\\' lot Get into an argument over a parkin\\' spot He\\'s about to pull his gun out and let\\'s a few of \\'em off Missed who he\\'s aimin\\' for six feet away\\'s the door In St. Andrew\\'s hall not a stray slidin\\' all over the place Sprays one bitch in the face another one of \\'em came through the wall Before anyone could even hear the first shot go off I\\'m posted up by the bar havin\\' a Mozeltoff Bullet wizzed right by my ear damn near shot it off Thank god I\\'m alive I gotta find Denaun And where the fuck is Von he usually tucks one on him Wait a minute I think I just saw Bizarre Nah I guess not, what the fuck oh my god it was I never saw him run so fast in my life Look at him haulin\\' ass I think he left his wife There she is on the ground bein\\' trampled I go to grab her up by the damn hand and I can\\'t pull her God damn there just went another damn bullet I\\'m hit My vest is barely able to handle it, its to thin If I get hit again I can\\'t do it, I scoop deep Follow Bizarre\\'s path and ran through it And made it to the front door and collapsed on the steps Looked up and I seen Swift shootin\\' it out But I can\\'t see who he\\'s shootin\\' it out with But Denaun\\'s right behind him squeezin\\' his four fifth [Chorus] It\\'s Friday night came to this bitch right Big ass to my left and Desert Eagle to my right I ain\\'t come in this bitch to party I came in this bitch to fight Although I can\\'t stay here to fight \\'cause I\\'m poppin\\' niggas tonight That\\'s right bitches I\\'m drunk with revenge Shot a bouncer in the neck for tryna check when I get in Swift told me to meet him here so its clear that this fucker Shoot out the back of his truck goes up in this motherfucker So one shot for the money two\\'s to stop the show Third\\'s for the bartender there\\'s plenty of shots to go (I just wanna know who\\'s drivin\\' a black Mitsubishi) He tried to run so Proof shot him in the knee wit a three piece [Chorus] I don\\'t know dude I think everyone\\'s all jealous and shit \\'cause I\\'m like the lead singer of a band dude And I think everyone\\'s got a fuckin\\' problem with me dude And they need to take it up with me after the show Because These chicks don\\'t even know the name of my band But they\\'re all on me like they wanna hold hands \\'Cause once I blow they know that I\\'ll be the man All because I\\'m the lead singer of my band So I get off stage right and drop the mic Walk up to the hot chicks and I\\'m all like \"Sup ladies, my name\\'s Slim Shady. I\\'m the lead singer in D12 baby\" They\\'re all like \"Oh my God it\\'s him\" \"Becky oh my fuckin\\' God it\\'s Eminem\" \"I swear to fuckin\\' God dude you fuckin\\' rock\" \"Please Marshall please let me suck your cock\" And by now the rest of the fellas get jealous Especially when I drop the beat and do my acapellas All the chicks start yellin\\', all the hot babes Throw their bras and their shirt and their panties on stage So like every single night they pick a fight with me But when we fight it\\'s kinda like sibling rivalry Cuz they\\'re back on stage the next night with me Dude I just think you\\'re tryna steal the light from me Yesterday Kuniva tried to pull a knife on me \\'Cause I told him Jessica Alba\\'s my wife to be This rock star shit, it\\'s the life for me And all the other guys just despise me because These chicks don\\'t even know the name of my band But they\\'re all on me like they wanna hold hands \\'Cause once I blow they know that I\\'ll be the man All because I\\'m the lead singer of my band My band My band My band My band My band My band Roxanne My band My band You just wanna see a nigga backwards don\\'t you Hey dad how come we don\\'t rap on Protools Smash these vocals and do a performance But we in the van and he in a tour bus You don\\'t want my autograph, yous a liar And no I\\'m Swift (oh I thought you was Kuniva) What the hell is wrong with that dressing room \\'Cause my shit is lookin\\' smaller than a decimal See I know how to rap, see it\\'s simple but All I did was read a Russell Simmons book So I\\'m more intect, tryna get on the map Doin\\' jumpin jacks whilin\\' get whipped on my back Look at Em little punk ass thinkin\\' he the shit Yeah I know man find himself takin on a flick Hey I thought we had an interview with DJ Clue No I had an interview not you two You gonna be late for soundcheck Man I ain\\'t goin\\' to soundcheck But our mics are screwed up and his always sound best You know what man I\\'ma say somethin Hey yo Em You got somethin\\' to say?! Man no I thought you bout to tell him off, what\\'s up Man I\\'ma tell him when I feel like it, man shut up And you ain\\'t even back me up when we s\\'posed to be crew When I was bout to talk right after you I swear, I swear man These chicks don\\'t even know the name of my band But they\\'re all on me like they wanna hold hands \\'Cause once I blow they know that I\\'ll be the man All because I\\'m the lead singer of my band They say the lead singers rock, but the group does not Once we sold out arenas to the amusement park I\\'m gonna let the world know that proof is hot I should cut his mic off when the musics starts Ready to snap on a dumbass fan Every time I hear (Hey dude I love your band) We ain\\'t a band bitch we don\\'t play instruments So why he get 90 and we only get ten percent And these guys they can find every area code Bitch carry your own Can\\'t make it to the stage, security in my way (Who the fuck are you? Where\\'s Obie and Dre?!) Goddammit I\\'m sick of this group Time for me to go solo and make some loot I told you I made the beats and wrote all the raps Till Kon Artist slipped me some crack Lose Yourself video I was in the back Superman video I was in the back Fuck the media, I got some suggestions Fuck Marshall, ask us the questions Like who\\'s D12, how we get started (What about Eminem?) Bitch are you retarded? Anyway I\\'m the popularest guy in the group Big ass stomach, bitches think I\\'m cute (hey sexy) 50 told me to do situps to get buff I did two and a half and then I couldn\\'t get up Fuck D12, I\\'m outta this band I\\'m gonna start a group with the real Roxanne Girl why cant you see your the only one for me And it just tears my ass apart to know that you don\\'t know my name These chicks don\\'t even know the name of my band(ha ha) But they\\'re all on me like they wanna hold hands(Fuck Marshall) Cuz once I blow I know that I\\'ll be the man All because I\\'m the lead singer of my band My band My band My band My band My band My band My band My band My band The hottest boy band in the world D12! I\\'m the lead singer of my band, I get all the girl\\'s to take off their Underpants And the lead singer of my band, my salsa Makes all the pretty girl\\'s wan to dance My salsa, look out for my next single, it\\'s called My Salsa My salsa, salsa, salsa, salsa, my salsa Makes all the pretty girls wan to dance And take off their underpants My salsa makes all the pretty girls wan to dance And take off their underpants, my salsa (Where\\'d everybody go?) This is survival of the fittest This is do or die This is the winner takes it all so take it all Wasn\\'t ready to be no millionaire, I was ill-prepared I was prepared to be ill though, the skill was there From the beginning, it wasn\\'t \\'bout the ends It was \\'bout busting raps and standing for something, fuck an acronym Cut the fucking act like you\\'re happy, I\\'m fucking back again With another anthem, why stop when it doesn\\'t have to end? It ain\\'t over \\'til I say it\\'s over, enough when I say enough Throw me to them wolves and close the gate up I\\'m afraid of what\\'ll happen to them wolves When the thought of being thrown into an alligator pit, I salivate at it Wait is up, hands up like it\\'s 12 noon, nah, homie Hold them bitches straighter up, wave \\'em \\'til you dislocate a rotator cuff Came up rough, came to ruffle feathers, nah, egos I ain\\'t deflate enough, last chance to make this whole stadium erupt! This is survival of the fittest This is do or die This is the winner takes it all so take it all I can see the finish line with each line that I finish I\\'m so close to my goals I can almost pole vault over the goal post And if I don\\'t got enough in the tank, maybe I can just siphon enough To fill up this last can, man will I survive in this climate or what? They said I was washed up, and got a blood bath I\\'m not a rapper, I\\'m an adapter, I can adjust Plus I can just walk up to a mic and just bust so, Floor\\'s open if you\\'d like to discuss Top 5 in this mu\\'fucka\\' and if I don\\'t make the cut What, like I give a fuck, I\\'mma light this bitch up like I\\'m driving a truck To the side of a pump, 0 to 60 hop in and gun it Like G-Unit without the hyphen, I\\'m hyping em up And if there should ever come a time where my life\\'s in a rut And I look like I might just give up, eh you might\\'ve mistook Me for bowing out I ain\\'t taking a bow, I\\'m stabbing myself With a fucking knife in the gut, while I\\'m wiping my butt! \\'Cause I just shitted on the mic, and I like getting cut I get excited at the sight of my blood, you\\'re in a fight with a nut \\'Cause I\\'mma fight \\'til I die or win Biting the dust it\\'ll just make me angrier, wait Let me remind you of what got me this far, picture me quitting Now draw a circle around it and put a line through it slut It\\'s survival of what? This is survival of the fittest This is do or die This is the winner takes it all so take it all So take it all So get your ideas, stack your ammo But don\\'t come unless you come to battle, I\\'m mad now jump in the saddle This is it, it\\'s what you eat, sleep, piss and shit Live, breathe, your whole existence just consists of this Refuse to quit, fuse is lit, can\\'t de-fuse the wick I don\\'t do this music shit, I lose my shit Ain\\'t got shit to lose, it\\'s the moment of truth It\\'s all I know how to do, as soon as I get thrown in the booth, I spit But my respect is overdue, I\\'m showing you the flow no one do \\'Cause I don\\'t own no diploma for school, I quit! So there\\'s nothing for me to fall back on, I know no other trades So you\\'d better trade your fucking mics in for some tool-box-es \\'Cause you\\'ll never take my pride from me It\\'ll have to be pried from me, so pull out your pliers and your screw-drive-rs But I want you to doubt me, I don\\'t want you to buh-lieve \\'Cause this is something that I must use to suc-ceed And if you don\\'t like me then fuck you! Self es-teem must be fucking shooting through-the-roof \\'cause trust me My skin is too thick and bul-let proof to touch me I can see why the fuck I disgust you I must be a-llergic to failure \\'cause every ime I come close to it I just sneeze, but I just go atchoo then achieve! This is survival of the fittest This is do or die This is the winner takes it all so take it all So it take it all Only reason I dissed you in the first place Was because you denied seeing me Now I\\'m pissed off Sit back, homie, relax In fact grab a six pack Kick back while I kick facts Yeah Dre, sick track Perfect way to get back Wanna hear something wick-wack? I got the same exact tat That\\'s on Nick\\'s back I\\'m obsessed now Oh gee, is that supposed to be me In the video with the goatee? Wow Mariah, didn\\'t expect you to go balls out Bitch, shut the fuck up before I put all them phone calls out You made to my house when you was wild-n-out before Nick When you was on my dick and give you somethin to smile about How many times you fly to my house? Still trying to count Better shut your lying mouth if you don\\'t want Nick finding out You probably think cuz it\\'s been so long If i had something on you I woulda did it by now Oh on the contrary, Mary Poppins, I\\'m mixing our studio session Down and sending it to mastering to make it loud Enough dirt on you to murder you This is what the fuck I do Mariah, it ever occur to you that I still have pictures? However you prefer to do And that goes for Nick too Faggot, you think I\\'m scared of you? You gonna ruin my career, you better get one Like I\\'mma sit and fight with you over some slut, bitch-cunt That made me put up with her psycho-ass over 6 months And only spread her legs to let me hit once Yeah, what you gonna say? I\\'m lucky? Tell the public that I was so ugly That you fucking had to be drunk to fuck me? Second base? What the fuck you tell Nick, punk? In the second week we were dry humping That\\'s gotta count for something Listen girly, surely you don\\'t want me to talk about How I nutted early, \\'cause I ejaculated prematurely And bust all over your belly and you almost started hurling And said I was gross, go get a towel you\\'re stomachs curling? Or maybe you do, but if I\\'m embarrassing me I\\'m embarrassing you, and don\\'t you dare say it isn\\'t true As long as the song\\'s getting airplay, I\\'m dissing you I\\'m a hair away from getting carried away and getting sued I was gonna stop at 16, that was 32 This is 34 bars, we ain\\'t even a third of the way through Damn Slim, Mariah played you. Mariah who? Oh, did I say \"whore\", Nick? I meant a liar too Like I\\'ve been goin\\' off on you all this time for no reason Girl you out ya alcholic mind Check ya wine cellar, look at the amounts of all the wine Like I fuckin\\' sit around and think about you all the time I just think this shit is funny when I pounce you on a rhyme But fuck it now I\\'m bout to draw the line And for you to cross it that\\'s a mountain that I doubt you wanna climb I can describe areas of your house you wouldn\\'t find On an episode of Cribs, a blow below the ribs If I hear another word so don\\'t go opening your jibs \\'Cause every time you do it\\'s like an over load of fibs I ain\\'t saying this shit again, ho, you know what it is It\\'s a warning shot before I blow up your whole spot Call my bluff and I\\'ll release every fucking thing I got Including the voicemails right before you flipped your top When me and Luis were trying to stick two CD\\'s in the same slot Slim Shady, Slim Shady, I love you I love you too Let me whisper sweet nothings into your ear, boo Now what you say? It\\'s nothing Yeah, so what I\\'ll do Is refresh your memory when you said, \"I want you\" Now should I keep going, or should we call truce? You think you cute, right? You bet your sweet ass I do I\\'m Mary Poppins, B And I\\'m Superman, mmm Mary P., Slim Shady Comin\\' at you So if you\\'ll still be my baby girl Then I\\'ll still be your superhero Oh my, Em Yeah, I\\'m right here You like this Nope, not anymore dear It cuts like a knife when I tell you get a life But I\\'m movin\\' on with mine Nick, is that your wife? Well tell her to shut her mouth, then I\\'ll leave her alone If she don\\'t stick to the script, then I\\'mma just keep goin\\' Damn I see Mary Ann. Mary Ann\\'s saying, \"Cut the tape, cut the tape\" Knife! Make it, make it, make it, boy, we gotta make it You can save your hand, I ain\\'t gotta shake it Everything lined up for the taking And what I need from \\'em? No favors Clique too big, bread? Gotta break it Cause these others low key with the snaking faking Everything lined up for the taking And what I need from \\'em? No favors, no favors What I need? No favors Everything lined up for the taking And what I need from \\'em? No favors I\\'m about getting the job done, boy up every night I\\'m about rolling a seven, when I toss up the dice I\\'m about getting my logo off, flooded with ice I\\'m about taking a risk, that might fuck up your life Tell \\'em point and shoot like camera crews In front of cameras too (brrr) Damn, Sean, what happened to the humble attitude? I\\'m like \"niggas took the flow but I\\'m still standing too\" Thought I had the Midas touch And then I went platinum too Mother fuck all your comparisons I\\'ve been talking to God like that\\'s my therapist I\\'m African-American in America I ain\\'t inherit shit but a millionaire under 30 So He must be hearing shit Don, don, don, life, I do this for the crib The D to Flint who get sick with lead Others get the hit with the laugh From where they need a handout But they tell you put hands up Only deals I have is from the Sam\\'s Club Now it\\'s blue blood in my veins So you know where I came from Born in a world going where they told me I can\\'t go In my lane, though, I\\'m in the same boat as Usain Bolt Get ahead by any means so the head\\'s what I aim for When my grandma died, I realized I got an angel Show me everything\\'s a blessing depending on the angles Look, I am the anomaly, never needed favors or apologies That\\'s my new lifetime policy Wood grain steering wheel this bitch feel like a pirate ship How many hot verses till you bitches start acknowledging The pictures we been painting, my nigga Connected to a higher power How I know? \\'Cause I don\\'t write this shit, I think it, my nigga Look, all I ever did was beat the odds Cause when you try to get even it just don\\'t even out Never stopping like we hypnotized Watch what we visualize on the rise, be the G.O.A.T. While we alive when we die, we gon\\' be the gods Make it, make it, make it, boy, we gotta make it You can save your hand, I ain\\'t gotta shake it Everything lined up for the taking And what I need from \\'em? No favors Clique too big, bread? gotta break it \\'Cause these others low key with the snaking faking Everything lined up for the taking And what I need from \\'em? No favors, no favors If she was flavor I won\\'t savor No taste buds, hoe later Fuck you looking at, hater? I saw them eyes like an ass raper Try to copy my swag like a cheating classmate I\\'ll be the last face you see before you pass When you get your fucking ass graded like a math paper So ahead of my time late means I\\'m early, my age is reversing I\\'m basically 30, amazingly sturdy, zany and wordy Brainy and nerdy, blatantly dirty Insanely perverted, rapey and scurvy They blame me for murdering Jamie Lee Curtis Said I put her face in the furnace, beat her with a space heater A piece furniture, egg beater, thermos It may be disturbing, what I\\'m saying\\'s cringe worthy But I\\'m urinating on Fergie, call Shady number 81 Surely I\\'m turning into the Aaron Hernandez of rap State of emergency, the planets having panic attacks Brady\\'s returning, matter fact I may be deserving Of a Pat on the back like a Patriots jersey Inexplicable stomach growl from the pit of it Like a fucking Terrier hittin\\' it Despicable, dumb it down, ridiculous Tongue is foul shoot off at the fucking mouth Like a missile, a thunder cloud 100 pound pistol pull the trigger this gun will sound And you\\'ll get a round like Digital Underground And fuck Ann Coulter with a Klan poster With a lamp post, door handle shutter A damn bolt cutter, a sandal, a can opener, a candle rubber Piano, a flannel, sucker, some hand soap, butter A banjo and manhole cover Hand over the mouth and nose smother Trample ran over the tramp with the Land Rover The band, the Lambo, Hummer and Road Runner Go ham donut or go Rambo, gotta make an example of her That\\'s for Sandra Bland ho and Philando Hannibal on the lamb, no wonder I am so stubborn I\\'m anti, can\\'t no government handle a commando Your man don\\'t want it, Drumpf\\'s a bitch I\\'ll make his whole brand go under (yeah) And tell Dre I\\'m meeting him in L.A., white Bronco like Elway Speeding, I\\'m bout to run over a chick, Del Rey CD in? Females stay beatin \\'em, bet you they\\'ll lay bleeding And yell, \"Wait!\", pleading—but screaming is pointless Like feeding Michel\\'le helium Leaving them pale faced medium sized welt Straight treating \\'em like a cell mate See me I\\'m climbing hell\\'s gate Bitch, I\\'m like your problems: self-made Meaning someone else\\'s help ain\\'t needed Cause I\\'ma— Make it, make it, make it, boy, we gotta make it You can save your hand, I ain\\'t gotta shake it Everything lined up for the taking And what I need from em, no favors Clique too big, bread? gotta break it \\'Cause these others lowkey with the snaking faking Everything lined up for the taking And what I need from \\'em? No favors, no favors What I need? No favors Everything lined up for the taking And what I need from \\'em? no favors (I know you feeling yourself right now But I\\'m not sure she\\'s the one I would call them in) - \"Hey, I\\'m outside\" What are you doing here? Here to stay Even when I\\'m gone When I close my eyes Through the passage of time Kings never die I can hear the drummer drumming And the trumpets, someone\\'s tryna summon someone, I know something\\'s coming But I\\'m running from it to be standing at the summit And plummet, how come it wasn\\'t what I thought it was, was it Too good to be true? Have nothing, get it all but too much of it then lose it again Did I swallow hallucinogens, \\'cause if not, where the hell did it go? \\'Cause here I sit in Lucifer\\'s den by the dutch oven just choosing to sin Even if it means I\\'m selling my soul, just to be the undisputed again Do whatever I gotta do just to win \\'Cause I got this motherfucking cloud over my head Crown around it, thorns on it Cracks in it, bet you morons didn\\'t Think I\\'d be back, did ya? How \\'bout that I\\'m somehow now back to the underdog But no matter how loud that I bark, this sport is something I never bow-wow\\'d at I complain about the game, I shout and I pout, it\\'s a love-hate But I found out that I can move a mountain of doubt Even when you bitches are counting me out, and I appear to be down for the count Only time I ever been out and about is Driving around town with my fucking whereabouts in a doubt \\'Cause I been lost tryna think of what I did to get here but I\\'m not a quitter Gotta get up, give it all I got or give up Spit on, shit on, stepped on, but kept going I\\'m tryna be headstrong But it feels like I slept on my neck wrong \\'Cause you\\'re moving onto the next, but is the respect gone? \\'Cause someone told me that (Kings never die) Don\\'t give me that sob story liar, don\\'t preach to the choir You ain\\'t never even had to reach in the fire to dig deep Nobody ever handed me shit in life, not even a flyer Wouldn\\'t even take shit into consideration Obliterate anyone in the way I think I see why a lot of rappers get on these features and try to Show out on a track with me but it\\'d actually Have to be a fucking blowout to get me to retire Tell these new artists that kings never die I know shit has changed in this age, fuck a Twitter page Did it just say I\\'ve been upstaged? Why am I online? It\\'s driving me crazy I\\'m riding shotgun tryna get a gauge On what\\'s hot, but I\\'m not gonna\\' conform But as days pass in this shit And opinions sway, I can hear them say If I stay passionate maybe I can stay Jay miraculous Comeback as if I went away But detractors just say (so much) for the Renegade Someone\\'s gonna make me blow my composure Here I go again, center stage and I feel like I\\'m in a cage (Some want a champion to fall I still wonder why I laugh at \\'em \\'Cause why care when I\\'m awesome?) Fuck what these cynics say (Just goes to show that when my back\\'s against the wall And I\\'m under attack again, that I\\'ll act as if I\\'m posted up) With this pent-up rage, \\'cause all these plaques in my office On the floor stacked against the door Are they just metaphors for the odds of me comin\\' back again? \\'Cause all the accomplishments, accolades, awards And trophies just don\\'t mean jack anymore If I\\'m here today and gone tomorrow And I\\'m not gonna be Here to stay Even when I\\'m gone When I close my eyes Through the passage of time Kings never die I want it, I\\'m coming to get it So you son of a bitches don\\'t duck you\\'re gonna get Riddick Bowe\\'d Critics\\'ll end up in critical Think your shit is dope all you\\'re gonna get is smoked then And I ain\\'t stopping \\'till I\\'m on top again, all alone and on a throne Like a token of respect, or a homage poem, or an ode I\\'ve been owed Tossed in the air by my own arm, and launched so hard I broke my collarbone (And when it\\'s my time to go, I\\'m still not leaving) Stop for no one, I don\\'t know but I\\'ve been told an obstacle that Blocks your road, knock it over, time to go for that pot of gold, \\'cause (They say kings never die Just ask Jam Master Jay, they Just grow wings and they fly, so Hands up, reach for the sky Try to hold up and prolong these moments \\'Cause in a blink of an eye They\\'ll be over) Tryna secure your legacy like Shakur and ensure Nobody\\'s ever gonna be what you were So before you\\'re leaving this Earth You want people to feel the fury of a pure evil cerebral berserk Deacon of words, syllable genius at work Plus I\\'m thinking that they\\'re mistaking my kindness for weakness Kill \\'em with meanness I went from powdered milk and Farina To flipping burgers on the grill for some peanuts From Gilbert\\'s to arenas, call me Gilbert Arenas, still appeal to the dreamers I made it to the silver screen where Rocky\\'s still what the theme is Khalil on the beat \\'cause making the beat ain\\'t the same Feeling to me as killing the beat is So fulfilling to me is what filling a seat is That sound, vomit, thirst and how common underground commons eat Outsider stomach growl, throbbing hunger Out-rhyming everyone, God just give me one shot I swear that I won\\'t let you down I\\'ma be around forever, entertain even in the ground You ain\\'t never ever gonna hear me say I ain\\'t Here to stay Even when I\\'m gone When I close my eyes Through the passage of time Kings never die I am not Jasmine, I\\'m Aladdin So far ahead, these bums is laggin\\' See me in that new thing, bums is gaggin\\' I\\'m startin\\' to feel like a dungeon dragon Raah, raah, like a dungeon dragon I\\'m startin\\' to feel like a dungeon dragon Look at my show footage, how these girls be spazzin\\' So fuck I look like gettin\\' back to a has-been? Yeah, I said it, has-been Hang it up, flat screen (Haha) Plasma Hey Nicki, hey Nicki, asthma I got the pumps, it ain\\'t got medicine I got bars, sentencin\\' I\\'m a bad bitch, I\\'m a cunt And I\\'ll kick that hoe, punt Forced trauma, blunt You play the back, bitch, I\\'m in the front You need a job, this ain\\'t cuttin\\' it Nicki Minaj is who you ain\\'t fuckin\\' with You lil\\' brag a lot, I beat you with a pad-a-lock I am a movie, camera block You outta work, I know it\\'s tough But enough is enough Raah, raah, like a dungeon dragon Raah, raah, like a dungeon dragon Raah, raah, like a dungeon dragon Like a dungeon dragon, like a dungeon dragon Raah, raah, like a dungeon dragon Raah, raah, like a dungeon dragon Raah, raah, like a dungeon dragon Like a dungeon dragon, like a dungeon dragon I ain\\'t into S and M, but my whip\\'s off the chain A little drop of candy paint drips off the frame Twisted-ass mind, got a pretzel for a brain An eraser for a head, fuckin\\' pencil for a frame You don\\'t like it then peel off, bitch Every last woman on Earth I\\'ll kill off, and I still wouldn\\'t fuck you, slut So wipe the smile on your grill off, I swear to God I\\'ll piss a Happy Meal off Get the wheels turnin\\', spin, and wheel off Snap the axel in half, bust the tie-rod Quit hollerin\\' \\'Why, God?\\' He ain\\'t got shit to do with it Bygones\\'ll never be bygones, so won\\'t be finished swallowin\\' my wad I ain\\'t finished blowin\\' it, nice bra Hope it\\'ll fit a tough titty, bitch Life\\'s hard, I swear to God, life is a dumb blonde white broad With fake tits and a bad dye job Who just spit in my fuckin\\' face and called me a fuckin\\' tightwad So finally I broke down and bought her an iPod And caught her stealin\\' my music, so I tied her arms and legs to the bed Set up the camera and pissed twice on her Look, two pees and a tripod! The moral to the story is, life\\'s treatin\\' you like dry sod? Kick it back in its face, my God It\\'s Shady and Nicki Minaj, you might find the sight quite odd But don\\'t ask why, bitch (Ask why not) The wo-world is my punchin\\' bag and If I\\'m garbage, you\\'re a bunch of maggots Make that face, go on, scrunch it up at me Show me the target so I can lunge and attack it Like a, raah, raah, like a dungeon dragon You fell off, off, they musta bumped your wagon You musta went off the back, I\\'m \\'bout to go off the deep end I told you to stay in your lane, you just choked in traffic (I-I-I-I-Is) Is this the thanks that I get for puttin\\' you bitches on? Is it my fault that all of you bitches gone? Shoulda sent a thank-you note, you little ho Now I\\'ma wrap your coffin with a bow (Ni-ni-ni) \"Nicki, she\\'s just mad \\'cause you took the spot\" Word, that bitch mad \\'cause I took the spot? Well, bitch, if you ain\\'t shittin\\', then get off the pot Got some niggas out in Brooklyn that\\'ll off your top I-I-I-I hear them mumblin\\', I hear the cacklin\\' I got \\'em scared, shook, panickin\\' Overseas, church, Vatican You at a stand, still, mannequin You wanna sleep on me? Overnight? I\\'m the motherfuckin\\' boss, overwrite And when I pull up, vroom, motorbike Now all my niggas gettin\\' buck, overbite I see them dusty-ass Filas, Levi\\'s Raggedy-ass, holes in your knee-highs I call the play, now do you see why? These bitches callin\\' me Manning, Eli (Manning, Eli!) Ma, ma-ma-ma-ma, Manning, Eli These bitches callin\\' me (Manning, Eli) A-a-a-a-all you lil\\' fagots can suck it No homo\\', but I\\'ma stick it to \\'em like refrigerator magnets And I\\'m crooked enough to make straitjackets bend Yeah, look who\\'s back again, bitch, keep actin\\' as if You have the same passion that I have Yeah, right, still hungry, my ass You ass dicks had gastric bypass Ain\\'t hot enough to set fire to dry grass And \\'bout as violent as hair on eyelids (Eyelash!) Go take a flyin\\' leap of faith off a fuckin\\' balcony \\'Fore I shove a falcon wing up your fly ass You know what time it is, so why ask? When Shady and Nicki\\'s worlds clash It\\'s (high class) meets (white trash) Raah, raah, like a dungeon dragon Raah, raah, like a dungeon dragon Raah, raah, like a dungeon dragon Like a dungeon dragon, like a dungeon dragon Raah, raah, like a dungeon dragon Raah, raah, like a dungeon dragon Raah, raah, like a dungeon dragon Like a dungeon dragon, like a dungeon dragon Roman! Roman! Stop it, stop it! You\\'ve gone mad, mad, I tell you, mad! You and this boy Slim Shady! What\\'s goin\\' on? They\\'ll lock you away! They\\'ll put you in a jail cell! I promise! Take your mother\\'s warning, Roman Please! Back to bed! Run along! Let\\'s go! Come on! Wash your mouth out with soap, boys (Boys, boys, boys, boys, boys, boys) When I just a little baby boy My momma used to tell me these crazy things She used to tell me my daddy was an evil man, She used to tell me he hated me But then I got a little bit older And I realized, she was the crazy one But there was nothin\\' I could do or say to try to change it \\'Cause that\\'s just the way she was They said I can\\'t rap about bein\\' broke no more They ain\\'t say I can\\'t rap about coke no more Slut, you think I won\\'t choke no whore Til the vocal cords don\\'t work in her throat no more?! These motherfuckers are thinkin\\' I\\'m playin\\' Thinkin\\' I\\'m sayin\\' the shit Cause I\\'m thinkin\\' it just to be sayin\\' it Put your hands down bitch, I ain\\'t goin\\' shoot you I\\'m a pull you to this bullet, and put it through you Shut up slut, you\\'re causin\\' too much chaos Just bend over and take it like a slut, okay Ma? \"Oh, now he\\'s raping his own mother, abusing a whore, Snorting coke, and we gave him the Rolling Stone cover?\" You god damn right bitch, and now it\\'s too late I\\'m triple platinum and tragedies happen in two states I invented violence, you vile venomous volatile bitches Vain Vicadin, vrinnn Vrinnn, Vrinn! Texas Chainsaw, left his brains all Danglin\\' from his neck, while his head barely hangs on Blood, guts, guns, cuts Knives, lives, wives, nuns, sluts Bitch I\\'m a kill you! You don\\'t want to fuck with me Girls leave, you ain\\'t nothin\\' but a slut to me Bitch I\\'m a kill you! You ain\\'t got the balls to beef We ain\\'t goin\\' never stop beefin\\' I don\\'t squash the beef You better kill me! I\\'m a be another rapper dead For poppin\\' off at the mouth with shit I shouldn\\'t a said But when they kill me I\\'m bringin\\' the world with me Bitches too! You ain\\'t nothin\\' but a girl to me I said you don\\'t, want to fuck with Shady (cause why?) \\'Cause Shady, will fuckin\\' kill you (ah-ha ha) I said you don\\'t, want to fuck with Shady (why?) \\'Cause Shady, will fuckin\\' kill you Bitch I\\'m a kill you! Like a murder weapon, I\\'m a conceal you In a closet with mildew, sheets, pillows and film you Buck with me, I been through hell, shut the hell up! I\\'m tryin\\' to develop these pictures of the Devil to sell \\'em It ain\\'t acid rap, I just rap on acid Got a new blow-up doll and just had a strap-on added Whoops! Is that a subliminal hint? No! Just criminal intent to sodomize women again Eminem offend? No! Eminem insult And if you ever give in to him, you give him an impulse To do it again, then, if he does it again You\\'ll probably end up jumpin\\' out of somethin\\' up on the tenth Bitch I\\'m a kill you, I ain\\'t done this ain\\'t the chorus I ain\\'t even drug you in the woods yet to paint the forest A bloodstain is orange after you wash it three or four times In a tub but that\\'s normal ain\\'t it Norman? Serial killer hidin\\' murder material In a cereal box on top of your stereo Here we go again, we\\'re out of our medicine Out of our minds, and we want in yours, let us in Bitch I\\'m a kill you! You don\\'t want to fuck with me Girls leave, you ain\\'t nothin\\' but a slut to me Bitch I\\'m a kill you! You ain\\'t got the balls to beef We ain\\'t goin\\' never stop beefin\\' I don\\'t squash the beef Eh-heh, know why I say these things? Cause lady\\'s screams keep creepin\\' in Shady\\'s dreams And the way things seem, I shouldn\\'t have to pay these shrinks This eighty G\\'s a week to say the same things threece! Twice? Whatever, I hate these things Fuck shots! I hope the weed will outweigh these drinks Motherfuckers want me to come on their radio shows Just to argue with \\'em cause their ratings stink? Fuck that! I\\'ll choke radio announcer to bouncer From fat bitch to off seventy-thousand pounds of her From principal to the student body and counselor From in-school to before school to out of school I don\\'t even believe in breathin\\' I\\'m leavin\\' air in your lungs Just to hear you keep screamin\\' for me to seep it Okay, I\\'m ready to go play I go the machete from O.J. I\\'m ready to make everyone\\'s throat ache You faggots keep eggin\\' me on Til I have you at knife point, then you beg me to stop? Shut up! Give me your hands and feet I said shut up when I\\'m talkin\\' to you You hear me? Answer me! Bitch I\\'m a kill you! You don\\'t want to fuck with me Girls leave, you ain\\'t nothin\\' but a slut to me Bitch I\\'m a kill you! You ain\\'t got the balls to beef We ain\\'t goin\\' never stop beefin\\' I don\\'t squash the beef Ha ha ha, I\\'m just playin\\' ladies You know, I love you'"
            ],
            "application/vnd.google.colaboratory.intrinsic+json": {
              "type": "string"
            }
          },
          "metadata": {},
          "execution_count": 20
        }
      ],
      "source": [
        "# Concatenamos todos los rows en un solo valor\n",
        "corpus = df.apply(lambda row: ' '.join(row.values.astype(str)), axis=0)[0]\n",
        "corpus"
      ]
    },
    {
      "cell_type": "code",
      "execution_count": 21,
      "metadata": {
        "id": "_KlsYd7_uOez",
        "colab": {
          "base_uri": "https://localhost:8080/"
        },
        "outputId": "8d06a2fa-9c0f-43e7-d1d1-8c58b412dd72"
      },
      "outputs": [
        {
          "output_type": "execute_result",
          "data": {
            "text/plain": [
              "['look',\n",
              " 'i',\n",
              " 'was',\n",
              " 'gonna',\n",
              " 'go',\n",
              " 'easy',\n",
              " 'on',\n",
              " 'you',\n",
              " 'and',\n",
              " 'not',\n",
              " 'to',\n",
              " 'hurt',\n",
              " 'your',\n",
              " 'feelings',\n",
              " 'but',\n",
              " \"i'm\",\n",
              " 'only',\n",
              " 'going',\n",
              " 'to',\n",
              " 'get']"
            ]
          },
          "metadata": {},
          "execution_count": 21
        }
      ],
      "source": [
        "# Transformar el corpus a tokens\n",
        "tokens=text_to_word_sequence(corpus)\n",
        "# Vistazo general de los primeros tokens\n",
        "tokens[:20]"
      ]
    },
    {
      "cell_type": "code",
      "execution_count": 22,
      "metadata": {
        "id": "GlqpZSJOJ1xQ",
        "colab": {
          "base_uri": "https://localhost:8080/"
        },
        "outputId": "7883ce1a-3d0a-4c41-8d12-7fc324ecdbc2"
      },
      "outputs": [
        {
          "output_type": "stream",
          "name": "stdout",
          "text": [
            "Cantidad de tokens en el corpus: 64838\n"
          ]
        }
      ],
      "source": [
        "print(\"Cantidad de tokens en el corpus:\", len(tokens))"
      ]
    },
    {
      "cell_type": "code",
      "execution_count": 23,
      "metadata": {
        "id": "RhQevOynuYk2"
      },
      "outputs": [],
      "source": [
        "# Código para hacer el desfazaje de las palabras\n",
        "# según el train_len\n",
        "text_sequences = []\n",
        "for i in range(train_len, len(tokens)):\n",
        "  seq = tokens[i-train_len:i]\n",
        "  text_sequences.append(seq)"
      ]
    },
    {
      "cell_type": "code",
      "execution_count": 24,
      "metadata": {
        "id": "FU3FuqHSuhzq",
        "colab": {
          "base_uri": "https://localhost:8080/"
        },
        "outputId": "8cafc371-f22d-42b7-9550-8ea489a51f86"
      },
      "outputs": [
        {
          "output_type": "execute_result",
          "data": {
            "text/plain": [
              "[['look', 'i', 'was', 'gonna'],\n",
              " ['i', 'was', 'gonna', 'go'],\n",
              " ['was', 'gonna', 'go', 'easy'],\n",
              " ['gonna', 'go', 'easy', 'on'],\n",
              " ['go', 'easy', 'on', 'you'],\n",
              " ['easy', 'on', 'you', 'and'],\n",
              " ['on', 'you', 'and', 'not'],\n",
              " ['you', 'and', 'not', 'to'],\n",
              " ['and', 'not', 'to', 'hurt'],\n",
              " ['not', 'to', 'hurt', 'your'],\n",
              " ['to', 'hurt', 'your', 'feelings'],\n",
              " ['hurt', 'your', 'feelings', 'but'],\n",
              " ['your', 'feelings', 'but', \"i'm\"],\n",
              " ['feelings', 'but', \"i'm\", 'only'],\n",
              " ['but', \"i'm\", 'only', 'going'],\n",
              " [\"i'm\", 'only', 'going', 'to'],\n",
              " ['only', 'going', 'to', 'get'],\n",
              " ['going', 'to', 'get', 'this'],\n",
              " ['to', 'get', 'this', 'one'],\n",
              " ['get', 'this', 'one', 'chance']]"
            ]
          },
          "metadata": {},
          "execution_count": 24
        }
      ],
      "source": [
        "# Demos un vistazo a nuestros vectores para entrenar el modelo\n",
        "text_sequences[:20]"
      ]
    },
    {
      "cell_type": "code",
      "execution_count": 25,
      "metadata": {
        "id": "064N2jtLvHRg",
        "colab": {
          "base_uri": "https://localhost:8080/"
        },
        "outputId": "97a39816-2386-4f6a-dfa3-24a057190d20"
      },
      "outputs": [
        {
          "output_type": "execute_result",
          "data": {
            "text/plain": [
              "[[106, 1, 37, 99],\n",
              " [1, 37, 99, 42],\n",
              " [37, 99, 42, 843],\n",
              " [99, 42, 843, 19],\n",
              " [42, 843, 19, 3],\n",
              " [843, 19, 3, 6],\n",
              " [19, 3, 6, 38],\n",
              " [3, 6, 38, 4],\n",
              " [6, 38, 4, 256],\n",
              " [38, 4, 256, 21],\n",
              " [4, 256, 21, 1042],\n",
              " [256, 21, 1042, 16],\n",
              " [21, 1042, 16, 8],\n",
              " [1042, 16, 8, 112],\n",
              " [16, 8, 112, 199],\n",
              " [8, 112, 199, 4],\n",
              " [112, 199, 4, 25],\n",
              " [199, 4, 25, 15],\n",
              " [4, 25, 15, 51],\n",
              " [25, 15, 51, 232]]"
            ]
          },
          "metadata": {},
          "execution_count": 25
        }
      ],
      "source": [
        "# Proceso de tokenizacion\n",
        "tok = Tokenizer() \n",
        "tok.fit_on_texts(text_sequences) \n",
        "\n",
        "# Convertimos las palabras a números\n",
        "# entran palabras -> salen números\n",
        "sequences = tok.texts_to_sequences(text_sequences)\n",
        "\n",
        "# Damos un vistazo\n",
        "sequences[:20]"
      ]
    },
    {
      "cell_type": "code",
      "execution_count": 26,
      "metadata": {
        "id": "vwsvmvDKKXSP",
        "colab": {
          "base_uri": "https://localhost:8080/"
        },
        "outputId": "f1e61799-698e-460a-c009-acace152b509"
      },
      "outputs": [
        {
          "output_type": "stream",
          "name": "stdout",
          "text": [
            "Cantidad de rows del dataset: 64834\n"
          ]
        }
      ],
      "source": [
        "print(\"Cantidad de rows del dataset:\", len(sequences))"
      ]
    },
    {
      "cell_type": "markdown",
      "metadata": {
        "id": "QMVP4bj0vL2e"
      },
      "source": [
        "### 3 - Input y target"
      ]
    },
    {
      "cell_type": "code",
      "execution_count": 27,
      "metadata": {
        "id": "mx2xwdz3KloJ",
        "colab": {
          "base_uri": "https://localhost:8080/"
        },
        "outputId": "dd01007b-3bba-4245-fc6f-79f5131275c2"
      },
      "outputs": [
        {
          "output_type": "execute_result",
          "data": {
            "text/plain": [
              "array([[1, 2, 3, 4],\n",
              "       [5, 6, 7, 8]])"
            ]
          },
          "metadata": {},
          "execution_count": 27
        }
      ],
      "source": [
        "# Con numpy es muy fácil realizar el slicing de vectores\n",
        "ex = np.array([[1,2,3,4],[5,6,7,8]])\n",
        "ex"
      ]
    },
    {
      "cell_type": "code",
      "execution_count": 28,
      "metadata": {
        "id": "BEod7qghvTVt",
        "colab": {
          "base_uri": "https://localhost:8080/"
        },
        "outputId": "14271146-ffe7-40ba-c4b2-7e1de82184f0"
      },
      "outputs": [
        {
          "output_type": "stream",
          "name": "stdout",
          "text": [
            "Dimension: (2, 4)\n",
            "Todos los elementos: [[1 2 3 4]\n",
            " [5 6 7 8]]\n",
            "Todos los elementos menos el último: [[1 2 3]\n",
            " [5 6 7]]\n"
          ]
        }
      ],
      "source": [
        "# Con numpy es muy fácil realizar el slicing de vectores\n",
        "print(\"Dimension:\", ex.shape)\n",
        "print(\"Todos los elementos:\", ex)\n",
        "print(\"Todos los elementos menos el último:\", ex[:, :-1])"
      ]
    },
    {
      "cell_type": "code",
      "execution_count": 29,
      "metadata": {
        "id": "i95xWqtCvp8T",
        "colab": {
          "base_uri": "https://localhost:8080/"
        },
        "outputId": "a6150ae9-176b-4ef4-c168-18fa5d872392"
      },
      "outputs": [
        {
          "output_type": "stream",
          "name": "stdout",
          "text": [
            "Input: [[1 2 3]\n",
            " [5 6 7]]\n",
            "Target: [4 8]\n"
          ]
        }
      ],
      "source": [
        "input = ex[:,:-1] # todos los rows, menos la ultima col\n",
        "target = ex[:, -1] # última col de cada row\n",
        "\n",
        "print(\"Input:\", input)\n",
        "print(\"Target:\", target)"
      ]
    },
    {
      "cell_type": "code",
      "execution_count": 30,
      "metadata": {
        "id": "e1vJTG65v4Qn",
        "colab": {
          "base_uri": "https://localhost:8080/"
        },
        "outputId": "7fecbf5c-0739-4741-c8b2-ac7f06c72585"
      },
      "outputs": [
        {
          "output_type": "stream",
          "name": "stdout",
          "text": [
            "(64834, 3)\n",
            "(64834,)\n"
          ]
        }
      ],
      "source": [
        "arr_sequences = np.array(sequences)\n",
        "x_data = arr_sequences[:,:-1]\n",
        "y_data_int = arr_sequences[:,-1] # aún falta el oneHotEncoder\n",
        "\n",
        "print(x_data.shape)\n",
        "print(y_data_int.shape)"
      ]
    },
    {
      "cell_type": "code",
      "execution_count": 31,
      "metadata": {
        "id": "ln6kVWVlwBBs",
        "colab": {
          "base_uri": "https://localhost:8080/"
        },
        "outputId": "4db7b6a8-178c-435d-f394-88c72d1c11f9"
      },
      "outputs": [
        {
          "output_type": "execute_result",
          "data": {
            "text/plain": [
              "{1: 'i',\n",
              " 2: 'the',\n",
              " 3: 'you',\n",
              " 4: 'to',\n",
              " 5: 'a',\n",
              " 6: 'and',\n",
              " 7: 'my',\n",
              " 8: \"i'm\",\n",
              " 9: 'it',\n",
              " 10: 'me',\n",
              " 11: 'in',\n",
              " 12: 'that',\n",
              " 13: 'like',\n",
              " 14: 'of',\n",
              " 15: 'this',\n",
              " 16: 'but',\n",
              " 17: 'just',\n",
              " 18: 'so',\n",
              " 19: 'on',\n",
              " 20: 'is',\n",
              " 21: 'your',\n",
              " 22: \"don't\",\n",
              " 23: 'up',\n",
              " 24: 'with',\n",
              " 25: 'get',\n",
              " 26: 'for',\n",
              " 27: 'be',\n",
              " 28: \"it's\",\n",
              " 29: 'no',\n",
              " 30: 'all',\n",
              " 31: 'know',\n",
              " 32: 'what',\n",
              " 33: 'now',\n",
              " 34: 'out',\n",
              " 35: 'when',\n",
              " 36: 'they',\n",
              " 37: 'was',\n",
              " 38: 'not',\n",
              " 39: 'fuck',\n",
              " 40: \"ain't\",\n",
              " 41: 'got',\n",
              " 42: 'go',\n",
              " 43: 'at',\n",
              " 44: 'can',\n",
              " 45: 'back',\n",
              " 46: 'if',\n",
              " 47: 'shit',\n",
              " 48: 'we',\n",
              " 49: 'he',\n",
              " 50: 'do',\n",
              " 51: 'one',\n",
              " 52: 'from',\n",
              " 53: \"'cause\",\n",
              " 54: 'as',\n",
              " 55: 'never',\n",
              " 56: 'see',\n",
              " 57: 'think',\n",
              " 58: 'say',\n",
              " 59: 'his',\n",
              " 60: 'make',\n",
              " 61: \"you're\",\n",
              " 62: 'off',\n",
              " 63: 'oh',\n",
              " 64: \"that's\",\n",
              " 65: 'way',\n",
              " 66: 'down',\n",
              " 67: 'who',\n",
              " 68: 'her',\n",
              " 69: 'have',\n",
              " 70: \"can't\",\n",
              " 71: 'take',\n",
              " 72: 'right',\n",
              " 73: 'ass',\n",
              " 74: 'bitch',\n",
              " 75: 'too',\n",
              " 76: 'or',\n",
              " 77: 'name',\n",
              " 78: 'let',\n",
              " 79: 'want',\n",
              " 80: 'love',\n",
              " 81: 'then',\n",
              " 82: 'are',\n",
              " 83: \"i'll\",\n",
              " 84: 'these',\n",
              " 85: 'time',\n",
              " 86: 'am',\n",
              " 87: 'how',\n",
              " 88: 'been',\n",
              " 89: 'shady',\n",
              " 90: \"'em\",\n",
              " 91: 'even',\n",
              " 92: 'why',\n",
              " 93: 'feel',\n",
              " 94: 'him',\n",
              " 95: 'yeah',\n",
              " 96: 'baby',\n",
              " 97: 'man',\n",
              " 98: 'cause',\n",
              " 99: 'gonna',\n",
              " 100: 'come',\n",
              " 101: 'still',\n",
              " 102: 'slim',\n",
              " 103: 'about',\n",
              " 104: \"he's\",\n",
              " 105: 'wanna',\n",
              " 106: 'look',\n",
              " 107: 'little',\n",
              " 108: 'some',\n",
              " 109: 'through',\n",
              " 110: 'could',\n",
              " 111: 'an',\n",
              " 112: 'only',\n",
              " 113: 'did',\n",
              " 114: 'life',\n",
              " 115: 'girl',\n",
              " 116: 'over',\n",
              " 117: 'here',\n",
              " 118: 'put',\n",
              " 119: 'give',\n",
              " 120: 'better',\n",
              " 121: 'more',\n",
              " 122: 'need',\n",
              " 123: 'had',\n",
              " 124: 'said',\n",
              " 125: 'there',\n",
              " 126: \"i've\",\n",
              " 127: 'she',\n",
              " 128: 'everybody',\n",
              " 129: 'by',\n",
              " 130: 'stand',\n",
              " 131: \"fuckin'\",\n",
              " 132: 'aah',\n",
              " 133: 'them',\n",
              " 134: 'ever',\n",
              " 135: 'fucking',\n",
              " 136: 'tell',\n",
              " 137: 'rap',\n",
              " 138: 'god',\n",
              " 139: 'bad',\n",
              " 140: 'again',\n",
              " 141: 'crazy',\n",
              " 142: 'world',\n",
              " 143: 'will',\n",
              " 144: 'nothing',\n",
              " 145: 'before',\n",
              " 146: 'us',\n",
              " 147: 'try',\n",
              " 148: 'stop',\n",
              " 149: 'maybe',\n",
              " 150: 'would',\n",
              " 151: 'hear',\n",
              " 152: 'new',\n",
              " 153: 'keep',\n",
              " 154: 'where',\n",
              " 155: 'own',\n",
              " 156: 'please',\n",
              " 157: 'really',\n",
              " 158: 'something',\n",
              " 159: 'every',\n",
              " 160: 'made',\n",
              " 161: 'same',\n",
              " 162: 'blow',\n",
              " 163: 'day',\n",
              " 164: 'around',\n",
              " 165: 'gotta',\n",
              " 166: 'call',\n",
              " 167: 'into',\n",
              " 168: \"'til\",\n",
              " 169: 'head',\n",
              " 170: \"there's\",\n",
              " 171: \"won't\",\n",
              " 172: 'boy',\n",
              " 173: 'mom',\n",
              " 174: 'yo',\n",
              " 175: \"didn't\",\n",
              " 176: 'well',\n",
              " 177: 'face',\n",
              " 178: 'white',\n",
              " 179: 'shot',\n",
              " 180: 'real',\n",
              " 181: 'gone',\n",
              " 182: 'once',\n",
              " 183: 'comes',\n",
              " 184: 'guess',\n",
              " 185: 'thing',\n",
              " 186: 'night',\n",
              " 187: 'ya',\n",
              " 188: 'while',\n",
              " 189: 'lose',\n",
              " 190: 'two',\n",
              " 191: \"let's\",\n",
              " 192: 'shake',\n",
              " 193: 'people',\n",
              " 194: 'hit',\n",
              " 195: 'yourself',\n",
              " 196: 'show',\n",
              " 197: 'ha',\n",
              " 198: 'find',\n",
              " 199: 'going',\n",
              " 200: 'goes',\n",
              " 201: \"we're\",\n",
              " 202: 'enough',\n",
              " 203: 'music',\n",
              " 204: 'sing',\n",
              " 205: 'dre',\n",
              " 206: 'everything',\n",
              " 207: 'good',\n",
              " 208: 'damn',\n",
              " 209: 'much',\n",
              " 210: 'doing',\n",
              " 211: 'whole',\n",
              " 212: 'its',\n",
              " 213: 'other',\n",
              " 214: 'long',\n",
              " 215: 'looking',\n",
              " 216: 'away',\n",
              " 217: 'told',\n",
              " 218: 'till',\n",
              " 219: 'wish',\n",
              " 220: 'walk',\n",
              " 221: 'mind',\n",
              " 222: 'inside',\n",
              " 223: 'die',\n",
              " 224: 'rock',\n",
              " 225: 'return',\n",
              " 226: 'next',\n",
              " 227: 'cold',\n",
              " 228: 'getting',\n",
              " 229: 'feels',\n",
              " 230: 'bitches',\n",
              " 231: 'came',\n",
              " 232: 'chance',\n",
              " 233: 'big',\n",
              " 234: 'their',\n",
              " 235: 'must',\n",
              " 236: 'full',\n",
              " 237: 'run',\n",
              " 238: 'sometimes',\n",
              " 239: 'hope',\n",
              " 240: 'superman',\n",
              " 241: 'sick',\n",
              " 242: \"wasn't\",\n",
              " 243: 'meant',\n",
              " 244: 'pretend',\n",
              " 245: 'hell',\n",
              " 246: 'though',\n",
              " 247: 'should',\n",
              " 248: 'moment',\n",
              " 249: 'bed',\n",
              " 250: 'kid',\n",
              " 251: 'afraid',\n",
              " 252: 'without',\n",
              " 253: 'high',\n",
              " 254: \"who's\",\n",
              " 255: 'leave',\n",
              " 256: 'hurt',\n",
              " 257: 'home',\n",
              " 258: 'pain',\n",
              " 259: 'mean',\n",
              " 260: 'sorry',\n",
              " 261: 'hi',\n",
              " 262: 'band',\n",
              " 263: \"i'mma\",\n",
              " 264: 'beat',\n",
              " 265: 'friends',\n",
              " 266: 'always',\n",
              " 267: 'because',\n",
              " 268: 'lie',\n",
              " 269: 'each',\n",
              " 270: 'our',\n",
              " 271: 'kids',\n",
              " 272: 'than',\n",
              " 273: 'move',\n",
              " 274: 'another',\n",
              " 275: 'has',\n",
              " 276: 'hands',\n",
              " 277: 'sit',\n",
              " 278: 'light',\n",
              " 279: 'hey',\n",
              " 280: 'many',\n",
              " 281: 'miss',\n",
              " 282: 'under',\n",
              " 283: 'save',\n",
              " 284: 'probably',\n",
              " 285: 'talk',\n",
              " 286: 'fucked',\n",
              " 287: 'huh',\n",
              " 288: 'kill',\n",
              " 289: 'game',\n",
              " 290: 'nobody',\n",
              " 291: 'spit',\n",
              " 292: \"i'd\",\n",
              " 293: 'hand',\n",
              " 294: 'road',\n",
              " 295: 'cry',\n",
              " 296: 'daddy',\n",
              " 297: 'top',\n",
              " 298: \"y'all\",\n",
              " 299: 'party',\n",
              " 300: 'half',\n",
              " 301: 'place',\n",
              " 302: 'words',\n",
              " 303: 'hate',\n",
              " 304: 'left',\n",
              " 305: \"you'll\",\n",
              " 306: 'house',\n",
              " 307: 'heart',\n",
              " 308: 'shut',\n",
              " 309: 'momma',\n",
              " 310: 'raah',\n",
              " 311: 'were',\n",
              " 312: 'straight',\n",
              " 313: 'mad',\n",
              " 314: 'fall',\n",
              " 315: 'mouth',\n",
              " 316: 'hold',\n",
              " 317: \"tryin'\",\n",
              " 318: 'used',\n",
              " 319: 'until',\n",
              " 320: 'turn',\n",
              " 321: 'thought',\n",
              " 322: 'alright',\n",
              " 323: 'act',\n",
              " 324: 'wrong',\n",
              " 325: 'hard',\n",
              " 326: 'trying',\n",
              " 327: 'went',\n",
              " 328: 'wanted',\n",
              " 329: 'old',\n",
              " 330: 'alone',\n",
              " 331: 'together',\n",
              " 332: \"goin'\",\n",
              " 333: 'girls',\n",
              " 334: 'door',\n",
              " 335: \"what's\",\n",
              " 336: 'legacy',\n",
              " 337: 'taking',\n",
              " 338: 'grow',\n",
              " 339: 'opportunity',\n",
              " 340: \"you've\",\n",
              " 341: 'last',\n",
              " 342: 'eyes',\n",
              " 343: 'sky',\n",
              " 344: 'tonight',\n",
              " 345: 'start',\n",
              " 346: 'play',\n",
              " 347: 'drop',\n",
              " 348: 'use',\n",
              " 349: 'looks',\n",
              " 350: 'follow',\n",
              " 351: 'first',\n",
              " 352: 'dick',\n",
              " 353: 'whatever',\n",
              " 354: 'cut',\n",
              " 355: 'fire',\n",
              " 356: 'done',\n",
              " 357: \"gon'\",\n",
              " 358: 'bring',\n",
              " 359: 'pac',\n",
              " 360: 'body',\n",
              " 361: 'pee',\n",
              " 362: 'dungeon',\n",
              " 363: 'dragon',\n",
              " 364: \"motherfuckin'\",\n",
              " 365: 'wall',\n",
              " 366: 'uh',\n",
              " 367: 'eminem',\n",
              " 368: 'wait',\n",
              " 369: 'does',\n",
              " 370: 'ah',\n",
              " 371: 'doctor',\n",
              " 372: 'break',\n",
              " 373: 'couple',\n",
              " 374: 'after',\n",
              " 375: 'school',\n",
              " 376: 'fight',\n",
              " 377: 'knows',\n",
              " 378: 'father',\n",
              " 379: 'da',\n",
              " 380: 'believe',\n",
              " 381: 'end',\n",
              " 382: 'sound',\n",
              " 383: 'things',\n",
              " 384: 'else',\n",
              " 385: \"they're\",\n",
              " 386: 'late',\n",
              " 387: 'america',\n",
              " 388: 'front',\n",
              " 389: 'work',\n",
              " 390: 'ask',\n",
              " 391: 'marshall',\n",
              " 392: 'coming',\n",
              " 393: 'myself',\n",
              " 394: 'tomorrow',\n",
              " 395: 'tryna',\n",
              " 396: 't',\n",
              " 397: 'someone',\n",
              " 398: 'took',\n",
              " 399: 'stay',\n",
              " 400: 'picture',\n",
              " 401: 'seen',\n",
              " 402: 'hot',\n",
              " 403: 'touch',\n",
              " 404: \"actin'\",\n",
              " 405: 'since',\n",
              " 406: 'dead',\n",
              " 407: 'saying',\n",
              " 408: 'lifetime',\n",
              " 409: 'close',\n",
              " 410: 'caught',\n",
              " 411: 'lot',\n",
              " 412: 'both',\n",
              " 413: \"she's\",\n",
              " 414: \"'bout\",\n",
              " 415: 'beautiful',\n",
              " 416: 'smoke',\n",
              " 417: 'bout',\n",
              " 418: 'closet',\n",
              " 419: 'live',\n",
              " 420: 'feeling',\n",
              " 421: 'f',\n",
              " 422: 'trailer',\n",
              " 423: 'help',\n",
              " 424: 'king',\n",
              " 425: 'mine',\n",
              " 426: 'matter',\n",
              " 427: 'point',\n",
              " 428: 'chorus',\n",
              " 429: 'gave',\n",
              " 430: 'standing',\n",
              " 431: 'club',\n",
              " 432: 'yesterday',\n",
              " 433: 'years',\n",
              " 434: 'dad',\n",
              " 435: 'mother',\n",
              " 436: 'song',\n",
              " 437: 'write',\n",
              " 438: 'guy',\n",
              " 439: 'slut',\n",
              " 440: 'vegas',\n",
              " 441: 'six',\n",
              " 442: 'any',\n",
              " 443: 'fact',\n",
              " 444: 'shoot',\n",
              " 445: 'outta',\n",
              " 446: 'times',\n",
              " 447: 'throw',\n",
              " 448: 'dumb',\n",
              " 449: 'roof',\n",
              " 450: 'five',\n",
              " 451: 'along',\n",
              " 452: 'eat',\n",
              " 453: 'pull',\n",
              " 454: 'today',\n",
              " 455: 'lost',\n",
              " 456: 'dream',\n",
              " 457: 'listen',\n",
              " 458: 'almost',\n",
              " 459: 'word',\n",
              " 460: 'pills',\n",
              " 461: 'kick',\n",
              " 462: \"'till\",\n",
              " 463: 'o',\n",
              " 464: 'valium',\n",
              " 465: 'blue',\n",
              " 466: 'dig',\n",
              " 467: 'thinking',\n",
              " 468: 'everyday',\n",
              " 469: \"it'll\",\n",
              " 470: 'pop',\n",
              " 471: 'may',\n",
              " 472: 'wrote',\n",
              " 473: 'broke',\n",
              " 474: 'days',\n",
              " 475: \"we'll\",\n",
              " 476: \"gettin'\",\n",
              " 477: 'called',\n",
              " 478: 'dude',\n",
              " 479: 'free',\n",
              " 480: 'car',\n",
              " 481: 'niggas',\n",
              " 482: 'empty',\n",
              " 483: 'met',\n",
              " 484: 'grab',\n",
              " 485: 'gun',\n",
              " 486: 'kiss',\n",
              " 487: 'dog',\n",
              " 488: 'legs',\n",
              " 489: 'drugs',\n",
              " 490: 'butt',\n",
              " 491: 'k',\n",
              " 492: 'three',\n",
              " 493: 'crack',\n",
              " 494: 'flames',\n",
              " 495: 'tried',\n",
              " 496: 'found',\n",
              " 497: 'drunk',\n",
              " 498: 'd',\n",
              " 499: 'ready',\n",
              " 500: 'stage',\n",
              " 501: \"screamin'\",\n",
              " 502: 'wonder',\n",
              " 503: 'lay',\n",
              " 504: 'swear',\n",
              " 505: 'hair',\n",
              " 506: 'bit',\n",
              " 507: 'friend',\n",
              " 508: 'mic',\n",
              " 509: 'shoes',\n",
              " 510: 'mile',\n",
              " 511: 'started',\n",
              " 512: 'floor',\n",
              " 513: 'morning',\n",
              " 514: 'ma',\n",
              " 515: 'step',\n",
              " 516: 'arms',\n",
              " 517: 'living',\n",
              " 518: 'hop',\n",
              " 519: 'track',\n",
              " 520: 'line',\n",
              " 521: 'stuck',\n",
              " 522: 'hoes',\n",
              " 523: 'tear',\n",
              " 524: 'sleep',\n",
              " 525: 'blood',\n",
              " 526: 'might',\n",
              " 527: 'ground',\n",
              " 528: 'single',\n",
              " 529: 'stars',\n",
              " 530: 'burn',\n",
              " 531: 'window',\n",
              " 532: \"shady's\",\n",
              " 533: 'job',\n",
              " 534: 'soon',\n",
              " 535: 'true',\n",
              " 536: 'rest',\n",
              " 537: 'em',\n",
              " 538: \"lookin'\",\n",
              " 539: 'side',\n",
              " 540: 'fast',\n",
              " 541: 'kim',\n",
              " 542: \"wouldn't\",\n",
              " 543: 'drive',\n",
              " 544: 'kinda',\n",
              " 545: 'far',\n",
              " 546: 'against',\n",
              " 547: \"i'ma\",\n",
              " 548: 'flow',\n",
              " 549: 'ooh',\n",
              " 550: 'b',\n",
              " 551: 'fack',\n",
              " 552: 'shooting',\n",
              " 553: 'nigga',\n",
              " 554: 'beef',\n",
              " 555: 'hip',\n",
              " 556: 'fame',\n",
              " 557: 'rhymes',\n",
              " 558: 'being',\n",
              " 559: 'anything',\n",
              " 560: 'songs',\n",
              " 561: 'loud',\n",
              " 562: 'daughter',\n",
              " 563: \"playin'\",\n",
              " 564: 'ways',\n",
              " 565: 'nuts',\n",
              " 566: 'starting',\n",
              " 567: 'watch',\n",
              " 568: 'different',\n",
              " 569: 'brain',\n",
              " 570: 'outside',\n",
              " 571: 'lips',\n",
              " 572: 'cum',\n",
              " 573: 'parents',\n",
              " 574: 'scared',\n",
              " 575: \"daddy's\",\n",
              " 576: 'bet',\n",
              " 577: \"nothin'\",\n",
              " 578: 's',\n",
              " 579: 'makes',\n",
              " 580: 'stick',\n",
              " 581: 'favors',\n",
              " 582: 'beginning',\n",
              " 583: 'nod',\n",
              " 584: 'fat',\n",
              " 585: 'rhyme',\n",
              " 586: 'lead',\n",
              " 587: 'meet',\n",
              " 588: 'talking',\n",
              " 589: 'fell',\n",
              " 590: 'dope',\n",
              " 591: 'change',\n",
              " 592: 'mama',\n",
              " 593: 'spot',\n",
              " 594: 'feet',\n",
              " 595: 'set',\n",
              " 596: 'monster',\n",
              " 597: 'breath',\n",
              " 598: 'verse',\n",
              " 599: 'okay',\n",
              " 600: 'black',\n",
              " 601: \"couldn't\",\n",
              " 602: 'hurts',\n",
              " 603: 'remember',\n",
              " 604: 'second',\n",
              " 605: 'wants',\n",
              " 606: 'thousand',\n",
              " 607: 'room',\n",
              " 608: 'which',\n",
              " 609: 'gets',\n",
              " 610: 'wake',\n",
              " 611: 'fear',\n",
              " 612: '8',\n",
              " 613: 'yes',\n",
              " 614: 'win',\n",
              " 615: 'dear',\n",
              " 616: 'saw',\n",
              " 617: 'throat',\n",
              " 618: 'forgot',\n",
              " 619: 'bunch',\n",
              " 620: 'kind',\n",
              " 621: 'clear',\n",
              " 622: 'blame',\n",
              " 623: 'dance',\n",
              " 624: 'airplanes',\n",
              " 625: 'motherfuckers',\n",
              " 626: 'dynamite',\n",
              " 627: 'box',\n",
              " 628: \"here's\",\n",
              " 629: 'deep',\n",
              " 630: 'nine',\n",
              " 631: 'nice',\n",
              " 632: 'boys',\n",
              " 633: 'women',\n",
              " 634: \"life's\",\n",
              " 635: 'supposed',\n",
              " 636: 'pass',\n",
              " 637: 'hole',\n",
              " 638: 'nose',\n",
              " 639: 'best',\n",
              " 640: 'feed',\n",
              " 641: 'gotten',\n",
              " 642: 'attention',\n",
              " 643: 'blew',\n",
              " 644: '3',\n",
              " 645: 'ride',\n",
              " 646: 'doubt',\n",
              " 647: 'quit',\n",
              " 648: 'promise',\n",
              " 649: 'pick',\n",
              " 650: \"poppin'\",\n",
              " 651: 'weed',\n",
              " 652: 'lights',\n",
              " 653: 'problem',\n",
              " 654: 'twenty',\n",
              " 655: 'swallow',\n",
              " 656: 'behind',\n",
              " 657: 'smile',\n",
              " 658: 'reason',\n",
              " 659: 'control',\n",
              " 660: 'money',\n",
              " 661: 'loved',\n",
              " 662: 'tape',\n",
              " 663: 'fan',\n",
              " 664: 'four',\n",
              " 665: 'motherfucker',\n",
              " 666: 'battle',\n",
              " 667: \"comin'\",\n",
              " 668: 'ladies',\n",
              " 669: 'means',\n",
              " 670: 'slap',\n",
              " 671: 'rappers',\n",
              " 672: 'bust',\n",
              " 673: 'thank',\n",
              " 674: 'barely',\n",
              " 675: 'park',\n",
              " 676: 'least',\n",
              " 677: 'radio',\n",
              " 678: 'already',\n",
              " 679: 'buy',\n",
              " 680: 'plus',\n",
              " 681: 'voices',\n",
              " 682: 'holding',\n",
              " 683: '2',\n",
              " 684: 'great',\n",
              " 685: \"doin'\",\n",
              " 686: 'worse',\n",
              " 687: 'treat',\n",
              " 688: \"other's\",\n",
              " 689: 'seems',\n",
              " 690: 'pissed',\n",
              " 691: 'open',\n",
              " 692: 'minute',\n",
              " 693: 'dr',\n",
              " 694: 'hang',\n",
              " 695: 'bum',\n",
              " 696: 'sent',\n",
              " 697: 'either',\n",
              " 698: 'fit',\n",
              " 699: 'hailie',\n",
              " 700: 'pretty',\n",
              " 701: \"where's\",\n",
              " 702: 'guarantee',\n",
              " 703: 'stomach',\n",
              " 704: 'balls',\n",
              " 705: 'rip',\n",
              " 706: 'rain',\n",
              " 707: 'gray',\n",
              " 708: 'stan',\n",
              " 709: 'autograph',\n",
              " 710: 'ok',\n",
              " 711: 'knock',\n",
              " 712: 'nate',\n",
              " 713: 'bomb',\n",
              " 714: 'chase',\n",
              " 715: 'fifty',\n",
              " 716: 'mr',\n",
              " 717: 'past',\n",
              " 718: 'loves',\n",
              " 719: 'tough',\n",
              " 720: 'lyrics',\n",
              " 721: 'waiting',\n",
              " 722: 'heavy',\n",
              " 723: 'rabbit',\n",
              " 724: 'harder',\n",
              " 725: 'water',\n",
              " 726: 'type',\n",
              " 727: 'between',\n",
              " 728: '1',\n",
              " 729: 'killed',\n",
              " 730: \"somethin'\",\n",
              " 731: 'forget',\n",
              " 732: 'fans',\n",
              " 733: 'cd',\n",
              " 734: 'fed',\n",
              " 735: 'knife',\n",
              " 736: '4',\n",
              " 737: 'slow',\n",
              " 738: 'tears',\n",
              " 739: \"shit's\",\n",
              " 740: 'air',\n",
              " 741: 'such',\n",
              " 742: 'sense',\n",
              " 743: 'making',\n",
              " 744: 'lady',\n",
              " 745: 'pictures',\n",
              " 746: 'neck',\n",
              " 747: \"sayin'\",\n",
              " 748: 'walked',\n",
              " 749: 'yellow',\n",
              " 750: 'death',\n",
              " 751: \"tea's\",\n",
              " 752: 'wondering',\n",
              " 753: 'clouds',\n",
              " 754: 'reminds',\n",
              " 755: 'respect',\n",
              " 756: 'p',\n",
              " 757: 'wicked',\n",
              " 758: 'names',\n",
              " 759: 'g',\n",
              " 760: 'greatest',\n",
              " 761: 'bottle',\n",
              " 762: 'clothes',\n",
              " 763: 'r',\n",
              " 764: \"livin'\",\n",
              " 765: 'las',\n",
              " 766: 'salsa',\n",
              " 767: 'killing',\n",
              " 768: 'wack',\n",
              " 769: 'earth',\n",
              " 770: 'doc',\n",
              " 771: 'gay',\n",
              " 772: 'trash',\n",
              " 773: 'mathers',\n",
              " 774: 'played',\n",
              " 775: 'haters',\n",
              " 776: 'jealous',\n",
              " 777: 'murder',\n",
              " 778: 'million',\n",
              " 779: 'seat',\n",
              " 780: 'weak',\n",
              " 781: 'snap',\n",
              " 782: 'post',\n",
              " 783: 'lonely',\n",
              " 784: 'grown',\n",
              " 785: 'flows',\n",
              " 786: 'movie',\n",
              " 787: \"bein'\",\n",
              " 788: 'drama',\n",
              " 789: 'jail',\n",
              " 790: 'somebody',\n",
              " 791: 'thoughts',\n",
              " 792: 'voice',\n",
              " 793: 'hundred',\n",
              " 794: 'read',\n",
              " 795: 'those',\n",
              " 796: 'dirt',\n",
              " 797: 'weather',\n",
              " 798: 'ran',\n",
              " 799: 'leaving',\n",
              " 800: 'insane',\n",
              " 801: 'lane',\n",
              " 802: 'backwards',\n",
              " 803: 'dark',\n",
              " 804: 'ow',\n",
              " 805: 'fly',\n",
              " 806: 'controversy',\n",
              " 807: 'everyone',\n",
              " 808: 'year',\n",
              " 809: 'himself',\n",
              " 810: 'check',\n",
              " 811: 'cool',\n",
              " 812: 'pole',\n",
              " 813: 'news',\n",
              " 814: 'mommy',\n",
              " 815: 'felt',\n",
              " 816: 'apart',\n",
              " 817: 'anyone',\n",
              " 818: \"leavin'\",\n",
              " 819: 'fine',\n",
              " 820: 'record',\n",
              " 821: 'none',\n",
              " 822: 'bag',\n",
              " 823: 'knew',\n",
              " 824: \"they'll\",\n",
              " 825: 'most',\n",
              " 826: 'dough',\n",
              " 827: 'shots',\n",
              " 828: 'fuckin',\n",
              " 829: 'piss',\n",
              " 830: 'twice',\n",
              " 831: 'takes',\n",
              " 832: 'papers',\n",
              " 833: 'rubbers',\n",
              " 834: 'bizarre',\n",
              " 835: 'mountain',\n",
              " 836: 'heard',\n",
              " 837: 'lots',\n",
              " 838: 'lotto',\n",
              " 839: 'guts',\n",
              " 840: 'born',\n",
              " 841: 'soldiers',\n",
              " 842: 'l',\n",
              " 843: 'easy',\n",
              " 844: 'cock',\n",
              " 845: 'office',\n",
              " 846: 'mc',\n",
              " 847: 'pack',\n",
              " 848: 'able',\n",
              " 849: 'aftermath',\n",
              " 850: 'having',\n",
              " 851: 'rage',\n",
              " 852: 'roll',\n",
              " 853: 'ball',\n",
              " 854: 'arm',\n",
              " 855: 'pay',\n",
              " 856: 'hungry',\n",
              " 857: 'normal',\n",
              " 858: 'future',\n",
              " 859: 'ray',\n",
              " 860: 'very',\n",
              " 861: 'understand',\n",
              " 862: 'keeps',\n",
              " 863: 'coast',\n",
              " 864: 'suppose',\n",
              " 865: 'food',\n",
              " 866: 'jam',\n",
              " 867: 'loose',\n",
              " 868: 'paper',\n",
              " 869: 'christmas',\n",
              " 870: 'storm',\n",
              " 871: 'warm',\n",
              " 872: \"shouldn't\",\n",
              " 873: 'lied',\n",
              " 874: 'perhaps',\n",
              " 875: 'relax',\n",
              " 876: 'eye',\n",
              " 877: 'running',\n",
              " 878: 'low',\n",
              " 879: 'happens',\n",
              " 880: 'fault',\n",
              " 881: 'shove',\n",
              " 882: 'sat',\n",
              " 883: \"doesn't\",\n",
              " 884: 'catch',\n",
              " 885: 'weight',\n",
              " 886: 'city',\n",
              " 887: 'deal',\n",
              " 888: 'c',\n",
              " 889: 'm',\n",
              " 890: 'laugh',\n",
              " 891: 'joke',\n",
              " 892: 'funny',\n",
              " 893: 'learned',\n",
              " 894: 'story',\n",
              " 895: 'ring',\n",
              " 896: 'carry',\n",
              " 897: 'yours',\n",
              " 898: 'shadys',\n",
              " 899: 'imitating',\n",
              " 900: 'months',\n",
              " 901: 'ripped',\n",
              " 902: 'conscience',\n",
              " 903: 'missed',\n",
              " 904: 'platinum',\n",
              " 905: 'quick',\n",
              " 906: 'alive',\n",
              " 907: 'collapse',\n",
              " 908: 'lives',\n",
              " 909: 'chick',\n",
              " 910: 'wife',\n",
              " 911: 'toy',\n",
              " 912: 'longer',\n",
              " 913: 'self',\n",
              " 914: 'rapper',\n",
              " 915: 'ahead',\n",
              " 916: 'woman',\n",
              " 917: 'shoulders',\n",
              " 918: 'dogg',\n",
              " 919: 'retarded',\n",
              " 920: 'ho',\n",
              " 921: 'plate',\n",
              " 922: 'telling',\n",
              " 923: 'suck',\n",
              " 924: 'compares',\n",
              " 925: 'purple',\n",
              " 926: 'setting',\n",
              " 927: 'berzerk',\n",
              " 928: 'count',\n",
              " 929: 'singer',\n",
              " 930: 'lined',\n",
              " 931: 'happen',\n",
              " 932: 'trouble',\n",
              " 933: 'thinks',\n",
              " 934: 'nut',\n",
              " 935: 'table',\n",
              " 936: 'signed',\n",
              " 937: 'bombs',\n",
              " 938: 'attack',\n",
              " 939: 'actually',\n",
              " 940: 'moon',\n",
              " 941: 'walking',\n",
              " 942: 'scratch',\n",
              " 943: 'few',\n",
              " 944: 'underground',\n",
              " 945: 'looked',\n",
              " 946: '7',\n",
              " 947: 'forever',\n",
              " 948: 'pill',\n",
              " 949: 'ill',\n",
              " 950: 'mistake',\n",
              " 951: 'knees',\n",
              " 952: 'calm',\n",
              " 953: 'crowd',\n",
              " 954: 'sold',\n",
              " 955: 'public',\n",
              " 956: 'excuse',\n",
              " 957: 'mayhem',\n",
              " 958: 'album',\n",
              " 959: 'letting',\n",
              " 960: 'holla',\n",
              " 961: 'raise',\n",
              " 962: 'liquor',\n",
              " 963: 'bar',\n",
              " 964: 'busy',\n",
              " 965: 'breathe',\n",
              " 966: 'paint',\n",
              " 967: 'push',\n",
              " 968: \"isn't\",\n",
              " 969: 'aim',\n",
              " 970: 'lighters',\n",
              " 971: 'obie',\n",
              " 972: 'jump',\n",
              " 973: 'seem',\n",
              " 974: 'pen',\n",
              " 975: 'admit',\n",
              " 976: 'stupid',\n",
              " 977: 'sign',\n",
              " 978: 'wow',\n",
              " 979: \"talkin'\",\n",
              " 980: \"you'd\",\n",
              " 981: 'plane',\n",
              " 982: \"smilin'\",\n",
              " 983: \"havin'\",\n",
              " 984: 'walls',\n",
              " 985: 'bow',\n",
              " 986: 'scream',\n",
              " 987: \"runnin'\",\n",
              " 988: \"givin'\",\n",
              " 989: 'chicka',\n",
              " 990: 'raps',\n",
              " 991: 'guys',\n",
              " 992: 'giving',\n",
              " 993: 'screaming',\n",
              " 994: 'pregnant',\n",
              " 995: 'rush',\n",
              " 996: 'dare',\n",
              " 997: 'hated',\n",
              " 998: \"cleanin'\",\n",
              " 999: 'split',\n",
              " 1000: 'woulda',\n",
              " ...}"
            ]
          },
          "metadata": {},
          "execution_count": 31
        }
      ],
      "source": [
        "# Palabras del vocabulario\n",
        "tok.index_word"
      ]
    },
    {
      "cell_type": "code",
      "execution_count": 32,
      "metadata": {
        "id": "gJgVhq1zwEpf",
        "colab": {
          "base_uri": "https://localhost:8080/"
        },
        "outputId": "d23a4c14-7353-4515-a3ec-64984912f2e9"
      },
      "outputs": [
        {
          "output_type": "execute_result",
          "data": {
            "text/plain": [
              "6114"
            ]
          },
          "metadata": {},
          "execution_count": 32
        }
      ],
      "source": [
        "# Cantidad de palabras en el vocabulario\n",
        "vocab_size = len(tok.word_counts)\n",
        "vocab_size"
      ]
    },
    {
      "cell_type": "code",
      "execution_count": 33,
      "metadata": {
        "id": "wKV85M2uwKJ9",
        "colab": {
          "base_uri": "https://localhost:8080/",
          "height": 304
        },
        "outputId": "ed5da64c-9a50-4181-91f1-27f0a1e3c12a"
      },
      "outputs": [
        {
          "output_type": "error",
          "ename": "IndexError",
          "evalue": "ignored",
          "traceback": [
            "\u001b[0;31m---------------------------------------------------------------------------\u001b[0m",
            "\u001b[0;31mIndexError\u001b[0m                                Traceback (most recent call last)",
            "\u001b[0;32m<ipython-input-33-51c0d3e0c52c>\u001b[0m in \u001b[0;36m<cell line: 2>\u001b[0;34m()\u001b[0m\n\u001b[1;32m      1\u001b[0m \u001b[0;31m# Transformar los datos a oneHotEncoding\u001b[0m\u001b[0;34m\u001b[0m\u001b[0;34m\u001b[0m\u001b[0m\n\u001b[0;32m----> 2\u001b[0;31m \u001b[0my_data\u001b[0m \u001b[0;34m=\u001b[0m \u001b[0mto_categorical\u001b[0m\u001b[0;34m(\u001b[0m\u001b[0my_data_int\u001b[0m\u001b[0;34m,\u001b[0m \u001b[0mnum_classes\u001b[0m\u001b[0;34m=\u001b[0m\u001b[0mvocab_size\u001b[0m\u001b[0;34m)\u001b[0m\u001b[0;34m\u001b[0m\u001b[0;34m\u001b[0m\u001b[0m\n\u001b[0m",
            "\u001b[0;32m/usr/local/lib/python3.9/dist-packages/keras/utils/np_utils.py\u001b[0m in \u001b[0;36mto_categorical\u001b[0;34m(y, num_classes, dtype)\u001b[0m\n\u001b[1;32m     72\u001b[0m     \u001b[0mn\u001b[0m \u001b[0;34m=\u001b[0m \u001b[0my\u001b[0m\u001b[0;34m.\u001b[0m\u001b[0mshape\u001b[0m\u001b[0;34m[\u001b[0m\u001b[0;36m0\u001b[0m\u001b[0;34m]\u001b[0m\u001b[0;34m\u001b[0m\u001b[0;34m\u001b[0m\u001b[0m\n\u001b[1;32m     73\u001b[0m     \u001b[0mcategorical\u001b[0m \u001b[0;34m=\u001b[0m \u001b[0mnp\u001b[0m\u001b[0;34m.\u001b[0m\u001b[0mzeros\u001b[0m\u001b[0;34m(\u001b[0m\u001b[0;34m(\u001b[0m\u001b[0mn\u001b[0m\u001b[0;34m,\u001b[0m \u001b[0mnum_classes\u001b[0m\u001b[0;34m)\u001b[0m\u001b[0;34m,\u001b[0m \u001b[0mdtype\u001b[0m\u001b[0;34m=\u001b[0m\u001b[0mdtype\u001b[0m\u001b[0;34m)\u001b[0m\u001b[0;34m\u001b[0m\u001b[0;34m\u001b[0m\u001b[0m\n\u001b[0;32m---> 74\u001b[0;31m     \u001b[0mcategorical\u001b[0m\u001b[0;34m[\u001b[0m\u001b[0mnp\u001b[0m\u001b[0;34m.\u001b[0m\u001b[0marange\u001b[0m\u001b[0;34m(\u001b[0m\u001b[0mn\u001b[0m\u001b[0;34m)\u001b[0m\u001b[0;34m,\u001b[0m \u001b[0my\u001b[0m\u001b[0;34m]\u001b[0m \u001b[0;34m=\u001b[0m \u001b[0;36m1\u001b[0m\u001b[0;34m\u001b[0m\u001b[0;34m\u001b[0m\u001b[0m\n\u001b[0m\u001b[1;32m     75\u001b[0m     \u001b[0moutput_shape\u001b[0m \u001b[0;34m=\u001b[0m \u001b[0minput_shape\u001b[0m \u001b[0;34m+\u001b[0m \u001b[0;34m(\u001b[0m\u001b[0mnum_classes\u001b[0m\u001b[0;34m,\u001b[0m\u001b[0;34m)\u001b[0m\u001b[0;34m\u001b[0m\u001b[0;34m\u001b[0m\u001b[0m\n\u001b[1;32m     76\u001b[0m     \u001b[0mcategorical\u001b[0m \u001b[0;34m=\u001b[0m \u001b[0mnp\u001b[0m\u001b[0;34m.\u001b[0m\u001b[0mreshape\u001b[0m\u001b[0;34m(\u001b[0m\u001b[0mcategorical\u001b[0m\u001b[0;34m,\u001b[0m \u001b[0moutput_shape\u001b[0m\u001b[0;34m)\u001b[0m\u001b[0;34m\u001b[0m\u001b[0;34m\u001b[0m\u001b[0m\n",
            "\u001b[0;31mIndexError\u001b[0m: index 6114 is out of bounds for axis 1 with size 6114"
          ]
        }
      ],
      "source": [
        "# Transformar los datos a oneHotEncoding\n",
        "y_data = to_categorical(y_data_int, num_classes=vocab_size)"
      ]
    },
    {
      "cell_type": "code",
      "execution_count": 34,
      "metadata": {
        "id": "qWjNrNx9wM1b",
        "colab": {
          "base_uri": "https://localhost:8080/"
        },
        "outputId": "ee2e1cfb-e9f8-4e83-a902-67c21c0ad14d"
      },
      "outputs": [
        {
          "output_type": "execute_result",
          "data": {
            "text/plain": [
              "1"
            ]
          },
          "metadata": {},
          "execution_count": 34
        }
      ],
      "source": [
        "# En el caso anterior explota porque y_data_int comienza en \"1\" en vez de \"0\"\n",
        "# valor minimo:\n",
        "min(y_data_int)"
      ]
    },
    {
      "cell_type": "code",
      "execution_count": 35,
      "metadata": {
        "id": "gIg2e2WCwXbG",
        "colab": {
          "base_uri": "https://localhost:8080/"
        },
        "outputId": "8989decb-a5ce-4210-a51c-229e3a4e7cbd"
      },
      "outputs": [
        {
          "output_type": "execute_result",
          "data": {
            "text/plain": [
              "(64834, 6114)"
            ]
          },
          "metadata": {},
          "execution_count": 35
        }
      ],
      "source": [
        "y_data_int_offset = y_data_int - 1\n",
        "y_data = to_categorical(y_data_int_offset, num_classes=vocab_size) \n",
        "y_data.shape"
      ]
    },
    {
      "cell_type": "markdown",
      "metadata": {
        "id": "GmJWNyxQwfCE"
      },
      "source": [
        "### 4 - Entrenar el modelo"
      ]
    },
    {
      "cell_type": "code",
      "execution_count": 36,
      "metadata": {
        "id": "0cOmNZT_weK2",
        "colab": {
          "base_uri": "https://localhost:8080/"
        },
        "outputId": "ac25aee8-b2c4-4e9a-b1a8-dfd990db06b9"
      },
      "outputs": [
        {
          "output_type": "execute_result",
          "data": {
            "text/plain": [
              "3"
            ]
          },
          "metadata": {},
          "execution_count": 36
        }
      ],
      "source": [
        "# largo de la secuencia de entrada\n",
        "input_seq_len = x_data.shape[1] \n",
        "input_seq_len"
      ]
    },
    {
      "cell_type": "code",
      "execution_count": 37,
      "metadata": {
        "id": "qtwITjgnwlgp",
        "colab": {
          "base_uri": "https://localhost:8080/"
        },
        "outputId": "da69f76f-90ea-4a67-e348-51c90187b229"
      },
      "outputs": [
        {
          "output_type": "execute_result",
          "data": {
            "text/plain": [
              "6114"
            ]
          },
          "metadata": {},
          "execution_count": 37
        }
      ],
      "source": [
        "# Largo del vector de salida --> vocab_size\n",
        "output_size = vocab_size\n",
        "output_size"
      ]
    },
    {
      "cell_type": "code",
      "execution_count": 38,
      "metadata": {
        "id": "jzTZRXrrwrvi",
        "colab": {
          "base_uri": "https://localhost:8080/"
        },
        "outputId": "3b227e8a-a1ee-4315-fd2e-7493eb31d5f7"
      },
      "outputs": [
        {
          "output_type": "stream",
          "name": "stdout",
          "text": [
            "Model: \"sequential\"\n",
            "_________________________________________________________________\n",
            " Layer (type)                Output Shape              Param #   \n",
            "=================================================================\n",
            " embedding (Embedding)       (None, 3, 5)              30575     \n",
            "                                                                 \n",
            " lstm (LSTM)                 (None, 3, 64)             17920     \n",
            "                                                                 \n",
            " dropout (Dropout)           (None, 3, 64)             0         \n",
            "                                                                 \n",
            " lstm_1 (LSTM)               (None, 64)                33024     \n",
            "                                                                 \n",
            " dense (Dense)               (None, 32)                2080      \n",
            "                                                                 \n",
            " dense_1 (Dense)             (None, 6114)              201762    \n",
            "                                                                 \n",
            "=================================================================\n",
            "Total params: 285,361\n",
            "Trainable params: 285,361\n",
            "Non-trainable params: 0\n",
            "_________________________________________________________________\n"
          ]
        }
      ],
      "source": [
        "model = Sequential()\n",
        "\n",
        "# Embedding:\n",
        "# input_seq_len = 3 --> ingreso 3 palabras\n",
        "# input_dim = vocab_size --> 1628 palabras distintas\n",
        "# output_dim = 5 --> crear embeddings de tamaño 3 (tamaño variable y ajustable)\n",
        "model.add(Embedding(input_dim=vocab_size+1, output_dim=5, input_length=input_seq_len))\n",
        "\n",
        "model.add(LSTM(64, return_sequences=True))\n",
        "model.add(Dropout(0.2))\n",
        "model.add(LSTM(64)) # La última capa LSTM no lleva return_sequences\n",
        "model.add(Dense(32, activation='relu'))\n",
        "\n",
        "# Predicción de clasificación con softmax\n",
        "# La salida vuelve al espacio de 1628 palabras posibles\n",
        "model.add(Dense(vocab_size, activation='softmax'))\n",
        "\n",
        "# Clasificación multiple categórica --> loss = categorical_crossentropy\n",
        "model.compile(loss='categorical_crossentropy', optimizer='adam', metrics=['accuracy'])\n",
        "\n",
        "model.summary()"
      ]
    },
    {
      "cell_type": "code",
      "execution_count": 39,
      "metadata": {
        "id": "oQq1PHDkxDvN",
        "colab": {
          "base_uri": "https://localhost:8080/"
        },
        "outputId": "988ebd04-ade1-4d03-b99e-5922724544d5"
      },
      "outputs": [
        {
          "output_type": "stream",
          "name": "stdout",
          "text": [
            "Epoch 1/50\n",
            "1621/1621 [==============================] - 35s 15ms/step - loss: 6.6837 - accuracy: 0.0351 - val_loss: 6.8853 - val_accuracy: 0.0422\n",
            "Epoch 2/50\n",
            "1621/1621 [==============================] - 19s 12ms/step - loss: 6.3527 - accuracy: 0.0363 - val_loss: 6.8895 - val_accuracy: 0.0422\n",
            "Epoch 3/50\n",
            "1621/1621 [==============================] - 18s 11ms/step - loss: 6.1763 - accuracy: 0.0387 - val_loss: 6.9528 - val_accuracy: 0.0377\n",
            "Epoch 4/50\n",
            "1621/1621 [==============================] - 27s 17ms/step - loss: 5.9781 - accuracy: 0.0435 - val_loss: 7.0412 - val_accuracy: 0.0418\n",
            "Epoch 5/50\n",
            "1621/1621 [==============================] - 20s 12ms/step - loss: 5.8150 - accuracy: 0.0469 - val_loss: 7.1911 - val_accuracy: 0.0506\n",
            "Epoch 6/50\n",
            "1621/1621 [==============================] - 18s 11ms/step - loss: 5.6887 - accuracy: 0.0533 - val_loss: 7.4652 - val_accuracy: 0.0466\n",
            "Epoch 7/50\n",
            "1621/1621 [==============================] - 19s 12ms/step - loss: 5.5570 - accuracy: 0.0571 - val_loss: 7.6418 - val_accuracy: 0.0463\n",
            "Epoch 8/50\n",
            "1621/1621 [==============================] - 17s 10ms/step - loss: 5.4198 - accuracy: 0.0642 - val_loss: 7.8691 - val_accuracy: 0.0436\n",
            "Epoch 9/50\n",
            "1621/1621 [==============================] - 20s 12ms/step - loss: 5.2888 - accuracy: 0.0723 - val_loss: 7.8933 - val_accuracy: 0.0437\n",
            "Epoch 10/50\n",
            "1621/1621 [==============================] - 18s 11ms/step - loss: 5.1684 - accuracy: 0.0822 - val_loss: 8.1352 - val_accuracy: 0.0453\n",
            "Epoch 11/50\n",
            "1621/1621 [==============================] - 18s 11ms/step - loss: 5.0532 - accuracy: 0.0903 - val_loss: 8.2715 - val_accuracy: 0.0486\n",
            "Epoch 12/50\n",
            "1621/1621 [==============================] - 17s 11ms/step - loss: 4.9504 - accuracy: 0.0992 - val_loss: 8.5445 - val_accuracy: 0.0440\n",
            "Epoch 13/50\n",
            "1621/1621 [==============================] - 19s 12ms/step - loss: 4.8570 - accuracy: 0.1063 - val_loss: 8.7544 - val_accuracy: 0.0464\n",
            "Epoch 14/50\n",
            "1621/1621 [==============================] - 18s 11ms/step - loss: 4.7703 - accuracy: 0.1135 - val_loss: 9.0681 - val_accuracy: 0.0454\n",
            "Epoch 15/50\n",
            "1621/1621 [==============================] - 19s 12ms/step - loss: 4.6894 - accuracy: 0.1216 - val_loss: 9.3004 - val_accuracy: 0.0469\n",
            "Epoch 16/50\n",
            "1621/1621 [==============================] - 18s 11ms/step - loss: 4.6165 - accuracy: 0.1312 - val_loss: 9.5452 - val_accuracy: 0.0449\n",
            "Epoch 17/50\n",
            "1621/1621 [==============================] - 19s 12ms/step - loss: 4.5435 - accuracy: 0.1368 - val_loss: 9.7365 - val_accuracy: 0.0400\n",
            "Epoch 18/50\n",
            "1621/1621 [==============================] - 19s 12ms/step - loss: 4.4793 - accuracy: 0.1426 - val_loss: 10.0548 - val_accuracy: 0.0389\n",
            "Epoch 19/50\n",
            "1621/1621 [==============================] - 19s 12ms/step - loss: 4.4160 - accuracy: 0.1486 - val_loss: 10.5577 - val_accuracy: 0.0418\n",
            "Epoch 20/50\n",
            "1621/1621 [==============================] - 19s 12ms/step - loss: 4.3596 - accuracy: 0.1556 - val_loss: 10.6141 - val_accuracy: 0.0369\n",
            "Epoch 21/50\n",
            "1621/1621 [==============================] - 19s 12ms/step - loss: 4.3049 - accuracy: 0.1620 - val_loss: 10.9837 - val_accuracy: 0.0405\n",
            "Epoch 22/50\n",
            "1621/1621 [==============================] - 19s 12ms/step - loss: 4.2578 - accuracy: 0.1667 - val_loss: 11.1310 - val_accuracy: 0.0398\n",
            "Epoch 23/50\n",
            "1621/1621 [==============================] - 19s 12ms/step - loss: 4.2068 - accuracy: 0.1717 - val_loss: 11.4294 - val_accuracy: 0.0404\n",
            "Epoch 24/50\n",
            "1621/1621 [==============================] - 18s 11ms/step - loss: 4.1643 - accuracy: 0.1774 - val_loss: 11.7335 - val_accuracy: 0.0425\n",
            "Epoch 25/50\n",
            "1621/1621 [==============================] - 18s 11ms/step - loss: 4.1188 - accuracy: 0.1830 - val_loss: 11.9782 - val_accuracy: 0.0399\n",
            "Epoch 26/50\n",
            "1621/1621 [==============================] - 18s 11ms/step - loss: 4.0861 - accuracy: 0.1871 - val_loss: 12.1644 - val_accuracy: 0.0389\n",
            "Epoch 27/50\n",
            "1621/1621 [==============================] - 18s 11ms/step - loss: 4.0517 - accuracy: 0.1933 - val_loss: 12.3292 - val_accuracy: 0.0376\n",
            "Epoch 28/50\n",
            "1621/1621 [==============================] - 18s 11ms/step - loss: 4.0150 - accuracy: 0.1976 - val_loss: 12.6190 - val_accuracy: 0.0359\n",
            "Epoch 29/50\n",
            "1621/1621 [==============================] - 17s 11ms/step - loss: 3.9821 - accuracy: 0.2009 - val_loss: 12.8187 - val_accuracy: 0.0384\n",
            "Epoch 30/50\n",
            "1621/1621 [==============================] - 18s 11ms/step - loss: 3.9487 - accuracy: 0.2066 - val_loss: 13.0250 - val_accuracy: 0.0374\n",
            "Epoch 31/50\n",
            "1621/1621 [==============================] - 17s 10ms/step - loss: 3.9211 - accuracy: 0.2097 - val_loss: 13.1672 - val_accuracy: 0.0362\n",
            "Epoch 32/50\n",
            "1621/1621 [==============================] - 17s 10ms/step - loss: 3.8954 - accuracy: 0.2155 - val_loss: 13.6863 - val_accuracy: 0.0379\n",
            "Epoch 33/50\n",
            "1621/1621 [==============================] - 17s 10ms/step - loss: 3.8752 - accuracy: 0.2161 - val_loss: 13.5729 - val_accuracy: 0.0395\n",
            "Epoch 34/50\n",
            "1621/1621 [==============================] - 18s 11ms/step - loss: 3.8482 - accuracy: 0.2206 - val_loss: 13.6397 - val_accuracy: 0.0369\n",
            "Epoch 35/50\n",
            "1621/1621 [==============================] - 18s 11ms/step - loss: 3.8235 - accuracy: 0.2238 - val_loss: 13.7670 - val_accuracy: 0.0359\n",
            "Epoch 36/50\n",
            "1621/1621 [==============================] - 17s 10ms/step - loss: 3.7987 - accuracy: 0.2264 - val_loss: 13.9097 - val_accuracy: 0.0376\n",
            "Epoch 37/50\n",
            "1621/1621 [==============================] - 18s 11ms/step - loss: 3.7815 - accuracy: 0.2290 - val_loss: 14.1079 - val_accuracy: 0.0348\n",
            "Epoch 38/50\n",
            "1621/1621 [==============================] - 16s 10ms/step - loss: 3.7594 - accuracy: 0.2336 - val_loss: 14.1075 - val_accuracy: 0.0353\n",
            "Epoch 39/50\n",
            "1621/1621 [==============================] - 16s 10ms/step - loss: 3.7403 - accuracy: 0.2361 - val_loss: 14.5199 - val_accuracy: 0.0351\n",
            "Epoch 40/50\n",
            "1621/1621 [==============================] - 18s 11ms/step - loss: 3.7248 - accuracy: 0.2382 - val_loss: 14.5801 - val_accuracy: 0.0372\n",
            "Epoch 41/50\n",
            "1621/1621 [==============================] - 17s 11ms/step - loss: 3.7044 - accuracy: 0.2425 - val_loss: 14.5676 - val_accuracy: 0.0358\n",
            "Epoch 42/50\n",
            "1621/1621 [==============================] - 19s 12ms/step - loss: 3.6864 - accuracy: 0.2450 - val_loss: 14.6562 - val_accuracy: 0.0349\n",
            "Epoch 43/50\n",
            "1621/1621 [==============================] - 19s 12ms/step - loss: 3.6625 - accuracy: 0.2482 - val_loss: 14.8626 - val_accuracy: 0.0356\n",
            "Epoch 44/50\n",
            "1621/1621 [==============================] - 19s 11ms/step - loss: 3.6491 - accuracy: 0.2506 - val_loss: 14.8590 - val_accuracy: 0.0364\n",
            "Epoch 45/50\n",
            "1621/1621 [==============================] - 18s 11ms/step - loss: 3.6365 - accuracy: 0.2518 - val_loss: 15.0216 - val_accuracy: 0.0362\n",
            "Epoch 46/50\n",
            "1621/1621 [==============================] - 19s 12ms/step - loss: 3.6185 - accuracy: 0.2527 - val_loss: 15.3977 - val_accuracy: 0.0384\n",
            "Epoch 47/50\n",
            "1621/1621 [==============================] - 19s 11ms/step - loss: 3.6007 - accuracy: 0.2573 - val_loss: 15.2761 - val_accuracy: 0.0347\n",
            "Epoch 48/50\n",
            "1621/1621 [==============================] - 19s 12ms/step - loss: 3.5925 - accuracy: 0.2605 - val_loss: 15.3380 - val_accuracy: 0.0349\n",
            "Epoch 49/50\n",
            "1621/1621 [==============================] - 18s 11ms/step - loss: 3.5735 - accuracy: 0.2621 - val_loss: 15.2921 - val_accuracy: 0.0345\n",
            "Epoch 50/50\n",
            "1621/1621 [==============================] - 19s 12ms/step - loss: 3.5614 - accuracy: 0.2652 - val_loss: 15.5278 - val_accuracy: 0.0362\n"
          ]
        }
      ],
      "source": [
        "hist = model.fit(x_data, y_data, epochs=50, validation_split=0.2)"
      ]
    },
    {
      "cell_type": "code",
      "source": [
        "hist = model.fit(x_data, y_data, epochs=75, validation_split=0.2)"
      ],
      "metadata": {
        "colab": {
          "base_uri": "https://localhost:8080/"
        },
        "id": "ES6EkhSVQmYb",
        "outputId": "d438f212-c8aa-4fdd-ed77-81c596c1e41c"
      },
      "execution_count": 46,
      "outputs": [
        {
          "output_type": "stream",
          "name": "stdout",
          "text": [
            "Epoch 1/75\n",
            "1621/1621 [==============================] - 20s 13ms/step - loss: 3.5475 - accuracy: 0.2656 - val_loss: 15.7508 - val_accuracy: 0.0369\n",
            "Epoch 2/75\n",
            "1621/1621 [==============================] - 17s 10ms/step - loss: 3.5336 - accuracy: 0.2699 - val_loss: 15.7251 - val_accuracy: 0.0349\n",
            "Epoch 3/75\n",
            "1621/1621 [==============================] - 19s 11ms/step - loss: 3.5286 - accuracy: 0.2710 - val_loss: 16.0717 - val_accuracy: 0.0389\n",
            "Epoch 4/75\n",
            "1621/1621 [==============================] - 17s 10ms/step - loss: 3.5101 - accuracy: 0.2738 - val_loss: 15.9151 - val_accuracy: 0.0371\n",
            "Epoch 5/75\n",
            "1621/1621 [==============================] - 19s 12ms/step - loss: 3.5003 - accuracy: 0.2758 - val_loss: 15.8358 - val_accuracy: 0.0357\n",
            "Epoch 6/75\n",
            "1621/1621 [==============================] - 19s 12ms/step - loss: 3.4851 - accuracy: 0.2760 - val_loss: 15.9858 - val_accuracy: 0.0342\n",
            "Epoch 7/75\n",
            "1621/1621 [==============================] - 20s 12ms/step - loss: 3.4736 - accuracy: 0.2783 - val_loss: 16.0326 - val_accuracy: 0.0345\n",
            "Epoch 8/75\n",
            "1621/1621 [==============================] - 19s 12ms/step - loss: 3.4606 - accuracy: 0.2816 - val_loss: 16.3224 - val_accuracy: 0.0340\n",
            "Epoch 9/75\n",
            "1621/1621 [==============================] - 18s 11ms/step - loss: 3.4550 - accuracy: 0.2827 - val_loss: 16.1721 - val_accuracy: 0.0345\n",
            "Epoch 10/75\n",
            "1621/1621 [==============================] - 19s 12ms/step - loss: 3.4487 - accuracy: 0.2844 - val_loss: 16.4667 - val_accuracy: 0.0372\n",
            "Epoch 11/75\n",
            "1621/1621 [==============================] - 20s 12ms/step - loss: 3.4351 - accuracy: 0.2861 - val_loss: 16.3060 - val_accuracy: 0.0356\n",
            "Epoch 12/75\n",
            "1621/1621 [==============================] - 18s 11ms/step - loss: 3.4280 - accuracy: 0.2872 - val_loss: 16.5708 - val_accuracy: 0.0342\n",
            "Epoch 13/75\n",
            "1621/1621 [==============================] - 19s 12ms/step - loss: 3.4110 - accuracy: 0.2899 - val_loss: 16.4892 - val_accuracy: 0.0345\n",
            "Epoch 14/75\n",
            "1621/1621 [==============================] - 18s 11ms/step - loss: 3.4052 - accuracy: 0.2929 - val_loss: 16.6063 - val_accuracy: 0.0333\n",
            "Epoch 15/75\n",
            "1621/1621 [==============================] - 19s 12ms/step - loss: 3.3969 - accuracy: 0.2909 - val_loss: 16.6882 - val_accuracy: 0.0334\n",
            "Epoch 16/75\n",
            "1621/1621 [==============================] - 22s 14ms/step - loss: 3.3867 - accuracy: 0.2940 - val_loss: 16.8294 - val_accuracy: 0.0361\n",
            "Epoch 17/75\n",
            "1621/1621 [==============================] - 19s 12ms/step - loss: 3.3766 - accuracy: 0.2958 - val_loss: 16.7912 - val_accuracy: 0.0356\n",
            "Epoch 18/75\n",
            "1621/1621 [==============================] - 20s 12ms/step - loss: 3.3704 - accuracy: 0.2963 - val_loss: 16.8913 - val_accuracy: 0.0362\n",
            "Epoch 19/75\n",
            "1621/1621 [==============================] - 17s 10ms/step - loss: 3.3633 - accuracy: 0.2991 - val_loss: 16.7608 - val_accuracy: 0.0316\n",
            "Epoch 20/75\n",
            "1621/1621 [==============================] - 17s 11ms/step - loss: 3.3524 - accuracy: 0.2999 - val_loss: 17.1523 - val_accuracy: 0.0351\n",
            "Epoch 21/75\n",
            "1621/1621 [==============================] - 17s 10ms/step - loss: 3.3455 - accuracy: 0.3036 - val_loss: 16.9341 - val_accuracy: 0.0374\n",
            "Epoch 22/75\n",
            "1621/1621 [==============================] - 17s 10ms/step - loss: 3.3364 - accuracy: 0.3023 - val_loss: 17.0715 - val_accuracy: 0.0364\n",
            "Epoch 23/75\n",
            "1621/1621 [==============================] - 18s 11ms/step - loss: 3.3254 - accuracy: 0.3047 - val_loss: 17.2055 - val_accuracy: 0.0344\n",
            "Epoch 24/75\n",
            "1621/1621 [==============================] - 21s 13ms/step - loss: 3.3225 - accuracy: 0.3057 - val_loss: 17.1539 - val_accuracy: 0.0333\n",
            "Epoch 25/75\n",
            "1621/1621 [==============================] - 20s 12ms/step - loss: 3.3184 - accuracy: 0.3049 - val_loss: 17.3321 - val_accuracy: 0.0350\n",
            "Epoch 26/75\n",
            "1621/1621 [==============================] - 20s 12ms/step - loss: 3.3079 - accuracy: 0.3070 - val_loss: 17.4648 - val_accuracy: 0.0352\n",
            "Epoch 27/75\n",
            "1621/1621 [==============================] - 21s 13ms/step - loss: 3.2942 - accuracy: 0.3080 - val_loss: 17.1721 - val_accuracy: 0.0329\n",
            "Epoch 28/75\n",
            "1621/1621 [==============================] - 20s 13ms/step - loss: 3.2868 - accuracy: 0.3111 - val_loss: 17.3542 - val_accuracy: 0.0363\n",
            "Epoch 29/75\n",
            "1621/1621 [==============================] - 20s 13ms/step - loss: 3.2812 - accuracy: 0.3127 - val_loss: 17.4229 - val_accuracy: 0.0382\n",
            "Epoch 30/75\n",
            "1621/1621 [==============================] - 19s 12ms/step - loss: 3.2789 - accuracy: 0.3119 - val_loss: 17.6216 - val_accuracy: 0.0357\n",
            "Epoch 31/75\n",
            "1621/1621 [==============================] - 19s 12ms/step - loss: 3.2663 - accuracy: 0.3141 - val_loss: 17.4872 - val_accuracy: 0.0328\n",
            "Epoch 32/75\n",
            "1621/1621 [==============================] - 17s 11ms/step - loss: 3.2692 - accuracy: 0.3146 - val_loss: 17.4792 - val_accuracy: 0.0352\n",
            "Epoch 33/75\n",
            "1621/1621 [==============================] - 18s 11ms/step - loss: 3.2545 - accuracy: 0.3166 - val_loss: 17.9288 - val_accuracy: 0.0348\n",
            "Epoch 34/75\n",
            "1621/1621 [==============================] - 18s 11ms/step - loss: 3.2493 - accuracy: 0.3177 - val_loss: 17.6878 - val_accuracy: 0.0338\n",
            "Epoch 35/75\n",
            "1621/1621 [==============================] - 16s 10ms/step - loss: 3.2418 - accuracy: 0.3194 - val_loss: 17.7327 - val_accuracy: 0.0334\n",
            "Epoch 36/75\n",
            "1621/1621 [==============================] - 16s 10ms/step - loss: 3.2341 - accuracy: 0.3211 - val_loss: 17.8204 - val_accuracy: 0.0352\n",
            "Epoch 37/75\n",
            "1621/1621 [==============================] - 16s 10ms/step - loss: 3.2367 - accuracy: 0.3195 - val_loss: 17.9415 - val_accuracy: 0.0351\n",
            "Epoch 38/75\n",
            "1621/1621 [==============================] - 17s 10ms/step - loss: 3.2263 - accuracy: 0.3207 - val_loss: 17.9728 - val_accuracy: 0.0363\n",
            "Epoch 39/75\n",
            "1621/1621 [==============================] - 17s 10ms/step - loss: 3.2173 - accuracy: 0.3240 - val_loss: 17.8583 - val_accuracy: 0.0331\n",
            "Epoch 40/75\n",
            "1621/1621 [==============================] - 17s 11ms/step - loss: 3.2138 - accuracy: 0.3250 - val_loss: 17.7691 - val_accuracy: 0.0347\n",
            "Epoch 41/75\n",
            "1621/1621 [==============================] - 17s 11ms/step - loss: 3.2080 - accuracy: 0.3219 - val_loss: 18.0015 - val_accuracy: 0.0358\n",
            "Epoch 42/75\n",
            "1621/1621 [==============================] - 17s 11ms/step - loss: 3.2074 - accuracy: 0.3255 - val_loss: 18.0641 - val_accuracy: 0.0367\n",
            "Epoch 43/75\n",
            "1621/1621 [==============================] - 17s 10ms/step - loss: 3.1937 - accuracy: 0.3276 - val_loss: 17.8694 - val_accuracy: 0.0325\n",
            "Epoch 44/75\n",
            "1621/1621 [==============================] - 17s 11ms/step - loss: 3.1933 - accuracy: 0.3260 - val_loss: 17.9592 - val_accuracy: 0.0349\n",
            "Epoch 45/75\n",
            "1621/1621 [==============================] - 17s 10ms/step - loss: 3.1910 - accuracy: 0.3251 - val_loss: 17.9237 - val_accuracy: 0.0340\n",
            "Epoch 46/75\n",
            "1621/1621 [==============================] - 20s 12ms/step - loss: 3.1751 - accuracy: 0.3304 - val_loss: 18.0442 - val_accuracy: 0.0345\n",
            "Epoch 47/75\n",
            "1621/1621 [==============================] - 19s 12ms/step - loss: 3.1702 - accuracy: 0.3294 - val_loss: 18.3520 - val_accuracy: 0.0373\n",
            "Epoch 48/75\n",
            "1621/1621 [==============================] - 19s 12ms/step - loss: 3.1708 - accuracy: 0.3302 - val_loss: 18.0435 - val_accuracy: 0.0367\n",
            "Epoch 49/75\n",
            "1621/1621 [==============================] - 19s 11ms/step - loss: 3.1707 - accuracy: 0.3302 - val_loss: 18.0697 - val_accuracy: 0.0356\n",
            "Epoch 50/75\n",
            "1621/1621 [==============================] - 19s 12ms/step - loss: 3.1596 - accuracy: 0.3334 - val_loss: 18.0295 - val_accuracy: 0.0332\n",
            "Epoch 51/75\n",
            "1621/1621 [==============================] - 17s 11ms/step - loss: 3.1542 - accuracy: 0.3318 - val_loss: 18.1443 - val_accuracy: 0.0371\n",
            "Epoch 52/75\n",
            "1621/1621 [==============================] - 16s 10ms/step - loss: 3.1520 - accuracy: 0.3353 - val_loss: 18.3151 - val_accuracy: 0.0367\n",
            "Epoch 53/75\n",
            "1621/1621 [==============================] - 18s 11ms/step - loss: 3.1451 - accuracy: 0.3353 - val_loss: 18.3353 - val_accuracy: 0.0366\n",
            "Epoch 54/75\n",
            "1621/1621 [==============================] - 16s 10ms/step - loss: 3.1381 - accuracy: 0.3349 - val_loss: 18.4712 - val_accuracy: 0.0345\n",
            "Epoch 55/75\n",
            "1621/1621 [==============================] - 17s 11ms/step - loss: 3.1374 - accuracy: 0.3355 - val_loss: 18.3235 - val_accuracy: 0.0334\n",
            "Epoch 56/75\n",
            "1621/1621 [==============================] - 19s 12ms/step - loss: 3.1293 - accuracy: 0.3388 - val_loss: 18.5137 - val_accuracy: 0.0364\n",
            "Epoch 57/75\n",
            "1621/1621 [==============================] - 19s 12ms/step - loss: 3.1266 - accuracy: 0.3397 - val_loss: 18.5088 - val_accuracy: 0.0339\n",
            "Epoch 58/75\n",
            "1621/1621 [==============================] - 19s 12ms/step - loss: 3.1259 - accuracy: 0.3384 - val_loss: 18.6857 - val_accuracy: 0.0362\n",
            "Epoch 59/75\n",
            "1621/1621 [==============================] - 19s 12ms/step - loss: 3.1223 - accuracy: 0.3379 - val_loss: 18.5633 - val_accuracy: 0.0362\n",
            "Epoch 60/75\n",
            "1621/1621 [==============================] - 17s 10ms/step - loss: 3.1150 - accuracy: 0.3406 - val_loss: 18.7069 - val_accuracy: 0.0348\n",
            "Epoch 61/75\n",
            "1621/1621 [==============================] - 18s 11ms/step - loss: 3.1069 - accuracy: 0.3406 - val_loss: 18.9270 - val_accuracy: 0.0382\n",
            "Epoch 62/75\n",
            "1621/1621 [==============================] - 16s 10ms/step - loss: 3.1049 - accuracy: 0.3408 - val_loss: 18.5442 - val_accuracy: 0.0340\n",
            "Epoch 63/75\n",
            "1621/1621 [==============================] - 18s 11ms/step - loss: 3.0998 - accuracy: 0.3413 - val_loss: 18.6562 - val_accuracy: 0.0350\n",
            "Epoch 64/75\n",
            "1621/1621 [==============================] - 19s 12ms/step - loss: 3.0953 - accuracy: 0.3429 - val_loss: 18.7085 - val_accuracy: 0.0354\n",
            "Epoch 65/75\n",
            "1621/1621 [==============================] - 22s 14ms/step - loss: 3.0918 - accuracy: 0.3444 - val_loss: 18.7738 - val_accuracy: 0.0335\n",
            "Epoch 66/75\n",
            "1621/1621 [==============================] - 19s 12ms/step - loss: 3.0856 - accuracy: 0.3447 - val_loss: 18.6856 - val_accuracy: 0.0351\n",
            "Epoch 67/75\n",
            "1621/1621 [==============================] - 20s 12ms/step - loss: 3.0857 - accuracy: 0.3460 - val_loss: 18.7138 - val_accuracy: 0.0354\n",
            "Epoch 68/75\n",
            "1621/1621 [==============================] - 18s 11ms/step - loss: 3.0782 - accuracy: 0.3452 - val_loss: 18.7704 - val_accuracy: 0.0361\n",
            "Epoch 69/75\n",
            "1621/1621 [==============================] - 21s 13ms/step - loss: 3.0787 - accuracy: 0.3480 - val_loss: 18.9429 - val_accuracy: 0.0376\n",
            "Epoch 70/75\n",
            "1621/1621 [==============================] - 19s 12ms/step - loss: 3.0715 - accuracy: 0.3485 - val_loss: 18.9599 - val_accuracy: 0.0349\n",
            "Epoch 71/75\n",
            "1621/1621 [==============================] - 21s 13ms/step - loss: 3.0697 - accuracy: 0.3463 - val_loss: 19.0176 - val_accuracy: 0.0345\n",
            "Epoch 72/75\n",
            "1621/1621 [==============================] - 18s 11ms/step - loss: 3.0589 - accuracy: 0.3493 - val_loss: 19.1257 - val_accuracy: 0.0360\n",
            "Epoch 73/75\n",
            "1621/1621 [==============================] - 19s 12ms/step - loss: 3.0664 - accuracy: 0.3471 - val_loss: 18.9992 - val_accuracy: 0.0356\n",
            "Epoch 74/75\n",
            "1621/1621 [==============================] - 19s 11ms/step - loss: 3.0559 - accuracy: 0.3493 - val_loss: 19.2195 - val_accuracy: 0.0367\n",
            "Epoch 75/75\n",
            "1621/1621 [==============================] - 19s 12ms/step - loss: 3.0595 - accuracy: 0.3497 - val_loss: 19.1268 - val_accuracy: 0.0346\n"
          ]
        }
      ]
    },
    {
      "cell_type": "code",
      "execution_count": 40,
      "metadata": {
        "id": "q_orBXOrCsNn",
        "colab": {
          "base_uri": "https://localhost:8080/",
          "height": 430
        },
        "outputId": "8a848c87-e66d-4e93-f128-b7f796c09775"
      },
      "outputs": [
        {
          "output_type": "display_data",
          "data": {
            "text/plain": [
              "<Figure size 640x480 with 1 Axes>"
            ],
            "image/png": "[encoded data removed]"
          },
          "metadata": {}
        }
      ],
      "source": [
        "import matplotlib.pyplot as plt\n",
        "import seaborn as sns\n",
        "\n",
        "# Entrenamiento\n",
        "epoch_count = range(1, len(hist.history['accuracy']) + 1)\n",
        "sns.lineplot(x=epoch_count,  y=hist.history['accuracy'], label='train')\n",
        "sns.lineplot(x=epoch_count,  y=hist.history['val_accuracy'], label='valid')\n",
        "plt.show()"
      ]
    },
    {
      "cell_type": "code",
      "source": [
        "# Entrenamiento 2da parte\n",
        "epoch_count = range(1, len(hist.history['accuracy']) + 1)\n",
        "sns.lineplot(x=epoch_count,  y=hist.history['accuracy'], label='train')\n",
        "sns.lineplot(x=epoch_count,  y=hist.history['val_accuracy'], label='valid')\n",
        "plt.show()"
      ],
      "metadata": {
        "colab": {
          "base_uri": "https://localhost:8080/",
          "height": 430
        },
        "id": "66Csfx5HWHkG",
        "outputId": "861ef271-43a8-4f49-8b2f-a64167b9f0aa"
      },
      "execution_count": 47,
      "outputs": [
        {
          "output_type": "display_data",
          "data": {
            "text/plain": [
              "<Figure size 640x480 with 1 Axes>"
            ],
            "image/png": "[encoded data removed]"
          },
          "metadata": {}
        }
      ]
    },
    {
      "cell_type": "markdown",
      "metadata": {
        "id": "KN6Fg_BsxJe6"
      },
      "source": [
        "### 5 - Predicción de próxima palabra"
      ]
    },
    {
      "cell_type": "code",
      "execution_count": 41,
      "metadata": {
        "id": "iy_AXWQWzeeE"
      },
      "outputs": [],
      "source": [
        "# Keras pad_sequences\n",
        "# https://www.tensorflow.org/api_docs/python/tf/keras/preprocessing/sequence/pad_sequences\n",
        "# Si la secuencia de entrada supera al input_seq_len (3) se trunca\n",
        "# Si la secuencia es más corta se agregna ceros al comienzo"
      ]
    },
    {
      "cell_type": "code",
      "execution_count": 42,
      "metadata": {
        "id": "IBvKHFPmzpy2",
        "colab": {
          "base_uri": "https://localhost:8080/"
        },
        "outputId": "4820e8e8-8d58-4cac-df34-cba0cfb9f7bf"
      },
      "outputs": [
        {
          "output_type": "stream",
          "name": "stdout",
          "text": [
            "\u001b[2K     \u001b[90m━━━━━━━━━━━━━━━━━━━━━━━━━━━━━━━━━━━━━━━━\u001b[0m \u001b[32m17.3/17.3 MB\u001b[0m \u001b[31m71.1 MB/s\u001b[0m eta \u001b[36m0:00:00\u001b[0m\n",
            "\u001b[2K     \u001b[90m━━━━━━━━━━━━━━━━━━━━━━━━━━━━━━━━━━━━━━━━\u001b[0m \u001b[32m50.5/50.5 kB\u001b[0m \u001b[31m5.5 MB/s\u001b[0m eta \u001b[36m0:00:00\u001b[0m\n",
            "\u001b[2K     \u001b[90m━━━━━━━━━━━━━━━━━━━━━━━━━━━━━━━━━━━━━━━━\u001b[0m \u001b[32m75.3/75.3 kB\u001b[0m \u001b[31m10.1 MB/s\u001b[0m eta \u001b[36m0:00:00\u001b[0m\n",
            "\u001b[2K     \u001b[90m━━━━━━━━━━━━━━━━━━━━━━━━━━━━━━━━━━━━━━━━\u001b[0m \u001b[32m57.0/57.0 kB\u001b[0m \u001b[31m7.1 MB/s\u001b[0m eta \u001b[36m0:00:00\u001b[0m\n",
            "\u001b[2K     \u001b[90m━━━━━━━━━━━━━━━━━━━━━━━━━━━━━━━━━━━━━━\u001b[0m \u001b[32m129.7/129.7 kB\u001b[0m \u001b[31m16.1 MB/s\u001b[0m eta \u001b[36m0:00:00\u001b[0m\n",
            "\u001b[2K     \u001b[90m━━━━━━━━━━━━━━━━━━━━━━━━━━━━━━━━━━━━━━\u001b[0m \u001b[32m140.5/140.5 kB\u001b[0m \u001b[31m17.7 MB/s\u001b[0m eta \u001b[36m0:00:00\u001b[0m\n",
            "\u001b[2K     \u001b[90m━━━━━━━━━━━━━━━━━━━━━━━━━━━━━━━━━━━━━━━━\u001b[0m \u001b[32m45.7/45.7 kB\u001b[0m \u001b[31m4.8 MB/s\u001b[0m eta \u001b[36m0:00:00\u001b[0m\n",
            "\u001b[?25h  Preparing metadata (setup.py) ... \u001b[?25l\u001b[?25hdone\n",
            "\u001b[2K     \u001b[90m━━━━━━━━━━━━━━━━━━━━━━━━━━━━━━━━━━━━━━\u001b[0m \u001b[32m286.2/286.2 kB\u001b[0m \u001b[31m30.5 MB/s\u001b[0m eta \u001b[36m0:00:00\u001b[0m\n",
            "\u001b[2K     \u001b[90m━━━━━━━━━━━━━━━━━━━━━━━━━━━━━━━━━━━━━━━━\u001b[0m \u001b[32m57.8/57.8 kB\u001b[0m \u001b[31m7.6 MB/s\u001b[0m eta \u001b[36m0:00:00\u001b[0m\n",
            "\u001b[2K     \u001b[90m━━━━━━━━━━━━━━━━━━━━━━━━━━━━━━━━━━━━━━━━\u001b[0m \u001b[32m1.0/1.0 MB\u001b[0m \u001b[31m51.0 MB/s\u001b[0m eta \u001b[36m0:00:00\u001b[0m\n",
            "\u001b[2K     \u001b[90m━━━━━━━━━━━━━━━━━━━━━━━━━━━━━━━━━━━━━━\u001b[0m \u001b[32m224.2/224.2 kB\u001b[0m \u001b[31m21.7 MB/s\u001b[0m eta \u001b[36m0:00:00\u001b[0m\n",
            "\u001b[2K     \u001b[90m━━━━━━━━━━━━━━━━━━━━━━━━━━━━━━━━━━━━━━\u001b[0m \u001b[32m114.2/114.2 kB\u001b[0m \u001b[31m12.4 MB/s\u001b[0m eta \u001b[36m0:00:00\u001b[0m\n",
            "\u001b[2K     \u001b[90m━━━━━━━━━━━━━━━━━━━━━━━━━━━━━━━━━━━━━━\u001b[0m \u001b[32m158.8/158.8 kB\u001b[0m \u001b[31m17.8 MB/s\u001b[0m eta \u001b[36m0:00:00\u001b[0m\n",
            "\u001b[2K     \u001b[90m━━━━━━━━━━━━━━━━━━━━━━━━━━━━━━━━━━━━━━\u001b[0m \u001b[32m269.3/269.3 kB\u001b[0m \u001b[31m29.1 MB/s\u001b[0m eta \u001b[36m0:00:00\u001b[0m\n",
            "\u001b[2K     \u001b[90m━━━━━━━━━━━━━━━━━━━━━━━━━━━━━━━━━━━━━━━━\u001b[0m \u001b[32m66.9/66.9 kB\u001b[0m \u001b[31m6.0 MB/s\u001b[0m eta \u001b[36m0:00:00\u001b[0m\n",
            "\u001b[2K     \u001b[90m━━━━━━━━━━━━━━━━━━━━━━━━━━━━━━━━━━━━━━━━\u001b[0m \u001b[32m70.6/70.6 kB\u001b[0m \u001b[31m8.8 MB/s\u001b[0m eta \u001b[36m0:00:00\u001b[0m\n",
            "\u001b[2K     \u001b[90m━━━━━━━━━━━━━━━━━━━━━━━━━━━━━━━━━━━━━━━━\u001b[0m \u001b[32m58.3/58.3 kB\u001b[0m \u001b[31m7.7 MB/s\u001b[0m eta \u001b[36m0:00:00\u001b[0m\n",
            "\u001b[?25h  Building wheel for ffmpy (setup.py) ... \u001b[?25l\u001b[?25hdone\n"
          ]
        }
      ],
      "source": [
        "# Se utilizará gradio para ensayar el modelo\n",
        "# Herramienta poderosa para crear interfaces rápidas para ensayar modelos\n",
        "# https://gradio.app/\n",
        "import sys\n",
        "!{sys.executable} -m pip install gradio --quiet"
      ]
    },
    {
      "cell_type": "code",
      "execution_count": 48,
      "metadata": {
        "id": "HNyBykvhzs7-",
        "colab": {
          "base_uri": "https://localhost:8080/",
          "height": 755
        },
        "outputId": "0a7e9c27-0112-4b0b-fa32-b4d0555d40a3"
      },
      "outputs": [
        {
          "output_type": "stream",
          "name": "stderr",
          "text": [
            "/usr/local/lib/python3.9/dist-packages/gradio/deprecation.py:40: UserWarning: `layout` parameter is deprecated, and it has no effect\n",
            "  warnings.warn(value)\n"
          ]
        },
        {
          "output_type": "stream",
          "name": "stdout",
          "text": [
            "Colab notebook detected. This cell will run indefinitely so that you can see errors and logs. To turn off, set debug=False in launch().\n",
            "Note: opening Chrome Inspector may crash demo inside Colab notebooks.\n",
            "\n",
            "To create a public link, set `share=True` in `launch()`.\n"
          ]
        },
        {
          "output_type": "display_data",
          "data": {
            "text/plain": [
              "<IPython.core.display.Javascript object>"
            ],
            "application/javascript": [
              "(async (port, path, width, height, cache, element) => {\n",
              "                        if (!google.colab.kernel.accessAllowed && !cache) {\n",
              "                            return;\n",
              "                        }\n",
              "                        element.appendChild(document.createTextNode(''));\n",
              "                        const url = await google.colab.kernel.proxyPort(port, {cache});\n",
              "\n",
              "                        const external_link = document.createElement('div');\n",
              "                        external_link.innerHTML = `\n",
              "                            <div style=\"font-family: monospace; margin-bottom: 0.5rem\">\n",
              "                                Running on <a href=${new URL(path, url).toString()} target=\"_blank\">\n",
              "                                    https://localhost:${port}${path}\n",
              "                                </a>\n",
              "                            </div>\n",
              "                        `;\n",
              "                        element.appendChild(external_link);\n",
              "\n",
              "                        const iframe = document.createElement('iframe');\n",
              "                        iframe.src = new URL(path, url).toString();\n",
              "                        iframe.height = height;\n",
              "                        iframe.allow = \"autoplay; camera; microphone; clipboard-read; clipboard-write;\"\n",
              "                        iframe.width = width;\n",
              "                        iframe.style.border = 0;\n",
              "                        element.appendChild(iframe);\n",
              "                    })(7860, \"/\", \"100%\", 500, false, window.element)"
            ]
          },
          "metadata": {}
        },
        {
          "output_type": "stream",
          "name": "stdout",
          "text": [
            "1/1 [==============================] - 0s 26ms/step\n",
            "1/1 [==============================] - 0s 21ms/step\n",
            "1/1 [==============================] - 0s 29ms/step\n",
            "1/1 [==============================] - 0s 23ms/step\n",
            "1/1 [==============================] - 0s 19ms/step\n",
            "Keyboard interruption in main thread... closing server.\n"
          ]
        },
        {
          "output_type": "execute_result",
          "data": {
            "text/plain": []
          },
          "metadata": {},
          "execution_count": 48
        }
      ],
      "source": [
        "import gradio as gr\n",
        "\n",
        "def model_response(human_text):\n",
        "\n",
        "    # Encodeamos\n",
        "    encoded = tok.texts_to_sequences([human_text])[0]\n",
        "    # Si tienen distinto largo\n",
        "    encoded = pad_sequences([encoded], maxlen=3, padding='pre')\n",
        "    \n",
        "    # Predicción softmax\n",
        "    y_hat = model.predict(encoded).argmax(axis=-1)\n",
        "\n",
        "    # Debemos buscar en el vocabulario la palabra\n",
        "    # que corresopnde al indice (y_hat) predicho por le modelo\n",
        "    out_word = ''\n",
        "    for word, index in tok.word_index.items():\n",
        "        if index == y_hat:\n",
        "            out_word = word\n",
        "            break\n",
        "\n",
        "    # Agrego la palabra a la frase predicha\n",
        "    return human_text + ' ' + out_word\n",
        "\n",
        "iface = gr.Interface(\n",
        "    fn=model_response,\n",
        "    inputs=[\"textbox\"],\n",
        "    outputs=\"text\",\n",
        "    layout=\"vertical\")\n",
        "\n",
        "iface.launch(debug=True)"
      ]
    },
    {
      "cell_type": "markdown",
      "metadata": {
        "id": "mCeMWWupxN1-"
      },
      "source": [
        "### 6 - Generación de secuencias nuevas"
      ]
    },
    {
      "cell_type": "code",
      "execution_count": 49,
      "metadata": {
        "id": "bwbS_pfhxvB3"
      },
      "outputs": [],
      "source": [
        "def generate_seq(model, tokenizer, seed_text, max_length, n_words):\n",
        "    \"\"\"\n",
        "        Exec model sequence prediction\n",
        "\n",
        "        Args:\n",
        "            model (keras): modelo entrenado\n",
        "            tokenizer (keras tokenizer): tonenizer utilizado en el preprocesamiento\n",
        "            seed_text (string): texto de entrada (input_seq)\n",
        "            max_length (int): máxima longitud de la sequencia de entrada\n",
        "            n_words (int): números de palabras a agregar a la sequencia de entrada\n",
        "        returns:\n",
        "            output_text (string): sentencia con las \"n_words\" agregadas\n",
        "    \"\"\"\n",
        "    output_text = seed_text\n",
        "\t# generate a fixed number of words\n",
        "    for _ in range(n_words):\n",
        "\t\t# Encodeamos\n",
        "        encoded = tokenizer.texts_to_sequences([output_text])[0]\n",
        "\t\t# Si tienen distinto largo\n",
        "        encoded = pad_sequences([encoded], maxlen=max_length, padding='pre')\n",
        "\t\t\n",
        "\t\t# Predicción softmax\n",
        "        y_hat = model.predict(encoded).argmax(axis=-1)\n",
        "\t\t# Vamos concatenando las predicciones\n",
        "        out_word = ''\n",
        "\n",
        "        # Debemos buscar en el vocabulario la palabra\n",
        "        # que corresopnde al indice (y_hat) predicho por le modelo\n",
        "        for word, index in tokenizer.word_index.items():\n",
        "            if index == y_hat:\n",
        "                out_word = word\n",
        "                break\n",
        "\n",
        "\t\t# Agrego las palabras a la frase predicha\n",
        "        output_text += ' ' + out_word\n",
        "    return output_text"
      ]
    },
    {
      "cell_type": "code",
      "execution_count": 53,
      "metadata": {
        "id": "JoFqRC5pxzqS",
        "colab": {
          "base_uri": "https://localhost:8080/",
          "height": 122
        },
        "outputId": "d63f2129-9de1-49c2-cf7c-7037058fee67"
      },
      "outputs": [
        {
          "output_type": "stream",
          "name": "stdout",
          "text": [
            "1/1 [==============================] - 0s 94ms/step\n",
            "1/1 [==============================] - 0s 223ms/step\n",
            "hey jude don't your house\n",
            "1/1 [==============================] - 0s 178ms/step\n",
            "1/1 [==============================] - 0s 40ms/step\n"
          ]
        },
        {
          "output_type": "execute_result",
          "data": {
            "text/plain": [
              "\"Rap god was they're\""
            ],
            "application/vnd.google.colaboratory.intrinsic+json": {
              "type": "string"
            }
          },
          "metadata": {},
          "execution_count": 53
        }
      ],
      "source": [
        "input_text='hey jude don\\'t'\n",
        "\n",
        "print(generate_seq(model, tok, input_text, max_length=3, n_words=2))\n",
        "\n",
        "input_text='Rap god'\n",
        "\n",
        "generate_seq(model, tok, input_text, max_length=3, n_words=2)"
      ]
    },
    {
      "cell_type": "markdown",
      "metadata": {
        "id": "T2SHmXbgxQH9"
      },
      "source": [
        "### 7 - Conclusiones\n",
        "El modelo entrenado tuvo un muy mal desempeño en el entrenamiento además de overfitting. Cuestiones que podrían mejorarse:\n",
        "- Agregar más capas o neuronales\n",
        "- Incrementar la cantidad de épocas\n",
        "- Agregar BRNN\n",
        "\n",
        "Es importante destacar que en este ejemplo estamos entrenando nuestro propios Embeddings, y para ello se requiere mucha data. En los ejemplos que realizaremos de aquí en más utilizaremos más datos, embeddings pre-enternados o modelos pre-entrenados."
      ]
    },
    {
      "cell_type": "code",
      "source": [],
      "metadata": {
        "id": "ODpIrg66ZFbk"
      },
      "execution_count": 45,
      "outputs": []
    }
  ],
  "metadata": {
    "accelerator": "GPU",
    "colab": {
      "provenance": []
    },
    "kernelspec": {
      "display_name": "Python 3",
      "name": "python3"
    },
    "language_info": {
      "name": "python"
    },
    "gpuClass": "standard"
  },
  "nbformat": 4,
  "nbformat_minor": 0
}