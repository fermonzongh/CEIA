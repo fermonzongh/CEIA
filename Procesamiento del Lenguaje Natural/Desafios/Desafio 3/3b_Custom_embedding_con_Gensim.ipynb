{
  "cells": [
    {
      "cell_type": "markdown",
      "metadata": {
        "id": "sZd5yLnnHOK0"
      },
      "source": [
        "<img src=\"https://github.com/hernancontigiani/ceia_memorias_especializacion/raw/master/Figures/logoFIUBA.jpg\" width=\"500\" align=\"center\">\n",
        "\n",
        "\n",
        "# Procesamiento de lenguaje natural\n",
        "## Custom embedddings con Gensim\n",
        "\n"
      ]
    },
    {
      "cell_type": "markdown",
      "metadata": {
        "id": "vA7nqkumo9z9"
      },
      "source": [
        "### Objetivo\n",
        "El objetivo es utilizar documentos / corpus para crear embeddings de palabras basado en ese contexto. Se utilizará canciones de bandas para generar los embeddings, es decir, que los vectores tendrán la forma en función de como esa banda haya utilizado las palabras en sus canciones."
      ]
    },
    {
      "cell_type": "code",
      "execution_count": 1,
      "metadata": {
        "id": "lFToQs5FK5uZ"
      },
      "outputs": [],
      "source": [
        "import pandas as pd\n",
        "import matplotlib.pyplot as plt\n",
        "import seaborn as sns\n",
        "\n",
        "import multiprocessing\n",
        "from gensim.models import Word2Vec"
      ]
    },
    {
      "cell_type": "markdown",
      "metadata": {
        "id": "g07zJxG7H9vG"
      },
      "source": [
        "### Datos\n",
        "Utilizaremos como dataset canciones de bandas de habla inglesa."
      ]
    },
    {
      "cell_type": "code",
      "execution_count": 2,
      "metadata": {
        "id": "l7z4CSBfpR3X",
        "colab": {
          "base_uri": "https://localhost:8080/"
        },
        "outputId": "9db2a859-5542-48df-9b19-9d193a293abf"
      },
      "outputs": [
        {
          "output_type": "stream",
          "name": "stdout",
          "text": [
            "--2023-03-30 22:21:17--  http://songs_dataset.zip/\n",
            "Resolving songs_dataset.zip (songs_dataset.zip)... failed: Name or service not known.\n",
            "wget: unable to resolve host address ‘songs_dataset.zip’\n",
            "--2023-03-30 22:21:17--  https://github.com/FIUBA-Posgrado-Inteligencia-Artificial/procesamiento_lenguaje_natural/raw/main/datasets/songs_dataset.zip\n",
            "Resolving github.com (github.com)... 140.82.113.4\n",
            "Connecting to github.com (github.com)|140.82.113.4|:443... connected.\n",
            "HTTP request sent, awaiting response... 302 Found\n",
            "Location: https://raw.githubusercontent.com/FIUBA-Posgrado-Inteligencia-Artificial/procesamiento_lenguaje_natural/main/datasets/songs_dataset.zip [following]\n",
            "--2023-03-30 22:21:17--  https://raw.githubusercontent.com/FIUBA-Posgrado-Inteligencia-Artificial/procesamiento_lenguaje_natural/main/datasets/songs_dataset.zip\n",
            "Resolving raw.githubusercontent.com (raw.githubusercontent.com)... 185.199.108.133, 185.199.109.133, 185.199.110.133, ...\n",
            "Connecting to raw.githubusercontent.com (raw.githubusercontent.com)|185.199.108.133|:443... connected.\n",
            "HTTP request sent, awaiting response... 200 OK\n",
            "Length: 2075036 (2.0M) [application/zip]\n",
            "Saving to: ‘songs_dataset.zip’\n",
            "\n",
            "songs_dataset.zip   100%[===================>]   1.98M  --.-KB/s    in 0.1s    \n",
            "\n",
            "2023-03-30 22:21:18 (15.1 MB/s) - ‘songs_dataset.zip’ saved [2075036/2075036]\n",
            "\n",
            "FINISHED --2023-03-30 22:21:18--\n",
            "Total wall clock time: 0.9s\n",
            "Downloaded: 1 files, 2.0M in 0.1s (15.1 MB/s)\n"
          ]
        }
      ],
      "source": [
        "# Descargar la carpeta de dataset\n",
        "import os\n",
        "import platform\n",
        "if os.access('./songs_dataset', os.F_OK) is False:\n",
        "    if os.access('songs_dataset.zip', os.F_OK) is False:\n",
        "        if platform.system() == 'Windows':\n",
        "            !curl https://raw.githubusercontent.com/FIUBA-Posgrado-Inteligencia-Artificial/procesamiento_lenguaje_natural/main/datasets/songs_dataset.zip -o songs_dataset.zip\n",
        "        else:\n",
        "            !wget songs_dataset.zip https://github.com/FIUBA-Posgrado-Inteligencia-Artificial/procesamiento_lenguaje_natural/raw/main/datasets/songs_dataset.zip\n",
        "    !unzip -q songs_dataset.zip   \n",
        "else:\n",
        "    print(\"El dataset ya se encuentra descargado\")"
      ]
    },
    {
      "cell_type": "code",
      "execution_count": 3,
      "metadata": {
        "id": "mysGrIw9ljC2",
        "colab": {
          "base_uri": "https://localhost:8080/"
        },
        "outputId": "b2a9598f-2c52-48a8-9b87-9b8c8a792833"
      },
      "outputs": [
        {
          "output_type": "execute_result",
          "data": {
            "text/plain": [
              "['dj-khaled.txt',\n",
              " 'bjork.txt',\n",
              " 'alicia-keys.txt',\n",
              " 'bob-dylan.txt',\n",
              " 'beatles.txt',\n",
              " 'disney.txt',\n",
              " 'eminem.txt',\n",
              " 'r-kelly.txt',\n",
              " 'amy-winehouse.txt',\n",
              " 'johnny-cash.txt',\n",
              " 'janisjoplin.txt',\n",
              " 'jimi-hendrix.txt',\n",
              " 'joni-mitchell.txt',\n",
              " 'leonard-cohen.txt',\n",
              " 'missy-elliott.txt',\n",
              " 'lady-gaga.txt',\n",
              " 'nicki-minaj.txt',\n",
              " 'radiohead.txt',\n",
              " 'bruno-mars.txt',\n",
              " 'Lil_Wayne.txt',\n",
              " 'adele.txt',\n",
              " 'dickinson.txt',\n",
              " 'britney-spears.txt',\n",
              " 'bieber.txt',\n",
              " 'kanye.txt',\n",
              " 'paul-simon.txt',\n",
              " 'lorde.txt',\n",
              " 'ludacris.txt',\n",
              " 'nickelback.txt',\n",
              " 'michael-jackson.txt',\n",
              " 'rihanna.txt',\n",
              " 'patti-smith.txt',\n",
              " 'notorious_big.txt',\n",
              " 'cake.txt',\n",
              " 'dolly-parton.txt',\n",
              " 'blink-182.txt',\n",
              " 'nirvana.txt',\n",
              " 'notorious-big.txt',\n",
              " 'Kanye_West.txt',\n",
              " 'lin-manuel-miranda.txt',\n",
              " 'bruce-springsteen.txt',\n",
              " 'nursery_rhymes.txt',\n",
              " 'drake.txt',\n",
              " 'dr-seuss.txt',\n",
              " 'al-green.txt',\n",
              " 'bob-marley.txt',\n",
              " 'prince.txt',\n",
              " 'lil-wayne.txt',\n",
              " 'kanye-west.txt']"
            ]
          },
          "metadata": {},
          "execution_count": 3
        }
      ],
      "source": [
        "# Posibles bandas\n",
        "os.listdir(\"./songs_dataset/\")"
      ]
    },
    {
      "cell_type": "code",
      "execution_count": 4,
      "metadata": {
        "id": "ticoqYD1Z3I7",
        "colab": {
          "base_uri": "https://localhost:8080/",
          "height": 261
        },
        "outputId": "f535d056-4017-4f29-985f-a212971d9fc2"
      },
      "outputs": [
        {
          "output_type": "stream",
          "name": "stderr",
          "text": [
            "<ipython-input-4-250d9583aaef>:2: ParserWarning: Falling back to the 'python' engine because the 'c' engine does not support regex separators (separators > 1 char and different from '\\s+' are interpreted as regex); you can avoid this warning by specifying engine='python'.\n",
            "  df = pd.read_csv('songs_dataset/eminem.txt', sep='/n', header=None)\n"
          ]
        },
        {
          "output_type": "execute_result",
          "data": {
            "text/plain": [
              "                                                   0\n",
              "0  Look, I was gonna go easy on you and not to hu...\n",
              "1          But I'm only going to get this one chance\n",
              "2  Something's wrong, I can feel it (Six minutes,...\n",
              "3  Just a feeling I've got, like something's abou...\n",
              "4  If that means, what I think it means, we're in..."
            ],
            "text/html": [
              "\n",
              "  <div id=\"df-7266428e-cdf3-4d7e-8ef5-a0c58351e003\">\n",
              "    <div class=\"colab-df-container\">\n",
              "      <div>\n",
              "<style scoped>\n",
              "    .dataframe tbody tr th:only-of-type {\n",
              "        vertical-align: middle;\n",
              "    }\n",
              "\n",
              "    .dataframe tbody tr th {\n",
              "        vertical-align: top;\n",
              "    }\n",
              "\n",
              "    .dataframe thead th {\n",
              "        text-align: right;\n",
              "    }\n",
              "</style>\n",
              "<table border=\"1\" class=\"dataframe\">\n",
              "  <thead>\n",
              "    <tr style=\"text-align: right;\">\n",
              "      <th></th>\n",
              "      <th>0</th>\n",
              "    </tr>\n",
              "  </thead>\n",
              "  <tbody>\n",
              "    <tr>\n",
              "      <th>0</th>\n",
              "      <td>Look, I was gonna go easy on you and not to hu...</td>\n",
              "    </tr>\n",
              "    <tr>\n",
              "      <th>1</th>\n",
              "      <td>But I'm only going to get this one chance</td>\n",
              "    </tr>\n",
              "    <tr>\n",
              "      <th>2</th>\n",
              "      <td>Something's wrong, I can feel it (Six minutes,...</td>\n",
              "    </tr>\n",
              "    <tr>\n",
              "      <th>3</th>\n",
              "      <td>Just a feeling I've got, like something's abou...</td>\n",
              "    </tr>\n",
              "    <tr>\n",
              "      <th>4</th>\n",
              "      <td>If that means, what I think it means, we're in...</td>\n",
              "    </tr>\n",
              "  </tbody>\n",
              "</table>\n",
              "</div>\n",
              "      <button class=\"colab-df-convert\" onclick=\"convertToInteractive('df-7266428e-cdf3-4d7e-8ef5-a0c58351e003')\"\n",
              "              title=\"Convert this dataframe to an interactive table.\"\n",
              "              style=\"display:none;\">\n",
              "        \n",
              "  <svg xmlns=\"http://www.w3.org/2000/svg\" height=\"24px\"viewBox=\"0 0 24 24\"\n",
              "       width=\"24px\">\n",
              "    <path d=\"M0 0h24v24H0V0z\" fill=\"none\"/>\n",
              "    <path d=\"M18.56 5.44l.94 2.06.94-2.06 2.06-.94-2.06-.94-.94-2.06-.94 2.06-2.06.94zm-11 1L8.5 8.5l.94-2.06 2.06-.94-2.06-.94L8.5 2.5l-.94 2.06-2.06.94zm10 10l.94 2.06.94-2.06 2.06-.94-2.06-.94-.94-2.06-.94 2.06-2.06.94z\"/><path d=\"M17.41 7.96l-1.37-1.37c-.4-.4-.92-.59-1.43-.59-.52 0-1.04.2-1.43.59L10.3 9.45l-7.72 7.72c-.78.78-.78 2.05 0 2.83L4 21.41c.39.39.9.59 1.41.59.51 0 1.02-.2 1.41-.59l7.78-7.78 2.81-2.81c.8-.78.8-2.07 0-2.86zM5.41 20L4 18.59l7.72-7.72 1.47 1.35L5.41 20z\"/>\n",
              "  </svg>\n",
              "      </button>\n",
              "      \n",
              "  <style>\n",
              "    .colab-df-container {\n",
              "      display:flex;\n",
              "      flex-wrap:wrap;\n",
              "      gap: 12px;\n",
              "    }\n",
              "\n",
              "    .colab-df-convert {\n",
              "      background-color: #E8F0FE;\n",
              "      border: none;\n",
              "      border-radius: 50%;\n",
              "      cursor: pointer;\n",
              "      display: none;\n",
              "      fill: #1967D2;\n",
              "      height: 32px;\n",
              "      padding: 0 0 0 0;\n",
              "      width: 32px;\n",
              "    }\n",
              "\n",
              "    .colab-df-convert:hover {\n",
              "      background-color: #E2EBFA;\n",
              "      box-shadow: 0px 1px 2px rgba(60, 64, 67, 0.3), 0px 1px 3px 1px rgba(60, 64, 67, 0.15);\n",
              "      fill: #174EA6;\n",
              "    }\n",
              "\n",
              "    [theme=dark] .colab-df-convert {\n",
              "      background-color: #3B4455;\n",
              "      fill: #D2E3FC;\n",
              "    }\n",
              "\n",
              "    [theme=dark] .colab-df-convert:hover {\n",
              "      background-color: #434B5C;\n",
              "      box-shadow: 0px 1px 3px 1px rgba(0, 0, 0, 0.15);\n",
              "      filter: drop-shadow(0px 1px 2px rgba(0, 0, 0, 0.3));\n",
              "      fill: #FFFFFF;\n",
              "    }\n",
              "  </style>\n",
              "\n",
              "      <script>\n",
              "        const buttonEl =\n",
              "          document.querySelector('#df-7266428e-cdf3-4d7e-8ef5-a0c58351e003 button.colab-df-convert');\n",
              "        buttonEl.style.display =\n",
              "          google.colab.kernel.accessAllowed ? 'block' : 'none';\n",
              "\n",
              "        async function convertToInteractive(key) {\n",
              "          const element = document.querySelector('#df-7266428e-cdf3-4d7e-8ef5-a0c58351e003');\n",
              "          const dataTable =\n",
              "            await google.colab.kernel.invokeFunction('convertToInteractive',\n",
              "                                                     [key], {});\n",
              "          if (!dataTable) return;\n",
              "\n",
              "          const docLinkHtml = 'Like what you see? Visit the ' +\n",
              "            '<a target=\"_blank\" href=https://colab.research.google.com/notebooks/data_table.ipynb>data table notebook</a>'\n",
              "            + ' to learn more about interactive tables.';\n",
              "          element.innerHTML = '';\n",
              "          dataTable['output_type'] = 'display_data';\n",
              "          await google.colab.output.renderOutput(dataTable, element);\n",
              "          const docLink = document.createElement('div');\n",
              "          docLink.innerHTML = docLinkHtml;\n",
              "          element.appendChild(docLink);\n",
              "        }\n",
              "      </script>\n",
              "    </div>\n",
              "  </div>\n",
              "  "
            ]
          },
          "metadata": {},
          "execution_count": 4
        }
      ],
      "source": [
        "# Armar el dataset utilizando salto de línea para separar las oraciones/docs\n",
        "df = pd.read_csv('songs_dataset/eminem.txt', sep='/n', header=None)\n",
        "df.head()"
      ]
    },
    {
      "cell_type": "code",
      "execution_count": 5,
      "metadata": {
        "id": "LEpKubK9XzXN",
        "colab": {
          "base_uri": "https://localhost:8080/"
        },
        "outputId": "df6b6e81-3736-477e-aa52-3a47bf7615cb"
      },
      "outputs": [
        {
          "output_type": "stream",
          "name": "stdout",
          "text": [
            "Cantidad de documentos: 6812\n"
          ]
        }
      ],
      "source": [
        "print(\"Cantidad de documentos:\", df.shape[0])"
      ]
    },
    {
      "cell_type": "markdown",
      "metadata": {
        "id": "ab94qaFlrA1G"
      },
      "source": [
        "### 1 - Preprocesamiento"
      ]
    },
    {
      "cell_type": "code",
      "execution_count": 6,
      "metadata": {
        "id": "rIsmMWmjrDHd"
      },
      "outputs": [],
      "source": [
        "from keras.preprocessing.text import text_to_word_sequence\n",
        "\n",
        "sentence_tokens = []\n",
        "# Recorrer todas las filas y transformar las oraciones\n",
        "# en una secuencia de palabras (esto podría realizarse con NLTK o spaCy también)\n",
        "for _, row in df[:None].iterrows():\n",
        "    sentence_tokens.append(text_to_word_sequence(row[0]))"
      ]
    },
    {
      "cell_type": "code",
      "execution_count": 7,
      "metadata": {
        "id": "CHepi_DGrbhq",
        "colab": {
          "base_uri": "https://localhost:8080/"
        },
        "outputId": "b87d01d5-a155-4097-f8c9-3c77b582fa4b"
      },
      "outputs": [
        {
          "output_type": "execute_result",
          "data": {
            "text/plain": [
              "[['look',\n",
              "  'i',\n",
              "  'was',\n",
              "  'gonna',\n",
              "  'go',\n",
              "  'easy',\n",
              "  'on',\n",
              "  'you',\n",
              "  'and',\n",
              "  'not',\n",
              "  'to',\n",
              "  'hurt',\n",
              "  'your',\n",
              "  'feelings'],\n",
              " ['but', \"i'm\", 'only', 'going', 'to', 'get', 'this', 'one', 'chance']]"
            ]
          },
          "metadata": {},
          "execution_count": 7
        }
      ],
      "source": [
        "# Demos un vistazo\n",
        "sentence_tokens[:2]"
      ]
    },
    {
      "cell_type": "markdown",
      "metadata": {
        "id": "BaXV6nlHr5Aa"
      },
      "source": [
        "### 2 - Crear los vectores (word2vec)"
      ]
    },
    {
      "cell_type": "code",
      "execution_count": 8,
      "metadata": {
        "id": "OSb0v7h8r7hK"
      },
      "outputs": [],
      "source": [
        "from gensim.models.callbacks import CallbackAny2Vec\n",
        "# Durante el entrenamiento gensim por defecto no informa el \"loss\" en cada época\n",
        "# Sobrecargamos el callback para poder tener esta información\n",
        "class callback(CallbackAny2Vec):\n",
        "    \"\"\"\n",
        "    Callback to print loss after each epoch\n",
        "    \"\"\"\n",
        "    def __init__(self):\n",
        "        self.epoch = 0\n",
        "\n",
        "    def on_epoch_end(self, model):\n",
        "        loss = model.get_latest_training_loss()\n",
        "        if self.epoch == 0:\n",
        "            print('Loss after epoch {}: {}'.format(self.epoch, loss))\n",
        "        else:\n",
        "            print('Loss after epoch {}: {}'.format(self.epoch, loss- self.loss_previous_step))\n",
        "        self.epoch += 1\n",
        "        self.loss_previous_step = loss"
      ]
    },
    {
      "cell_type": "code",
      "execution_count": 9,
      "metadata": {
        "id": "i0wnDdv9sJ47"
      },
      "outputs": [],
      "source": [
        "# Crearmos el modelo generador de vectores\n",
        "# En este caso utilizaremos la estructura modelo Skipgram\n",
        "w2v_model = Word2Vec(min_count=5,    # frecuencia mínima de palabra para incluirla en el vocabulario\n",
        "                     window=2,       # cant de palabras antes y desp de la predicha\n",
        "                     vector_size=300,       # dimensionalidad de los vectores \n",
        "                     negative=20,    # cantidad de negative samples... 0 es no se usa\n",
        "                     workers=1,      # si tienen más cores pueden cambiar este valor\n",
        "                     sg=1)           # modelo 0:CBOW  1:skipgram"
      ]
    },
    {
      "cell_type": "code",
      "execution_count": 10,
      "metadata": {
        "id": "5lTt8wErsf17"
      },
      "outputs": [],
      "source": [
        "# Obtener el vocabulario con los tokens\n",
        "w2v_model.build_vocab(sentence_tokens)"
      ]
    },
    {
      "cell_type": "code",
      "execution_count": 11,
      "metadata": {
        "id": "TNc9qt4os5AT",
        "colab": {
          "base_uri": "https://localhost:8080/"
        },
        "outputId": "bb95fb41-62e0-48db-d0f1-3e8fdf33b060"
      },
      "outputs": [
        {
          "output_type": "stream",
          "name": "stdout",
          "text": [
            "Cantidad de docs en el corpus: 6812\n"
          ]
        }
      ],
      "source": [
        "# Cantidad de filas/docs encontradas en el corpus\n",
        "print(\"Cantidad de docs en el corpus:\", w2v_model.corpus_count)"
      ]
    },
    {
      "cell_type": "code",
      "execution_count": 12,
      "metadata": {
        "id": "idw9cHF3tSMl",
        "colab": {
          "base_uri": "https://localhost:8080/"
        },
        "outputId": "9ffdfc07-50db-445f-8076-055dec6646d2"
      },
      "outputs": [
        {
          "output_type": "stream",
          "name": "stdout",
          "text": [
            "Cantidad de words distintas en el corpus: 1347\n"
          ]
        }
      ],
      "source": [
        "# Cantidad de words encontradas en el corpus\n",
        "print(\"Cantidad de words distintas en el corpus:\", len(w2v_model.wv.index_to_key))"
      ]
    },
    {
      "cell_type": "markdown",
      "metadata": {
        "id": "fC9mZ8DPk-UC"
      },
      "source": [
        "### 3 - Entrenar el modelo generador"
      ]
    },
    {
      "cell_type": "code",
      "execution_count": 13,
      "metadata": {
        "id": "QSp-x0PAsq56",
        "colab": {
          "base_uri": "https://localhost:8080/"
        },
        "outputId": "97b9cf17-4c91-4ed1-e588-1f1f07cf373a"
      },
      "outputs": [
        {
          "output_type": "stream",
          "name": "stdout",
          "text": [
            "Loss after epoch 0: 506556.96875\n",
            "Loss after epoch 1: 369829.53125\n",
            "Loss after epoch 2: 344129.125\n",
            "Loss after epoch 3: 314718.375\n",
            "Loss after epoch 4: 310399.0\n",
            "Loss after epoch 5: 295839.5\n",
            "Loss after epoch 6: 262763.5\n",
            "Loss after epoch 7: 258724.5\n",
            "Loss after epoch 8: 254935.0\n",
            "Loss after epoch 9: 252422.0\n",
            "Loss after epoch 10: 249889.75\n",
            "Loss after epoch 11: 246938.0\n",
            "Loss after epoch 12: 243465.0\n",
            "Loss after epoch 13: 241613.5\n",
            "Loss after epoch 14: 229063.75\n",
            "Loss after epoch 15: 226176.0\n",
            "Loss after epoch 16: 225148.5\n",
            "Loss after epoch 17: 223591.5\n",
            "Loss after epoch 18: 222550.5\n",
            "Loss after epoch 19: 222643.0\n"
          ]
        },
        {
          "output_type": "execute_result",
          "data": {
            "text/plain": [
              "(785273, 1296760)"
            ]
          },
          "metadata": {},
          "execution_count": 13
        }
      ],
      "source": [
        "# Entrenamos el modelo generador de vectores\n",
        "# Utilizamos nuestro callback\n",
        "w2v_model.train(sentence_tokens,\n",
        "                 total_examples=w2v_model.corpus_count,\n",
        "                 epochs=20,\n",
        "                 compute_loss = True,\n",
        "                 callbacks=[callback()]\n",
        "                 )"
      ]
    },
    {
      "cell_type": "markdown",
      "metadata": {
        "id": "ddT9NVuNlCAe"
      },
      "source": [
        "### 4 - Ensayar"
      ]
    },
    {
      "cell_type": "code",
      "execution_count": 14,
      "metadata": {
        "id": "6cHN9xGLuPEm",
        "colab": {
          "base_uri": "https://localhost:8080/"
        },
        "outputId": "9cff2506-2dcc-4b46-e10e-1af1ea1a610b"
      },
      "outputs": [
        {
          "output_type": "execute_result",
          "data": {
            "text/plain": [
              "[('loved', 0.8212378025054932),\n",
              " ('valium', 0.7913857698440552),\n",
              " ('paint', 0.7211800217628479),\n",
              " ('dad', 0.7050291895866394),\n",
              " ('lots', 0.7019648551940918),\n",
              " ('torn', 0.6946876645088196),\n",
              " ('self', 0.6901046633720398),\n",
              " (\"cleanin'\", 0.6879480481147766),\n",
              " ('skin', 0.6864941716194153),\n",
              " ('cleaning', 0.6819820404052734)]"
            ]
          },
          "metadata": {},
          "execution_count": 14
        }
      ],
      "source": [
        "# Palabras que MÁS se relacionan con...:\n",
        "w2v_model.wv.most_similar(positive=[\"mom\"], topn=10)"
      ]
    },
    {
      "cell_type": "code",
      "execution_count": 15,
      "metadata": {
        "id": "47HiU5gdkdMq",
        "colab": {
          "base_uri": "https://localhost:8080/"
        },
        "outputId": "906c95a4-5958-46bb-982c-579571725e2b"
      },
      "outputs": [
        {
          "output_type": "execute_result",
          "data": {
            "text/plain": [
              "[('one', -0.2343553900718689),\n",
              " ('through', -0.26171961426734924),\n",
              " ('from', -0.2733110785484314),\n",
              " ('to', -0.29173439741134644),\n",
              " ('even', -0.29215461015701294),\n",
              " ('as', -0.29296576976776123),\n",
              " ('ever', -0.29580244421958923),\n",
              " ('been', -0.2983234226703644),\n",
              " ('of', -0.3001636564731598),\n",
              " (\"'til\", -0.30290651321411133)]"
            ]
          },
          "metadata": {},
          "execution_count": 15
        }
      ],
      "source": [
        "# Palabras que MENOS se relacionan con...:\n",
        "w2v_model.wv.most_similar(negative=[\"gay\"], topn=10)"
      ]
    },
    {
      "cell_type": "code",
      "execution_count": 16,
      "metadata": {
        "id": "DT4Rvno2mD65",
        "colab": {
          "base_uri": "https://localhost:8080/"
        },
        "outputId": "d2066793-0e3c-41d9-ac6c-73a4b5f44bc5"
      },
      "outputs": [
        {
          "output_type": "execute_result",
          "data": {
            "text/plain": [
              "[('food', 0.7980446815490723),\n",
              " ('stamps', 0.7704891562461853),\n",
              " ('damn', 0.7608792781829834),\n",
              " ('ooh', 0.7356470823287964),\n",
              " ('swear', 0.7144322395324707),\n",
              " ('thank', 0.7053040862083435),\n",
              " ('yea', 0.6808665990829468),\n",
              " ('ah', 0.6683138608932495),\n",
              " ('sent', 0.6661420464515686),\n",
              " ('acid', 0.656876802444458)]"
            ]
          },
          "metadata": {},
          "execution_count": 16
        }
      ],
      "source": [
        "# Palabras que MÁS se relacionan con...:\n",
        "w2v_model.wv.most_similar(positive=[\"god\"], topn=10)"
      ]
    },
    {
      "cell_type": "code",
      "execution_count": 17,
      "metadata": {
        "id": "XPLDPgzBmQXt",
        "colab": {
          "base_uri": "https://localhost:8080/"
        },
        "outputId": "11a9900b-ec6c-4a23-9e05-064e8b2b0c3e"
      },
      "outputs": [
        {
          "output_type": "execute_result",
          "data": {
            "text/plain": [
              "[('fun', 0.8787831664085388),\n",
              " ('safe', 0.8613986372947693),\n",
              " ('pedal', 0.8587172627449036),\n",
              " ('dawg', 0.8575671911239624),\n",
              " (\"leavin'\", 0.8550981879234314)]"
            ]
          },
          "metadata": {},
          "execution_count": 17
        }
      ],
      "source": [
        "# Palabras que MÁS se relacionan con...:\n",
        "w2v_model.wv.most_similar(positive=[\"money\"], topn=5)"
      ]
    },
    {
      "cell_type": "code",
      "execution_count": 18,
      "metadata": {
        "id": "L_UvHPMMklOr",
        "colab": {
          "base_uri": "https://localhost:8080/"
        },
        "outputId": "782d0494-4e27-4f41-abad-9ae84682d753"
      },
      "outputs": [
        {
          "output_type": "execute_result",
          "data": {
            "text/plain": [
              "[('never', -0.19924946129322052),\n",
              " ('than', -0.20937089622020721),\n",
              " ('better', -0.23282310366630554),\n",
              " (\"ain't\", -0.23505836725234985),\n",
              " ('more', -0.25058576464653015),\n",
              " ('ass', -0.2550211548805237),\n",
              " ('there', -0.25547510385513306),\n",
              " ('seen', -0.25830182433128357),\n",
              " ('bring', -0.26555293798446655),\n",
              " ('back', -0.2667425870895386)]"
            ]
          },
          "metadata": {},
          "execution_count": 18
        }
      ],
      "source": [
        "# Ensayar con una palabra que no está en el vocabulario:\n",
        "w2v_model.wv.most_similar(negative=[\"rappers\"])"
      ]
    },
    {
      "cell_type": "markdown",
      "metadata": {
        "id": "_g8UVWe6lFmh"
      },
      "source": [
        "### 5 - Visualizar agrupación de vectores"
      ]
    },
    {
      "cell_type": "code",
      "execution_count": 19,
      "metadata": {
        "id": "pDxEVXAivjr9"
      },
      "outputs": [],
      "source": [
        "from sklearn.decomposition import IncrementalPCA    \n",
        "from sklearn.manifold import TSNE                   \n",
        "import numpy as np                                  \n",
        "\n",
        "def reduce_dimensions(model):\n",
        "    num_dimensions = 2  \n",
        "\n",
        "    vectors = np.asarray(model.wv.vectors)\n",
        "    labels = np.asarray(model.wv.index_to_key)  \n",
        "\n",
        "    tsne = TSNE(n_components=num_dimensions, random_state=0)\n",
        "    vectors = tsne.fit_transform(vectors)\n",
        "\n",
        "    x_vals = [v[0] for v in vectors]\n",
        "    y_vals = [v[1] for v in vectors]\n",
        "    return x_vals, y_vals, labels"
      ]
    },
    {
      "cell_type": "code",
      "execution_count": 23,
      "metadata": {
        "id": "NCCXtDpcugmd",
        "colab": {
          "base_uri": "https://localhost:8080/",
          "height": 542
        },
        "outputId": "7a0e79d2-2425-41ce-bd9a-afaf40acfc88"
      },
      "outputs": [
        {
          "output_type": "display_data",
          "data": {
            "text/html": [
              "<html>\n",
              "<head><meta charset=\"utf-8\" /></head>\n",
              "<body>\n",
              "    <div>            <script src=\"https://cdnjs.cloudflare.com/ajax/libs/mathjax/2.7.5/MathJax.js?config=TeX-AMS-MML_SVG\"></script><script type=\"text/javascript\">if (window.MathJax && window.MathJax.Hub && window.MathJax.Hub.Config) {window.MathJax.Hub.Config({SVG: {font: \"STIX-Web\"}});}</script>                <script type=\"text/javascript\">window.PlotlyConfig = {MathJaxConfig: 'local'};</script>\n",
              "        <script src=\"https://cdn.plot.ly/plotly-2.18.2.min.js\"></script>                <div id=\"06de7f5b-e71f-4ecb-b9aa-bdbfef2d4d8c\" class=\"plotly-graph-div\" style=\"height:525px; width:100%;\"></div>            <script type=\"text/javascript\">                                    window.PLOTLYENV=window.PLOTLYENV || {};                                    if (document.getElementById(\"06de7f5b-e71f-4ecb-b9aa-bdbfef2d4d8c\")) {                    Plotly.newPlot(                        \"06de7f5b-e71f-4ecb-b9aa-bdbfef2d4d8c\",                        [{\"hovertemplate\":\"x=%{x}<br>y=%{y}<br>text=%{text}<extra></extra>\",\"legendgroup\":\"\",\"marker\":{\"color\":\"#636efa\",\"symbol\":\"circle\"},\"mode\":\"markers+text\",\"name\":\"\",\"orientation\":\"v\",\"showlegend\":false,\"text\":[\"i\",\"the\",\"you\",\"to\",\"a\",\"and\",\"my\",\"i'm\",\"it\",\"me\",\"in\",\"that\",\"like\",\"of\",\"this\",\"but\",\"just\",\"so\",\"on\",\"is\",\"your\",\"don't\",\"up\",\"with\",\"get\",\"for\",\"be\",\"it's\",\"no\",\"all\",\"know\",\"what\",\"now\",\"out\",\"when\",\"they\",\"was\",\"not\",\"fuck\",\"ain't\",\"got\",\"at\",\"go\",\"can\",\"back\",\"if\",\"shit\",\"we\",\"he\",\"do\",\"one\",\"from\",\"'cause\",\"as\",\"never\",\"see\",\"think\",\"say\",\"his\",\"make\",\"you're\",\"off\",\"oh\",\"that's\",\"down\",\"way\",\"who\",\"her\",\"have\",\"can't\",\"take\",\"right\",\"ass\",\"bitch\",\"name\",\"or\",\"too\",\"let\",\"want\",\"love\",\"then\",\"are\",\"i'll\",\"these\",\"am\",\"time\",\"how\",\"been\",\"shady\",\"'em\",\"even\",\"why\",\"feel\",\"him\",\"yeah\",\"baby\",\"man\",\"cause\",\"come\",\"gonna\",\"still\",\"slim\",\"he's\",\"about\",\"look\",\"wanna\",\"little\",\"through\",\"some\",\"could\",\"an\",\"only\",\"did\",\"girl\",\"life\",\"over\",\"here\",\"put\",\"better\",\"give\",\"more\",\"need\",\"had\",\"there\",\"said\",\"i've\",\"she\",\"everybody\",\"stand\",\"aah\",\"by\",\"fuckin'\",\"them\",\"ever\",\"fucking\",\"tell\",\"rap\",\"again\",\"god\",\"bad\",\"crazy\",\"world\",\"will\",\"nothing\",\"before\",\"us\",\"try\",\"stop\",\"would\",\"maybe\",\"hear\",\"new\",\"where\",\"own\",\"please\",\"keep\",\"really\",\"something\",\"every\",\"made\",\"same\",\"gotta\",\"blow\",\"around\",\"day\",\"head\",\"there's\",\"into\",\"'til\",\"won't\",\"call\",\"yo\",\"mom\",\"didn't\",\"boy\",\"shot\",\"well\",\"gone\",\"white\",\"real\",\"face\",\"once\",\"night\",\"comes\",\"guess\",\"thing\",\"ya\",\"two\",\"lose\",\"shake\",\"while\",\"let's\",\"people\",\"yourself\",\"hit\",\"show\",\"ha\",\"find\",\"going\",\"goes\"],\"x\":[-4.496448040008545,8.894723892211914,-9.876412391662598,-28.169092178344727,17.7072811126709,-7.493457794189453,12.721609115600586,13.495759010314941,-9.268110275268555,-5.389688014984131,0.014689241535961628,12.154727935791016,-19.661754608154297,10.047319412231445,4.762539386749268,6.530999660491943,-3.6171066761016846,18.088298797607422,17.714527130126953,12.475106239318848,-18.72632598876953,-8.847902297973633,4.5030341148376465,-11.052800178527832,-23.684377670288086,-29.271053314208984,-17.314043045043945,-7.772547721862793,-20.459997177124023,-22.61994743347168,-4.999452590942383,4.254915714263916,7.566139221191406,8.940360069274902,-3.1632752418518066,-20.66655921936035,1.0607147216796875,-22.283361434936523,21.55998420715332,-10.753812789916992,3.9677574634552,11.17335319519043,-14.974627494812012,-15.506321907043457,-11.129993438720703,-5.9781084060668945,11.537166595458984,-31.48492431640625,14.810797691345215,-14.78424072265625,-22.23562240600586,-7.458009243011475,-2.5781447887420654,23.744543075561523,-15.13079833984375,-9.177135467529297,-3.3548805713653564,-6.7748565673828125,1.9201252460479736,-17.17519187927246,12.859655380249023,-14.887706756591797,26.184804916381836,7.5035080909729,21.279556274414062,2.1073131561279297,-23.857662200927734,-4.7143659591674805,-8.36167049407959,-7.445853233337402,13.61587142944336,19.24297523498535,20.43834114074707,-16.001184463500977,16.713035583496094,5.52134895324707,7.671763896942139,-15.262138366699219,-12.68787670135498,19.597309112548828,-10.085006713867188,20.25284194946289,26.22525978088379,12.778092384338379,22.380002975463867,-25.190715789794922,9.616607666015625,29.313730239868164,18.278371810913086,-11.014236450195312,-5.448733806610107,3.7476463317871094,-3.9266176223754883,-12.865643501281738,14.496306419372559,25.5459041595459,-7.698827743530273,-0.3604085445404053,15.52884578704834,4.715569972991943,0.08016687631607056,17.981800079345703,13.558938980102539,-15.150680541992188,12.811812400817871,-9.449634552001953,16.316347122192383,-4.625177383422852,-15.91625690460205,-24.248485565185547,-5.0853271484375,-23.193193435668945,-0.010447314940392971,11.621176719665527,16.65175437927246,-15.968167304992676,5.233525276184082,-12.689538955688477,-19.575374603271484,-16.312345504760742,-19.3306884765625,-17.80512046813965,-0.07651670277118683,22.103450775146484,-2.3960511684417725,28.495580673217773,-8.73099136352539,-8.451689720153809,21.120349884033203,25.156553268432617,-9.4244966506958,-6.39909029006958,-10.098061561584473,-2.9153623580932617,-11.264606475830078,-10.968451499938965,3.10229754447937,-9.602849960327148,23.228412628173828,7.125004291534424,13.089941024780273,16.3382625579834,18.876953125,6.940664768218994,-10.100757598876953,-13.294777870178223,-12.522754669189453,-20.298526763916016,-12.819485664367676,-24.53920555114746,-17.788780212402344,7.43812370300293,-17.529836654663086,14.857590675354004,19.30486488342285,-14.243756294250488,-21.65586280822754,-4.592207908630371,-26.07666778564453,-1.9283692836761475,21.722087860107422,-8.439557075500488,-18.804546356201172,-1.4996483325958252,-17.579225540161133,6.654638767242432,-19.51688575744629,-4.024653911590576,7.816762924194336,-8.912467002868652,-10.537032127380371,-15.708025932312012,12.916096687316895,-8.387996673583984,16.11767578125,-22.50478744506836,14.28483772277832,10.079559326171875,24.21185874938965,17.36144256591797,-5.104609489440918,-19.240680694580078,-1.2153092622756958,-17.9254093170166,-0.39293935894966125,-24.731786727905273,-11.78236198425293,8.622282028198242,-21.095165252685547,22.84923553466797,9.585813522338867,-13.945927619934082,-26.057321548461914,-20.900867462158203,-9.709965705871582,-12.918009757995605,23.024141311645508,-1.3203831911087036,4.664477348327637,16.067447662353516],\"xaxis\":\"x\",\"y\":[-21.149656295776367,2.716163158416748,-16.156230926513672,-3.733464241027832,-23.424671173095703,2.8860578536987305,13.081883430480957,-3.9928982257843018,-23.405933380126953,-10.653794288635254,25.85848045349121,-20.556554794311523,-21.628772735595703,15.11489486694336,2.3497848510742188,-20.973482131958008,-18.154621124267578,-9.583242416381836,21.523462295532227,10.549637794494629,9.252649307250977,-21.349119186401367,28.9368896484375,26.40285873413086,-2.4885916709899902,5.320632457733154,1.3235151767730713,-30.323762893676758,-7.667736530303955,11.880215644836426,-17.119596481323242,-19.992769241333008,-11.385992050170898,19.10089111328125,-20.86804962158203,-19.0262393951416,-25.75163459777832,1.629149317741394,-15.05478286743164,-21.241413116455078,4.506783485412598,27.025442123413086,10.010392189025879,-18.081785202026367,22.060827255249023,-22.6683292388916,5.96258020401001,11.417485237121582,-5.923943519592285,-16.406150817871094,-3.5689337253570557,4.103055953979492,-19.313291549682617,1.116288661956787,-20.712915420532227,-11.219474792480469,-16.10955810546875,-16.55388641357422,17.304502487182617,-24.620622634887695,-6.160457611083984,21.031742095947266,-7.413302421569824,-20.78619956970215,22.151052474975586,-21.915678024291992,-15.049215316772461,14.95617961883545,-5.2016472816467285,-22.529497146606445,6.427453994750977,16.308961868286133,6.6085309982299805,-7.961048126220703,5.40200138092041,-25.36178207397461,-17.70671844482422,14.634159088134766,-14.277087211608887,-18.189128875732422,-24.511674880981445,3.5792782306671143,-20.323047637939453,2.3083226680755615,-15.843742370605469,3.123948335647583,-14.823652267456055,8.379098892211914,-1.413152813911438,-3.8374509811401367,-24.31321907043457,-21.175161361694336,-27.8841495513916,-5.040650844573975,-14.018800735473633,-12.268256187438965,-4.648028373718262,-12.573392868041992,19.26694107055664,-29.197092056274414,-14.194814682006836,-2.222026824951172,-9.661273956298828,-11.960321426391602,27.379257202148438,-33.61972427368164,-22.578969955444336,26.84475326538086,-13.08595085144043,7.473828315734863,-1.6090266704559326,-4.272115707397461,-23.857975006103516,-18.70387840270996,26.422163009643555,27.95282745361328,-12.234335899353027,9.630843162536621,17.285871505737305,-5.264575481414795,-8.860480308532715,-9.729004859924316,-31.313283920288086,-6.127411842346191,-21.804058074951172,10.800774574279785,-27.797975540161133,-34.24262619018555,-5.100092887878418,-11.985013008117676,28.545400619506836,13.834016799926758,-2.7605278491973877,-23.807985305786133,5.8278422355651855,-10.25979232788086,-5.907684326171875,5.898565769195557,-11.073271751403809,-15.715374946594238,-15.430200576782227,8.003640174865723,-8.829069137573242,-19.275835037231445,-0.10251276195049286,-1.4834189414978027,-16.027956008911133,9.61839485168457,-18.423599243164062,-3.767118215560913,-13.631896018981934,5.12494421005249,-16.742237091064453,6.970592021942139,-4.127355575561523,11.883541107177734,-15.649734497070312,-29.385557174682617,3.834411144256592,-2.3646082878112793,19.41793441772461,-17.26300048828125,1.3343815803527832,14.84018325805664,4.929391860961914,9.75887393951416,-5.413959503173828,17.16914176940918,20.398487091064453,-25.76581382751465,-12.401835441589355,12.599931716918945,16.989591598510742,-21.046659469604492,-14.806414604187012,-0.7455399632453918,-16.572105407714844,-23.61067008972168,12.268214225769043,-0.8493363857269287,13.173370361328125,18.9296817779541,26.422693252563477,20.769136428833008,-21.979890823364258,-7.4705610275268555,-2.1457746028900146,15.070123672485352,14.98221206665039,6.7352776527404785,-9.169296264648438,15.714274406433105,-0.5045456886291504,15.79968547821045,1.358408808708191,-2.9225146770477295,-1.9663118124008179,33.24713897705078,-13.841601371765137,-7.692213535308838],\"yaxis\":\"y\",\"type\":\"scatter\"}],                        {\"template\":{\"data\":{\"histogram2dcontour\":[{\"type\":\"histogram2dcontour\",\"colorbar\":{\"outlinewidth\":0,\"ticks\":\"\"},\"colorscale\":[[0.0,\"#0d0887\"],[0.1111111111111111,\"#46039f\"],[0.2222222222222222,\"#7201a8\"],[0.3333333333333333,\"#9c179e\"],[0.4444444444444444,\"#bd3786\"],[0.5555555555555556,\"#d8576b\"],[0.6666666666666666,\"#ed7953\"],[0.7777777777777778,\"#fb9f3a\"],[0.8888888888888888,\"#fdca26\"],[1.0,\"#f0f921\"]]}],\"choropleth\":[{\"type\":\"choropleth\",\"colorbar\":{\"outlinewidth\":0,\"ticks\":\"\"}}],\"histogram2d\":[{\"type\":\"histogram2d\",\"colorbar\":{\"outlinewidth\":0,\"ticks\":\"\"},\"colorscale\":[[0.0,\"#0d0887\"],[0.1111111111111111,\"#46039f\"],[0.2222222222222222,\"#7201a8\"],[0.3333333333333333,\"#9c179e\"],[0.4444444444444444,\"#bd3786\"],[0.5555555555555556,\"#d8576b\"],[0.6666666666666666,\"#ed7953\"],[0.7777777777777778,\"#fb9f3a\"],[0.8888888888888888,\"#fdca26\"],[1.0,\"#f0f921\"]]}],\"heatmap\":[{\"type\":\"heatmap\",\"colorbar\":{\"outlinewidth\":0,\"ticks\":\"\"},\"colorscale\":[[0.0,\"#0d0887\"],[0.1111111111111111,\"#46039f\"],[0.2222222222222222,\"#7201a8\"],[0.3333333333333333,\"#9c179e\"],[0.4444444444444444,\"#bd3786\"],[0.5555555555555556,\"#d8576b\"],[0.6666666666666666,\"#ed7953\"],[0.7777777777777778,\"#fb9f3a\"],[0.8888888888888888,\"#fdca26\"],[1.0,\"#f0f921\"]]}],\"heatmapgl\":[{\"type\":\"heatmapgl\",\"colorbar\":{\"outlinewidth\":0,\"ticks\":\"\"},\"colorscale\":[[0.0,\"#0d0887\"],[0.1111111111111111,\"#46039f\"],[0.2222222222222222,\"#7201a8\"],[0.3333333333333333,\"#9c179e\"],[0.4444444444444444,\"#bd3786\"],[0.5555555555555556,\"#d8576b\"],[0.6666666666666666,\"#ed7953\"],[0.7777777777777778,\"#fb9f3a\"],[0.8888888888888888,\"#fdca26\"],[1.0,\"#f0f921\"]]}],\"contourcarpet\":[{\"type\":\"contourcarpet\",\"colorbar\":{\"outlinewidth\":0,\"ticks\":\"\"}}],\"contour\":[{\"type\":\"contour\",\"colorbar\":{\"outlinewidth\":0,\"ticks\":\"\"},\"colorscale\":[[0.0,\"#0d0887\"],[0.1111111111111111,\"#46039f\"],[0.2222222222222222,\"#7201a8\"],[0.3333333333333333,\"#9c179e\"],[0.4444444444444444,\"#bd3786\"],[0.5555555555555556,\"#d8576b\"],[0.6666666666666666,\"#ed7953\"],[0.7777777777777778,\"#fb9f3a\"],[0.8888888888888888,\"#fdca26\"],[1.0,\"#f0f921\"]]}],\"surface\":[{\"type\":\"surface\",\"colorbar\":{\"outlinewidth\":0,\"ticks\":\"\"},\"colorscale\":[[0.0,\"#0d0887\"],[0.1111111111111111,\"#46039f\"],[0.2222222222222222,\"#7201a8\"],[0.3333333333333333,\"#9c179e\"],[0.4444444444444444,\"#bd3786\"],[0.5555555555555556,\"#d8576b\"],[0.6666666666666666,\"#ed7953\"],[0.7777777777777778,\"#fb9f3a\"],[0.8888888888888888,\"#fdca26\"],[1.0,\"#f0f921\"]]}],\"mesh3d\":[{\"type\":\"mesh3d\",\"colorbar\":{\"outlinewidth\":0,\"ticks\":\"\"}}],\"scatter\":[{\"fillpattern\":{\"fillmode\":\"overlay\",\"size\":10,\"solidity\":0.2},\"type\":\"scatter\"}],\"parcoords\":[{\"type\":\"parcoords\",\"line\":{\"colorbar\":{\"outlinewidth\":0,\"ticks\":\"\"}}}],\"scatterpolargl\":[{\"type\":\"scatterpolargl\",\"marker\":{\"colorbar\":{\"outlinewidth\":0,\"ticks\":\"\"}}}],\"bar\":[{\"error_x\":{\"color\":\"#2a3f5f\"},\"error_y\":{\"color\":\"#2a3f5f\"},\"marker\":{\"line\":{\"color\":\"#E5ECF6\",\"width\":0.5},\"pattern\":{\"fillmode\":\"overlay\",\"size\":10,\"solidity\":0.2}},\"type\":\"bar\"}],\"scattergeo\":[{\"type\":\"scattergeo\",\"marker\":{\"colorbar\":{\"outlinewidth\":0,\"ticks\":\"\"}}}],\"scatterpolar\":[{\"type\":\"scatterpolar\",\"marker\":{\"colorbar\":{\"outlinewidth\":0,\"ticks\":\"\"}}}],\"histogram\":[{\"marker\":{\"pattern\":{\"fillmode\":\"overlay\",\"size\":10,\"solidity\":0.2}},\"type\":\"histogram\"}],\"scattergl\":[{\"type\":\"scattergl\",\"marker\":{\"colorbar\":{\"outlinewidth\":0,\"ticks\":\"\"}}}],\"scatter3d\":[{\"type\":\"scatter3d\",\"line\":{\"colorbar\":{\"outlinewidth\":0,\"ticks\":\"\"}},\"marker\":{\"colorbar\":{\"outlinewidth\":0,\"ticks\":\"\"}}}],\"scattermapbox\":[{\"type\":\"scattermapbox\",\"marker\":{\"colorbar\":{\"outlinewidth\":0,\"ticks\":\"\"}}}],\"scatterternary\":[{\"type\":\"scatterternary\",\"marker\":{\"colorbar\":{\"outlinewidth\":0,\"ticks\":\"\"}}}],\"scattercarpet\":[{\"type\":\"scattercarpet\",\"marker\":{\"colorbar\":{\"outlinewidth\":0,\"ticks\":\"\"}}}],\"carpet\":[{\"aaxis\":{\"endlinecolor\":\"#2a3f5f\",\"gridcolor\":\"white\",\"linecolor\":\"white\",\"minorgridcolor\":\"white\",\"startlinecolor\":\"#2a3f5f\"},\"baxis\":{\"endlinecolor\":\"#2a3f5f\",\"gridcolor\":\"white\",\"linecolor\":\"white\",\"minorgridcolor\":\"white\",\"startlinecolor\":\"#2a3f5f\"},\"type\":\"carpet\"}],\"table\":[{\"cells\":{\"fill\":{\"color\":\"#EBF0F8\"},\"line\":{\"color\":\"white\"}},\"header\":{\"fill\":{\"color\":\"#C8D4E3\"},\"line\":{\"color\":\"white\"}},\"type\":\"table\"}],\"barpolar\":[{\"marker\":{\"line\":{\"color\":\"#E5ECF6\",\"width\":0.5},\"pattern\":{\"fillmode\":\"overlay\",\"size\":10,\"solidity\":0.2}},\"type\":\"barpolar\"}],\"pie\":[{\"automargin\":true,\"type\":\"pie\"}]},\"layout\":{\"autotypenumbers\":\"strict\",\"colorway\":[\"#636efa\",\"#EF553B\",\"#00cc96\",\"#ab63fa\",\"#FFA15A\",\"#19d3f3\",\"#FF6692\",\"#B6E880\",\"#FF97FF\",\"#FECB52\"],\"font\":{\"color\":\"#2a3f5f\"},\"hovermode\":\"closest\",\"hoverlabel\":{\"align\":\"left\"},\"paper_bgcolor\":\"white\",\"plot_bgcolor\":\"#E5ECF6\",\"polar\":{\"bgcolor\":\"#E5ECF6\",\"angularaxis\":{\"gridcolor\":\"white\",\"linecolor\":\"white\",\"ticks\":\"\"},\"radialaxis\":{\"gridcolor\":\"white\",\"linecolor\":\"white\",\"ticks\":\"\"}},\"ternary\":{\"bgcolor\":\"#E5ECF6\",\"aaxis\":{\"gridcolor\":\"white\",\"linecolor\":\"white\",\"ticks\":\"\"},\"baxis\":{\"gridcolor\":\"white\",\"linecolor\":\"white\",\"ticks\":\"\"},\"caxis\":{\"gridcolor\":\"white\",\"linecolor\":\"white\",\"ticks\":\"\"}},\"coloraxis\":{\"colorbar\":{\"outlinewidth\":0,\"ticks\":\"\"}},\"colorscale\":{\"sequential\":[[0.0,\"#0d0887\"],[0.1111111111111111,\"#46039f\"],[0.2222222222222222,\"#7201a8\"],[0.3333333333333333,\"#9c179e\"],[0.4444444444444444,\"#bd3786\"],[0.5555555555555556,\"#d8576b\"],[0.6666666666666666,\"#ed7953\"],[0.7777777777777778,\"#fb9f3a\"],[0.8888888888888888,\"#fdca26\"],[1.0,\"#f0f921\"]],\"sequentialminus\":[[0.0,\"#0d0887\"],[0.1111111111111111,\"#46039f\"],[0.2222222222222222,\"#7201a8\"],[0.3333333333333333,\"#9c179e\"],[0.4444444444444444,\"#bd3786\"],[0.5555555555555556,\"#d8576b\"],[0.6666666666666666,\"#ed7953\"],[0.7777777777777778,\"#fb9f3a\"],[0.8888888888888888,\"#fdca26\"],[1.0,\"#f0f921\"]],\"diverging\":[[0,\"#8e0152\"],[0.1,\"#c51b7d\"],[0.2,\"#de77ae\"],[0.3,\"#f1b6da\"],[0.4,\"#fde0ef\"],[0.5,\"#f7f7f7\"],[0.6,\"#e6f5d0\"],[0.7,\"#b8e186\"],[0.8,\"#7fbc41\"],[0.9,\"#4d9221\"],[1,\"#276419\"]]},\"xaxis\":{\"gridcolor\":\"white\",\"linecolor\":\"white\",\"ticks\":\"\",\"title\":{\"standoff\":15},\"zerolinecolor\":\"white\",\"automargin\":true,\"zerolinewidth\":2},\"yaxis\":{\"gridcolor\":\"white\",\"linecolor\":\"white\",\"ticks\":\"\",\"title\":{\"standoff\":15},\"zerolinecolor\":\"white\",\"automargin\":true,\"zerolinewidth\":2},\"scene\":{\"xaxis\":{\"backgroundcolor\":\"#E5ECF6\",\"gridcolor\":\"white\",\"linecolor\":\"white\",\"showbackground\":true,\"ticks\":\"\",\"zerolinecolor\":\"white\",\"gridwidth\":2},\"yaxis\":{\"backgroundcolor\":\"#E5ECF6\",\"gridcolor\":\"white\",\"linecolor\":\"white\",\"showbackground\":true,\"ticks\":\"\",\"zerolinecolor\":\"white\",\"gridwidth\":2},\"zaxis\":{\"backgroundcolor\":\"#E5ECF6\",\"gridcolor\":\"white\",\"linecolor\":\"white\",\"showbackground\":true,\"ticks\":\"\",\"zerolinecolor\":\"white\",\"gridwidth\":2}},\"shapedefaults\":{\"line\":{\"color\":\"#2a3f5f\"}},\"annotationdefaults\":{\"arrowcolor\":\"#2a3f5f\",\"arrowhead\":0,\"arrowwidth\":1},\"geo\":{\"bgcolor\":\"white\",\"landcolor\":\"#E5ECF6\",\"subunitcolor\":\"white\",\"showland\":true,\"showlakes\":true,\"lakecolor\":\"white\"},\"title\":{\"x\":0.05},\"mapbox\":{\"style\":\"light\"}}},\"xaxis\":{\"anchor\":\"y\",\"domain\":[0.0,1.0],\"title\":{\"text\":\"x\"}},\"yaxis\":{\"anchor\":\"x\",\"domain\":[0.0,1.0],\"title\":{\"text\":\"y\"}},\"legend\":{\"tracegroupgap\":0},\"margin\":{\"t\":60}},                        {\"responsive\": true}                    ).then(function(){\n",
              "                            \n",
              "var gd = document.getElementById('06de7f5b-e71f-4ecb-b9aa-bdbfef2d4d8c');\n",
              "var x = new MutationObserver(function (mutations, observer) {{\n",
              "        var display = window.getComputedStyle(gd).display;\n",
              "        if (!display || display === 'none') {{\n",
              "            console.log([gd, 'removed!']);\n",
              "            Plotly.purge(gd);\n",
              "            observer.disconnect();\n",
              "        }}\n",
              "}});\n",
              "\n",
              "// Listen for the removal of the full notebook cells\n",
              "var notebookContainer = gd.closest('#notebook-container');\n",
              "if (notebookContainer) {{\n",
              "    x.observe(notebookContainer, {childList: true});\n",
              "}}\n",
              "\n",
              "// Listen for the clearing of the current output cell\n",
              "var outputEl = gd.closest('.output');\n",
              "if (outputEl) {{\n",
              "    x.observe(outputEl, {childList: true});\n",
              "}}\n",
              "\n",
              "                        })                };                            </script>        </div>\n",
              "</body>\n",
              "</html>"
            ]
          },
          "metadata": {}
        }
      ],
      "source": [
        "# Graficar los embedddings en 2D\n",
        "import plotly.graph_objects as go\n",
        "import plotly.express as px\n",
        "\n",
        "x_vals, y_vals, labels = reduce_dimensions(w2v_model)\n",
        "\n",
        "MAX_WORDS=200\n",
        "fig = px.scatter(x=x_vals[:MAX_WORDS], y=y_vals[:MAX_WORDS], text=labels[:MAX_WORDS])\n",
        "fig.show(renderer=\"colab\") # esto para plotly en colab"
      ]
    },
    {
      "cell_type": "markdown",
      "metadata": {
        "id": "yMM_SHSaZ9N-"
      },
      "source": [
        "### Alumno"
      ]
    },
    {
      "cell_type": "markdown",
      "metadata": {
        "id": "WivQZ3ZCZ9N_"
      },
      "source": [
        "- Crear sus propios vectores con Gensim basado en lo visto en clase con otro dataset.\n",
        "- Probar términos de interés y explicar similitudes en el espacio de embeddings (sacar conclusiones entre palabras similitudes y diferencias).\n",
        "\n",
        "Las palabras relacionadas más cercanas a \"mom\" son \"dad\" y \"loved\". Esto sugiere que hay una relación semántica entre \"mom\" y \"dad\" como miembros de una familia, y que \"mom\" se asocia con sentimientos de afecto. Otras palabras relacionadas como \"paint\", \"cleaning\" y \"skin\" sugieren que \"mom\" también puede estar asociada con actividades y roles domésticos, como el cuidado del hogar.\n",
        "\n",
        "Se puede concluir que las palabras menos relacionadas con la palabra \"gay\" son principalmente preposiciones y adverbios que no tienen una relación semántica o no tienen mucho que ver con la palabra \"gay\".\n",
        "\n",
        "- Graficarlos.\n",
        "\n",
        "- Obtener conclusiones.\n",
        "\n",
        "Se puede observar que las palabras que se relacionan más entre sí se agrupan, o al menos se ubican cerca. Aunque en mi parecer la distribución de las palabras del vocabulario esta bastante dispersa."
      ]
    },
    {
      "cell_type": "code",
      "source": [],
      "metadata": {
        "id": "o9Tka5-Emfix"
      },
      "execution_count": 20,
      "outputs": []
    }
  ],
  "metadata": {
    "colab": {
      "provenance": []
    },
    "kernelspec": {
      "display_name": "Python 3 (ipykernel)",
      "language": "python",
      "name": "python3"
    },
    "language_info": {
      "codemirror_mode": {
        "name": "ipython",
        "version": 3
      },
      "file_extension": ".py",
      "mimetype": "text/x-python",
      "name": "python",
      "nbconvert_exporter": "python",
      "pygments_lexer": "ipython3",
      "version": "3.10.6"
    }
  },
  "nbformat": 4,
  "nbformat_minor": 0
}