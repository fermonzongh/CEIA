{
  "nbformat": 4,
  "nbformat_minor": 0,
  "metadata": {
    "colab": {
      "name": "PEIA - clase 3 - co7.ipynb",
      "provenance": []
    },
    "kernelspec": {
      "name": "python3",
      "display_name": "Python 3"
    },
    "language_info": {
      "name": "python"
    }
  },
  "cells": [
    {
      "cell_type": "code",
      "execution_count": 4,
      "metadata": {
        "id": "Pa3W3cCSGWYB"
      },
      "outputs": [],
      "source": [
        "import scipy.stats as stats\n",
        "import numpy as np\n",
        "import matplotlib.pyplot as plt"
      ]
    },
    {
      "cell_type": "markdown",
      "source": [
        "X ~ N(5,9)"
      ],
      "metadata": {
        "id": "-S2VmvCLGiHa"
      }
    },
    {
      "cell_type": "code",
      "source": [
        "x = stats.norm.rvs(loc=5, scale=3, size=10000)"
      ],
      "metadata": {
        "id": "kxZ38mHvGgiB"
      },
      "execution_count": 9,
      "outputs": []
    },
    {
      "cell_type": "code",
      "source": [
        "x[:5]"
      ],
      "metadata": {
        "colab": {
          "base_uri": "https://localhost:8080/"
        },
        "id": "1xLij2BcHFFx",
        "outputId": "8c05ebc6-95de-4bd1-d863-f5c11ca1785e"
      },
      "execution_count": 10,
      "outputs": [
        {
          "output_type": "execute_result",
          "data": {
            "text/plain": [
              "array([3.24911408, 0.5097073 , 7.82457891, 7.77263762, 3.92110153])"
            ]
          },
          "metadata": {},
          "execution_count": 10
        }
      ]
    },
    {
      "cell_type": "code",
      "source": [
        "plt.figure(figsize=(14,4))\n",
        "plt.plot(np.arange(len(x)), np.cumsum(x)/np.arange(len(x)))"
      ],
      "metadata": {
        "colab": {
          "base_uri": "https://localhost:8080/",
          "height": 319
        },
        "id": "BGsQTRgsG5bP",
        "outputId": "6818aa24-f1d5-4ee1-d7e5-1035de032d97"
      },
      "execution_count": 11,
      "outputs": [
        {
          "output_type": "stream",
          "name": "stderr",
          "text": [
            "/usr/local/lib/python3.7/dist-packages/ipykernel_launcher.py:2: RuntimeWarning: divide by zero encountered in true_divide\n",
            "  \n"
          ]
        },
        {
          "output_type": "execute_result",
          "data": {
            "text/plain": [
              "[<matplotlib.lines.Line2D at 0x7f6575cbbbd0>]"
            ]
          },
          "metadata": {},
          "execution_count": 11
        },
        {
          "output_type": "display_data",
          "data": {
            "text/plain": [
              "<Figure size 1008x288 with 1 Axes>"
            ],
            "image/png": "[encoded data removed]"
          },
          "metadata": {
            "needs_background": "light"
          }
        }
      ]
    },
    {
      "cell_type": "markdown",
      "source": [
        "X~U(2,4)"
      ],
      "metadata": {
        "id": "neKiuvdDH-Sa"
      }
    },
    {
      "cell_type": "code",
      "source": [
        "x = stats.uniform.rvs(loc=2, scale=2, size=10000)\n",
        "x[:5]"
      ],
      "metadata": {
        "colab": {
          "base_uri": "https://localhost:8080/"
        },
        "id": "agVXimqlHldt",
        "outputId": "add63e85-18eb-4d5b-90b9-298dd6d933c6"
      },
      "execution_count": 13,
      "outputs": [
        {
          "output_type": "execute_result",
          "data": {
            "text/plain": [
              "array([2.84585217, 3.2280822 , 3.56435722, 3.06115188, 2.37315686])"
            ]
          },
          "metadata": {},
          "execution_count": 13
        }
      ]
    },
    {
      "cell_type": "code",
      "source": [
        "plt.figure(figsize=(14,4))\n",
        "plt.plot(np.arange(len(x)), np.cumsum(x)/np.arange(len(x)))"
      ],
      "metadata": {
        "colab": {
          "base_uri": "https://localhost:8080/",
          "height": 319
        },
        "id": "qa54z5oLII-k",
        "outputId": "005af0dd-72f4-4062-ee8b-b80ebb7998ce"
      },
      "execution_count": 14,
      "outputs": [
        {
          "output_type": "stream",
          "name": "stderr",
          "text": [
            "/usr/local/lib/python3.7/dist-packages/ipykernel_launcher.py:2: RuntimeWarning: divide by zero encountered in true_divide\n",
            "  \n"
          ]
        },
        {
          "output_type": "execute_result",
          "data": {
            "text/plain": [
              "[<matplotlib.lines.Line2D at 0x7f6575c01ed0>]"
            ]
          },
          "metadata": {},
          "execution_count": 14
        },
        {
          "output_type": "display_data",
          "data": {
            "text/plain": [
              "<Figure size 1008x288 with 1 Axes>"
            ],
            "image/png": "[encoded data removed]"
          },
          "metadata": {
            "needs_background": "light"
          }
        }
      ]
    },
    {
      "cell_type": "markdown",
      "source": [
        "X~Bin(10,1/4)"
      ],
      "metadata": {
        "id": "lVLLk07oIxwL"
      }
    },
    {
      "cell_type": "code",
      "source": [
        "x = stats.binom.rvs(n=10,p=1/4, size=10000)\n",
        "x[:5]"
      ],
      "metadata": {
        "colab": {
          "base_uri": "https://localhost:8080/"
        },
        "id": "GS4JOYLwIxVa",
        "outputId": "8893ec3a-0387-48c9-da65-813e141af3b7"
      },
      "execution_count": 15,
      "outputs": [
        {
          "output_type": "execute_result",
          "data": {
            "text/plain": [
              "array([3, 0, 1, 2, 5])"
            ]
          },
          "metadata": {},
          "execution_count": 15
        }
      ]
    },
    {
      "cell_type": "code",
      "source": [
        "plt.figure(figsize=(14,4))\n",
        "plt.plot(np.arange(len(x)), np.cumsum(x)/np.arange(len(x)))"
      ],
      "metadata": {
        "colab": {
          "base_uri": "https://localhost:8080/",
          "height": 319
        },
        "id": "UwggqNn6IkoX",
        "outputId": "c54c60fe-25d6-4a65-ddc7-03560a77e84f"
      },
      "execution_count": 16,
      "outputs": [
        {
          "output_type": "stream",
          "name": "stderr",
          "text": [
            "/usr/local/lib/python3.7/dist-packages/ipykernel_launcher.py:2: RuntimeWarning: divide by zero encountered in true_divide\n",
            "  \n"
          ]
        },
        {
          "output_type": "execute_result",
          "data": {
            "text/plain": [
              "[<matplotlib.lines.Line2D at 0x7f6575bf09d0>]"
            ]
          },
          "metadata": {},
          "execution_count": 16
        },
        {
          "output_type": "display_data",
          "data": {
            "text/plain": [
              "<Figure size 1008x288 with 1 Axes>"
            ],
            "image/png": "[encoded data removed]"
          },
          "metadata": {
            "needs_background": "light"
          }
        }
      ]
    },
    {
      "cell_type": "markdown",
      "source": [
        "TCL\n",
        "X ~Bin(10,1/4)"
      ],
      "metadata": {
        "id": "Mh2d2v0QK3jo"
      }
    },
    {
      "cell_type": "code",
      "source": [
        "x = stats.binom.rvs(n=10,p=1/4, size=100000)\n",
        "y = x.reshape((-1,100))"
      ],
      "metadata": {
        "id": "QESeg-yYJO61"
      },
      "execution_count": 24,
      "outputs": []
    },
    {
      "cell_type": "code",
      "source": [
        "y.shape"
      ],
      "metadata": {
        "colab": {
          "base_uri": "https://localhost:8080/"
        },
        "id": "jW1Za6w6LOEn",
        "outputId": "547d0bd1-ab72-42f7-90c2-9692349db7e9"
      },
      "execution_count": 25,
      "outputs": [
        {
          "output_type": "execute_result",
          "data": {
            "text/plain": [
              "(1000, 100)"
            ]
          },
          "metadata": {},
          "execution_count": 25
        }
      ]
    },
    {
      "cell_type": "code",
      "source": [
        "plt.hist((y[:,1]-2.5)/np.sqrt(2.5*3/4)*np.sqrt(1), density=True)\n"
      ],
      "metadata": {
        "colab": {
          "base_uri": "https://localhost:8080/",
          "height": 519
        },
        "id": "hzxiL2TrLQPi",
        "outputId": "6694738d-1dcd-40e1-bd2b-e49887f30122"
      },
      "execution_count": 31,
      "outputs": [
        {
          "output_type": "execute_result",
          "data": {
            "text/plain": [
              "(array([[0.00125388, 0.00120612, 0.00115835, 0.00123   , 0.00124194,\n",
              "         0.00111058, 0.00120612, 0.00126582, 0.00130165, 0.00096728],\n",
              "        [0.00124194, 0.00130165, 0.00117029, 0.00124194, 0.00123   ,\n",
              "         0.00115835, 0.00130165, 0.00120612, 0.00133747, 0.00075233],\n",
              "        [0.00115835, 0.00121806, 0.00128971, 0.00120612, 0.00119417,\n",
              "         0.00134942, 0.00112252, 0.00115835, 0.00126582, 0.00097922],\n",
              "        [0.00121806, 0.00119417, 0.00120612, 0.00121806, 0.00123   ,\n",
              "         0.00109864, 0.00125388, 0.00125388, 0.00117029, 0.00109864],\n",
              "        [0.00124194, 0.00126582, 0.00126582, 0.00119417, 0.00102699,\n",
              "         0.00106281, 0.00109864, 0.00128971, 0.00123   , 0.00126582]]),\n",
              " array([ -3.75588427,  79.98400507, 163.72389441, 247.46378375,\n",
              "        331.20367309, 414.94356243, 498.68345177, 582.42334111,\n",
              "        666.16323045, 749.90311979, 833.64300913]),\n",
              " <a list of 5 Lists of Patches objects>)"
            ]
          },
          "metadata": {},
          "execution_count": 31
        },
        {
          "output_type": "display_data",
          "data": {
            "text/plain": [
              "<Figure size 432x288 with 1 Axes>"
            ],
            "image/png": "[encoded data removed]"
          },
          "metadata": {
            "needs_background": "light"
          }
        }
      ]
    },
    {
      "cell_type": "code",
      "source": [
        ""
      ],
      "metadata": {
        "id": "0rt0miwYLzVi"
      },
      "execution_count": null,
      "outputs": []
    }
  ]
}