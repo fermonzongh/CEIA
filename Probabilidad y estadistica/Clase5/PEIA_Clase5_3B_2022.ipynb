{
  "nbformat": 4,
  "nbformat_minor": 0,
  "metadata": {
    "colab": {
      "name": "PEIA-Clase5-3B-2022.ipynb",
      "provenance": []
    },
    "kernelspec": {
      "name": "python3",
      "display_name": "Python 3"
    },
    "language_info": {
      "name": "python"
    }
  },
  "cells": [
    {
      "cell_type": "code",
      "execution_count": 2,
      "metadata": {
        "id": "m7N0KDhWwP3K",
        "colab": {
          "base_uri": "https://localhost:8080/"
        },
        "outputId": "0044a51b-8bd8-43ea-f829-ff5979366a4f"
      },
      "outputs": [
        {
          "output_type": "stream",
          "name": "stderr",
          "text": [
            "/usr/local/lib/python3.7/dist-packages/statsmodels/tools/_testing.py:19: FutureWarning: pandas.util.testing is deprecated. Use the functions in the public API at pandas.testing instead.\n",
            "  import pandas.util.testing as tm\n"
          ]
        }
      ],
      "source": [
        "import pandas as pd\n",
        "import matplotlib.pyplot as plt\n",
        "import numpy as np\n",
        "from statsmodels.distributions.empirical_distribution import ECDF\n",
        "import seaborn as sns\n",
        "from scipy import stats"
      ]
    },
    {
      "cell_type": "markdown",
      "source": [
        "# Estimación no paramétrica"
      ],
      "metadata": {
        "id": "ch-o0rn8wUJX"
      }
    },
    {
      "cell_type": "markdown",
      "source": [
        "Bajamos los datos de GitGub"
      ],
      "metadata": {
        "id": "7qG1WcgZuGcj"
      }
    },
    {
      "cell_type": "code",
      "source": [
        "! wget https://raw.githubusercontent.com/FIUBA-Posgrado-Inteligencia-Artificial/CEIA_ProbayEstadistica/master/Islander_data.csv"
      ],
      "metadata": {
        "colab": {
          "base_uri": "https://localhost:8080/"
        },
        "id": "jKM06uBg7uKe",
        "outputId": "0f1c6e8c-6635-4663-c67b-6926c3d18920"
      },
      "execution_count": 12,
      "outputs": [
        {
          "output_type": "stream",
          "name": "stdout",
          "text": [
            "--2022-08-02 18:01:20--  https://raw.githubusercontent.com/FIUBA-Posgrado-Inteligencia-Artificial/CEIA_ProbayEstadistica/master/Islander_data.csv\n",
            "Resolving raw.githubusercontent.com (raw.githubusercontent.com)... 185.199.108.133, 185.199.111.133, 185.199.110.133, ...\n",
            "Connecting to raw.githubusercontent.com (raw.githubusercontent.com)|185.199.108.133|:443... connected.\n",
            "HTTP request sent, awaiting response... 200 OK\n",
            "Length: 7415 (7.2K) [text/plain]\n",
            "Saving to: ‘Islander_data.csv’\n",
            "\n",
            "\rIslander_data.csv     0%[                    ]       0  --.-KB/s               \rIslander_data.csv   100%[===================>]   7.24K  --.-KB/s    in 0s      \n",
            "\n",
            "2022-08-02 18:01:20 (84.6 MB/s) - ‘Islander_data.csv’ saved [7415/7415]\n",
            "\n"
          ]
        }
      ]
    },
    {
      "cell_type": "markdown",
      "source": [
        "Cargamos el csv usando Pandas"
      ],
      "metadata": {
        "id": "QDYoSKaJuKod"
      }
    },
    {
      "cell_type": "code",
      "source": [
        "datos  = pd.read_csv('Islander_data.csv')\n",
        "datos.head()"
      ],
      "metadata": {
        "colab": {
          "base_uri": "https://localhost:8080/",
          "height": 206
        },
        "id": "GGUpgr-z6Brg",
        "outputId": "f68b2f03-1573-41d3-cd97-c697f5cb0a4c"
      },
      "execution_count": 13,
      "outputs": [
        {
          "output_type": "execute_result",
          "data": {
            "text/plain": [
              "  first_name last_name  age Happy_Sad_group  Dosage Drug  Mem_Score_Before  \\\n",
              "0    Bastian  Carrasco   25               H       1    A              63.5   \n",
              "1       Evan  Carrasco   52               S       1    A              41.6   \n",
              "2  Florencia  Carrasco   29               H       1    A              59.7   \n",
              "3      Holly  Carrasco   50               S       1    A              51.7   \n",
              "4     Justin  Carrasco   52               H       1    A              47.0   \n",
              "\n",
              "   Mem_Score_After  Diff  \n",
              "0             61.2  -2.3  \n",
              "1             40.7  -0.9  \n",
              "2             55.1  -4.6  \n",
              "3             51.2  -0.5  \n",
              "4             47.1   0.1  "
            ],
            "text/html": [
              "\n",
              "  <div id=\"df-5ed591cd-4dd8-4fa9-9ba7-e7c6e39433ae\">\n",
              "    <div class=\"colab-df-container\">\n",
              "      <div>\n",
              "<style scoped>\n",
              "    .dataframe tbody tr th:only-of-type {\n",
              "        vertical-align: middle;\n",
              "    }\n",
              "\n",
              "    .dataframe tbody tr th {\n",
              "        vertical-align: top;\n",
              "    }\n",
              "\n",
              "    .dataframe thead th {\n",
              "        text-align: right;\n",
              "    }\n",
              "</style>\n",
              "<table border=\"1\" class=\"dataframe\">\n",
              "  <thead>\n",
              "    <tr style=\"text-align: right;\">\n",
              "      <th></th>\n",
              "      <th>first_name</th>\n",
              "      <th>last_name</th>\n",
              "      <th>age</th>\n",
              "      <th>Happy_Sad_group</th>\n",
              "      <th>Dosage</th>\n",
              "      <th>Drug</th>\n",
              "      <th>Mem_Score_Before</th>\n",
              "      <th>Mem_Score_After</th>\n",
              "      <th>Diff</th>\n",
              "    </tr>\n",
              "  </thead>\n",
              "  <tbody>\n",
              "    <tr>\n",
              "      <th>0</th>\n",
              "      <td>Bastian</td>\n",
              "      <td>Carrasco</td>\n",
              "      <td>25</td>\n",
              "      <td>H</td>\n",
              "      <td>1</td>\n",
              "      <td>A</td>\n",
              "      <td>63.5</td>\n",
              "      <td>61.2</td>\n",
              "      <td>-2.3</td>\n",
              "    </tr>\n",
              "    <tr>\n",
              "      <th>1</th>\n",
              "      <td>Evan</td>\n",
              "      <td>Carrasco</td>\n",
              "      <td>52</td>\n",
              "      <td>S</td>\n",
              "      <td>1</td>\n",
              "      <td>A</td>\n",
              "      <td>41.6</td>\n",
              "      <td>40.7</td>\n",
              "      <td>-0.9</td>\n",
              "    </tr>\n",
              "    <tr>\n",
              "      <th>2</th>\n",
              "      <td>Florencia</td>\n",
              "      <td>Carrasco</td>\n",
              "      <td>29</td>\n",
              "      <td>H</td>\n",
              "      <td>1</td>\n",
              "      <td>A</td>\n",
              "      <td>59.7</td>\n",
              "      <td>55.1</td>\n",
              "      <td>-4.6</td>\n",
              "    </tr>\n",
              "    <tr>\n",
              "      <th>3</th>\n",
              "      <td>Holly</td>\n",
              "      <td>Carrasco</td>\n",
              "      <td>50</td>\n",
              "      <td>S</td>\n",
              "      <td>1</td>\n",
              "      <td>A</td>\n",
              "      <td>51.7</td>\n",
              "      <td>51.2</td>\n",
              "      <td>-0.5</td>\n",
              "    </tr>\n",
              "    <tr>\n",
              "      <th>4</th>\n",
              "      <td>Justin</td>\n",
              "      <td>Carrasco</td>\n",
              "      <td>52</td>\n",
              "      <td>H</td>\n",
              "      <td>1</td>\n",
              "      <td>A</td>\n",
              "      <td>47.0</td>\n",
              "      <td>47.1</td>\n",
              "      <td>0.1</td>\n",
              "    </tr>\n",
              "  </tbody>\n",
              "</table>\n",
              "</div>\n",
              "      <button class=\"colab-df-convert\" onclick=\"convertToInteractive('df-5ed591cd-4dd8-4fa9-9ba7-e7c6e39433ae')\"\n",
              "              title=\"Convert this dataframe to an interactive table.\"\n",
              "              style=\"display:none;\">\n",
              "        \n",
              "  <svg xmlns=\"http://www.w3.org/2000/svg\" height=\"24px\"viewBox=\"0 0 24 24\"\n",
              "       width=\"24px\">\n",
              "    <path d=\"M0 0h24v24H0V0z\" fill=\"none\"/>\n",
              "    <path d=\"M18.56 5.44l.94 2.06.94-2.06 2.06-.94-2.06-.94-.94-2.06-.94 2.06-2.06.94zm-11 1L8.5 8.5l.94-2.06 2.06-.94-2.06-.94L8.5 2.5l-.94 2.06-2.06.94zm10 10l.94 2.06.94-2.06 2.06-.94-2.06-.94-.94-2.06-.94 2.06-2.06.94z\"/><path d=\"M17.41 7.96l-1.37-1.37c-.4-.4-.92-.59-1.43-.59-.52 0-1.04.2-1.43.59L10.3 9.45l-7.72 7.72c-.78.78-.78 2.05 0 2.83L4 21.41c.39.39.9.59 1.41.59.51 0 1.02-.2 1.41-.59l7.78-7.78 2.81-2.81c.8-.78.8-2.07 0-2.86zM5.41 20L4 18.59l7.72-7.72 1.47 1.35L5.41 20z\"/>\n",
              "  </svg>\n",
              "      </button>\n",
              "      \n",
              "  <style>\n",
              "    .colab-df-container {\n",
              "      display:flex;\n",
              "      flex-wrap:wrap;\n",
              "      gap: 12px;\n",
              "    }\n",
              "\n",
              "    .colab-df-convert {\n",
              "      background-color: #E8F0FE;\n",
              "      border: none;\n",
              "      border-radius: 50%;\n",
              "      cursor: pointer;\n",
              "      display: none;\n",
              "      fill: #1967D2;\n",
              "      height: 32px;\n",
              "      padding: 0 0 0 0;\n",
              "      width: 32px;\n",
              "    }\n",
              "\n",
              "    .colab-df-convert:hover {\n",
              "      background-color: #E2EBFA;\n",
              "      box-shadow: 0px 1px 2px rgba(60, 64, 67, 0.3), 0px 1px 3px 1px rgba(60, 64, 67, 0.15);\n",
              "      fill: #174EA6;\n",
              "    }\n",
              "\n",
              "    [theme=dark] .colab-df-convert {\n",
              "      background-color: #3B4455;\n",
              "      fill: #D2E3FC;\n",
              "    }\n",
              "\n",
              "    [theme=dark] .colab-df-convert:hover {\n",
              "      background-color: #434B5C;\n",
              "      box-shadow: 0px 1px 3px 1px rgba(0, 0, 0, 0.15);\n",
              "      filter: drop-shadow(0px 1px 2px rgba(0, 0, 0, 0.3));\n",
              "      fill: #FFFFFF;\n",
              "    }\n",
              "  </style>\n",
              "\n",
              "      <script>\n",
              "        const buttonEl =\n",
              "          document.querySelector('#df-5ed591cd-4dd8-4fa9-9ba7-e7c6e39433ae button.colab-df-convert');\n",
              "        buttonEl.style.display =\n",
              "          google.colab.kernel.accessAllowed ? 'block' : 'none';\n",
              "\n",
              "        async function convertToInteractive(key) {\n",
              "          const element = document.querySelector('#df-5ed591cd-4dd8-4fa9-9ba7-e7c6e39433ae');\n",
              "          const dataTable =\n",
              "            await google.colab.kernel.invokeFunction('convertToInteractive',\n",
              "                                                     [key], {});\n",
              "          if (!dataTable) return;\n",
              "\n",
              "          const docLinkHtml = 'Like what you see? Visit the ' +\n",
              "            '<a target=\"_blank\" href=https://colab.research.google.com/notebooks/data_table.ipynb>data table notebook</a>'\n",
              "            + ' to learn more about interactive tables.';\n",
              "          element.innerHTML = '';\n",
              "          dataTable['output_type'] = 'display_data';\n",
              "          await google.colab.output.renderOutput(dataTable, element);\n",
              "          const docLink = document.createElement('div');\n",
              "          docLink.innerHTML = docLinkHtml;\n",
              "          element.appendChild(docLink);\n",
              "        }\n",
              "      </script>\n",
              "    </div>\n",
              "  </div>\n",
              "  "
            ]
          },
          "metadata": {},
          "execution_count": 13
        }
      ]
    },
    {
      "cell_type": "markdown",
      "source": [
        "Retenemos la columna de interés (Diff)"
      ],
      "metadata": {
        "id": "9xn-1D7EuNk8"
      }
    },
    {
      "cell_type": "code",
      "source": [
        "x = datos.Diff"
      ],
      "metadata": {
        "id": "8170-zrN6414"
      },
      "execution_count": null,
      "outputs": []
    },
    {
      "cell_type": "markdown",
      "source": [
        "Graficamos la func. de distribución empírica"
      ],
      "metadata": {
        "id": "RqozdCYiuRAh"
      }
    },
    {
      "cell_type": "code",
      "source": [
        "sns.ecdfplot(x)"
      ],
      "metadata": {
        "colab": {
          "base_uri": "https://localhost:8080/",
          "height": 300
        },
        "id": "LfNjDLac8kiM",
        "outputId": "9499fe91-653e-487e-fe5d-56d9b850824d"
      },
      "execution_count": null,
      "outputs": [
        {
          "output_type": "execute_result",
          "data": {
            "text/plain": [
              "<matplotlib.axes._subplots.AxesSubplot at 0x7f2ecf1df410>"
            ]
          },
          "metadata": {},
          "execution_count": 11
        },
        {
          "output_type": "display_data",
          "data": {
            "text/plain": [
              "<Figure size 432x288 with 1 Axes>"
            ],
            "image/png": "[encoded data removed]"
          },
          "metadata": {
            "needs_background": "light"
          }
        }
      ]
    },
    {
      "cell_type": "markdown",
      "source": [
        "Graficamos el histograma usando matplotlib"
      ],
      "metadata": {
        "id": "piUa7GYXuX1I"
      }
    },
    {
      "cell_type": "code",
      "source": [
        "plt.hist(x, bins=5)"
      ],
      "metadata": {
        "colab": {
          "base_uri": "https://localhost:8080/",
          "height": 319
        },
        "id": "CDAqgZmg8rvz",
        "outputId": "59f035f2-9546-4997-8d51-939bf363e8a0"
      },
      "execution_count": null,
      "outputs": [
        {
          "output_type": "execute_result",
          "data": {
            "text/plain": [
              "(array([  1.,  33., 135.,  25.,   4.]),\n",
              " array([-40.4 , -22.52,  -4.64,  13.24,  31.12,  49.  ]),\n",
              " <a list of 5 Patch objects>)"
            ]
          },
          "metadata": {},
          "execution_count": 15
        },
        {
          "output_type": "display_data",
          "data": {
            "text/plain": [
              "<Figure size 432x288 with 1 Axes>"
            ],
            "image/png": "[encoded data removed]"
          },
          "metadata": {
            "needs_background": "light"
          }
        }
      ]
    },
    {
      "cell_type": "markdown",
      "source": [
        "Repetimos usando Seaborn (mucho mas lindo!)"
      ],
      "metadata": {
        "id": "essY4qu8udzj"
      }
    },
    {
      "cell_type": "code",
      "source": [
        "sns.histplot(x)"
      ],
      "metadata": {
        "colab": {
          "base_uri": "https://localhost:8080/",
          "height": 296
        },
        "id": "XE33xs4EC9ol",
        "outputId": "158fcb4d-383c-477b-89ba-c36d91277266"
      },
      "execution_count": null,
      "outputs": [
        {
          "output_type": "execute_result",
          "data": {
            "text/plain": [
              "<matplotlib.axes._subplots.AxesSubplot at 0x7f2ecbfa16d0>"
            ]
          },
          "metadata": {},
          "execution_count": 16
        },
        {
          "output_type": "display_data",
          "data": {
            "text/plain": [
              "<Figure size 432x288 with 1 Axes>"
            ],
            "image/png": "[encoded data removed]"
          },
          "metadata": {
            "needs_background": "light"
          }
        }
      ]
    },
    {
      "cell_type": "markdown",
      "source": [
        "Graficamos la estimación de densidad por Kernel"
      ],
      "metadata": {
        "id": "fJKAeskLuh2t"
      }
    },
    {
      "cell_type": "code",
      "source": [
        "sns.kdeplot(x)"
      ],
      "metadata": {
        "colab": {
          "base_uri": "https://localhost:8080/",
          "height": 296
        },
        "id": "2c7TQYOtDjNf",
        "outputId": "6e3de1ef-c6ae-44ed-ff0f-7a47d290dfcd"
      },
      "execution_count": null,
      "outputs": [
        {
          "output_type": "execute_result",
          "data": {
            "text/plain": [
              "<matplotlib.axes._subplots.AxesSubplot at 0x7f2ecbee0910>"
            ]
          },
          "metadata": {},
          "execution_count": 17
        },
        {
          "output_type": "display_data",
          "data": {
            "text/plain": [
              "<Figure size 432x288 with 1 Axes>"
            ],
            "image/png": "[encoded data removed]"
          },
          "metadata": {
            "needs_background": "light"
          }
        }
      ]
    },
    {
      "cell_type": "code",
      "source": [
        "sns.histplot(x, kde=True)"
      ],
      "metadata": {
        "colab": {
          "base_uri": "https://localhost:8080/",
          "height": 296
        },
        "id": "MBngMIRAGWSV",
        "outputId": "c24ecdda-796d-443e-a11b-52d83f6895d5"
      },
      "execution_count": null,
      "outputs": [
        {
          "output_type": "execute_result",
          "data": {
            "text/plain": [
              "<matplotlib.axes._subplots.AxesSubplot at 0x7f2ecbec4dd0>"
            ]
          },
          "metadata": {},
          "execution_count": 18
        },
        {
          "output_type": "display_data",
          "data": {
            "text/plain": [
              "<Figure size 432x288 with 1 Axes>"
            ],
            "image/png": "[encoded data removed]"
          },
          "metadata": {
            "needs_background": "light"
          }
        }
      ]
    },
    {
      "cell_type": "markdown",
      "source": [
        "#Intervalos de confianza\n",
        "$X\\sim \\mathcal{N}(\\mu, 4)$"
      ],
      "metadata": {
        "id": "K_91NGh-VQmW"
      }
    },
    {
      "cell_type": "markdown",
      "source": [
        "Generamos las muestras"
      ],
      "metadata": {
        "id": "anfbsJD_wZ1o"
      }
    },
    {
      "cell_type": "code",
      "source": [
        "n=100\n",
        "x = np.random.normal(loc=3, scale=2, size=n)"
      ],
      "metadata": {
        "id": "Sg1UUQB_Ge7w"
      },
      "execution_count": null,
      "outputs": []
    },
    {
      "cell_type": "markdown",
      "source": [
        "Calculamos el cuantil necesario para calcular el IC"
      ],
      "metadata": {
        "id": "xfNP_Wmfwbfw"
      }
    },
    {
      "cell_type": "code",
      "source": [
        "q = stats.norm.ppf(0.995)\n",
        "q"
      ],
      "metadata": {
        "colab": {
          "base_uri": "https://localhost:8080/"
        },
        "id": "p4gDW5tjVpfL",
        "outputId": "479adcfb-e5fc-4d0b-c554-fe3fb82e49df"
      },
      "execution_count": null,
      "outputs": [
        {
          "output_type": "execute_result",
          "data": {
            "text/plain": [
              "2.5758293035489004"
            ]
          },
          "metadata": {},
          "execution_count": 49
        }
      ]
    },
    {
      "cell_type": "markdown",
      "source": [
        "Calculmos los límites del intervalo para la observación"
      ],
      "metadata": {
        "id": "ZuurBvHDwgrG"
      }
    },
    {
      "cell_type": "code",
      "source": [
        "a = x.mean() - q*2/np.sqrt(n)\n",
        "b= x.mean() + q*2/np.sqrt(n)"
      ],
      "metadata": {
        "id": "ZGruEYDGV2S7"
      },
      "execution_count": null,
      "outputs": []
    },
    {
      "cell_type": "code",
      "source": [
        "print('media: ', x.mean())\n",
        "print('a :',a,', b: ',b)"
      ],
      "metadata": {
        "colab": {
          "base_uri": "https://localhost:8080/"
        },
        "id": "CS8cKz34WCwY",
        "outputId": "8a3c3a16-fa60-4096-9cb9-5e6896a30713"
      },
      "execution_count": null,
      "outputs": [
        {
          "output_type": "stream",
          "name": "stdout",
          "text": [
            "media:  2.6713193336286\n",
            "a : 2.15615347291882 , b:  3.18648519433838\n"
          ]
        }
      ]
    },
    {
      "cell_type": "markdown",
      "source": [
        "Computamos la longitud del intervalo"
      ],
      "metadata": {
        "id": "Z7RX3pZiwmZS"
      }
    },
    {
      "cell_type": "code",
      "source": [
        "b-a"
      ],
      "metadata": {
        "colab": {
          "base_uri": "https://localhost:8080/"
        },
        "id": "LhwP2Ha-WJ5i",
        "outputId": "82bc5a4e-f87b-4ce4-9104-42e886f94563"
      },
      "execution_count": null,
      "outputs": [
        {
          "output_type": "execute_result",
          "data": {
            "text/plain": [
              "1.03033172141956"
            ]
          },
          "metadata": {},
          "execution_count": 52
        }
      ]
    },
    {
      "cell_type": "markdown",
      "source": [
        "$X\\sim \\mathcal{N}(\\mu, \\sigma^2)$ ambos desconocidos.\n",
        "Busco IC para $\\mu$"
      ],
      "metadata": {
        "id": "jSA7u2bBbo_3"
      }
    },
    {
      "cell_type": "code",
      "source": [
        "t = stats.t.ppf(0.995,df=n-1)\n",
        "t"
      ],
      "metadata": {
        "colab": {
          "base_uri": "https://localhost:8080/"
        },
        "id": "McDQtvREWb5O",
        "outputId": "1a1826ad-eb6d-41be-8910-7587ec3d8f41"
      },
      "execution_count": null,
      "outputs": [
        {
          "output_type": "execute_result",
          "data": {
            "text/plain": [
              "2.6264054563851857"
            ]
          },
          "metadata": {},
          "execution_count": 53
        }
      ]
    },
    {
      "cell_type": "code",
      "source": [
        "at = x.mean() - t*x.std()/np.sqrt(n)\n",
        "bt = x.mean() + t*x.std()/np.sqrt(n)"
      ],
      "metadata": {
        "id": "fycR_bTVcH6L"
      },
      "execution_count": null,
      "outputs": []
    },
    {
      "cell_type": "code",
      "source": [
        "print('media: ', x.mean(),  'desvio: ',x.std())\n",
        "print('a :',at,', b: ',bt)"
      ],
      "metadata": {
        "colab": {
          "base_uri": "https://localhost:8080/"
        },
        "id": "vRWRmVIecgT9",
        "outputId": "f58e2b2e-ea87-426f-df99-7ae15dbbbf6f"
      },
      "execution_count": null,
      "outputs": [
        {
          "output_type": "stream",
          "name": "stdout",
          "text": [
            "media:  2.6713193336286 desvio:  1.6422262380245285\n",
            "a : 2.2400041384119462 , b:  3.1026345288452535\n"
          ]
        }
      ]
    },
    {
      "cell_type": "code",
      "source": [
        "bt-at"
      ],
      "metadata": {
        "colab": {
          "base_uri": "https://localhost:8080/"
        },
        "id": "dY-WWkIlchud",
        "outputId": "a250d16c-ecf3-4e02-e560-fcd71ade0c3f"
      },
      "execution_count": null,
      "outputs": [
        {
          "output_type": "execute_result",
          "data": {
            "text/plain": [
              "0.8626303904333072"
            ]
          },
          "metadata": {},
          "execution_count": 56
        }
      ]
    },
    {
      "cell_type": "code",
      "source": [
        ""
      ],
      "metadata": {
        "id": "om9zz8c0cjA_"
      },
      "execution_count": null,
      "outputs": []
    }
  ]
}