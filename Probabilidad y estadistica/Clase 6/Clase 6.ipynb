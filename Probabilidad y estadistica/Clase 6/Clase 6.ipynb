{
 "cells": [
  {
   "cell_type": "markdown",
   "id": "bc57e9a2-742b-4991-8b32-01510f441c46",
   "metadata": {},
   "source": [
    "# Ejercicio 6 de Intervalos de confianza"
   ]
  },
  {
   "cell_type": "code",
   "execution_count": 1,
   "id": "ebd76851-022e-48ec-bbca-2d10f798dd09",
   "metadata": {},
   "outputs": [],
   "source": [
    "from scipy import stats as st\n",
    "import numpy as np\n",
    "import pandas as pd"
   ]
  },
  {
   "cell_type": "code",
   "execution_count": 5,
   "id": "9e116490-a1f9-4bea-b9e4-2f7a7a16b99e",
   "metadata": {},
   "outputs": [
    {
     "data": {
      "text/plain": [
       "1.96"
      ]
     },
     "execution_count": 5,
     "metadata": {},
     "output_type": "execute_result"
    }
   ],
   "source": [
    "round(st.norm.ppf(0.975), 4)"
   ]
  },
  {
   "cell_type": "markdown",
   "id": "f35f9374-7495-4c61-8ab9-d091df593549",
   "metadata": {},
   "source": [
    "# Ejercicio 7    "
   ]
  },
  {
   "cell_type": "code",
   "execution_count": 7,
   "id": "e07cff93-817b-4e40-bc61-f0533763fa47",
   "metadata": {},
   "outputs": [
    {
     "data": {
      "text/html": [
       "<div>\n",
       "<style scoped>\n",
       "    .dataframe tbody tr th:only-of-type {\n",
       "        vertical-align: middle;\n",
       "    }\n",
       "\n",
       "    .dataframe tbody tr th {\n",
       "        vertical-align: top;\n",
       "    }\n",
       "\n",
       "    .dataframe thead th {\n",
       "        text-align: right;\n",
       "    }\n",
       "</style>\n",
       "<table border=\"1\" class=\"dataframe\">\n",
       "  <thead>\n",
       "    <tr style=\"text-align: right;\">\n",
       "      <th></th>\n",
       "      <th>first_name</th>\n",
       "      <th>last_name</th>\n",
       "      <th>age</th>\n",
       "      <th>Happy_Sad_group</th>\n",
       "      <th>Dosage</th>\n",
       "      <th>Drug</th>\n",
       "      <th>Mem_Score_Before</th>\n",
       "      <th>Mem_Score_After</th>\n",
       "      <th>Diff</th>\n",
       "    </tr>\n",
       "  </thead>\n",
       "  <tbody>\n",
       "    <tr>\n",
       "      <th>0</th>\n",
       "      <td>Bastian</td>\n",
       "      <td>Carrasco</td>\n",
       "      <td>25</td>\n",
       "      <td>H</td>\n",
       "      <td>1</td>\n",
       "      <td>A</td>\n",
       "      <td>63.5</td>\n",
       "      <td>61.2</td>\n",
       "      <td>-2.3</td>\n",
       "    </tr>\n",
       "    <tr>\n",
       "      <th>1</th>\n",
       "      <td>Evan</td>\n",
       "      <td>Carrasco</td>\n",
       "      <td>52</td>\n",
       "      <td>S</td>\n",
       "      <td>1</td>\n",
       "      <td>A</td>\n",
       "      <td>41.6</td>\n",
       "      <td>40.7</td>\n",
       "      <td>-0.9</td>\n",
       "    </tr>\n",
       "    <tr>\n",
       "      <th>2</th>\n",
       "      <td>Florencia</td>\n",
       "      <td>Carrasco</td>\n",
       "      <td>29</td>\n",
       "      <td>H</td>\n",
       "      <td>1</td>\n",
       "      <td>A</td>\n",
       "      <td>59.7</td>\n",
       "      <td>55.1</td>\n",
       "      <td>-4.6</td>\n",
       "    </tr>\n",
       "    <tr>\n",
       "      <th>3</th>\n",
       "      <td>Holly</td>\n",
       "      <td>Carrasco</td>\n",
       "      <td>50</td>\n",
       "      <td>S</td>\n",
       "      <td>1</td>\n",
       "      <td>A</td>\n",
       "      <td>51.7</td>\n",
       "      <td>51.2</td>\n",
       "      <td>-0.5</td>\n",
       "    </tr>\n",
       "    <tr>\n",
       "      <th>4</th>\n",
       "      <td>Justin</td>\n",
       "      <td>Carrasco</td>\n",
       "      <td>52</td>\n",
       "      <td>H</td>\n",
       "      <td>1</td>\n",
       "      <td>A</td>\n",
       "      <td>47.0</td>\n",
       "      <td>47.1</td>\n",
       "      <td>0.1</td>\n",
       "    </tr>\n",
       "  </tbody>\n",
       "</table>\n",
       "</div>"
      ],
      "text/plain": [
       "  first_name last_name  age Happy_Sad_group  Dosage Drug  Mem_Score_Before  \\\n",
       "0    Bastian  Carrasco   25               H       1    A              63.5   \n",
       "1       Evan  Carrasco   52               S       1    A              41.6   \n",
       "2  Florencia  Carrasco   29               H       1    A              59.7   \n",
       "3      Holly  Carrasco   50               S       1    A              51.7   \n",
       "4     Justin  Carrasco   52               H       1    A              47.0   \n",
       "\n",
       "   Mem_Score_After  Diff  \n",
       "0             61.2  -2.3  \n",
       "1             40.7  -0.9  \n",
       "2             55.1  -4.6  \n",
       "3             51.2  -0.5  \n",
       "4             47.1   0.1  "
      ]
     },
     "execution_count": 7,
     "metadata": {},
     "output_type": "execute_result"
    }
   ],
   "source": [
    "data = pd.read_csv(r'C:\\Users\\Diego\\Documents\\UBA\\Islander_data.csv')\n",
    "data.head()"
   ]
  },
  {
   "cell_type": "code",
   "execution_count": 11,
   "id": "1937e69c-1c61-4a41-967b-979f2a338441",
   "metadata": {},
   "outputs": [
    {
     "data": {
      "text/plain": [
       "[58.3964, 63.4481]"
      ]
     },
     "execution_count": 11,
     "metadata": {},
     "output_type": "execute_result"
    }
   ],
   "source": [
    "x = data['Mem_Score_After']\n",
    "prom = x.mean()\n",
    "sd = x.std()\n",
    "\n",
    "IC = [round(prom-st.norm.ppf(0.975)*sd/np.sqrt(len(x)),4), round(prom+st.norm.ppf(0.975)*sd/np.sqrt(len(x)), 4)]\n",
    "IC"
   ]
  },
  {
   "cell_type": "markdown",
   "id": "dbf7baf5-d4e9-49cb-968f-bfd90becc798",
   "metadata": {},
   "source": [
    "# Test de hipótesis\n",
    "## Ejercicio 2"
   ]
  },
  {
   "cell_type": "markdown",
   "id": "e8465475-a01f-4396-a525-695cbddc7aba",
   "metadata": {},
   "source": [
    "### Suponemos tita = 3 y n=20"
   ]
  },
  {
   "cell_type": "code",
   "execution_count": 15,
   "id": "2c15d47f-976d-4f24-87ff-bdb4ba21912c",
   "metadata": {},
   "outputs": [
    {
     "data": {
      "text/plain": [
       "array([2.8822, 1.4889, 1.4164, 0.8859, 1.122 , 2.6166, 0.4291, 0.6749,\n",
       "       1.3365, 0.4681, 0.5905, 2.6809, 2.6934, 2.9358, 1.2552, 2.4628,\n",
       "       1.6368, 0.4433, 2.1639, 2.6714])"
      ]
     },
     "execution_count": 15,
     "metadata": {},
     "output_type": "execute_result"
    }
   ],
   "source": [
    "x = st.uniform.rvs(0,3, size=20)\n",
    "np.round(x, 4)"
   ]
  },
  {
   "cell_type": "code",
   "execution_count": 16,
   "id": "739e9890-082d-4783-ae99-f45ec4e0be3e",
   "metadata": {},
   "outputs": [
    {
     "data": {
      "text/plain": [
       "1.1743"
      ]
     },
     "execution_count": 16,
     "metadata": {},
     "output_type": "execute_result"
    }
   ],
   "source": [
    "round(max(x)/2.5, 4)"
   ]
  },
  {
   "cell_type": "markdown",
   "id": "93d7e844-fc6e-4944-990e-bb5963c35ec3",
   "metadata": {},
   "source": [
    "### Calculamos k(0.05)"
   ]
  },
  {
   "cell_type": "code",
   "execution_count": 17,
   "id": "a0e03dbf-9b42-4aa7-a560-07a153748eb7",
   "metadata": {},
   "outputs": [
    {
     "data": {
      "text/plain": [
       "0.9974"
      ]
     },
     "execution_count": 17,
     "metadata": {},
     "output_type": "execute_result"
    }
   ],
   "source": [
    "round(0.95**(1/20), 4)"
   ]
  },
  {
   "cell_type": "code",
   "execution_count": 19,
   "id": "e85fcdf7-7446-411f-af84-eaa216f31330",
   "metadata": {},
   "outputs": [
    {
     "data": {
      "text/plain": [
       "2.3263"
      ]
     },
     "execution_count": 19,
     "metadata": {},
     "output_type": "execute_result"
    }
   ],
   "source": [
    "round(st.norm.ppf(0.99), 4)"
   ]
  }
 ],
 "metadata": {
  "kernelspec": {
   "display_name": "Python 3 (ipykernel)",
   "language": "python",
   "name": "python3"
  },
  "language_info": {
   "codemirror_mode": {
    "name": "ipython",
    "version": 3
   },
   "file_extension": ".py",
   "mimetype": "text/x-python",
   "name": "python",
   "nbconvert_exporter": "python",
   "pygments_lexer": "ipython3",
   "version": "3.9.12"
  }
 },
 "nbformat": 4,
 "nbformat_minor": 5
}
