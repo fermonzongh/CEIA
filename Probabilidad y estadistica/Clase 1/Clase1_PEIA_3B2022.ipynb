{
  "nbformat": 4,
  "nbformat_minor": 0,
  "metadata": {
    "colab": {
      "name": "Clase1 - PEIA - 3B2022.ipynb",
      "provenance": []
    },
    "kernelspec": {
      "name": "python3",
      "display_name": "Python 3"
    },
    "language_info": {
      "name": "python"
    }
  },
  "cells": [
    {
      "cell_type": "code",
      "execution_count": 1,
      "metadata": {
        "id": "yxGgshg04_-q"
      },
      "outputs": [],
      "source": [
        "from scipy import stats\n",
        "from numpy import sqrt"
      ]
    },
    {
      "cell_type": "markdown",
      "source": [
        "P(X>1)"
      ],
      "metadata": {
        "id": "2Moh8AIL5oFO"
      }
    },
    {
      "cell_type": "code",
      "source": [
        "1- stats.norm.cdf(1)"
      ],
      "metadata": {
        "colab": {
          "base_uri": "https://localhost:8080/"
        },
        "id": "6-j2mKxE5NIw",
        "outputId": "2b73aacf-f486-4382-c698-65c3c4f469f0"
      },
      "execution_count": 2,
      "outputs": [
        {
          "output_type": "execute_result",
          "data": {
            "text/plain": [
              "0.15865525393145707"
            ]
          },
          "metadata": {},
          "execution_count": 2
        }
      ]
    },
    {
      "cell_type": "markdown",
      "source": [
        "P(X<-1)"
      ],
      "metadata": {
        "id": "RyqtM4y26FVb"
      }
    },
    {
      "cell_type": "code",
      "source": [
        "stats.norm.cdf(-1)"
      ],
      "metadata": {
        "colab": {
          "base_uri": "https://localhost:8080/"
        },
        "id": "5tI0QiL252b7",
        "outputId": "3ecfa5bf-bb2f-4876-e923-1c909c71260f"
      },
      "execution_count": 3,
      "outputs": [
        {
          "output_type": "execute_result",
          "data": {
            "text/plain": [
              "0.15865525393145707"
            ]
          },
          "metadata": {},
          "execution_count": 3
        }
      ]
    },
    {
      "cell_type": "code",
      "source": [
        "stats.norm.cdf(2)-stats.norm.cdf(-2)"
      ],
      "metadata": {
        "colab": {
          "base_uri": "https://localhost:8080/"
        },
        "id": "AlohG1Lh6LLP",
        "outputId": "d92cbe83-df2f-4e86-cab4-d026f9dae5b5"
      },
      "execution_count": 4,
      "outputs": [
        {
          "output_type": "execute_result",
          "data": {
            "text/plain": [
              "0.9544997361036416"
            ]
          },
          "metadata": {},
          "execution_count": 4
        }
      ]
    },
    {
      "cell_type": "markdown",
      "source": [
        "Hallar el cuantil 0.9"
      ],
      "metadata": {
        "id": "oKimORtB7VGb"
      }
    },
    {
      "cell_type": "code",
      "source": [
        "stats.norm.ppf(0.9)"
      ],
      "metadata": {
        "colab": {
          "base_uri": "https://localhost:8080/"
        },
        "id": "h9ALCCBW67tH",
        "outputId": "c352faf1-8255-416c-f91d-52c3a3c44ed4"
      },
      "execution_count": 5,
      "outputs": [
        {
          "output_type": "execute_result",
          "data": {
            "text/plain": [
              "1.2815515655446004"
            ]
          },
          "metadata": {},
          "execution_count": 5
        }
      ]
    },
    {
      "cell_type": "markdown",
      "source": [
        "P(V<5) , V ~ N(2,13)"
      ],
      "metadata": {
        "id": "c3Iog4O68jtz"
      }
    },
    {
      "cell_type": "code",
      "source": [
        "stats.norm.cdf(5, loc=2, scale=sqrt(13))"
      ],
      "metadata": {
        "colab": {
          "base_uri": "https://localhost:8080/"
        },
        "id": "I1hQwqx77baR",
        "outputId": "c066f3cc-ccb4-490a-f6f7-792e192e6c00"
      },
      "execution_count": 6,
      "outputs": [
        {
          "output_type": "execute_result",
          "data": {
            "text/plain": [
              "0.7973097217705288"
            ]
          },
          "metadata": {},
          "execution_count": 6
        }
      ]
    },
    {
      "cell_type": "code",
      "source": [
        "stats.norm.cdf((5-2)/sqrt(13))"
      ],
      "metadata": {
        "colab": {
          "base_uri": "https://localhost:8080/"
        },
        "id": "Cef48YC48463",
        "outputId": "da9c07ee-5f82-46cd-dce8-b66e202fffff"
      },
      "execution_count": 7,
      "outputs": [
        {
          "output_type": "execute_result",
          "data": {
            "text/plain": [
              "0.7973097217705288"
            ]
          },
          "metadata": {},
          "execution_count": 7
        }
      ]
    },
    {
      "cell_type": "markdown",
      "source": [
        "Ejercicio 2\n",
        "P(X>2)"
      ],
      "metadata": {
        "id": "HQhL00fdBNOo"
      }
    },
    {
      "cell_type": "code",
      "source": [
        "1-stats.expon.cdf(2, scale=5)"
      ],
      "metadata": {
        "colab": {
          "base_uri": "https://localhost:8080/"
        },
        "id": "hAPu0ZWK9I1_",
        "outputId": "2cc2e90e-2964-40d6-ecc2-4fcb254c99d9"
      },
      "execution_count": 8,
      "outputs": [
        {
          "output_type": "execute_result",
          "data": {
            "text/plain": [
              "0.6703200460356393"
            ]
          },
          "metadata": {},
          "execution_count": 8
        }
      ]
    },
    {
      "cell_type": "markdown",
      "source": [
        "Ejercicio 3\n",
        "P(X<2, Y<-1)"
      ],
      "metadata": {
        "id": "XxWIcYtnGRFi"
      }
    },
    {
      "cell_type": "code",
      "source": [
        "stats.multivariate_normal.cdf([2,-1],mean=[0,0], cov=[[1, -0.8],[-0.8, 1]])"
      ],
      "metadata": {
        "colab": {
          "base_uri": "https://localhost:8080/"
        },
        "id": "Iexr6N3wGPu4",
        "outputId": "46ea000d-2308-4d4e-8060-cb997ada5941"
      },
      "execution_count": 9,
      "outputs": [
        {
          "output_type": "execute_result",
          "data": {
            "text/plain": [
              "0.13779566999920148"
            ]
          },
          "metadata": {},
          "execution_count": 9
        }
      ]
    },
    {
      "cell_type": "markdown",
      "source": [
        "Ejercicio 4.\n",
        "Simular el dado a partir de U(0,1)"
      ],
      "metadata": {
        "id": "H9NL0ir5Kp-N"
      }
    },
    {
      "cell_type": "code",
      "source": [
        "import numpy as np"
      ],
      "metadata": {
        "id": "l0-0mPSSL9B2"
      },
      "execution_count": 12,
      "outputs": []
    },
    {
      "cell_type": "code",
      "source": [
        "n=1000\n",
        "u = stats.uniform.rvs(size=n)\n",
        "x = np.ceil(u*6)"
      ],
      "metadata": {
        "id": "nSZ_hSibBgi4"
      },
      "execution_count": 28,
      "outputs": []
    },
    {
      "cell_type": "code",
      "source": [
        "for i in range(1,7):\n",
        "  print('Proba estimada de'+str(i)+': ', np.sum(x==i)/n)"
      ],
      "metadata": {
        "colab": {
          "base_uri": "https://localhost:8080/"
        },
        "id": "0e1NcIgjK1fJ",
        "outputId": "f226051c-f5a1-409b-d05a-332641c5cae0"
      },
      "execution_count": 18,
      "outputs": [
        {
          "output_type": "stream",
          "name": "stdout",
          "text": [
            "Proba estimada de1:  0.1669\n",
            "Proba estimada de2:  0.1649\n",
            "Proba estimada de3:  0.1664\n",
            "Proba estimada de4:  0.1687\n",
            "Proba estimada de5:  0.1654\n",
            "Proba estimada de6:  0.1677\n"
          ]
        }
      ]
    },
    {
      "cell_type": "code",
      "source": [
        "1/6"
      ],
      "metadata": {
        "colab": {
          "base_uri": "https://localhost:8080/"
        },
        "id": "2iZTmPgPMI5f",
        "outputId": "3000babe-468a-4b74-fe98-1a9b51432f58"
      },
      "execution_count": 16,
      "outputs": [
        {
          "output_type": "execute_result",
          "data": {
            "text/plain": [
              "0.16666666666666666"
            ]
          },
          "metadata": {},
          "execution_count": 16
        }
      ]
    },
    {
      "cell_type": "markdown",
      "source": [
        "EJERCICIO 6\n",
        "Simular Exp(1/5) a partir de U(0,1)"
      ],
      "metadata": {
        "id": "aF1ioJ1rNWq0"
      }
    },
    {
      "cell_type": "code",
      "source": [
        "y = -5*np.log(1-u)"
      ],
      "metadata": {
        "id": "cLo-l3daMYJv"
      },
      "execution_count": 29,
      "outputs": []
    },
    {
      "cell_type": "code",
      "source": [
        "import matplotlib.pyplot as plt\n",
        "import seaborn as sns"
      ],
      "metadata": {
        "id": "SryLz5mvNgqw"
      },
      "execution_count": 23,
      "outputs": []
    },
    {
      "cell_type": "code",
      "source": [
        "sns.ecdfplot(y)\n",
        "t = np.linspace(0,50,n)\n",
        "plt.plot(t, stats.expon.cdf(t, scale=5))"
      ],
      "metadata": {
        "colab": {
          "base_uri": "https://localhost:8080/",
          "height": 286
        },
        "id": "lJCLyONqNu3d",
        "outputId": "9c872618-06b0-4872-9df5-7a1fe916bd3d"
      },
      "execution_count": 30,
      "outputs": [
        {
          "output_type": "execute_result",
          "data": {
            "text/plain": [
              "[<matplotlib.lines.Line2D at 0x7fc82e4eeed0>]"
            ]
          },
          "metadata": {},
          "execution_count": 30
        },
        {
          "output_type": "display_data",
          "data": {
            "text/plain": [
              "<Figure size 432x288 with 1 Axes>"
            ],
            "image/png": "[encoded data removed]"
          },
          "metadata": {
            "needs_background": "light"
          }
        }
      ]
    },
    {
      "cell_type": "code",
      "source": [
        ""
      ],
      "metadata": {
        "id": "9q5RfIRnN9m6"
      },
      "execution_count": null,
      "outputs": []
    }
  ]
}