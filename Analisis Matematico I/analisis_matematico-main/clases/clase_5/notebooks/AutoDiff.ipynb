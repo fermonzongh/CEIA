{
  "nbformat": 4,
  "nbformat_minor": 0,
  "metadata": {
    "colab": {
      "name": "AMIA - AutoDiff",
      "provenance": [],
      "collapsed_sections": []
    },
    "kernelspec": {
      "name": "python3",
      "display_name": "Python 3"
    },
    "language_info": {
      "name": "python"
    }
  },
  "cells": [
    {
      "cell_type": "markdown",
      "source": [
        "# Diferenciación Automática\n",
        "\n",
        "En este colab vamos a explorar una implementación de un grafo de cómputo y algunas operaciones soportadas (podríamos agregarle todas las que querramos), permitiendo por diferenciación automática el cálculo de las derivadas de una función arbitrariamente compleja respecto de sus entradas."
      ],
      "metadata": {
        "id": "d8rV3eEJW0WP"
      }
    },
    {
      "cell_type": "markdown",
      "source": [
        "## Implementación\n",
        "\n",
        "La implementación está basada en 3 ideas principales:\n",
        "\n",
        "1. Existe un grafo de cómputo *explícito*, utilizando la librería *networkx*, que se construye de manera que sea un grafo dirigido acíclico ([\"DAG\"](https://en.wikipedia.org/wiki/Directed_acyclic_graph)).\n",
        "  * Cada operación es un nodo\n",
        "  * Dos operaciones $u, v$ tienen una arista direccional $u \\to v$ que las conecta si y sólo si $u$ es una variable de entrada en el cálculo de $v$.\n",
        "2. Existe una clase base que define el comportamiento requerido para que todas las operaciones puedan \"encadenarse\" correctamente en el grafo. \n",
        "  * Las operaciones soportadas entonces sólo requieren definir las funciones de evaluación dada entradas y derivadas dada últimas entradas guardadas. \n",
        "  * Las variables de entrada (\"Placeholders\") son una operación más, solo que para ellas no está definida la derivada.\n",
        "3. Como el grafo es un DAG tiene definido (por lo menos) un [ordenamiento topológico](https://en.wikipedia.org/wiki/Topological_sorting) que da una secuencia de nodos que *respeta el orden de cálculo*.\n",
        "  * Para evaluar se utiliza un orden topológico directo (y el último nodo evaluado es la salida de la función)\n",
        "  * Para calcular las derivadas se utiliza un orden topológico *reverso* (al revés)"
      ],
      "metadata": {
        "id": "kYnQRe4DdeFD"
      }
    },
    {
      "cell_type": "code",
      "execution_count": null,
      "metadata": {
        "id": "6JAWdzdlBDQ_"
      },
      "outputs": [],
      "source": [
        "import networkx as nx\n",
        "import numpy as np\n",
        "import matplotlib.pyplot as plt"
      ]
    },
    {
      "cell_type": "markdown",
      "source": [
        "### Grafo de Cómputo\n",
        "\n",
        "* Tiene dos métodos para agregar elementos al grafo:\n",
        "  * `register_input` para agregar una variable de entrada\n",
        "  * `register_op` para agregar una operación\n",
        "* El método `forward` le asigna valores a las entradas y pone a andar el grafo para producir la salida.\n",
        "* El método `backwards` utiliza los valores guardados del último llamado a `forward` para calcular las derivadas de todos los elementos respecto de sus entradas (incluyendo las variables de entrada)\n",
        "* El método `plot` grafica el grafo de cómputo, utilizando los nombres de las variables o, si `use_op_names==True` los nombres de las operaciones en su lugar.\n"
      ],
      "metadata": {
        "id": "OT3jUeqBHY6i"
      }
    },
    {
      "cell_type": "code",
      "source": [
        "# computing graph class\n",
        "class ComputeGraph:\n",
        "  def __init__(self):\n",
        "    self.g = nx.DiGraph()\n",
        "    self.inputs = set()\n",
        "\n",
        "  def _is_name_unused(self, name):\n",
        "    if name in self.g:\n",
        "      raise KeyError(f\"Key {name} already exists\")\n",
        "\n",
        "  def register_input(self, name):\n",
        "    self._is_name_unused(name)\n",
        "\n",
        "    self.inputs.add(name)\n",
        "\n",
        "    # aesthetic, doesn't do anything\n",
        "    self.g.add_node(name, op=Placeholder(name))\n",
        "  \n",
        "  def register_op(self, name, op_class, input_names):\n",
        "    # if some input name does not belong in the graph\n",
        "    if not set(input_names) <= set(self.g):\n",
        "      raise KeyError(f\"Missing keys in the graph: {set(input_names)-set(self.g)}\")\n",
        "    \n",
        "    # if name already exists, raise error\n",
        "    self._is_name_unused(name)\n",
        "\n",
        "    # add the op node\n",
        "    self.g.add_node(name, op=op_class(input_names))\n",
        "\n",
        "    # add edges coming from all inputs\n",
        "    for input_name in input_names:\n",
        "      self.g.add_edge(input_name, name)\n",
        "\n",
        "  def __call__(self, input_values):\n",
        "    return self.forward(input_values)\n",
        "\n",
        "  def forward(self, input_values):\n",
        "    if set(input_values) != set(self.inputs):\n",
        "      raise KeyError(f\"Missing input values: {set(self.inputs)-set(input_values)}\")\n",
        "\n",
        "    # travel the graph in topological order\n",
        "    var_values = dict(input_values)\n",
        "    for node_name in nx.topological_sort(self.g):\n",
        "      ret_value = self.g.nodes[node_name]['op'].forward(var_values)\n",
        "      var_values[node_name] = ret_value\n",
        "\n",
        "    # last ret_value is the last function's result, so return that\n",
        "    return ret_value\n",
        "\n",
        "  def backwards(self):\n",
        "    input_dfs = dict()\n",
        "    # travel the graph in reversed topological order\n",
        "    for node_name in reversed(list(nx.topological_sort(self.g))):\n",
        "      # sum of all derivatives of following ops w.r.t. this node\n",
        "      # may be an empty list => its sum is 0\n",
        "      successors = self.g.adj[node_name]\n",
        "      if len(successors) == 0:\n",
        "        dF = 1 # so that chain rule is not destroyed\n",
        "      else:\n",
        "        dF = sum([self.g.nodes[successor]['op'].df(node_name) for successor in successors])\n",
        "\n",
        "      # if it's an input, add it to return dict\n",
        "      # else just keep computing derivatives\n",
        "      if node_name in self.inputs:\n",
        "        input_dfs[node_name] = dF\n",
        "      else: \n",
        "        self.g.nodes[node_name]['op'].backwards(dF)\n",
        "\n",
        "    return input_dfs\n",
        "  \n",
        "  def plot(self, use_op_names=False):\n",
        "    node_labels = {node_name:type(self.g.nodes[node_name]['op']).__name__ \n",
        "                   for node_name in self.g.nodes} if use_op_names else None\n",
        "    nx.draw_networkx(self.g, labels=node_labels)"
      ],
      "metadata": {
        "id": "QOl87l5IDGAj"
      },
      "execution_count": null,
      "outputs": []
    },
    {
      "cell_type": "markdown",
      "source": [
        "### Operaciones\n",
        "\n",
        "Tenemos tres tipos de operaciones:\n",
        "* `BaseOperation` define la clase base con los métodos a overridear. Su existencia podría ser cuestionada, ya que no aporta más que un molde común a las dos próximas.\n",
        "* `Placeholder` define la clase para las variables independientes, utilizando una especie de función *identidad* para enmascarar que en realidad representa una variable y no una operación.\n",
        "* `Operation` define la clase base para todas las operaciones, dando wrappers generales para `forward`, `backwards` y `df` de manera que todas las clases que hereden sólo necesiten definir \"las cuentas\" vía `_forward` y `_backwards`"
      ],
      "metadata": {
        "id": "wx6ePb6UOL-7"
      }
    },
    {
      "cell_type": "code",
      "source": [
        "# base class\n",
        "class BaseOperation:\n",
        "  def forward(self, inputs):\n",
        "   self.__wrong_method(self, 'forward')\n",
        "\n",
        "  def backwards(self, dF):\n",
        "    self.__wrong_method(self, 'backwards')\n",
        "\n",
        "  def df(self, input_name):\n",
        "    self.__wrong_method(self, 'df')\n",
        "\n",
        "  def __wrong_method(self, mtd): \n",
        "    raise RuntimeError(f\"You shouldn't be calling {mtd} on a {type(self).__name__}\")\n",
        "\n",
        "class Placeholder(BaseOperation):\n",
        "  def __init__(self, name):\n",
        "    self.name = name\n",
        "\n",
        "  def forward(self, inputs):\n",
        "    # just return the value\n",
        "    return inputs[self.name]\n",
        "\n",
        "class Operation(BaseOperation):\n",
        "  required_inputs = set() # this should be overriden\n",
        "\n",
        "  def __init__(self, name_to_input):\n",
        "    \"\"\"\n",
        "    Params:\n",
        "    name_to_input: Dict with mappings of op_names to expected_names, e.g. \"Name1\":\"base\".\n",
        "                   This parameter's keys should be all op_names that act as input, and \n",
        "                   its values should be all the names the formula comprises.\n",
        "    \"\"\"\n",
        "    assert set(name_to_input.values())==self.required_inputs, \"Required inputs are missing\"\n",
        "    self.name_to_input = name_to_input\n",
        "    self.last_inputs = {}\n",
        "    self.last_output = None\n",
        "\n",
        "    # this one should be completed with <required_input> -> float when backwards() is called\n",
        "    self.dfs = dict()\n",
        "  \n",
        "  def _forward(self, inputs):\n",
        "    raise NotImplementedError(\"This should have been overriden\")\n",
        "\n",
        "  def forward(self, inputs):\n",
        "    # translate inputs, restricted to the ones we care about\n",
        "    inputs = {self.name_to_input[k]:v for k,v in inputs.items() if k in self.name_to_input}\n",
        "    # calculate output\n",
        "    self.last_inputs = inputs\n",
        "    self.last_output = self._forward(inputs)\n",
        "    return self.last_output\n",
        "\n",
        "  def _backwards(self):\n",
        "    # calculate derivatives of this op w.r.t. its inputs\n",
        "    raise NotImplementedError(\"This should have been overriden\")\n",
        "\n",
        "  def backwards(self, dF):\n",
        "    # chain rule\n",
        "    self.dfs = {k: dF * v for k,v in self._backwards().items()}\n",
        "\n",
        "  def df(self, input_name):\n",
        "    own_input = self.name_to_input[input_name]\n",
        "    return self.dfs[own_input]"
      ],
      "metadata": {
        "id": "ZPm6MkGQBPre"
      },
      "execution_count": null,
      "outputs": []
    },
    {
      "cell_type": "markdown",
      "source": [
        "### Operaciones definidas\n",
        "\n",
        "Como todo lo demás ya está hecho antes (en la clase base `Operation`), para cada nueva operación solo debemos definir:\n",
        "\n",
        "* Un *set* de `required_inputs` que dictan los argumentos que espera la función\n",
        "* `_forward` que recibe un diccionario cuyas claves son los inputs antes determinados y devuelve el valor de la función evaluada en esos valores de entrada\n",
        "* `_backwards` que en base a las últimas entradas registradas calcula la derivada de su salida respecto de cada entrada, y devuelve un diccionario de la forma *nombre\\_entrada -> valor\\_derivada*"
      ],
      "metadata": {
        "id": "p1EtzDHCOOpc"
      }
    },
    {
      "cell_type": "code",
      "source": [
        "class Square(Operation):\n",
        "  BASE_NAME = 'base'\n",
        "  required_inputs = {BASE_NAME}\n",
        "\n",
        "  def __init__(self, name_to_input):\n",
        "    super().__init__(name_to_input)\n",
        "\n",
        "  def _forward(self, inputs):\n",
        "    return inputs[self.BASE_NAME]**2\n",
        "  \n",
        "  def _backwards(self):\n",
        "    base_df = self.last_inputs[self.BASE_NAME] * 2\n",
        "    return {self.BASE_NAME: base_df}"
      ],
      "metadata": {
        "id": "6u_xp0gQ5HUe"
      },
      "execution_count": null,
      "outputs": []
    },
    {
      "cell_type": "code",
      "source": [
        "class Sum(Operation):\n",
        "  SUM1_NAME = 'summand1'\n",
        "  SUM2_NAME = 'summand2'\n",
        "  required_inputs= {SUM1_NAME, SUM2_NAME}\n",
        "\n",
        "  def __init__(self, name_to_input):\n",
        "    super().__init__(name_to_input)\n",
        "\n",
        "  def _forward(self, inputs):\n",
        "    return inputs[self.SUM1_NAME] + inputs[self.SUM2_NAME]\n",
        "  \n",
        "  def _backwards(self):\n",
        "    return {self.SUM1_NAME: 1, self.SUM2_NAME: 1}"
      ],
      "metadata": {
        "id": "C-5L3MNZ777Y"
      },
      "execution_count": null,
      "outputs": []
    },
    {
      "cell_type": "code",
      "source": [
        "class Product(Operation):\n",
        "  PROD1_NAME = 'factor1'\n",
        "  PROD2_NAME = 'factor2'\n",
        "  required_inputs= {PROD1_NAME, PROD2_NAME}\n",
        "\n",
        "  def __init__(self, name_to_input):\n",
        "    super().__init__(name_to_input)\n",
        "\n",
        "  def _forward(self, inputs):\n",
        "    return inputs[self.PROD1_NAME] * inputs[self.PROD2_NAME]\n",
        "  \n",
        "  def _backwards(self):\n",
        "    return {self.PROD1_NAME: self.last_inputs[self.PROD2_NAME], \n",
        "            self.PROD2_NAME: self.last_inputs[self.PROD1_NAME]}"
      ],
      "metadata": {
        "id": "raYQYVik8PqC"
      },
      "execution_count": null,
      "outputs": []
    },
    {
      "cell_type": "markdown",
      "source": [
        "## Código de prueba\n",
        "\n",
        "En este ejemplo simple se plantea $b = x^2 \\cdot y$ y luego se evalúa y calcula derivadas para $x=5, y=2$."
      ],
      "metadata": {
        "id": "zIlkkBKVOSj3"
      }
    },
    {
      "cell_type": "code",
      "source": [
        "cg = ComputeGraph()\n",
        "cg.register_input(\"x\")\n",
        "cg.register_input(\"y\")\n",
        "cg.register_op(\"a\",Square,{\"x\":\"base\"})\n",
        "cg.register_op(\"b\",Product,{\"a\":\"factor1\", \"y\":\"factor2\"})\n",
        "cg.plot()"
      ],
      "metadata": {
        "id": "lUdkb-8B_G6S",
        "colab": {
          "base_uri": "https://localhost:8080/",
          "height": 248
        },
        "outputId": "82ae3035-bf39-4980-84b0-bc1ce52e0d19"
      },
      "execution_count": null,
      "outputs": [
        {
          "output_type": "display_data",
          "data": {
            "text/plain": [
              "<Figure size 432x288 with 1 Axes>"
            ],
            "image/png": "[encoded data removed]"
          },
          "metadata": {}
        }
      ]
    },
    {
      "cell_type": "code",
      "source": [
        "cg.plot(use_op_names=True)"
      ],
      "metadata": {
        "colab": {
          "base_uri": "https://localhost:8080/",
          "height": 248
        },
        "id": "-BUpniq5AcH-",
        "outputId": "109d8d61-eb8c-4563-aa69-eda15b3dee3a"
      },
      "execution_count": null,
      "outputs": [
        {
          "output_type": "display_data",
          "data": {
            "text/plain": [
              "<Figure size 432x288 with 1 Axes>"
            ],
            "image/png": "[encoded data removed]"
          },
          "metadata": {}
        }
      ]
    },
    {
      "cell_type": "code",
      "source": [
        "cg({'x':5,'y':2})"
      ],
      "metadata": {
        "colab": {
          "base_uri": "https://localhost:8080/"
        },
        "id": "IAkLYgE8AvoD",
        "outputId": "1f97aab2-1ff6-4295-cac5-ecc739fb328d"
      },
      "execution_count": null,
      "outputs": [
        {
          "output_type": "execute_result",
          "data": {
            "text/plain": [
              "50"
            ]
          },
          "metadata": {},
          "execution_count": 9
        }
      ]
    },
    {
      "cell_type": "code",
      "source": [
        "cg.backwards()"
      ],
      "metadata": {
        "colab": {
          "base_uri": "https://localhost:8080/"
        },
        "id": "r7Gx6s7FB5WA",
        "outputId": "4976b456-f472-4ac0-cdbe-94af2ce97f8e"
      },
      "execution_count": null,
      "outputs": [
        {
          "output_type": "execute_result",
          "data": {
            "text/plain": [
              "{'x': 20, 'y': 25}"
            ]
          },
          "metadata": {},
          "execution_count": 10
        }
      ]
    },
    {
      "cell_type": "markdown",
      "source": [
        "En un segundo ejemplo se plantea\n",
        "$$\n",
        "f(x,y,z) = (x^2+y^2)^2 + (z+xy)^2\n",
        "$$\n",
        "\n",
        "y se quieren conocer tanto el valor de $f$ como de $f'$ para $x=3,y=2,z=0.5$"
      ],
      "metadata": {
        "id": "1sxZ1_12XRlg"
      }
    },
    {
      "cell_type": "code",
      "source": [
        "cg2 = ComputeGraph()\n",
        "cg2.register_input(\"x\")\n",
        "cg2.register_input(\"y\")\n",
        "cg2.register_input(\"z\")\n",
        "cg2.register_op(\"x2\",Square,{\"x\":\"base\"})\n",
        "cg2.register_op(\"y2\",Square,{\"y\":\"base\"})\n",
        "cg2.register_op(\"x2+y2\",Sum,{\"x2\":\"summand1\", \"y2\":\"summand2\"})\n",
        "cg2.register_op(\"(x2+y2)2\", Square, {\"x2+y2\":\"base\"})\n",
        "cg2.register_op(\"xy\",Product, {\"x\":\"factor1\",\"y\":\"factor2\"})\n",
        "cg2.register_op(\"z+xy\",Sum, {\"z\":\"summand1\", \"xy\":\"summand2\"})\n",
        "cg2.register_op(\"z+xy ^2\", Square, {\"z+xy\":\"base\"})\n",
        "cg2.register_op(\"f\", Sum, {\"(x2+y2)2\": \"summand1\", \"z+xy ^2\": \"summand2\"})\n",
        "\n",
        "cg2({'x':3, 'y':2, 'z':0.5})"
      ],
      "metadata": {
        "colab": {
          "base_uri": "https://localhost:8080/"
        },
        "id": "5iMEKeiZXkOx",
        "outputId": "ffd9e1f9-ba3d-4f20-b4c5-8229cf6309db"
      },
      "execution_count": null,
      "outputs": [
        {
          "output_type": "execute_result",
          "data": {
            "text/plain": [
              "211.25"
            ]
          },
          "metadata": {},
          "execution_count": 11
        }
      ]
    },
    {
      "cell_type": "code",
      "source": [
        "cg2.backwards()"
      ],
      "metadata": {
        "colab": {
          "base_uri": "https://localhost:8080/"
        },
        "id": "-9OJv3O5ZNAR",
        "outputId": "e776fc2e-1c5c-4b8d-81e4-ca3301e868fc"
      },
      "execution_count": null,
      "outputs": [
        {
          "output_type": "execute_result",
          "data": {
            "text/plain": [
              "{'x': 182.0, 'y': 143.0, 'z': 13.0}"
            ]
          },
          "metadata": {},
          "execution_count": 12
        }
      ]
    },
    {
      "cell_type": "markdown",
      "source": [
        "Estos valores se corresponden con los cálculos en wolfram alpha de:\n",
        "\n",
        "* [derivadas parciales de $f$ respecto de x,y,z](https://www.wolframalpha.com/input?i=differentiate+%28x%5E2%2By%5E2%29%5E2%2B%28z%2Bxy%29%5E2)\n",
        "* [$\\frac{\\partial f}{\\partial x}(3,2,0.5)$](https://www.wolframalpha.com/input?i=4+x%5E3+%2B+6+x+y%5E2+%2B+2+y+z+at+x%3D3%2Cy%3D2%2Cz%3D0.5)\n",
        "* [$\\frac{\\partial f}{\\partial y}(3,2,0.5)$](https://www.wolframalpha.com/input?i=6+x%5E2+y+%2B+4+y%5E3+%2B+2+x+z++at+x%3D3%2Cy%3D2%2Cz%3D0.5)\n",
        "* [$\\frac{\\partial f}{\\partial z}(3,2,0.5)$](https://www.wolframalpha.com/input?i=2+%28x+y+%2B+z%29+at+x%3D3%2Cy%3D2%2Cz%3D0.5)\n",
        "\n",
        "De donde podemos comprobar cómo, si bien la computadora no sabe realizar cálculo simbólico, como *cada parte* sabe contribuir lo suyo, por regla de la cadena podemos reconstruir las derivadas de la salida respecto de cada entrada."
      ],
      "metadata": {
        "id": "E2BIZX6hblGz"
      }
    },
    {
      "cell_type": "code",
      "source": [
        "cg2.plot()"
      ],
      "metadata": {
        "colab": {
          "base_uri": "https://localhost:8080/",
          "height": 248
        },
        "id": "n0r0NRn3ZOmb",
        "outputId": "533035f9-4cee-4b87-a8ed-e22a20b5cb62"
      },
      "execution_count": null,
      "outputs": [
        {
          "output_type": "display_data",
          "data": {
            "text/plain": [
              "<Figure size 432x288 with 1 Axes>"
            ],
            "image/png": "[encoded data removed]"
          },
          "metadata": {}
        }
      ]
    }
  ]
}