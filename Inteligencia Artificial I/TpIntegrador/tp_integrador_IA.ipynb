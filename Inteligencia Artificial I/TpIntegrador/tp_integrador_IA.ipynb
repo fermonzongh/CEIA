{
  "cells": [
    {
      "cell_type": "code",
      "execution_count": 47,
      "id": "aaf94e0a",
      "metadata": {
        "id": "aaf94e0a"
      },
      "outputs": [],
      "source": [
        "import numpy as np\n",
        "import matplotlib.pyplot as plt\n",
        "import pandas as pd\n",
        "import seaborn as sns\n",
        "\n",
        "# Entrenamiento de modelos de prueba\n",
        "from sklearn.linear_model import LinearRegression\n",
        "\n",
        "# Evaluación de modelos de prueba\n",
        "from sklearn.metrics import roc_auc_score\n",
        "from sklearn.metrics import mean_squared_error\n",
        "\n",
        "# Partición de train-test set\n",
        "from sklearn.model_selection import train_test_split\n",
        "\n",
        "# Crear datasets\n",
        "from sklearn.datasets import make_regression"
      ]
    },
    {
      "cell_type": "markdown",
      "id": "z4CnDndvBlc6",
      "metadata": {
        "id": "z4CnDndvBlc6"
      },
      "source": [
        "Vamos a crear un dataset sintetico utilizando las librerias de [Sklearn Datasets](https://scikit-learn.org/stable/modules/generated/sklearn.datasets.make_regression.html), en particular nos interesa crear un problema de regresion\n",
        "lineal al que podemos variarle sus parametros"
      ]
    },
    {
      "cell_type": "code",
      "execution_count": 48,
      "id": "65843123",
      "metadata": {
        "colab": {
          "base_uri": "https://localhost:8080/"
        },
        "id": "65843123",
        "outputId": "2995df9b-0610-4d7b-dc6a-d745f9dfedc8"
      },
      "outputs": [
        {
          "output_type": "execute_result",
          "data": {
            "text/plain": [
              "(1000, 2)"
            ]
          },
          "metadata": {},
          "execution_count": 48
        }
      ],
      "source": [
        "# Creamos un dataset de prueba\n",
        "X, y = make_regression(n_samples = 1000,\n",
        "                       n_features = 1,\n",
        "                       noise = 2,\n",
        "                       n_informative = 1,\n",
        "                       random_state = 42)\n",
        "\n",
        "new_data = np.append(X,y.reshape(-1,1),axis=1)\n",
        "new_data.shape"
      ]
    },
    {
      "cell_type": "code",
      "execution_count": 49,
      "id": "a52eSwfzCslx",
      "metadata": {
        "colab": {
          "base_uri": "https://localhost:8080/",
          "height": 206
        },
        "id": "a52eSwfzCslx",
        "outputId": "bd844a1d-c9c7-46da-c86b-dc2c18fbd722"
      },
      "outputs": [
        {
          "output_type": "execute_result",
          "data": {
            "text/plain": [
              "   feature_1     target\n",
              "0  -1.758739 -30.118736\n",
              "1   1.031845  14.526197\n",
              "2  -0.487606 -10.119305\n",
              "3   0.186454   1.700188\n",
              "4   0.725767  12.345314"
            ],
            "text/html": [
              "\n",
              "  <div id=\"df-11779d89-2a7a-4133-81bb-9302cbdaace6\">\n",
              "    <div class=\"colab-df-container\">\n",
              "      <div>\n",
              "<style scoped>\n",
              "    .dataframe tbody tr th:only-of-type {\n",
              "        vertical-align: middle;\n",
              "    }\n",
              "\n",
              "    .dataframe tbody tr th {\n",
              "        vertical-align: top;\n",
              "    }\n",
              "\n",
              "    .dataframe thead th {\n",
              "        text-align: right;\n",
              "    }\n",
              "</style>\n",
              "<table border=\"1\" class=\"dataframe\">\n",
              "  <thead>\n",
              "    <tr style=\"text-align: right;\">\n",
              "      <th></th>\n",
              "      <th>feature_1</th>\n",
              "      <th>target</th>\n",
              "    </tr>\n",
              "  </thead>\n",
              "  <tbody>\n",
              "    <tr>\n",
              "      <th>0</th>\n",
              "      <td>-1.758739</td>\n",
              "      <td>-30.118736</td>\n",
              "    </tr>\n",
              "    <tr>\n",
              "      <th>1</th>\n",
              "      <td>1.031845</td>\n",
              "      <td>14.526197</td>\n",
              "    </tr>\n",
              "    <tr>\n",
              "      <th>2</th>\n",
              "      <td>-0.487606</td>\n",
              "      <td>-10.119305</td>\n",
              "    </tr>\n",
              "    <tr>\n",
              "      <th>3</th>\n",
              "      <td>0.186454</td>\n",
              "      <td>1.700188</td>\n",
              "    </tr>\n",
              "    <tr>\n",
              "      <th>4</th>\n",
              "      <td>0.725767</td>\n",
              "      <td>12.345314</td>\n",
              "    </tr>\n",
              "  </tbody>\n",
              "</table>\n",
              "</div>\n",
              "      <button class=\"colab-df-convert\" onclick=\"convertToInteractive('df-11779d89-2a7a-4133-81bb-9302cbdaace6')\"\n",
              "              title=\"Convert this dataframe to an interactive table.\"\n",
              "              style=\"display:none;\">\n",
              "        \n",
              "  <svg xmlns=\"http://www.w3.org/2000/svg\" height=\"24px\"viewBox=\"0 0 24 24\"\n",
              "       width=\"24px\">\n",
              "    <path d=\"M0 0h24v24H0V0z\" fill=\"none\"/>\n",
              "    <path d=\"M18.56 5.44l.94 2.06.94-2.06 2.06-.94-2.06-.94-.94-2.06-.94 2.06-2.06.94zm-11 1L8.5 8.5l.94-2.06 2.06-.94-2.06-.94L8.5 2.5l-.94 2.06-2.06.94zm10 10l.94 2.06.94-2.06 2.06-.94-2.06-.94-.94-2.06-.94 2.06-2.06.94z\"/><path d=\"M17.41 7.96l-1.37-1.37c-.4-.4-.92-.59-1.43-.59-.52 0-1.04.2-1.43.59L10.3 9.45l-7.72 7.72c-.78.78-.78 2.05 0 2.83L4 21.41c.39.39.9.59 1.41.59.51 0 1.02-.2 1.41-.59l7.78-7.78 2.81-2.81c.8-.78.8-2.07 0-2.86zM5.41 20L4 18.59l7.72-7.72 1.47 1.35L5.41 20z\"/>\n",
              "  </svg>\n",
              "      </button>\n",
              "      \n",
              "  <style>\n",
              "    .colab-df-container {\n",
              "      display:flex;\n",
              "      flex-wrap:wrap;\n",
              "      gap: 12px;\n",
              "    }\n",
              "\n",
              "    .colab-df-convert {\n",
              "      background-color: #E8F0FE;\n",
              "      border: none;\n",
              "      border-radius: 50%;\n",
              "      cursor: pointer;\n",
              "      display: none;\n",
              "      fill: #1967D2;\n",
              "      height: 32px;\n",
              "      padding: 0 0 0 0;\n",
              "      width: 32px;\n",
              "    }\n",
              "\n",
              "    .colab-df-convert:hover {\n",
              "      background-color: #E2EBFA;\n",
              "      box-shadow: 0px 1px 2px rgba(60, 64, 67, 0.3), 0px 1px 3px 1px rgba(60, 64, 67, 0.15);\n",
              "      fill: #174EA6;\n",
              "    }\n",
              "\n",
              "    [theme=dark] .colab-df-convert {\n",
              "      background-color: #3B4455;\n",
              "      fill: #D2E3FC;\n",
              "    }\n",
              "\n",
              "    [theme=dark] .colab-df-convert:hover {\n",
              "      background-color: #434B5C;\n",
              "      box-shadow: 0px 1px 3px 1px rgba(0, 0, 0, 0.15);\n",
              "      filter: drop-shadow(0px 1px 2px rgba(0, 0, 0, 0.3));\n",
              "      fill: #FFFFFF;\n",
              "    }\n",
              "  </style>\n",
              "\n",
              "      <script>\n",
              "        const buttonEl =\n",
              "          document.querySelector('#df-11779d89-2a7a-4133-81bb-9302cbdaace6 button.colab-df-convert');\n",
              "        buttonEl.style.display =\n",
              "          google.colab.kernel.accessAllowed ? 'block' : 'none';\n",
              "\n",
              "        async function convertToInteractive(key) {\n",
              "          const element = document.querySelector('#df-11779d89-2a7a-4133-81bb-9302cbdaace6');\n",
              "          const dataTable =\n",
              "            await google.colab.kernel.invokeFunction('convertToInteractive',\n",
              "                                                     [key], {});\n",
              "          if (!dataTable) return;\n",
              "\n",
              "          const docLinkHtml = 'Like what you see? Visit the ' +\n",
              "            '<a target=\"_blank\" href=https://colab.research.google.com/notebooks/data_table.ipynb>data table notebook</a>'\n",
              "            + ' to learn more about interactive tables.';\n",
              "          element.innerHTML = '';\n",
              "          dataTable['output_type'] = 'display_data';\n",
              "          await google.colab.output.renderOutput(dataTable, element);\n",
              "          const docLink = document.createElement('div');\n",
              "          docLink.innerHTML = docLinkHtml;\n",
              "          element.appendChild(docLink);\n",
              "        }\n",
              "      </script>\n",
              "    </div>\n",
              "  </div>\n",
              "  "
            ]
          },
          "metadata": {},
          "execution_count": 49
        }
      ],
      "source": [
        "df = pd.DataFrame(new_data)\n",
        "\n",
        "new_col = []\n",
        "i = 0\n",
        "for col in df.columns:\n",
        "    if i ==  len(df.columns) - 1:\n",
        "        new_col.append(\"target\")\n",
        "    else :\n",
        "        new_col.append(\"feature_\" + str(i+1))\n",
        "        \n",
        "    i += 1\n",
        "    \n",
        "df.columns = new_col\n",
        "\n",
        "df.head()"
      ]
    },
    {
      "cell_type": "code",
      "execution_count": 50,
      "id": "CBb_QmSZCPFZ",
      "metadata": {
        "colab": {
          "base_uri": "https://localhost:8080/",
          "height": 374
        },
        "id": "CBb_QmSZCPFZ",
        "outputId": "f5ace64e-b07e-49ba-8c5e-aff41740c267"
      },
      "outputs": [
        {
          "output_type": "display_data",
          "data": {
            "text/plain": [
              "<Figure size 1584x432 with 2 Axes>"
            ],
            "image/png": "[encoded data removed]"
          },
          "metadata": {
            "needs_background": "light"
          }
        }
      ],
      "source": [
        "fig,axes = plt.subplots(2,figsize=(22,6))\n",
        "axes[0].scatter(X,y)\n",
        "sns.histplot(X, ax=axes[1]);"
      ]
    },
    {
      "cell_type": "markdown",
      "id": "zTvu6e3KhEKG",
      "metadata": {
        "id": "zTvu6e3KhEKG"
      },
      "source": [
        "## Funciones auxiliares para generar datos anómalos"
      ]
    },
    {
      "cell_type": "code",
      "execution_count": 51,
      "id": "_LqDjS8chDkY",
      "metadata": {
        "id": "_LqDjS8chDkY"
      },
      "outputs": [],
      "source": [
        "def generate_nulls(df: pd.DataFrame,\n",
        "                   cols: list = None,\n",
        "                   percentage: float = 0.05) -> pd.DataFrame:\n",
        "  \"\"\"Con esta función vamos a poder generar nulos en ciertas columnas de nuestro\n",
        "  dataset.\n",
        "  \"\"\"  \n",
        "  cols = df.columns.tolist() if cols is None else cols\n",
        "  seeds = np.random.randint(100, size = len(cols))\n",
        "  \n",
        "  nsamples = np.math.floor(len(df) * percentage)\n",
        "\n",
        "  result = df.copy(deep = True)\n",
        "  for i,col_name in enumerate(cols):\n",
        "      np.random.seed(seeds[i])\n",
        "      \n",
        "      idx_to_remove = result[col_name].sample(n = nsamples).index\n",
        "      result[col_name].iloc[idx_to_remove] = np.nan if result[col_name].dtype in [int,float] else None\n",
        "  \n",
        "  return result\n",
        "\n",
        "def generate_outliers(df: pd.DataFrame,\n",
        "                     cols: list = None,\n",
        "                     extreme_outlier: bool = False,\n",
        "                     percentage: float = 0.02) -> pd.DataFrame:\n",
        "  \"\"\"Con esta función vamos a poder generar outliers en ciertas columnas de nuestro\n",
        "  dataset. Si le damos True a _extreme_outlier_ va a generar outliers con mucho\n",
        "  peso en la regresión\n",
        "  \"\"\"  \n",
        "  seeds = np.random.randint(100, size = len(df))\n",
        "  \n",
        "  nsamples = np.math.floor(len(df) * percentage)\n",
        "  idx_to_change = df.sample(n = nsamples).index\n",
        "\n",
        "  cols = df.columns.tolist() if cols is None else cols\n",
        "\n",
        "  result = df.copy(deep = True)\n",
        "  \n",
        "  for i,col_name in enumerate(cols):\n",
        "    np.random.seed(seeds[i])\n",
        "\n",
        "    if extreme_outlier:\n",
        "      iqr = result[col_name].quantile(0.75) - result[col_name].quantile(0.25)\n",
        "      max_val = 3*iqr\n",
        "      outlier_sign = [1 if np.random.random() < 0.5 else -1 for _ in range(nsamples)]\n",
        "      outliers = np.multiply(outlier_sign, np.random.uniform(low = iqr,\n",
        "                                                          high = max_val,\n",
        "                                                          size = nsamples))\n",
        "      \n",
        "      result[col_name].loc[idx_to_change] = outliers\n",
        "    else:\n",
        "      samples = result[col_name].loc[idx_to_change].values\n",
        "      np.random.shuffle(samples)\n",
        "      result[col_name].iloc[idx_to_change] = samples\n",
        "  return result"
      ]
    },
    {
      "cell_type": "code",
      "execution_count": 52,
      "id": "mmnwCbF1gugP",
      "metadata": {
        "id": "mmnwCbF1gugP"
      },
      "outputs": [],
      "source": [
        "df_outlier = generate_outliers(df,['target'], percentage = 0.01, extreme_outlier = True)"
      ]
    },
    {
      "cell_type": "code",
      "execution_count": 53,
      "id": "hhG41UImwtKg",
      "metadata": {
        "colab": {
          "base_uri": "https://localhost:8080/",
          "height": 297
        },
        "id": "hhG41UImwtKg",
        "outputId": "7de6106e-b503-489c-d855-738c00f0eb66"
      },
      "outputs": [
        {
          "output_type": "execute_result",
          "data": {
            "text/plain": [
              "<matplotlib.axes._subplots.AxesSubplot at 0x7f5ae0c7e450>"
            ]
          },
          "metadata": {},
          "execution_count": 53
        },
        {
          "output_type": "display_data",
          "data": {
            "text/plain": [
              "<Figure size 432x288 with 1 Axes>"
            ],
            "image/png": "[encoded data removed]"
          },
          "metadata": {
            "needs_background": "light"
          }
        }
      ],
      "source": [
        "sns.scatterplot(data = pd.concat([df.assign(dataset = 'set1'),\n",
        "                                 df_outlier.assign(dataset = 'set2')]),\n",
        "                x = 'feature_1',\n",
        "                y = 'target',\n",
        "                hue = 'dataset')"
      ]
    },
    {
      "cell_type": "code",
      "execution_count": 54,
      "id": "29PGZV_B4o79",
      "metadata": {
        "id": "29PGZV_B4o79"
      },
      "outputs": [],
      "source": [
        "columnas_a_modificar = ['feature_1'] \n",
        "df_missing = generate_nulls(df,columnas_a_modificar, percentage = 0.01)"
      ]
    },
    {
      "cell_type": "code",
      "execution_count": 55,
      "id": "1JOMgSjy43uf",
      "metadata": {
        "colab": {
          "base_uri": "https://localhost:8080/"
        },
        "id": "1JOMgSjy43uf",
        "outputId": "785b3dc0-452a-4349-a09d-0c017cca3d11"
      },
      "outputs": [
        {
          "output_type": "execute_result",
          "data": {
            "text/plain": [
              "feature_1    10\n",
              "target        0\n",
              "dtype: int64"
            ]
          },
          "metadata": {},
          "execution_count": 55
        }
      ],
      "source": [
        "df_missing.isna().sum()"
      ]
    },
    {
      "cell_type": "markdown",
      "id": "1ac07426",
      "metadata": {
        "id": "1ac07426"
      },
      "source": [
        "# Primera Parte"
      ]
    },
    {
      "cell_type": "markdown",
      "id": "N_XkGtvw7J-i",
      "metadata": {
        "id": "N_XkGtvw7J-i"
      },
      "source": [
        "## Ejercicio 1\n",
        "\n",
        "Crear una función que separe los datos en train-validation-test 70-20-10\n",
        "\n",
        "\n",
        "Hints: \n",
        "\n",
        "* Usar Indexing y slicing\n",
        "* Usar np.random.[...]"
      ]
    },
    {
      "cell_type": "code",
      "execution_count": 56,
      "id": "yIOYdDHz7Jkp",
      "metadata": {
        "id": "yIOYdDHz7Jkp"
      },
      "outputs": [],
      "source": [
        "def split(df: pd.DataFrame, train_size: float,random_state: int):\n",
        "    df=df.sample(frac=1,random_state=random_state).reset_index()\n",
        "    size=len(df)\n",
        "    #print(size)\n",
        "    train_len=int(size*train_size)\n",
        "    #print(train_len)\n",
        "    train_df=df.iloc[:train_len]\n",
        "    val_len=train_len+int((1-train_size)*0.67*size)\n",
        "    #print(val_len)\n",
        "    val_df=df.iloc[train_len:val_len]\n",
        "    test_df=df.iloc[val_len:size]\n",
        "    X_train=train_df.iloc[:,0]\n",
        "    Y_train=train_df.iloc[:,1]\n",
        "    X_val=val_df.iloc[:,0]\n",
        "    Y_val=val_df.iloc[:,1]\n",
        "    X_test=test_df.iloc[:,0]\n",
        "    Y_test=test_df.iloc[:,1]\n",
        "    return X_train, X_val, X_test, Y_train, Y_val, Y_test"
      ]
    },
    {
      "cell_type": "code",
      "execution_count": 57,
      "id": "62552dfa",
      "metadata": {
        "id": "62552dfa"
      },
      "outputs": [],
      "source": [
        "from sklearn.model_selection import train_test_split\n",
        "\n",
        "X_train,X_test, Y_train, Y_test = train_test_split(df.feature_1,\n",
        "                                                   df.target,\n",
        "                                                   test_size = 0.3)\n",
        "\n",
        "X_val, X_test, Y_val, Y_test = train_test_split(X_test,\n",
        "                                               Y_test,\n",
        "                                               train_size = 0.66)"
      ]
    },
    {
      "cell_type": "markdown",
      "id": "c51994ab",
      "metadata": {
        "id": "c51994ab"
      },
      "source": [
        "## Ejercicio 2\n",
        "\n",
        "Utilizando la funcion `generate_nulls`. Insertar en la columna de features un 5% de valores nulos. Con esto, generar una función que les permita rellenar estos valores con la mediana, y otro con la media.\n",
        "\n",
        "Compare los __scores__ obtenidos en las regresiones cuando tiene el dataset completo, y con los dos métodos de imputación. ¿Cambian mucho?\n",
        "\n",
        "RTA: Los scores van disminuyendo a medida que generamos mas nulls en el dataset, con 10% de nulls ya el score llega a 0.87"
      ]
    },
    {
      "cell_type": "markdown",
      "source": [
        "Regresion"
      ],
      "metadata": {
        "id": "GsazORdiUXho"
      },
      "id": "GsazORdiUXho"
    },
    {
      "cell_type": "code",
      "source": [
        "from sklearn import linear_model\n",
        "lineal = linear_model.LinearRegression()"
      ],
      "metadata": {
        "id": "Nc0Fcm8ZUWvv"
      },
      "id": "Nc0Fcm8ZUWvv",
      "execution_count": 58,
      "outputs": []
    },
    {
      "cell_type": "code",
      "execution_count": 59,
      "id": "b8c44b25",
      "metadata": {
        "colab": {
          "base_uri": "https://localhost:8080/"
        },
        "id": "b8c44b25",
        "outputId": "bc52f68b-f45c-4fd3-c511-53e0ba8663cb"
      },
      "outputs": [
        {
          "output_type": "execute_result",
          "data": {
            "text/plain": [
              "(0.0193320558223255, 0.025300612234888248)"
            ]
          },
          "metadata": {},
          "execution_count": 59
        }
      ],
      "source": [
        "median=df[\"feature_1\"].median()\n",
        "mean=df.feature_1.mean()\n",
        "mean, median"
      ]
    },
    {
      "cell_type": "code",
      "execution_count": 60,
      "id": "de6919a5",
      "metadata": {
        "id": "de6919a5"
      },
      "outputs": [],
      "source": [
        "def mean_imputer(df: pd.DataFrame, cols: list) -> pd.DataFrame:\n",
        "    result=df.copy(deep = True)\n",
        "    for col in cols:\n",
        "      #print(col)\n",
        "      mean=df[col].mean()\n",
        "      result[col]=result[col].fillna(mean)\n",
        "    return result\n",
        "    "
      ]
    },
    {
      "cell_type": "code",
      "execution_count": 61,
      "id": "Uq2ZEyio66-p",
      "metadata": {
        "id": "Uq2ZEyio66-p"
      },
      "outputs": [],
      "source": [
        "def median_imputer(df: pd.DataFrame, cols: list) -> pd.DataFrame:\n",
        "    result=df.copy(deep = True)\n",
        "    for col in cols:\n",
        "      #print(col)\n",
        "      median=result[col].median()\n",
        "      result[col]=result[col].fillna(median)\n",
        "    return result\n",
        "    "
      ]
    },
    {
      "cell_type": "code",
      "source": [
        "def media_mediana_con_nulls(df: pd.DataFrame, columnas_a_modificar: list, porcentaje: float):\n",
        "  df_nulls=generate_nulls(df,columnas_a_modificar,porcentaje)\n",
        "  df_mean=mean_imputer(df_nulls,columnas_a_modificar)\n",
        "  df_median=median_imputer(df_nulls,columnas_a_modificar)\n",
        "  return df_mean.feature_1.mean(), df_median.feature_1.median()"
      ],
      "metadata": {
        "id": "ZiKXpcqz8be_"
      },
      "id": "ZiKXpcqz8be_",
      "execution_count": 62,
      "outputs": []
    },
    {
      "cell_type": "code",
      "source": [
        "def lineal_fit(df: pd.DataFrame, columnas_a_modificar: list):\n",
        "  lineal.fit(np.asarray(df.iloc[:,0]).reshape(-1,1),np.asarray(df.iloc[:,1]).reshape(-1,1))\n",
        "  return lineal.score(np.asarray(df.iloc[:,0]).reshape(-1,1),np.asarray(df.iloc[:,1]).reshape(-1,1))"
      ],
      "metadata": {
        "id": "PeO4HouqUwa8"
      },
      "id": "PeO4HouqUwa8",
      "execution_count": 114,
      "outputs": []
    },
    {
      "cell_type": "code",
      "source": [
        "df.head()"
      ],
      "metadata": {
        "colab": {
          "base_uri": "https://localhost:8080/",
          "height": 206
        },
        "id": "5-nQfcMbIym9",
        "outputId": "59ffd46e-2b4b-4901-906a-ec08187d3c81"
      },
      "id": "5-nQfcMbIym9",
      "execution_count": 64,
      "outputs": [
        {
          "output_type": "execute_result",
          "data": {
            "text/plain": [
              "   feature_1     target\n",
              "0  -1.758739 -30.118736\n",
              "1   1.031845  14.526197\n",
              "2  -0.487606 -10.119305\n",
              "3   0.186454   1.700188\n",
              "4   0.725767  12.345314"
            ],
            "text/html": [
              "\n",
              "  <div id=\"df-23a1aaa6-5fad-4636-a162-faf11bf35cf2\">\n",
              "    <div class=\"colab-df-container\">\n",
              "      <div>\n",
              "<style scoped>\n",
              "    .dataframe tbody tr th:only-of-type {\n",
              "        vertical-align: middle;\n",
              "    }\n",
              "\n",
              "    .dataframe tbody tr th {\n",
              "        vertical-align: top;\n",
              "    }\n",
              "\n",
              "    .dataframe thead th {\n",
              "        text-align: right;\n",
              "    }\n",
              "</style>\n",
              "<table border=\"1\" class=\"dataframe\">\n",
              "  <thead>\n",
              "    <tr style=\"text-align: right;\">\n",
              "      <th></th>\n",
              "      <th>feature_1</th>\n",
              "      <th>target</th>\n",
              "    </tr>\n",
              "  </thead>\n",
              "  <tbody>\n",
              "    <tr>\n",
              "      <th>0</th>\n",
              "      <td>-1.758739</td>\n",
              "      <td>-30.118736</td>\n",
              "    </tr>\n",
              "    <tr>\n",
              "      <th>1</th>\n",
              "      <td>1.031845</td>\n",
              "      <td>14.526197</td>\n",
              "    </tr>\n",
              "    <tr>\n",
              "      <th>2</th>\n",
              "      <td>-0.487606</td>\n",
              "      <td>-10.119305</td>\n",
              "    </tr>\n",
              "    <tr>\n",
              "      <th>3</th>\n",
              "      <td>0.186454</td>\n",
              "      <td>1.700188</td>\n",
              "    </tr>\n",
              "    <tr>\n",
              "      <th>4</th>\n",
              "      <td>0.725767</td>\n",
              "      <td>12.345314</td>\n",
              "    </tr>\n",
              "  </tbody>\n",
              "</table>\n",
              "</div>\n",
              "      <button class=\"colab-df-convert\" onclick=\"convertToInteractive('df-23a1aaa6-5fad-4636-a162-faf11bf35cf2')\"\n",
              "              title=\"Convert this dataframe to an interactive table.\"\n",
              "              style=\"display:none;\">\n",
              "        \n",
              "  <svg xmlns=\"http://www.w3.org/2000/svg\" height=\"24px\"viewBox=\"0 0 24 24\"\n",
              "       width=\"24px\">\n",
              "    <path d=\"M0 0h24v24H0V0z\" fill=\"none\"/>\n",
              "    <path d=\"M18.56 5.44l.94 2.06.94-2.06 2.06-.94-2.06-.94-.94-2.06-.94 2.06-2.06.94zm-11 1L8.5 8.5l.94-2.06 2.06-.94-2.06-.94L8.5 2.5l-.94 2.06-2.06.94zm10 10l.94 2.06.94-2.06 2.06-.94-2.06-.94-.94-2.06-.94 2.06-2.06.94z\"/><path d=\"M17.41 7.96l-1.37-1.37c-.4-.4-.92-.59-1.43-.59-.52 0-1.04.2-1.43.59L10.3 9.45l-7.72 7.72c-.78.78-.78 2.05 0 2.83L4 21.41c.39.39.9.59 1.41.59.51 0 1.02-.2 1.41-.59l7.78-7.78 2.81-2.81c.8-.78.8-2.07 0-2.86zM5.41 20L4 18.59l7.72-7.72 1.47 1.35L5.41 20z\"/>\n",
              "  </svg>\n",
              "      </button>\n",
              "      \n",
              "  <style>\n",
              "    .colab-df-container {\n",
              "      display:flex;\n",
              "      flex-wrap:wrap;\n",
              "      gap: 12px;\n",
              "    }\n",
              "\n",
              "    .colab-df-convert {\n",
              "      background-color: #E8F0FE;\n",
              "      border: none;\n",
              "      border-radius: 50%;\n",
              "      cursor: pointer;\n",
              "      display: none;\n",
              "      fill: #1967D2;\n",
              "      height: 32px;\n",
              "      padding: 0 0 0 0;\n",
              "      width: 32px;\n",
              "    }\n",
              "\n",
              "    .colab-df-convert:hover {\n",
              "      background-color: #E2EBFA;\n",
              "      box-shadow: 0px 1px 2px rgba(60, 64, 67, 0.3), 0px 1px 3px 1px rgba(60, 64, 67, 0.15);\n",
              "      fill: #174EA6;\n",
              "    }\n",
              "\n",
              "    [theme=dark] .colab-df-convert {\n",
              "      background-color: #3B4455;\n",
              "      fill: #D2E3FC;\n",
              "    }\n",
              "\n",
              "    [theme=dark] .colab-df-convert:hover {\n",
              "      background-color: #434B5C;\n",
              "      box-shadow: 0px 1px 3px 1px rgba(0, 0, 0, 0.15);\n",
              "      filter: drop-shadow(0px 1px 2px rgba(0, 0, 0, 0.3));\n",
              "      fill: #FFFFFF;\n",
              "    }\n",
              "  </style>\n",
              "\n",
              "      <script>\n",
              "        const buttonEl =\n",
              "          document.querySelector('#df-23a1aaa6-5fad-4636-a162-faf11bf35cf2 button.colab-df-convert');\n",
              "        buttonEl.style.display =\n",
              "          google.colab.kernel.accessAllowed ? 'block' : 'none';\n",
              "\n",
              "        async function convertToInteractive(key) {\n",
              "          const element = document.querySelector('#df-23a1aaa6-5fad-4636-a162-faf11bf35cf2');\n",
              "          const dataTable =\n",
              "            await google.colab.kernel.invokeFunction('convertToInteractive',\n",
              "                                                     [key], {});\n",
              "          if (!dataTable) return;\n",
              "\n",
              "          const docLinkHtml = 'Like what you see? Visit the ' +\n",
              "            '<a target=\"_blank\" href=https://colab.research.google.com/notebooks/data_table.ipynb>data table notebook</a>'\n",
              "            + ' to learn more about interactive tables.';\n",
              "          element.innerHTML = '';\n",
              "          dataTable['output_type'] = 'display_data';\n",
              "          await google.colab.output.renderOutput(dataTable, element);\n",
              "          const docLink = document.createElement('div');\n",
              "          docLink.innerHTML = docLinkHtml;\n",
              "          element.appendChild(docLink);\n",
              "        }\n",
              "      </script>\n",
              "    </div>\n",
              "  </div>\n",
              "  "
            ]
          },
          "metadata": {},
          "execution_count": 64
        }
      ]
    },
    {
      "cell_type": "code",
      "source": [
        "df_nulls=generate_nulls(df,columnas_a_modificar,0.15)\n",
        "df_mean=mean_imputer(df_nulls,columnas_a_modificar)\n",
        "df_median=median_imputer(df_nulls,columnas_a_modificar)\n",
        "lineal_fit(df_mean,columnas_a_modificar)"
      ],
      "metadata": {
        "colab": {
          "base_uri": "https://localhost:8080/"
        },
        "id": "kUnhfpanWZut",
        "outputId": "7092fd49-1bd0-471a-fe8e-d41d95164e4f"
      },
      "id": "kUnhfpanWZut",
      "execution_count": 116,
      "outputs": [
        {
          "output_type": "execute_result",
          "data": {
            "text/plain": [
              "0.8556972787534621"
            ]
          },
          "metadata": {},
          "execution_count": 116
        }
      ]
    },
    {
      "cell_type": "markdown",
      "id": "808ffcaa",
      "metadata": {
        "id": "808ffcaa"
      },
      "source": [
        "## Ejercicio 3\n",
        "\n",
        "Los resultados del ejercicio 2 ¿Cómo se ven afectados cuando empezamos a a tener muchos más valores imputados? Pruebe con distintos porcentajes.\n",
        "\n",
        "RTA: podemos ver como va cambiando la media y la mediana a medida que generamos mayor cantidad de nulls"
      ]
    },
    {
      "cell_type": "code",
      "execution_count": 66,
      "id": "6b5U2d0C6agm",
      "metadata": {
        "id": "6b5U2d0C6agm",
        "colab": {
          "base_uri": "https://localhost:8080/"
        },
        "outputId": "a08468e1-cf02-4aa0-ffb4-4f2aee2544d8"
      },
      "outputs": [
        {
          "output_type": "stream",
          "name": "stdout",
          "text": [
            "0.0193320558223255 0.025300612234888248\n",
            "0.012795449871994671 0.019718887349076106\n",
            "0.027843033206336652 0.029250481215281336\n",
            "0.044215884196760355 0.037663989699779486\n",
            "0.007075962954739444 0.01346559189542661\n",
            "0.019161520642499808 0.007673258831023969\n",
            "0.023618518398945937 0.026488444602682282\n",
            "0.0024599244589092882 -0.010109707081765998\n",
            "0.04078491624838878 0.015717912471650088\n",
            "0.04586188887188047 0.05280369488120695\n",
            "0.0147812171937967 0.046004194029981293\n",
            "0.05217359673235464 0.057471673151591435\n",
            "0.04252521936910634 0.059724321977757344\n",
            "-0.011404257083409483 -0.021570647506346054\n",
            "0.021155908779912715 -0.029418428407623293\n",
            "0.09653444740761111 0.08681842785553556\n",
            "0.05877497676391389 0.07573154403369675\n",
            "0.04098556484136168 0.04704673392432039\n",
            "0.12374506321918627 0.1702459352113031\n",
            "-0.10742434516109853 -0.046609686667651716\n"
          ]
        }
      ],
      "source": [
        "for i in range(0,100,5):\n",
        "  media,mediana=media_mediana_con_nulls(df,columnas_a_modificar,float(i)/100)\n",
        "  print(media,mediana)"
      ]
    },
    {
      "cell_type": "markdown",
      "id": "b77ad81a",
      "metadata": {
        "id": "b77ad81a"
      },
      "source": [
        "## Ejercicio 4\n",
        "\n",
        "Utilizando la funcion `generate_outliers` generar puntos extremos dentro de los datos que generamos anteriormente. En este ejercicio dejar setteado `extreme_outliers` como `False` y observe como variando el porcentaje de los mismos la regresión comienza a afectarse."
      ]
    },
    {
      "cell_type": "code",
      "execution_count": 128,
      "id": "VKkw3PwY8JC7",
      "metadata": {
        "id": "VKkw3PwY8JC7",
        "colab": {
          "base_uri": "https://localhost:8080/",
          "height": 297
        },
        "outputId": "f3617ffa-4474-40b8-8eb2-6584a5adc881"
      },
      "outputs": [
        {
          "output_type": "execute_result",
          "data": {
            "text/plain": [
              "<matplotlib.axes._subplots.AxesSubplot at 0x7f5adeacac90>"
            ]
          },
          "metadata": {},
          "execution_count": 128
        },
        {
          "output_type": "display_data",
          "data": {
            "text/plain": [
              "<Figure size 432x288 with 1 Axes>"
            ],
            "image/png": "[encoded data removed]"
          },
          "metadata": {
            "needs_background": "light"
          }
        }
      ],
      "source": [
        "df_outlier = generate_outliers(df,['target'], percentage = 0.05, extreme_outlier = False)\n",
        "sns.scatterplot(data = pd.concat([df.assign(dataset = 'set1'),\n",
        "                                 df_outlier.assign(dataset = 'set2')]),\n",
        "                x = 'feature_1',\n",
        "                y = 'target',\n",
        "                hue = 'dataset')"
      ]
    },
    {
      "cell_type": "markdown",
      "source": [
        "Observamos que el score de la regresion con mayor cantidad de outliers se ve afectada considerablemente"
      ],
      "metadata": {
        "id": "0ahYIET1K62R"
      },
      "id": "0ahYIET1K62R"
    },
    {
      "cell_type": "code",
      "source": [
        "lineal_fit(df_outlier,columnas_a_modificar)"
      ],
      "metadata": {
        "colab": {
          "base_uri": "https://localhost:8080/"
        },
        "id": "TX135-g4Ky9D",
        "outputId": "3527357b-2927-49eb-f8a1-084e6c65e341"
      },
      "id": "TX135-g4Ky9D",
      "execution_count": 129,
      "outputs": [
        {
          "output_type": "execute_result",
          "data": {
            "text/plain": [
              "0.8763420818375557"
            ]
          },
          "metadata": {},
          "execution_count": 129
        }
      ]
    },
    {
      "cell_type": "markdown",
      "id": "d481762b",
      "metadata": {
        "id": "d481762b"
      },
      "source": [
        "## Ejercicio 5\n",
        "\n",
        "Generar ahora valores extremos utilizando `extreme_outliers`. ¿Cómo afecta esto a la regresión? ¿Se observa algo interesante?\n"
      ]
    },
    {
      "cell_type": "code",
      "execution_count": 126,
      "id": "34b43474",
      "metadata": {
        "id": "34b43474",
        "colab": {
          "base_uri": "https://localhost:8080/",
          "height": 297
        },
        "outputId": "90e80740-45f6-4e77-ff96-413a811ea10a"
      },
      "outputs": [
        {
          "output_type": "execute_result",
          "data": {
            "text/plain": [
              "<matplotlib.axes._subplots.AxesSubplot at 0x7f5adeb4b490>"
            ]
          },
          "metadata": {},
          "execution_count": 126
        },
        {
          "output_type": "display_data",
          "data": {
            "text/plain": [
              "<Figure size 432x288 with 1 Axes>"
            ],
            "image/png": "[encoded data removed]"
          },
          "metadata": {
            "needs_background": "light"
          }
        }
      ],
      "source": [
        "df_outlier_ext = generate_outliers(df,['target'], percentage = 0.05, extreme_outlier = True)\n",
        "sns.scatterplot(data = pd.concat([df.assign(dataset = 'set1'),\n",
        "                                 df_outlier_ext.assign(dataset = 'set2')]),\n",
        "                x = 'feature_1',\n",
        "                y = 'target',\n",
        "                hue = 'dataset')"
      ]
    },
    {
      "cell_type": "markdown",
      "source": [
        "Ahora implementando los outliers extremos vemos que el score de la regresion cae mucho incluso con solo 5% de outliers"
      ],
      "metadata": {
        "id": "ZGFoAbePLJIW"
      },
      "id": "ZGFoAbePLJIW"
    },
    {
      "cell_type": "code",
      "source": [
        "lineal_fit(df_outlier_ext,columnas_a_modificar)"
      ],
      "metadata": {
        "colab": {
          "base_uri": "https://localhost:8080/"
        },
        "id": "6BjKpt7ULFBK",
        "outputId": "0eea8aa6-1a17-458f-f51a-ca0249b24b68"
      },
      "id": "6BjKpt7ULFBK",
      "execution_count": 127,
      "outputs": [
        {
          "output_type": "execute_result",
          "data": {
            "text/plain": [
              "0.7212476916499758"
            ]
          },
          "metadata": {},
          "execution_count": 127
        }
      ]
    },
    {
      "cell_type": "markdown",
      "id": "tkxP2BID8XqM",
      "metadata": {
        "id": "tkxP2BID8XqM"
      },
      "source": [
        "## Ejercicio 6\n",
        "\n",
        "utilizando el archivo CSV `clase3v2.csv`, vamos a cargarlo como dataframe y deberemos:\n",
        " - Generar splits de training/test\n",
        " - Limpiar/Imputar datos Nulos\n",
        " - Entrenar un modelo de regresión multivariada\n",
        " - Reportar $R^2$ en test."
      ]
    },
    {
      "cell_type": "code",
      "source": [
        "url='https://raw.githubusercontent.com/FIUBA-Posgrado-Inteligencia-Artificial/intro_ia/cohorte-7/tp_enunciado/data/clase3v2.csv'\n",
        "data_happiness = pd.read_csv(url, delimiter = ';')\n",
        "data_happiness.head()"
      ],
      "metadata": {
        "id": "OFnMMzY1KUCv",
        "colab": {
          "base_uri": "https://localhost:8080/",
          "height": 206
        },
        "outputId": "213e51e0-9a66-4cef-a9e4-233c6d79233a"
      },
      "id": "OFnMMzY1KUCv",
      "execution_count": 69,
      "outputs": [
        {
          "output_type": "execute_result",
          "data": {
            "text/plain": [
              "   feature_1  feature_2  feature_3  feature_4  feature_5  feature_6  \\\n",
              "0   3.669506   2.863605        NaN   2.948632        NaN  -9.364512   \n",
              "1  13.505001   4.482330        NaN   0.770769        NaN  -3.706287   \n",
              "2  -5.736774  -1.030994        NaN   0.907981        NaN   5.332656   \n",
              "3  -0.019325   1.909841        NaN   0.137427        NaN   3.400036   \n",
              "4   6.079670   1.528345        NaN   0.746475        NaN -11.486688   \n",
              "\n",
              "   target_value  \n",
              "0      7.564543  \n",
              "1     32.866898  \n",
              "2    -20.922094  \n",
              "3      1.433380  \n",
              "4     11.867943  "
            ],
            "text/html": [
              "\n",
              "  <div id=\"df-45ddac02-87d9-4e74-bfce-5a2b3896a678\">\n",
              "    <div class=\"colab-df-container\">\n",
              "      <div>\n",
              "<style scoped>\n",
              "    .dataframe tbody tr th:only-of-type {\n",
              "        vertical-align: middle;\n",
              "    }\n",
              "\n",
              "    .dataframe tbody tr th {\n",
              "        vertical-align: top;\n",
              "    }\n",
              "\n",
              "    .dataframe thead th {\n",
              "        text-align: right;\n",
              "    }\n",
              "</style>\n",
              "<table border=\"1\" class=\"dataframe\">\n",
              "  <thead>\n",
              "    <tr style=\"text-align: right;\">\n",
              "      <th></th>\n",
              "      <th>feature_1</th>\n",
              "      <th>feature_2</th>\n",
              "      <th>feature_3</th>\n",
              "      <th>feature_4</th>\n",
              "      <th>feature_5</th>\n",
              "      <th>feature_6</th>\n",
              "      <th>target_value</th>\n",
              "    </tr>\n",
              "  </thead>\n",
              "  <tbody>\n",
              "    <tr>\n",
              "      <th>0</th>\n",
              "      <td>3.669506</td>\n",
              "      <td>2.863605</td>\n",
              "      <td>NaN</td>\n",
              "      <td>2.948632</td>\n",
              "      <td>NaN</td>\n",
              "      <td>-9.364512</td>\n",
              "      <td>7.564543</td>\n",
              "    </tr>\n",
              "    <tr>\n",
              "      <th>1</th>\n",
              "      <td>13.505001</td>\n",
              "      <td>4.482330</td>\n",
              "      <td>NaN</td>\n",
              "      <td>0.770769</td>\n",
              "      <td>NaN</td>\n",
              "      <td>-3.706287</td>\n",
              "      <td>32.866898</td>\n",
              "    </tr>\n",
              "    <tr>\n",
              "      <th>2</th>\n",
              "      <td>-5.736774</td>\n",
              "      <td>-1.030994</td>\n",
              "      <td>NaN</td>\n",
              "      <td>0.907981</td>\n",
              "      <td>NaN</td>\n",
              "      <td>5.332656</td>\n",
              "      <td>-20.922094</td>\n",
              "    </tr>\n",
              "    <tr>\n",
              "      <th>3</th>\n",
              "      <td>-0.019325</td>\n",
              "      <td>1.909841</td>\n",
              "      <td>NaN</td>\n",
              "      <td>0.137427</td>\n",
              "      <td>NaN</td>\n",
              "      <td>3.400036</td>\n",
              "      <td>1.433380</td>\n",
              "    </tr>\n",
              "    <tr>\n",
              "      <th>4</th>\n",
              "      <td>6.079670</td>\n",
              "      <td>1.528345</td>\n",
              "      <td>NaN</td>\n",
              "      <td>0.746475</td>\n",
              "      <td>NaN</td>\n",
              "      <td>-11.486688</td>\n",
              "      <td>11.867943</td>\n",
              "    </tr>\n",
              "  </tbody>\n",
              "</table>\n",
              "</div>\n",
              "      <button class=\"colab-df-convert\" onclick=\"convertToInteractive('df-45ddac02-87d9-4e74-bfce-5a2b3896a678')\"\n",
              "              title=\"Convert this dataframe to an interactive table.\"\n",
              "              style=\"display:none;\">\n",
              "        \n",
              "  <svg xmlns=\"http://www.w3.org/2000/svg\" height=\"24px\"viewBox=\"0 0 24 24\"\n",
              "       width=\"24px\">\n",
              "    <path d=\"M0 0h24v24H0V0z\" fill=\"none\"/>\n",
              "    <path d=\"M18.56 5.44l.94 2.06.94-2.06 2.06-.94-2.06-.94-.94-2.06-.94 2.06-2.06.94zm-11 1L8.5 8.5l.94-2.06 2.06-.94-2.06-.94L8.5 2.5l-.94 2.06-2.06.94zm10 10l.94 2.06.94-2.06 2.06-.94-2.06-.94-.94-2.06-.94 2.06-2.06.94z\"/><path d=\"M17.41 7.96l-1.37-1.37c-.4-.4-.92-.59-1.43-.59-.52 0-1.04.2-1.43.59L10.3 9.45l-7.72 7.72c-.78.78-.78 2.05 0 2.83L4 21.41c.39.39.9.59 1.41.59.51 0 1.02-.2 1.41-.59l7.78-7.78 2.81-2.81c.8-.78.8-2.07 0-2.86zM5.41 20L4 18.59l7.72-7.72 1.47 1.35L5.41 20z\"/>\n",
              "  </svg>\n",
              "      </button>\n",
              "      \n",
              "  <style>\n",
              "    .colab-df-container {\n",
              "      display:flex;\n",
              "      flex-wrap:wrap;\n",
              "      gap: 12px;\n",
              "    }\n",
              "\n",
              "    .colab-df-convert {\n",
              "      background-color: #E8F0FE;\n",
              "      border: none;\n",
              "      border-radius: 50%;\n",
              "      cursor: pointer;\n",
              "      display: none;\n",
              "      fill: #1967D2;\n",
              "      height: 32px;\n",
              "      padding: 0 0 0 0;\n",
              "      width: 32px;\n",
              "    }\n",
              "\n",
              "    .colab-df-convert:hover {\n",
              "      background-color: #E2EBFA;\n",
              "      box-shadow: 0px 1px 2px rgba(60, 64, 67, 0.3), 0px 1px 3px 1px rgba(60, 64, 67, 0.15);\n",
              "      fill: #174EA6;\n",
              "    }\n",
              "\n",
              "    [theme=dark] .colab-df-convert {\n",
              "      background-color: #3B4455;\n",
              "      fill: #D2E3FC;\n",
              "    }\n",
              "\n",
              "    [theme=dark] .colab-df-convert:hover {\n",
              "      background-color: #434B5C;\n",
              "      box-shadow: 0px 1px 3px 1px rgba(0, 0, 0, 0.15);\n",
              "      filter: drop-shadow(0px 1px 2px rgba(0, 0, 0, 0.3));\n",
              "      fill: #FFFFFF;\n",
              "    }\n",
              "  </style>\n",
              "\n",
              "      <script>\n",
              "        const buttonEl =\n",
              "          document.querySelector('#df-45ddac02-87d9-4e74-bfce-5a2b3896a678 button.colab-df-convert');\n",
              "        buttonEl.style.display =\n",
              "          google.colab.kernel.accessAllowed ? 'block' : 'none';\n",
              "\n",
              "        async function convertToInteractive(key) {\n",
              "          const element = document.querySelector('#df-45ddac02-87d9-4e74-bfce-5a2b3896a678');\n",
              "          const dataTable =\n",
              "            await google.colab.kernel.invokeFunction('convertToInteractive',\n",
              "                                                     [key], {});\n",
              "          if (!dataTable) return;\n",
              "\n",
              "          const docLinkHtml = 'Like what you see? Visit the ' +\n",
              "            '<a target=\"_blank\" href=https://colab.research.google.com/notebooks/data_table.ipynb>data table notebook</a>'\n",
              "            + ' to learn more about interactive tables.';\n",
              "          element.innerHTML = '';\n",
              "          dataTable['output_type'] = 'display_data';\n",
              "          await google.colab.output.renderOutput(dataTable, element);\n",
              "          const docLink = document.createElement('div');\n",
              "          docLink.innerHTML = docLinkHtml;\n",
              "          element.appendChild(docLink);\n",
              "        }\n",
              "      </script>\n",
              "    </div>\n",
              "  </div>\n",
              "  "
            ]
          },
          "metadata": {},
          "execution_count": 69
        }
      ]
    },
    {
      "cell_type": "code",
      "source": [
        "X_train, X_test,Y_train,Y_test = train_test_split(data_happiness.iloc[:,:6],data_happiness.iloc[:,6], train_size=0.8, random_state=42)"
      ],
      "metadata": {
        "id": "mzjHcN98le2j"
      },
      "id": "mzjHcN98le2j",
      "execution_count": 70,
      "outputs": []
    },
    {
      "cell_type": "code",
      "source": [
        "X_train_imputado = median_imputer(X_train,['feature_1','feature_2','feature_3','feature_4','feature_5','feature_6'])\n",
        "X_test_imputado = median_imputer(X_test,['feature_1','feature_2','feature_3','feature_4','feature_5','feature_6'])\n"
      ],
      "metadata": {
        "id": "F-QRQNd4nxU-"
      },
      "id": "F-QRQNd4nxU-",
      "execution_count": 71,
      "outputs": []
    },
    {
      "cell_type": "code",
      "source": [
        "X_train_imputado.head()"
      ],
      "metadata": {
        "colab": {
          "base_uri": "https://localhost:8080/",
          "height": 206
        },
        "id": "taA7RIRDI5ze",
        "outputId": "d3fcc15e-50c4-4802-c803-56ba46037eb9"
      },
      "id": "taA7RIRDI5ze",
      "execution_count": 72,
      "outputs": [
        {
          "output_type": "execute_result",
          "data": {
            "text/plain": [
              "    feature_1  feature_2  feature_3  feature_4  feature_5  feature_6\n",
              "55  -2.800081  -3.078380   8.085855   0.594078  -3.779044 -13.355980\n",
              "88  -1.131554   6.828352  -3.054384  -0.083569   1.833107   2.627744\n",
              "26   2.426831  -1.556721   2.048743  -0.573126  -2.427306  -6.137065\n",
              "42  14.724680   1.526057  11.733783   0.610179   3.362755  -2.774163\n",
              "69  10.275338  -0.373827   2.353709   0.491020  -4.655846 -15.575730"
            ],
            "text/html": [
              "\n",
              "  <div id=\"df-86ffdd3d-cbc4-454e-9b40-f1d3be908be8\">\n",
              "    <div class=\"colab-df-container\">\n",
              "      <div>\n",
              "<style scoped>\n",
              "    .dataframe tbody tr th:only-of-type {\n",
              "        vertical-align: middle;\n",
              "    }\n",
              "\n",
              "    .dataframe tbody tr th {\n",
              "        vertical-align: top;\n",
              "    }\n",
              "\n",
              "    .dataframe thead th {\n",
              "        text-align: right;\n",
              "    }\n",
              "</style>\n",
              "<table border=\"1\" class=\"dataframe\">\n",
              "  <thead>\n",
              "    <tr style=\"text-align: right;\">\n",
              "      <th></th>\n",
              "      <th>feature_1</th>\n",
              "      <th>feature_2</th>\n",
              "      <th>feature_3</th>\n",
              "      <th>feature_4</th>\n",
              "      <th>feature_5</th>\n",
              "      <th>feature_6</th>\n",
              "    </tr>\n",
              "  </thead>\n",
              "  <tbody>\n",
              "    <tr>\n",
              "      <th>55</th>\n",
              "      <td>-2.800081</td>\n",
              "      <td>-3.078380</td>\n",
              "      <td>8.085855</td>\n",
              "      <td>0.594078</td>\n",
              "      <td>-3.779044</td>\n",
              "      <td>-13.355980</td>\n",
              "    </tr>\n",
              "    <tr>\n",
              "      <th>88</th>\n",
              "      <td>-1.131554</td>\n",
              "      <td>6.828352</td>\n",
              "      <td>-3.054384</td>\n",
              "      <td>-0.083569</td>\n",
              "      <td>1.833107</td>\n",
              "      <td>2.627744</td>\n",
              "    </tr>\n",
              "    <tr>\n",
              "      <th>26</th>\n",
              "      <td>2.426831</td>\n",
              "      <td>-1.556721</td>\n",
              "      <td>2.048743</td>\n",
              "      <td>-0.573126</td>\n",
              "      <td>-2.427306</td>\n",
              "      <td>-6.137065</td>\n",
              "    </tr>\n",
              "    <tr>\n",
              "      <th>42</th>\n",
              "      <td>14.724680</td>\n",
              "      <td>1.526057</td>\n",
              "      <td>11.733783</td>\n",
              "      <td>0.610179</td>\n",
              "      <td>3.362755</td>\n",
              "      <td>-2.774163</td>\n",
              "    </tr>\n",
              "    <tr>\n",
              "      <th>69</th>\n",
              "      <td>10.275338</td>\n",
              "      <td>-0.373827</td>\n",
              "      <td>2.353709</td>\n",
              "      <td>0.491020</td>\n",
              "      <td>-4.655846</td>\n",
              "      <td>-15.575730</td>\n",
              "    </tr>\n",
              "  </tbody>\n",
              "</table>\n",
              "</div>\n",
              "      <button class=\"colab-df-convert\" onclick=\"convertToInteractive('df-86ffdd3d-cbc4-454e-9b40-f1d3be908be8')\"\n",
              "              title=\"Convert this dataframe to an interactive table.\"\n",
              "              style=\"display:none;\">\n",
              "        \n",
              "  <svg xmlns=\"http://www.w3.org/2000/svg\" height=\"24px\"viewBox=\"0 0 24 24\"\n",
              "       width=\"24px\">\n",
              "    <path d=\"M0 0h24v24H0V0z\" fill=\"none\"/>\n",
              "    <path d=\"M18.56 5.44l.94 2.06.94-2.06 2.06-.94-2.06-.94-.94-2.06-.94 2.06-2.06.94zm-11 1L8.5 8.5l.94-2.06 2.06-.94-2.06-.94L8.5 2.5l-.94 2.06-2.06.94zm10 10l.94 2.06.94-2.06 2.06-.94-2.06-.94-.94-2.06-.94 2.06-2.06.94z\"/><path d=\"M17.41 7.96l-1.37-1.37c-.4-.4-.92-.59-1.43-.59-.52 0-1.04.2-1.43.59L10.3 9.45l-7.72 7.72c-.78.78-.78 2.05 0 2.83L4 21.41c.39.39.9.59 1.41.59.51 0 1.02-.2 1.41-.59l7.78-7.78 2.81-2.81c.8-.78.8-2.07 0-2.86zM5.41 20L4 18.59l7.72-7.72 1.47 1.35L5.41 20z\"/>\n",
              "  </svg>\n",
              "      </button>\n",
              "      \n",
              "  <style>\n",
              "    .colab-df-container {\n",
              "      display:flex;\n",
              "      flex-wrap:wrap;\n",
              "      gap: 12px;\n",
              "    }\n",
              "\n",
              "    .colab-df-convert {\n",
              "      background-color: #E8F0FE;\n",
              "      border: none;\n",
              "      border-radius: 50%;\n",
              "      cursor: pointer;\n",
              "      display: none;\n",
              "      fill: #1967D2;\n",
              "      height: 32px;\n",
              "      padding: 0 0 0 0;\n",
              "      width: 32px;\n",
              "    }\n",
              "\n",
              "    .colab-df-convert:hover {\n",
              "      background-color: #E2EBFA;\n",
              "      box-shadow: 0px 1px 2px rgba(60, 64, 67, 0.3), 0px 1px 3px 1px rgba(60, 64, 67, 0.15);\n",
              "      fill: #174EA6;\n",
              "    }\n",
              "\n",
              "    [theme=dark] .colab-df-convert {\n",
              "      background-color: #3B4455;\n",
              "      fill: #D2E3FC;\n",
              "    }\n",
              "\n",
              "    [theme=dark] .colab-df-convert:hover {\n",
              "      background-color: #434B5C;\n",
              "      box-shadow: 0px 1px 3px 1px rgba(0, 0, 0, 0.15);\n",
              "      filter: drop-shadow(0px 1px 2px rgba(0, 0, 0, 0.3));\n",
              "      fill: #FFFFFF;\n",
              "    }\n",
              "  </style>\n",
              "\n",
              "      <script>\n",
              "        const buttonEl =\n",
              "          document.querySelector('#df-86ffdd3d-cbc4-454e-9b40-f1d3be908be8 button.colab-df-convert');\n",
              "        buttonEl.style.display =\n",
              "          google.colab.kernel.accessAllowed ? 'block' : 'none';\n",
              "\n",
              "        async function convertToInteractive(key) {\n",
              "          const element = document.querySelector('#df-86ffdd3d-cbc4-454e-9b40-f1d3be908be8');\n",
              "          const dataTable =\n",
              "            await google.colab.kernel.invokeFunction('convertToInteractive',\n",
              "                                                     [key], {});\n",
              "          if (!dataTable) return;\n",
              "\n",
              "          const docLinkHtml = 'Like what you see? Visit the ' +\n",
              "            '<a target=\"_blank\" href=https://colab.research.google.com/notebooks/data_table.ipynb>data table notebook</a>'\n",
              "            + ' to learn more about interactive tables.';\n",
              "          element.innerHTML = '';\n",
              "          dataTable['output_type'] = 'display_data';\n",
              "          await google.colab.output.renderOutput(dataTable, element);\n",
              "          const docLink = document.createElement('div');\n",
              "          docLink.innerHTML = docLinkHtml;\n",
              "          element.appendChild(docLink);\n",
              "        }\n",
              "      </script>\n",
              "    </div>\n",
              "  </div>\n",
              "  "
            ]
          },
          "metadata": {},
          "execution_count": 72
        }
      ]
    },
    {
      "cell_type": "code",
      "source": [
        "X_test_imputado.head()"
      ],
      "metadata": {
        "colab": {
          "base_uri": "https://localhost:8080/",
          "height": 206
        },
        "id": "HlLRk3OLYEE6",
        "outputId": "a7e55164-bc7d-4efc-f3a2-ae2db8cd673a"
      },
      "id": "HlLRk3OLYEE6",
      "execution_count": 73,
      "outputs": [
        {
          "output_type": "execute_result",
          "data": {
            "text/plain": [
              "    feature_1  feature_2  feature_3  feature_4  feature_5  feature_6\n",
              "83   5.787869   1.574225  -1.761402   1.803514  -0.333389  -4.628609\n",
              "53   4.878929  -3.071783  -0.379464  -1.295139  -4.517666 -16.585686\n",
              "70   3.604312   0.972712  10.329432   2.355838   0.250721   4.744813\n",
              "45  14.563636   5.089565   1.852649   0.852823   2.123957  -7.130408\n",
              "44  15.570838   2.680708   6.511630   1.523699  -0.416795  -9.408145"
            ],
            "text/html": [
              "\n",
              "  <div id=\"df-41f88bed-1576-4e17-9491-e89f4f494f6b\">\n",
              "    <div class=\"colab-df-container\">\n",
              "      <div>\n",
              "<style scoped>\n",
              "    .dataframe tbody tr th:only-of-type {\n",
              "        vertical-align: middle;\n",
              "    }\n",
              "\n",
              "    .dataframe tbody tr th {\n",
              "        vertical-align: top;\n",
              "    }\n",
              "\n",
              "    .dataframe thead th {\n",
              "        text-align: right;\n",
              "    }\n",
              "</style>\n",
              "<table border=\"1\" class=\"dataframe\">\n",
              "  <thead>\n",
              "    <tr style=\"text-align: right;\">\n",
              "      <th></th>\n",
              "      <th>feature_1</th>\n",
              "      <th>feature_2</th>\n",
              "      <th>feature_3</th>\n",
              "      <th>feature_4</th>\n",
              "      <th>feature_5</th>\n",
              "      <th>feature_6</th>\n",
              "    </tr>\n",
              "  </thead>\n",
              "  <tbody>\n",
              "    <tr>\n",
              "      <th>83</th>\n",
              "      <td>5.787869</td>\n",
              "      <td>1.574225</td>\n",
              "      <td>-1.761402</td>\n",
              "      <td>1.803514</td>\n",
              "      <td>-0.333389</td>\n",
              "      <td>-4.628609</td>\n",
              "    </tr>\n",
              "    <tr>\n",
              "      <th>53</th>\n",
              "      <td>4.878929</td>\n",
              "      <td>-3.071783</td>\n",
              "      <td>-0.379464</td>\n",
              "      <td>-1.295139</td>\n",
              "      <td>-4.517666</td>\n",
              "      <td>-16.585686</td>\n",
              "    </tr>\n",
              "    <tr>\n",
              "      <th>70</th>\n",
              "      <td>3.604312</td>\n",
              "      <td>0.972712</td>\n",
              "      <td>10.329432</td>\n",
              "      <td>2.355838</td>\n",
              "      <td>0.250721</td>\n",
              "      <td>4.744813</td>\n",
              "    </tr>\n",
              "    <tr>\n",
              "      <th>45</th>\n",
              "      <td>14.563636</td>\n",
              "      <td>5.089565</td>\n",
              "      <td>1.852649</td>\n",
              "      <td>0.852823</td>\n",
              "      <td>2.123957</td>\n",
              "      <td>-7.130408</td>\n",
              "    </tr>\n",
              "    <tr>\n",
              "      <th>44</th>\n",
              "      <td>15.570838</td>\n",
              "      <td>2.680708</td>\n",
              "      <td>6.511630</td>\n",
              "      <td>1.523699</td>\n",
              "      <td>-0.416795</td>\n",
              "      <td>-9.408145</td>\n",
              "    </tr>\n",
              "  </tbody>\n",
              "</table>\n",
              "</div>\n",
              "      <button class=\"colab-df-convert\" onclick=\"convertToInteractive('df-41f88bed-1576-4e17-9491-e89f4f494f6b')\"\n",
              "              title=\"Convert this dataframe to an interactive table.\"\n",
              "              style=\"display:none;\">\n",
              "        \n",
              "  <svg xmlns=\"http://www.w3.org/2000/svg\" height=\"24px\"viewBox=\"0 0 24 24\"\n",
              "       width=\"24px\">\n",
              "    <path d=\"M0 0h24v24H0V0z\" fill=\"none\"/>\n",
              "    <path d=\"M18.56 5.44l.94 2.06.94-2.06 2.06-.94-2.06-.94-.94-2.06-.94 2.06-2.06.94zm-11 1L8.5 8.5l.94-2.06 2.06-.94-2.06-.94L8.5 2.5l-.94 2.06-2.06.94zm10 10l.94 2.06.94-2.06 2.06-.94-2.06-.94-.94-2.06-.94 2.06-2.06.94z\"/><path d=\"M17.41 7.96l-1.37-1.37c-.4-.4-.92-.59-1.43-.59-.52 0-1.04.2-1.43.59L10.3 9.45l-7.72 7.72c-.78.78-.78 2.05 0 2.83L4 21.41c.39.39.9.59 1.41.59.51 0 1.02-.2 1.41-.59l7.78-7.78 2.81-2.81c.8-.78.8-2.07 0-2.86zM5.41 20L4 18.59l7.72-7.72 1.47 1.35L5.41 20z\"/>\n",
              "  </svg>\n",
              "      </button>\n",
              "      \n",
              "  <style>\n",
              "    .colab-df-container {\n",
              "      display:flex;\n",
              "      flex-wrap:wrap;\n",
              "      gap: 12px;\n",
              "    }\n",
              "\n",
              "    .colab-df-convert {\n",
              "      background-color: #E8F0FE;\n",
              "      border: none;\n",
              "      border-radius: 50%;\n",
              "      cursor: pointer;\n",
              "      display: none;\n",
              "      fill: #1967D2;\n",
              "      height: 32px;\n",
              "      padding: 0 0 0 0;\n",
              "      width: 32px;\n",
              "    }\n",
              "\n",
              "    .colab-df-convert:hover {\n",
              "      background-color: #E2EBFA;\n",
              "      box-shadow: 0px 1px 2px rgba(60, 64, 67, 0.3), 0px 1px 3px 1px rgba(60, 64, 67, 0.15);\n",
              "      fill: #174EA6;\n",
              "    }\n",
              "\n",
              "    [theme=dark] .colab-df-convert {\n",
              "      background-color: #3B4455;\n",
              "      fill: #D2E3FC;\n",
              "    }\n",
              "\n",
              "    [theme=dark] .colab-df-convert:hover {\n",
              "      background-color: #434B5C;\n",
              "      box-shadow: 0px 1px 3px 1px rgba(0, 0, 0, 0.15);\n",
              "      filter: drop-shadow(0px 1px 2px rgba(0, 0, 0, 0.3));\n",
              "      fill: #FFFFFF;\n",
              "    }\n",
              "  </style>\n",
              "\n",
              "      <script>\n",
              "        const buttonEl =\n",
              "          document.querySelector('#df-41f88bed-1576-4e17-9491-e89f4f494f6b button.colab-df-convert');\n",
              "        buttonEl.style.display =\n",
              "          google.colab.kernel.accessAllowed ? 'block' : 'none';\n",
              "\n",
              "        async function convertToInteractive(key) {\n",
              "          const element = document.querySelector('#df-41f88bed-1576-4e17-9491-e89f4f494f6b');\n",
              "          const dataTable =\n",
              "            await google.colab.kernel.invokeFunction('convertToInteractive',\n",
              "                                                     [key], {});\n",
              "          if (!dataTable) return;\n",
              "\n",
              "          const docLinkHtml = 'Like what you see? Visit the ' +\n",
              "            '<a target=\"_blank\" href=https://colab.research.google.com/notebooks/data_table.ipynb>data table notebook</a>'\n",
              "            + ' to learn more about interactive tables.';\n",
              "          element.innerHTML = '';\n",
              "          dataTable['output_type'] = 'display_data';\n",
              "          await google.colab.output.renderOutput(dataTable, element);\n",
              "          const docLink = document.createElement('div');\n",
              "          docLink.innerHTML = docLinkHtml;\n",
              "          element.appendChild(docLink);\n",
              "        }\n",
              "      </script>\n",
              "    </div>\n",
              "  </div>\n",
              "  "
            ]
          },
          "metadata": {},
          "execution_count": 73
        }
      ]
    },
    {
      "cell_type": "code",
      "source": [
        "lr_multiple = linear_model.LinearRegression()"
      ],
      "metadata": {
        "id": "1e5-NIZFZZcX"
      },
      "id": "1e5-NIZFZZcX",
      "execution_count": 74,
      "outputs": []
    },
    {
      "cell_type": "code",
      "source": [
        "lr_multiple.fit(X_train_imputado, Y_train)"
      ],
      "metadata": {
        "colab": {
          "base_uri": "https://localhost:8080/"
        },
        "id": "TWjtheHieguC",
        "outputId": "a0b03ab1-9c8d-4b3e-f6a8-83fd97fd5941"
      },
      "id": "TWjtheHieguC",
      "execution_count": 75,
      "outputs": [
        {
          "output_type": "execute_result",
          "data": {
            "text/plain": [
              "LinearRegression()"
            ]
          },
          "metadata": {},
          "execution_count": 75
        }
      ]
    },
    {
      "cell_type": "code",
      "source": [
        "Y_pred_multiple = lr_multiple.predict(X_test_imputado)"
      ],
      "metadata": {
        "id": "LsGn9jyve3Zh"
      },
      "id": "LsGn9jyve3Zh",
      "execution_count": 76,
      "outputs": []
    },
    {
      "cell_type": "code",
      "source": [
        "from sklearn.metrics import r2_score\n",
        "print('R²: %.2f' % r2_score(Y_test, Y_pred_multiple))"
      ],
      "metadata": {
        "colab": {
          "base_uri": "https://localhost:8080/"
        },
        "id": "PSV-kWp_fGbp",
        "outputId": "e70b9ea0-9862-4ef2-d60d-7fa25b5c5f9b"
      },
      "id": "PSV-kWp_fGbp",
      "execution_count": 77,
      "outputs": [
        {
          "output_type": "stream",
          "name": "stdout",
          "text": [
            "R²: 0.83\n"
          ]
        }
      ]
    },
    {
      "cell_type": "markdown",
      "id": "hCNvuKcF8-fM",
      "metadata": {
        "id": "hCNvuKcF8-fM"
      },
      "source": [
        "## Ejercicio 7\n",
        "\n",
        "Por último, manteniendo un dataset limpio como el que generamos previo al ejercio 1, utilizando `make_regression` de `scikit-learn`. Analizar que pasa si comenzamos a modificar el parametro `noise`\n",
        "\n",
        "Al aumentar la cantidad de noise podemos ver una mayor dispersion en los\n",
        "datos de target, el parametro R2 va cayendo ya que cada vez el modelo se ajusta\n",
        "menos a una funcion lineal"
      ]
    },
    {
      "cell_type": "code",
      "execution_count": 130,
      "id": "Os_Et7Ww9V6I",
      "metadata": {
        "id": "Os_Et7Ww9V6I",
        "colab": {
          "base_uri": "https://localhost:8080/",
          "height": 392
        },
        "outputId": "b9e5dbe1-2ea6-4460-c5dd-4173935791d9"
      },
      "outputs": [
        {
          "output_type": "stream",
          "name": "stdout",
          "text": [
            "0.3668226998586082 0.05226653082419386\n"
          ]
        },
        {
          "output_type": "display_data",
          "data": {
            "text/plain": [
              "<Figure size 1584x432 with 2 Axes>"
            ],
            "image/png": "[encoded data removed]"
          },
          "metadata": {
            "needs_background": "light"
          }
        }
      ],
      "source": [
        "\n",
        "X_7, y_7 = make_regression(n_samples = 1000,\n",
        "                       n_features = 1,\n",
        "                       noise = 10,\n",
        "                       n_informative = 1,\n",
        "                       random_state = 42)\n",
        "\n",
        "new_data_7 = np.append(X_7,y_7.reshape(-1,1),axis=1)\n",
        "new_data_7.shape\n",
        "df_7 = pd.DataFrame(new_data_7)\n",
        "\n",
        "new_col = []\n",
        "i = 0\n",
        "for col in df_7.columns:\n",
        "    if i ==  len(df_7.columns) - 1:\n",
        "        new_col.append(\"target\")\n",
        "    else :\n",
        "        new_col.append(\"feature_\" + str(i+1))\n",
        "        \n",
        "    i += 1\n",
        "    \n",
        "df_7.columns = new_col\n",
        "\n",
        "fig,axes = plt.subplots(2,figsize=(22,6))\n",
        "axes[0].scatter(X_7,y_7)\n",
        "sns.histplot(X_7, ax=axes[1]);\n",
        "\n",
        "median_7=df_7.target.median()\n",
        "mean_7=df_7.target.mean()\n",
        "print(mean_7, median_7)"
      ]
    },
    {
      "cell_type": "code",
      "source": [
        "X_train_7, X_test_7,Y_train_7, Y_test_7 = train_test_split(df_7['feature_1'],df_7['target'],train_size=0.8,random_state=42)"
      ],
      "metadata": {
        "id": "B-RoIVzFjEd3"
      },
      "id": "B-RoIVzFjEd3",
      "execution_count": 131,
      "outputs": []
    },
    {
      "cell_type": "code",
      "source": [
        "linear_simple = linear_model.LinearRegression()\n",
        "X_train_T=np.expand_dims(X_train_7.to_numpy(),axis=0)\n",
        "X_train_T=X_train_T.reshape(-1,1)\n",
        "X_test_T=np.expand_dims(X_test_7.to_numpy(),axis=0)\n",
        "X_test_T=X_test_T.reshape(-1,1)\n",
        "Y_train_T=np.expand_dims(Y_train_7.to_numpy(),axis=0)\n",
        "Y_train_T=Y_train_T.reshape(-1,1)\n",
        "Y_test_T=np.expand_dims(Y_test_7.to_numpy(),axis=0)\n",
        "Y_test_T=Y_test_T.reshape(-1,1)\n",
        "linear_simple.fit(X_train_T,Y_train_T)"
      ],
      "metadata": {
        "colab": {
          "base_uri": "https://localhost:8080/"
        },
        "id": "j97a3vSxjeW6",
        "outputId": "d457720c-a3a1-41b0-b5d9-4b0067102b54"
      },
      "id": "j97a3vSxjeW6",
      "execution_count": 132,
      "outputs": [
        {
          "output_type": "execute_result",
          "data": {
            "text/plain": [
              "LinearRegression()"
            ]
          },
          "metadata": {},
          "execution_count": 132
        }
      ]
    },
    {
      "cell_type": "code",
      "source": [
        "Y_pred_T = linear_simple.predict(X_test_T)"
      ],
      "metadata": {
        "id": "c0N9yKmy8lz1"
      },
      "id": "c0N9yKmy8lz1",
      "execution_count": 133,
      "outputs": []
    },
    {
      "cell_type": "code",
      "source": [
        "print('R²: %.2f' % r2_score(Y_test_T, Y_pred_T))"
      ],
      "metadata": {
        "colab": {
          "base_uri": "https://localhost:8080/"
        },
        "id": "_RqXL-fV8pc1",
        "outputId": "247ec01b-47b4-4693-d1cb-7475c7d52584"
      },
      "id": "_RqXL-fV8pc1",
      "execution_count": 134,
      "outputs": [
        {
          "output_type": "stream",
          "name": "stdout",
          "text": [
            "R²: 0.72\n"
          ]
        }
      ]
    },
    {
      "cell_type": "markdown",
      "id": "2be66065",
      "metadata": {
        "id": "2be66065"
      },
      "source": [
        "# Segunda parte"
      ]
    },
    {
      "cell_type": "markdown",
      "metadata": {
        "id": "KZGNlP4hzO65"
      },
      "source": [
        "\n",
        "## Ejercicio 8\n",
        "\n",
        "Vamos a tomar dos dataframes creados uno en el ejercicio 4 y otro del 5, utilizando el modelo `HuberRegressor` en `linear_model` de `scikit-learn`. Vamos a entrenar dos modelos robustos, el modelo mejora?\n",
        "\n",
        "***Nota:*** Utilizar los valores por defecto del modelo"
      ],
      "id": "KZGNlP4hzO65"
    },
    {
      "cell_type": "code",
      "execution_count": 142,
      "metadata": {
        "id": "S-4mslgazO7C"
      },
      "outputs": [],
      "source": [
        "huber = linear_model.HuberRegressor()\n",
        "X_train_8, X_test_8,Y_train_8, Y_test_8 = train_test_split(df_outlier_ext['feature_1'],df_outlier_ext['target'],train_size=0.8,random_state=42)\n",
        "#df_outlier\n",
        "#df_outlier_ext\n"
      ],
      "id": "S-4mslgazO7C"
    },
    {
      "cell_type": "code",
      "source": [
        "#X_train_8=np.expand_dims(X_train_8.to_numpy(),axis=0)\n",
        "X_train_8=np.asarray(X_train_8).reshape(-1,1)\n",
        "#X_test_8=np.expand_dims(X_test_8.to_numpy(),axis=0)\n",
        "X_test_8=np.asarray(X_test_8).reshape(-1,1)\n",
        "#Y_train_8=np.expand_dims(Y_train_8.to_numpy(),axis=0)\n",
        "Y_train_8=np.asarray(Y_train_8).reshape(-1,1).flatten()\n",
        "#Y_test_8=np.expand_dims(Y_test_8.to_numpy(),axis=0)\n",
        "Y_test_8=np.asarray(Y_test_8).reshape(-1,1)#.flatten()\n",
        "print(X_train_8.shape,Y_train_8.shape,X_test_8.shape,Y_test_8.shape)\n",
        "huber.fit(X_train_8,Y_train_8)\n",
        "linear_simple.fit(X_train_8,Y_train_8)"
      ],
      "metadata": {
        "colab": {
          "base_uri": "https://localhost:8080/"
        },
        "id": "SXolsrib-Ujj",
        "outputId": "dd9c9125-6026-4162-b6bb-76f94ef5176f"
      },
      "id": "SXolsrib-Ujj",
      "execution_count": 160,
      "outputs": [
        {
          "output_type": "stream",
          "name": "stdout",
          "text": [
            "(800, 1) (800,) (200, 1) (200, 1)\n"
          ]
        },
        {
          "output_type": "execute_result",
          "data": {
            "text/plain": [
              "LinearRegression()"
            ]
          },
          "metadata": {},
          "execution_count": 160
        }
      ]
    },
    {
      "cell_type": "code",
      "source": [
        "Y_pred_8 = huber.predict(X_test_8)\n",
        "Y_pred_8_L = linear_simple.predict(X_test_8)"
      ],
      "metadata": {
        "id": "dMPe_s1c_bWC"
      },
      "id": "dMPe_s1c_bWC",
      "execution_count": 161,
      "outputs": []
    },
    {
      "cell_type": "code",
      "source": [
        "print('Huber R²: %.2f' % r2_score(Y_test_8, Y_pred_8))\n",
        "print('Linear R²: %.2f' % r2_score(Y_test_8, Y_pred_8_L))"
      ],
      "metadata": {
        "colab": {
          "base_uri": "https://localhost:8080/"
        },
        "id": "JT3_ICRY_gHZ",
        "outputId": "bf6a0251-094c-46e8-ef25-b48032eb9561"
      },
      "id": "JT3_ICRY_gHZ",
      "execution_count": 165,
      "outputs": [
        {
          "output_type": "stream",
          "name": "stdout",
          "text": [
            "Huber R²: 0.75\n",
            "Linear R²: 0.75\n"
          ]
        }
      ]
    },
    {
      "cell_type": "markdown",
      "metadata": {
        "id": "ApEtxj3zzO7G"
      },
      "source": [
        "## Ejercicio 9 (Opcional)\n",
        "\n",
        "Utilizando este esta funcion de Gradiente descendente de como idea, codear su implementación de Sthocastic Gradient Descent (SGD)"
      ],
      "id": "ApEtxj3zzO7G"
    },
    {
      "cell_type": "markdown",
      "id": "e7640f2b",
      "metadata": {
        "id": "e7640f2b"
      },
      "source": [
        "```python\n",
        "\n",
        "def ssr_gradient(x, y, b):\n",
        "    res = b[0] + b[1] * x - y\n",
        "    return res.mean(), (res * x).mean()\n",
        "\n",
        "def gradient_descent(\n",
        "    x: list,\n",
        "    y: list,\n",
        "    start: list,\n",
        "    learn_rate: float = 0.1,\n",
        "    n_iter: int = 50,\n",
        "    tolerance: float =1e-06\n",
        "):\n",
        "    vector = start\n",
        "    for _ in range(n_iter):\n",
        "        diff = -learn_rate * np.array(ssr_gradient(x, y, vector))\n",
        "        if np.all(np.abs(diff) <= tolerance):\n",
        "            break\n",
        "        vector += diff\n",
        "    return vector\n",
        "```"
      ]
    },
    {
      "cell_type": "markdown",
      "id": "614867ea",
      "metadata": {
        "id": "614867ea"
      },
      "source": [
        "# Tercera Parte\n",
        "\n",
        "Vamos a crear un nuevo dataset, para ello vamos a usar el metodo `make_classification` de `sklearn`"
      ]
    },
    {
      "cell_type": "code",
      "execution_count": 166,
      "id": "fb57518c",
      "metadata": {
        "id": "fb57518c"
      },
      "outputs": [],
      "source": [
        "from sklearn.datasets import make_classification\n",
        "from sklearn.linear_model import LogisticRegression\n",
        "\n",
        "X_10, y_10 = make_classification(\n",
        "    n_samples = 1000,\n",
        "    n_features=3,\n",
        "    n_redundant=0,\n",
        "    n_informative=3,\n",
        "    random_state=42,\n",
        "    n_classes=2,\n",
        "    n_clusters_per_class=3\n",
        ")"
      ]
    },
    {
      "cell_type": "code",
      "source": [
        "new_data_10 = np.append(X_10,y_10.reshape(-1,1),axis=1)\n",
        "new_data_10.shape\n",
        "df_10 = pd.DataFrame(new_data_10)\n",
        "\n",
        "new_col = []\n",
        "i = 0\n",
        "for col in df_10.columns:\n",
        "    if i ==  len(df_10.columns) - 1:\n",
        "        new_col.append(\"target\")\n",
        "    else :\n",
        "        new_col.append(\"feature_\" + str(i+1))\n",
        "        \n",
        "    i += 1\n",
        "    \n",
        "df_10.columns = new_col\n",
        "df_10.head()"
      ],
      "metadata": {
        "colab": {
          "base_uri": "https://localhost:8080/",
          "height": 206
        },
        "id": "id1RtTvBB_EO",
        "outputId": "d03926ff-1f2e-40c5-c83b-cae339f173df"
      },
      "id": "id1RtTvBB_EO",
      "execution_count": 167,
      "outputs": [
        {
          "output_type": "execute_result",
          "data": {
            "text/plain": [
              "   feature_1  feature_2  feature_3  target\n",
              "0   0.948171   0.952130  -1.200182     1.0\n",
              "1   1.288362   0.330222   1.026760     1.0\n",
              "2   0.928280   0.927720  -1.246460     1.0\n",
              "3   0.460683  -1.397768  -0.616106     1.0\n",
              "4  -1.402125  -0.943615  -0.297036     0.0"
            ],
            "text/html": [
              "\n",
              "  <div id=\"df-b88d313b-a0f3-4269-ac7e-b95a45f6855a\">\n",
              "    <div class=\"colab-df-container\">\n",
              "      <div>\n",
              "<style scoped>\n",
              "    .dataframe tbody tr th:only-of-type {\n",
              "        vertical-align: middle;\n",
              "    }\n",
              "\n",
              "    .dataframe tbody tr th {\n",
              "        vertical-align: top;\n",
              "    }\n",
              "\n",
              "    .dataframe thead th {\n",
              "        text-align: right;\n",
              "    }\n",
              "</style>\n",
              "<table border=\"1\" class=\"dataframe\">\n",
              "  <thead>\n",
              "    <tr style=\"text-align: right;\">\n",
              "      <th></th>\n",
              "      <th>feature_1</th>\n",
              "      <th>feature_2</th>\n",
              "      <th>feature_3</th>\n",
              "      <th>target</th>\n",
              "    </tr>\n",
              "  </thead>\n",
              "  <tbody>\n",
              "    <tr>\n",
              "      <th>0</th>\n",
              "      <td>0.948171</td>\n",
              "      <td>0.952130</td>\n",
              "      <td>-1.200182</td>\n",
              "      <td>1.0</td>\n",
              "    </tr>\n",
              "    <tr>\n",
              "      <th>1</th>\n",
              "      <td>1.288362</td>\n",
              "      <td>0.330222</td>\n",
              "      <td>1.026760</td>\n",
              "      <td>1.0</td>\n",
              "    </tr>\n",
              "    <tr>\n",
              "      <th>2</th>\n",
              "      <td>0.928280</td>\n",
              "      <td>0.927720</td>\n",
              "      <td>-1.246460</td>\n",
              "      <td>1.0</td>\n",
              "    </tr>\n",
              "    <tr>\n",
              "      <th>3</th>\n",
              "      <td>0.460683</td>\n",
              "      <td>-1.397768</td>\n",
              "      <td>-0.616106</td>\n",
              "      <td>1.0</td>\n",
              "    </tr>\n",
              "    <tr>\n",
              "      <th>4</th>\n",
              "      <td>-1.402125</td>\n",
              "      <td>-0.943615</td>\n",
              "      <td>-0.297036</td>\n",
              "      <td>0.0</td>\n",
              "    </tr>\n",
              "  </tbody>\n",
              "</table>\n",
              "</div>\n",
              "      <button class=\"colab-df-convert\" onclick=\"convertToInteractive('df-b88d313b-a0f3-4269-ac7e-b95a45f6855a')\"\n",
              "              title=\"Convert this dataframe to an interactive table.\"\n",
              "              style=\"display:none;\">\n",
              "        \n",
              "  <svg xmlns=\"http://www.w3.org/2000/svg\" height=\"24px\"viewBox=\"0 0 24 24\"\n",
              "       width=\"24px\">\n",
              "    <path d=\"M0 0h24v24H0V0z\" fill=\"none\"/>\n",
              "    <path d=\"M18.56 5.44l.94 2.06.94-2.06 2.06-.94-2.06-.94-.94-2.06-.94 2.06-2.06.94zm-11 1L8.5 8.5l.94-2.06 2.06-.94-2.06-.94L8.5 2.5l-.94 2.06-2.06.94zm10 10l.94 2.06.94-2.06 2.06-.94-2.06-.94-.94-2.06-.94 2.06-2.06.94z\"/><path d=\"M17.41 7.96l-1.37-1.37c-.4-.4-.92-.59-1.43-.59-.52 0-1.04.2-1.43.59L10.3 9.45l-7.72 7.72c-.78.78-.78 2.05 0 2.83L4 21.41c.39.39.9.59 1.41.59.51 0 1.02-.2 1.41-.59l7.78-7.78 2.81-2.81c.8-.78.8-2.07 0-2.86zM5.41 20L4 18.59l7.72-7.72 1.47 1.35L5.41 20z\"/>\n",
              "  </svg>\n",
              "      </button>\n",
              "      \n",
              "  <style>\n",
              "    .colab-df-container {\n",
              "      display:flex;\n",
              "      flex-wrap:wrap;\n",
              "      gap: 12px;\n",
              "    }\n",
              "\n",
              "    .colab-df-convert {\n",
              "      background-color: #E8F0FE;\n",
              "      border: none;\n",
              "      border-radius: 50%;\n",
              "      cursor: pointer;\n",
              "      display: none;\n",
              "      fill: #1967D2;\n",
              "      height: 32px;\n",
              "      padding: 0 0 0 0;\n",
              "      width: 32px;\n",
              "    }\n",
              "\n",
              "    .colab-df-convert:hover {\n",
              "      background-color: #E2EBFA;\n",
              "      box-shadow: 0px 1px 2px rgba(60, 64, 67, 0.3), 0px 1px 3px 1px rgba(60, 64, 67, 0.15);\n",
              "      fill: #174EA6;\n",
              "    }\n",
              "\n",
              "    [theme=dark] .colab-df-convert {\n",
              "      background-color: #3B4455;\n",
              "      fill: #D2E3FC;\n",
              "    }\n",
              "\n",
              "    [theme=dark] .colab-df-convert:hover {\n",
              "      background-color: #434B5C;\n",
              "      box-shadow: 0px 1px 3px 1px rgba(0, 0, 0, 0.15);\n",
              "      filter: drop-shadow(0px 1px 2px rgba(0, 0, 0, 0.3));\n",
              "      fill: #FFFFFF;\n",
              "    }\n",
              "  </style>\n",
              "\n",
              "      <script>\n",
              "        const buttonEl =\n",
              "          document.querySelector('#df-b88d313b-a0f3-4269-ac7e-b95a45f6855a button.colab-df-convert');\n",
              "        buttonEl.style.display =\n",
              "          google.colab.kernel.accessAllowed ? 'block' : 'none';\n",
              "\n",
              "        async function convertToInteractive(key) {\n",
              "          const element = document.querySelector('#df-b88d313b-a0f3-4269-ac7e-b95a45f6855a');\n",
              "          const dataTable =\n",
              "            await google.colab.kernel.invokeFunction('convertToInteractive',\n",
              "                                                     [key], {});\n",
              "          if (!dataTable) return;\n",
              "\n",
              "          const docLinkHtml = 'Like what you see? Visit the ' +\n",
              "            '<a target=\"_blank\" href=https://colab.research.google.com/notebooks/data_table.ipynb>data table notebook</a>'\n",
              "            + ' to learn more about interactive tables.';\n",
              "          element.innerHTML = '';\n",
              "          dataTable['output_type'] = 'display_data';\n",
              "          await google.colab.output.renderOutput(dataTable, element);\n",
              "          const docLink = document.createElement('div');\n",
              "          docLink.innerHTML = docLinkHtml;\n",
              "          element.appendChild(docLink);\n",
              "        }\n",
              "      </script>\n",
              "    </div>\n",
              "  </div>\n",
              "  "
            ]
          },
          "metadata": {},
          "execution_count": 167
        }
      ]
    },
    {
      "cell_type": "code",
      "source": [
        "sns.scatterplot(data = df_10,\n",
        "                x = 'feature_1',\n",
        "                y = 'feature_2',\n",
        "                hue = 'target')"
      ],
      "metadata": {
        "colab": {
          "base_uri": "https://localhost:8080/",
          "height": 297
        },
        "id": "2971vMxH3LkB",
        "outputId": "22fdba72-d908-4383-eaa7-56c2da5b6d73"
      },
      "id": "2971vMxH3LkB",
      "execution_count": 89,
      "outputs": [
        {
          "output_type": "execute_result",
          "data": {
            "text/plain": [
              "<matplotlib.axes._subplots.AxesSubplot at 0x7f5ae3fc6cd0>"
            ]
          },
          "metadata": {},
          "execution_count": 89
        },
        {
          "output_type": "display_data",
          "data": {
            "text/plain": [
              "<Figure size 432x288 with 1 Axes>"
            ],
            "image/png": "[encoded data removed]"
          },
          "metadata": {
            "needs_background": "light"
          }
        }
      ]
    },
    {
      "cell_type": "code",
      "source": [
        "X_train_10, X_test_10,Y_train_10, Y_test_10 = train_test_split(df_10.iloc[:,0:-1],df_10.iloc[:,-1],train_size=0.8,random_state=42)"
      ],
      "metadata": {
        "id": "Ia7m4lMzCt6n"
      },
      "id": "Ia7m4lMzCt6n",
      "execution_count": 90,
      "outputs": []
    },
    {
      "cell_type": "markdown",
      "id": "c2034612",
      "metadata": {
        "id": "c2034612"
      },
      "source": [
        "## Ejercicio 10\n",
        "\n",
        "Con el dataset creado para clasficación vamos a utilizar el modelo `LogisticRegression`. Vamos a entrenar modelos variando los parámetros en particular `tol` y `max_iter`.\n",
        "¿Cómo cambian estas regresiones?\n",
        "\n",
        "Si variamos la cantidad de features del dataset podemos observar que las iteraciones necesarias para que converja la regresion logistica va a variar, aumentando en algunos casos y disminuyendo en otros, en conjunto con la tolerancia definida. Sin embargo el modelo logistico es muy robusto, logrando una accuracy alta en cualquiera de los casos presentados.\n"
      ]
    },
    {
      "cell_type": "code",
      "execution_count": 168,
      "id": "bea80317",
      "metadata": {
        "id": "bea80317",
        "colab": {
          "base_uri": "https://localhost:8080/"
        },
        "outputId": "b256de26-c23f-4108-9fb9-13085af47919"
      },
      "outputs": [
        {
          "output_type": "stream",
          "name": "stdout",
          "text": [
            "Logistic R²: 1.00\n"
          ]
        }
      ],
      "source": [
        "log1=linear_model.LogisticRegression(tol=0.0001,max_iter=15)\n",
        "log1.fit(X_train_10,Y_train_10)\n",
        "Y_pred_10=log1.predict(X_test_10)\n",
        "print('Logistic R²: %.2f' % log1.score(X_test_10, Y_pred_10))"
      ]
    },
    {
      "cell_type": "code",
      "source": [
        "from sklearn.metrics import confusion_matrix, accuracy_score, precision_score, recall_score\n",
        "confusion_matrix(Y_test_10,Y_pred_10),accuracy_score(Y_test_10,Y_pred_10),precision_score(Y_test_10,Y_pred_10),recall_score(Y_test_10,Y_pred_10)"
      ],
      "metadata": {
        "colab": {
          "base_uri": "https://localhost:8080/"
        },
        "id": "44CBnvge46dG",
        "outputId": "bb272324-706c-4a1a-8544-dd28b0d5057d"
      },
      "id": "44CBnvge46dG",
      "execution_count": 169,
      "outputs": [
        {
          "output_type": "execute_result",
          "data": {
            "text/plain": [
              "(array([[93, 14],\n",
              "        [ 2, 91]]), 0.92, 0.8666666666666667, 0.978494623655914)"
            ]
          },
          "metadata": {},
          "execution_count": 169
        }
      ]
    },
    {
      "cell_type": "code",
      "source": [
        "log1.n_iter_"
      ],
      "metadata": {
        "colab": {
          "base_uri": "https://localhost:8080/"
        },
        "id": "3kS0ILAx4pSW",
        "outputId": "a80caf1c-0c20-4da9-c46f-53d27bfeaf52"
      },
      "id": "3kS0ILAx4pSW",
      "execution_count": 170,
      "outputs": [
        {
          "output_type": "execute_result",
          "data": {
            "text/plain": [
              "array([11], dtype=int32)"
            ]
          },
          "metadata": {},
          "execution_count": 170
        }
      ]
    },
    {
      "cell_type": "code",
      "source": [
        "log2=linear_model.LogisticRegression(tol=0.1,max_iter=12)\n",
        "log2.fit(X_train_10,Y_train_10)\n",
        "Y_pred_10=log2.predict(X_test_10)\n",
        "print('Logistic score: %.2f' % log2.score(X_test_10, Y_pred_10))"
      ],
      "metadata": {
        "colab": {
          "base_uri": "https://localhost:8080/"
        },
        "id": "rC6ehHI1BURn",
        "outputId": "d526a960-1453-4141-e7e8-ed7246708066"
      },
      "id": "rC6ehHI1BURn",
      "execution_count": 171,
      "outputs": [
        {
          "output_type": "stream",
          "name": "stdout",
          "text": [
            "Logistic score: 1.00\n"
          ]
        }
      ]
    },
    {
      "cell_type": "code",
      "source": [
        "log2.n_iter_"
      ],
      "metadata": {
        "colab": {
          "base_uri": "https://localhost:8080/"
        },
        "id": "tJMbw8dV6JFS",
        "outputId": "a648336e-83b0-4241-f579-25c1b9f1141e"
      },
      "id": "tJMbw8dV6JFS",
      "execution_count": 172,
      "outputs": [
        {
          "output_type": "execute_result",
          "data": {
            "text/plain": [
              "array([10], dtype=int32)"
            ]
          },
          "metadata": {},
          "execution_count": 172
        }
      ]
    },
    {
      "cell_type": "code",
      "source": [
        "confusion_matrix(Y_test_10,Y_pred_10),accuracy_score(Y_test_10,Y_pred_10),precision_score(Y_test_10,Y_pred_10),recall_score(Y_test_10,Y_pred_10)"
      ],
      "metadata": {
        "colab": {
          "base_uri": "https://localhost:8080/"
        },
        "id": "SYkU4RCX8r-x",
        "outputId": "b51f17d1-a74d-4b45-f003-29b9ad686e6b"
      },
      "id": "SYkU4RCX8r-x",
      "execution_count": 173,
      "outputs": [
        {
          "output_type": "execute_result",
          "data": {
            "text/plain": [
              "(array([[93, 14],\n",
              "        [ 2, 91]]), 0.92, 0.8666666666666667, 0.978494623655914)"
            ]
          },
          "metadata": {},
          "execution_count": 173
        }
      ]
    },
    {
      "cell_type": "code",
      "source": [
        "log3=linear_model.LogisticRegression(tol=0.5,max_iter=200)\n",
        "log3.fit(X_train_10,Y_train_10)\n",
        "Y_pred_10=log3.predict(X_test_10)\n",
        "print('Logistic score: %.2f' % log3.score(X_test_10, Y_pred_10))"
      ],
      "metadata": {
        "colab": {
          "base_uri": "https://localhost:8080/"
        },
        "id": "jRlKZCrPBUxv",
        "outputId": "5048b489-c57e-43c6-d788-a976c78634c4"
      },
      "id": "jRlKZCrPBUxv",
      "execution_count": 174,
      "outputs": [
        {
          "output_type": "stream",
          "name": "stdout",
          "text": [
            "Logistic score: 1.00\n"
          ]
        }
      ]
    },
    {
      "cell_type": "code",
      "source": [
        "confusion_matrix(Y_test_10,Y_pred_10),accuracy_score(Y_test_10,Y_pred_10),precision_score(Y_test_10,Y_pred_10),recall_score(Y_test_10,Y_pred_10)"
      ],
      "metadata": {
        "colab": {
          "base_uri": "https://localhost:8080/"
        },
        "id": "sAyiJBH78tzq",
        "outputId": "8afe7a98-a857-45bb-ce55-2d5b4291213c"
      },
      "id": "sAyiJBH78tzq",
      "execution_count": 175,
      "outputs": [
        {
          "output_type": "execute_result",
          "data": {
            "text/plain": [
              "(array([[93, 14],\n",
              "        [ 2, 91]]), 0.92, 0.8666666666666667, 0.978494623655914)"
            ]
          },
          "metadata": {},
          "execution_count": 175
        }
      ]
    },
    {
      "cell_type": "code",
      "source": [
        "log4=linear_model.LogisticRegression(tol=0.001,max_iter=250)\n",
        "log4.fit(X_train_10,Y_train_10)\n",
        "Y_pred_10=log4.predict(X_test_10)\n",
        "print('Logistic score: %.2f' % log4.score(X_test_10, Y_pred_10))"
      ],
      "metadata": {
        "colab": {
          "base_uri": "https://localhost:8080/"
        },
        "id": "xfOcvn5gBVJa",
        "outputId": "18395a57-a06b-4983-ae63-0006e1ab5e76"
      },
      "id": "xfOcvn5gBVJa",
      "execution_count": 176,
      "outputs": [
        {
          "output_type": "stream",
          "name": "stdout",
          "text": [
            "Logistic score: 1.00\n"
          ]
        }
      ]
    },
    {
      "cell_type": "code",
      "source": [
        "confusion_matrix(Y_test_10,Y_pred_10),accuracy_score(Y_test_10,Y_pred_10),precision_score(Y_test_10,Y_pred_10),recall_score(Y_test_10,Y_pred_10)"
      ],
      "metadata": {
        "colab": {
          "base_uri": "https://localhost:8080/"
        },
        "id": "5aqlnU6p8uwd",
        "outputId": "5215765c-d345-4210-c032-d8dcdf637de5"
      },
      "id": "5aqlnU6p8uwd",
      "execution_count": 177,
      "outputs": [
        {
          "output_type": "execute_result",
          "data": {
            "text/plain": [
              "(array([[93, 14],\n",
              "        [ 2, 91]]), 0.92, 0.8666666666666667, 0.978494623655914)"
            ]
          },
          "metadata": {},
          "execution_count": 177
        }
      ]
    },
    {
      "cell_type": "markdown",
      "id": "3a762700",
      "metadata": {
        "id": "3a762700"
      },
      "source": [
        "## Ejercicio 11\n",
        "\n",
        "Vamos a utilizar ahora el dataset de [iris](https://scikit-learn.org/stable/modules/generated/sklearn.datasets.load_iris.html). Utilizando `LogisticRegression` vamos a realizar un clasificador multiclases.\n",
        "¿Cómo se compara con el modelo de `Perceptron`?\n",
        "\n",
        "Analizando las metricas de Accuracy, Precission y Recall, que podemos obtener a partir de la matriz de confusion, encontramos que el perceptron es bueno pero el regresor logistico es mejor para este caso. En el caso de la segunda clase el perceptron solo acerto 3 de 9 predicciones, y el regresor logistico acerto todos."
      ]
    },
    {
      "cell_type": "code",
      "execution_count": 178,
      "id": "81e5c649",
      "metadata": {
        "id": "81e5c649"
      },
      "outputs": [],
      "source": [
        "from sklearn.datasets import load_iris\n",
        "X,y = load_iris(return_X_y=True, as_frame=True)"
      ]
    },
    {
      "cell_type": "markdown",
      "id": "24bd540e",
      "metadata": {
        "id": "24bd540e"
      },
      "source": [
        "HINT: La clase perceptron la pueden utilizar así\n",
        "\n",
        "```python\n",
        "from sklearn.linear_model import Perceptron\n",
        "X, y = load_iris(return_X_y=True, as_frame=True)\n",
        "clf = Perceptron(tol=1e-3, random_state=0)\n",
        "clf.fit(X, y)\n",
        "\n",
        "clf.score(X, y)\n",
        "```"
      ]
    },
    {
      "cell_type": "code",
      "execution_count": 179,
      "id": "0ac0f917",
      "metadata": {
        "id": "0ac0f917",
        "colab": {
          "base_uri": "https://localhost:8080/"
        },
        "outputId": "c3b96d21-bdbc-4868-da3c-a08212cd1a38"
      },
      "outputs": [
        {
          "output_type": "execute_result",
          "data": {
            "text/plain": [
              "Perceptron()"
            ]
          },
          "metadata": {},
          "execution_count": 179
        }
      ],
      "source": [
        "from sklearn.linear_model import Perceptron\n",
        "X, y = load_iris(return_X_y=True, as_frame=True)\n",
        "clf = Perceptron(tol=1e-3, random_state=0)\n",
        "X_train_11, X_test_11,Y_train_11, Y_test_11 = train_test_split(X,y,train_size=0.8,random_state=42)\n",
        "clf.fit(X_train_11, Y_train_11)\n",
        "\n",
        "#clf.score(X, y)"
      ]
    },
    {
      "cell_type": "code",
      "source": [
        "Y_pred_11=clf.predict(X_test_11)"
      ],
      "metadata": {
        "id": "HyYMbbKfRDsJ"
      },
      "id": "HyYMbbKfRDsJ",
      "execution_count": 181,
      "outputs": []
    },
    {
      "cell_type": "code",
      "source": [
        "confusion_matrix(Y_test_11,Y_pred_11),accuracy_score(Y_test_11,Y_pred_11),precision_score(Y_test_11,Y_pred_11,average=None),recall_score(Y_test_11,Y_pred_11,average=None)"
      ],
      "metadata": {
        "colab": {
          "base_uri": "https://localhost:8080/"
        },
        "id": "NJV0xNC4T1pt",
        "outputId": "ec8770a9-78cc-45e6-964c-687990638ac4"
      },
      "id": "NJV0xNC4T1pt",
      "execution_count": 182,
      "outputs": [
        {
          "output_type": "execute_result",
          "data": {
            "text/plain": [
              "(array([[10,  0,  0],\n",
              "        [ 6,  3,  0],\n",
              "        [ 0,  0, 11]]),\n",
              " 0.8,\n",
              " array([0.625, 1.   , 1.   ]),\n",
              " array([1.        , 0.33333333, 1.        ]))"
            ]
          },
          "metadata": {},
          "execution_count": 182
        }
      ]
    },
    {
      "cell_type": "code",
      "source": [
        "log_perceptron=linear_model.LogisticRegression(max_iter=1000)"
      ],
      "metadata": {
        "id": "4gcmEpreI1Ky"
      },
      "id": "4gcmEpreI1Ky",
      "execution_count": 183,
      "outputs": []
    },
    {
      "cell_type": "code",
      "source": [
        "log_perceptron.fit(X_train_11, Y_train_11)\n",
        "\n",
        "Y_pred_11 = log_perceptron.predict(X_test_11)"
      ],
      "metadata": {
        "id": "M2SFSQ_FJQL-"
      },
      "id": "M2SFSQ_FJQL-",
      "execution_count": 184,
      "outputs": []
    },
    {
      "cell_type": "code",
      "source": [
        "confusion_matrix(Y_test_11,Y_pred_11),accuracy_score(Y_test_11,Y_pred_11),precision_score(Y_test_11,Y_pred_11,average=None),recall_score(Y_test_11,Y_pred_11,average=None)"
      ],
      "metadata": {
        "id": "A8N7aMxRJVj4",
        "colab": {
          "base_uri": "https://localhost:8080/"
        },
        "outputId": "22a218d6-977b-4c0f-eb0b-90ebeb6e2d80"
      },
      "id": "A8N7aMxRJVj4",
      "execution_count": 185,
      "outputs": [
        {
          "output_type": "execute_result",
          "data": {
            "text/plain": [
              "(array([[10,  0,  0],\n",
              "        [ 0,  9,  0],\n",
              "        [ 0,  0, 11]]), 1.0, array([1., 1., 1.]), array([1., 1., 1.]))"
            ]
          },
          "metadata": {},
          "execution_count": 185
        }
      ]
    },
    {
      "cell_type": "code",
      "source": [
        ""
      ],
      "metadata": {
        "id": "e5TAxeLbRL4x"
      },
      "id": "e5TAxeLbRL4x",
      "execution_count": 107,
      "outputs": []
    }
  ],
  "metadata": {
    "colab": {
      "collapsed_sections": [],
      "name": "tp_integrador_IA.ipynb",
      "provenance": []
    },
    "kernelspec": {
      "display_name": "Python 3.9.6 64-bit",
      "language": "python",
      "name": "python3"
    },
    "language_info": {
      "codemirror_mode": {
        "name": "ipython",
        "version": 3
      },
      "file_extension": ".py",
      "mimetype": "text/x-python",
      "name": "python",
      "nbconvert_exporter": "python",
      "pygments_lexer": "ipython3",
      "version": "3.9.6"
    },
    "vscode": {
      "interpreter": {
        "hash": "11938c6bc6919ae2720b4d5011047913343b08a43b18698fd82dedb0d4417594"
      }
    }
  },
  "nbformat": 4,
  "nbformat_minor": 5
}