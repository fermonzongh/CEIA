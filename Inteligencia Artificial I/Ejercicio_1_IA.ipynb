{
  "nbformat": 4,
  "nbformat_minor": 0,
  "metadata": {
    "colab": {
      "name": "Ejercicio#1_IA.ipynb",
      "provenance": []
    },
    "kernelspec": {
      "name": "python3",
      "display_name": "Python 3"
    },
    "language_info": {
      "name": "python"
    }
  },
  "cells": [
    {
      "cell_type": "code",
      "source": [
        "import numpy as np"
      ],
      "metadata": {
        "id": "Am7YAA6RjcCf"
      },
      "execution_count": 58,
      "outputs": []
    },
    {
      "cell_type": "code",
      "execution_count": 59,
      "metadata": {
        "colab": {
          "base_uri": "https://localhost:8080/"
        },
        "id": "v916JMBsiPll",
        "outputId": "6fe752ea-fb6e-4029-a973-6e95783840e5"
      },
      "outputs": [
        {
          "output_type": "execute_result",
          "data": {
            "text/plain": [
              "array([[0, 1, 1, 1],\n",
              "       [2, 1, 0, 2],\n",
              "       [2, 0, 0, 0],\n",
              "       [2, 2, 0, 2]])"
            ]
          },
          "metadata": {},
          "execution_count": 59
        }
      ],
      "source": [
        "mat=np.random.randint(3, size=(4, 4))\n",
        "mat"
      ]
    },
    {
      "cell_type": "code",
      "source": [
        "def l0(vect):\n",
        "  cant0=len(vect)-np.count_nonzero(vect)\n",
        "  print(cant0)"
      ],
      "metadata": {
        "id": "ETCrf2IKjatq"
      },
      "execution_count": 60,
      "outputs": []
    },
    {
      "cell_type": "code",
      "source": [
        "def ln(vect,n):\n",
        "  l_n=np.power(np.sum(np.power(abs(vect),n)),1/n)\n",
        "  print(l_n)"
      ],
      "metadata": {
        "id": "F60FpZBWl-Qn"
      },
      "execution_count": 61,
      "outputs": []
    },
    {
      "cell_type": "code",
      "source": [
        "def l_infinity(vect):\n",
        "  max=np.max(abs(vect))\n",
        "  print(max)"
      ],
      "metadata": {
        "id": "5o57c_xJl_0W"
      },
      "execution_count": 62,
      "outputs": []
    },
    {
      "cell_type": "code",
      "source": [
        "print('Norma L1')\n",
        "for x in mat:\n",
        "  ln(x,1) \n",
        "print('Norma L2')\n",
        "for x in mat:\n",
        "  ln(x,2) "
      ],
      "metadata": {
        "colab": {
          "base_uri": "https://localhost:8080/"
        },
        "id": "jCGn_Qy9mk1I",
        "outputId": "d0235e72-e0ab-4791-9735-4baa82b26f88"
      },
      "execution_count": 63,
      "outputs": [
        {
          "output_type": "stream",
          "name": "stdout",
          "text": [
            "Norma L1\n",
            "3.0\n",
            "5.0\n",
            "2.0\n",
            "6.0\n",
            "Norma L2\n",
            "1.7320508075688772\n",
            "3.0\n",
            "2.0\n",
            "3.4641016151377544\n"
          ]
        }
      ]
    },
    {
      "cell_type": "code",
      "source": [
        "print('Norma L0')\n",
        "for x in mat:\n",
        "  l0(x) "
      ],
      "metadata": {
        "colab": {
          "base_uri": "https://localhost:8080/"
        },
        "id": "BuawZrM1qBfB",
        "outputId": "390006cb-0262-4380-a498-f0e9c0d8330d"
      },
      "execution_count": 64,
      "outputs": [
        {
          "output_type": "stream",
          "name": "stdout",
          "text": [
            "Norma L0\n",
            "1\n",
            "1\n",
            "3\n",
            "1\n"
          ]
        }
      ]
    },
    {
      "cell_type": "code",
      "source": [
        "print('Norma L_infinity')\n",
        "for x in mat:\n",
        "  l_infinity(x) "
      ],
      "metadata": {
        "colab": {
          "base_uri": "https://localhost:8080/"
        },
        "id": "jwFZBCaKrA7_",
        "outputId": "cf03a2e5-7785-4f0f-ae8b-0fdb58061f4e"
      },
      "execution_count": 65,
      "outputs": [
        {
          "output_type": "stream",
          "name": "stdout",
          "text": [
            "Norma L_infinity\n",
            "1\n",
            "2\n",
            "2\n",
            "2\n"
          ]
        }
      ]
    }
  ]
}