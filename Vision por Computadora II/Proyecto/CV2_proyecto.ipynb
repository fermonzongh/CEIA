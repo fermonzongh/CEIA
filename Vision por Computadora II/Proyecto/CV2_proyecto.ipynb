{
  "nbformat": 4,
  "nbformat_minor": 0,
  "metadata": {
    "colab": {
      "provenance": []
    },
    "kernelspec": {
      "name": "python3",
      "display_name": "Python 3"
    },
    "language_info": {
      "name": "python"
    },
    "accelerator": "GPU",
    "gpuClass": "standard"
  },
  "cells": [
    {
      "cell_type": "markdown",
      "source": [
        "## Preparación de Google Drive y librerías "
      ],
      "metadata": {
        "id": "BXVnVt-_pixz"
      }
    },
    {
      "cell_type": "code",
      "source": [
        "from google.colab import drive\n",
        "drive.mount('/content/drive', force_remount=True)"
      ],
      "metadata": {
        "colab": {
          "base_uri": "https://localhost:8080/"
        },
        "id": "8hkF26ldmlYy",
        "outputId": "cd32c9eb-e6a0-4e4c-fde1-daff17038e3d"
      },
      "execution_count": null,
      "outputs": [
        {
          "output_type": "stream",
          "name": "stdout",
          "text": [
            "Mounted at /content/drive\n"
          ]
        }
      ]
    },
    {
      "cell_type": "code",
      "source": [
        "!apt-get install unrar\n"
      ],
      "metadata": {
        "colab": {
          "base_uri": "https://localhost:8080/"
        },
        "id": "gG6ZYA7qo4yr",
        "outputId": "887974e8-8598-4a31-9af7-0d8db2558f3f"
      },
      "execution_count": null,
      "outputs": [
        {
          "output_type": "stream",
          "name": "stdout",
          "text": [
            "Reading package lists... Done\n",
            "Building dependency tree       \n",
            "Reading state information... Done\n",
            "unrar is already the newest version (1:5.6.6-2build1).\n",
            "0 upgraded, 0 newly installed, 0 to remove and 24 not upgraded.\n"
          ]
        }
      ]
    },
    {
      "cell_type": "code",
      "execution_count": null,
      "metadata": {
        "colab": {
          "base_uri": "https://localhost:8080/"
        },
        "id": "A457zQ8eSAAg",
        "outputId": "c555950c-2b51-496a-d304-c91a5e2e4b63"
      },
      "outputs": [
        {
          "output_type": "stream",
          "name": "stdout",
          "text": [
            "Tue Apr 25 22:48:29 2023       \n",
            "+-----------------------------------------------------------------------------+\n",
            "| NVIDIA-SMI 525.85.12    Driver Version: 525.85.12    CUDA Version: 12.0     |\n",
            "|-------------------------------+----------------------+----------------------+\n",
            "| GPU  Name        Persistence-M| Bus-Id        Disp.A | Volatile Uncorr. ECC |\n",
            "| Fan  Temp  Perf  Pwr:Usage/Cap|         Memory-Usage | GPU-Util  Compute M. |\n",
            "|                               |                      |               MIG M. |\n",
            "|===============================+======================+======================|\n",
            "|   0  Tesla T4            Off  | 00000000:00:04.0 Off |                    0 |\n",
            "| N/A   43C    P8    10W /  70W |      3MiB / 15360MiB |      0%      Default |\n",
            "|                               |                      |                  N/A |\n",
            "+-------------------------------+----------------------+----------------------+\n",
            "                                                                               \n",
            "+-----------------------------------------------------------------------------+\n",
            "| Processes:                                                                  |\n",
            "|  GPU   GI   CI        PID   Type   Process name                  GPU Memory |\n",
            "|        ID   ID                                                   Usage      |\n",
            "|=============================================================================|\n",
            "|  No running processes found                                                 |\n",
            "+-----------------------------------------------------------------------------+\n"
          ]
        }
      ],
      "source": [
        "!nvidia-smi"
      ]
    },
    {
      "cell_type": "code",
      "source": [
        "# Pip install method (recommended)\n",
        "\n",
        "!pip install ultralytics==8.0.20\n",
        "\n",
        "from IPython import display\n",
        "display.clear_output()\n",
        "\n",
        "import ultralytics\n",
        "ultralytics.checks()\n",
        "\n",
        "from ultralytics import YOLO\n",
        "\n",
        "from IPython.display import display, Image"
      ],
      "metadata": {
        "colab": {
          "base_uri": "https://localhost:8080/"
        },
        "id": "8DxVVxZdSZdi",
        "outputId": "52f63ded-9e34-4c2c-ce9b-6e04670236a6"
      },
      "execution_count": null,
      "outputs": [
        {
          "output_type": "stream",
          "name": "stderr",
          "text": [
            "Ultralytics YOLOv8.0.20 🚀 Python-3.9.16 torch-2.0.0+cu118 CUDA:0 (Tesla T4, 15102MiB)\n",
            "Setup complete ✅ (2 CPUs, 12.7 GB RAM, 23.3/78.2 GB disk)\n"
          ]
        }
      ]
    },
    {
      "cell_type": "markdown",
      "source": [
        "## Descomprimimos el dataset que usamos para validar"
      ],
      "metadata": {
        "id": "vm7CivGwpvTq"
      }
    },
    {
      "cell_type": "code",
      "source": [
        "!unrar x \"/content/drive/MyDrive/CEIA/CV2_proyecto/datasets.rar\" \"/content/drive/MyDrive/CEIA/CV2_proyecto/\""
      ],
      "metadata": {
        "id": "_TulYsh4lyYM"
      },
      "execution_count": null,
      "outputs": []
    },
    {
      "cell_type": "markdown",
      "source": [
        "## Validación de modelo ya entrenado"
      ],
      "metadata": {
        "id": "uPj_jg3opVlQ"
      }
    },
    {
      "cell_type": "code",
      "source": [
        "!yolo task=detect mode=val model=/content/drive/MyDrive/CEIA/CV2_proyecto/train_new/weights/best.pt data=/content/drive/MyDrive/CEIA/CV2_proyecto/datasets/data.yaml"
      ],
      "metadata": {
        "colab": {
          "base_uri": "https://localhost:8080/"
        },
        "id": "2z7VYFuUSiLJ",
        "outputId": "01ac657e-365d-4a1d-b769-96d059c96be6"
      },
      "execution_count": null,
      "outputs": [
        {
          "output_type": "stream",
          "name": "stdout",
          "text": [
            "2023-04-25 23:13:39.759648: I tensorflow/core/platform/cpu_feature_guard.cc:182] This TensorFlow binary is optimized to use available CPU instructions in performance-critical operations.\n",
            "To enable the following instructions: AVX2 FMA, in other operations, rebuild TensorFlow with the appropriate compiler flags.\n",
            "2023-04-25 23:13:40.799806: W tensorflow/compiler/tf2tensorrt/utils/py_utils.cc:38] TF-TRT Warning: Could not find TensorRT\n",
            "Ultralytics YOLOv8.0.20 🚀 Python-3.9.16 torch-2.0.0+cu118 CUDA:0 (Tesla T4, 15102MiB)\n",
            "Model summary (fused): 168 layers, 11127906 parameters, 0 gradients, 28.4 GFLOPs\n",
            "Downloading https://ultralytics.com/assets/Arial.ttf to /root/.config/Ultralytics/Arial.ttf...\n",
            "100% 755k/755k [00:00<00:00, 14.2MB/s]\n",
            "\u001b[34m\u001b[1mval: \u001b[0mScanning /content/drive/.shortcut-targets-by-id/12tFqb5y5978uxhwM1X48A2MsXmCS25He/CV2_proyecto/datasets/valid/labels... 2236 images, 0 backgrounds, 0 corrupt: 100% 2236/2236 [00:10<00:00, 222.35it/s]\n",
            "\u001b[34m\u001b[1mval: \u001b[0mNew cache created: /content/drive/.shortcut-targets-by-id/12tFqb5y5978uxhwM1X48A2MsXmCS25He/CV2_proyecto/datasets/valid/labels.cache\n",
            "                 Class     Images  Instances      Box(P          R      mAP50  mAP50-95): 100% 140/140 [01:01<00:00,  2.28it/s]\n",
            "                   all       2236       4333      0.893       0.93      0.961       0.55\n",
            "                 glove       2236        958       0.89       0.89      0.946      0.496\n",
            "               goggles       2236        823      0.879      0.972      0.979       0.62\n",
            "                helmet       2236        283      0.957      0.986      0.988      0.566\n",
            "              no_glove       2236        799       0.86      0.926      0.963      0.582\n",
            "             no_helmet       2236        229       0.91      0.967      0.984      0.593\n",
            "            no_goggles       2236       1241       0.86      0.837      0.904      0.442\n",
            "Speed: 0.2ms pre-process, 5.1ms inference, 0.0ms loss, 2.4ms post-process per image\n"
          ]
        }
      ]
    },
    {
      "cell_type": "markdown",
      "source": [
        "## Inferencias"
      ],
      "metadata": {
        "id": "avo9B08itEyQ"
      }
    },
    {
      "cell_type": "code",
      "source": [
        "!yolo task=detect mode=predict model=/content/drive/MyDrive/CEIA/CV2_proyecto/train_new/weights/best.pt conf=0.5 source=/content/drive/MyDrive/CEIA/CV2_proyecto/images save=True"
      ],
      "metadata": {
        "id": "5ZSPoGFyWxEa",
        "colab": {
          "base_uri": "https://localhost:8080/"
        },
        "outputId": "0b5b0b1f-f626-44c3-d412-297b5ff14446"
      },
      "execution_count": null,
      "outputs": [
        {
          "output_type": "stream",
          "name": "stdout",
          "text": [
            "2023-04-25 23:24:10.629030: I tensorflow/core/platform/cpu_feature_guard.cc:182] This TensorFlow binary is optimized to use available CPU instructions in performance-critical operations.\n",
            "To enable the following instructions: AVX2 FMA, in other operations, rebuild TensorFlow with the appropriate compiler flags.\n",
            "2023-04-25 23:24:11.507788: W tensorflow/compiler/tf2tensorrt/utils/py_utils.cc:38] TF-TRT Warning: Could not find TensorRT\n",
            "Ultralytics YOLOv8.0.20 🚀 Python-3.9.16 torch-2.0.0+cu118 CUDA:0 (Tesla T4, 15102MiB)\n",
            "Model summary (fused): 168 layers, 11127906 parameters, 0 gradients, 28.4 GFLOPs\n",
            "image 1/4 /content/drive/.shortcut-targets-by-id/12tFqb5y5978uxhwM1X48A2MsXmCS25He/CV2_proyecto/images/007129-otherstationaryplantoperators.jpg: 384x640 2 helmets, 58.8ms\n",
            "image 2/4 /content/drive/.shortcut-targets-by-id/12tFqb5y5978uxhwM1X48A2MsXmCS25He/CV2_proyecto/images/Process-Technology-800x533.jpg: 448x640 3 helmets, 60.7ms\n",
            "image 3/4 /content/drive/.shortcut-targets-by-id/12tFqb5y5978uxhwM1X48A2MsXmCS25He/CV2_proyecto/images/manufacturing-industry-safety-practices-tips-standards.jpg: 288x640 2 helmets, 57.2ms\n",
            "image 4/4 /content/drive/.shortcut-targets-by-id/12tFqb5y5978uxhwM1X48A2MsXmCS25He/CV2_proyecto/images/operator.jpg: 480x640 2 goggless, 1 no_glove, 65.7ms\n",
            "Speed: 0.5ms pre-process, 60.6ms inference, 30.2ms postprocess per image at shape (1, 3, 640, 640)\n",
            "Results saved to \u001b[1mruns/detect/predict2\u001b[0m\n"
          ]
        }
      ]
    },
    {
      "cell_type": "code",
      "source": [
        "import glob\n",
        "from IPython.display import Image, display\n",
        "\n",
        "for image_path in glob.glob(f'/content/runs/detect/predict2/*.jpg')[:4]:\n",
        "      display(Image(filename=image_path, width=800))\n",
        "      print(\"\\n\")"
      ],
      "metadata": {
        "colab": {
          "base_uri": "https://localhost:8080/",
          "height": 1000
        },
        "id": "Pklfc_ZhuNSh",
        "outputId": "c18b4520-f2a2-4e95-8ddb-b4fb954d11b5"
      },
      "execution_count": null,
      "outputs": []
    },
    {
      "cell_type": "markdown",
      "source": [
        "# Scripts para editar DATASET\n",
        "\n",
        "Los siguientes scripts fueron ejecutados en entorno local, para editar el dataset y producir un balance mejor de las clases"
      ],
      "metadata": {
        "id": "cOkpi7fswpf-"
      }
    },
    {
      "cell_type": "markdown",
      "source": [
        "## Delete Class"
      ],
      "metadata": {
        "id": "ESABu2zpxEJG"
      }
    },
    {
      "cell_type": "code",
      "source": [
        "import os\n",
        "\n",
        "# Directorio donde se encuentran los archivos de texto\n",
        "directory = 'train/labels'\n",
        "\n",
        "# Número a buscar\n",
        "numero_a_buscar = [3,4,11,10,9,8]\n",
        "\n",
        "# # Bucle para recorrer todos los archivos de texto en el directorio\n",
        "for filename in os.listdir(directory):\n",
        "    if filename.endswith('.txt'):\n",
        "        filepath = os.path.join(directory, filename)\n",
        "        with open(filepath, 'r') as file:\n",
        "            lines = file.readlines()\n",
        "        with open(filepath, 'w') as file:\n",
        "            for line in lines:\n",
        "                if not line.startswith(numero_a_buscar):\n",
        "                    file.write(line)\n",
        "\n",
        "directory = 'valid/labels'\n",
        "\n",
        "for numero in numero_a_buscar:\n",
        "    # Bucle para recorrer todos los archivos de texto en el directorio\n",
        "    for filename in os.listdir(directory):\n",
        "        if filename.endswith('.txt'):\n",
        "            filepath = os.path.join(directory, filename)\n",
        "            with open(filepath, 'r') as file:\n",
        "                lines = file.readlines()\n",
        "            with open(filepath, 'w') as file:\n",
        "                for line in lines:\n",
        "                    if not line.startswith(str(numero)):\n",
        "                        file.write(line)"
      ],
      "metadata": {
        "id": "OaS6R-Zqu_L1"
      },
      "execution_count": null,
      "outputs": []
    },
    {
      "cell_type": "markdown",
      "source": [
        "## Change class number"
      ],
      "metadata": {
        "id": "l7g9jXEdxBhe"
      }
    },
    {
      "cell_type": "code",
      "source": [
        "import os\n",
        "\n",
        "# Directorio donde se encuentran los archivos de texto\n",
        "directory = 'train/labels'\n",
        "\n",
        "# Número a buscar\n",
        "numero_a_buscar = '6'\n",
        "\n",
        "# # Bucle para recorrer todos los archivos de texto en el directorio\n",
        "for filename in os.listdir(directory):\n",
        "    if filename.endswith('.txt'):\n",
        "        filepath = os.path.join(directory, filename)\n",
        "        with open(filepath, 'r') as file:\n",
        "            lines = file.readlines()\n",
        "        with open(filepath, 'w') as file:\n",
        "            for line in lines:\n",
        "                if line.startswith(numero_a_buscar):\n",
        "                    file.write('3'+line[1:])\n",
        "                else:\n",
        "                    file.write(line)\n",
        "\n",
        "directory = 'valid/labels'\n",
        "\n",
        "# Bucle para recorrer todos los archivos de texto en el directorio\n",
        "for filename in os.listdir(directory):\n",
        "    if filename.endswith('.txt'):\n",
        "        filepath = os.path.join(directory, filename)\n",
        "        with open(filepath, 'r') as file:\n",
        "            lines = file.readlines()\n",
        "        with open(filepath, 'w') as file:\n",
        "            for line in lines:\n",
        "                if line.startswith(numero_a_buscar):\n",
        "                    file.write('3'+line[1:])\n",
        "                else:\n",
        "                    file.write(line)"
      ],
      "metadata": {
        "id": "ups10pSTwvqv"
      },
      "execution_count": null,
      "outputs": []
    },
    {
      "cell_type": "markdown",
      "source": [
        "## Mover imagenes y labels eliminados"
      ],
      "metadata": {
        "id": "SMor3vXlw3Bv"
      }
    },
    {
      "cell_type": "code",
      "source": [
        "import os\n",
        "import shutil\n",
        "\n",
        "# # Directorios donde se encuentran los archivos de texto e imágenes\n",
        "labels_directory = 'train/labels'\n",
        "images_directory = 'train/images'\n",
        "\n",
        "# # Directorios donde se copiarán los archivos\n",
        "new_labels_directory = 'train/new_labels'\n",
        "new_images_directory = 'train/new_images'\n",
        "os.makedirs(new_labels_directory,exist_ok=True)\n",
        "os.makedirs(new_images_directory,exist_ok=True)\n",
        "\n",
        "# # Bucle para recorrer todos los archivos de texto en el directorio labels\n",
        "for filename in os.listdir(labels_directory):\n",
        "    if filename.endswith('.txt'):\n",
        "        filepath = os.path.join(labels_directory, filename)\n",
        "        with open(filepath, 'r') as file:\n",
        "            # Si el archivo de texto no está vacío\n",
        "            if file.read().strip():\n",
        "                # Copia el archivo de texto en la carpeta new_labels\n",
        "                new_labels_filepath = os.path.join(new_labels_directory, filename)\n",
        "                shutil.copyfile(filepath, new_labels_filepath)\n",
        "                # Copia el archivo de imagen correspondiente en la carpeta new_images\n",
        "                image_filename = os.path.splitext(filename)[0] + '.jpg'\n",
        "                image_filepath = os.path.join(images_directory, image_filename)\n",
        "                new_image_filepath = os.path.join(new_images_directory, image_filename)\n",
        "                shutil.copyfile(image_filepath, new_image_filepath)\n",
        "\n",
        "# Directorios donde se encuentran los archivos de texto e imágenes\n",
        "labels_directory = 'valid/labels'\n",
        "images_directory = 'valid/images'\n",
        "\n",
        "# Directorios donde se copiarán los archivos\n",
        "new_labels_directory = 'valid/new_labels'\n",
        "new_images_directory = 'valid/new_images'\n",
        "os.makedirs(new_labels_directory,exist_ok=True)\n",
        "os.makedirs(new_images_directory,exist_ok=True)\n",
        "\n",
        "# Bucle para recorrer todos los archivos de texto en el directorio labels\n",
        "for filename in os.listdir(labels_directory):\n",
        "    if filename.endswith('.txt'):\n",
        "        filepath = os.path.join(labels_directory, filename)\n",
        "        with open(filepath, 'r') as file:\n",
        "            # Si el archivo de texto no está vacío\n",
        "            if file.read().strip():\n",
        "                # Copia el archivo de texto en la carpeta new_labels\n",
        "                new_labels_filepath = os.path.join(new_labels_directory, filename)\n",
        "                shutil.copyfile(filepath, new_labels_filepath)\n",
        "                # Copia el archivo de imagen correspondiente en la carpeta new_images\n",
        "                image_filename = os.path.splitext(filename)[0] + '.jpg'\n",
        "                image_filepath = os.path.join(images_directory, image_filename)\n",
        "                new_image_filepath = os.path.join(new_images_directory, image_filename)\n",
        "                shutil.copyfile(image_filepath, new_image_filepath)"
      ],
      "metadata": {
        "id": "TeLY0su7wxb_"
      },
      "execution_count": null,
      "outputs": []
    },
    {
      "cell_type": "markdown",
      "source": [
        "## Contador de clases"
      ],
      "metadata": {
        "id": "RfbIf3-9w0H_"
      }
    },
    {
      "cell_type": "code",
      "source": [
        "import os\n",
        "import shutil\n",
        "import numpy as np\n",
        "\n",
        "# Directorio donde se encuentran los archivos de texto\n",
        "directory = 'train/labels'\n",
        "images_directory = 'train/images'\n",
        "\n",
        "# Directorios donde se copiarán los archivos\n",
        "for i in range(6):\n",
        "    new_labels_directory = f'train{i}/labels'\n",
        "    new_images_directory = f'train{i}/images'\n",
        "    os.makedirs(new_labels_directory,exist_ok=True)\n",
        "    os.makedirs(new_images_directory,exist_ok=True)\n",
        "\n",
        "# Número a buscar\n",
        "count=[0]*6\n",
        "count_multiple=[0]*6\n",
        "# Bucle para recorrer todos los archivos de texto en el directorio\n",
        "for filename in os.listdir(directory):\n",
        "    if filename.endswith('.txt'):\n",
        "        filepath = os.path.join(directory, filename)\n",
        "        with open(filepath, 'r') as file:\n",
        "            lines = file.readlines()\n",
        "        if len(lines)==1:\n",
        "            for i in range(6):\n",
        "                if lines[0].startswith(str(i)):\n",
        "                    count[i]+=1\n",
        "                    new_labels_directory = f'train{i}/labels'\n",
        "                    new_images_directory = f'train{i}/images'\n",
        "            # Copia el archivo de texto en la carpeta new_labels\n",
        "            new_labels_filepath = os.path.join(new_labels_directory, filename)\n",
        "            shutil.copyfile(filepath, new_labels_filepath)\n",
        "            # Copia el archivo de imagen correspondiente en la carpeta new_images\n",
        "            image_filename = os.path.splitext(filename)[0] + '.jpg'\n",
        "            image_filepath = os.path.join(images_directory, image_filename)\n",
        "            new_image_filepath = os.path.join(new_images_directory, image_filename)\n",
        "            shutil.copyfile(image_filepath, new_image_filepath)\n",
        "        else:\n",
        "            for line in lines:\n",
        "                for i in range(6):\n",
        "                    if line.startswith(str(i)):\n",
        "                        count_multiple[i]+=1\n",
        "print(\"####TRAIN####\")\n",
        "print(f\"Imagen con 1 label {count}\")\n",
        "print(f\"Imagen con >1 label {count_multiple}\")\n",
        "print(f\"Total {np.add(np.array(count_multiple),np.array(count))}\")\n",
        "\n",
        "directory = 'valid/labels'\n",
        "images_directory = 'valid/images'\n",
        "# Directorios donde se copiarán los archivos\n",
        "for i in range(6):\n",
        "    new_labels_directory = f'valid{i}/labels'\n",
        "    new_images_directory = f'valid{i}/images'\n",
        "    os.makedirs(new_labels_directory,exist_ok=True)\n",
        "    os.makedirs(new_images_directory,exist_ok=True)\n",
        "\n",
        "# Número a buscar\n",
        "count=[0]*6\n",
        "count_multiple=[0]*6\n",
        "# Bucle para recorrer todos los archivos de texto en el directorio\n",
        "for filename in os.listdir(directory):\n",
        "    if filename.endswith('.txt'):\n",
        "        filepath = os.path.join(directory, filename)\n",
        "        with open(filepath, 'r') as file:\n",
        "            lines = file.readlines()\n",
        "        if len(lines)==1:\n",
        "            for i in range(6):\n",
        "                if lines[0].startswith(str(i)):\n",
        "                    count[i]+=1\n",
        "                    new_labels_directory = f'valid{i}/labels'\n",
        "                    new_images_directory = f'valid{i}/images'\n",
        "            # Copia el archivo de texto en la carpeta new_labels\n",
        "            new_labels_filepath = os.path.join(new_labels_directory, filename)\n",
        "            shutil.copyfile(filepath, new_labels_filepath)\n",
        "            # Copia el archivo de imagen correspondiente en la carpeta new_images\n",
        "            image_filename = os.path.splitext(filename)[0] + '.jpg'\n",
        "            image_filepath = os.path.join(images_directory, image_filename)\n",
        "            new_image_filepath = os.path.join(new_images_directory, image_filename)\n",
        "            shutil.copyfile(image_filepath, new_image_filepath)\n",
        "        else:\n",
        "            for line in lines:\n",
        "                for i in range(6):\n",
        "                    if line.startswith(str(i)):\n",
        "                        count_multiple[i]+=1\n",
        "print(\"####VALID####\")\n",
        "print(f\"Imagen con 1 label {count}\")\n",
        "print(f\"Imagen con >1 label {count_multiple}\")\n",
        "print(f\"Total {np.add(np.array(count_multiple),np.array(count))}\")"
      ],
      "metadata": {
        "id": "UHnGGC1EwzA_"
      },
      "execution_count": null,
      "outputs": []
    }
  ]
}