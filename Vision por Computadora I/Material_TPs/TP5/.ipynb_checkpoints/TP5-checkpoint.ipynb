{
 "cells": [
  {
   "cell_type": "code",
   "execution_count": 3,
   "id": "5de2ec7a-0f59-41fd-8f86-accaf0f365a0",
   "metadata": {},
   "outputs": [],
   "source": [
    "import cv2\n",
    "import numpy as np\n",
    "import time"
   ]
  },
  {
   "cell_type": "code",
   "execution_count": 30,
   "id": "6a19212a-ece3-4bb0-ab58-32694a331e44",
   "metadata": {},
   "outputs": [],
   "source": [
    "def updateBackround(recent_frame):\n",
    "    background = np.median(np.array(recent_frame), axis=0)\n",
    "    return background\n",
    "\n",
    "\n",
    "def NaiveBackgroundSubstractor(N,tiempo):\n",
    "    filename = 'vtest.avi'\n",
    "    capture = cv2.VideoCapture(filename)\n",
    "\n",
    "    if not capture.isOpened:\n",
    "        print('Falla al abrir el archivo: ' + filename)\n",
    "        exit(0)\n",
    "    BUFFER_SIZE = N\n",
    "    recent_frame=[]\n",
    "    updateTime = time.time()\n",
    "    ret, frame = capture.read()\n",
    "    gray_frame = frame.copy()\n",
    "    background = cv2.cvtColor(gray_frame,cv2.COLOR_BGR2GRAY)\n",
    "    background=background.astype(np.float64)\n",
    "    while True:\n",
    "        # Leemos un frame\n",
    "        ret, frame = capture.read()\n",
    "        if frame is None:\n",
    "            break\n",
    "        gray_frame = frame.copy()\n",
    "        gray_frame = cv2.cvtColor(gray_frame,cv2.COLOR_BGR2GRAY)\n",
    "        decision = np.random.rand()\n",
    "        if decision>0.4:\n",
    "            recent_frame.append(gray_frame)\n",
    "            if len(recent_frame) > BUFFER_SIZE:\n",
    "                recent_frame = recent_frame[1:]\n",
    "        \n",
    "        if time.time()-updateTime>tiempo and len(recent_frame)>4:\n",
    "            updateTime=time.time()\n",
    "            background=updateBackround(recent_frame)\n",
    "        \n",
    "        gray_frame=gray_frame.astype(np.float64)\n",
    "        foreground=cv2.absdiff(gray_frame, background)\n",
    "        np.clip(foreground, 0, 255, out=foreground) \n",
    "        foreground = foreground.astype('uint8')\n",
    "        ret, thresh = cv2.threshold(foreground,120,255,cv2.THRESH_BINARY+cv2.THRESH_OTSU)\n",
    "        #thresh = cv2.bitwise_not(thresh, thresh)\n",
    "        img_segmentada = cv2.bitwise_and(frame, frame, mask=thresh)\n",
    "    \n",
    "        #out=np.hstack((img_segmentada,thresh))\n",
    "        out=img_segmentada\n",
    "        # Escribimos sobre la imagen el número de frame procesado\n",
    "        cv2.rectangle(out, (10, 2), (100,20), (255,255,255), -1)\n",
    "        cv2.putText(out, str(capture.get(cv2.CAP_PROP_POS_FRAMES)), (15, 15),\n",
    "                cv2.FONT_HERSHEY_SIMPLEX, 0.5 , (0,0,0))\n",
    "    \n",
    "        cv2.imshow('Frame', frame)\n",
    "        cv2.imshow('Segmentation', img_segmentada)\n",
    "        keyboard = cv2.waitKey(30)\n",
    "        if keyboard == 'q' or keyboard == 27:\n",
    "            break\n",
    "    cv2.destroyAllWindows()\n",
    "    capture.release()"
   ]
  },
  {
   "cell_type": "code",
   "execution_count": 31,
   "id": "55d01754-7f3d-4650-84f0-75f7a96c29c5",
   "metadata": {},
   "outputs": [],
   "source": [
    "NaiveBackgroundSubstractor(10,0.1)"
   ]
  },
  {
   "cell_type": "code",
   "execution_count": 11,
   "id": "9597f3a7-5093-4932-bdb1-3e5e40af4ce2",
   "metadata": {},
   "outputs": [],
   "source": [
    "def GaussianBackgroundSubstractor(metodo):\n",
    "    filename = 'vtest.avi'\n",
    "    capture = cv2.VideoCapture(filename)\n",
    "\n",
    "    if not capture.isOpened:\n",
    "        print('Falla al abrir el archivo: ' + filename)\n",
    "        exit(0)\n",
    "    if metodo == 'MOG2':\n",
    "        backSub = cv2.createBackgroundSubtractorMOG2()\n",
    "    elif metodo == 'KNN':\n",
    "        backSub = cv2.createBackgroundSubtractorKNN()\n",
    "        backSub = cv2.createBackgroundSubtractorKNN(detectShadows = True)\n",
    "    while True:\n",
    "        # Leemos un frame\n",
    "        ret, frame = capture.read()\n",
    "        if frame is None:\n",
    "            break\n",
    "        \n",
    "        # Aplicamos la sustracción al frame leído\n",
    "        #----------------------------------------\n",
    "        # Cada frame se utiliza tanto para calcular la máscara de primer plano como para actualizar el fondo.\n",
    "        # Si se desea cambiar la tasa de aprendizaje utilizada para actualizar el modelo de fondo, es posible\n",
    "        # establecer una tasa de aprendizaje específica pasando un parámetro al método apply.\n",
    "        fgMask = backSub.apply(frame)\n",
    "        \n",
    "        # Escribimos sobre la imagen el número de frame procesado\n",
    "        cv2.rectangle(frame, (10, 2), (100,20), (255,255,255), -1)\n",
    "        cv2.putText(frame, str(capture.get(cv2.CAP_PROP_POS_FRAMES)), (15, 15),\n",
    "                   cv2.FONT_HERSHEY_SIMPLEX, 0.5 , (0,0,0))\n",
    "        \n",
    "        # mostramos frame original e imagen binaria background/foreground\n",
    "        cv2.imshow('Frame', frame)\n",
    "        cv2.imshow('FG Mask', fgMask)\n",
    "        \n",
    "        # Corresmos hasta que termine o apriete escape\n",
    "        keyboard = cv2.waitKey(30)\n",
    "        if keyboard == 'q' or keyboard == 27:\n",
    "            break\n",
    "    \n",
    "    cv2.destroyAllWindows()\n",
    "    capture.release()"
   ]
  },
  {
   "cell_type": "code",
   "execution_count": 18,
   "id": "b0de064e-0615-4f6c-89ea-f34d7fc63953",
   "metadata": {},
   "outputs": [],
   "source": [
    "GaussianBackgroundSubstractor('MOG2')"
   ]
  },
  {
   "cell_type": "markdown",
   "id": "b47d4fd6-10ba-48b8-b844-294bc822f836",
   "metadata": {},
   "source": [
    "La substraccion de fondo basado en mezcla de gausianas es mas continuo sin embargo presenta mayores falsas detecciones. En el caso del metodo Naive implementado, el fondo es tomado bastante mejor, pero quedan algunos errores en la actualizacion del mismo cuando el foreground cambia."
   ]
  }
 ],
 "metadata": {
  "kernelspec": {
   "display_name": "Python 3 (ipykernel)",
   "language": "python",
   "name": "python3"
  },
  "language_info": {
   "codemirror_mode": {
    "name": "ipython",
    "version": 3
   },
   "file_extension": ".py",
   "mimetype": "text/x-python",
   "name": "python",
   "nbconvert_exporter": "python",
   "pygments_lexer": "ipython3",
   "version": "3.8.13"
  }
 },
 "nbformat": 4,
 "nbformat_minor": 5
}
